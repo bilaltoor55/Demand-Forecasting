{
  "cells": [
    {
      "cell_type": "markdown",
      "metadata": {
        "id": "Dx-fAQBfnlsc"
      },
      "source": [
        "### Import Libraries"
      ]
    },
    {
      "cell_type": "code",
      "execution_count": 1,
      "metadata": {
        "id": "GH_bLO9Lnlsl"
      },
      "outputs": [],
      "source": [
        "import numpy as np\n",
        "import pandas as pd\n",
        "import seaborn as sns\n",
        "import matplotlib.pyplot as plt\n",
        "%matplotlib inline\n",
        "from time import time\n",
        "\n",
        "import warnings\n",
        "warnings.filterwarnings(\"ignore\")"
      ]
    },
    {
      "cell_type": "markdown",
      "metadata": {
        "id": "okVV6kocnlsr"
      },
      "source": [
        "### Read CSV file and make a Pandas Dataframe"
      ]
    },
    {
      "cell_type": "code",
      "execution_count": 2,
      "metadata": {
        "colab": {
          "base_uri": "https://localhost:8080/",
          "height": 73
        },
        "id": "ajKwiWWSnlss",
        "outputId": "bf738cfd-153a-40c0-c4ea-f68efbc54add"
      },
      "outputs": [
        {
          "output_type": "display_data",
          "data": {
            "text/plain": [
              "<IPython.core.display.HTML object>"
            ],
            "text/html": [
              "\n",
              "     <input type=\"file\" id=\"files-25b6d5a0-aec9-46bf-bb5e-90dcbd471720\" name=\"files[]\" multiple disabled\n",
              "        style=\"border:none\" />\n",
              "     <output id=\"result-25b6d5a0-aec9-46bf-bb5e-90dcbd471720\">\n",
              "      Upload widget is only available when the cell has been executed in the\n",
              "      current browser session. Please rerun this cell to enable.\n",
              "      </output>\n",
              "      <script>// Copyright 2017 Google LLC\n",
              "//\n",
              "// Licensed under the Apache License, Version 2.0 (the \"License\");\n",
              "// you may not use this file except in compliance with the License.\n",
              "// You may obtain a copy of the License at\n",
              "//\n",
              "//      http://www.apache.org/licenses/LICENSE-2.0\n",
              "//\n",
              "// Unless required by applicable law or agreed to in writing, software\n",
              "// distributed under the License is distributed on an \"AS IS\" BASIS,\n",
              "// WITHOUT WARRANTIES OR CONDITIONS OF ANY KIND, either express or implied.\n",
              "// See the License for the specific language governing permissions and\n",
              "// limitations under the License.\n",
              "\n",
              "/**\n",
              " * @fileoverview Helpers for google.colab Python module.\n",
              " */\n",
              "(function(scope) {\n",
              "function span(text, styleAttributes = {}) {\n",
              "  const element = document.createElement('span');\n",
              "  element.textContent = text;\n",
              "  for (const key of Object.keys(styleAttributes)) {\n",
              "    element.style[key] = styleAttributes[key];\n",
              "  }\n",
              "  return element;\n",
              "}\n",
              "\n",
              "// Max number of bytes which will be uploaded at a time.\n",
              "const MAX_PAYLOAD_SIZE = 100 * 1024;\n",
              "\n",
              "function _uploadFiles(inputId, outputId) {\n",
              "  const steps = uploadFilesStep(inputId, outputId);\n",
              "  const outputElement = document.getElementById(outputId);\n",
              "  // Cache steps on the outputElement to make it available for the next call\n",
              "  // to uploadFilesContinue from Python.\n",
              "  outputElement.steps = steps;\n",
              "\n",
              "  return _uploadFilesContinue(outputId);\n",
              "}\n",
              "\n",
              "// This is roughly an async generator (not supported in the browser yet),\n",
              "// where there are multiple asynchronous steps and the Python side is going\n",
              "// to poll for completion of each step.\n",
              "// This uses a Promise to block the python side on completion of each step,\n",
              "// then passes the result of the previous step as the input to the next step.\n",
              "function _uploadFilesContinue(outputId) {\n",
              "  const outputElement = document.getElementById(outputId);\n",
              "  const steps = outputElement.steps;\n",
              "\n",
              "  const next = steps.next(outputElement.lastPromiseValue);\n",
              "  return Promise.resolve(next.value.promise).then((value) => {\n",
              "    // Cache the last promise value to make it available to the next\n",
              "    // step of the generator.\n",
              "    outputElement.lastPromiseValue = value;\n",
              "    return next.value.response;\n",
              "  });\n",
              "}\n",
              "\n",
              "/**\n",
              " * Generator function which is called between each async step of the upload\n",
              " * process.\n",
              " * @param {string} inputId Element ID of the input file picker element.\n",
              " * @param {string} outputId Element ID of the output display.\n",
              " * @return {!Iterable<!Object>} Iterable of next steps.\n",
              " */\n",
              "function* uploadFilesStep(inputId, outputId) {\n",
              "  const inputElement = document.getElementById(inputId);\n",
              "  inputElement.disabled = false;\n",
              "\n",
              "  const outputElement = document.getElementById(outputId);\n",
              "  outputElement.innerHTML = '';\n",
              "\n",
              "  const pickedPromise = new Promise((resolve) => {\n",
              "    inputElement.addEventListener('change', (e) => {\n",
              "      resolve(e.target.files);\n",
              "    });\n",
              "  });\n",
              "\n",
              "  const cancel = document.createElement('button');\n",
              "  inputElement.parentElement.appendChild(cancel);\n",
              "  cancel.textContent = 'Cancel upload';\n",
              "  const cancelPromise = new Promise((resolve) => {\n",
              "    cancel.onclick = () => {\n",
              "      resolve(null);\n",
              "    };\n",
              "  });\n",
              "\n",
              "  // Wait for the user to pick the files.\n",
              "  const files = yield {\n",
              "    promise: Promise.race([pickedPromise, cancelPromise]),\n",
              "    response: {\n",
              "      action: 'starting',\n",
              "    }\n",
              "  };\n",
              "\n",
              "  cancel.remove();\n",
              "\n",
              "  // Disable the input element since further picks are not allowed.\n",
              "  inputElement.disabled = true;\n",
              "\n",
              "  if (!files) {\n",
              "    return {\n",
              "      response: {\n",
              "        action: 'complete',\n",
              "      }\n",
              "    };\n",
              "  }\n",
              "\n",
              "  for (const file of files) {\n",
              "    const li = document.createElement('li');\n",
              "    li.append(span(file.name, {fontWeight: 'bold'}));\n",
              "    li.append(span(\n",
              "        `(${file.type || 'n/a'}) - ${file.size} bytes, ` +\n",
              "        `last modified: ${\n",
              "            file.lastModifiedDate ? file.lastModifiedDate.toLocaleDateString() :\n",
              "                                    'n/a'} - `));\n",
              "    const percent = span('0% done');\n",
              "    li.appendChild(percent);\n",
              "\n",
              "    outputElement.appendChild(li);\n",
              "\n",
              "    const fileDataPromise = new Promise((resolve) => {\n",
              "      const reader = new FileReader();\n",
              "      reader.onload = (e) => {\n",
              "        resolve(e.target.result);\n",
              "      };\n",
              "      reader.readAsArrayBuffer(file);\n",
              "    });\n",
              "    // Wait for the data to be ready.\n",
              "    let fileData = yield {\n",
              "      promise: fileDataPromise,\n",
              "      response: {\n",
              "        action: 'continue',\n",
              "      }\n",
              "    };\n",
              "\n",
              "    // Use a chunked sending to avoid message size limits. See b/62115660.\n",
              "    let position = 0;\n",
              "    do {\n",
              "      const length = Math.min(fileData.byteLength - position, MAX_PAYLOAD_SIZE);\n",
              "      const chunk = new Uint8Array(fileData, position, length);\n",
              "      position += length;\n",
              "\n",
              "      const base64 = btoa(String.fromCharCode.apply(null, chunk));\n",
              "      yield {\n",
              "        response: {\n",
              "          action: 'append',\n",
              "          file: file.name,\n",
              "          data: base64,\n",
              "        },\n",
              "      };\n",
              "\n",
              "      let percentDone = fileData.byteLength === 0 ?\n",
              "          100 :\n",
              "          Math.round((position / fileData.byteLength) * 100);\n",
              "      percent.textContent = `${percentDone}% done`;\n",
              "\n",
              "    } while (position < fileData.byteLength);\n",
              "  }\n",
              "\n",
              "  // All done.\n",
              "  yield {\n",
              "    response: {\n",
              "      action: 'complete',\n",
              "    }\n",
              "  };\n",
              "}\n",
              "\n",
              "scope.google = scope.google || {};\n",
              "scope.google.colab = scope.google.colab || {};\n",
              "scope.google.colab._files = {\n",
              "  _uploadFiles,\n",
              "  _uploadFilesContinue,\n",
              "};\n",
              "})(self);\n",
              "</script> "
            ]
          },
          "metadata": {}
        },
        {
          "output_type": "stream",
          "name": "stdout",
          "text": [
            "Saving Data.csv to Data.csv\n"
          ]
        }
      ],
      "source": [
        "from google.colab import files\n",
        "uploaded = files.upload()"
      ]
    },
    {
      "cell_type": "code",
      "source": [
        "import io\n",
        "data = pd.read_csv(io.BytesIO(uploaded['Data.csv']))\n",
        "# Dataset is now stored in a Pandas Dataframe"
      ],
      "metadata": {
        "id": "0fTLVexqo5Ct"
      },
      "execution_count": 3,
      "outputs": []
    },
    {
      "cell_type": "code",
      "execution_count": 4,
      "metadata": {
        "colab": {
          "base_uri": "https://localhost:8080/",
          "height": 206
        },
        "id": "NJXVCo4Jnlss",
        "outputId": "ef4a3097-f47e-48f5-8b40-47d276e2fbed"
      },
      "outputs": [
        {
          "output_type": "execute_result",
          "data": {
            "text/plain": [
              "    Category Name order date (DateOrders)  Order Item Discount  \\\n",
              "0  Sporting Goods         1/31/2018 22:56            13.110000   \n",
              "1  Sporting Goods         1/13/2018 12:27            16.389999   \n",
              "2  Sporting Goods         1/13/2018 12:06            18.030001   \n",
              "3  Sporting Goods         1/13/2018 11:45            22.940001   \n",
              "4  Sporting Goods         1/13/2018 11:24            29.500000   \n",
              "\n",
              "   Order Item Quantity   Sales  \n",
              "0                    1  327.75  \n",
              "1                    1  327.75  \n",
              "2                    1  327.75  \n",
              "3                    1  327.75  \n",
              "4                    1  327.75  "
            ],
            "text/html": [
              "\n",
              "  <div id=\"df-bccee84f-2e2e-420e-9834-4871870d08b5\">\n",
              "    <div class=\"colab-df-container\">\n",
              "      <div>\n",
              "<style scoped>\n",
              "    .dataframe tbody tr th:only-of-type {\n",
              "        vertical-align: middle;\n",
              "    }\n",
              "\n",
              "    .dataframe tbody tr th {\n",
              "        vertical-align: top;\n",
              "    }\n",
              "\n",
              "    .dataframe thead th {\n",
              "        text-align: right;\n",
              "    }\n",
              "</style>\n",
              "<table border=\"1\" class=\"dataframe\">\n",
              "  <thead>\n",
              "    <tr style=\"text-align: right;\">\n",
              "      <th></th>\n",
              "      <th>Category Name</th>\n",
              "      <th>order date (DateOrders)</th>\n",
              "      <th>Order Item Discount</th>\n",
              "      <th>Order Item Quantity</th>\n",
              "      <th>Sales</th>\n",
              "    </tr>\n",
              "  </thead>\n",
              "  <tbody>\n",
              "    <tr>\n",
              "      <th>0</th>\n",
              "      <td>Sporting Goods</td>\n",
              "      <td>1/31/2018 22:56</td>\n",
              "      <td>13.110000</td>\n",
              "      <td>1</td>\n",
              "      <td>327.75</td>\n",
              "    </tr>\n",
              "    <tr>\n",
              "      <th>1</th>\n",
              "      <td>Sporting Goods</td>\n",
              "      <td>1/13/2018 12:27</td>\n",
              "      <td>16.389999</td>\n",
              "      <td>1</td>\n",
              "      <td>327.75</td>\n",
              "    </tr>\n",
              "    <tr>\n",
              "      <th>2</th>\n",
              "      <td>Sporting Goods</td>\n",
              "      <td>1/13/2018 12:06</td>\n",
              "      <td>18.030001</td>\n",
              "      <td>1</td>\n",
              "      <td>327.75</td>\n",
              "    </tr>\n",
              "    <tr>\n",
              "      <th>3</th>\n",
              "      <td>Sporting Goods</td>\n",
              "      <td>1/13/2018 11:45</td>\n",
              "      <td>22.940001</td>\n",
              "      <td>1</td>\n",
              "      <td>327.75</td>\n",
              "    </tr>\n",
              "    <tr>\n",
              "      <th>4</th>\n",
              "      <td>Sporting Goods</td>\n",
              "      <td>1/13/2018 11:24</td>\n",
              "      <td>29.500000</td>\n",
              "      <td>1</td>\n",
              "      <td>327.75</td>\n",
              "    </tr>\n",
              "  </tbody>\n",
              "</table>\n",
              "</div>\n",
              "      <button class=\"colab-df-convert\" onclick=\"convertToInteractive('df-bccee84f-2e2e-420e-9834-4871870d08b5')\"\n",
              "              title=\"Convert this dataframe to an interactive table.\"\n",
              "              style=\"display:none;\">\n",
              "        \n",
              "  <svg xmlns=\"http://www.w3.org/2000/svg\" height=\"24px\"viewBox=\"0 0 24 24\"\n",
              "       width=\"24px\">\n",
              "    <path d=\"M0 0h24v24H0V0z\" fill=\"none\"/>\n",
              "    <path d=\"M18.56 5.44l.94 2.06.94-2.06 2.06-.94-2.06-.94-.94-2.06-.94 2.06-2.06.94zm-11 1L8.5 8.5l.94-2.06 2.06-.94-2.06-.94L8.5 2.5l-.94 2.06-2.06.94zm10 10l.94 2.06.94-2.06 2.06-.94-2.06-.94-.94-2.06-.94 2.06-2.06.94z\"/><path d=\"M17.41 7.96l-1.37-1.37c-.4-.4-.92-.59-1.43-.59-.52 0-1.04.2-1.43.59L10.3 9.45l-7.72 7.72c-.78.78-.78 2.05 0 2.83L4 21.41c.39.39.9.59 1.41.59.51 0 1.02-.2 1.41-.59l7.78-7.78 2.81-2.81c.8-.78.8-2.07 0-2.86zM5.41 20L4 18.59l7.72-7.72 1.47 1.35L5.41 20z\"/>\n",
              "  </svg>\n",
              "      </button>\n",
              "      \n",
              "  <style>\n",
              "    .colab-df-container {\n",
              "      display:flex;\n",
              "      flex-wrap:wrap;\n",
              "      gap: 12px;\n",
              "    }\n",
              "\n",
              "    .colab-df-convert {\n",
              "      background-color: #E8F0FE;\n",
              "      border: none;\n",
              "      border-radius: 50%;\n",
              "      cursor: pointer;\n",
              "      display: none;\n",
              "      fill: #1967D2;\n",
              "      height: 32px;\n",
              "      padding: 0 0 0 0;\n",
              "      width: 32px;\n",
              "    }\n",
              "\n",
              "    .colab-df-convert:hover {\n",
              "      background-color: #E2EBFA;\n",
              "      box-shadow: 0px 1px 2px rgba(60, 64, 67, 0.3), 0px 1px 3px 1px rgba(60, 64, 67, 0.15);\n",
              "      fill: #174EA6;\n",
              "    }\n",
              "\n",
              "    [theme=dark] .colab-df-convert {\n",
              "      background-color: #3B4455;\n",
              "      fill: #D2E3FC;\n",
              "    }\n",
              "\n",
              "    [theme=dark] .colab-df-convert:hover {\n",
              "      background-color: #434B5C;\n",
              "      box-shadow: 0px 1px 3px 1px rgba(0, 0, 0, 0.15);\n",
              "      filter: drop-shadow(0px 1px 2px rgba(0, 0, 0, 0.3));\n",
              "      fill: #FFFFFF;\n",
              "    }\n",
              "  </style>\n",
              "\n",
              "      <script>\n",
              "        const buttonEl =\n",
              "          document.querySelector('#df-bccee84f-2e2e-420e-9834-4871870d08b5 button.colab-df-convert');\n",
              "        buttonEl.style.display =\n",
              "          google.colab.kernel.accessAllowed ? 'block' : 'none';\n",
              "\n",
              "        async function convertToInteractive(key) {\n",
              "          const element = document.querySelector('#df-bccee84f-2e2e-420e-9834-4871870d08b5');\n",
              "          const dataTable =\n",
              "            await google.colab.kernel.invokeFunction('convertToInteractive',\n",
              "                                                     [key], {});\n",
              "          if (!dataTable) return;\n",
              "\n",
              "          const docLinkHtml = 'Like what you see? Visit the ' +\n",
              "            '<a target=\"_blank\" href=https://colab.research.google.com/notebooks/data_table.ipynb>data table notebook</a>'\n",
              "            + ' to learn more about interactive tables.';\n",
              "          element.innerHTML = '';\n",
              "          dataTable['output_type'] = 'display_data';\n",
              "          await google.colab.output.renderOutput(dataTable, element);\n",
              "          const docLink = document.createElement('div');\n",
              "          docLink.innerHTML = docLinkHtml;\n",
              "          element.appendChild(docLink);\n",
              "        }\n",
              "      </script>\n",
              "    </div>\n",
              "  </div>\n",
              "  "
            ]
          },
          "metadata": {},
          "execution_count": 4
        }
      ],
      "source": [
        "data.head(5)"
      ]
    },
    {
      "cell_type": "code",
      "execution_count": 5,
      "metadata": {
        "colab": {
          "base_uri": "https://localhost:8080/"
        },
        "id": "ir06Zhzsnlst",
        "outputId": "1a85fa35-9e90-4925-fcd6-74e74730a94d"
      },
      "outputs": [
        {
          "output_type": "execute_result",
          "data": {
            "text/plain": [
              "array(['Sporting Goods', 'Cleats', 'Shop By Sport', \"Women's Apparel\",\n",
              "       'Electronics', 'Boxing & MMA', 'Cardio Equipment', 'Trade-In',\n",
              "       \"Kids' Golf Clubs\", 'Hunting & Shooting', 'Baseball & Softball',\n",
              "       \"Men's Footwear\", 'Camping & Hiking', 'Consumer Electronics',\n",
              "       'Cameras ', 'Computers', 'Basketball', 'Soccer', \"Girls' Apparel\",\n",
              "       'Accessories', \"Women's Clothing\", 'Crafts', \"Men's Clothing\",\n",
              "       'Tennis & Racquet', 'Fitness Accessories', 'As Seen on  TV!',\n",
              "       'Golf Balls', 'Strength Training', \"Children's Clothing\",\n",
              "       'Lacrosse', 'Baby ', 'Fishing', 'Books ', 'DVDs', 'CDs ', 'Garden',\n",
              "       'Hockey', 'Pet Supplies', 'Health and Beauty', 'Music',\n",
              "       'Video Games', 'Golf Gloves', 'Golf Bags & Carts', 'Golf Shoes',\n",
              "       'Golf Apparel', \"Women's Golf Clubs\", \"Men's Golf Clubs\", 'Toys',\n",
              "       'Water Sports', 'Indoor/Outdoor Games'], dtype=object)"
            ]
          },
          "metadata": {},
          "execution_count": 5
        }
      ],
      "source": [
        "data[\"Category Name\"].unique()"
      ]
    },
    {
      "cell_type": "markdown",
      "metadata": {
        "id": "rRfqqFBunlst"
      },
      "source": [
        "### Feature Extraction for working upon on Dataframe"
      ]
    },
    {
      "cell_type": "code",
      "execution_count": 6,
      "metadata": {
        "id": "SUd3DlRsnlsu"
      },
      "outputs": [],
      "source": [
        "filter = data['Category Name'].isin([\"Camping & Hiking\"])\n",
        "#display the filter\n",
        "filter5 = data[filter]"
      ]
    },
    {
      "cell_type": "code",
      "execution_count": 7,
      "metadata": {
        "colab": {
          "base_uri": "https://localhost:8080/"
        },
        "id": "XFaor89pnlsu",
        "outputId": "fd6dd797-5e5d-4423-a9bc-85bbd8674c8b"
      },
      "outputs": [
        {
          "output_type": "execute_result",
          "data": {
            "text/plain": [
              "(13729, 5)"
            ]
          },
          "metadata": {},
          "execution_count": 7
        }
      ],
      "source": [
        "filter5.shape"
      ]
    },
    {
      "cell_type": "code",
      "execution_count": 8,
      "metadata": {
        "colab": {
          "base_uri": "https://localhost:8080/",
          "height": 206
        },
        "id": "QUdoQKlMnlsu",
        "outputId": "5b451d64-1930-448c-fde8-daf3e1d1dc2d"
      },
      "outputs": [
        {
          "output_type": "execute_result",
          "data": {
            "text/plain": [
              "         Category Name order date (DateOrders)  Order Item Discount  \\\n",
              "143   Camping & Hiking         11/3/2016 21:49                  3.0   \n",
              "144   Camping & Hiking         8/25/2016 22:16                  6.0   \n",
              "1343  Camping & Hiking           1/5/2017 4:24                  9.0   \n",
              "1344  Camping & Hiking         9/18/2016 12:26                 12.0   \n",
              "1345  Camping & Hiking         11/30/2016 7:57                 21.0   \n",
              "\n",
              "      Order Item Quantity       Sales  \n",
              "143                     1  299.980011  \n",
              "144                     1  299.980011  \n",
              "1343                    1  299.980011  \n",
              "1344                    1  299.980011  \n",
              "1345                    1  299.980011  "
            ],
            "text/html": [
              "\n",
              "  <div id=\"df-697bf422-b4ee-47a7-a48b-52de3e7363a4\">\n",
              "    <div class=\"colab-df-container\">\n",
              "      <div>\n",
              "<style scoped>\n",
              "    .dataframe tbody tr th:only-of-type {\n",
              "        vertical-align: middle;\n",
              "    }\n",
              "\n",
              "    .dataframe tbody tr th {\n",
              "        vertical-align: top;\n",
              "    }\n",
              "\n",
              "    .dataframe thead th {\n",
              "        text-align: right;\n",
              "    }\n",
              "</style>\n",
              "<table border=\"1\" class=\"dataframe\">\n",
              "  <thead>\n",
              "    <tr style=\"text-align: right;\">\n",
              "      <th></th>\n",
              "      <th>Category Name</th>\n",
              "      <th>order date (DateOrders)</th>\n",
              "      <th>Order Item Discount</th>\n",
              "      <th>Order Item Quantity</th>\n",
              "      <th>Sales</th>\n",
              "    </tr>\n",
              "  </thead>\n",
              "  <tbody>\n",
              "    <tr>\n",
              "      <th>143</th>\n",
              "      <td>Camping &amp; Hiking</td>\n",
              "      <td>11/3/2016 21:49</td>\n",
              "      <td>3.0</td>\n",
              "      <td>1</td>\n",
              "      <td>299.980011</td>\n",
              "    </tr>\n",
              "    <tr>\n",
              "      <th>144</th>\n",
              "      <td>Camping &amp; Hiking</td>\n",
              "      <td>8/25/2016 22:16</td>\n",
              "      <td>6.0</td>\n",
              "      <td>1</td>\n",
              "      <td>299.980011</td>\n",
              "    </tr>\n",
              "    <tr>\n",
              "      <th>1343</th>\n",
              "      <td>Camping &amp; Hiking</td>\n",
              "      <td>1/5/2017 4:24</td>\n",
              "      <td>9.0</td>\n",
              "      <td>1</td>\n",
              "      <td>299.980011</td>\n",
              "    </tr>\n",
              "    <tr>\n",
              "      <th>1344</th>\n",
              "      <td>Camping &amp; Hiking</td>\n",
              "      <td>9/18/2016 12:26</td>\n",
              "      <td>12.0</td>\n",
              "      <td>1</td>\n",
              "      <td>299.980011</td>\n",
              "    </tr>\n",
              "    <tr>\n",
              "      <th>1345</th>\n",
              "      <td>Camping &amp; Hiking</td>\n",
              "      <td>11/30/2016 7:57</td>\n",
              "      <td>21.0</td>\n",
              "      <td>1</td>\n",
              "      <td>299.980011</td>\n",
              "    </tr>\n",
              "  </tbody>\n",
              "</table>\n",
              "</div>\n",
              "      <button class=\"colab-df-convert\" onclick=\"convertToInteractive('df-697bf422-b4ee-47a7-a48b-52de3e7363a4')\"\n",
              "              title=\"Convert this dataframe to an interactive table.\"\n",
              "              style=\"display:none;\">\n",
              "        \n",
              "  <svg xmlns=\"http://www.w3.org/2000/svg\" height=\"24px\"viewBox=\"0 0 24 24\"\n",
              "       width=\"24px\">\n",
              "    <path d=\"M0 0h24v24H0V0z\" fill=\"none\"/>\n",
              "    <path d=\"M18.56 5.44l.94 2.06.94-2.06 2.06-.94-2.06-.94-.94-2.06-.94 2.06-2.06.94zm-11 1L8.5 8.5l.94-2.06 2.06-.94-2.06-.94L8.5 2.5l-.94 2.06-2.06.94zm10 10l.94 2.06.94-2.06 2.06-.94-2.06-.94-.94-2.06-.94 2.06-2.06.94z\"/><path d=\"M17.41 7.96l-1.37-1.37c-.4-.4-.92-.59-1.43-.59-.52 0-1.04.2-1.43.59L10.3 9.45l-7.72 7.72c-.78.78-.78 2.05 0 2.83L4 21.41c.39.39.9.59 1.41.59.51 0 1.02-.2 1.41-.59l7.78-7.78 2.81-2.81c.8-.78.8-2.07 0-2.86zM5.41 20L4 18.59l7.72-7.72 1.47 1.35L5.41 20z\"/>\n",
              "  </svg>\n",
              "      </button>\n",
              "      \n",
              "  <style>\n",
              "    .colab-df-container {\n",
              "      display:flex;\n",
              "      flex-wrap:wrap;\n",
              "      gap: 12px;\n",
              "    }\n",
              "\n",
              "    .colab-df-convert {\n",
              "      background-color: #E8F0FE;\n",
              "      border: none;\n",
              "      border-radius: 50%;\n",
              "      cursor: pointer;\n",
              "      display: none;\n",
              "      fill: #1967D2;\n",
              "      height: 32px;\n",
              "      padding: 0 0 0 0;\n",
              "      width: 32px;\n",
              "    }\n",
              "\n",
              "    .colab-df-convert:hover {\n",
              "      background-color: #E2EBFA;\n",
              "      box-shadow: 0px 1px 2px rgba(60, 64, 67, 0.3), 0px 1px 3px 1px rgba(60, 64, 67, 0.15);\n",
              "      fill: #174EA6;\n",
              "    }\n",
              "\n",
              "    [theme=dark] .colab-df-convert {\n",
              "      background-color: #3B4455;\n",
              "      fill: #D2E3FC;\n",
              "    }\n",
              "\n",
              "    [theme=dark] .colab-df-convert:hover {\n",
              "      background-color: #434B5C;\n",
              "      box-shadow: 0px 1px 3px 1px rgba(0, 0, 0, 0.15);\n",
              "      filter: drop-shadow(0px 1px 2px rgba(0, 0, 0, 0.3));\n",
              "      fill: #FFFFFF;\n",
              "    }\n",
              "  </style>\n",
              "\n",
              "      <script>\n",
              "        const buttonEl =\n",
              "          document.querySelector('#df-697bf422-b4ee-47a7-a48b-52de3e7363a4 button.colab-df-convert');\n",
              "        buttonEl.style.display =\n",
              "          google.colab.kernel.accessAllowed ? 'block' : 'none';\n",
              "\n",
              "        async function convertToInteractive(key) {\n",
              "          const element = document.querySelector('#df-697bf422-b4ee-47a7-a48b-52de3e7363a4');\n",
              "          const dataTable =\n",
              "            await google.colab.kernel.invokeFunction('convertToInteractive',\n",
              "                                                     [key], {});\n",
              "          if (!dataTable) return;\n",
              "\n",
              "          const docLinkHtml = 'Like what you see? Visit the ' +\n",
              "            '<a target=\"_blank\" href=https://colab.research.google.com/notebooks/data_table.ipynb>data table notebook</a>'\n",
              "            + ' to learn more about interactive tables.';\n",
              "          element.innerHTML = '';\n",
              "          dataTable['output_type'] = 'display_data';\n",
              "          await google.colab.output.renderOutput(dataTable, element);\n",
              "          const docLink = document.createElement('div');\n",
              "          docLink.innerHTML = docLinkHtml;\n",
              "          element.appendChild(docLink);\n",
              "        }\n",
              "      </script>\n",
              "    </div>\n",
              "  </div>\n",
              "  "
            ]
          },
          "metadata": {},
          "execution_count": 8
        }
      ],
      "source": [
        "filter5.head()"
      ]
    },
    {
      "cell_type": "code",
      "execution_count": 9,
      "metadata": {
        "colab": {
          "base_uri": "https://localhost:8080/",
          "height": 206
        },
        "id": "dzOy39QInlsu",
        "outputId": "7810e0c4-ba61-4f68-846b-7c38c17946d3"
      },
      "outputs": [
        {
          "output_type": "execute_result",
          "data": {
            "text/plain": [
              "     order date (DateOrders)       Sales  Order Item Quantity  \\\n",
              "143          11/3/2016 21:49  299.980011                    1   \n",
              "144          8/25/2016 22:16  299.980011                    1   \n",
              "1343           1/5/2017 4:24  299.980011                    1   \n",
              "1344         9/18/2016 12:26  299.980011                    1   \n",
              "1345         11/30/2016 7:57  299.980011                    1   \n",
              "\n",
              "      Order Item Discount  \n",
              "143                   3.0  \n",
              "144                   6.0  \n",
              "1343                  9.0  \n",
              "1344                 12.0  \n",
              "1345                 21.0  "
            ],
            "text/html": [
              "\n",
              "  <div id=\"df-7656bf92-701f-4369-b7ca-c86dbe9e05e5\">\n",
              "    <div class=\"colab-df-container\">\n",
              "      <div>\n",
              "<style scoped>\n",
              "    .dataframe tbody tr th:only-of-type {\n",
              "        vertical-align: middle;\n",
              "    }\n",
              "\n",
              "    .dataframe tbody tr th {\n",
              "        vertical-align: top;\n",
              "    }\n",
              "\n",
              "    .dataframe thead th {\n",
              "        text-align: right;\n",
              "    }\n",
              "</style>\n",
              "<table border=\"1\" class=\"dataframe\">\n",
              "  <thead>\n",
              "    <tr style=\"text-align: right;\">\n",
              "      <th></th>\n",
              "      <th>order date (DateOrders)</th>\n",
              "      <th>Sales</th>\n",
              "      <th>Order Item Quantity</th>\n",
              "      <th>Order Item Discount</th>\n",
              "    </tr>\n",
              "  </thead>\n",
              "  <tbody>\n",
              "    <tr>\n",
              "      <th>143</th>\n",
              "      <td>11/3/2016 21:49</td>\n",
              "      <td>299.980011</td>\n",
              "      <td>1</td>\n",
              "      <td>3.0</td>\n",
              "    </tr>\n",
              "    <tr>\n",
              "      <th>144</th>\n",
              "      <td>8/25/2016 22:16</td>\n",
              "      <td>299.980011</td>\n",
              "      <td>1</td>\n",
              "      <td>6.0</td>\n",
              "    </tr>\n",
              "    <tr>\n",
              "      <th>1343</th>\n",
              "      <td>1/5/2017 4:24</td>\n",
              "      <td>299.980011</td>\n",
              "      <td>1</td>\n",
              "      <td>9.0</td>\n",
              "    </tr>\n",
              "    <tr>\n",
              "      <th>1344</th>\n",
              "      <td>9/18/2016 12:26</td>\n",
              "      <td>299.980011</td>\n",
              "      <td>1</td>\n",
              "      <td>12.0</td>\n",
              "    </tr>\n",
              "    <tr>\n",
              "      <th>1345</th>\n",
              "      <td>11/30/2016 7:57</td>\n",
              "      <td>299.980011</td>\n",
              "      <td>1</td>\n",
              "      <td>21.0</td>\n",
              "    </tr>\n",
              "  </tbody>\n",
              "</table>\n",
              "</div>\n",
              "      <button class=\"colab-df-convert\" onclick=\"convertToInteractive('df-7656bf92-701f-4369-b7ca-c86dbe9e05e5')\"\n",
              "              title=\"Convert this dataframe to an interactive table.\"\n",
              "              style=\"display:none;\">\n",
              "        \n",
              "  <svg xmlns=\"http://www.w3.org/2000/svg\" height=\"24px\"viewBox=\"0 0 24 24\"\n",
              "       width=\"24px\">\n",
              "    <path d=\"M0 0h24v24H0V0z\" fill=\"none\"/>\n",
              "    <path d=\"M18.56 5.44l.94 2.06.94-2.06 2.06-.94-2.06-.94-.94-2.06-.94 2.06-2.06.94zm-11 1L8.5 8.5l.94-2.06 2.06-.94-2.06-.94L8.5 2.5l-.94 2.06-2.06.94zm10 10l.94 2.06.94-2.06 2.06-.94-2.06-.94-.94-2.06-.94 2.06-2.06.94z\"/><path d=\"M17.41 7.96l-1.37-1.37c-.4-.4-.92-.59-1.43-.59-.52 0-1.04.2-1.43.59L10.3 9.45l-7.72 7.72c-.78.78-.78 2.05 0 2.83L4 21.41c.39.39.9.59 1.41.59.51 0 1.02-.2 1.41-.59l7.78-7.78 2.81-2.81c.8-.78.8-2.07 0-2.86zM5.41 20L4 18.59l7.72-7.72 1.47 1.35L5.41 20z\"/>\n",
              "  </svg>\n",
              "      </button>\n",
              "      \n",
              "  <style>\n",
              "    .colab-df-container {\n",
              "      display:flex;\n",
              "      flex-wrap:wrap;\n",
              "      gap: 12px;\n",
              "    }\n",
              "\n",
              "    .colab-df-convert {\n",
              "      background-color: #E8F0FE;\n",
              "      border: none;\n",
              "      border-radius: 50%;\n",
              "      cursor: pointer;\n",
              "      display: none;\n",
              "      fill: #1967D2;\n",
              "      height: 32px;\n",
              "      padding: 0 0 0 0;\n",
              "      width: 32px;\n",
              "    }\n",
              "\n",
              "    .colab-df-convert:hover {\n",
              "      background-color: #E2EBFA;\n",
              "      box-shadow: 0px 1px 2px rgba(60, 64, 67, 0.3), 0px 1px 3px 1px rgba(60, 64, 67, 0.15);\n",
              "      fill: #174EA6;\n",
              "    }\n",
              "\n",
              "    [theme=dark] .colab-df-convert {\n",
              "      background-color: #3B4455;\n",
              "      fill: #D2E3FC;\n",
              "    }\n",
              "\n",
              "    [theme=dark] .colab-df-convert:hover {\n",
              "      background-color: #434B5C;\n",
              "      box-shadow: 0px 1px 3px 1px rgba(0, 0, 0, 0.15);\n",
              "      filter: drop-shadow(0px 1px 2px rgba(0, 0, 0, 0.3));\n",
              "      fill: #FFFFFF;\n",
              "    }\n",
              "  </style>\n",
              "\n",
              "      <script>\n",
              "        const buttonEl =\n",
              "          document.querySelector('#df-7656bf92-701f-4369-b7ca-c86dbe9e05e5 button.colab-df-convert');\n",
              "        buttonEl.style.display =\n",
              "          google.colab.kernel.accessAllowed ? 'block' : 'none';\n",
              "\n",
              "        async function convertToInteractive(key) {\n",
              "          const element = document.querySelector('#df-7656bf92-701f-4369-b7ca-c86dbe9e05e5');\n",
              "          const dataTable =\n",
              "            await google.colab.kernel.invokeFunction('convertToInteractive',\n",
              "                                                     [key], {});\n",
              "          if (!dataTable) return;\n",
              "\n",
              "          const docLinkHtml = 'Like what you see? Visit the ' +\n",
              "            '<a target=\"_blank\" href=https://colab.research.google.com/notebooks/data_table.ipynb>data table notebook</a>'\n",
              "            + ' to learn more about interactive tables.';\n",
              "          element.innerHTML = '';\n",
              "          dataTable['output_type'] = 'display_data';\n",
              "          await google.colab.output.renderOutput(dataTable, element);\n",
              "          const docLink = document.createElement('div');\n",
              "          docLink.innerHTML = docLinkHtml;\n",
              "          element.appendChild(docLink);\n",
              "        }\n",
              "      </script>\n",
              "    </div>\n",
              "  </div>\n",
              "  "
            ]
          },
          "metadata": {},
          "execution_count": 9
        }
      ],
      "source": [
        "filter5 = data.loc[filter, ['order date (DateOrders)','Sales','Order Item Quantity','Order Item Discount']]\n",
        "filter5.head()"
      ]
    },
    {
      "cell_type": "markdown",
      "metadata": {
        "id": "Sp7yyD7Fnlsv"
      },
      "source": [
        "### Applying to Pandas DateTime format for easy access"
      ]
    },
    {
      "cell_type": "code",
      "execution_count": 10,
      "metadata": {
        "colab": {
          "base_uri": "https://localhost:8080/",
          "height": 206
        },
        "id": "D9faB4zenlsv",
        "outputId": "584760e7-6613-43ad-c585-711f06ab4262"
      },
      "outputs": [
        {
          "output_type": "execute_result",
          "data": {
            "text/plain": [
              "     order date (DateOrders)       Sales  Order Item Quantity  \\\n",
              "143      2016-11-03 21:49:00  299.980011                    1   \n",
              "144      2016-08-25 22:16:00  299.980011                    1   \n",
              "1343     2017-01-05 04:24:00  299.980011                    1   \n",
              "1344     2016-09-18 12:26:00  299.980011                    1   \n",
              "1345     2016-11-30 07:57:00  299.980011                    1   \n",
              "\n",
              "      Order Item Discount  \n",
              "143                   3.0  \n",
              "144                   6.0  \n",
              "1343                  9.0  \n",
              "1344                 12.0  \n",
              "1345                 21.0  "
            ],
            "text/html": [
              "\n",
              "  <div id=\"df-d37e78d4-aeb6-49ef-ad28-c632bd65c764\">\n",
              "    <div class=\"colab-df-container\">\n",
              "      <div>\n",
              "<style scoped>\n",
              "    .dataframe tbody tr th:only-of-type {\n",
              "        vertical-align: middle;\n",
              "    }\n",
              "\n",
              "    .dataframe tbody tr th {\n",
              "        vertical-align: top;\n",
              "    }\n",
              "\n",
              "    .dataframe thead th {\n",
              "        text-align: right;\n",
              "    }\n",
              "</style>\n",
              "<table border=\"1\" class=\"dataframe\">\n",
              "  <thead>\n",
              "    <tr style=\"text-align: right;\">\n",
              "      <th></th>\n",
              "      <th>order date (DateOrders)</th>\n",
              "      <th>Sales</th>\n",
              "      <th>Order Item Quantity</th>\n",
              "      <th>Order Item Discount</th>\n",
              "    </tr>\n",
              "  </thead>\n",
              "  <tbody>\n",
              "    <tr>\n",
              "      <th>143</th>\n",
              "      <td>2016-11-03 21:49:00</td>\n",
              "      <td>299.980011</td>\n",
              "      <td>1</td>\n",
              "      <td>3.0</td>\n",
              "    </tr>\n",
              "    <tr>\n",
              "      <th>144</th>\n",
              "      <td>2016-08-25 22:16:00</td>\n",
              "      <td>299.980011</td>\n",
              "      <td>1</td>\n",
              "      <td>6.0</td>\n",
              "    </tr>\n",
              "    <tr>\n",
              "      <th>1343</th>\n",
              "      <td>2017-01-05 04:24:00</td>\n",
              "      <td>299.980011</td>\n",
              "      <td>1</td>\n",
              "      <td>9.0</td>\n",
              "    </tr>\n",
              "    <tr>\n",
              "      <th>1344</th>\n",
              "      <td>2016-09-18 12:26:00</td>\n",
              "      <td>299.980011</td>\n",
              "      <td>1</td>\n",
              "      <td>12.0</td>\n",
              "    </tr>\n",
              "    <tr>\n",
              "      <th>1345</th>\n",
              "      <td>2016-11-30 07:57:00</td>\n",
              "      <td>299.980011</td>\n",
              "      <td>1</td>\n",
              "      <td>21.0</td>\n",
              "    </tr>\n",
              "  </tbody>\n",
              "</table>\n",
              "</div>\n",
              "      <button class=\"colab-df-convert\" onclick=\"convertToInteractive('df-d37e78d4-aeb6-49ef-ad28-c632bd65c764')\"\n",
              "              title=\"Convert this dataframe to an interactive table.\"\n",
              "              style=\"display:none;\">\n",
              "        \n",
              "  <svg xmlns=\"http://www.w3.org/2000/svg\" height=\"24px\"viewBox=\"0 0 24 24\"\n",
              "       width=\"24px\">\n",
              "    <path d=\"M0 0h24v24H0V0z\" fill=\"none\"/>\n",
              "    <path d=\"M18.56 5.44l.94 2.06.94-2.06 2.06-.94-2.06-.94-.94-2.06-.94 2.06-2.06.94zm-11 1L8.5 8.5l.94-2.06 2.06-.94-2.06-.94L8.5 2.5l-.94 2.06-2.06.94zm10 10l.94 2.06.94-2.06 2.06-.94-2.06-.94-.94-2.06-.94 2.06-2.06.94z\"/><path d=\"M17.41 7.96l-1.37-1.37c-.4-.4-.92-.59-1.43-.59-.52 0-1.04.2-1.43.59L10.3 9.45l-7.72 7.72c-.78.78-.78 2.05 0 2.83L4 21.41c.39.39.9.59 1.41.59.51 0 1.02-.2 1.41-.59l7.78-7.78 2.81-2.81c.8-.78.8-2.07 0-2.86zM5.41 20L4 18.59l7.72-7.72 1.47 1.35L5.41 20z\"/>\n",
              "  </svg>\n",
              "      </button>\n",
              "      \n",
              "  <style>\n",
              "    .colab-df-container {\n",
              "      display:flex;\n",
              "      flex-wrap:wrap;\n",
              "      gap: 12px;\n",
              "    }\n",
              "\n",
              "    .colab-df-convert {\n",
              "      background-color: #E8F0FE;\n",
              "      border: none;\n",
              "      border-radius: 50%;\n",
              "      cursor: pointer;\n",
              "      display: none;\n",
              "      fill: #1967D2;\n",
              "      height: 32px;\n",
              "      padding: 0 0 0 0;\n",
              "      width: 32px;\n",
              "    }\n",
              "\n",
              "    .colab-df-convert:hover {\n",
              "      background-color: #E2EBFA;\n",
              "      box-shadow: 0px 1px 2px rgba(60, 64, 67, 0.3), 0px 1px 3px 1px rgba(60, 64, 67, 0.15);\n",
              "      fill: #174EA6;\n",
              "    }\n",
              "\n",
              "    [theme=dark] .colab-df-convert {\n",
              "      background-color: #3B4455;\n",
              "      fill: #D2E3FC;\n",
              "    }\n",
              "\n",
              "    [theme=dark] .colab-df-convert:hover {\n",
              "      background-color: #434B5C;\n",
              "      box-shadow: 0px 1px 3px 1px rgba(0, 0, 0, 0.15);\n",
              "      filter: drop-shadow(0px 1px 2px rgba(0, 0, 0, 0.3));\n",
              "      fill: #FFFFFF;\n",
              "    }\n",
              "  </style>\n",
              "\n",
              "      <script>\n",
              "        const buttonEl =\n",
              "          document.querySelector('#df-d37e78d4-aeb6-49ef-ad28-c632bd65c764 button.colab-df-convert');\n",
              "        buttonEl.style.display =\n",
              "          google.colab.kernel.accessAllowed ? 'block' : 'none';\n",
              "\n",
              "        async function convertToInteractive(key) {\n",
              "          const element = document.querySelector('#df-d37e78d4-aeb6-49ef-ad28-c632bd65c764');\n",
              "          const dataTable =\n",
              "            await google.colab.kernel.invokeFunction('convertToInteractive',\n",
              "                                                     [key], {});\n",
              "          if (!dataTable) return;\n",
              "\n",
              "          const docLinkHtml = 'Like what you see? Visit the ' +\n",
              "            '<a target=\"_blank\" href=https://colab.research.google.com/notebooks/data_table.ipynb>data table notebook</a>'\n",
              "            + ' to learn more about interactive tables.';\n",
              "          element.innerHTML = '';\n",
              "          dataTable['output_type'] = 'display_data';\n",
              "          await google.colab.output.renderOutput(dataTable, element);\n",
              "          const docLink = document.createElement('div');\n",
              "          docLink.innerHTML = docLinkHtml;\n",
              "          element.appendChild(docLink);\n",
              "        }\n",
              "      </script>\n",
              "    </div>\n",
              "  </div>\n",
              "  "
            ]
          },
          "metadata": {},
          "execution_count": 10
        }
      ],
      "source": [
        "filter5['order date (DateOrders)'] =  filter5['order date (DateOrders)'].apply(pd.to_datetime)\n",
        "filter5.head()"
      ]
    },
    {
      "cell_type": "markdown",
      "metadata": {
        "id": "yCYZBOyznlsv"
      },
      "source": [
        "### Sorting the records by date and their time"
      ]
    },
    {
      "cell_type": "code",
      "execution_count": 11,
      "metadata": {
        "colab": {
          "base_uri": "https://localhost:8080/",
          "height": 363
        },
        "id": "4DVyRh3Snlsw",
        "outputId": "226d60f2-791a-4fd8-ab13-692e7ea3a36f"
      },
      "outputs": [
        {
          "output_type": "execute_result",
          "data": {
            "text/plain": [
              "       order date (DateOrders)       Sales  Order Item Quantity  \\\n",
              "33833      2015-01-01 00:00:00  299.980011                    1   \n",
              "20695      2015-01-01 01:24:00  299.980011                    1   \n",
              "20680      2015-01-01 01:24:00  299.980011                    1   \n",
              "64753      2015-01-01 02:06:00  299.980011                    1   \n",
              "140739     2015-01-01 03:51:00  299.980011                    1   \n",
              "45990      2015-01-01 06:18:00  299.980011                    1   \n",
              "166070     2015-01-01 07:42:00  299.980011                    1   \n",
              "60534      2015-01-01 09:27:00  299.980011                    1   \n",
              "60513      2015-01-01 09:27:00  299.980011                    1   \n",
              "110145     2015-01-01 11:33:00  299.980011                    1   \n",
              "\n",
              "        Order Item Discount  \n",
              "33833                  60.0  \n",
              "20695                  54.0  \n",
              "20680                  51.0  \n",
              "64753                  48.0  \n",
              "140739                 45.0  \n",
              "45990                  39.0  \n",
              "166070                 36.0  \n",
              "60534                  30.0  \n",
              "60513                  27.0  \n",
              "110145                 21.0  "
            ],
            "text/html": [
              "\n",
              "  <div id=\"df-ebe6a787-6dfa-418a-8205-563789a8f81c\">\n",
              "    <div class=\"colab-df-container\">\n",
              "      <div>\n",
              "<style scoped>\n",
              "    .dataframe tbody tr th:only-of-type {\n",
              "        vertical-align: middle;\n",
              "    }\n",
              "\n",
              "    .dataframe tbody tr th {\n",
              "        vertical-align: top;\n",
              "    }\n",
              "\n",
              "    .dataframe thead th {\n",
              "        text-align: right;\n",
              "    }\n",
              "</style>\n",
              "<table border=\"1\" class=\"dataframe\">\n",
              "  <thead>\n",
              "    <tr style=\"text-align: right;\">\n",
              "      <th></th>\n",
              "      <th>order date (DateOrders)</th>\n",
              "      <th>Sales</th>\n",
              "      <th>Order Item Quantity</th>\n",
              "      <th>Order Item Discount</th>\n",
              "    </tr>\n",
              "  </thead>\n",
              "  <tbody>\n",
              "    <tr>\n",
              "      <th>33833</th>\n",
              "      <td>2015-01-01 00:00:00</td>\n",
              "      <td>299.980011</td>\n",
              "      <td>1</td>\n",
              "      <td>60.0</td>\n",
              "    </tr>\n",
              "    <tr>\n",
              "      <th>20695</th>\n",
              "      <td>2015-01-01 01:24:00</td>\n",
              "      <td>299.980011</td>\n",
              "      <td>1</td>\n",
              "      <td>54.0</td>\n",
              "    </tr>\n",
              "    <tr>\n",
              "      <th>20680</th>\n",
              "      <td>2015-01-01 01:24:00</td>\n",
              "      <td>299.980011</td>\n",
              "      <td>1</td>\n",
              "      <td>51.0</td>\n",
              "    </tr>\n",
              "    <tr>\n",
              "      <th>64753</th>\n",
              "      <td>2015-01-01 02:06:00</td>\n",
              "      <td>299.980011</td>\n",
              "      <td>1</td>\n",
              "      <td>48.0</td>\n",
              "    </tr>\n",
              "    <tr>\n",
              "      <th>140739</th>\n",
              "      <td>2015-01-01 03:51:00</td>\n",
              "      <td>299.980011</td>\n",
              "      <td>1</td>\n",
              "      <td>45.0</td>\n",
              "    </tr>\n",
              "    <tr>\n",
              "      <th>45990</th>\n",
              "      <td>2015-01-01 06:18:00</td>\n",
              "      <td>299.980011</td>\n",
              "      <td>1</td>\n",
              "      <td>39.0</td>\n",
              "    </tr>\n",
              "    <tr>\n",
              "      <th>166070</th>\n",
              "      <td>2015-01-01 07:42:00</td>\n",
              "      <td>299.980011</td>\n",
              "      <td>1</td>\n",
              "      <td>36.0</td>\n",
              "    </tr>\n",
              "    <tr>\n",
              "      <th>60534</th>\n",
              "      <td>2015-01-01 09:27:00</td>\n",
              "      <td>299.980011</td>\n",
              "      <td>1</td>\n",
              "      <td>30.0</td>\n",
              "    </tr>\n",
              "    <tr>\n",
              "      <th>60513</th>\n",
              "      <td>2015-01-01 09:27:00</td>\n",
              "      <td>299.980011</td>\n",
              "      <td>1</td>\n",
              "      <td>27.0</td>\n",
              "    </tr>\n",
              "    <tr>\n",
              "      <th>110145</th>\n",
              "      <td>2015-01-01 11:33:00</td>\n",
              "      <td>299.980011</td>\n",
              "      <td>1</td>\n",
              "      <td>21.0</td>\n",
              "    </tr>\n",
              "  </tbody>\n",
              "</table>\n",
              "</div>\n",
              "      <button class=\"colab-df-convert\" onclick=\"convertToInteractive('df-ebe6a787-6dfa-418a-8205-563789a8f81c')\"\n",
              "              title=\"Convert this dataframe to an interactive table.\"\n",
              "              style=\"display:none;\">\n",
              "        \n",
              "  <svg xmlns=\"http://www.w3.org/2000/svg\" height=\"24px\"viewBox=\"0 0 24 24\"\n",
              "       width=\"24px\">\n",
              "    <path d=\"M0 0h24v24H0V0z\" fill=\"none\"/>\n",
              "    <path d=\"M18.56 5.44l.94 2.06.94-2.06 2.06-.94-2.06-.94-.94-2.06-.94 2.06-2.06.94zm-11 1L8.5 8.5l.94-2.06 2.06-.94-2.06-.94L8.5 2.5l-.94 2.06-2.06.94zm10 10l.94 2.06.94-2.06 2.06-.94-2.06-.94-.94-2.06-.94 2.06-2.06.94z\"/><path d=\"M17.41 7.96l-1.37-1.37c-.4-.4-.92-.59-1.43-.59-.52 0-1.04.2-1.43.59L10.3 9.45l-7.72 7.72c-.78.78-.78 2.05 0 2.83L4 21.41c.39.39.9.59 1.41.59.51 0 1.02-.2 1.41-.59l7.78-7.78 2.81-2.81c.8-.78.8-2.07 0-2.86zM5.41 20L4 18.59l7.72-7.72 1.47 1.35L5.41 20z\"/>\n",
              "  </svg>\n",
              "      </button>\n",
              "      \n",
              "  <style>\n",
              "    .colab-df-container {\n",
              "      display:flex;\n",
              "      flex-wrap:wrap;\n",
              "      gap: 12px;\n",
              "    }\n",
              "\n",
              "    .colab-df-convert {\n",
              "      background-color: #E8F0FE;\n",
              "      border: none;\n",
              "      border-radius: 50%;\n",
              "      cursor: pointer;\n",
              "      display: none;\n",
              "      fill: #1967D2;\n",
              "      height: 32px;\n",
              "      padding: 0 0 0 0;\n",
              "      width: 32px;\n",
              "    }\n",
              "\n",
              "    .colab-df-convert:hover {\n",
              "      background-color: #E2EBFA;\n",
              "      box-shadow: 0px 1px 2px rgba(60, 64, 67, 0.3), 0px 1px 3px 1px rgba(60, 64, 67, 0.15);\n",
              "      fill: #174EA6;\n",
              "    }\n",
              "\n",
              "    [theme=dark] .colab-df-convert {\n",
              "      background-color: #3B4455;\n",
              "      fill: #D2E3FC;\n",
              "    }\n",
              "\n",
              "    [theme=dark] .colab-df-convert:hover {\n",
              "      background-color: #434B5C;\n",
              "      box-shadow: 0px 1px 3px 1px rgba(0, 0, 0, 0.15);\n",
              "      filter: drop-shadow(0px 1px 2px rgba(0, 0, 0, 0.3));\n",
              "      fill: #FFFFFF;\n",
              "    }\n",
              "  </style>\n",
              "\n",
              "      <script>\n",
              "        const buttonEl =\n",
              "          document.querySelector('#df-ebe6a787-6dfa-418a-8205-563789a8f81c button.colab-df-convert');\n",
              "        buttonEl.style.display =\n",
              "          google.colab.kernel.accessAllowed ? 'block' : 'none';\n",
              "\n",
              "        async function convertToInteractive(key) {\n",
              "          const element = document.querySelector('#df-ebe6a787-6dfa-418a-8205-563789a8f81c');\n",
              "          const dataTable =\n",
              "            await google.colab.kernel.invokeFunction('convertToInteractive',\n",
              "                                                     [key], {});\n",
              "          if (!dataTable) return;\n",
              "\n",
              "          const docLinkHtml = 'Like what you see? Visit the ' +\n",
              "            '<a target=\"_blank\" href=https://colab.research.google.com/notebooks/data_table.ipynb>data table notebook</a>'\n",
              "            + ' to learn more about interactive tables.';\n",
              "          element.innerHTML = '';\n",
              "          dataTable['output_type'] = 'display_data';\n",
              "          await google.colab.output.renderOutput(dataTable, element);\n",
              "          const docLink = document.createElement('div');\n",
              "          docLink.innerHTML = docLinkHtml;\n",
              "          element.appendChild(docLink);\n",
              "        }\n",
              "      </script>\n",
              "    </div>\n",
              "  </div>\n",
              "  "
            ]
          },
          "metadata": {},
          "execution_count": 11
        }
      ],
      "source": [
        "filter5 = filter5.sort_values(by='order date (DateOrders)')\n",
        "filter5.head(10)"
      ]
    },
    {
      "cell_type": "markdown",
      "metadata": {
        "id": "1B83DfKTnlsw"
      },
      "source": [
        "### Making column of Order date to Index"
      ]
    },
    {
      "cell_type": "code",
      "execution_count": 12,
      "metadata": {
        "colab": {
          "base_uri": "https://localhost:8080/",
          "height": 237
        },
        "id": "8MY8NG4nnlsw",
        "outputId": "2215f314-4feb-4f6f-86c5-1d6fa8e0cfea"
      },
      "outputs": [
        {
          "output_type": "execute_result",
          "data": {
            "text/plain": [
              "                              Sales  Order Item Quantity  Order Item Discount\n",
              "order date (DateOrders)                                                      \n",
              "2015-01-01 00:00:00      299.980011                    1                 60.0\n",
              "2015-01-01 01:24:00      299.980011                    1                 54.0\n",
              "2015-01-01 01:24:00      299.980011                    1                 51.0\n",
              "2015-01-01 02:06:00      299.980011                    1                 48.0\n",
              "2015-01-01 03:51:00      299.980011                    1                 45.0"
            ],
            "text/html": [
              "\n",
              "  <div id=\"df-bb0b65c9-046d-4eda-8347-8fc709654637\">\n",
              "    <div class=\"colab-df-container\">\n",
              "      <div>\n",
              "<style scoped>\n",
              "    .dataframe tbody tr th:only-of-type {\n",
              "        vertical-align: middle;\n",
              "    }\n",
              "\n",
              "    .dataframe tbody tr th {\n",
              "        vertical-align: top;\n",
              "    }\n",
              "\n",
              "    .dataframe thead th {\n",
              "        text-align: right;\n",
              "    }\n",
              "</style>\n",
              "<table border=\"1\" class=\"dataframe\">\n",
              "  <thead>\n",
              "    <tr style=\"text-align: right;\">\n",
              "      <th></th>\n",
              "      <th>Sales</th>\n",
              "      <th>Order Item Quantity</th>\n",
              "      <th>Order Item Discount</th>\n",
              "    </tr>\n",
              "    <tr>\n",
              "      <th>order date (DateOrders)</th>\n",
              "      <th></th>\n",
              "      <th></th>\n",
              "      <th></th>\n",
              "    </tr>\n",
              "  </thead>\n",
              "  <tbody>\n",
              "    <tr>\n",
              "      <th>2015-01-01 00:00:00</th>\n",
              "      <td>299.980011</td>\n",
              "      <td>1</td>\n",
              "      <td>60.0</td>\n",
              "    </tr>\n",
              "    <tr>\n",
              "      <th>2015-01-01 01:24:00</th>\n",
              "      <td>299.980011</td>\n",
              "      <td>1</td>\n",
              "      <td>54.0</td>\n",
              "    </tr>\n",
              "    <tr>\n",
              "      <th>2015-01-01 01:24:00</th>\n",
              "      <td>299.980011</td>\n",
              "      <td>1</td>\n",
              "      <td>51.0</td>\n",
              "    </tr>\n",
              "    <tr>\n",
              "      <th>2015-01-01 02:06:00</th>\n",
              "      <td>299.980011</td>\n",
              "      <td>1</td>\n",
              "      <td>48.0</td>\n",
              "    </tr>\n",
              "    <tr>\n",
              "      <th>2015-01-01 03:51:00</th>\n",
              "      <td>299.980011</td>\n",
              "      <td>1</td>\n",
              "      <td>45.0</td>\n",
              "    </tr>\n",
              "  </tbody>\n",
              "</table>\n",
              "</div>\n",
              "      <button class=\"colab-df-convert\" onclick=\"convertToInteractive('df-bb0b65c9-046d-4eda-8347-8fc709654637')\"\n",
              "              title=\"Convert this dataframe to an interactive table.\"\n",
              "              style=\"display:none;\">\n",
              "        \n",
              "  <svg xmlns=\"http://www.w3.org/2000/svg\" height=\"24px\"viewBox=\"0 0 24 24\"\n",
              "       width=\"24px\">\n",
              "    <path d=\"M0 0h24v24H0V0z\" fill=\"none\"/>\n",
              "    <path d=\"M18.56 5.44l.94 2.06.94-2.06 2.06-.94-2.06-.94-.94-2.06-.94 2.06-2.06.94zm-11 1L8.5 8.5l.94-2.06 2.06-.94-2.06-.94L8.5 2.5l-.94 2.06-2.06.94zm10 10l.94 2.06.94-2.06 2.06-.94-2.06-.94-.94-2.06-.94 2.06-2.06.94z\"/><path d=\"M17.41 7.96l-1.37-1.37c-.4-.4-.92-.59-1.43-.59-.52 0-1.04.2-1.43.59L10.3 9.45l-7.72 7.72c-.78.78-.78 2.05 0 2.83L4 21.41c.39.39.9.59 1.41.59.51 0 1.02-.2 1.41-.59l7.78-7.78 2.81-2.81c.8-.78.8-2.07 0-2.86zM5.41 20L4 18.59l7.72-7.72 1.47 1.35L5.41 20z\"/>\n",
              "  </svg>\n",
              "      </button>\n",
              "      \n",
              "  <style>\n",
              "    .colab-df-container {\n",
              "      display:flex;\n",
              "      flex-wrap:wrap;\n",
              "      gap: 12px;\n",
              "    }\n",
              "\n",
              "    .colab-df-convert {\n",
              "      background-color: #E8F0FE;\n",
              "      border: none;\n",
              "      border-radius: 50%;\n",
              "      cursor: pointer;\n",
              "      display: none;\n",
              "      fill: #1967D2;\n",
              "      height: 32px;\n",
              "      padding: 0 0 0 0;\n",
              "      width: 32px;\n",
              "    }\n",
              "\n",
              "    .colab-df-convert:hover {\n",
              "      background-color: #E2EBFA;\n",
              "      box-shadow: 0px 1px 2px rgba(60, 64, 67, 0.3), 0px 1px 3px 1px rgba(60, 64, 67, 0.15);\n",
              "      fill: #174EA6;\n",
              "    }\n",
              "\n",
              "    [theme=dark] .colab-df-convert {\n",
              "      background-color: #3B4455;\n",
              "      fill: #D2E3FC;\n",
              "    }\n",
              "\n",
              "    [theme=dark] .colab-df-convert:hover {\n",
              "      background-color: #434B5C;\n",
              "      box-shadow: 0px 1px 3px 1px rgba(0, 0, 0, 0.15);\n",
              "      filter: drop-shadow(0px 1px 2px rgba(0, 0, 0, 0.3));\n",
              "      fill: #FFFFFF;\n",
              "    }\n",
              "  </style>\n",
              "\n",
              "      <script>\n",
              "        const buttonEl =\n",
              "          document.querySelector('#df-bb0b65c9-046d-4eda-8347-8fc709654637 button.colab-df-convert');\n",
              "        buttonEl.style.display =\n",
              "          google.colab.kernel.accessAllowed ? 'block' : 'none';\n",
              "\n",
              "        async function convertToInteractive(key) {\n",
              "          const element = document.querySelector('#df-bb0b65c9-046d-4eda-8347-8fc709654637');\n",
              "          const dataTable =\n",
              "            await google.colab.kernel.invokeFunction('convertToInteractive',\n",
              "                                                     [key], {});\n",
              "          if (!dataTable) return;\n",
              "\n",
              "          const docLinkHtml = 'Like what you see? Visit the ' +\n",
              "            '<a target=\"_blank\" href=https://colab.research.google.com/notebooks/data_table.ipynb>data table notebook</a>'\n",
              "            + ' to learn more about interactive tables.';\n",
              "          element.innerHTML = '';\n",
              "          dataTable['output_type'] = 'display_data';\n",
              "          await google.colab.output.renderOutput(dataTable, element);\n",
              "          const docLink = document.createElement('div');\n",
              "          docLink.innerHTML = docLinkHtml;\n",
              "          element.appendChild(docLink);\n",
              "        }\n",
              "      </script>\n",
              "    </div>\n",
              "  </div>\n",
              "  "
            ]
          },
          "metadata": {},
          "execution_count": 12
        }
      ],
      "source": [
        "filter5.set_axis(filter5['order date (DateOrders)'], inplace=True)\n",
        "\n",
        "filter5.drop(columns=['order date (DateOrders)'],inplace=True)\n",
        "filter5.head()"
      ]
    },
    {
      "cell_type": "markdown",
      "metadata": {
        "id": "fGdNx8Ktnlsx"
      },
      "source": [
        "### Day-wise Aggregates"
      ]
    },
    {
      "cell_type": "code",
      "execution_count": 13,
      "metadata": {
        "id": "VkzIsBr1nlsx"
      },
      "outputs": [],
      "source": [
        "Item_quantity = filter5.groupby([(filter5.index.year), (filter5.index.month), (filter5.index.day)])['Order Item Quantity'].sum().astype(int)\n",
        "Item_discount = filter5.groupby([(filter5.index.year), (filter5.index.month), (filter5.index.day)])['Order Item Discount'].sum().astype(int)\n",
        "Item_sales = filter5.groupby([(filter5.index.year), (filter5.index.month), (filter5.index.day)])['Sales'].sum().astype(int)"
      ]
    },
    {
      "cell_type": "code",
      "execution_count": 14,
      "metadata": {
        "id": "6y5bobQ4nlsy"
      },
      "outputs": [],
      "source": [
        "ItemSales=pd.DataFrame(Item_sales)\n",
        "ItemDiscount=pd.DataFrame(Item_discount)\n",
        "ItemQuantity=pd.DataFrame(Item_quantity)"
      ]
    },
    {
      "cell_type": "code",
      "execution_count": 15,
      "metadata": {
        "id": "VI983lxOnlsz"
      },
      "outputs": [],
      "source": [
        "total=ItemSales.join(ItemDiscount)\n"
      ]
    },
    {
      "cell_type": "code",
      "execution_count": 16,
      "metadata": {
        "id": "vQg6adL9nlsz"
      },
      "outputs": [],
      "source": [
        "daily_Sales=total.join(ItemQuantity)"
      ]
    },
    {
      "cell_type": "code",
      "execution_count": 17,
      "metadata": {
        "colab": {
          "base_uri": "https://localhost:8080/",
          "height": 237
        },
        "id": "4VXq4KGinls0",
        "outputId": "29617df2-771d-4002-f0a1-436531de02ba"
      },
      "outputs": [
        {
          "output_type": "execute_result",
          "data": {
            "text/plain": [
              "                                                                         Sales  \\\n",
              "order date (DateOrders) order date (DateOrders) order date (DateOrders)          \n",
              "2015                    1                       1                         5999   \n",
              "                                                2                         4499   \n",
              "                                                3                         4199   \n",
              "                                                4                         4499   \n",
              "                                                5                         3599   \n",
              "\n",
              "                                                                         Order Item Discount  \\\n",
              "order date (DateOrders) order date (DateOrders) order date (DateOrders)                        \n",
              "2015                    1                       1                                        661   \n",
              "                                                2                                        358   \n",
              "                                                3                                        529   \n",
              "                                                4                                        504   \n",
              "                                                5                                        349   \n",
              "\n",
              "                                                                         Order Item Quantity  \n",
              "order date (DateOrders) order date (DateOrders) order date (DateOrders)                       \n",
              "2015                    1                       1                                         20  \n",
              "                                                2                                         15  \n",
              "                                                3                                         14  \n",
              "                                                4                                         15  \n",
              "                                                5                                         12  "
            ],
            "text/html": [
              "\n",
              "  <div id=\"df-8b84568c-b109-4bd0-85a1-f26f3bc8d538\">\n",
              "    <div class=\"colab-df-container\">\n",
              "      <div>\n",
              "<style scoped>\n",
              "    .dataframe tbody tr th:only-of-type {\n",
              "        vertical-align: middle;\n",
              "    }\n",
              "\n",
              "    .dataframe tbody tr th {\n",
              "        vertical-align: top;\n",
              "    }\n",
              "\n",
              "    .dataframe thead th {\n",
              "        text-align: right;\n",
              "    }\n",
              "</style>\n",
              "<table border=\"1\" class=\"dataframe\">\n",
              "  <thead>\n",
              "    <tr style=\"text-align: right;\">\n",
              "      <th></th>\n",
              "      <th></th>\n",
              "      <th></th>\n",
              "      <th>Sales</th>\n",
              "      <th>Order Item Discount</th>\n",
              "      <th>Order Item Quantity</th>\n",
              "    </tr>\n",
              "    <tr>\n",
              "      <th>order date (DateOrders)</th>\n",
              "      <th>order date (DateOrders)</th>\n",
              "      <th>order date (DateOrders)</th>\n",
              "      <th></th>\n",
              "      <th></th>\n",
              "      <th></th>\n",
              "    </tr>\n",
              "  </thead>\n",
              "  <tbody>\n",
              "    <tr>\n",
              "      <th rowspan=\"5\" valign=\"top\">2015</th>\n",
              "      <th rowspan=\"5\" valign=\"top\">1</th>\n",
              "      <th>1</th>\n",
              "      <td>5999</td>\n",
              "      <td>661</td>\n",
              "      <td>20</td>\n",
              "    </tr>\n",
              "    <tr>\n",
              "      <th>2</th>\n",
              "      <td>4499</td>\n",
              "      <td>358</td>\n",
              "      <td>15</td>\n",
              "    </tr>\n",
              "    <tr>\n",
              "      <th>3</th>\n",
              "      <td>4199</td>\n",
              "      <td>529</td>\n",
              "      <td>14</td>\n",
              "    </tr>\n",
              "    <tr>\n",
              "      <th>4</th>\n",
              "      <td>4499</td>\n",
              "      <td>504</td>\n",
              "      <td>15</td>\n",
              "    </tr>\n",
              "    <tr>\n",
              "      <th>5</th>\n",
              "      <td>3599</td>\n",
              "      <td>349</td>\n",
              "      <td>12</td>\n",
              "    </tr>\n",
              "  </tbody>\n",
              "</table>\n",
              "</div>\n",
              "      <button class=\"colab-df-convert\" onclick=\"convertToInteractive('df-8b84568c-b109-4bd0-85a1-f26f3bc8d538')\"\n",
              "              title=\"Convert this dataframe to an interactive table.\"\n",
              "              style=\"display:none;\">\n",
              "        \n",
              "  <svg xmlns=\"http://www.w3.org/2000/svg\" height=\"24px\"viewBox=\"0 0 24 24\"\n",
              "       width=\"24px\">\n",
              "    <path d=\"M0 0h24v24H0V0z\" fill=\"none\"/>\n",
              "    <path d=\"M18.56 5.44l.94 2.06.94-2.06 2.06-.94-2.06-.94-.94-2.06-.94 2.06-2.06.94zm-11 1L8.5 8.5l.94-2.06 2.06-.94-2.06-.94L8.5 2.5l-.94 2.06-2.06.94zm10 10l.94 2.06.94-2.06 2.06-.94-2.06-.94-.94-2.06-.94 2.06-2.06.94z\"/><path d=\"M17.41 7.96l-1.37-1.37c-.4-.4-.92-.59-1.43-.59-.52 0-1.04.2-1.43.59L10.3 9.45l-7.72 7.72c-.78.78-.78 2.05 0 2.83L4 21.41c.39.39.9.59 1.41.59.51 0 1.02-.2 1.41-.59l7.78-7.78 2.81-2.81c.8-.78.8-2.07 0-2.86zM5.41 20L4 18.59l7.72-7.72 1.47 1.35L5.41 20z\"/>\n",
              "  </svg>\n",
              "      </button>\n",
              "      \n",
              "  <style>\n",
              "    .colab-df-container {\n",
              "      display:flex;\n",
              "      flex-wrap:wrap;\n",
              "      gap: 12px;\n",
              "    }\n",
              "\n",
              "    .colab-df-convert {\n",
              "      background-color: #E8F0FE;\n",
              "      border: none;\n",
              "      border-radius: 50%;\n",
              "      cursor: pointer;\n",
              "      display: none;\n",
              "      fill: #1967D2;\n",
              "      height: 32px;\n",
              "      padding: 0 0 0 0;\n",
              "      width: 32px;\n",
              "    }\n",
              "\n",
              "    .colab-df-convert:hover {\n",
              "      background-color: #E2EBFA;\n",
              "      box-shadow: 0px 1px 2px rgba(60, 64, 67, 0.3), 0px 1px 3px 1px rgba(60, 64, 67, 0.15);\n",
              "      fill: #174EA6;\n",
              "    }\n",
              "\n",
              "    [theme=dark] .colab-df-convert {\n",
              "      background-color: #3B4455;\n",
              "      fill: #D2E3FC;\n",
              "    }\n",
              "\n",
              "    [theme=dark] .colab-df-convert:hover {\n",
              "      background-color: #434B5C;\n",
              "      box-shadow: 0px 1px 3px 1px rgba(0, 0, 0, 0.15);\n",
              "      filter: drop-shadow(0px 1px 2px rgba(0, 0, 0, 0.3));\n",
              "      fill: #FFFFFF;\n",
              "    }\n",
              "  </style>\n",
              "\n",
              "      <script>\n",
              "        const buttonEl =\n",
              "          document.querySelector('#df-8b84568c-b109-4bd0-85a1-f26f3bc8d538 button.colab-df-convert');\n",
              "        buttonEl.style.display =\n",
              "          google.colab.kernel.accessAllowed ? 'block' : 'none';\n",
              "\n",
              "        async function convertToInteractive(key) {\n",
              "          const element = document.querySelector('#df-8b84568c-b109-4bd0-85a1-f26f3bc8d538');\n",
              "          const dataTable =\n",
              "            await google.colab.kernel.invokeFunction('convertToInteractive',\n",
              "                                                     [key], {});\n",
              "          if (!dataTable) return;\n",
              "\n",
              "          const docLinkHtml = 'Like what you see? Visit the ' +\n",
              "            '<a target=\"_blank\" href=https://colab.research.google.com/notebooks/data_table.ipynb>data table notebook</a>'\n",
              "            + ' to learn more about interactive tables.';\n",
              "          element.innerHTML = '';\n",
              "          dataTable['output_type'] = 'display_data';\n",
              "          await google.colab.output.renderOutput(dataTable, element);\n",
              "          const docLink = document.createElement('div');\n",
              "          docLink.innerHTML = docLinkHtml;\n",
              "          element.appendChild(docLink);\n",
              "        }\n",
              "      </script>\n",
              "    </div>\n",
              "  </div>\n",
              "  "
            ]
          },
          "metadata": {},
          "execution_count": 17
        }
      ],
      "source": [
        "daily_Sales.head(5)"
      ]
    },
    {
      "cell_type": "markdown",
      "metadata": {
        "id": "CvPL1m5Bnls1"
      },
      "source": [
        "### Converting index to single column only"
      ]
    },
    {
      "cell_type": "code",
      "execution_count": 18,
      "metadata": {
        "id": "hVaeaX2gnls1"
      },
      "outputs": [],
      "source": [
        "y = daily_Sales.index.get_level_values(0)\n",
        "m = daily_Sales.index.get_level_values(1)\n",
        "d = daily_Sales.index.get_level_values(2)"
      ]
    },
    {
      "cell_type": "code",
      "execution_count": 19,
      "metadata": {
        "id": "YFP6Rv8Nnls1"
      },
      "outputs": [],
      "source": [
        "daily_Sales['Date'] = pd.to_datetime(y* 10000 + m * 100 + d * 1, format=\"%Y%m%d\")"
      ]
    },
    {
      "cell_type": "code",
      "execution_count": 20,
      "metadata": {
        "id": "nSN5ocAXnls1"
      },
      "outputs": [],
      "source": [
        "daily_Sales.set_index('Date', append=True, inplace=True)"
      ]
    },
    {
      "cell_type": "code",
      "execution_count": 21,
      "metadata": {
        "id": "NAyuaaMhnls2"
      },
      "outputs": [],
      "source": [
        "daily_Sales=daily_Sales.droplevel(0)\n",
        "daily_Sales=daily_Sales.droplevel(0)\n",
        "daily_Sales=daily_Sales.droplevel(0)"
      ]
    },
    {
      "cell_type": "code",
      "execution_count": 22,
      "metadata": {
        "colab": {
          "base_uri": "https://localhost:8080/",
          "height": 237
        },
        "id": "DSEe7uRTnls2",
        "outputId": "4f4cf3c5-2025-4878-b20a-ab6379f580db"
      },
      "outputs": [
        {
          "output_type": "execute_result",
          "data": {
            "text/plain": [
              "            Sales  Order Item Discount  Order Item Quantity\n",
              "Date                                                       \n",
              "2015-01-01   5999                  661                   20\n",
              "2015-01-02   4499                  358                   15\n",
              "2015-01-03   4199                  529                   14\n",
              "2015-01-04   4499                  504                   15\n",
              "2015-01-05   3599                  349                   12"
            ],
            "text/html": [
              "\n",
              "  <div id=\"df-f5472b00-d7e4-4809-8d52-c7d4565db8bf\">\n",
              "    <div class=\"colab-df-container\">\n",
              "      <div>\n",
              "<style scoped>\n",
              "    .dataframe tbody tr th:only-of-type {\n",
              "        vertical-align: middle;\n",
              "    }\n",
              "\n",
              "    .dataframe tbody tr th {\n",
              "        vertical-align: top;\n",
              "    }\n",
              "\n",
              "    .dataframe thead th {\n",
              "        text-align: right;\n",
              "    }\n",
              "</style>\n",
              "<table border=\"1\" class=\"dataframe\">\n",
              "  <thead>\n",
              "    <tr style=\"text-align: right;\">\n",
              "      <th></th>\n",
              "      <th>Sales</th>\n",
              "      <th>Order Item Discount</th>\n",
              "      <th>Order Item Quantity</th>\n",
              "    </tr>\n",
              "    <tr>\n",
              "      <th>Date</th>\n",
              "      <th></th>\n",
              "      <th></th>\n",
              "      <th></th>\n",
              "    </tr>\n",
              "  </thead>\n",
              "  <tbody>\n",
              "    <tr>\n",
              "      <th>2015-01-01</th>\n",
              "      <td>5999</td>\n",
              "      <td>661</td>\n",
              "      <td>20</td>\n",
              "    </tr>\n",
              "    <tr>\n",
              "      <th>2015-01-02</th>\n",
              "      <td>4499</td>\n",
              "      <td>358</td>\n",
              "      <td>15</td>\n",
              "    </tr>\n",
              "    <tr>\n",
              "      <th>2015-01-03</th>\n",
              "      <td>4199</td>\n",
              "      <td>529</td>\n",
              "      <td>14</td>\n",
              "    </tr>\n",
              "    <tr>\n",
              "      <th>2015-01-04</th>\n",
              "      <td>4499</td>\n",
              "      <td>504</td>\n",
              "      <td>15</td>\n",
              "    </tr>\n",
              "    <tr>\n",
              "      <th>2015-01-05</th>\n",
              "      <td>3599</td>\n",
              "      <td>349</td>\n",
              "      <td>12</td>\n",
              "    </tr>\n",
              "  </tbody>\n",
              "</table>\n",
              "</div>\n",
              "      <button class=\"colab-df-convert\" onclick=\"convertToInteractive('df-f5472b00-d7e4-4809-8d52-c7d4565db8bf')\"\n",
              "              title=\"Convert this dataframe to an interactive table.\"\n",
              "              style=\"display:none;\">\n",
              "        \n",
              "  <svg xmlns=\"http://www.w3.org/2000/svg\" height=\"24px\"viewBox=\"0 0 24 24\"\n",
              "       width=\"24px\">\n",
              "    <path d=\"M0 0h24v24H0V0z\" fill=\"none\"/>\n",
              "    <path d=\"M18.56 5.44l.94 2.06.94-2.06 2.06-.94-2.06-.94-.94-2.06-.94 2.06-2.06.94zm-11 1L8.5 8.5l.94-2.06 2.06-.94-2.06-.94L8.5 2.5l-.94 2.06-2.06.94zm10 10l.94 2.06.94-2.06 2.06-.94-2.06-.94-.94-2.06-.94 2.06-2.06.94z\"/><path d=\"M17.41 7.96l-1.37-1.37c-.4-.4-.92-.59-1.43-.59-.52 0-1.04.2-1.43.59L10.3 9.45l-7.72 7.72c-.78.78-.78 2.05 0 2.83L4 21.41c.39.39.9.59 1.41.59.51 0 1.02-.2 1.41-.59l7.78-7.78 2.81-2.81c.8-.78.8-2.07 0-2.86zM5.41 20L4 18.59l7.72-7.72 1.47 1.35L5.41 20z\"/>\n",
              "  </svg>\n",
              "      </button>\n",
              "      \n",
              "  <style>\n",
              "    .colab-df-container {\n",
              "      display:flex;\n",
              "      flex-wrap:wrap;\n",
              "      gap: 12px;\n",
              "    }\n",
              "\n",
              "    .colab-df-convert {\n",
              "      background-color: #E8F0FE;\n",
              "      border: none;\n",
              "      border-radius: 50%;\n",
              "      cursor: pointer;\n",
              "      display: none;\n",
              "      fill: #1967D2;\n",
              "      height: 32px;\n",
              "      padding: 0 0 0 0;\n",
              "      width: 32px;\n",
              "    }\n",
              "\n",
              "    .colab-df-convert:hover {\n",
              "      background-color: #E2EBFA;\n",
              "      box-shadow: 0px 1px 2px rgba(60, 64, 67, 0.3), 0px 1px 3px 1px rgba(60, 64, 67, 0.15);\n",
              "      fill: #174EA6;\n",
              "    }\n",
              "\n",
              "    [theme=dark] .colab-df-convert {\n",
              "      background-color: #3B4455;\n",
              "      fill: #D2E3FC;\n",
              "    }\n",
              "\n",
              "    [theme=dark] .colab-df-convert:hover {\n",
              "      background-color: #434B5C;\n",
              "      box-shadow: 0px 1px 3px 1px rgba(0, 0, 0, 0.15);\n",
              "      filter: drop-shadow(0px 1px 2px rgba(0, 0, 0, 0.3));\n",
              "      fill: #FFFFFF;\n",
              "    }\n",
              "  </style>\n",
              "\n",
              "      <script>\n",
              "        const buttonEl =\n",
              "          document.querySelector('#df-f5472b00-d7e4-4809-8d52-c7d4565db8bf button.colab-df-convert');\n",
              "        buttonEl.style.display =\n",
              "          google.colab.kernel.accessAllowed ? 'block' : 'none';\n",
              "\n",
              "        async function convertToInteractive(key) {\n",
              "          const element = document.querySelector('#df-f5472b00-d7e4-4809-8d52-c7d4565db8bf');\n",
              "          const dataTable =\n",
              "            await google.colab.kernel.invokeFunction('convertToInteractive',\n",
              "                                                     [key], {});\n",
              "          if (!dataTable) return;\n",
              "\n",
              "          const docLinkHtml = 'Like what you see? Visit the ' +\n",
              "            '<a target=\"_blank\" href=https://colab.research.google.com/notebooks/data_table.ipynb>data table notebook</a>'\n",
              "            + ' to learn more about interactive tables.';\n",
              "          element.innerHTML = '';\n",
              "          dataTable['output_type'] = 'display_data';\n",
              "          await google.colab.output.renderOutput(dataTable, element);\n",
              "          const docLink = document.createElement('div');\n",
              "          docLink.innerHTML = docLinkHtml;\n",
              "          element.appendChild(docLink);\n",
              "        }\n",
              "      </script>\n",
              "    </div>\n",
              "  </div>\n",
              "  "
            ]
          },
          "metadata": {},
          "execution_count": 22
        }
      ],
      "source": [
        "daily_Sales.head(5)"
      ]
    },
    {
      "cell_type": "code",
      "execution_count": 23,
      "metadata": {
        "colab": {
          "base_uri": "https://localhost:8080/"
        },
        "id": "Tewcgdh-nls2",
        "outputId": "7795df4d-7b17-4a13-89be-e0c1e76f5474"
      },
      "outputs": [
        {
          "output_type": "execute_result",
          "data": {
            "text/plain": [
              "(1006, 3)"
            ]
          },
          "metadata": {},
          "execution_count": 23
        }
      ],
      "source": [
        "daily_Sales.shape"
      ]
    },
    {
      "cell_type": "code",
      "execution_count": 24,
      "metadata": {
        "colab": {
          "base_uri": "https://localhost:8080/"
        },
        "id": "DfesNCrHnls2",
        "outputId": "ce8fdcb9-2dd2-4795-cfd4-ab32015947a1"
      },
      "outputs": [
        {
          "output_type": "stream",
          "name": "stdout",
          "text": [
            "13729\n"
          ]
        }
      ],
      "source": [
        "Total = daily_Sales['Order Item Quantity'].sum()\n",
        "print(Total)"
      ]
    },
    {
      "cell_type": "code",
      "execution_count": 25,
      "metadata": {
        "colab": {
          "base_uri": "https://localhost:8080/",
          "height": 237
        },
        "id": "K65BEgCFnls2",
        "outputId": "540c603c-e7b3-46cf-ec6a-769ba60f66f5"
      },
      "outputs": [
        {
          "output_type": "execute_result",
          "data": {
            "text/plain": [
              "            Order Item Quantity\n",
              "Date                           \n",
              "2017-09-28                   13\n",
              "2017-09-29                   16\n",
              "2017-09-30                    7\n",
              "2017-10-01                   11\n",
              "2017-10-02                    4"
            ],
            "text/html": [
              "\n",
              "  <div id=\"df-6c15dffc-8a3a-4d58-a8b3-1216139b802f\">\n",
              "    <div class=\"colab-df-container\">\n",
              "      <div>\n",
              "<style scoped>\n",
              "    .dataframe tbody tr th:only-of-type {\n",
              "        vertical-align: middle;\n",
              "    }\n",
              "\n",
              "    .dataframe tbody tr th {\n",
              "        vertical-align: top;\n",
              "    }\n",
              "\n",
              "    .dataframe thead th {\n",
              "        text-align: right;\n",
              "    }\n",
              "</style>\n",
              "<table border=\"1\" class=\"dataframe\">\n",
              "  <thead>\n",
              "    <tr style=\"text-align: right;\">\n",
              "      <th></th>\n",
              "      <th>Order Item Quantity</th>\n",
              "    </tr>\n",
              "    <tr>\n",
              "      <th>Date</th>\n",
              "      <th></th>\n",
              "    </tr>\n",
              "  </thead>\n",
              "  <tbody>\n",
              "    <tr>\n",
              "      <th>2017-09-28</th>\n",
              "      <td>13</td>\n",
              "    </tr>\n",
              "    <tr>\n",
              "      <th>2017-09-29</th>\n",
              "      <td>16</td>\n",
              "    </tr>\n",
              "    <tr>\n",
              "      <th>2017-09-30</th>\n",
              "      <td>7</td>\n",
              "    </tr>\n",
              "    <tr>\n",
              "      <th>2017-10-01</th>\n",
              "      <td>11</td>\n",
              "    </tr>\n",
              "    <tr>\n",
              "      <th>2017-10-02</th>\n",
              "      <td>4</td>\n",
              "    </tr>\n",
              "  </tbody>\n",
              "</table>\n",
              "</div>\n",
              "      <button class=\"colab-df-convert\" onclick=\"convertToInteractive('df-6c15dffc-8a3a-4d58-a8b3-1216139b802f')\"\n",
              "              title=\"Convert this dataframe to an interactive table.\"\n",
              "              style=\"display:none;\">\n",
              "        \n",
              "  <svg xmlns=\"http://www.w3.org/2000/svg\" height=\"24px\"viewBox=\"0 0 24 24\"\n",
              "       width=\"24px\">\n",
              "    <path d=\"M0 0h24v24H0V0z\" fill=\"none\"/>\n",
              "    <path d=\"M18.56 5.44l.94 2.06.94-2.06 2.06-.94-2.06-.94-.94-2.06-.94 2.06-2.06.94zm-11 1L8.5 8.5l.94-2.06 2.06-.94-2.06-.94L8.5 2.5l-.94 2.06-2.06.94zm10 10l.94 2.06.94-2.06 2.06-.94-2.06-.94-.94-2.06-.94 2.06-2.06.94z\"/><path d=\"M17.41 7.96l-1.37-1.37c-.4-.4-.92-.59-1.43-.59-.52 0-1.04.2-1.43.59L10.3 9.45l-7.72 7.72c-.78.78-.78 2.05 0 2.83L4 21.41c.39.39.9.59 1.41.59.51 0 1.02-.2 1.41-.59l7.78-7.78 2.81-2.81c.8-.78.8-2.07 0-2.86zM5.41 20L4 18.59l7.72-7.72 1.47 1.35L5.41 20z\"/>\n",
              "  </svg>\n",
              "      </button>\n",
              "      \n",
              "  <style>\n",
              "    .colab-df-container {\n",
              "      display:flex;\n",
              "      flex-wrap:wrap;\n",
              "      gap: 12px;\n",
              "    }\n",
              "\n",
              "    .colab-df-convert {\n",
              "      background-color: #E8F0FE;\n",
              "      border: none;\n",
              "      border-radius: 50%;\n",
              "      cursor: pointer;\n",
              "      display: none;\n",
              "      fill: #1967D2;\n",
              "      height: 32px;\n",
              "      padding: 0 0 0 0;\n",
              "      width: 32px;\n",
              "    }\n",
              "\n",
              "    .colab-df-convert:hover {\n",
              "      background-color: #E2EBFA;\n",
              "      box-shadow: 0px 1px 2px rgba(60, 64, 67, 0.3), 0px 1px 3px 1px rgba(60, 64, 67, 0.15);\n",
              "      fill: #174EA6;\n",
              "    }\n",
              "\n",
              "    [theme=dark] .colab-df-convert {\n",
              "      background-color: #3B4455;\n",
              "      fill: #D2E3FC;\n",
              "    }\n",
              "\n",
              "    [theme=dark] .colab-df-convert:hover {\n",
              "      background-color: #434B5C;\n",
              "      box-shadow: 0px 1px 3px 1px rgba(0, 0, 0, 0.15);\n",
              "      filter: drop-shadow(0px 1px 2px rgba(0, 0, 0, 0.3));\n",
              "      fill: #FFFFFF;\n",
              "    }\n",
              "  </style>\n",
              "\n",
              "      <script>\n",
              "        const buttonEl =\n",
              "          document.querySelector('#df-6c15dffc-8a3a-4d58-a8b3-1216139b802f button.colab-df-convert');\n",
              "        buttonEl.style.display =\n",
              "          google.colab.kernel.accessAllowed ? 'block' : 'none';\n",
              "\n",
              "        async function convertToInteractive(key) {\n",
              "          const element = document.querySelector('#df-6c15dffc-8a3a-4d58-a8b3-1216139b802f');\n",
              "          const dataTable =\n",
              "            await google.colab.kernel.invokeFunction('convertToInteractive',\n",
              "                                                     [key], {});\n",
              "          if (!dataTable) return;\n",
              "\n",
              "          const docLinkHtml = 'Like what you see? Visit the ' +\n",
              "            '<a target=\"_blank\" href=https://colab.research.google.com/notebooks/data_table.ipynb>data table notebook</a>'\n",
              "            + ' to learn more about interactive tables.';\n",
              "          element.innerHTML = '';\n",
              "          dataTable['output_type'] = 'display_data';\n",
              "          await google.colab.output.renderOutput(dataTable, element);\n",
              "          const docLink = document.createElement('div');\n",
              "          docLink.innerHTML = docLinkHtml;\n",
              "          element.appendChild(docLink);\n",
              "        }\n",
              "      </script>\n",
              "    </div>\n",
              "  </div>\n",
              "  "
            ]
          },
          "metadata": {},
          "execution_count": 25
        }
      ],
      "source": [
        "Camping_Hiking_Sold = daily_Sales[[\"Order Item Quantity\"]]\n",
        "Camping_Hiking_Sold.tail()"
      ]
    },
    {
      "cell_type": "code",
      "execution_count": 26,
      "metadata": {
        "colab": {
          "base_uri": "https://localhost:8080/"
        },
        "id": "08D0zfzDnls3",
        "outputId": "d057a671-4511-4075-9173-a12b7f905701"
      },
      "outputs": [
        {
          "output_type": "execute_result",
          "data": {
            "text/plain": [
              "(1006, 1)"
            ]
          },
          "metadata": {},
          "execution_count": 26
        }
      ],
      "source": [
        "Camping_Hiking_Sold.shape"
      ]
    },
    {
      "cell_type": "markdown",
      "metadata": {
        "id": "qkLOm2ZJnls3"
      },
      "source": [
        "# DATA PREPARATION"
      ]
    },
    {
      "cell_type": "markdown",
      "metadata": {
        "id": "kg1i-B_qnls3"
      },
      "source": [
        "## FEATURE ENGINEERING"
      ]
    },
    {
      "cell_type": "markdown",
      "metadata": {
        "id": "7BW8Njkcnls3"
      },
      "source": [
        "Considering the prior 90 days sales to predict the number of items sold for the month of April_2015 till Sept_2017 "
      ]
    },
    {
      "cell_type": "code",
      "execution_count": 27,
      "metadata": {
        "id": "8Bti7Chlnls3"
      },
      "outputs": [],
      "source": [
        "April_2015 = Camping_Hiking_Sold.iloc[1:90]\n",
        "May_2015 = Camping_Hiking_Sold.iloc[31:120]\n",
        "June_2015 = Camping_Hiking_Sold.iloc[62:151]\n",
        "July_2015 = Camping_Hiking_Sold.iloc[92:181]\n",
        "August_2015 = Camping_Hiking_Sold.iloc[123:212]\n",
        "Sept_2015 = Camping_Hiking_Sold.iloc[154:243]\n",
        "Oct_2015 = Camping_Hiking_Sold.iloc[184:273]\n",
        "Nov_2015 = Camping_Hiking_Sold.iloc[215:304]\n",
        "Dec_2015 = Camping_Hiking_Sold.iloc[245:334]\n",
        "Jan_2016 = Camping_Hiking_Sold.iloc[276:365]\n",
        "Feb_2016 = Camping_Hiking_Sold.iloc[307:396]\n",
        "March_2016 = Camping_Hiking_Sold.iloc[336:425]\n",
        "April_2016 = Camping_Hiking_Sold.iloc[367:456]\n",
        "May_2016 = Camping_Hiking_Sold.iloc[397:486]\n",
        "June_2016 = Camping_Hiking_Sold.iloc[428:517]\n",
        "July_2016 = Camping_Hiking_Sold.iloc[458:547]\n",
        "August_2016 = Camping_Hiking_Sold.iloc[489:578]\n",
        "Sept_2016 = Camping_Hiking_Sold.iloc[520:609]\n",
        "Oct_2016 = Camping_Hiking_Sold.iloc[550:639]\n",
        "Nov_2016 = Camping_Hiking_Sold.iloc[581:670]\n",
        "Dec_2016 = Camping_Hiking_Sold.iloc[611:700]\n",
        "Jan_2017 = Camping_Hiking_Sold.iloc[642:731]\n",
        "Feb_2017 = Camping_Hiking_Sold.iloc[673:762]\n",
        "March_2017 = Camping_Hiking_Sold.iloc[701:790]\n",
        "April_2017 = Camping_Hiking_Sold.iloc[732:821]\n",
        "May_2017 = Camping_Hiking_Sold.iloc[762:851]\n",
        "June_2017 = Camping_Hiking_Sold.iloc[793:882]\n",
        "July_2017 = Camping_Hiking_Sold.iloc[823:912]\n",
        "August_2017 = Camping_Hiking_Sold.iloc[854:943]\n",
        "Sept_2017 = Camping_Hiking_Sold.iloc[885:974]"
      ]
    },
    {
      "cell_type": "markdown",
      "metadata": {
        "id": "MNGWW8bFnls3"
      },
      "source": [
        "### Taking Transpose to convert 90 days sales as Single row/record for each month to be predicted\n"
      ]
    },
    {
      "cell_type": "code",
      "execution_count": 28,
      "metadata": {
        "id": "E1EgJHRbnls4"
      },
      "outputs": [],
      "source": [
        "Row_1 = pd.DataFrame(April_2015.to_numpy().T).add_prefix('Day')\n",
        "Row_2 = pd.DataFrame(May_2015.to_numpy().T).add_prefix('Day')\n",
        "Row_3 = pd.DataFrame(June_2015.to_numpy().T).add_prefix('Day')\n",
        "Row_4 = pd.DataFrame(July_2015.to_numpy().T).add_prefix('Day')\n",
        "Row_5 = pd.DataFrame(August_2015.to_numpy().T).add_prefix('Day')\n",
        "Row_6 = pd.DataFrame(Sept_2015.to_numpy().T).add_prefix('Day')\n",
        "Row_7 = pd.DataFrame(Oct_2015.to_numpy().T).add_prefix('Day')\n",
        "Row_8 = pd.DataFrame(Nov_2015.to_numpy().T).add_prefix('Day')\n",
        "Row_9 = pd.DataFrame(Dec_2015.to_numpy().T).add_prefix('Day')\n",
        "Row_10 = pd.DataFrame(Jan_2016.to_numpy().T).add_prefix('Day')\n",
        "Row_11 = pd.DataFrame(Feb_2016.to_numpy().T).add_prefix('Day')\n",
        "Row_12 = pd.DataFrame(March_2016.to_numpy().T).add_prefix('Day')\n",
        "Row_13 = pd.DataFrame(April_2016.to_numpy().T).add_prefix('Day')\n",
        "Row_14 = pd.DataFrame(May_2016.to_numpy().T).add_prefix('Day')\n",
        "Row_15 = pd.DataFrame(June_2016.to_numpy().T).add_prefix('Day')\n",
        "Row_16 = pd.DataFrame(July_2016.to_numpy().T).add_prefix('Day')\n",
        "Row_17 = pd.DataFrame(August_2016.to_numpy().T).add_prefix('Day')\n",
        "Row_18 = pd.DataFrame(Sept_2016.to_numpy().T).add_prefix('Day')\n",
        "Row_19 = pd.DataFrame(Oct_2016.to_numpy().T).add_prefix('Day')\n",
        "Row_20 = pd.DataFrame(Nov_2016.to_numpy().T).add_prefix('Day')\n",
        "Row_21 = pd.DataFrame(Dec_2016.to_numpy().T).add_prefix('Day')\n",
        "Row_22 = pd.DataFrame(Jan_2017.to_numpy().T).add_prefix('Day')\n",
        "Row_23 = pd.DataFrame(Feb_2017.to_numpy().T).add_prefix('Day')\n",
        "Row_24 = pd.DataFrame(March_2017.to_numpy().T).add_prefix('Day')\n",
        "Row_25 = pd.DataFrame(April_2017.to_numpy().T).add_prefix('Day')\n",
        "Row_26 = pd.DataFrame(May_2017.to_numpy().T).add_prefix('Day')\n",
        "Row_27 = pd.DataFrame(June_2017.to_numpy().T).add_prefix('Day')\n",
        "Row_28 = pd.DataFrame(July_2017.to_numpy().T).add_prefix('Day')\n",
        "Row_29 = pd.DataFrame(August_2017.to_numpy().T).add_prefix('Day')\n",
        "Row_30 = pd.DataFrame(Sept_2017.to_numpy().T).add_prefix('Day')"
      ]
    },
    {
      "cell_type": "code",
      "execution_count": 29,
      "metadata": {
        "colab": {
          "base_uri": "https://localhost:8080/",
          "height": 110
        },
        "id": "nyg8Gt98nls4",
        "outputId": "d8d835f7-286d-4a16-c120-c931bbceb0e8"
      },
      "outputs": [
        {
          "output_type": "execute_result",
          "data": {
            "text/plain": [
              "   Day0  Day1  Day2  Day3  Day4  Day5  Day6  Day7  Day8  Day9  ...  Day79  \\\n",
              "0    10    17    10    10    16    12    12    13    16    20  ...     16   \n",
              "\n",
              "   Day80  Day81  Day82  Day83  Day84  Day85  Day86  Day87  Day88  \n",
              "0     13     13      9      8     13      7      9     12     13  \n",
              "\n",
              "[1 rows x 89 columns]"
            ],
            "text/html": [
              "\n",
              "  <div id=\"df-dda1a614-ac0c-4ac0-820f-d00ca9650133\">\n",
              "    <div class=\"colab-df-container\">\n",
              "      <div>\n",
              "<style scoped>\n",
              "    .dataframe tbody tr th:only-of-type {\n",
              "        vertical-align: middle;\n",
              "    }\n",
              "\n",
              "    .dataframe tbody tr th {\n",
              "        vertical-align: top;\n",
              "    }\n",
              "\n",
              "    .dataframe thead th {\n",
              "        text-align: right;\n",
              "    }\n",
              "</style>\n",
              "<table border=\"1\" class=\"dataframe\">\n",
              "  <thead>\n",
              "    <tr style=\"text-align: right;\">\n",
              "      <th></th>\n",
              "      <th>Day0</th>\n",
              "      <th>Day1</th>\n",
              "      <th>Day2</th>\n",
              "      <th>Day3</th>\n",
              "      <th>Day4</th>\n",
              "      <th>Day5</th>\n",
              "      <th>Day6</th>\n",
              "      <th>Day7</th>\n",
              "      <th>Day8</th>\n",
              "      <th>Day9</th>\n",
              "      <th>...</th>\n",
              "      <th>Day79</th>\n",
              "      <th>Day80</th>\n",
              "      <th>Day81</th>\n",
              "      <th>Day82</th>\n",
              "      <th>Day83</th>\n",
              "      <th>Day84</th>\n",
              "      <th>Day85</th>\n",
              "      <th>Day86</th>\n",
              "      <th>Day87</th>\n",
              "      <th>Day88</th>\n",
              "    </tr>\n",
              "  </thead>\n",
              "  <tbody>\n",
              "    <tr>\n",
              "      <th>0</th>\n",
              "      <td>10</td>\n",
              "      <td>17</td>\n",
              "      <td>10</td>\n",
              "      <td>10</td>\n",
              "      <td>16</td>\n",
              "      <td>12</td>\n",
              "      <td>12</td>\n",
              "      <td>13</td>\n",
              "      <td>16</td>\n",
              "      <td>20</td>\n",
              "      <td>...</td>\n",
              "      <td>16</td>\n",
              "      <td>13</td>\n",
              "      <td>13</td>\n",
              "      <td>9</td>\n",
              "      <td>8</td>\n",
              "      <td>13</td>\n",
              "      <td>7</td>\n",
              "      <td>9</td>\n",
              "      <td>12</td>\n",
              "      <td>13</td>\n",
              "    </tr>\n",
              "  </tbody>\n",
              "</table>\n",
              "<p>1 rows × 89 columns</p>\n",
              "</div>\n",
              "      <button class=\"colab-df-convert\" onclick=\"convertToInteractive('df-dda1a614-ac0c-4ac0-820f-d00ca9650133')\"\n",
              "              title=\"Convert this dataframe to an interactive table.\"\n",
              "              style=\"display:none;\">\n",
              "        \n",
              "  <svg xmlns=\"http://www.w3.org/2000/svg\" height=\"24px\"viewBox=\"0 0 24 24\"\n",
              "       width=\"24px\">\n",
              "    <path d=\"M0 0h24v24H0V0z\" fill=\"none\"/>\n",
              "    <path d=\"M18.56 5.44l.94 2.06.94-2.06 2.06-.94-2.06-.94-.94-2.06-.94 2.06-2.06.94zm-11 1L8.5 8.5l.94-2.06 2.06-.94-2.06-.94L8.5 2.5l-.94 2.06-2.06.94zm10 10l.94 2.06.94-2.06 2.06-.94-2.06-.94-.94-2.06-.94 2.06-2.06.94z\"/><path d=\"M17.41 7.96l-1.37-1.37c-.4-.4-.92-.59-1.43-.59-.52 0-1.04.2-1.43.59L10.3 9.45l-7.72 7.72c-.78.78-.78 2.05 0 2.83L4 21.41c.39.39.9.59 1.41.59.51 0 1.02-.2 1.41-.59l7.78-7.78 2.81-2.81c.8-.78.8-2.07 0-2.86zM5.41 20L4 18.59l7.72-7.72 1.47 1.35L5.41 20z\"/>\n",
              "  </svg>\n",
              "      </button>\n",
              "      \n",
              "  <style>\n",
              "    .colab-df-container {\n",
              "      display:flex;\n",
              "      flex-wrap:wrap;\n",
              "      gap: 12px;\n",
              "    }\n",
              "\n",
              "    .colab-df-convert {\n",
              "      background-color: #E8F0FE;\n",
              "      border: none;\n",
              "      border-radius: 50%;\n",
              "      cursor: pointer;\n",
              "      display: none;\n",
              "      fill: #1967D2;\n",
              "      height: 32px;\n",
              "      padding: 0 0 0 0;\n",
              "      width: 32px;\n",
              "    }\n",
              "\n",
              "    .colab-df-convert:hover {\n",
              "      background-color: #E2EBFA;\n",
              "      box-shadow: 0px 1px 2px rgba(60, 64, 67, 0.3), 0px 1px 3px 1px rgba(60, 64, 67, 0.15);\n",
              "      fill: #174EA6;\n",
              "    }\n",
              "\n",
              "    [theme=dark] .colab-df-convert {\n",
              "      background-color: #3B4455;\n",
              "      fill: #D2E3FC;\n",
              "    }\n",
              "\n",
              "    [theme=dark] .colab-df-convert:hover {\n",
              "      background-color: #434B5C;\n",
              "      box-shadow: 0px 1px 3px 1px rgba(0, 0, 0, 0.15);\n",
              "      filter: drop-shadow(0px 1px 2px rgba(0, 0, 0, 0.3));\n",
              "      fill: #FFFFFF;\n",
              "    }\n",
              "  </style>\n",
              "\n",
              "      <script>\n",
              "        const buttonEl =\n",
              "          document.querySelector('#df-dda1a614-ac0c-4ac0-820f-d00ca9650133 button.colab-df-convert');\n",
              "        buttonEl.style.display =\n",
              "          google.colab.kernel.accessAllowed ? 'block' : 'none';\n",
              "\n",
              "        async function convertToInteractive(key) {\n",
              "          const element = document.querySelector('#df-dda1a614-ac0c-4ac0-820f-d00ca9650133');\n",
              "          const dataTable =\n",
              "            await google.colab.kernel.invokeFunction('convertToInteractive',\n",
              "                                                     [key], {});\n",
              "          if (!dataTable) return;\n",
              "\n",
              "          const docLinkHtml = 'Like what you see? Visit the ' +\n",
              "            '<a target=\"_blank\" href=https://colab.research.google.com/notebooks/data_table.ipynb>data table notebook</a>'\n",
              "            + ' to learn more about interactive tables.';\n",
              "          element.innerHTML = '';\n",
              "          dataTable['output_type'] = 'display_data';\n",
              "          await google.colab.output.renderOutput(dataTable, element);\n",
              "          const docLink = document.createElement('div');\n",
              "          docLink.innerHTML = docLinkHtml;\n",
              "          element.appendChild(docLink);\n",
              "        }\n",
              "      </script>\n",
              "    </div>\n",
              "  </div>\n",
              "  "
            ]
          },
          "metadata": {},
          "execution_count": 29
        }
      ],
      "source": [
        "Row_30"
      ]
    },
    {
      "cell_type": "markdown",
      "metadata": {
        "id": "HmelUFV5nls4"
      },
      "source": [
        "### Merging all Rows to prepare the DataFrame"
      ]
    },
    {
      "cell_type": "code",
      "execution_count": 30,
      "metadata": {
        "id": "iOoW2s8unls5"
      },
      "outputs": [],
      "source": [
        "merge2=Row_1.append(Row_2,ignore_index=True)\n",
        "merge3=merge2.append(Row_3,ignore_index=True)\n",
        "merge4=merge3.append(Row_4,ignore_index=True)\n",
        "merge5=merge4.append(Row_5,ignore_index=True)\n",
        "merge6=merge5.append(Row_6,ignore_index=True)\n",
        "merge7=merge6.append(Row_7,ignore_index=True)\n",
        "merge8=merge7.append(Row_8,ignore_index=True)\n",
        "merge9=merge8.append(Row_9,ignore_index=True)\n",
        "merge10=merge9.append(Row_10,ignore_index=True)\n",
        "merge11=merge10.append(Row_11,ignore_index=True)\n",
        "merge12=merge11.append(Row_12,ignore_index=True)\n",
        "merge13=merge12.append(Row_13,ignore_index=True)\n",
        "merge14=merge13.append(Row_14,ignore_index=True)\n",
        "merge15=merge14.append(Row_15,ignore_index=True)\n",
        "merge16=merge15.append(Row_16,ignore_index=True)\n",
        "merge17=merge16.append(Row_17,ignore_index=True)\n",
        "merge18=merge17.append(Row_18,ignore_index=True)\n",
        "merge19=merge18.append(Row_19,ignore_index=True)\n",
        "merge20=merge19.append(Row_20,ignore_index=True)\n",
        "merge21=merge20.append(Row_21,ignore_index=True)\n",
        "merge22=merge21.append(Row_22,ignore_index=True)\n",
        "merge23=merge22.append(Row_23,ignore_index=True)\n",
        "merge24=merge23.append(Row_24,ignore_index=True)\n",
        "merge25=merge24.append(Row_25,ignore_index=True)\n",
        "merge26=merge25.append(Row_26,ignore_index=True)\n",
        "merge27=merge26.append(Row_27,ignore_index=True)\n",
        "merge28=merge27.append(Row_28,ignore_index=True)\n",
        "merge29=merge28.append(Row_29,ignore_index=True)\n",
        "merge30=merge29.append(Row_30,ignore_index=True)"
      ]
    },
    {
      "cell_type": "code",
      "execution_count": 31,
      "metadata": {
        "colab": {
          "base_uri": "https://localhost:8080/",
          "height": 1000
        },
        "id": "1nmb-cqSnls5",
        "outputId": "77ef087c-0359-401d-ea73-7ec083f576db"
      },
      "outputs": [
        {
          "output_type": "execute_result",
          "data": {
            "text/plain": [
              "    Day0  Day1  Day2  Day3  Day4  Day5  Day6  Day7  Day8  Day9  ...  Day79  \\\n",
              "0     15    14    15    12    13    14    18     9    14    15  ...     16   \n",
              "1     13    16    17    15    15    13     9    14    16    16  ...      8   \n",
              "2     19     7    14     8    14    14    19    13    12    10  ...     11   \n",
              "3     14    11     7    17    19     9    16    23    14    18  ...     14   \n",
              "4     15    13    13    15     9     6     7    11    13    11  ...     16   \n",
              "5     10     5    15    21    17    19    11    20     7    17  ...     12   \n",
              "6     10     9    10    16     7     8    14    19    12    12  ...     13   \n",
              "7     15    11    18    16     8    14    11    16    21    14  ...      8   \n",
              "8     14    20    21    11    10    12    19    12    13    16  ...     17   \n",
              "9     10    11    13    15    16    19     9    14    24    10  ...      4   \n",
              "10    17    17    18    19    12    16    10    15    11    13  ...     17   \n",
              "11     9     9    12    13    14    11    18    13    13    12  ...     18   \n",
              "12    14    12     7    12    10    14    15    12    20    11  ...     13   \n",
              "13    21    15    15     9    17    16     9    14    12     9  ...     15   \n",
              "14    16    12    15     8    20    11    16     9    12    11  ...     14   \n",
              "15    18     8     8    15    13    11    17    15    12    13  ...     13   \n",
              "16    14    19    18    11     7    15    11    18    13    10  ...     10   \n",
              "17    21    10    13    18    22     6    14    18    14    13  ...      7   \n",
              "18     7     8    18    13    14    18    13    10    13     8  ...     13   \n",
              "19    11    11    18    14    16    10    10    12    12    17  ...     13   \n",
              "20    14    11    11    11    17    10    17     9    16    13  ...      8   \n",
              "21    20    14    10    16    16     8    22    11     9    12  ...     10   \n",
              "22    17    18    12    15    17     9    13    10    19    16  ...     16   \n",
              "23     8    14    16    12    17    10    15    14    22    14  ...     15   \n",
              "24     9    11    13    15    13    13    11    14    18    12  ...     18   \n",
              "25    13    19    16    12    15    14    12    13    16    16  ...     15   \n",
              "26    17    14    17    16    11    14    18    13     9    18  ...     20   \n",
              "27     9     9    18    16    19    12    16    10    13    16  ...     17   \n",
              "28    17    19    12    11    16    24    14    15    16    15  ...     11   \n",
              "29    10    17    10    10    16    12    12    13    16    20  ...     16   \n",
              "\n",
              "    Day80  Day81  Day82  Day83  Day84  Day85  Day86  Day87  Day88  \n",
              "0      12      8      8     15      8     16     14     22     16  \n",
              "1      13     11     14     12     13     18     12     11     10  \n",
              "2      13      9     14      8     14     12     15     22     14  \n",
              "3      14     18      9     13     14     13      6     21     18  \n",
              "4      16     15      6     16     11     15     20      7     19  \n",
              "5      12      5     20     15     13      7     13     19     17  \n",
              "6      15     13     11     14     14     21     19     14     12  \n",
              "7      16     14     20     13     20     14     13      9     10  \n",
              "8      12     18     19     13     18     13      9     15     11  \n",
              "9      14     11     17     11     18     13     15     18     15  \n",
              "10     14     11     12     10     17      8     10     18     16  \n",
              "11     13     20     11      9     12      9     18     15     15  \n",
              "12     10     19     13     19     18     14     13     21     11  \n",
              "13     10     19      8     13     12      9     18     11     12  \n",
              "14     12     18     12     12     15     14     16     21     12  \n",
              "15     14     13     12     13     17      9     15     19     15  \n",
              "16     11     19     13     15     11     18     14     10     10  \n",
              "17      7     17     11      5     11     19     19     15     14  \n",
              "18      8     24     16     12     11      9     17     13      8  \n",
              "19     19     17     10     12     16     19     11     16      9  \n",
              "20     18     12     18     17     13      9     15     20     11  \n",
              "21     28     11      7     11     14     17     13     13     10  \n",
              "22     12     12      9     11     15     18     11     15     18  \n",
              "23     21     16     11     13     14     15     17     19     14  \n",
              "24     12     11     24     11      9     16     15      9     13  \n",
              "25     17     13     21     12     14     16     11     15     11  \n",
              "26      7     10     13     11     13     14     17     18     14  \n",
              "27     13      9     12     15      4     20      5     12     13  \n",
              "28     19     13     18     14      7     10     16     12     11  \n",
              "29     13     13      9      8     13      7      9     12     13  \n",
              "\n",
              "[30 rows x 89 columns]"
            ],
            "text/html": [
              "\n",
              "  <div id=\"df-3b90f6fe-6c33-49c0-9280-888426d7db19\">\n",
              "    <div class=\"colab-df-container\">\n",
              "      <div>\n",
              "<style scoped>\n",
              "    .dataframe tbody tr th:only-of-type {\n",
              "        vertical-align: middle;\n",
              "    }\n",
              "\n",
              "    .dataframe tbody tr th {\n",
              "        vertical-align: top;\n",
              "    }\n",
              "\n",
              "    .dataframe thead th {\n",
              "        text-align: right;\n",
              "    }\n",
              "</style>\n",
              "<table border=\"1\" class=\"dataframe\">\n",
              "  <thead>\n",
              "    <tr style=\"text-align: right;\">\n",
              "      <th></th>\n",
              "      <th>Day0</th>\n",
              "      <th>Day1</th>\n",
              "      <th>Day2</th>\n",
              "      <th>Day3</th>\n",
              "      <th>Day4</th>\n",
              "      <th>Day5</th>\n",
              "      <th>Day6</th>\n",
              "      <th>Day7</th>\n",
              "      <th>Day8</th>\n",
              "      <th>Day9</th>\n",
              "      <th>...</th>\n",
              "      <th>Day79</th>\n",
              "      <th>Day80</th>\n",
              "      <th>Day81</th>\n",
              "      <th>Day82</th>\n",
              "      <th>Day83</th>\n",
              "      <th>Day84</th>\n",
              "      <th>Day85</th>\n",
              "      <th>Day86</th>\n",
              "      <th>Day87</th>\n",
              "      <th>Day88</th>\n",
              "    </tr>\n",
              "  </thead>\n",
              "  <tbody>\n",
              "    <tr>\n",
              "      <th>0</th>\n",
              "      <td>15</td>\n",
              "      <td>14</td>\n",
              "      <td>15</td>\n",
              "      <td>12</td>\n",
              "      <td>13</td>\n",
              "      <td>14</td>\n",
              "      <td>18</td>\n",
              "      <td>9</td>\n",
              "      <td>14</td>\n",
              "      <td>15</td>\n",
              "      <td>...</td>\n",
              "      <td>16</td>\n",
              "      <td>12</td>\n",
              "      <td>8</td>\n",
              "      <td>8</td>\n",
              "      <td>15</td>\n",
              "      <td>8</td>\n",
              "      <td>16</td>\n",
              "      <td>14</td>\n",
              "      <td>22</td>\n",
              "      <td>16</td>\n",
              "    </tr>\n",
              "    <tr>\n",
              "      <th>1</th>\n",
              "      <td>13</td>\n",
              "      <td>16</td>\n",
              "      <td>17</td>\n",
              "      <td>15</td>\n",
              "      <td>15</td>\n",
              "      <td>13</td>\n",
              "      <td>9</td>\n",
              "      <td>14</td>\n",
              "      <td>16</td>\n",
              "      <td>16</td>\n",
              "      <td>...</td>\n",
              "      <td>8</td>\n",
              "      <td>13</td>\n",
              "      <td>11</td>\n",
              "      <td>14</td>\n",
              "      <td>12</td>\n",
              "      <td>13</td>\n",
              "      <td>18</td>\n",
              "      <td>12</td>\n",
              "      <td>11</td>\n",
              "      <td>10</td>\n",
              "    </tr>\n",
              "    <tr>\n",
              "      <th>2</th>\n",
              "      <td>19</td>\n",
              "      <td>7</td>\n",
              "      <td>14</td>\n",
              "      <td>8</td>\n",
              "      <td>14</td>\n",
              "      <td>14</td>\n",
              "      <td>19</td>\n",
              "      <td>13</td>\n",
              "      <td>12</td>\n",
              "      <td>10</td>\n",
              "      <td>...</td>\n",
              "      <td>11</td>\n",
              "      <td>13</td>\n",
              "      <td>9</td>\n",
              "      <td>14</td>\n",
              "      <td>8</td>\n",
              "      <td>14</td>\n",
              "      <td>12</td>\n",
              "      <td>15</td>\n",
              "      <td>22</td>\n",
              "      <td>14</td>\n",
              "    </tr>\n",
              "    <tr>\n",
              "      <th>3</th>\n",
              "      <td>14</td>\n",
              "      <td>11</td>\n",
              "      <td>7</td>\n",
              "      <td>17</td>\n",
              "      <td>19</td>\n",
              "      <td>9</td>\n",
              "      <td>16</td>\n",
              "      <td>23</td>\n",
              "      <td>14</td>\n",
              "      <td>18</td>\n",
              "      <td>...</td>\n",
              "      <td>14</td>\n",
              "      <td>14</td>\n",
              "      <td>18</td>\n",
              "      <td>9</td>\n",
              "      <td>13</td>\n",
              "      <td>14</td>\n",
              "      <td>13</td>\n",
              "      <td>6</td>\n",
              "      <td>21</td>\n",
              "      <td>18</td>\n",
              "    </tr>\n",
              "    <tr>\n",
              "      <th>4</th>\n",
              "      <td>15</td>\n",
              "      <td>13</td>\n",
              "      <td>13</td>\n",
              "      <td>15</td>\n",
              "      <td>9</td>\n",
              "      <td>6</td>\n",
              "      <td>7</td>\n",
              "      <td>11</td>\n",
              "      <td>13</td>\n",
              "      <td>11</td>\n",
              "      <td>...</td>\n",
              "      <td>16</td>\n",
              "      <td>16</td>\n",
              "      <td>15</td>\n",
              "      <td>6</td>\n",
              "      <td>16</td>\n",
              "      <td>11</td>\n",
              "      <td>15</td>\n",
              "      <td>20</td>\n",
              "      <td>7</td>\n",
              "      <td>19</td>\n",
              "    </tr>\n",
              "    <tr>\n",
              "      <th>5</th>\n",
              "      <td>10</td>\n",
              "      <td>5</td>\n",
              "      <td>15</td>\n",
              "      <td>21</td>\n",
              "      <td>17</td>\n",
              "      <td>19</td>\n",
              "      <td>11</td>\n",
              "      <td>20</td>\n",
              "      <td>7</td>\n",
              "      <td>17</td>\n",
              "      <td>...</td>\n",
              "      <td>12</td>\n",
              "      <td>12</td>\n",
              "      <td>5</td>\n",
              "      <td>20</td>\n",
              "      <td>15</td>\n",
              "      <td>13</td>\n",
              "      <td>7</td>\n",
              "      <td>13</td>\n",
              "      <td>19</td>\n",
              "      <td>17</td>\n",
              "    </tr>\n",
              "    <tr>\n",
              "      <th>6</th>\n",
              "      <td>10</td>\n",
              "      <td>9</td>\n",
              "      <td>10</td>\n",
              "      <td>16</td>\n",
              "      <td>7</td>\n",
              "      <td>8</td>\n",
              "      <td>14</td>\n",
              "      <td>19</td>\n",
              "      <td>12</td>\n",
              "      <td>12</td>\n",
              "      <td>...</td>\n",
              "      <td>13</td>\n",
              "      <td>15</td>\n",
              "      <td>13</td>\n",
              "      <td>11</td>\n",
              "      <td>14</td>\n",
              "      <td>14</td>\n",
              "      <td>21</td>\n",
              "      <td>19</td>\n",
              "      <td>14</td>\n",
              "      <td>12</td>\n",
              "    </tr>\n",
              "    <tr>\n",
              "      <th>7</th>\n",
              "      <td>15</td>\n",
              "      <td>11</td>\n",
              "      <td>18</td>\n",
              "      <td>16</td>\n",
              "      <td>8</td>\n",
              "      <td>14</td>\n",
              "      <td>11</td>\n",
              "      <td>16</td>\n",
              "      <td>21</td>\n",
              "      <td>14</td>\n",
              "      <td>...</td>\n",
              "      <td>8</td>\n",
              "      <td>16</td>\n",
              "      <td>14</td>\n",
              "      <td>20</td>\n",
              "      <td>13</td>\n",
              "      <td>20</td>\n",
              "      <td>14</td>\n",
              "      <td>13</td>\n",
              "      <td>9</td>\n",
              "      <td>10</td>\n",
              "    </tr>\n",
              "    <tr>\n",
              "      <th>8</th>\n",
              "      <td>14</td>\n",
              "      <td>20</td>\n",
              "      <td>21</td>\n",
              "      <td>11</td>\n",
              "      <td>10</td>\n",
              "      <td>12</td>\n",
              "      <td>19</td>\n",
              "      <td>12</td>\n",
              "      <td>13</td>\n",
              "      <td>16</td>\n",
              "      <td>...</td>\n",
              "      <td>17</td>\n",
              "      <td>12</td>\n",
              "      <td>18</td>\n",
              "      <td>19</td>\n",
              "      <td>13</td>\n",
              "      <td>18</td>\n",
              "      <td>13</td>\n",
              "      <td>9</td>\n",
              "      <td>15</td>\n",
              "      <td>11</td>\n",
              "    </tr>\n",
              "    <tr>\n",
              "      <th>9</th>\n",
              "      <td>10</td>\n",
              "      <td>11</td>\n",
              "      <td>13</td>\n",
              "      <td>15</td>\n",
              "      <td>16</td>\n",
              "      <td>19</td>\n",
              "      <td>9</td>\n",
              "      <td>14</td>\n",
              "      <td>24</td>\n",
              "      <td>10</td>\n",
              "      <td>...</td>\n",
              "      <td>4</td>\n",
              "      <td>14</td>\n",
              "      <td>11</td>\n",
              "      <td>17</td>\n",
              "      <td>11</td>\n",
              "      <td>18</td>\n",
              "      <td>13</td>\n",
              "      <td>15</td>\n",
              "      <td>18</td>\n",
              "      <td>15</td>\n",
              "    </tr>\n",
              "    <tr>\n",
              "      <th>10</th>\n",
              "      <td>17</td>\n",
              "      <td>17</td>\n",
              "      <td>18</td>\n",
              "      <td>19</td>\n",
              "      <td>12</td>\n",
              "      <td>16</td>\n",
              "      <td>10</td>\n",
              "      <td>15</td>\n",
              "      <td>11</td>\n",
              "      <td>13</td>\n",
              "      <td>...</td>\n",
              "      <td>17</td>\n",
              "      <td>14</td>\n",
              "      <td>11</td>\n",
              "      <td>12</td>\n",
              "      <td>10</td>\n",
              "      <td>17</td>\n",
              "      <td>8</td>\n",
              "      <td>10</td>\n",
              "      <td>18</td>\n",
              "      <td>16</td>\n",
              "    </tr>\n",
              "    <tr>\n",
              "      <th>11</th>\n",
              "      <td>9</td>\n",
              "      <td>9</td>\n",
              "      <td>12</td>\n",
              "      <td>13</td>\n",
              "      <td>14</td>\n",
              "      <td>11</td>\n",
              "      <td>18</td>\n",
              "      <td>13</td>\n",
              "      <td>13</td>\n",
              "      <td>12</td>\n",
              "      <td>...</td>\n",
              "      <td>18</td>\n",
              "      <td>13</td>\n",
              "      <td>20</td>\n",
              "      <td>11</td>\n",
              "      <td>9</td>\n",
              "      <td>12</td>\n",
              "      <td>9</td>\n",
              "      <td>18</td>\n",
              "      <td>15</td>\n",
              "      <td>15</td>\n",
              "    </tr>\n",
              "    <tr>\n",
              "      <th>12</th>\n",
              "      <td>14</td>\n",
              "      <td>12</td>\n",
              "      <td>7</td>\n",
              "      <td>12</td>\n",
              "      <td>10</td>\n",
              "      <td>14</td>\n",
              "      <td>15</td>\n",
              "      <td>12</td>\n",
              "      <td>20</td>\n",
              "      <td>11</td>\n",
              "      <td>...</td>\n",
              "      <td>13</td>\n",
              "      <td>10</td>\n",
              "      <td>19</td>\n",
              "      <td>13</td>\n",
              "      <td>19</td>\n",
              "      <td>18</td>\n",
              "      <td>14</td>\n",
              "      <td>13</td>\n",
              "      <td>21</td>\n",
              "      <td>11</td>\n",
              "    </tr>\n",
              "    <tr>\n",
              "      <th>13</th>\n",
              "      <td>21</td>\n",
              "      <td>15</td>\n",
              "      <td>15</td>\n",
              "      <td>9</td>\n",
              "      <td>17</td>\n",
              "      <td>16</td>\n",
              "      <td>9</td>\n",
              "      <td>14</td>\n",
              "      <td>12</td>\n",
              "      <td>9</td>\n",
              "      <td>...</td>\n",
              "      <td>15</td>\n",
              "      <td>10</td>\n",
              "      <td>19</td>\n",
              "      <td>8</td>\n",
              "      <td>13</td>\n",
              "      <td>12</td>\n",
              "      <td>9</td>\n",
              "      <td>18</td>\n",
              "      <td>11</td>\n",
              "      <td>12</td>\n",
              "    </tr>\n",
              "    <tr>\n",
              "      <th>14</th>\n",
              "      <td>16</td>\n",
              "      <td>12</td>\n",
              "      <td>15</td>\n",
              "      <td>8</td>\n",
              "      <td>20</td>\n",
              "      <td>11</td>\n",
              "      <td>16</td>\n",
              "      <td>9</td>\n",
              "      <td>12</td>\n",
              "      <td>11</td>\n",
              "      <td>...</td>\n",
              "      <td>14</td>\n",
              "      <td>12</td>\n",
              "      <td>18</td>\n",
              "      <td>12</td>\n",
              "      <td>12</td>\n",
              "      <td>15</td>\n",
              "      <td>14</td>\n",
              "      <td>16</td>\n",
              "      <td>21</td>\n",
              "      <td>12</td>\n",
              "    </tr>\n",
              "    <tr>\n",
              "      <th>15</th>\n",
              "      <td>18</td>\n",
              "      <td>8</td>\n",
              "      <td>8</td>\n",
              "      <td>15</td>\n",
              "      <td>13</td>\n",
              "      <td>11</td>\n",
              "      <td>17</td>\n",
              "      <td>15</td>\n",
              "      <td>12</td>\n",
              "      <td>13</td>\n",
              "      <td>...</td>\n",
              "      <td>13</td>\n",
              "      <td>14</td>\n",
              "      <td>13</td>\n",
              "      <td>12</td>\n",
              "      <td>13</td>\n",
              "      <td>17</td>\n",
              "      <td>9</td>\n",
              "      <td>15</td>\n",
              "      <td>19</td>\n",
              "      <td>15</td>\n",
              "    </tr>\n",
              "    <tr>\n",
              "      <th>16</th>\n",
              "      <td>14</td>\n",
              "      <td>19</td>\n",
              "      <td>18</td>\n",
              "      <td>11</td>\n",
              "      <td>7</td>\n",
              "      <td>15</td>\n",
              "      <td>11</td>\n",
              "      <td>18</td>\n",
              "      <td>13</td>\n",
              "      <td>10</td>\n",
              "      <td>...</td>\n",
              "      <td>10</td>\n",
              "      <td>11</td>\n",
              "      <td>19</td>\n",
              "      <td>13</td>\n",
              "      <td>15</td>\n",
              "      <td>11</td>\n",
              "      <td>18</td>\n",
              "      <td>14</td>\n",
              "      <td>10</td>\n",
              "      <td>10</td>\n",
              "    </tr>\n",
              "    <tr>\n",
              "      <th>17</th>\n",
              "      <td>21</td>\n",
              "      <td>10</td>\n",
              "      <td>13</td>\n",
              "      <td>18</td>\n",
              "      <td>22</td>\n",
              "      <td>6</td>\n",
              "      <td>14</td>\n",
              "      <td>18</td>\n",
              "      <td>14</td>\n",
              "      <td>13</td>\n",
              "      <td>...</td>\n",
              "      <td>7</td>\n",
              "      <td>7</td>\n",
              "      <td>17</td>\n",
              "      <td>11</td>\n",
              "      <td>5</td>\n",
              "      <td>11</td>\n",
              "      <td>19</td>\n",
              "      <td>19</td>\n",
              "      <td>15</td>\n",
              "      <td>14</td>\n",
              "    </tr>\n",
              "    <tr>\n",
              "      <th>18</th>\n",
              "      <td>7</td>\n",
              "      <td>8</td>\n",
              "      <td>18</td>\n",
              "      <td>13</td>\n",
              "      <td>14</td>\n",
              "      <td>18</td>\n",
              "      <td>13</td>\n",
              "      <td>10</td>\n",
              "      <td>13</td>\n",
              "      <td>8</td>\n",
              "      <td>...</td>\n",
              "      <td>13</td>\n",
              "      <td>8</td>\n",
              "      <td>24</td>\n",
              "      <td>16</td>\n",
              "      <td>12</td>\n",
              "      <td>11</td>\n",
              "      <td>9</td>\n",
              "      <td>17</td>\n",
              "      <td>13</td>\n",
              "      <td>8</td>\n",
              "    </tr>\n",
              "    <tr>\n",
              "      <th>19</th>\n",
              "      <td>11</td>\n",
              "      <td>11</td>\n",
              "      <td>18</td>\n",
              "      <td>14</td>\n",
              "      <td>16</td>\n",
              "      <td>10</td>\n",
              "      <td>10</td>\n",
              "      <td>12</td>\n",
              "      <td>12</td>\n",
              "      <td>17</td>\n",
              "      <td>...</td>\n",
              "      <td>13</td>\n",
              "      <td>19</td>\n",
              "      <td>17</td>\n",
              "      <td>10</td>\n",
              "      <td>12</td>\n",
              "      <td>16</td>\n",
              "      <td>19</td>\n",
              "      <td>11</td>\n",
              "      <td>16</td>\n",
              "      <td>9</td>\n",
              "    </tr>\n",
              "    <tr>\n",
              "      <th>20</th>\n",
              "      <td>14</td>\n",
              "      <td>11</td>\n",
              "      <td>11</td>\n",
              "      <td>11</td>\n",
              "      <td>17</td>\n",
              "      <td>10</td>\n",
              "      <td>17</td>\n",
              "      <td>9</td>\n",
              "      <td>16</td>\n",
              "      <td>13</td>\n",
              "      <td>...</td>\n",
              "      <td>8</td>\n",
              "      <td>18</td>\n",
              "      <td>12</td>\n",
              "      <td>18</td>\n",
              "      <td>17</td>\n",
              "      <td>13</td>\n",
              "      <td>9</td>\n",
              "      <td>15</td>\n",
              "      <td>20</td>\n",
              "      <td>11</td>\n",
              "    </tr>\n",
              "    <tr>\n",
              "      <th>21</th>\n",
              "      <td>20</td>\n",
              "      <td>14</td>\n",
              "      <td>10</td>\n",
              "      <td>16</td>\n",
              "      <td>16</td>\n",
              "      <td>8</td>\n",
              "      <td>22</td>\n",
              "      <td>11</td>\n",
              "      <td>9</td>\n",
              "      <td>12</td>\n",
              "      <td>...</td>\n",
              "      <td>10</td>\n",
              "      <td>28</td>\n",
              "      <td>11</td>\n",
              "      <td>7</td>\n",
              "      <td>11</td>\n",
              "      <td>14</td>\n",
              "      <td>17</td>\n",
              "      <td>13</td>\n",
              "      <td>13</td>\n",
              "      <td>10</td>\n",
              "    </tr>\n",
              "    <tr>\n",
              "      <th>22</th>\n",
              "      <td>17</td>\n",
              "      <td>18</td>\n",
              "      <td>12</td>\n",
              "      <td>15</td>\n",
              "      <td>17</td>\n",
              "      <td>9</td>\n",
              "      <td>13</td>\n",
              "      <td>10</td>\n",
              "      <td>19</td>\n",
              "      <td>16</td>\n",
              "      <td>...</td>\n",
              "      <td>16</td>\n",
              "      <td>12</td>\n",
              "      <td>12</td>\n",
              "      <td>9</td>\n",
              "      <td>11</td>\n",
              "      <td>15</td>\n",
              "      <td>18</td>\n",
              "      <td>11</td>\n",
              "      <td>15</td>\n",
              "      <td>18</td>\n",
              "    </tr>\n",
              "    <tr>\n",
              "      <th>23</th>\n",
              "      <td>8</td>\n",
              "      <td>14</td>\n",
              "      <td>16</td>\n",
              "      <td>12</td>\n",
              "      <td>17</td>\n",
              "      <td>10</td>\n",
              "      <td>15</td>\n",
              "      <td>14</td>\n",
              "      <td>22</td>\n",
              "      <td>14</td>\n",
              "      <td>...</td>\n",
              "      <td>15</td>\n",
              "      <td>21</td>\n",
              "      <td>16</td>\n",
              "      <td>11</td>\n",
              "      <td>13</td>\n",
              "      <td>14</td>\n",
              "      <td>15</td>\n",
              "      <td>17</td>\n",
              "      <td>19</td>\n",
              "      <td>14</td>\n",
              "    </tr>\n",
              "    <tr>\n",
              "      <th>24</th>\n",
              "      <td>9</td>\n",
              "      <td>11</td>\n",
              "      <td>13</td>\n",
              "      <td>15</td>\n",
              "      <td>13</td>\n",
              "      <td>13</td>\n",
              "      <td>11</td>\n",
              "      <td>14</td>\n",
              "      <td>18</td>\n",
              "      <td>12</td>\n",
              "      <td>...</td>\n",
              "      <td>18</td>\n",
              "      <td>12</td>\n",
              "      <td>11</td>\n",
              "      <td>24</td>\n",
              "      <td>11</td>\n",
              "      <td>9</td>\n",
              "      <td>16</td>\n",
              "      <td>15</td>\n",
              "      <td>9</td>\n",
              "      <td>13</td>\n",
              "    </tr>\n",
              "    <tr>\n",
              "      <th>25</th>\n",
              "      <td>13</td>\n",
              "      <td>19</td>\n",
              "      <td>16</td>\n",
              "      <td>12</td>\n",
              "      <td>15</td>\n",
              "      <td>14</td>\n",
              "      <td>12</td>\n",
              "      <td>13</td>\n",
              "      <td>16</td>\n",
              "      <td>16</td>\n",
              "      <td>...</td>\n",
              "      <td>15</td>\n",
              "      <td>17</td>\n",
              "      <td>13</td>\n",
              "      <td>21</td>\n",
              "      <td>12</td>\n",
              "      <td>14</td>\n",
              "      <td>16</td>\n",
              "      <td>11</td>\n",
              "      <td>15</td>\n",
              "      <td>11</td>\n",
              "    </tr>\n",
              "    <tr>\n",
              "      <th>26</th>\n",
              "      <td>17</td>\n",
              "      <td>14</td>\n",
              "      <td>17</td>\n",
              "      <td>16</td>\n",
              "      <td>11</td>\n",
              "      <td>14</td>\n",
              "      <td>18</td>\n",
              "      <td>13</td>\n",
              "      <td>9</td>\n",
              "      <td>18</td>\n",
              "      <td>...</td>\n",
              "      <td>20</td>\n",
              "      <td>7</td>\n",
              "      <td>10</td>\n",
              "      <td>13</td>\n",
              "      <td>11</td>\n",
              "      <td>13</td>\n",
              "      <td>14</td>\n",
              "      <td>17</td>\n",
              "      <td>18</td>\n",
              "      <td>14</td>\n",
              "    </tr>\n",
              "    <tr>\n",
              "      <th>27</th>\n",
              "      <td>9</td>\n",
              "      <td>9</td>\n",
              "      <td>18</td>\n",
              "      <td>16</td>\n",
              "      <td>19</td>\n",
              "      <td>12</td>\n",
              "      <td>16</td>\n",
              "      <td>10</td>\n",
              "      <td>13</td>\n",
              "      <td>16</td>\n",
              "      <td>...</td>\n",
              "      <td>17</td>\n",
              "      <td>13</td>\n",
              "      <td>9</td>\n",
              "      <td>12</td>\n",
              "      <td>15</td>\n",
              "      <td>4</td>\n",
              "      <td>20</td>\n",
              "      <td>5</td>\n",
              "      <td>12</td>\n",
              "      <td>13</td>\n",
              "    </tr>\n",
              "    <tr>\n",
              "      <th>28</th>\n",
              "      <td>17</td>\n",
              "      <td>19</td>\n",
              "      <td>12</td>\n",
              "      <td>11</td>\n",
              "      <td>16</td>\n",
              "      <td>24</td>\n",
              "      <td>14</td>\n",
              "      <td>15</td>\n",
              "      <td>16</td>\n",
              "      <td>15</td>\n",
              "      <td>...</td>\n",
              "      <td>11</td>\n",
              "      <td>19</td>\n",
              "      <td>13</td>\n",
              "      <td>18</td>\n",
              "      <td>14</td>\n",
              "      <td>7</td>\n",
              "      <td>10</td>\n",
              "      <td>16</td>\n",
              "      <td>12</td>\n",
              "      <td>11</td>\n",
              "    </tr>\n",
              "    <tr>\n",
              "      <th>29</th>\n",
              "      <td>10</td>\n",
              "      <td>17</td>\n",
              "      <td>10</td>\n",
              "      <td>10</td>\n",
              "      <td>16</td>\n",
              "      <td>12</td>\n",
              "      <td>12</td>\n",
              "      <td>13</td>\n",
              "      <td>16</td>\n",
              "      <td>20</td>\n",
              "      <td>...</td>\n",
              "      <td>16</td>\n",
              "      <td>13</td>\n",
              "      <td>13</td>\n",
              "      <td>9</td>\n",
              "      <td>8</td>\n",
              "      <td>13</td>\n",
              "      <td>7</td>\n",
              "      <td>9</td>\n",
              "      <td>12</td>\n",
              "      <td>13</td>\n",
              "    </tr>\n",
              "  </tbody>\n",
              "</table>\n",
              "<p>30 rows × 89 columns</p>\n",
              "</div>\n",
              "      <button class=\"colab-df-convert\" onclick=\"convertToInteractive('df-3b90f6fe-6c33-49c0-9280-888426d7db19')\"\n",
              "              title=\"Convert this dataframe to an interactive table.\"\n",
              "              style=\"display:none;\">\n",
              "        \n",
              "  <svg xmlns=\"http://www.w3.org/2000/svg\" height=\"24px\"viewBox=\"0 0 24 24\"\n",
              "       width=\"24px\">\n",
              "    <path d=\"M0 0h24v24H0V0z\" fill=\"none\"/>\n",
              "    <path d=\"M18.56 5.44l.94 2.06.94-2.06 2.06-.94-2.06-.94-.94-2.06-.94 2.06-2.06.94zm-11 1L8.5 8.5l.94-2.06 2.06-.94-2.06-.94L8.5 2.5l-.94 2.06-2.06.94zm10 10l.94 2.06.94-2.06 2.06-.94-2.06-.94-.94-2.06-.94 2.06-2.06.94z\"/><path d=\"M17.41 7.96l-1.37-1.37c-.4-.4-.92-.59-1.43-.59-.52 0-1.04.2-1.43.59L10.3 9.45l-7.72 7.72c-.78.78-.78 2.05 0 2.83L4 21.41c.39.39.9.59 1.41.59.51 0 1.02-.2 1.41-.59l7.78-7.78 2.81-2.81c.8-.78.8-2.07 0-2.86zM5.41 20L4 18.59l7.72-7.72 1.47 1.35L5.41 20z\"/>\n",
              "  </svg>\n",
              "      </button>\n",
              "      \n",
              "  <style>\n",
              "    .colab-df-container {\n",
              "      display:flex;\n",
              "      flex-wrap:wrap;\n",
              "      gap: 12px;\n",
              "    }\n",
              "\n",
              "    .colab-df-convert {\n",
              "      background-color: #E8F0FE;\n",
              "      border: none;\n",
              "      border-radius: 50%;\n",
              "      cursor: pointer;\n",
              "      display: none;\n",
              "      fill: #1967D2;\n",
              "      height: 32px;\n",
              "      padding: 0 0 0 0;\n",
              "      width: 32px;\n",
              "    }\n",
              "\n",
              "    .colab-df-convert:hover {\n",
              "      background-color: #E2EBFA;\n",
              "      box-shadow: 0px 1px 2px rgba(60, 64, 67, 0.3), 0px 1px 3px 1px rgba(60, 64, 67, 0.15);\n",
              "      fill: #174EA6;\n",
              "    }\n",
              "\n",
              "    [theme=dark] .colab-df-convert {\n",
              "      background-color: #3B4455;\n",
              "      fill: #D2E3FC;\n",
              "    }\n",
              "\n",
              "    [theme=dark] .colab-df-convert:hover {\n",
              "      background-color: #434B5C;\n",
              "      box-shadow: 0px 1px 3px 1px rgba(0, 0, 0, 0.15);\n",
              "      filter: drop-shadow(0px 1px 2px rgba(0, 0, 0, 0.3));\n",
              "      fill: #FFFFFF;\n",
              "    }\n",
              "  </style>\n",
              "\n",
              "      <script>\n",
              "        const buttonEl =\n",
              "          document.querySelector('#df-3b90f6fe-6c33-49c0-9280-888426d7db19 button.colab-df-convert');\n",
              "        buttonEl.style.display =\n",
              "          google.colab.kernel.accessAllowed ? 'block' : 'none';\n",
              "\n",
              "        async function convertToInteractive(key) {\n",
              "          const element = document.querySelector('#df-3b90f6fe-6c33-49c0-9280-888426d7db19');\n",
              "          const dataTable =\n",
              "            await google.colab.kernel.invokeFunction('convertToInteractive',\n",
              "                                                     [key], {});\n",
              "          if (!dataTable) return;\n",
              "\n",
              "          const docLinkHtml = 'Like what you see? Visit the ' +\n",
              "            '<a target=\"_blank\" href=https://colab.research.google.com/notebooks/data_table.ipynb>data table notebook</a>'\n",
              "            + ' to learn more about interactive tables.';\n",
              "          element.innerHTML = '';\n",
              "          dataTable['output_type'] = 'display_data';\n",
              "          await google.colab.output.renderOutput(dataTable, element);\n",
              "          const docLink = document.createElement('div');\n",
              "          docLink.innerHTML = docLinkHtml;\n",
              "          element.appendChild(docLink);\n",
              "        }\n",
              "      </script>\n",
              "    </div>\n",
              "  </div>\n",
              "  "
            ]
          },
          "metadata": {},
          "execution_count": 31
        }
      ],
      "source": [
        "merge30"
      ]
    },
    {
      "cell_type": "markdown",
      "metadata": {
        "id": "xQYehjOenls5"
      },
      "source": [
        "### Month-wise Aggregated values from April_2015 till Sept_2017"
      ]
    },
    {
      "cell_type": "code",
      "execution_count": 32,
      "metadata": {
        "id": "9-r3Zoypnls6"
      },
      "outputs": [],
      "source": [
        "monthlyquantity = daily_Sales.groupby([(daily_Sales.index.year), (daily_Sales.index.month)])['Order Item Quantity'].sum().astype(int)\n",
        "monthlydiscount = daily_Sales.groupby([(daily_Sales.index.year), (daily_Sales.index.month)])['Order Item Discount'].sum().astype(int)"
      ]
    },
    {
      "cell_type": "code",
      "execution_count": 33,
      "metadata": {
        "colab": {
          "base_uri": "https://localhost:8080/"
        },
        "id": "t-_TLvhSnls6",
        "outputId": "5f28e080-4be3-4d1c-acd7-307ec9417aad"
      },
      "outputs": [
        {
          "output_type": "execute_result",
          "data": {
            "text/plain": [
              "Date  Date\n",
              "2015  1       12641\n",
              "      2       11897\n",
              "      3       12409\n",
              "      4       12675\n",
              "      5       11902\n",
              "Name: Order Item Discount, dtype: int64"
            ]
          },
          "metadata": {},
          "execution_count": 33
        }
      ],
      "source": [
        "monthlydiscount.head()"
      ]
    },
    {
      "cell_type": "markdown",
      "metadata": {
        "id": "A50Hw2N2nls6"
      },
      "source": [
        "### Convert into a dataframe"
      ]
    },
    {
      "cell_type": "code",
      "execution_count": 34,
      "metadata": {
        "id": "6fcWMxjvnls6"
      },
      "outputs": [],
      "source": [
        "Monthly_Quantity=pd.DataFrame(monthlyquantity)\n",
        "Monthly_Discount=pd.DataFrame(monthlydiscount)"
      ]
    },
    {
      "cell_type": "code",
      "execution_count": 35,
      "metadata": {
        "id": "kNPbIuPznls6"
      },
      "outputs": [],
      "source": [
        "a = Monthly_Quantity.index.get_level_values(0)\n",
        "b = Monthly_Quantity.index.get_level_values(1)\n",
        "c = Monthly_Discount.index.get_level_values(0)\n",
        "e = Monthly_Discount.index.get_level_values(1)"
      ]
    },
    {
      "cell_type": "code",
      "execution_count": 36,
      "metadata": {
        "id": "MCdvyw-fnls6"
      },
      "outputs": [],
      "source": [
        "Monthly_Quantity['Index'] = pd.to_datetime(a* 10000 + b * 100 + 1, format=\"%Y%m%d\")\n",
        "Monthly_Discount['Index'] = pd.to_datetime(c* 10000 + e * 100 + 1, format=\"%Y%m%d\")"
      ]
    },
    {
      "cell_type": "code",
      "execution_count": 37,
      "metadata": {
        "id": "hoVabsKqnls7"
      },
      "outputs": [],
      "source": [
        "Monthly_Quantity.set_index('Index', append=True, inplace=True)\n",
        "Monthly_Discount.set_index('Index', append=True, inplace=True)\n",
        "\n",
        "Monthly_Quantity=Monthly_Quantity.droplevel(0)\n",
        "Monthly_Quantity=Monthly_Quantity.droplevel(0)\n",
        "Monthly_Discount=Monthly_Discount.droplevel(0)\n",
        "Monthly_Discount=Monthly_Discount.droplevel(0)"
      ]
    },
    {
      "cell_type": "code",
      "execution_count": 38,
      "metadata": {
        "colab": {
          "base_uri": "https://localhost:8080/",
          "height": 237
        },
        "id": "0YlTQpA4nls7",
        "outputId": "edfe8ea1-0011-4f1d-efcb-e0efe77fd4c2"
      },
      "outputs": [
        {
          "output_type": "execute_result",
          "data": {
            "text/plain": [
              "            Order Item Quantity\n",
              "Index                          \n",
              "2015-01-01                  415\n",
              "2015-02-01                  392\n",
              "2015-03-01                  405\n",
              "2015-04-01                  417\n",
              "2015-05-01                  392"
            ],
            "text/html": [
              "\n",
              "  <div id=\"df-0f6a8f0e-3b15-4a77-a6f0-e2724f58d114\">\n",
              "    <div class=\"colab-df-container\">\n",
              "      <div>\n",
              "<style scoped>\n",
              "    .dataframe tbody tr th:only-of-type {\n",
              "        vertical-align: middle;\n",
              "    }\n",
              "\n",
              "    .dataframe tbody tr th {\n",
              "        vertical-align: top;\n",
              "    }\n",
              "\n",
              "    .dataframe thead th {\n",
              "        text-align: right;\n",
              "    }\n",
              "</style>\n",
              "<table border=\"1\" class=\"dataframe\">\n",
              "  <thead>\n",
              "    <tr style=\"text-align: right;\">\n",
              "      <th></th>\n",
              "      <th>Order Item Quantity</th>\n",
              "    </tr>\n",
              "    <tr>\n",
              "      <th>Index</th>\n",
              "      <th></th>\n",
              "    </tr>\n",
              "  </thead>\n",
              "  <tbody>\n",
              "    <tr>\n",
              "      <th>2015-01-01</th>\n",
              "      <td>415</td>\n",
              "    </tr>\n",
              "    <tr>\n",
              "      <th>2015-02-01</th>\n",
              "      <td>392</td>\n",
              "    </tr>\n",
              "    <tr>\n",
              "      <th>2015-03-01</th>\n",
              "      <td>405</td>\n",
              "    </tr>\n",
              "    <tr>\n",
              "      <th>2015-04-01</th>\n",
              "      <td>417</td>\n",
              "    </tr>\n",
              "    <tr>\n",
              "      <th>2015-05-01</th>\n",
              "      <td>392</td>\n",
              "    </tr>\n",
              "  </tbody>\n",
              "</table>\n",
              "</div>\n",
              "      <button class=\"colab-df-convert\" onclick=\"convertToInteractive('df-0f6a8f0e-3b15-4a77-a6f0-e2724f58d114')\"\n",
              "              title=\"Convert this dataframe to an interactive table.\"\n",
              "              style=\"display:none;\">\n",
              "        \n",
              "  <svg xmlns=\"http://www.w3.org/2000/svg\" height=\"24px\"viewBox=\"0 0 24 24\"\n",
              "       width=\"24px\">\n",
              "    <path d=\"M0 0h24v24H0V0z\" fill=\"none\"/>\n",
              "    <path d=\"M18.56 5.44l.94 2.06.94-2.06 2.06-.94-2.06-.94-.94-2.06-.94 2.06-2.06.94zm-11 1L8.5 8.5l.94-2.06 2.06-.94-2.06-.94L8.5 2.5l-.94 2.06-2.06.94zm10 10l.94 2.06.94-2.06 2.06-.94-2.06-.94-.94-2.06-.94 2.06-2.06.94z\"/><path d=\"M17.41 7.96l-1.37-1.37c-.4-.4-.92-.59-1.43-.59-.52 0-1.04.2-1.43.59L10.3 9.45l-7.72 7.72c-.78.78-.78 2.05 0 2.83L4 21.41c.39.39.9.59 1.41.59.51 0 1.02-.2 1.41-.59l7.78-7.78 2.81-2.81c.8-.78.8-2.07 0-2.86zM5.41 20L4 18.59l7.72-7.72 1.47 1.35L5.41 20z\"/>\n",
              "  </svg>\n",
              "      </button>\n",
              "      \n",
              "  <style>\n",
              "    .colab-df-container {\n",
              "      display:flex;\n",
              "      flex-wrap:wrap;\n",
              "      gap: 12px;\n",
              "    }\n",
              "\n",
              "    .colab-df-convert {\n",
              "      background-color: #E8F0FE;\n",
              "      border: none;\n",
              "      border-radius: 50%;\n",
              "      cursor: pointer;\n",
              "      display: none;\n",
              "      fill: #1967D2;\n",
              "      height: 32px;\n",
              "      padding: 0 0 0 0;\n",
              "      width: 32px;\n",
              "    }\n",
              "\n",
              "    .colab-df-convert:hover {\n",
              "      background-color: #E2EBFA;\n",
              "      box-shadow: 0px 1px 2px rgba(60, 64, 67, 0.3), 0px 1px 3px 1px rgba(60, 64, 67, 0.15);\n",
              "      fill: #174EA6;\n",
              "    }\n",
              "\n",
              "    [theme=dark] .colab-df-convert {\n",
              "      background-color: #3B4455;\n",
              "      fill: #D2E3FC;\n",
              "    }\n",
              "\n",
              "    [theme=dark] .colab-df-convert:hover {\n",
              "      background-color: #434B5C;\n",
              "      box-shadow: 0px 1px 3px 1px rgba(0, 0, 0, 0.15);\n",
              "      filter: drop-shadow(0px 1px 2px rgba(0, 0, 0, 0.3));\n",
              "      fill: #FFFFFF;\n",
              "    }\n",
              "  </style>\n",
              "\n",
              "      <script>\n",
              "        const buttonEl =\n",
              "          document.querySelector('#df-0f6a8f0e-3b15-4a77-a6f0-e2724f58d114 button.colab-df-convert');\n",
              "        buttonEl.style.display =\n",
              "          google.colab.kernel.accessAllowed ? 'block' : 'none';\n",
              "\n",
              "        async function convertToInteractive(key) {\n",
              "          const element = document.querySelector('#df-0f6a8f0e-3b15-4a77-a6f0-e2724f58d114');\n",
              "          const dataTable =\n",
              "            await google.colab.kernel.invokeFunction('convertToInteractive',\n",
              "                                                     [key], {});\n",
              "          if (!dataTable) return;\n",
              "\n",
              "          const docLinkHtml = 'Like what you see? Visit the ' +\n",
              "            '<a target=\"_blank\" href=https://colab.research.google.com/notebooks/data_table.ipynb>data table notebook</a>'\n",
              "            + ' to learn more about interactive tables.';\n",
              "          element.innerHTML = '';\n",
              "          dataTable['output_type'] = 'display_data';\n",
              "          await google.colab.output.renderOutput(dataTable, element);\n",
              "          const docLink = document.createElement('div');\n",
              "          docLink.innerHTML = docLinkHtml;\n",
              "          element.appendChild(docLink);\n",
              "        }\n",
              "      </script>\n",
              "    </div>\n",
              "  </div>\n",
              "  "
            ]
          },
          "metadata": {},
          "execution_count": 38
        }
      ],
      "source": [
        "Monthly_Quantity.head()"
      ]
    },
    {
      "cell_type": "code",
      "execution_count": 39,
      "metadata": {
        "colab": {
          "base_uri": "https://localhost:8080/"
        },
        "id": "PjCusHUjnls7",
        "outputId": "4c40fc01-074e-4c3f-e3e7-e682bf0dd34f"
      },
      "outputs": [
        {
          "output_type": "execute_result",
          "data": {
            "text/plain": [
              "(34, 1)"
            ]
          },
          "metadata": {},
          "execution_count": 39
        }
      ],
      "source": [
        "Monthly_Quantity.shape"
      ]
    },
    {
      "cell_type": "markdown",
      "metadata": {
        "id": "0Ite_JPSnls7"
      },
      "source": [
        "### Slicing and Selecting monthly Items sold from April_2015 till Sept_2017"
      ]
    },
    {
      "cell_type": "code",
      "execution_count": 40,
      "metadata": {
        "id": "8epCPvcwnls7"
      },
      "outputs": [],
      "source": [
        "MonthlyDiscount = Monthly_Discount.iloc[3:33]\n",
        "MonthlyQuantity = Monthly_Quantity.iloc[3:33]"
      ]
    },
    {
      "cell_type": "code",
      "execution_count": 41,
      "metadata": {
        "colab": {
          "base_uri": "https://localhost:8080/"
        },
        "id": "03tArVhjnls8",
        "outputId": "06c68635-90ae-44b4-bd58-b572ef64cd93"
      },
      "outputs": [
        {
          "output_type": "execute_result",
          "data": {
            "text/plain": [
              "(30, 1)"
            ]
          },
          "metadata": {},
          "execution_count": 41
        }
      ],
      "source": [
        "MonthlyQuantity.shape"
      ]
    },
    {
      "cell_type": "markdown",
      "metadata": {
        "id": "cL3drk-0nls8"
      },
      "source": [
        "### List down the values of monthly Item Quantity sold from April_2015 till Sept_2017"
      ]
    },
    {
      "cell_type": "code",
      "execution_count": 42,
      "metadata": {
        "colab": {
          "base_uri": "https://localhost:8080/"
        },
        "id": "8-badOAOnls8",
        "outputId": "42210044-1ff7-4ae8-a48a-8af0abc00f47"
      },
      "outputs": [
        {
          "output_type": "stream",
          "name": "stdout",
          "text": [
            "[417, 392, 411, 412, 407, 436, 428, 430, 389, 416, 383, 433, 384, 426, 421, 418, 419, 385, 422, 426, 395, 425, 422, 450, 436, 451, 410, 431, 391, 436]\n",
            "[12675, 11902, 12437, 12467, 12461, 13170, 13086, 13092, 11758, 12680, 11664, 13150, 11548, 13067, 12643, 12821, 12779, 11593, 12917, 12796, 12035, 13046, 12663, 13677, 13369, 13723, 12368, 13054, 12005, 13158]\n"
          ]
        }
      ],
      "source": [
        "MonthlyItemQuantity = MonthlyQuantity['Order Item Quantity'].tolist()\n",
        "MonthlyItemDiscount = MonthlyDiscount['Order Item Discount'].tolist()\n",
        "print(MonthlyItemQuantity)\n",
        "print(MonthlyItemDiscount)"
      ]
    },
    {
      "cell_type": "markdown",
      "metadata": {
        "id": "bk0Z3Veanls9"
      },
      "source": [
        "### Create a copy of the dataset"
      ]
    },
    {
      "cell_type": "code",
      "execution_count": 43,
      "metadata": {
        "id": "1X2Tf59Snls9"
      },
      "outputs": [],
      "source": [
        "df1 = merge30.copy()"
      ]
    },
    {
      "cell_type": "code",
      "execution_count": 44,
      "metadata": {
        "colab": {
          "base_uri": "https://localhost:8080/",
          "height": 235
        },
        "id": "uFqCysQsnls9",
        "outputId": "72377c48-5160-45c0-e460-013823700c30"
      },
      "outputs": [
        {
          "output_type": "execute_result",
          "data": {
            "text/plain": [
              "   Day0  Day1  Day2  Day3  Day4  Day5  Day6  Day7  Day8  Day9  ...  Day79  \\\n",
              "0    15    14    15    12    13    14    18     9    14    15  ...     16   \n",
              "1    13    16    17    15    15    13     9    14    16    16  ...      8   \n",
              "2    19     7    14     8    14    14    19    13    12    10  ...     11   \n",
              "3    14    11     7    17    19     9    16    23    14    18  ...     14   \n",
              "4    15    13    13    15     9     6     7    11    13    11  ...     16   \n",
              "\n",
              "   Day80  Day81  Day82  Day83  Day84  Day85  Day86  Day87  Day88  \n",
              "0     12      8      8     15      8     16     14     22     16  \n",
              "1     13     11     14     12     13     18     12     11     10  \n",
              "2     13      9     14      8     14     12     15     22     14  \n",
              "3     14     18      9     13     14     13      6     21     18  \n",
              "4     16     15      6     16     11     15     20      7     19  \n",
              "\n",
              "[5 rows x 89 columns]"
            ],
            "text/html": [
              "\n",
              "  <div id=\"df-3b0e7f9a-5a27-4e02-a357-f7d1fc54d26e\">\n",
              "    <div class=\"colab-df-container\">\n",
              "      <div>\n",
              "<style scoped>\n",
              "    .dataframe tbody tr th:only-of-type {\n",
              "        vertical-align: middle;\n",
              "    }\n",
              "\n",
              "    .dataframe tbody tr th {\n",
              "        vertical-align: top;\n",
              "    }\n",
              "\n",
              "    .dataframe thead th {\n",
              "        text-align: right;\n",
              "    }\n",
              "</style>\n",
              "<table border=\"1\" class=\"dataframe\">\n",
              "  <thead>\n",
              "    <tr style=\"text-align: right;\">\n",
              "      <th></th>\n",
              "      <th>Day0</th>\n",
              "      <th>Day1</th>\n",
              "      <th>Day2</th>\n",
              "      <th>Day3</th>\n",
              "      <th>Day4</th>\n",
              "      <th>Day5</th>\n",
              "      <th>Day6</th>\n",
              "      <th>Day7</th>\n",
              "      <th>Day8</th>\n",
              "      <th>Day9</th>\n",
              "      <th>...</th>\n",
              "      <th>Day79</th>\n",
              "      <th>Day80</th>\n",
              "      <th>Day81</th>\n",
              "      <th>Day82</th>\n",
              "      <th>Day83</th>\n",
              "      <th>Day84</th>\n",
              "      <th>Day85</th>\n",
              "      <th>Day86</th>\n",
              "      <th>Day87</th>\n",
              "      <th>Day88</th>\n",
              "    </tr>\n",
              "  </thead>\n",
              "  <tbody>\n",
              "    <tr>\n",
              "      <th>0</th>\n",
              "      <td>15</td>\n",
              "      <td>14</td>\n",
              "      <td>15</td>\n",
              "      <td>12</td>\n",
              "      <td>13</td>\n",
              "      <td>14</td>\n",
              "      <td>18</td>\n",
              "      <td>9</td>\n",
              "      <td>14</td>\n",
              "      <td>15</td>\n",
              "      <td>...</td>\n",
              "      <td>16</td>\n",
              "      <td>12</td>\n",
              "      <td>8</td>\n",
              "      <td>8</td>\n",
              "      <td>15</td>\n",
              "      <td>8</td>\n",
              "      <td>16</td>\n",
              "      <td>14</td>\n",
              "      <td>22</td>\n",
              "      <td>16</td>\n",
              "    </tr>\n",
              "    <tr>\n",
              "      <th>1</th>\n",
              "      <td>13</td>\n",
              "      <td>16</td>\n",
              "      <td>17</td>\n",
              "      <td>15</td>\n",
              "      <td>15</td>\n",
              "      <td>13</td>\n",
              "      <td>9</td>\n",
              "      <td>14</td>\n",
              "      <td>16</td>\n",
              "      <td>16</td>\n",
              "      <td>...</td>\n",
              "      <td>8</td>\n",
              "      <td>13</td>\n",
              "      <td>11</td>\n",
              "      <td>14</td>\n",
              "      <td>12</td>\n",
              "      <td>13</td>\n",
              "      <td>18</td>\n",
              "      <td>12</td>\n",
              "      <td>11</td>\n",
              "      <td>10</td>\n",
              "    </tr>\n",
              "    <tr>\n",
              "      <th>2</th>\n",
              "      <td>19</td>\n",
              "      <td>7</td>\n",
              "      <td>14</td>\n",
              "      <td>8</td>\n",
              "      <td>14</td>\n",
              "      <td>14</td>\n",
              "      <td>19</td>\n",
              "      <td>13</td>\n",
              "      <td>12</td>\n",
              "      <td>10</td>\n",
              "      <td>...</td>\n",
              "      <td>11</td>\n",
              "      <td>13</td>\n",
              "      <td>9</td>\n",
              "      <td>14</td>\n",
              "      <td>8</td>\n",
              "      <td>14</td>\n",
              "      <td>12</td>\n",
              "      <td>15</td>\n",
              "      <td>22</td>\n",
              "      <td>14</td>\n",
              "    </tr>\n",
              "    <tr>\n",
              "      <th>3</th>\n",
              "      <td>14</td>\n",
              "      <td>11</td>\n",
              "      <td>7</td>\n",
              "      <td>17</td>\n",
              "      <td>19</td>\n",
              "      <td>9</td>\n",
              "      <td>16</td>\n",
              "      <td>23</td>\n",
              "      <td>14</td>\n",
              "      <td>18</td>\n",
              "      <td>...</td>\n",
              "      <td>14</td>\n",
              "      <td>14</td>\n",
              "      <td>18</td>\n",
              "      <td>9</td>\n",
              "      <td>13</td>\n",
              "      <td>14</td>\n",
              "      <td>13</td>\n",
              "      <td>6</td>\n",
              "      <td>21</td>\n",
              "      <td>18</td>\n",
              "    </tr>\n",
              "    <tr>\n",
              "      <th>4</th>\n",
              "      <td>15</td>\n",
              "      <td>13</td>\n",
              "      <td>13</td>\n",
              "      <td>15</td>\n",
              "      <td>9</td>\n",
              "      <td>6</td>\n",
              "      <td>7</td>\n",
              "      <td>11</td>\n",
              "      <td>13</td>\n",
              "      <td>11</td>\n",
              "      <td>...</td>\n",
              "      <td>16</td>\n",
              "      <td>16</td>\n",
              "      <td>15</td>\n",
              "      <td>6</td>\n",
              "      <td>16</td>\n",
              "      <td>11</td>\n",
              "      <td>15</td>\n",
              "      <td>20</td>\n",
              "      <td>7</td>\n",
              "      <td>19</td>\n",
              "    </tr>\n",
              "  </tbody>\n",
              "</table>\n",
              "<p>5 rows × 89 columns</p>\n",
              "</div>\n",
              "      <button class=\"colab-df-convert\" onclick=\"convertToInteractive('df-3b0e7f9a-5a27-4e02-a357-f7d1fc54d26e')\"\n",
              "              title=\"Convert this dataframe to an interactive table.\"\n",
              "              style=\"display:none;\">\n",
              "        \n",
              "  <svg xmlns=\"http://www.w3.org/2000/svg\" height=\"24px\"viewBox=\"0 0 24 24\"\n",
              "       width=\"24px\">\n",
              "    <path d=\"M0 0h24v24H0V0z\" fill=\"none\"/>\n",
              "    <path d=\"M18.56 5.44l.94 2.06.94-2.06 2.06-.94-2.06-.94-.94-2.06-.94 2.06-2.06.94zm-11 1L8.5 8.5l.94-2.06 2.06-.94-2.06-.94L8.5 2.5l-.94 2.06-2.06.94zm10 10l.94 2.06.94-2.06 2.06-.94-2.06-.94-.94-2.06-.94 2.06-2.06.94z\"/><path d=\"M17.41 7.96l-1.37-1.37c-.4-.4-.92-.59-1.43-.59-.52 0-1.04.2-1.43.59L10.3 9.45l-7.72 7.72c-.78.78-.78 2.05 0 2.83L4 21.41c.39.39.9.59 1.41.59.51 0 1.02-.2 1.41-.59l7.78-7.78 2.81-2.81c.8-.78.8-2.07 0-2.86zM5.41 20L4 18.59l7.72-7.72 1.47 1.35L5.41 20z\"/>\n",
              "  </svg>\n",
              "      </button>\n",
              "      \n",
              "  <style>\n",
              "    .colab-df-container {\n",
              "      display:flex;\n",
              "      flex-wrap:wrap;\n",
              "      gap: 12px;\n",
              "    }\n",
              "\n",
              "    .colab-df-convert {\n",
              "      background-color: #E8F0FE;\n",
              "      border: none;\n",
              "      border-radius: 50%;\n",
              "      cursor: pointer;\n",
              "      display: none;\n",
              "      fill: #1967D2;\n",
              "      height: 32px;\n",
              "      padding: 0 0 0 0;\n",
              "      width: 32px;\n",
              "    }\n",
              "\n",
              "    .colab-df-convert:hover {\n",
              "      background-color: #E2EBFA;\n",
              "      box-shadow: 0px 1px 2px rgba(60, 64, 67, 0.3), 0px 1px 3px 1px rgba(60, 64, 67, 0.15);\n",
              "      fill: #174EA6;\n",
              "    }\n",
              "\n",
              "    [theme=dark] .colab-df-convert {\n",
              "      background-color: #3B4455;\n",
              "      fill: #D2E3FC;\n",
              "    }\n",
              "\n",
              "    [theme=dark] .colab-df-convert:hover {\n",
              "      background-color: #434B5C;\n",
              "      box-shadow: 0px 1px 3px 1px rgba(0, 0, 0, 0.15);\n",
              "      filter: drop-shadow(0px 1px 2px rgba(0, 0, 0, 0.3));\n",
              "      fill: #FFFFFF;\n",
              "    }\n",
              "  </style>\n",
              "\n",
              "      <script>\n",
              "        const buttonEl =\n",
              "          document.querySelector('#df-3b0e7f9a-5a27-4e02-a357-f7d1fc54d26e button.colab-df-convert');\n",
              "        buttonEl.style.display =\n",
              "          google.colab.kernel.accessAllowed ? 'block' : 'none';\n",
              "\n",
              "        async function convertToInteractive(key) {\n",
              "          const element = document.querySelector('#df-3b0e7f9a-5a27-4e02-a357-f7d1fc54d26e');\n",
              "          const dataTable =\n",
              "            await google.colab.kernel.invokeFunction('convertToInteractive',\n",
              "                                                     [key], {});\n",
              "          if (!dataTable) return;\n",
              "\n",
              "          const docLinkHtml = 'Like what you see? Visit the ' +\n",
              "            '<a target=\"_blank\" href=https://colab.research.google.com/notebooks/data_table.ipynb>data table notebook</a>'\n",
              "            + ' to learn more about interactive tables.';\n",
              "          element.innerHTML = '';\n",
              "          dataTable['output_type'] = 'display_data';\n",
              "          await google.colab.output.renderOutput(dataTable, element);\n",
              "          const docLink = document.createElement('div');\n",
              "          docLink.innerHTML = docLinkHtml;\n",
              "          element.appendChild(docLink);\n",
              "        }\n",
              "      </script>\n",
              "    </div>\n",
              "  </div>\n",
              "  "
            ]
          },
          "metadata": {},
          "execution_count": 44
        }
      ],
      "source": [
        "df1.head()"
      ]
    },
    {
      "cell_type": "markdown",
      "metadata": {
        "id": "dcsHEsZonls-"
      },
      "source": [
        "### Adding the Target variable to the dataframe\n"
      ]
    },
    {
      "cell_type": "code",
      "execution_count": 45,
      "metadata": {
        "id": "ucc9MDPynls-"
      },
      "outputs": [],
      "source": [
        "df1.insert(loc=89, column='Order Item Quantity', value=MonthlyItemQuantity)"
      ]
    },
    {
      "cell_type": "code",
      "execution_count": 46,
      "metadata": {
        "colab": {
          "base_uri": "https://localhost:8080/",
          "height": 1000
        },
        "id": "VAQ2yFM2nls-",
        "outputId": "bc5cacae-ddf4-416e-c829-aece4e692afc"
      },
      "outputs": [
        {
          "output_type": "execute_result",
          "data": {
            "text/plain": [
              "    Day0  Day1  Day2  Day3  Day4  Day5  Day6  Day7  Day8  Day9  ...  Day80  \\\n",
              "0     15    14    15    12    13    14    18     9    14    15  ...     12   \n",
              "1     13    16    17    15    15    13     9    14    16    16  ...     13   \n",
              "2     19     7    14     8    14    14    19    13    12    10  ...     13   \n",
              "3     14    11     7    17    19     9    16    23    14    18  ...     14   \n",
              "4     15    13    13    15     9     6     7    11    13    11  ...     16   \n",
              "5     10     5    15    21    17    19    11    20     7    17  ...     12   \n",
              "6     10     9    10    16     7     8    14    19    12    12  ...     15   \n",
              "7     15    11    18    16     8    14    11    16    21    14  ...     16   \n",
              "8     14    20    21    11    10    12    19    12    13    16  ...     12   \n",
              "9     10    11    13    15    16    19     9    14    24    10  ...     14   \n",
              "10    17    17    18    19    12    16    10    15    11    13  ...     14   \n",
              "11     9     9    12    13    14    11    18    13    13    12  ...     13   \n",
              "12    14    12     7    12    10    14    15    12    20    11  ...     10   \n",
              "13    21    15    15     9    17    16     9    14    12     9  ...     10   \n",
              "14    16    12    15     8    20    11    16     9    12    11  ...     12   \n",
              "15    18     8     8    15    13    11    17    15    12    13  ...     14   \n",
              "16    14    19    18    11     7    15    11    18    13    10  ...     11   \n",
              "17    21    10    13    18    22     6    14    18    14    13  ...      7   \n",
              "18     7     8    18    13    14    18    13    10    13     8  ...      8   \n",
              "19    11    11    18    14    16    10    10    12    12    17  ...     19   \n",
              "20    14    11    11    11    17    10    17     9    16    13  ...     18   \n",
              "21    20    14    10    16    16     8    22    11     9    12  ...     28   \n",
              "22    17    18    12    15    17     9    13    10    19    16  ...     12   \n",
              "23     8    14    16    12    17    10    15    14    22    14  ...     21   \n",
              "24     9    11    13    15    13    13    11    14    18    12  ...     12   \n",
              "25    13    19    16    12    15    14    12    13    16    16  ...     17   \n",
              "26    17    14    17    16    11    14    18    13     9    18  ...      7   \n",
              "27     9     9    18    16    19    12    16    10    13    16  ...     13   \n",
              "28    17    19    12    11    16    24    14    15    16    15  ...     19   \n",
              "29    10    17    10    10    16    12    12    13    16    20  ...     13   \n",
              "\n",
              "    Day81  Day82  Day83  Day84  Day85  Day86  Day87  Day88  \\\n",
              "0       8      8     15      8     16     14     22     16   \n",
              "1      11     14     12     13     18     12     11     10   \n",
              "2       9     14      8     14     12     15     22     14   \n",
              "3      18      9     13     14     13      6     21     18   \n",
              "4      15      6     16     11     15     20      7     19   \n",
              "5       5     20     15     13      7     13     19     17   \n",
              "6      13     11     14     14     21     19     14     12   \n",
              "7      14     20     13     20     14     13      9     10   \n",
              "8      18     19     13     18     13      9     15     11   \n",
              "9      11     17     11     18     13     15     18     15   \n",
              "10     11     12     10     17      8     10     18     16   \n",
              "11     20     11      9     12      9     18     15     15   \n",
              "12     19     13     19     18     14     13     21     11   \n",
              "13     19      8     13     12      9     18     11     12   \n",
              "14     18     12     12     15     14     16     21     12   \n",
              "15     13     12     13     17      9     15     19     15   \n",
              "16     19     13     15     11     18     14     10     10   \n",
              "17     17     11      5     11     19     19     15     14   \n",
              "18     24     16     12     11      9     17     13      8   \n",
              "19     17     10     12     16     19     11     16      9   \n",
              "20     12     18     17     13      9     15     20     11   \n",
              "21     11      7     11     14     17     13     13     10   \n",
              "22     12      9     11     15     18     11     15     18   \n",
              "23     16     11     13     14     15     17     19     14   \n",
              "24     11     24     11      9     16     15      9     13   \n",
              "25     13     21     12     14     16     11     15     11   \n",
              "26     10     13     11     13     14     17     18     14   \n",
              "27      9     12     15      4     20      5     12     13   \n",
              "28     13     18     14      7     10     16     12     11   \n",
              "29     13      9      8     13      7      9     12     13   \n",
              "\n",
              "    Order Item Quantity  \n",
              "0                   417  \n",
              "1                   392  \n",
              "2                   411  \n",
              "3                   412  \n",
              "4                   407  \n",
              "5                   436  \n",
              "6                   428  \n",
              "7                   430  \n",
              "8                   389  \n",
              "9                   416  \n",
              "10                  383  \n",
              "11                  433  \n",
              "12                  384  \n",
              "13                  426  \n",
              "14                  421  \n",
              "15                  418  \n",
              "16                  419  \n",
              "17                  385  \n",
              "18                  422  \n",
              "19                  426  \n",
              "20                  395  \n",
              "21                  425  \n",
              "22                  422  \n",
              "23                  450  \n",
              "24                  436  \n",
              "25                  451  \n",
              "26                  410  \n",
              "27                  431  \n",
              "28                  391  \n",
              "29                  436  \n",
              "\n",
              "[30 rows x 90 columns]"
            ],
            "text/html": [
              "\n",
              "  <div id=\"df-5206d2c0-3cf0-43d7-9e34-0cc7bddf3fc2\">\n",
              "    <div class=\"colab-df-container\">\n",
              "      <div>\n",
              "<style scoped>\n",
              "    .dataframe tbody tr th:only-of-type {\n",
              "        vertical-align: middle;\n",
              "    }\n",
              "\n",
              "    .dataframe tbody tr th {\n",
              "        vertical-align: top;\n",
              "    }\n",
              "\n",
              "    .dataframe thead th {\n",
              "        text-align: right;\n",
              "    }\n",
              "</style>\n",
              "<table border=\"1\" class=\"dataframe\">\n",
              "  <thead>\n",
              "    <tr style=\"text-align: right;\">\n",
              "      <th></th>\n",
              "      <th>Day0</th>\n",
              "      <th>Day1</th>\n",
              "      <th>Day2</th>\n",
              "      <th>Day3</th>\n",
              "      <th>Day4</th>\n",
              "      <th>Day5</th>\n",
              "      <th>Day6</th>\n",
              "      <th>Day7</th>\n",
              "      <th>Day8</th>\n",
              "      <th>Day9</th>\n",
              "      <th>...</th>\n",
              "      <th>Day80</th>\n",
              "      <th>Day81</th>\n",
              "      <th>Day82</th>\n",
              "      <th>Day83</th>\n",
              "      <th>Day84</th>\n",
              "      <th>Day85</th>\n",
              "      <th>Day86</th>\n",
              "      <th>Day87</th>\n",
              "      <th>Day88</th>\n",
              "      <th>Order Item Quantity</th>\n",
              "    </tr>\n",
              "  </thead>\n",
              "  <tbody>\n",
              "    <tr>\n",
              "      <th>0</th>\n",
              "      <td>15</td>\n",
              "      <td>14</td>\n",
              "      <td>15</td>\n",
              "      <td>12</td>\n",
              "      <td>13</td>\n",
              "      <td>14</td>\n",
              "      <td>18</td>\n",
              "      <td>9</td>\n",
              "      <td>14</td>\n",
              "      <td>15</td>\n",
              "      <td>...</td>\n",
              "      <td>12</td>\n",
              "      <td>8</td>\n",
              "      <td>8</td>\n",
              "      <td>15</td>\n",
              "      <td>8</td>\n",
              "      <td>16</td>\n",
              "      <td>14</td>\n",
              "      <td>22</td>\n",
              "      <td>16</td>\n",
              "      <td>417</td>\n",
              "    </tr>\n",
              "    <tr>\n",
              "      <th>1</th>\n",
              "      <td>13</td>\n",
              "      <td>16</td>\n",
              "      <td>17</td>\n",
              "      <td>15</td>\n",
              "      <td>15</td>\n",
              "      <td>13</td>\n",
              "      <td>9</td>\n",
              "      <td>14</td>\n",
              "      <td>16</td>\n",
              "      <td>16</td>\n",
              "      <td>...</td>\n",
              "      <td>13</td>\n",
              "      <td>11</td>\n",
              "      <td>14</td>\n",
              "      <td>12</td>\n",
              "      <td>13</td>\n",
              "      <td>18</td>\n",
              "      <td>12</td>\n",
              "      <td>11</td>\n",
              "      <td>10</td>\n",
              "      <td>392</td>\n",
              "    </tr>\n",
              "    <tr>\n",
              "      <th>2</th>\n",
              "      <td>19</td>\n",
              "      <td>7</td>\n",
              "      <td>14</td>\n",
              "      <td>8</td>\n",
              "      <td>14</td>\n",
              "      <td>14</td>\n",
              "      <td>19</td>\n",
              "      <td>13</td>\n",
              "      <td>12</td>\n",
              "      <td>10</td>\n",
              "      <td>...</td>\n",
              "      <td>13</td>\n",
              "      <td>9</td>\n",
              "      <td>14</td>\n",
              "      <td>8</td>\n",
              "      <td>14</td>\n",
              "      <td>12</td>\n",
              "      <td>15</td>\n",
              "      <td>22</td>\n",
              "      <td>14</td>\n",
              "      <td>411</td>\n",
              "    </tr>\n",
              "    <tr>\n",
              "      <th>3</th>\n",
              "      <td>14</td>\n",
              "      <td>11</td>\n",
              "      <td>7</td>\n",
              "      <td>17</td>\n",
              "      <td>19</td>\n",
              "      <td>9</td>\n",
              "      <td>16</td>\n",
              "      <td>23</td>\n",
              "      <td>14</td>\n",
              "      <td>18</td>\n",
              "      <td>...</td>\n",
              "      <td>14</td>\n",
              "      <td>18</td>\n",
              "      <td>9</td>\n",
              "      <td>13</td>\n",
              "      <td>14</td>\n",
              "      <td>13</td>\n",
              "      <td>6</td>\n",
              "      <td>21</td>\n",
              "      <td>18</td>\n",
              "      <td>412</td>\n",
              "    </tr>\n",
              "    <tr>\n",
              "      <th>4</th>\n",
              "      <td>15</td>\n",
              "      <td>13</td>\n",
              "      <td>13</td>\n",
              "      <td>15</td>\n",
              "      <td>9</td>\n",
              "      <td>6</td>\n",
              "      <td>7</td>\n",
              "      <td>11</td>\n",
              "      <td>13</td>\n",
              "      <td>11</td>\n",
              "      <td>...</td>\n",
              "      <td>16</td>\n",
              "      <td>15</td>\n",
              "      <td>6</td>\n",
              "      <td>16</td>\n",
              "      <td>11</td>\n",
              "      <td>15</td>\n",
              "      <td>20</td>\n",
              "      <td>7</td>\n",
              "      <td>19</td>\n",
              "      <td>407</td>\n",
              "    </tr>\n",
              "    <tr>\n",
              "      <th>5</th>\n",
              "      <td>10</td>\n",
              "      <td>5</td>\n",
              "      <td>15</td>\n",
              "      <td>21</td>\n",
              "      <td>17</td>\n",
              "      <td>19</td>\n",
              "      <td>11</td>\n",
              "      <td>20</td>\n",
              "      <td>7</td>\n",
              "      <td>17</td>\n",
              "      <td>...</td>\n",
              "      <td>12</td>\n",
              "      <td>5</td>\n",
              "      <td>20</td>\n",
              "      <td>15</td>\n",
              "      <td>13</td>\n",
              "      <td>7</td>\n",
              "      <td>13</td>\n",
              "      <td>19</td>\n",
              "      <td>17</td>\n",
              "      <td>436</td>\n",
              "    </tr>\n",
              "    <tr>\n",
              "      <th>6</th>\n",
              "      <td>10</td>\n",
              "      <td>9</td>\n",
              "      <td>10</td>\n",
              "      <td>16</td>\n",
              "      <td>7</td>\n",
              "      <td>8</td>\n",
              "      <td>14</td>\n",
              "      <td>19</td>\n",
              "      <td>12</td>\n",
              "      <td>12</td>\n",
              "      <td>...</td>\n",
              "      <td>15</td>\n",
              "      <td>13</td>\n",
              "      <td>11</td>\n",
              "      <td>14</td>\n",
              "      <td>14</td>\n",
              "      <td>21</td>\n",
              "      <td>19</td>\n",
              "      <td>14</td>\n",
              "      <td>12</td>\n",
              "      <td>428</td>\n",
              "    </tr>\n",
              "    <tr>\n",
              "      <th>7</th>\n",
              "      <td>15</td>\n",
              "      <td>11</td>\n",
              "      <td>18</td>\n",
              "      <td>16</td>\n",
              "      <td>8</td>\n",
              "      <td>14</td>\n",
              "      <td>11</td>\n",
              "      <td>16</td>\n",
              "      <td>21</td>\n",
              "      <td>14</td>\n",
              "      <td>...</td>\n",
              "      <td>16</td>\n",
              "      <td>14</td>\n",
              "      <td>20</td>\n",
              "      <td>13</td>\n",
              "      <td>20</td>\n",
              "      <td>14</td>\n",
              "      <td>13</td>\n",
              "      <td>9</td>\n",
              "      <td>10</td>\n",
              "      <td>430</td>\n",
              "    </tr>\n",
              "    <tr>\n",
              "      <th>8</th>\n",
              "      <td>14</td>\n",
              "      <td>20</td>\n",
              "      <td>21</td>\n",
              "      <td>11</td>\n",
              "      <td>10</td>\n",
              "      <td>12</td>\n",
              "      <td>19</td>\n",
              "      <td>12</td>\n",
              "      <td>13</td>\n",
              "      <td>16</td>\n",
              "      <td>...</td>\n",
              "      <td>12</td>\n",
              "      <td>18</td>\n",
              "      <td>19</td>\n",
              "      <td>13</td>\n",
              "      <td>18</td>\n",
              "      <td>13</td>\n",
              "      <td>9</td>\n",
              "      <td>15</td>\n",
              "      <td>11</td>\n",
              "      <td>389</td>\n",
              "    </tr>\n",
              "    <tr>\n",
              "      <th>9</th>\n",
              "      <td>10</td>\n",
              "      <td>11</td>\n",
              "      <td>13</td>\n",
              "      <td>15</td>\n",
              "      <td>16</td>\n",
              "      <td>19</td>\n",
              "      <td>9</td>\n",
              "      <td>14</td>\n",
              "      <td>24</td>\n",
              "      <td>10</td>\n",
              "      <td>...</td>\n",
              "      <td>14</td>\n",
              "      <td>11</td>\n",
              "      <td>17</td>\n",
              "      <td>11</td>\n",
              "      <td>18</td>\n",
              "      <td>13</td>\n",
              "      <td>15</td>\n",
              "      <td>18</td>\n",
              "      <td>15</td>\n",
              "      <td>416</td>\n",
              "    </tr>\n",
              "    <tr>\n",
              "      <th>10</th>\n",
              "      <td>17</td>\n",
              "      <td>17</td>\n",
              "      <td>18</td>\n",
              "      <td>19</td>\n",
              "      <td>12</td>\n",
              "      <td>16</td>\n",
              "      <td>10</td>\n",
              "      <td>15</td>\n",
              "      <td>11</td>\n",
              "      <td>13</td>\n",
              "      <td>...</td>\n",
              "      <td>14</td>\n",
              "      <td>11</td>\n",
              "      <td>12</td>\n",
              "      <td>10</td>\n",
              "      <td>17</td>\n",
              "      <td>8</td>\n",
              "      <td>10</td>\n",
              "      <td>18</td>\n",
              "      <td>16</td>\n",
              "      <td>383</td>\n",
              "    </tr>\n",
              "    <tr>\n",
              "      <th>11</th>\n",
              "      <td>9</td>\n",
              "      <td>9</td>\n",
              "      <td>12</td>\n",
              "      <td>13</td>\n",
              "      <td>14</td>\n",
              "      <td>11</td>\n",
              "      <td>18</td>\n",
              "      <td>13</td>\n",
              "      <td>13</td>\n",
              "      <td>12</td>\n",
              "      <td>...</td>\n",
              "      <td>13</td>\n",
              "      <td>20</td>\n",
              "      <td>11</td>\n",
              "      <td>9</td>\n",
              "      <td>12</td>\n",
              "      <td>9</td>\n",
              "      <td>18</td>\n",
              "      <td>15</td>\n",
              "      <td>15</td>\n",
              "      <td>433</td>\n",
              "    </tr>\n",
              "    <tr>\n",
              "      <th>12</th>\n",
              "      <td>14</td>\n",
              "      <td>12</td>\n",
              "      <td>7</td>\n",
              "      <td>12</td>\n",
              "      <td>10</td>\n",
              "      <td>14</td>\n",
              "      <td>15</td>\n",
              "      <td>12</td>\n",
              "      <td>20</td>\n",
              "      <td>11</td>\n",
              "      <td>...</td>\n",
              "      <td>10</td>\n",
              "      <td>19</td>\n",
              "      <td>13</td>\n",
              "      <td>19</td>\n",
              "      <td>18</td>\n",
              "      <td>14</td>\n",
              "      <td>13</td>\n",
              "      <td>21</td>\n",
              "      <td>11</td>\n",
              "      <td>384</td>\n",
              "    </tr>\n",
              "    <tr>\n",
              "      <th>13</th>\n",
              "      <td>21</td>\n",
              "      <td>15</td>\n",
              "      <td>15</td>\n",
              "      <td>9</td>\n",
              "      <td>17</td>\n",
              "      <td>16</td>\n",
              "      <td>9</td>\n",
              "      <td>14</td>\n",
              "      <td>12</td>\n",
              "      <td>9</td>\n",
              "      <td>...</td>\n",
              "      <td>10</td>\n",
              "      <td>19</td>\n",
              "      <td>8</td>\n",
              "      <td>13</td>\n",
              "      <td>12</td>\n",
              "      <td>9</td>\n",
              "      <td>18</td>\n",
              "      <td>11</td>\n",
              "      <td>12</td>\n",
              "      <td>426</td>\n",
              "    </tr>\n",
              "    <tr>\n",
              "      <th>14</th>\n",
              "      <td>16</td>\n",
              "      <td>12</td>\n",
              "      <td>15</td>\n",
              "      <td>8</td>\n",
              "      <td>20</td>\n",
              "      <td>11</td>\n",
              "      <td>16</td>\n",
              "      <td>9</td>\n",
              "      <td>12</td>\n",
              "      <td>11</td>\n",
              "      <td>...</td>\n",
              "      <td>12</td>\n",
              "      <td>18</td>\n",
              "      <td>12</td>\n",
              "      <td>12</td>\n",
              "      <td>15</td>\n",
              "      <td>14</td>\n",
              "      <td>16</td>\n",
              "      <td>21</td>\n",
              "      <td>12</td>\n",
              "      <td>421</td>\n",
              "    </tr>\n",
              "    <tr>\n",
              "      <th>15</th>\n",
              "      <td>18</td>\n",
              "      <td>8</td>\n",
              "      <td>8</td>\n",
              "      <td>15</td>\n",
              "      <td>13</td>\n",
              "      <td>11</td>\n",
              "      <td>17</td>\n",
              "      <td>15</td>\n",
              "      <td>12</td>\n",
              "      <td>13</td>\n",
              "      <td>...</td>\n",
              "      <td>14</td>\n",
              "      <td>13</td>\n",
              "      <td>12</td>\n",
              "      <td>13</td>\n",
              "      <td>17</td>\n",
              "      <td>9</td>\n",
              "      <td>15</td>\n",
              "      <td>19</td>\n",
              "      <td>15</td>\n",
              "      <td>418</td>\n",
              "    </tr>\n",
              "    <tr>\n",
              "      <th>16</th>\n",
              "      <td>14</td>\n",
              "      <td>19</td>\n",
              "      <td>18</td>\n",
              "      <td>11</td>\n",
              "      <td>7</td>\n",
              "      <td>15</td>\n",
              "      <td>11</td>\n",
              "      <td>18</td>\n",
              "      <td>13</td>\n",
              "      <td>10</td>\n",
              "      <td>...</td>\n",
              "      <td>11</td>\n",
              "      <td>19</td>\n",
              "      <td>13</td>\n",
              "      <td>15</td>\n",
              "      <td>11</td>\n",
              "      <td>18</td>\n",
              "      <td>14</td>\n",
              "      <td>10</td>\n",
              "      <td>10</td>\n",
              "      <td>419</td>\n",
              "    </tr>\n",
              "    <tr>\n",
              "      <th>17</th>\n",
              "      <td>21</td>\n",
              "      <td>10</td>\n",
              "      <td>13</td>\n",
              "      <td>18</td>\n",
              "      <td>22</td>\n",
              "      <td>6</td>\n",
              "      <td>14</td>\n",
              "      <td>18</td>\n",
              "      <td>14</td>\n",
              "      <td>13</td>\n",
              "      <td>...</td>\n",
              "      <td>7</td>\n",
              "      <td>17</td>\n",
              "      <td>11</td>\n",
              "      <td>5</td>\n",
              "      <td>11</td>\n",
              "      <td>19</td>\n",
              "      <td>19</td>\n",
              "      <td>15</td>\n",
              "      <td>14</td>\n",
              "      <td>385</td>\n",
              "    </tr>\n",
              "    <tr>\n",
              "      <th>18</th>\n",
              "      <td>7</td>\n",
              "      <td>8</td>\n",
              "      <td>18</td>\n",
              "      <td>13</td>\n",
              "      <td>14</td>\n",
              "      <td>18</td>\n",
              "      <td>13</td>\n",
              "      <td>10</td>\n",
              "      <td>13</td>\n",
              "      <td>8</td>\n",
              "      <td>...</td>\n",
              "      <td>8</td>\n",
              "      <td>24</td>\n",
              "      <td>16</td>\n",
              "      <td>12</td>\n",
              "      <td>11</td>\n",
              "      <td>9</td>\n",
              "      <td>17</td>\n",
              "      <td>13</td>\n",
              "      <td>8</td>\n",
              "      <td>422</td>\n",
              "    </tr>\n",
              "    <tr>\n",
              "      <th>19</th>\n",
              "      <td>11</td>\n",
              "      <td>11</td>\n",
              "      <td>18</td>\n",
              "      <td>14</td>\n",
              "      <td>16</td>\n",
              "      <td>10</td>\n",
              "      <td>10</td>\n",
              "      <td>12</td>\n",
              "      <td>12</td>\n",
              "      <td>17</td>\n",
              "      <td>...</td>\n",
              "      <td>19</td>\n",
              "      <td>17</td>\n",
              "      <td>10</td>\n",
              "      <td>12</td>\n",
              "      <td>16</td>\n",
              "      <td>19</td>\n",
              "      <td>11</td>\n",
              "      <td>16</td>\n",
              "      <td>9</td>\n",
              "      <td>426</td>\n",
              "    </tr>\n",
              "    <tr>\n",
              "      <th>20</th>\n",
              "      <td>14</td>\n",
              "      <td>11</td>\n",
              "      <td>11</td>\n",
              "      <td>11</td>\n",
              "      <td>17</td>\n",
              "      <td>10</td>\n",
              "      <td>17</td>\n",
              "      <td>9</td>\n",
              "      <td>16</td>\n",
              "      <td>13</td>\n",
              "      <td>...</td>\n",
              "      <td>18</td>\n",
              "      <td>12</td>\n",
              "      <td>18</td>\n",
              "      <td>17</td>\n",
              "      <td>13</td>\n",
              "      <td>9</td>\n",
              "      <td>15</td>\n",
              "      <td>20</td>\n",
              "      <td>11</td>\n",
              "      <td>395</td>\n",
              "    </tr>\n",
              "    <tr>\n",
              "      <th>21</th>\n",
              "      <td>20</td>\n",
              "      <td>14</td>\n",
              "      <td>10</td>\n",
              "      <td>16</td>\n",
              "      <td>16</td>\n",
              "      <td>8</td>\n",
              "      <td>22</td>\n",
              "      <td>11</td>\n",
              "      <td>9</td>\n",
              "      <td>12</td>\n",
              "      <td>...</td>\n",
              "      <td>28</td>\n",
              "      <td>11</td>\n",
              "      <td>7</td>\n",
              "      <td>11</td>\n",
              "      <td>14</td>\n",
              "      <td>17</td>\n",
              "      <td>13</td>\n",
              "      <td>13</td>\n",
              "      <td>10</td>\n",
              "      <td>425</td>\n",
              "    </tr>\n",
              "    <tr>\n",
              "      <th>22</th>\n",
              "      <td>17</td>\n",
              "      <td>18</td>\n",
              "      <td>12</td>\n",
              "      <td>15</td>\n",
              "      <td>17</td>\n",
              "      <td>9</td>\n",
              "      <td>13</td>\n",
              "      <td>10</td>\n",
              "      <td>19</td>\n",
              "      <td>16</td>\n",
              "      <td>...</td>\n",
              "      <td>12</td>\n",
              "      <td>12</td>\n",
              "      <td>9</td>\n",
              "      <td>11</td>\n",
              "      <td>15</td>\n",
              "      <td>18</td>\n",
              "      <td>11</td>\n",
              "      <td>15</td>\n",
              "      <td>18</td>\n",
              "      <td>422</td>\n",
              "    </tr>\n",
              "    <tr>\n",
              "      <th>23</th>\n",
              "      <td>8</td>\n",
              "      <td>14</td>\n",
              "      <td>16</td>\n",
              "      <td>12</td>\n",
              "      <td>17</td>\n",
              "      <td>10</td>\n",
              "      <td>15</td>\n",
              "      <td>14</td>\n",
              "      <td>22</td>\n",
              "      <td>14</td>\n",
              "      <td>...</td>\n",
              "      <td>21</td>\n",
              "      <td>16</td>\n",
              "      <td>11</td>\n",
              "      <td>13</td>\n",
              "      <td>14</td>\n",
              "      <td>15</td>\n",
              "      <td>17</td>\n",
              "      <td>19</td>\n",
              "      <td>14</td>\n",
              "      <td>450</td>\n",
              "    </tr>\n",
              "    <tr>\n",
              "      <th>24</th>\n",
              "      <td>9</td>\n",
              "      <td>11</td>\n",
              "      <td>13</td>\n",
              "      <td>15</td>\n",
              "      <td>13</td>\n",
              "      <td>13</td>\n",
              "      <td>11</td>\n",
              "      <td>14</td>\n",
              "      <td>18</td>\n",
              "      <td>12</td>\n",
              "      <td>...</td>\n",
              "      <td>12</td>\n",
              "      <td>11</td>\n",
              "      <td>24</td>\n",
              "      <td>11</td>\n",
              "      <td>9</td>\n",
              "      <td>16</td>\n",
              "      <td>15</td>\n",
              "      <td>9</td>\n",
              "      <td>13</td>\n",
              "      <td>436</td>\n",
              "    </tr>\n",
              "    <tr>\n",
              "      <th>25</th>\n",
              "      <td>13</td>\n",
              "      <td>19</td>\n",
              "      <td>16</td>\n",
              "      <td>12</td>\n",
              "      <td>15</td>\n",
              "      <td>14</td>\n",
              "      <td>12</td>\n",
              "      <td>13</td>\n",
              "      <td>16</td>\n",
              "      <td>16</td>\n",
              "      <td>...</td>\n",
              "      <td>17</td>\n",
              "      <td>13</td>\n",
              "      <td>21</td>\n",
              "      <td>12</td>\n",
              "      <td>14</td>\n",
              "      <td>16</td>\n",
              "      <td>11</td>\n",
              "      <td>15</td>\n",
              "      <td>11</td>\n",
              "      <td>451</td>\n",
              "    </tr>\n",
              "    <tr>\n",
              "      <th>26</th>\n",
              "      <td>17</td>\n",
              "      <td>14</td>\n",
              "      <td>17</td>\n",
              "      <td>16</td>\n",
              "      <td>11</td>\n",
              "      <td>14</td>\n",
              "      <td>18</td>\n",
              "      <td>13</td>\n",
              "      <td>9</td>\n",
              "      <td>18</td>\n",
              "      <td>...</td>\n",
              "      <td>7</td>\n",
              "      <td>10</td>\n",
              "      <td>13</td>\n",
              "      <td>11</td>\n",
              "      <td>13</td>\n",
              "      <td>14</td>\n",
              "      <td>17</td>\n",
              "      <td>18</td>\n",
              "      <td>14</td>\n",
              "      <td>410</td>\n",
              "    </tr>\n",
              "    <tr>\n",
              "      <th>27</th>\n",
              "      <td>9</td>\n",
              "      <td>9</td>\n",
              "      <td>18</td>\n",
              "      <td>16</td>\n",
              "      <td>19</td>\n",
              "      <td>12</td>\n",
              "      <td>16</td>\n",
              "      <td>10</td>\n",
              "      <td>13</td>\n",
              "      <td>16</td>\n",
              "      <td>...</td>\n",
              "      <td>13</td>\n",
              "      <td>9</td>\n",
              "      <td>12</td>\n",
              "      <td>15</td>\n",
              "      <td>4</td>\n",
              "      <td>20</td>\n",
              "      <td>5</td>\n",
              "      <td>12</td>\n",
              "      <td>13</td>\n",
              "      <td>431</td>\n",
              "    </tr>\n",
              "    <tr>\n",
              "      <th>28</th>\n",
              "      <td>17</td>\n",
              "      <td>19</td>\n",
              "      <td>12</td>\n",
              "      <td>11</td>\n",
              "      <td>16</td>\n",
              "      <td>24</td>\n",
              "      <td>14</td>\n",
              "      <td>15</td>\n",
              "      <td>16</td>\n",
              "      <td>15</td>\n",
              "      <td>...</td>\n",
              "      <td>19</td>\n",
              "      <td>13</td>\n",
              "      <td>18</td>\n",
              "      <td>14</td>\n",
              "      <td>7</td>\n",
              "      <td>10</td>\n",
              "      <td>16</td>\n",
              "      <td>12</td>\n",
              "      <td>11</td>\n",
              "      <td>391</td>\n",
              "    </tr>\n",
              "    <tr>\n",
              "      <th>29</th>\n",
              "      <td>10</td>\n",
              "      <td>17</td>\n",
              "      <td>10</td>\n",
              "      <td>10</td>\n",
              "      <td>16</td>\n",
              "      <td>12</td>\n",
              "      <td>12</td>\n",
              "      <td>13</td>\n",
              "      <td>16</td>\n",
              "      <td>20</td>\n",
              "      <td>...</td>\n",
              "      <td>13</td>\n",
              "      <td>13</td>\n",
              "      <td>9</td>\n",
              "      <td>8</td>\n",
              "      <td>13</td>\n",
              "      <td>7</td>\n",
              "      <td>9</td>\n",
              "      <td>12</td>\n",
              "      <td>13</td>\n",
              "      <td>436</td>\n",
              "    </tr>\n",
              "  </tbody>\n",
              "</table>\n",
              "<p>30 rows × 90 columns</p>\n",
              "</div>\n",
              "      <button class=\"colab-df-convert\" onclick=\"convertToInteractive('df-5206d2c0-3cf0-43d7-9e34-0cc7bddf3fc2')\"\n",
              "              title=\"Convert this dataframe to an interactive table.\"\n",
              "              style=\"display:none;\">\n",
              "        \n",
              "  <svg xmlns=\"http://www.w3.org/2000/svg\" height=\"24px\"viewBox=\"0 0 24 24\"\n",
              "       width=\"24px\">\n",
              "    <path d=\"M0 0h24v24H0V0z\" fill=\"none\"/>\n",
              "    <path d=\"M18.56 5.44l.94 2.06.94-2.06 2.06-.94-2.06-.94-.94-2.06-.94 2.06-2.06.94zm-11 1L8.5 8.5l.94-2.06 2.06-.94-2.06-.94L8.5 2.5l-.94 2.06-2.06.94zm10 10l.94 2.06.94-2.06 2.06-.94-2.06-.94-.94-2.06-.94 2.06-2.06.94z\"/><path d=\"M17.41 7.96l-1.37-1.37c-.4-.4-.92-.59-1.43-.59-.52 0-1.04.2-1.43.59L10.3 9.45l-7.72 7.72c-.78.78-.78 2.05 0 2.83L4 21.41c.39.39.9.59 1.41.59.51 0 1.02-.2 1.41-.59l7.78-7.78 2.81-2.81c.8-.78.8-2.07 0-2.86zM5.41 20L4 18.59l7.72-7.72 1.47 1.35L5.41 20z\"/>\n",
              "  </svg>\n",
              "      </button>\n",
              "      \n",
              "  <style>\n",
              "    .colab-df-container {\n",
              "      display:flex;\n",
              "      flex-wrap:wrap;\n",
              "      gap: 12px;\n",
              "    }\n",
              "\n",
              "    .colab-df-convert {\n",
              "      background-color: #E8F0FE;\n",
              "      border: none;\n",
              "      border-radius: 50%;\n",
              "      cursor: pointer;\n",
              "      display: none;\n",
              "      fill: #1967D2;\n",
              "      height: 32px;\n",
              "      padding: 0 0 0 0;\n",
              "      width: 32px;\n",
              "    }\n",
              "\n",
              "    .colab-df-convert:hover {\n",
              "      background-color: #E2EBFA;\n",
              "      box-shadow: 0px 1px 2px rgba(60, 64, 67, 0.3), 0px 1px 3px 1px rgba(60, 64, 67, 0.15);\n",
              "      fill: #174EA6;\n",
              "    }\n",
              "\n",
              "    [theme=dark] .colab-df-convert {\n",
              "      background-color: #3B4455;\n",
              "      fill: #D2E3FC;\n",
              "    }\n",
              "\n",
              "    [theme=dark] .colab-df-convert:hover {\n",
              "      background-color: #434B5C;\n",
              "      box-shadow: 0px 1px 3px 1px rgba(0, 0, 0, 0.15);\n",
              "      filter: drop-shadow(0px 1px 2px rgba(0, 0, 0, 0.3));\n",
              "      fill: #FFFFFF;\n",
              "    }\n",
              "  </style>\n",
              "\n",
              "      <script>\n",
              "        const buttonEl =\n",
              "          document.querySelector('#df-5206d2c0-3cf0-43d7-9e34-0cc7bddf3fc2 button.colab-df-convert');\n",
              "        buttonEl.style.display =\n",
              "          google.colab.kernel.accessAllowed ? 'block' : 'none';\n",
              "\n",
              "        async function convertToInteractive(key) {\n",
              "          const element = document.querySelector('#df-5206d2c0-3cf0-43d7-9e34-0cc7bddf3fc2');\n",
              "          const dataTable =\n",
              "            await google.colab.kernel.invokeFunction('convertToInteractive',\n",
              "                                                     [key], {});\n",
              "          if (!dataTable) return;\n",
              "\n",
              "          const docLinkHtml = 'Like what you see? Visit the ' +\n",
              "            '<a target=\"_blank\" href=https://colab.research.google.com/notebooks/data_table.ipynb>data table notebook</a>'\n",
              "            + ' to learn more about interactive tables.';\n",
              "          element.innerHTML = '';\n",
              "          dataTable['output_type'] = 'display_data';\n",
              "          await google.colab.output.renderOutput(dataTable, element);\n",
              "          const docLink = document.createElement('div');\n",
              "          docLink.innerHTML = docLinkHtml;\n",
              "          element.appendChild(docLink);\n",
              "        }\n",
              "      </script>\n",
              "    </div>\n",
              "  </div>\n",
              "  "
            ]
          },
          "metadata": {},
          "execution_count": 46
        }
      ],
      "source": [
        "df1"
      ]
    },
    {
      "cell_type": "markdown",
      "source": [
        "### Segregating Features and Target Variable"
      ],
      "metadata": {
        "id": "8M7C2Y7vqYp2"
      }
    },
    {
      "cell_type": "code",
      "source": [
        "Y = df1[\"Order Item Quantity\"]\n",
        "X = df1.drop(columns=[\"Order Item Quantity\"])"
      ],
      "metadata": {
        "id": "yBCOjyz6qYWD"
      },
      "execution_count": 47,
      "outputs": []
    },
    {
      "cell_type": "markdown",
      "metadata": {
        "id": "kcqpudopnls_"
      },
      "source": [
        "# Fitting the Model\n"
      ]
    },
    {
      "cell_type": "markdown",
      "metadata": {
        "id": "pG131L_2nls_"
      },
      "source": [
        "## XgBoost Regressor¶\n",
        "    VARIATION-I [FEATURES : Previous 90 Days Sales]"
      ]
    },
    {
      "cell_type": "markdown",
      "metadata": {
        "id": "heyuEoTYnls_"
      },
      "source": [
        "Previous 89 days Items Sold data is used as features to predict the Items Sold in the next month."
      ]
    },
    {
      "cell_type": "markdown",
      "metadata": {
        "id": "0KujvMdrnls_"
      },
      "source": [
        "### Train Test Split"
      ]
    },
    {
      "cell_type": "code",
      "execution_count": 48,
      "metadata": {
        "colab": {
          "base_uri": "https://localhost:8080/"
        },
        "id": "JRJkZ3jhnls_",
        "outputId": "ae890580-a7fc-41d9-986e-f945e2d55b1a"
      },
      "outputs": [
        {
          "output_type": "stream",
          "name": "stdout",
          "text": [
            "No. of training examples: 24\n",
            "No. of testing examples: 6\n"
          ]
        }
      ],
      "source": [
        "from sklearn.model_selection import train_test_split\n",
        "training_data, testing_data = train_test_split(df1, test_size=0.2, shuffle=True, random_state=1)\n",
        "print(f\"No. of training examples: {training_data.shape[0]}\")\n",
        "print(f\"No. of testing examples: {testing_data.shape[0]}\")"
      ]
    },
    {
      "cell_type": "code",
      "execution_count": 49,
      "metadata": {
        "id": "3LuIo65knltA"
      },
      "outputs": [],
      "source": [
        "x_train, y_train = training_data.drop(\"Order Item Quantity\", axis=1), training_data['Order Item Quantity']\n",
        "x_test, y_test   = testing_data.drop(\"Order Item Quantity\", axis=1) , testing_data['Order Item Quantity']"
      ]
    },
    {
      "cell_type": "code",
      "execution_count": 50,
      "metadata": {
        "colab": {
          "base_uri": "https://localhost:8080/"
        },
        "id": "UFm3DaCFnltA",
        "outputId": "2df8e803-5da7-4d59-f2f7-d49c2563e068"
      },
      "outputs": [
        {
          "output_type": "stream",
          "name": "stdout",
          "text": [
            "[22:58:22] WARNING: /workspace/src/objective/regression_obj.cu:152: reg:linear is now deprecated in favor of reg:squarederror.\n"
          ]
        },
        {
          "output_type": "execute_result",
          "data": {
            "text/plain": [
              "XGBRegressor(n_estimators=1000)"
            ]
          },
          "metadata": {},
          "execution_count": 50
        }
      ],
      "source": [
        "import xgboost as xgb\n",
        "from sklearn.metrics import mean_absolute_error\n",
        "model = xgb.XGBRegressor(n_estimators=1000)\n",
        "model.fit(x_train, y_train)"
      ]
    },
    {
      "cell_type": "code",
      "execution_count": 51,
      "metadata": {
        "id": "33uLG2WYnltA"
      },
      "outputs": [],
      "source": [
        "preds = pd.DataFrame(model.predict(x_test))"
      ]
    },
    {
      "cell_type": "markdown",
      "metadata": {
        "id": "SXPL9GhqnltA"
      },
      "source": [
        "### Evaluation Metric"
      ]
    },
    {
      "cell_type": "code",
      "execution_count": 52,
      "metadata": {
        "id": "vgjQzhJGnltA"
      },
      "outputs": [],
      "source": [
        "from sklearn.metrics import mean_absolute_error, mean_squared_error"
      ]
    },
    {
      "cell_type": "code",
      "execution_count": 53,
      "metadata": {
        "colab": {
          "base_uri": "https://localhost:8080/"
        },
        "id": "uibBuvkrnltB",
        "outputId": "6ad989eb-73be-461f-89ee-5db6126ea878"
      },
      "outputs": [
        {
          "output_type": "stream",
          "name": "stdout",
          "text": [
            "\tMean absolute error (MAE): 16.348403930664062\n",
            "\tRoot Mean squared error (RMSE): 21.418435067462287\n"
          ]
        }
      ],
      "source": [
        "print(\"\\tMean absolute error (MAE):\", mean_absolute_error(y_test, preds))\n",
        "print(\"\\tRoot Mean squared error (RMSE):\",  np.sqrt(mean_squared_error(y_test, preds)))"
      ]
    },
    {
      "cell_type": "code",
      "execution_count": 54,
      "metadata": {
        "colab": {
          "base_uri": "https://localhost:8080/"
        },
        "id": "6ueVLvjKnltB",
        "outputId": "74d51c1a-96c3-4c54-85e4-779602fa07a5"
      },
      "outputs": [
        {
          "output_type": "execute_result",
          "data": {
            "text/plain": [
              "4.19265860915124"
            ]
          },
          "metadata": {},
          "execution_count": 54
        }
      ],
      "source": [
        "from sklearn.metrics import mean_absolute_percentage_error\n",
        "mean_absolute_percentage_error(y_test, preds)*100"
      ]
    },
    {
      "cell_type": "code",
      "execution_count": 55,
      "metadata": {
        "colab": {
          "base_uri": "https://localhost:8080/"
        },
        "id": "Q4yTANAxnltB",
        "outputId": "64c8ec1e-9099-4ab1-ea7d-f503251fb302"
      },
      "outputs": [
        {
          "output_type": "stream",
          "name": "stdout",
          "text": [
            "17    385\n",
            "21    425\n",
            "10    383\n",
            "19    426\n",
            "14    421\n",
            "20    395\n",
            "Name: Order Item Quantity, dtype: int64\n",
            "            0\n",
            "0  416.174805\n",
            "1  425.742157\n",
            "2  418.396912\n",
            "3  420.984009\n",
            "4  417.343933\n",
            "5  417.104492\n"
          ]
        }
      ],
      "source": [
        "print(y_test)\n",
        "\n",
        "print(preds)"
      ]
    },
    {
      "cell_type": "markdown",
      "metadata": {
        "id": "2N5hTO4OnltB"
      },
      "source": [
        "# K-fold Cross Validation¶"
      ]
    },
    {
      "cell_type": "code",
      "execution_count": 56,
      "metadata": {
        "id": "V6D4pi2hnltC"
      },
      "outputs": [],
      "source": [
        "#import necessary libraries\n",
        "\n",
        "from sklearn.model_selection import KFold\n",
        "from sklearn.model_selection import cross_val_score\n",
        "from sklearn.model_selection import cross_val_predict\n",
        "from numpy import mean\n",
        "from numpy import absolute\n",
        "from numpy import sqrt"
      ]
    },
    {
      "cell_type": "markdown",
      "metadata": {
        "id": "MF8yTvJnnltD"
      },
      "source": [
        "We’ll fit a XGBOOST model to the dataset and perform k-fold cross validation to evaluate the model performance."
      ]
    },
    {
      "cell_type": "code",
      "execution_count": 57,
      "metadata": {
        "id": "zZl7C_t9nltE"
      },
      "outputs": [],
      "source": [
        "#define cross-validation method to use\n",
        "\n",
        "cv = KFold(n_splits=10, random_state=1, shuffle=True)\n",
        "\n",
        "#build xtreme gradient boosting model\n",
        "xgboost = xgb.XGBRegressor() \n"
      ]
    },
    {
      "cell_type": "markdown",
      "metadata": {
        "id": "znQulV31nltE"
      },
      "source": [
        "### Model Fitting and Model Evaluation"
      ]
    },
    {
      "cell_type": "code",
      "execution_count": 58,
      "metadata": {
        "colab": {
          "base_uri": "https://localhost:8080/"
        },
        "id": "R_ymJgZSnltE",
        "outputId": "26c8c8d0-30a7-4aab-f05b-b39eb9c26066"
      },
      "outputs": [
        {
          "output_type": "execute_result",
          "data": {
            "text/plain": [
              "array([-23.22333781, -11.84896851,  -8.60389201, -16.66792806,\n",
              "       -18.82806396, -19.62679036, -10.05088298,  -7.30343628,\n",
              "       -18.89665731, -21.5320638 ])"
            ]
          },
          "metadata": {},
          "execution_count": 58
        }
      ],
      "source": [
        "#use k-fold CV to evaluate model\n",
        "score1 = cross_val_score(xgboost, X, Y, scoring='neg_mean_absolute_error',\n",
        "                         cv=cv, n_jobs=-1)\n",
        "#view mean absolute errors\n",
        "score1"
      ]
    },
    {
      "cell_type": "code",
      "execution_count": 59,
      "metadata": {
        "colab": {
          "base_uri": "https://localhost:8080/"
        },
        "id": "Inj1nnHunltF",
        "outputId": "63607479-e379-47cd-b33c-678cb4255fc8"
      },
      "outputs": [
        {
          "output_type": "stream",
          "name": "stdout",
          "text": [
            "\tMean absolute error (MAE): 15.658202107747396\n"
          ]
        }
      ],
      "source": [
        "print(\"\\tMean absolute error (MAE):\", mean(absolute(score1)))"
      ]
    },
    {
      "cell_type": "code",
      "execution_count": 60,
      "metadata": {
        "colab": {
          "base_uri": "https://localhost:8080/"
        },
        "id": "g4Da2b-VnltF",
        "outputId": "18cfbaf3-3282-449a-eda2-66717599a491"
      },
      "outputs": [
        {
          "output_type": "stream",
          "name": "stdout",
          "text": [
            "\tRoot Mean squared error (RMSE): 19.881631707144596\n"
          ]
        }
      ],
      "source": [
        "score2 = cross_val_score(xgboost, X, Y, scoring='neg_mean_squared_error',\n",
        "                         cv=cv, n_jobs=-1)\n",
        "print(\"\\tRoot Mean squared error (RMSE):\", sqrt(mean(absolute(score2))))"
      ]
    },
    {
      "cell_type": "markdown",
      "metadata": {
        "id": "qZtLft6PnltF"
      },
      "source": [
        "##### Calculating Mean Absolute Percentage Error with custom function"
      ]
    },
    {
      "cell_type": "code",
      "execution_count": 61,
      "metadata": {
        "colab": {
          "base_uri": "https://localhost:8080/"
        },
        "id": "ItaYeSudnltG",
        "outputId": "05bb4d38-f8d3-416d-dfed-cbddbe5d4846"
      },
      "outputs": [
        {
          "output_type": "stream",
          "name": "stdout",
          "text": [
            "[22:58:25] WARNING: /workspace/src/objective/regression_obj.cu:152: reg:linear is now deprecated in favor of reg:squarederror.\n",
            "[22:58:25] WARNING: /workspace/src/objective/regression_obj.cu:152: reg:linear is now deprecated in favor of reg:squarederror.\n",
            "[22:58:25] WARNING: /workspace/src/objective/regression_obj.cu:152: reg:linear is now deprecated in favor of reg:squarederror.\n",
            "[22:58:25] WARNING: /workspace/src/objective/regression_obj.cu:152: reg:linear is now deprecated in favor of reg:squarederror.\n",
            "[22:58:25] WARNING: /workspace/src/objective/regression_obj.cu:152: reg:linear is now deprecated in favor of reg:squarederror.\n",
            "[22:58:25] WARNING: /workspace/src/objective/regression_obj.cu:152: reg:linear is now deprecated in favor of reg:squarederror.\n",
            "[22:58:25] WARNING: /workspace/src/objective/regression_obj.cu:152: reg:linear is now deprecated in favor of reg:squarederror.\n",
            "[22:58:25] WARNING: /workspace/src/objective/regression_obj.cu:152: reg:linear is now deprecated in favor of reg:squarederror.\n",
            "[22:58:25] WARNING: /workspace/src/objective/regression_obj.cu:152: reg:linear is now deprecated in favor of reg:squarederror.\n",
            "[22:58:25] WARNING: /workspace/src/objective/regression_obj.cu:152: reg:linear is now deprecated in favor of reg:squarederror.\n"
          ]
        },
        {
          "output_type": "execute_result",
          "data": {
            "text/plain": [
              "array([-5.03324019, -1.91950056, -1.08284161, -2.84339955, -3.23672339,\n",
              "       -3.59163762, -1.52811778, -0.71913895, -3.82777297, -4.18353099])"
            ]
          },
          "metadata": {},
          "execution_count": 61
        }
      ],
      "source": [
        "from sklearn.metrics import make_scorer\n",
        "\n",
        "#define custom function which returns single output as metric score\n",
        "def MAPE(y_true, y_pred): \n",
        "    return 1 - np.mean(np.abs((y_true - y_pred) / y_true)) * 100\n",
        "\n",
        "#make scorer from custome function\n",
        "mape_scorer = make_scorer(MAPE)\n",
        "\n",
        "#cross validation score on model\n",
        "#reg = LinearRegression()\n",
        "score3 = cross_val_score(xgboost, X, Y, scoring=mape_scorer, cv=cv)\n",
        "score3"
      ]
    },
    {
      "cell_type": "code",
      "execution_count": 62,
      "metadata": {
        "colab": {
          "base_uri": "https://localhost:8080/"
        },
        "id": "0d5a6w8qnltG",
        "outputId": "c86dcddb-4b9f-4daf-b014-826f24c8b3c6"
      },
      "outputs": [
        {
          "output_type": "stream",
          "name": "stdout",
          "text": [
            "\t Mean Absolute Percentage error (MAPE): 2.796590360409385\n"
          ]
        }
      ],
      "source": [
        "print(\"\\t Mean Absolute Percentage error (MAPE):\", mean(absolute(score3)))"
      ]
    },
    {
      "cell_type": "markdown",
      "source": [
        "### Predicted Values"
      ],
      "metadata": {
        "id": "MUmProOzuu6o"
      }
    },
    {
      "cell_type": "code",
      "source": [
        "predictions = cross_val_predict(xgboost, X,Y, cv=cv)\n",
        "print(predictions)"
      ],
      "metadata": {
        "id": "cb9ScJuzuusd",
        "colab": {
          "base_uri": "https://localhost:8080/"
        },
        "outputId": "6b718cb4-288c-4b52-b987-62c71312d1ff"
      },
      "execution_count": 63,
      "outputs": [
        {
          "output_type": "stream",
          "name": "stdout",
          "text": [
            "[22:58:25] WARNING: /workspace/src/objective/regression_obj.cu:152: reg:linear is now deprecated in favor of reg:squarederror.\n",
            "[22:58:25] WARNING: /workspace/src/objective/regression_obj.cu:152: reg:linear is now deprecated in favor of reg:squarederror.\n",
            "[22:58:25] WARNING: /workspace/src/objective/regression_obj.cu:152: reg:linear is now deprecated in favor of reg:squarederror.\n",
            "[22:58:25] WARNING: /workspace/src/objective/regression_obj.cu:152: reg:linear is now deprecated in favor of reg:squarederror.\n",
            "[22:58:25] WARNING: /workspace/src/objective/regression_obj.cu:152: reg:linear is now deprecated in favor of reg:squarederror.\n",
            "[22:58:25] WARNING: /workspace/src/objective/regression_obj.cu:152: reg:linear is now deprecated in favor of reg:squarederror.\n",
            "[22:58:25] WARNING: /workspace/src/objective/regression_obj.cu:152: reg:linear is now deprecated in favor of reg:squarederror.\n",
            "[22:58:25] WARNING: /workspace/src/objective/regression_obj.cu:152: reg:linear is now deprecated in favor of reg:squarederror.\n",
            "[22:58:25] WARNING: /workspace/src/objective/regression_obj.cu:152: reg:linear is now deprecated in favor of reg:squarederror.\n",
            "[22:58:25] WARNING: /workspace/src/objective/regression_obj.cu:152: reg:linear is now deprecated in favor of reg:squarederror.\n",
            "[415.68576 415.73053 403.91214 406.89557 418.12173 408.0241  425.22992\n",
            " 405.77963 418.22    419.5015  418.95804 419.34424 406.96454 394.0897\n",
            " 411.76926 429.98608 412.8907  416.86472 419.2503  420.7677  416.08386\n",
            " 426.84726 411.3432  421.77475 433.1837  404.37375 427.89093 430.6872\n",
            " 414.96848 427.39   ]\n"
          ]
        }
      ]
    },
    {
      "cell_type": "markdown",
      "metadata": {
        "id": "EbA0wnqXnltG"
      },
      "source": [
        "## XgBoost Regressor\n",
        "    VARIATION-II [FEATURES : Previous 90 Days Sales + Monthly Item Discount]"
      ]
    },
    {
      "cell_type": "code",
      "execution_count": 64,
      "metadata": {
        "id": "skFRkunynltH"
      },
      "outputs": [],
      "source": [
        "df2 = df1.copy()"
      ]
    },
    {
      "cell_type": "markdown",
      "metadata": {
        "id": "RsTatSsRnltH"
      },
      "source": [
        "### Adding a Regressor variable to the dataframe"
      ]
    },
    {
      "cell_type": "code",
      "execution_count": 65,
      "metadata": {
        "id": "0Ot05NIGnltH"
      },
      "outputs": [],
      "source": [
        "df2.insert(loc=90, column='Order Item Discount', value=MonthlyItemDiscount)"
      ]
    },
    {
      "cell_type": "code",
      "execution_count": 66,
      "metadata": {
        "id": "8F_t6oXtnltH"
      },
      "outputs": [],
      "source": [
        "Y1 = df2[\"Order Item Quantity\"]\n",
        "X1 = df2.drop(columns=[\"Order Item Quantity\"])"
      ]
    },
    {
      "cell_type": "code",
      "source": [
        "training_data, testing_data = train_test_split(df2, test_size=0.2, shuffle=False, random_state=1)\n",
        "print(f\"No. of training examples: {training_data.shape[0]}\")\n",
        "print(f\"No. of testing examples: {testing_data.shape[0]}\")"
      ],
      "metadata": {
        "colab": {
          "base_uri": "https://localhost:8080/"
        },
        "id": "ARQJWkCnAx1V",
        "outputId": "69a03d87-d096-4072-d5f5-4f3e7e260ad2"
      },
      "execution_count": 115,
      "outputs": [
        {
          "output_type": "stream",
          "name": "stdout",
          "text": [
            "No. of training examples: 24\n",
            "No. of testing examples: 6\n"
          ]
        }
      ]
    },
    {
      "cell_type": "code",
      "source": [
        "x_train, y_train = training_data.drop(\"Order Item Quantity\", axis=1), training_data['Order Item Quantity']\n",
        "x_test, y_test   = testing_data.drop(\"Order Item Quantity\", axis=1) , testing_data['Order Item Quantity']"
      ],
      "metadata": {
        "id": "UWCNn-PlAxxZ"
      },
      "execution_count": 116,
      "outputs": []
    },
    {
      "cell_type": "markdown",
      "source": [
        "# XGBOOST PREDICTION"
      ],
      "metadata": {
        "id": "k7W6AzIaAqYr"
      }
    },
    {
      "cell_type": "code",
      "source": [
        "xgboost.fit(x_train, y_train)"
      ],
      "metadata": {
        "colab": {
          "base_uri": "https://localhost:8080/"
        },
        "id": "UocbuRwKAqPM",
        "outputId": "c301ae3f-fbb0-4fbb-f92c-4f6bde928c6b"
      },
      "execution_count": 117,
      "outputs": [
        {
          "output_type": "stream",
          "name": "stdout",
          "text": [
            "[23:00:02] WARNING: /workspace/src/objective/regression_obj.cu:152: reg:linear is now deprecated in favor of reg:squarederror.\n"
          ]
        },
        {
          "output_type": "execute_result",
          "data": {
            "text/plain": [
              "XGBRegressor()"
            ]
          },
          "metadata": {},
          "execution_count": 117
        }
      ]
    },
    {
      "cell_type": "code",
      "source": [
        "Row25 = x_test.head(1)\n",
        "Actual_value2 = y_test.head(1)"
      ],
      "metadata": {
        "id": "N-__MtPaAqLs"
      },
      "execution_count": 118,
      "outputs": []
    },
    {
      "cell_type": "code",
      "source": [
        "xgboost_prediction2 = pd.DataFrame(xgboost.predict(Row25))\n",
        "print(xgboost_prediction2)\n",
        "print(Actual_value2)"
      ],
      "metadata": {
        "colab": {
          "base_uri": "https://localhost:8080/"
        },
        "id": "qFl-PN5NAqIs",
        "outputId": "e2bb62ae-f244-46da-b987-35c9cce20178"
      },
      "execution_count": 119,
      "outputs": [
        {
          "output_type": "stream",
          "name": "stdout",
          "text": [
            "            0\n",
            "0  433.387878\n",
            "24    436\n",
            "Name: Order Item Quantity, dtype: int64\n"
          ]
        }
      ]
    },
    {
      "cell_type": "code",
      "source": [
        "print(\"\\tMean absolute error (MAE):\", mean_absolute_error(Actual_value2, xgboost_prediction2))"
      ],
      "metadata": {
        "colab": {
          "base_uri": "https://localhost:8080/"
        },
        "id": "34q9E1rzAqGA",
        "outputId": "c8cc925f-6636-4a0c-f1ec-6e219da9364b"
      },
      "execution_count": 120,
      "outputs": [
        {
          "output_type": "stream",
          "name": "stdout",
          "text": [
            "\tMean absolute error (MAE): 2.61212158203125\n"
          ]
        }
      ]
    },
    {
      "cell_type": "code",
      "source": [],
      "metadata": {
        "id": "5Mis9L7fAqC-"
      },
      "execution_count": null,
      "outputs": []
    },
    {
      "cell_type": "code",
      "source": [],
      "metadata": {
        "id": "zv4IIlbXAqAH"
      },
      "execution_count": null,
      "outputs": []
    },
    {
      "cell_type": "markdown",
      "metadata": {
        "id": "Ya3MQGDnnltI"
      },
      "source": [
        "### Model Fitting and Model Evaluation"
      ]
    },
    {
      "cell_type": "code",
      "execution_count": 67,
      "metadata": {
        "id": "x_hwO6A6nltI"
      },
      "outputs": [],
      "source": [
        "#build xtreme gradient boosting model\n",
        "xgboost = xgb.XGBRegressor() "
      ]
    },
    {
      "cell_type": "code",
      "execution_count": 68,
      "metadata": {
        "colab": {
          "base_uri": "https://localhost:8080/"
        },
        "id": "IG120vnwnltI",
        "outputId": "46ffffc2-54d4-4787-c78e-f7d8a4c489aa"
      },
      "outputs": [
        {
          "output_type": "stream",
          "name": "stdout",
          "text": [
            "\tMean absolute error (MAE): 5.072816975911459\n"
          ]
        }
      ],
      "source": [
        "#use k-fold CV to evaluate model\n",
        "score1 = cross_val_score(xgboost, X1, Y1, scoring='neg_mean_absolute_error',\n",
        "                         cv=cv, n_jobs=-1)\n",
        "\n",
        "#view mean absolute error\n",
        "print(\"\\tMean absolute error (MAE):\", mean(absolute(score1)))"
      ]
    },
    {
      "cell_type": "code",
      "execution_count": 69,
      "metadata": {
        "colab": {
          "base_uri": "https://localhost:8080/"
        },
        "id": "4cXQslMWnltI",
        "outputId": "db5858a3-6d6e-4b06-d811-8934cbce2b93"
      },
      "outputs": [
        {
          "output_type": "stream",
          "name": "stdout",
          "text": [
            "\tRoot Mean squared error (RMSE): 7.136854310828355\n"
          ]
        }
      ],
      "source": [
        "score2 = cross_val_score(xgboost, X1, Y1, scoring='neg_mean_squared_error',\n",
        "                         cv=cv, n_jobs=-1)\n",
        "print(\"\\tRoot Mean squared error (RMSE):\", sqrt(mean(absolute(score2))))"
      ]
    },
    {
      "cell_type": "code",
      "execution_count": 70,
      "metadata": {
        "colab": {
          "base_uri": "https://localhost:8080/"
        },
        "id": "tnAnlsShnltJ",
        "outputId": "da6c5d49-9cee-462c-820c-64e33dcd88b1"
      },
      "outputs": [
        {
          "output_type": "stream",
          "name": "stdout",
          "text": [
            "[22:58:26] WARNING: /workspace/src/objective/regression_obj.cu:152: reg:linear is now deprecated in favor of reg:squarederror.\n",
            "[22:58:26] WARNING: /workspace/src/objective/regression_obj.cu:152: reg:linear is now deprecated in favor of reg:squarederror.\n",
            "[22:58:26] WARNING: /workspace/src/objective/regression_obj.cu:152: reg:linear is now deprecated in favor of reg:squarederror.\n",
            "[22:58:26] WARNING: /workspace/src/objective/regression_obj.cu:152: reg:linear is now deprecated in favor of reg:squarederror.\n",
            "[22:58:26] WARNING: /workspace/src/objective/regression_obj.cu:152: reg:linear is now deprecated in favor of reg:squarederror.\n",
            "[22:58:26] WARNING: /workspace/src/objective/regression_obj.cu:152: reg:linear is now deprecated in favor of reg:squarederror.\n",
            "[22:58:26] WARNING: /workspace/src/objective/regression_obj.cu:152: reg:linear is now deprecated in favor of reg:squarederror.\n",
            "[22:58:26] WARNING: /workspace/src/objective/regression_obj.cu:152: reg:linear is now deprecated in favor of reg:squarederror.\n",
            "[22:58:26] WARNING: /workspace/src/objective/regression_obj.cu:152: reg:linear is now deprecated in favor of reg:squarederror.\n",
            "[22:58:27] WARNING: /workspace/src/objective/regression_obj.cu:152: reg:linear is now deprecated in favor of reg:squarederror.\n",
            "\t Mean Absolute Percentage error (MAPE): 0.48405377895429674\n"
          ]
        }
      ],
      "source": [
        "from sklearn.metrics import make_scorer\n",
        "\n",
        "#define custom function which returns single output as metric score\n",
        "def MAPE(y_true, y_pred): \n",
        "    return 1 - np.mean(np.abs((y_true - y_pred) / y_true)) * 100\n",
        "\n",
        "#make scorer from custome function\n",
        "mape_scorer = make_scorer(MAPE)\n",
        "\n",
        "#cross validation score on model\n",
        "#reg = LinearRegression()\n",
        "score3 = cross_val_score(xgboost, X1, Y1, scoring=mape_scorer, cv=cv)\n",
        "print(\"\\t Mean Absolute Percentage error (MAPE):\", mean(absolute(score3)))\n"
      ]
    },
    {
      "cell_type": "markdown",
      "source": [
        "### Predicted Values"
      ],
      "metadata": {
        "id": "_bBKAejvuwdM"
      }
    },
    {
      "cell_type": "code",
      "source": [
        "predictions = cross_val_predict(xgboost, X1,Y1, cv=cv)\n",
        "print(predictions)"
      ],
      "metadata": {
        "id": "3OBNlcozuwTJ",
        "colab": {
          "base_uri": "https://localhost:8080/"
        },
        "outputId": "a0556c44-6ebe-4158-e550-8926905c0d80"
      },
      "execution_count": 71,
      "outputs": [
        {
          "output_type": "stream",
          "name": "stdout",
          "text": [
            "[22:58:27] WARNING: /workspace/src/objective/regression_obj.cu:152: reg:linear is now deprecated in favor of reg:squarederror.\n",
            "[22:58:27] WARNING: /workspace/src/objective/regression_obj.cu:152: reg:linear is now deprecated in favor of reg:squarederror.\n",
            "[22:58:27] WARNING: /workspace/src/objective/regression_obj.cu:152: reg:linear is now deprecated in favor of reg:squarederror.\n",
            "[22:58:27] WARNING: /workspace/src/objective/regression_obj.cu:152: reg:linear is now deprecated in favor of reg:squarederror.\n",
            "[22:58:27] WARNING: /workspace/src/objective/regression_obj.cu:152: reg:linear is now deprecated in favor of reg:squarederror.\n",
            "[22:58:27] WARNING: /workspace/src/objective/regression_obj.cu:152: reg:linear is now deprecated in favor of reg:squarederror.\n",
            "[22:58:27] WARNING: /workspace/src/objective/regression_obj.cu:152: reg:linear is now deprecated in favor of reg:squarederror.\n",
            "[22:58:27] WARNING: /workspace/src/objective/regression_obj.cu:152: reg:linear is now deprecated in favor of reg:squarederror.\n",
            "[22:58:27] WARNING: /workspace/src/objective/regression_obj.cu:152: reg:linear is now deprecated in favor of reg:squarederror.\n",
            "[22:58:27] WARNING: /workspace/src/objective/regression_obj.cu:152: reg:linear is now deprecated in favor of reg:squarederror.\n",
            "[421.74515 392.07425 408.7422  410.4909  412.1394  433.58835 429.37155\n",
            " 426.99304 386.29715 421.18817 391.95657 435.93207 391.8559  428.33215\n",
            " 418.4041  439.7737  421.87924 389.388   422.4787  416.87085 391.4347\n",
            " 427.74573 419.3549  435.20328 431.67224 432.5116  410.2142  425.0321\n",
            " 395.47    432.7649 ]\n"
          ]
        }
      ]
    },
    {
      "cell_type": "markdown",
      "metadata": {
        "id": "oJZvRYaInltJ"
      },
      "source": [
        "## Linear Regression\n",
        "    Variation-I [FEATURES : Previous 90 Days Sales]"
      ]
    },
    {
      "cell_type": "code",
      "execution_count": 72,
      "metadata": {
        "id": "tV9E5hennltJ"
      },
      "outputs": [],
      "source": [
        "from sklearn.linear_model import LinearRegression"
      ]
    },
    {
      "cell_type": "code",
      "execution_count": 73,
      "metadata": {
        "id": "3OsiZ_WZnltJ"
      },
      "outputs": [],
      "source": [
        "#build linear regression model\n",
        "linear = LinearRegression()"
      ]
    },
    {
      "cell_type": "code",
      "execution_count": 74,
      "metadata": {
        "colab": {
          "base_uri": "https://localhost:8080/"
        },
        "id": "FU4NKof4nltJ",
        "outputId": "a4954512-85b5-47f5-e00b-6d129adc7356"
      },
      "outputs": [
        {
          "output_type": "stream",
          "name": "stdout",
          "text": [
            "\tMean absolute error (MAE): 20.527736860792338\n"
          ]
        }
      ],
      "source": [
        "#use k-fold CV to evaluate model\n",
        "score1 = cross_val_score(linear, X, Y, scoring='neg_mean_absolute_error',\n",
        "                         cv=cv, n_jobs=-1)\n",
        "\n",
        "#view mean absolute error\n",
        "print(\"\\tMean absolute error (MAE):\", mean(absolute(score1)))\n"
      ]
    },
    {
      "cell_type": "code",
      "execution_count": 75,
      "metadata": {
        "colab": {
          "base_uri": "https://localhost:8080/"
        },
        "id": "Ryv0aadNnltK",
        "outputId": "8e4bed31-1c1a-42a4-d275-3c8504ba2198"
      },
      "outputs": [
        {
          "output_type": "stream",
          "name": "stdout",
          "text": [
            "\tRoot Mean squared error (RMSE): 26.59237029953482\n"
          ]
        }
      ],
      "source": [
        "score2 = cross_val_score(linear, X, Y, scoring='neg_mean_squared_error',\n",
        "                         cv=cv, n_jobs=-1)\n",
        "print(\"\\tRoot Mean squared error (RMSE):\", sqrt(mean(absolute(score2))))"
      ]
    },
    {
      "cell_type": "code",
      "execution_count": 76,
      "metadata": {
        "colab": {
          "base_uri": "https://localhost:8080/"
        },
        "id": "fM9KvH6KnltK",
        "outputId": "e45785a0-b43e-406b-9f2e-70b832cdab8a"
      },
      "outputs": [
        {
          "output_type": "stream",
          "name": "stdout",
          "text": [
            "\t Mean Absolute Percentage error (MAPE): 3.9824637314918476\n"
          ]
        }
      ],
      "source": [
        "score3 = cross_val_score(linear, X, Y, scoring=mape_scorer, cv=cv)\n",
        "print(\"\\t Mean Absolute Percentage error (MAPE):\", mean(absolute(score3)))"
      ]
    },
    {
      "cell_type": "markdown",
      "source": [
        "### Predicted Values"
      ],
      "metadata": {
        "id": "0dzXSQUdxFSo"
      }
    },
    {
      "cell_type": "code",
      "source": [
        "predictions = cross_val_predict(linear, X,Y, cv=cv)\n",
        "print(predictions)"
      ],
      "metadata": {
        "colab": {
          "base_uri": "https://localhost:8080/"
        },
        "id": "LzzKFksexFH_",
        "outputId": "9fdf57d5-fa79-4c06-a403-8ad3eaafc46a"
      },
      "execution_count": 77,
      "outputs": [
        {
          "output_type": "stream",
          "name": "stdout",
          "text": [
            "[415.88908969 426.36305008 404.56854627 412.14414006 422.97096203\n",
            " 423.15064746 423.98545658 411.96196334 429.08735778 398.2858722\n",
            " 415.15972811 408.07207534 422.15751966 374.47992551 420.72178693\n",
            " 405.00167056 413.68586005 420.61404217 406.42644562 416.45671085\n",
            " 422.83344817 439.89939991 404.80351388 402.79178252 436.40384077\n",
            " 392.67578822 424.47121405 430.83037644 441.46100218 427.94608769]\n"
          ]
        }
      ]
    },
    {
      "cell_type": "markdown",
      "metadata": {
        "id": "6ugRE49snltK"
      },
      "source": [
        "## Linear Regression\n",
        "    Variation-II [[FEATURES : Previous 90 Days Sales + Monthly Item Discount]"
      ]
    },
    {
      "cell_type": "code",
      "execution_count": 78,
      "metadata": {
        "id": "HaBn1UornltK"
      },
      "outputs": [],
      "source": [
        "#build linear regression model\n",
        "linear = LinearRegression()"
      ]
    },
    {
      "cell_type": "code",
      "execution_count": 79,
      "metadata": {
        "colab": {
          "base_uri": "https://localhost:8080/"
        },
        "id": "nWLkEouBnltL",
        "outputId": "01b0c45a-ba45-4015-f9fc-dd0d7ada49e4"
      },
      "outputs": [
        {
          "output_type": "stream",
          "name": "stdout",
          "text": [
            "\tMean absolute error (MAE): 2.1751705260766943\n"
          ]
        }
      ],
      "source": [
        "#use k-fold CV to evaluate model\n",
        "score1 = cross_val_score(linear, X1, Y1, scoring='neg_mean_absolute_error',\n",
        "                         cv=cv, n_jobs=-1)\n",
        "\n",
        "#view mean absolute error\n",
        "print(\"\\tMean absolute error (MAE):\", mean(absolute(score1)))"
      ]
    },
    {
      "cell_type": "code",
      "execution_count": 80,
      "metadata": {
        "colab": {
          "base_uri": "https://localhost:8080/"
        },
        "id": "oQe-Ny73nltL",
        "outputId": "7e1ac947-8576-4d0d-aca5-1870c20e310a"
      },
      "outputs": [
        {
          "output_type": "stream",
          "name": "stdout",
          "text": [
            "\tRoot Mean squared error (RMSE): 2.6505308415694127\n"
          ]
        }
      ],
      "source": [
        "score2 = cross_val_score(linear, X1, Y1, scoring='neg_mean_squared_error',\n",
        "                         cv=cv, n_jobs=-1)\n",
        "print(\"\\tRoot Mean squared error (RMSE):\", sqrt(mean(absolute(score2))))"
      ]
    },
    {
      "cell_type": "code",
      "execution_count": 81,
      "metadata": {
        "colab": {
          "base_uri": "https://localhost:8080/"
        },
        "id": "ivWjT6I1nltL",
        "outputId": "de23eaec-fc92-46fa-97e5-b62532e57fe9"
      },
      "outputs": [
        {
          "output_type": "stream",
          "name": "stdout",
          "text": [
            "\t Mean Absolute Percentage error (MAPE): 0.4764930158510793\n"
          ]
        }
      ],
      "source": [
        "score3 = cross_val_score(linear, X1, Y1, scoring=mape_scorer, cv=cv)\n",
        "print(\"\\t Mean Absolute Percentage error (MAPE):\", mean(absolute(score3)))"
      ]
    },
    {
      "cell_type": "markdown",
      "source": [
        "# LINEAR REGESSION PREDICTION"
      ],
      "metadata": {
        "id": "72kKy74zBB-v"
      }
    },
    {
      "cell_type": "code",
      "source": [
        "linear.fit(x_train, y_train)"
      ],
      "metadata": {
        "colab": {
          "base_uri": "https://localhost:8080/"
        },
        "id": "31klQ5jhA-Ur",
        "outputId": "ad16710d-f609-4769-bb33-2352f527ed69"
      },
      "execution_count": 121,
      "outputs": [
        {
          "output_type": "execute_result",
          "data": {
            "text/plain": [
              "LinearRegression()"
            ]
          },
          "metadata": {},
          "execution_count": 121
        }
      ]
    },
    {
      "cell_type": "code",
      "source": [
        "linear_prediction2 = pd.DataFrame(linear.predict(Row25))\n",
        "print(linear_prediction2)\n",
        "print(Actual_value2)"
      ],
      "metadata": {
        "colab": {
          "base_uri": "https://localhost:8080/"
        },
        "id": "BNpZoEHOA-MB",
        "outputId": "1673281e-9436-442a-ea9e-9fa208916950"
      },
      "execution_count": 122,
      "outputs": [
        {
          "output_type": "stream",
          "name": "stdout",
          "text": [
            "            0\n",
            "0  437.025291\n",
            "24    436\n",
            "Name: Order Item Quantity, dtype: int64\n"
          ]
        }
      ]
    },
    {
      "cell_type": "code",
      "source": [
        "print(\"\\tMean absolute error (MAE):\", mean_absolute_error(Actual_value2, linear_prediction2))"
      ],
      "metadata": {
        "colab": {
          "base_uri": "https://localhost:8080/"
        },
        "id": "Mgz1Y3x-A-HQ",
        "outputId": "b93f508c-b79f-4476-d8b1-1d3748798036"
      },
      "execution_count": 123,
      "outputs": [
        {
          "output_type": "stream",
          "name": "stdout",
          "text": [
            "\tMean absolute error (MAE): 1.0252909846361717\n"
          ]
        }
      ]
    },
    {
      "cell_type": "code",
      "source": [],
      "metadata": {
        "id": "3qTwF5ybA9x_"
      },
      "execution_count": null,
      "outputs": []
    },
    {
      "cell_type": "markdown",
      "source": [
        "### Predicted Values"
      ],
      "metadata": {
        "id": "h5lTlLeivfTP"
      }
    },
    {
      "cell_type": "code",
      "source": [
        "predictions = cross_val_predict(linear, X1,Y1, cv=cv)\n",
        "print(predictions)"
      ],
      "metadata": {
        "id": "lrPkESCTvfJF",
        "colab": {
          "base_uri": "https://localhost:8080/"
        },
        "outputId": "1b209cda-cf25-4af8-af55-93dd60c900f9"
      },
      "execution_count": 82,
      "outputs": [
        {
          "output_type": "stream",
          "name": "stdout",
          "text": [
            "[417.73530372 392.69531401 408.77494593 411.2170305  411.12497409\n",
            " 434.74712888 429.63139193 428.9059871  391.70621012 417.30579053\n",
            " 383.98742714 434.02353483 381.4606921  428.14185633 416.81674002\n",
            " 420.94419244 418.26702171 384.20168918 426.09092874 420.26846984\n",
            " 394.52832987 429.26764149 418.65736905 449.93501792 437.26893826\n",
            " 449.06214335 406.43883459 431.33907263 395.73210534 432.4581658 ]\n"
          ]
        }
      ]
    },
    {
      "cell_type": "markdown",
      "metadata": {
        "id": "xSPRHAnCnltL"
      },
      "source": [
        "## Random Forest Regressor\n",
        "    Variation-I [FEATURES : Previous 90 Days Sales]"
      ]
    },
    {
      "cell_type": "code",
      "execution_count": 83,
      "metadata": {
        "id": "3RLkWzYAnltL"
      },
      "outputs": [],
      "source": [
        "from sklearn.ensemble import RandomForestRegressor"
      ]
    },
    {
      "cell_type": "code",
      "execution_count": 84,
      "metadata": {
        "id": "5iGvRAwUnltL"
      },
      "outputs": [],
      "source": [
        " # create regressor object\n",
        "regressor = RandomForestRegressor(n_estimators = 100, random_state = 0)"
      ]
    },
    {
      "cell_type": "code",
      "execution_count": 85,
      "metadata": {
        "colab": {
          "base_uri": "https://localhost:8080/"
        },
        "id": "p1-3lpFXnltM",
        "outputId": "e841500b-d1e5-47e2-8dc3-3bad65a52aee"
      },
      "outputs": [
        {
          "output_type": "stream",
          "name": "stdout",
          "text": [
            "\tMean absolute error (MAE): 17.165666666666667\n"
          ]
        }
      ],
      "source": [
        "#use k-fold CV to evaluate model\n",
        "score1 = cross_val_score(regressor, X, Y, scoring='neg_mean_absolute_error',\n",
        "                         cv=cv, n_jobs=-1)\n",
        "\n",
        "#view mean absolute error\n",
        "print(\"\\tMean absolute error (MAE):\", mean(absolute(score1)))"
      ]
    },
    {
      "cell_type": "code",
      "execution_count": 86,
      "metadata": {
        "colab": {
          "base_uri": "https://localhost:8080/"
        },
        "id": "ZNizK6tSnltM",
        "outputId": "59e08942-fc3d-4e29-a9c6-5283ea80239b"
      },
      "outputs": [
        {
          "output_type": "stream",
          "name": "stdout",
          "text": [
            "\tRoot Mean squared error (RMSE): 21.30269489994165\n"
          ]
        }
      ],
      "source": [
        "score2 = cross_val_score(regressor, X, Y, scoring='neg_mean_squared_error',\n",
        "                         cv=cv, n_jobs=-1)\n",
        "print(\"\\tRoot Mean squared error (RMSE):\", sqrt(mean(absolute(score2))))"
      ]
    },
    {
      "cell_type": "code",
      "execution_count": 87,
      "metadata": {
        "colab": {
          "base_uri": "https://localhost:8080/"
        },
        "id": "xD67nL7gnltM",
        "outputId": "5aa3f8b5-ee88-439c-a38e-e01adf51db2f"
      },
      "outputs": [
        {
          "output_type": "stream",
          "name": "stdout",
          "text": [
            "\t Mean Absolute Percentage error (MAPE): 3.1632757204865345\n"
          ]
        }
      ],
      "source": [
        "score3 = cross_val_score(regressor, X, Y, scoring=mape_scorer, cv=cv)\n",
        "print(\"\\t Mean Absolute Percentage error (MAPE):\", mean(absolute(score3)))"
      ]
    },
    {
      "cell_type": "markdown",
      "source": [
        "### Predicted Values"
      ],
      "metadata": {
        "id": "l0Tf5Q66v4vr"
      }
    },
    {
      "cell_type": "code",
      "source": [
        "predictions = cross_val_predict(xgboost, X,Y, cv=cv)\n",
        "print(predictions)"
      ],
      "metadata": {
        "id": "OLFhmTPmv4l1",
        "colab": {
          "base_uri": "https://localhost:8080/"
        },
        "outputId": "b95cf7cd-2732-4507-9fc5-6716012b6226"
      },
      "execution_count": 88,
      "outputs": [
        {
          "output_type": "stream",
          "name": "stdout",
          "text": [
            "[22:58:33] WARNING: /workspace/src/objective/regression_obj.cu:152: reg:linear is now deprecated in favor of reg:squarederror.\n",
            "[22:58:33] WARNING: /workspace/src/objective/regression_obj.cu:152: reg:linear is now deprecated in favor of reg:squarederror.\n",
            "[22:58:33] WARNING: /workspace/src/objective/regression_obj.cu:152: reg:linear is now deprecated in favor of reg:squarederror.\n",
            "[22:58:33] WARNING: /workspace/src/objective/regression_obj.cu:152: reg:linear is now deprecated in favor of reg:squarederror.\n",
            "[22:58:33] WARNING: /workspace/src/objective/regression_obj.cu:152: reg:linear is now deprecated in favor of reg:squarederror.\n",
            "[22:58:33] WARNING: /workspace/src/objective/regression_obj.cu:152: reg:linear is now deprecated in favor of reg:squarederror.\n",
            "[22:58:33] WARNING: /workspace/src/objective/regression_obj.cu:152: reg:linear is now deprecated in favor of reg:squarederror.\n",
            "[22:58:33] WARNING: /workspace/src/objective/regression_obj.cu:152: reg:linear is now deprecated in favor of reg:squarederror.\n",
            "[22:58:33] WARNING: /workspace/src/objective/regression_obj.cu:152: reg:linear is now deprecated in favor of reg:squarederror.\n",
            "[22:58:33] WARNING: /workspace/src/objective/regression_obj.cu:152: reg:linear is now deprecated in favor of reg:squarederror.\n",
            "[415.68576 415.73053 403.91214 406.89557 418.12173 408.0241  425.22992\n",
            " 405.77963 418.22    419.5015  418.95804 419.34424 406.96454 394.0897\n",
            " 411.76926 429.98608 412.8907  416.86472 419.2503  420.7677  416.08386\n",
            " 426.84726 411.3432  421.77475 433.1837  404.37375 427.89093 430.6872\n",
            " 414.96848 427.39   ]\n"
          ]
        }
      ]
    },
    {
      "cell_type": "markdown",
      "metadata": {
        "id": "ynBXYaCnnltM"
      },
      "source": [
        "## Random Forest Regressor\n",
        "        Variation-II [FEATURES : Previous 90 Days Sales + Monthly Item Discount ]"
      ]
    },
    {
      "cell_type": "code",
      "execution_count": 89,
      "metadata": {
        "colab": {
          "base_uri": "https://localhost:8080/"
        },
        "id": "yLtFsHF3nltN",
        "outputId": "061efc09-67e3-418e-9e07-4598ca5660b3"
      },
      "outputs": [
        {
          "output_type": "stream",
          "name": "stdout",
          "text": [
            "\tMean absolute error (MAE): 5.7170000000000005\n"
          ]
        }
      ],
      "source": [
        "#use k-fold CV to evaluate model\n",
        "score1 = cross_val_score(regressor, X1, Y1, scoring='neg_mean_absolute_error',\n",
        "                         cv=cv, n_jobs=-1)\n",
        "\n",
        "#view mean absolute error\n",
        "print(\"\\tMean absolute error (MAE):\", mean(absolute(score1)))"
      ]
    },
    {
      "cell_type": "code",
      "execution_count": 90,
      "metadata": {
        "colab": {
          "base_uri": "https://localhost:8080/"
        },
        "id": "ZvgRGzjbnltN",
        "outputId": "887107d5-86a8-4d95-ae3f-6219028a40c9"
      },
      "outputs": [
        {
          "output_type": "stream",
          "name": "stdout",
          "text": [
            "\tRoot Mean squared error (RMSE): 7.427611774094461\n"
          ]
        }
      ],
      "source": [
        "score2 = cross_val_score(regressor, X1, Y1, scoring='neg_mean_squared_error',\n",
        "                         cv=cv, n_jobs=-1)\n",
        "print(\"\\tRoot Mean squared error (RMSE):\", sqrt(mean(absolute(score2))))"
      ]
    },
    {
      "cell_type": "code",
      "execution_count": 91,
      "metadata": {
        "colab": {
          "base_uri": "https://localhost:8080/"
        },
        "id": "w7FeXyxpnltN",
        "outputId": "b10b3cf8-f17c-4fc8-841a-409fec6e8830"
      },
      "outputs": [
        {
          "output_type": "stream",
          "name": "stdout",
          "text": [
            "\t Mean Absolute Percentage error (MAPE): 0.5927753739590688\n"
          ]
        }
      ],
      "source": [
        "score3 = cross_val_score(regressor, X1, Y1, scoring=mape_scorer, cv=cv)\n",
        "print(\"\\t Mean Absolute Percentage error (MAPE):\", mean(absolute(score3)))"
      ]
    },
    {
      "cell_type": "markdown",
      "source": [
        "### Predicted Values"
      ],
      "metadata": {
        "id": "jTP454CrweSv"
      }
    },
    {
      "cell_type": "code",
      "execution_count": 92,
      "metadata": {
        "id": "J43I8cxdnltN",
        "colab": {
          "base_uri": "https://localhost:8080/"
        },
        "outputId": "7ab5f126-63c7-4547-91ee-697599f4f3cd"
      },
      "outputs": [
        {
          "output_type": "stream",
          "name": "stdout",
          "text": [
            "[422.42 390.45 410.33 407.33 415.77 429.7  430.59 427.2  394.61 423.58\n",
            " 398.83 430.74 392.18 427.76 419.86 425.55 423.6  397.84 425.92 418.83\n",
            " 393.83 430.48 418.47 432.18 436.15 433.4  408.69 424.1  395.5  434.16]\n"
          ]
        }
      ],
      "source": [
        "predictions = cross_val_predict(regressor, X1,Y1, cv=cv)\n",
        "print(predictions)"
      ]
    },
    {
      "cell_type": "markdown",
      "source": [
        "# RANDOM FOREST PREDICTION"
      ],
      "metadata": {
        "id": "7AGzGvJKBek_"
      }
    },
    {
      "cell_type": "code",
      "source": [
        "regressor.fit(x_train, y_train)"
      ],
      "metadata": {
        "colab": {
          "base_uri": "https://localhost:8080/"
        },
        "id": "N85AykzVBeck",
        "outputId": "3dd655cf-ee99-4d82-d648-4b8e7c8cdf23"
      },
      "execution_count": 124,
      "outputs": [
        {
          "output_type": "execute_result",
          "data": {
            "text/plain": [
              "RandomForestRegressor(random_state=0)"
            ]
          },
          "metadata": {},
          "execution_count": 124
        }
      ]
    },
    {
      "cell_type": "code",
      "source": [
        "Forest_prediction2 = pd.DataFrame(regressor.predict(Row25))\n",
        "print(Forest_prediction2)\n",
        "print(Actual_value2)"
      ],
      "metadata": {
        "colab": {
          "base_uri": "https://localhost:8080/"
        },
        "id": "wULbM2YGBeaB",
        "outputId": "aeb59d9d-4e2c-4a9c-93e7-5af3974ee7eb"
      },
      "execution_count": 125,
      "outputs": [
        {
          "output_type": "stream",
          "name": "stdout",
          "text": [
            "        0\n",
            "0  434.03\n",
            "24    436\n",
            "Name: Order Item Quantity, dtype: int64\n"
          ]
        }
      ]
    },
    {
      "cell_type": "code",
      "source": [
        "\n",
        "print(\"\\tMean absolute error (MAE):\", mean_absolute_error(Actual_value2, Forest_prediction2))"
      ],
      "metadata": {
        "colab": {
          "base_uri": "https://localhost:8080/"
        },
        "id": "gg6i8NRdBeXV",
        "outputId": "3b4299ba-70dd-40f4-98ee-7e8532c70a81"
      },
      "execution_count": 126,
      "outputs": [
        {
          "output_type": "stream",
          "name": "stdout",
          "text": [
            "\tMean absolute error (MAE): 1.9700000000000273\n"
          ]
        }
      ]
    },
    {
      "cell_type": "code",
      "source": [],
      "metadata": {
        "id": "wvrkY4TUweBZ"
      },
      "execution_count": 92,
      "outputs": []
    },
    {
      "cell_type": "markdown",
      "source": [
        "#ARIMA IMPLEMENTATION"
      ],
      "metadata": {
        "id": "L9WLiaZryBt_"
      }
    },
    {
      "cell_type": "code",
      "execution_count": 93,
      "metadata": {
        "id": "bUQHXWdGnltO"
      },
      "outputs": [],
      "source": [
        "Monthly_Quantity.drop(Monthly_Quantity.tail(1).index,inplace=True)"
      ]
    },
    {
      "cell_type": "code",
      "execution_count": 94,
      "metadata": {
        "id": "cSKdjPfHnltO",
        "colab": {
          "base_uri": "https://localhost:8080/"
        },
        "outputId": "0023eafb-db95-4383-ed1b-4001a0b26033"
      },
      "outputs": [
        {
          "output_type": "execute_result",
          "data": {
            "text/plain": [
              "(33, 1)"
            ]
          },
          "metadata": {},
          "execution_count": 94
        }
      ],
      "source": [
        "Monthly_Quantity.shape"
      ]
    },
    {
      "cell_type": "markdown",
      "source": [
        "Plotting the Rolling Mean and STD of the data to see if it is stationary"
      ],
      "metadata": {
        "id": "tsNXlu3uaKKT"
      }
    },
    {
      "cell_type": "code",
      "execution_count": 95,
      "metadata": {
        "id": "_HHk0GCJnltP",
        "colab": {
          "base_uri": "https://localhost:8080/",
          "height": 478
        },
        "outputId": "0f2957ce-cac8-4cf5-8e43-e58b63c1f605"
      },
      "outputs": [
        {
          "output_type": "execute_result",
          "data": {
            "text/plain": [
              "Text(0.5, 1.0, 'Rolling Mean & Standard Deviation')"
            ]
          },
          "metadata": {},
          "execution_count": 95
        },
        {
          "output_type": "display_data",
          "data": {
            "text/plain": [
              "<Figure size 1080x504 with 1 Axes>"
            ],
            "image/png": "[encoded data removed]"
          },
          "metadata": {
            "needs_background": "light"
          }
        }
      ],
      "source": [
        "plt.figure(figsize=(15,7))\n",
        "plt.plot(Monthly_Quantity[\"Order Item Quantity\"], label='Original')\n",
        "plt.plot(Monthly_Quantity[\"Order Item Quantity\"].rolling(window=3).mean(), color='red', label='Rolling mean')\n",
        "plt.plot(Monthly_Quantity[\"Order Item Quantity\"].rolling(window=3).std(), color='green', label='Rolling std')\n",
        "plt.xlabel('Date', fontsize=12)\n",
        "plt.ylabel('Order Item Quantity', fontsize=12)\n",
        "plt.legend(loc='best')\n",
        "plt.title('Rolling Mean & Standard Deviation')"
      ]
    },
    {
      "cell_type": "code",
      "execution_count": 96,
      "metadata": {
        "id": "1QD-L6bdnltP"
      },
      "outputs": [],
      "source": [
        "import statsmodels.api as sm\n",
        "from statsmodels.tsa.stattools import adfuller\n",
        "from statsmodels.graphics.tsaplots import plot_acf, plot_pacf, plot_predict\n",
        "from statsmodels.tsa.arima.model import ARIMA\n",
        "%matplotlib inline"
      ]
    },
    {
      "cell_type": "markdown",
      "source": [
        "TEST for checking the stationarity of Data"
      ],
      "metadata": {
        "id": "ToX3EveVaXu2"
      }
    },
    {
      "cell_type": "code",
      "execution_count": 97,
      "metadata": {
        "id": "6TquxYdFnltP",
        "colab": {
          "base_uri": "https://localhost:8080/"
        },
        "outputId": "73dda4a8-2611-4007-bfeb-7edc7907b8e4"
      },
      "outputs": [
        {
          "output_type": "stream",
          "name": "stdout",
          "text": [
            "p-value: 0.07416887626674869\n"
          ]
        }
      ],
      "source": [
        "adf_test = adfuller(Monthly_Quantity)\n",
        "print(f'p-value: {adf_test[1]}')"
      ]
    },
    {
      "cell_type": "code",
      "execution_count": 98,
      "metadata": {
        "id": "zsTOkUqcnltP",
        "colab": {
          "base_uri": "https://localhost:8080/",
          "height": 482
        },
        "outputId": "ba80a417-f2f9-443d-e167-4cb0def1c529"
      },
      "outputs": [
        {
          "output_type": "display_data",
          "data": {
            "text/plain": [
              "<Figure size 1008x504 with 4 Axes>"
            ],
            "image/png": "[encoded data removed]"
          },
          "metadata": {
            "needs_background": "light"
          }
        }
      ],
      "source": [
        "def seasonal_decompose (Monthly_Quantity):\n",
        "    decomposition = sm.tsa.seasonal_decompose(Monthly_Quantity, model='additive', extrapolate_trend=12)\n",
        "    \n",
        "    trend = decomposition.trend\n",
        "    seasonal = decomposition.seasonal\n",
        "    residual = decomposition.resid\n",
        "    \n",
        "    fig = decomposition.plot()\n",
        "    fig.set_size_inches(14, 7)\n",
        "    plt.show()\n",
        "    \n",
        "    return trend, seasonal, residual\n",
        " \n",
        "trend, seasonal, residual = seasonal_decompose(Monthly_Quantity)"
      ]
    },
    {
      "cell_type": "code",
      "execution_count": 99,
      "metadata": {
        "id": "6Ae4lYhwnltP",
        "colab": {
          "base_uri": "https://localhost:8080/",
          "height": 1000
        },
        "outputId": "8ba3f03b-97cd-4429-efff-32178a2b4725"
      },
      "outputs": [
        {
          "output_type": "execute_result",
          "data": {
            "text/plain": [
              "Text(0.5, 1.0, 'Daily_Sales')"
            ]
          },
          "metadata": {},
          "execution_count": 99
        },
        {
          "output_type": "display_data",
          "data": {
            "text/plain": [
              "<Figure size 432x288 with 1 Axes>"
            ],
            "image/png": "[encoded data removed]"
          },
          "metadata": {
            "needs_background": "light"
          }
        },
        {
          "output_type": "display_data",
          "data": {
            "text/plain": [
              "<Figure size 432x288 with 1 Axes>"
            ],
            "image/png": "[encoded data removed]"
          },
          "metadata": {
            "needs_background": "light"
          }
        },
        {
          "output_type": "display_data",
          "data": {
            "text/plain": [
              "<Figure size 432x288 with 1 Axes>"
            ],
            "image/png": "[encoded data removed]"
          },
          "metadata": {
            "needs_background": "light"
          }
        },
        {
          "output_type": "display_data",
          "data": {
            "text/plain": [
              "<Figure size 432x288 with 1 Axes>"
            ],
            "image/png": "[encoded data removed]"
          },
          "metadata": {
            "needs_background": "light"
          }
        }
      ],
      "source": [
        "sales_agg_monthly = Camping_Hiking_Sold.resample(\"M\")[[\"Order Item Quantity\"]].mean()\n",
        "sales_agg_monthly.plot()\n",
        "plt.title('Mean Monthly Sales')\n",
        "\n",
        "sales_agg_yearly = Camping_Hiking_Sold.resample(\"Y\")[[\"Order Item Quantity\"]].mean()\n",
        "sales_agg_yearly.plot()\n",
        "plt.title('Mean Yearly Sales')\n",
        "\n",
        "sales_agg_weekly = Camping_Hiking_Sold.resample(\"W\")[[\"Order Item Quantity\"]].mean()\n",
        "sales_agg_weekly.plot()\n",
        "plt.title('Mean weekly Sales')\n",
        "\n",
        "sales_agg_daily = Camping_Hiking_Sold.resample(\"D\")[[\"Order Item Quantity\"]].mean()\n",
        "sales_agg_daily.plot()\n",
        "plt.title('Daily_Sales')"
      ]
    },
    {
      "cell_type": "code",
      "source": [
        "pip install pmdarima"
      ],
      "metadata": {
        "colab": {
          "base_uri": "https://localhost:8080/",
          "height": 590
        },
        "id": "6t2rRHOybKU6",
        "outputId": "c6a67a7a-a579-4e0d-81ff-2ffd4ec7a854"
      },
      "execution_count": 100,
      "outputs": [
        {
          "output_type": "stream",
          "name": "stdout",
          "text": [
            "Looking in indexes: https://pypi.org/simple, https://us-python.pkg.dev/colab-wheels/public/simple/\n",
            "Collecting pmdarima\n",
            "  Downloading pmdarima-2.0.2-cp38-cp38-manylinux_2_17_x86_64.manylinux2014_x86_64.manylinux_2_28_x86_64.whl (1.9 MB)\n",
            "\u001b[2K     \u001b[90m━━━━━━━━━━━━━━━━━━━━━━━━━━━━━━━━━━━━━━━━\u001b[0m \u001b[32m1.9/1.9 MB\u001b[0m \u001b[31m26.5 MB/s\u001b[0m eta \u001b[36m0:00:00\u001b[0m\n",
            "\u001b[?25hRequirement already satisfied: setuptools!=50.0.0,>=38.6.0 in /usr/local/lib/python3.8/dist-packages (from pmdarima) (57.4.0)\n",
            "Collecting statsmodels>=0.13.2\n",
            "  Downloading statsmodels-0.13.5-cp38-cp38-manylinux_2_17_x86_64.manylinux2014_x86_64.whl (9.9 MB)\n",
            "\u001b[2K     \u001b[90m━━━━━━━━━━━━━━━━━━━━━━━━━━━━━━━━━━━━━━━━\u001b[0m \u001b[32m9.9/9.9 MB\u001b[0m \u001b[31m59.8 MB/s\u001b[0m eta \u001b[36m0:00:00\u001b[0m\n",
            "\u001b[?25hRequirement already satisfied: numpy>=1.21.2 in /usr/local/lib/python3.8/dist-packages (from pmdarima) (1.21.6)\n",
            "Requirement already satisfied: scikit-learn>=0.22 in /usr/local/lib/python3.8/dist-packages (from pmdarima) (1.0.2)\n",
            "Requirement already satisfied: joblib>=0.11 in /usr/local/lib/python3.8/dist-packages (from pmdarima) (1.2.0)\n",
            "Requirement already satisfied: scipy>=1.3.2 in /usr/local/lib/python3.8/dist-packages (from pmdarima) (1.7.3)\n",
            "Requirement already satisfied: pandas>=0.19 in /usr/local/lib/python3.8/dist-packages (from pmdarima) (1.3.5)\n",
            "Requirement already satisfied: Cython!=0.29.18,!=0.29.31,>=0.29 in /usr/local/lib/python3.8/dist-packages (from pmdarima) (0.29.32)\n",
            "Requirement already satisfied: urllib3 in /usr/local/lib/python3.8/dist-packages (from pmdarima) (1.24.3)\n",
            "Requirement already satisfied: python-dateutil>=2.7.3 in /usr/local/lib/python3.8/dist-packages (from pandas>=0.19->pmdarima) (2.8.2)\n",
            "Requirement already satisfied: pytz>=2017.3 in /usr/local/lib/python3.8/dist-packages (from pandas>=0.19->pmdarima) (2022.7)\n",
            "Requirement already satisfied: threadpoolctl>=2.0.0 in /usr/local/lib/python3.8/dist-packages (from scikit-learn>=0.22->pmdarima) (3.1.0)\n",
            "Requirement already satisfied: packaging>=21.3 in /usr/local/lib/python3.8/dist-packages (from statsmodels>=0.13.2->pmdarima) (21.3)\n",
            "Requirement already satisfied: patsy>=0.5.2 in /usr/local/lib/python3.8/dist-packages (from statsmodels>=0.13.2->pmdarima) (0.5.3)\n",
            "Requirement already satisfied: pyparsing!=3.0.5,>=2.0.2 in /usr/local/lib/python3.8/dist-packages (from packaging>=21.3->statsmodels>=0.13.2->pmdarima) (3.0.9)\n",
            "Requirement already satisfied: six in /usr/local/lib/python3.8/dist-packages (from patsy>=0.5.2->statsmodels>=0.13.2->pmdarima) (1.15.0)\n",
            "Installing collected packages: statsmodels, pmdarima\n",
            "  Attempting uninstall: statsmodels\n",
            "    Found existing installation: statsmodels 0.12.2\n",
            "    Uninstalling statsmodels-0.12.2:\n",
            "      Successfully uninstalled statsmodels-0.12.2\n",
            "Successfully installed pmdarima-2.0.2 statsmodels-0.13.5\n"
          ]
        },
        {
          "output_type": "display_data",
          "data": {
            "application/vnd.colab-display-data+json": {
              "pip_warning": {
                "packages": [
                  "statsmodels"
                ]
              }
            }
          },
          "metadata": {}
        }
      ]
    },
    {
      "cell_type": "code",
      "source": [
        "from pmdarima import auto_arima"
      ],
      "metadata": {
        "id": "sG4cmQhbawGd"
      },
      "execution_count": 101,
      "outputs": []
    },
    {
      "cell_type": "markdown",
      "source": [
        "Adding the Exogenous Discount feature"
      ],
      "metadata": {
        "id": "KKbph-fDbSgV"
      }
    },
    {
      "cell_type": "code",
      "source": [
        "Monthly_Discount.drop(Monthly_Discount.tail(1).index,inplace=True)\n",
        "Monthly_Discount.shape"
      ],
      "metadata": {
        "colab": {
          "base_uri": "https://localhost:8080/"
        },
        "id": "4s2q_RaNbJCP",
        "outputId": "c9b19324-6067-45eb-bc1e-96a3c035d240"
      },
      "execution_count": 102,
      "outputs": [
        {
          "output_type": "execute_result",
          "data": {
            "text/plain": [
              "(33, 1)"
            ]
          },
          "metadata": {},
          "execution_count": 102
        }
      ]
    },
    {
      "cell_type": "code",
      "source": [
        "Exog = Monthly_Discount[['Order Item Discount']].to_numpy()"
      ],
      "metadata": {
        "id": "x5zyMerjbaOV"
      },
      "execution_count": 103,
      "outputs": []
    },
    {
      "cell_type": "code",
      "source": [
        "# Split the data into training and test sets\n",
        "train_data = Monthly_Quantity[:int(0.8*len(Monthly_Quantity))]\n",
        "test_data = Monthly_Quantity[int(0.8*len(Monthly_Quantity)):]\n",
        "\n",
        "# Create an auto_arima model\n",
        "model = auto_arima(train_data, exogenous=Exog, start_p=1, start_q=1, max_p=3, max_q=3, m=12,\n",
        "                      start_P=0, seasonal=True, d=1, D=1, trace=True,\n",
        "                      error_action='ignore', suppress_warnings=True, stepwise=True)  # set to stepwise\n",
        "\n"
      ],
      "metadata": {
        "colab": {
          "base_uri": "https://localhost:8080/"
        },
        "id": "esMT88TQbbkq",
        "outputId": "c8d9f320-4c32-49de-bcc4-8bc18d9fabf9"
      },
      "execution_count": 104,
      "outputs": [
        {
          "output_type": "stream",
          "name": "stdout",
          "text": [
            "Performing stepwise search to minimize aic\n",
            " ARIMA(1,1,1)(0,1,1)[12]             : AIC=inf, Time=0.48 sec\n",
            " ARIMA(0,1,0)(0,1,0)[12]             : AIC=132.419, Time=0.03 sec\n",
            " ARIMA(1,1,0)(1,1,0)[12]             : AIC=128.574, Time=0.27 sec\n",
            " ARIMA(0,1,1)(0,1,1)[12]             : AIC=inf, Time=0.43 sec\n",
            " ARIMA(1,1,0)(0,1,0)[12]             : AIC=127.306, Time=0.05 sec\n",
            " ARIMA(1,1,0)(0,1,1)[12]             : AIC=inf, Time=0.24 sec\n",
            " ARIMA(1,1,0)(1,1,1)[12]             : AIC=130.572, Time=0.46 sec\n",
            " ARIMA(2,1,0)(0,1,0)[12]             : AIC=128.531, Time=0.06 sec\n",
            " ARIMA(1,1,1)(0,1,0)[12]             : AIC=inf, Time=0.11 sec\n",
            " ARIMA(0,1,1)(0,1,0)[12]             : AIC=inf, Time=0.07 sec\n",
            " ARIMA(2,1,1)(0,1,0)[12]             : AIC=inf, Time=0.17 sec\n",
            " ARIMA(1,1,0)(0,1,0)[12] intercept   : AIC=129.033, Time=0.08 sec\n",
            "\n",
            "Best model:  ARIMA(1,1,0)(0,1,0)[12]          \n",
            "Total fit time: 2.459 seconds\n"
          ]
        }
      ]
    },
    {
      "cell_type": "code",
      "source": [
        "# Fit the model to the training data\n",
        "model.fit(train_data)\n",
        "\n",
        "# Make predictions on the test data\n",
        "predictions = model.predict(n_periods=len(test_data),exogenous=Exog)"
      ],
      "metadata": {
        "id": "3Dl3TDEQcJa6"
      },
      "execution_count": 105,
      "outputs": []
    },
    {
      "cell_type": "code",
      "source": [
        "predictions"
      ],
      "metadata": {
        "colab": {
          "base_uri": "https://localhost:8080/"
        },
        "id": "TPbQBa0_cQ0m",
        "outputId": "fcfdd6c0-1d68-4948-c6b7-977300591194"
      },
      "execution_count": 106,
      "outputs": [
        {
          "output_type": "execute_result",
          "data": {
            "text/plain": [
              "2017-03-01    452.814171\n",
              "2017-04-01    416.084039\n",
              "2017-05-01    450.237119\n",
              "2017-06-01    450.255441\n",
              "2017-07-01    444.046086\n",
              "2017-08-01    447.098557\n",
              "2017-09-01    411.785945\n",
              "Freq: MS, dtype: float64"
            ]
          },
          "metadata": {},
          "execution_count": 106
        }
      ]
    },
    {
      "cell_type": "markdown",
      "source": [
        "Evaluate the model's performance"
      ],
      "metadata": {
        "id": "Nin8G9P5dKPg"
      }
    },
    {
      "cell_type": "code",
      "source": [
        "MAE = (mean_absolute_error(test_data,predictions))\n",
        "print(\"MAE:\", MAE)"
      ],
      "metadata": {
        "colab": {
          "base_uri": "https://localhost:8080/"
        },
        "id": "_45ywO5ycSmM",
        "outputId": "45f57cfe-9e9e-4e51-b570-fdce2507cf87"
      },
      "execution_count": 107,
      "outputs": [
        {
          "output_type": "stream",
          "name": "stdout",
          "text": [
            "MAE: 22.443878850628153\n"
          ]
        }
      ]
    },
    {
      "cell_type": "code",
      "source": [
        "rmse = sqrt(mean_squared_error(test_data, predictions))\n",
        "print(f' Root Mean Squared Error: {rmse:.3f}')"
      ],
      "metadata": {
        "colab": {
          "base_uri": "https://localhost:8080/"
        },
        "id": "eTvOU3GMcd5M",
        "outputId": "106f86a1-5c34-472a-e956-04bb9cc493c7"
      },
      "execution_count": 108,
      "outputs": [
        {
          "output_type": "stream",
          "name": "stdout",
          "text": [
            " Root Mean Squared Error: 29.104\n"
          ]
        }
      ]
    },
    {
      "cell_type": "code",
      "source": [
        "\n",
        "MAPE = (mean_absolute_percentage_error(test_data, predictions))*100\n",
        "print(\"MAPE:\", MAPE)"
      ],
      "metadata": {
        "colab": {
          "base_uri": "https://localhost:8080/"
        },
        "id": "ofu5FI8gdP8x",
        "outputId": "f19dbd76-e2b9-4bb5-b65e-dea621bf9611"
      },
      "execution_count": 109,
      "outputs": [
        {
          "output_type": "stream",
          "name": "stdout",
          "text": [
            "MAPE: 5.444125604714629\n"
          ]
        }
      ]
    },
    {
      "cell_type": "markdown",
      "source": [
        "# ARIMA PREDICTION"
      ],
      "metadata": {
        "id": "jH16--lFBz-8"
      }
    },
    {
      "cell_type": "code",
      "source": [
        "Arima_prediction2 = predictions.iloc[1:2]\n",
        "Arima_prediction2 = Arima_prediction2.tolist()\n",
        "print(Arima_prediction2)\n",
        "print(Actual_value2)"
      ],
      "metadata": {
        "colab": {
          "base_uri": "https://localhost:8080/"
        },
        "id": "wiXurW61Bz39",
        "outputId": "d0292ea6-6651-4f06-cda0-d3c8b4de7c0e"
      },
      "execution_count": 127,
      "outputs": [
        {
          "output_type": "stream",
          "name": "stdout",
          "text": [
            "[416.0840388242893]\n",
            "24    436\n",
            "Name: Order Item Quantity, dtype: int64\n"
          ]
        }
      ]
    },
    {
      "cell_type": "code",
      "source": [
        "print(\"\\tMean absolute error (MAE):\", mean_absolute_error(Actual_value2, Arima_prediction2))"
      ],
      "metadata": {
        "colab": {
          "base_uri": "https://localhost:8080/"
        },
        "id": "oXfLaLURBz1T",
        "outputId": "84eab36c-f056-4e62-e861-8487fd2a3520"
      },
      "execution_count": 128,
      "outputs": [
        {
          "output_type": "stream",
          "name": "stdout",
          "text": [
            "\tMean absolute error (MAE): 19.91596117571072\n"
          ]
        }
      ]
    },
    {
      "cell_type": "code",
      "source": [],
      "metadata": {
        "id": "9BXIvPVdBzyh"
      },
      "execution_count": null,
      "outputs": []
    },
    {
      "cell_type": "markdown",
      "source": [
        "#Exponential Smoothing"
      ],
      "metadata": {
        "id": "_fJsNNE9d2xZ"
      }
    },
    {
      "cell_type": "code",
      "source": [
        "from statsmodels.tsa.holtwinters import SimpleExpSmoothing\n",
        "from statsmodels.tsa.api import ExponentialSmoothing, SimpleExpSmoothing, Holt"
      ],
      "metadata": {
        "id": "UuBLCtCjdx72"
      },
      "execution_count": 110,
      "outputs": []
    },
    {
      "cell_type": "code",
      "source": [
        "def simple_exponential_smoothing(MonthlyItemQuantity, alpha):\n",
        "    \"\"\"\n",
        "    Perform simple exponential smoothing.\n",
        "    Args:\n",
        "        series: input series\n",
        "        alpha: smoothing factor (between 0 and 1)\n",
        "    Returns:\n",
        "        smoothed series\n",
        "    \"\"\"\n",
        "    # Initialize the smoothed series with the first value of the input series\n",
        "    smoothed_series = [MonthlyItemQuantity[0]]\n",
        "    # Loop through the rest of the series\n",
        "    for t in range(1, len(MonthlyItemQuantity)):\n",
        "        # Calculate the smoothed value for time t\n",
        "        smoothed_series.append(alpha * MonthlyItemQuantity[t] + (1 - alpha) * smoothed_series[t-1])\n",
        "    return smoothed_series"
      ],
      "metadata": {
        "id": "C162FCPXdRJK"
      },
      "execution_count": 111,
      "outputs": []
    },
    {
      "cell_type": "code",
      "source": [
        "alpha = 0.7\n",
        "\n",
        "smoothed_series = simple_exponential_smoothing(MonthlyItemQuantity, alpha)\n",
        "print(smoothed_series)"
      ],
      "metadata": {
        "colab": {
          "base_uri": "https://localhost:8080/"
        },
        "id": "Ux9JHQJ9d7Ph",
        "outputId": "c5c75c70-27da-4c8c-9f7d-e0a8d21f62ed"
      },
      "execution_count": 112,
      "outputs": [
        {
          "output_type": "stream",
          "name": "stdout",
          "text": [
            "[417, 399.5, 407.55, 410.66499999999996, 408.0995, 427.62985000000003, 427.888955, 429.3666865, 401.11000594999996, 411.533001785, 391.5599005355, 420.56797016064996, 394.970391048195, 416.6911173144585, 419.7073351943376, 418.5122005583013, 418.8536601674904, 395.1560980502471, 413.94682941507415, 422.38404882452227, 403.2152146473567, 418.464564394207, 420.9393693182621, 441.28181079547863, 437.5845432386436, 446.9753629715931, 421.09260889147794, 428.0277826674434, 402.108334800233, 425.8325004400699]\n"
          ]
        }
      ]
    },
    {
      "cell_type": "code",
      "source": [
        "errors = []\n",
        "for a, f in zip(MonthlyItemQuantity, smoothed_series):\n",
        "    errors.append(a - f)\n",
        "\n",
        "# Calculate the MSE\n",
        "mse = np.sum(np.square(errors)) / len(errors)\n",
        "\n",
        "# Calculate the RMSE\n",
        "rmse = np.sqrt(mse)\n",
        "\n",
        "print(\"Errors:\", errors)\n",
        "print(\"RMSE:\", rmse)\n",
        "\n",
        "MAE = (mean_absolute_error(smoothed_series,MonthlyItemQuantity))\n",
        "print(\"MAE:\", MAE)\n",
        "\n",
        "MAPE = (mean_absolute_percentage_error(smoothed_series, MonthlyItemQuantity))*100\n",
        "print(\"MAPE:\", MAPE)\n"
      ],
      "metadata": {
        "colab": {
          "base_uri": "https://localhost:8080/"
        },
        "id": "Se40ZZBXd9sx",
        "outputId": "4b790d5f-aef8-4219-f671-36d7bfe1a65b"
      },
      "execution_count": 113,
      "outputs": [
        {
          "output_type": "stream",
          "name": "stdout",
          "text": [
            "Errors: [0, -7.5, 3.4499999999999886, 1.3350000000000364, -1.0994999999999777, 8.370149999999967, 0.11104499999999007, 0.6333134999999857, -12.110005949999959, 4.46699821499999, -8.559900535499992, 12.432029839350037, -10.970391048194983, 9.308882685541505, 1.2926648056624117, -0.5122005583012879, 0.146339832509625, -10.156098050247124, 8.053170584925851, 3.6159511754777327, -8.215214647356675, 6.535435605792998, 1.060630681737905, 8.718189204521366, -1.5845432386436187, 4.024637028406914, -11.092608891477937, 2.9722173325566246, -11.108334800233024, 10.167499559930093]\n",
            "RMSE: 7.049301744574213\n",
            "MAE: 5.653431759045587\n",
            "MAPE: 1.370418494392584\n"
          ]
        }
      ]
    },
    {
      "cell_type": "markdown",
      "source": [
        "# Exponential Smoothing PREDICTION"
      ],
      "metadata": {
        "id": "dlJw0vVYCAfi"
      }
    },
    {
      "cell_type": "code",
      "source": [
        "Monthly_Quantity.shape\n"
      ],
      "metadata": {
        "colab": {
          "base_uri": "https://localhost:8080/"
        },
        "id": "hdyiWZ7fCAaj",
        "outputId": "35e49127-e8fd-4eee-cba1-09e2defbfa76"
      },
      "execution_count": 129,
      "outputs": [
        {
          "output_type": "execute_result",
          "data": {
            "text/plain": [
              "(33, 1)"
            ]
          },
          "metadata": {},
          "execution_count": 129
        }
      ]
    },
    {
      "cell_type": "code",
      "source": [
        "train_data = Monthly_Quantity[:int(0.8*len(Monthly_Quantity))]\n",
        "test_data = Monthly_Quantity[int(0.8*len(Monthly_Quantity)):]"
      ],
      "metadata": {
        "id": "vu6EgfKnCAXq"
      },
      "execution_count": 130,
      "outputs": []
    },
    {
      "cell_type": "code",
      "source": [
        "model = SimpleExpSmoothing(train_data['Order Item Quantity'])\n",
        "fit = model.fit(smoothing_level=alpha)"
      ],
      "metadata": {
        "colab": {
          "base_uri": "https://localhost:8080/"
        },
        "id": "pShXAysvCAUz",
        "outputId": "219cf8fb-d730-4031-e42c-d31e86ccfbbb"
      },
      "execution_count": 131,
      "outputs": [
        {
          "output_type": "stream",
          "name": "stderr",
          "text": [
            "/usr/local/lib/python3.8/dist-packages/statsmodels/tsa/base/tsa_model.py:524: ValueWarning: No frequency information was provided, so inferred frequency MS will be used.\n",
            "  # If an index is available, see if it is a date-based index or if it\n"
          ]
        }
      ]
    },
    {
      "cell_type": "code",
      "source": [
        "ES_predictions2 = fit.predict(start=test_data.index[0], end=test_data.index[-1])"
      ],
      "metadata": {
        "id": "rICz0Cw9CARO"
      },
      "execution_count": 132,
      "outputs": []
    },
    {
      "cell_type": "code",
      "source": [
        "ES_prediction2 = ES_predictions2.iloc[1:2]\n",
        "ES_prediction2 = ES_prediction2.tolist()\n",
        "ES_prediction2"
      ],
      "metadata": {
        "colab": {
          "base_uri": "https://localhost:8080/"
        },
        "id": "wKLGc2MrCAOF",
        "outputId": "40e7f76e-1ecc-4b7a-8ced-2e1acf497d61"
      },
      "execution_count": 133,
      "outputs": [
        {
          "output_type": "execute_result",
          "data": {
            "text/plain": [
              "[420.93936931824896]"
            ]
          },
          "metadata": {},
          "execution_count": 133
        }
      ]
    },
    {
      "cell_type": "code",
      "source": [
        "print(\"\\tMean absolute error (MAE):\", mean_absolute_error(Actual_value2, ES_prediction2))"
      ],
      "metadata": {
        "id": "a5gQpUD6eHN9",
        "colab": {
          "base_uri": "https://localhost:8080/"
        },
        "outputId": "b534d1ad-eea2-4f2c-ca06-d063cfaddc7d"
      },
      "execution_count": 134,
      "outputs": [
        {
          "output_type": "stream",
          "name": "stdout",
          "text": [
            "\tMean absolute error (MAE): 15.060630681751036\n"
          ]
        }
      ]
    },
    {
      "cell_type": "markdown",
      "source": [
        "# COMBINING PREDICTION OF THE 5 MODELS"
      ],
      "metadata": {
        "id": "hJSDzlOGCNnE"
      }
    },
    {
      "cell_type": "code",
      "source": [
        "df_vertical = pd.concat([xgboost_prediction2, linear_prediction2, Forest_prediction2])"
      ],
      "metadata": {
        "id": "Bt1Ql5McCOgr"
      },
      "execution_count": 135,
      "outputs": []
    },
    {
      "cell_type": "code",
      "source": [
        "array = df_vertical.values\n",
        "array"
      ],
      "metadata": {
        "colab": {
          "base_uri": "https://localhost:8080/"
        },
        "id": "oiu765aKCNRq",
        "outputId": "f1632699-018a-48bc-c2c2-e14ec2b96257"
      },
      "execution_count": 136,
      "outputs": [
        {
          "output_type": "execute_result",
          "data": {
            "text/plain": [
              "array([[433.38787842],\n",
              "       [437.02529098],\n",
              "       [434.03      ]])"
            ]
          },
          "metadata": {},
          "execution_count": 136
        }
      ]
    },
    {
      "cell_type": "code",
      "source": [
        "array = np.append(array, Arima_prediction2)\n",
        "print(array)"
      ],
      "metadata": {
        "colab": {
          "base_uri": "https://localhost:8080/"
        },
        "id": "3YgQ3ltCCNNM",
        "outputId": "583edce0-f703-44b5-94e5-2a806095446f"
      },
      "execution_count": 137,
      "outputs": [
        {
          "output_type": "stream",
          "name": "stdout",
          "text": [
            "[433.38787842 437.02529098 434.03       416.08403882]\n"
          ]
        }
      ]
    },
    {
      "cell_type": "code",
      "source": [],
      "metadata": {
        "id": "F3ckLFV4CNKQ"
      },
      "execution_count": null,
      "outputs": []
    },
    {
      "cell_type": "markdown",
      "source": [
        "# INPUT FOR Multilayer perceptron"
      ],
      "metadata": {
        "id": "00xFU8qxCNA_"
      }
    },
    {
      "cell_type": "code",
      "source": [
        "input_array = np.append(array, ES_prediction2)\n",
        "print(input_array)"
      ],
      "metadata": {
        "colab": {
          "base_uri": "https://localhost:8080/"
        },
        "id": "wZkcO-maCKc7",
        "outputId": "14df8853-d52b-48e8-f637-92d47358eabf"
      },
      "execution_count": 138,
      "outputs": [
        {
          "output_type": "stream",
          "name": "stdout",
          "text": [
            "[433.38787842 437.02529098 434.03       416.08403882 420.93936932]\n"
          ]
        }
      ]
    },
    {
      "cell_type": "code",
      "source": [
        "Actual_value2"
      ],
      "metadata": {
        "colab": {
          "base_uri": "https://localhost:8080/"
        },
        "id": "g46l8-Y1CZZU",
        "outputId": "16060143-4c64-4121-a06d-b7c2e63f93de"
      },
      "execution_count": 139,
      "outputs": [
        {
          "output_type": "execute_result",
          "data": {
            "text/plain": [
              "24    436\n",
              "Name: Order Item Quantity, dtype: int64"
            ]
          },
          "metadata": {},
          "execution_count": 139
        }
      ]
    },
    {
      "cell_type": "markdown",
      "source": [
        "#FINAL OUTPUT"
      ],
      "metadata": {
        "id": "j00f7xo0CmAK"
      }
    },
    {
      "cell_type": "markdown",
      "source": [
        "Implement multilayer perceptron to get the final forecast for Camping & Hiking Category"
      ],
      "metadata": {
        "id": "uhzRHUxHCn_-"
      }
    },
    {
      "cell_type": "code",
      "source": [
        "input = input_array"
      ],
      "metadata": {
        "id": "yV_VTF_xC3jD"
      },
      "execution_count": 140,
      "outputs": []
    },
    {
      "cell_type": "code",
      "source": [
        "import numpy as np\n",
        "\n",
        "class MLP:\n",
        "    def __init__(self, input_size, hidden_size_1, hidden_size_2, output_size):\n",
        "        self.input_size = input_size\n",
        "        self.hidden_size_1 = hidden_size_1\n",
        "        self.hidden_size_2 = hidden_size_2\n",
        "        self.output_size = output_size\n",
        "\n",
        "        # Initialize weights and biases\n",
        "        self.weights_input_hidden_1 = np.random.randn(self.input_size, self.hidden_size_1)\n",
        "        self.biases_input_hidden_1 = np.zeros(self.hidden_size_1)\n",
        "        self.weights_hidden_1_hidden_2 = np.random.randn(self.hidden_size_1, self.hidden_size_2)\n",
        "        self.biases_hidden_1_hidden_2 = np.zeros(self.hidden_size_2)\n",
        "        self.weights_hidden_2_output = np.random.randn(self.hidden_size_2, self.output_size)\n",
        "        self.biases_hidden_2_output = np.zeros(self.output_size)\n",
        "\n",
        "    def forward(self, input):\n",
        "        # Propagate input through the network\n",
        "        self.hidden_1 = np.dot(input, self.weights_input_hidden_1) + self.biases_input_hidden_1\n",
        "        self.hidden_2 = np.dot(self.hidden_1, self.weights_hidden_1_hidden_2) + self.biases_hidden_1_hidden_2\n",
        "        self.output = np.dot(self.hidden_2, self.weights_hidden_2_output) + self.biases_hidden_2_output\n",
        "        return self.output\n",
        "\n",
        "# Create an MLP with 5 inputs,\n",
        "\n",
        "\n",
        "# Create an MLP with 5 inputs, 2 hidden layers, and 1 output\n",
        "mlp = MLP(5, 4, 3, 1)\n",
        "\n",
        "# Propagate some input through the network and print the output\n",
        "input = input_array\n",
        "output = mlp.forward(input)\n",
        "print(output)\n"
      ],
      "metadata": {
        "colab": {
          "base_uri": "https://localhost:8080/"
        },
        "id": "JfZoE5rVCl2x",
        "outputId": "f4a2d135-bd9d-41a4-eaab-6c5383d2a6b5"
      },
      "execution_count": 144,
      "outputs": [
        {
          "output_type": "stream",
          "name": "stdout",
          "text": [
            "[431.0457245]\n"
          ]
        }
      ]
    },
    {
      "cell_type": "markdown",
      "source": [
        "# Calculate Error for final Output"
      ],
      "metadata": {
        "id": "Gimh4QlZDwbi"
      }
    },
    {
      "cell_type": "code",
      "source": [
        "print(\"\\tMean absolute error (MAE):\", mean_absolute_error(Actual_value2, output))"
      ],
      "metadata": {
        "colab": {
          "base_uri": "https://localhost:8080/"
        },
        "id": "CYd7cTVmCl0Z",
        "outputId": "47cd20db-db63-40b2-a474-94673496be86"
      },
      "execution_count": 145,
      "outputs": [
        {
          "output_type": "stream",
          "name": "stdout",
          "text": [
            "\tMean absolute error (MAE): 4.954275495633851\n"
          ]
        }
      ]
    },
    {
      "cell_type": "code",
      "source": [],
      "metadata": {
        "id": "pGoW3RrBClxp"
      },
      "execution_count": null,
      "outputs": []
    },
    {
      "cell_type": "code",
      "source": [],
      "metadata": {
        "id": "HP6QSYEOCluz"
      },
      "execution_count": null,
      "outputs": []
    },
    {
      "cell_type": "code",
      "source": [],
      "metadata": {
        "id": "7-nB8zWLCbsU"
      },
      "execution_count": null,
      "outputs": []
    }
  ],
  "metadata": {
    "kernelspec": {
      "display_name": "Python 3",
      "language": "python",
      "name": "python3"
    },
    "language_info": {
      "codemirror_mode": {
        "name": "ipython",
        "version": 3
      },
      "file_extension": ".py",
      "mimetype": "text/x-python",
      "name": "python",
      "nbconvert_exporter": "python",
      "pygments_lexer": "ipython3",
      "version": "3.8.3"
    },
    "colab": {
      "provenance": []
    }
  },
  "nbformat": 4,
  "nbformat_minor": 0
}