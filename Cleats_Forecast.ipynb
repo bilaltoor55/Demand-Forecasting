{
  "cells": [
    {
      "cell_type": "markdown",
      "metadata": {
        "id": "RRfpfLDQkA_n"
      },
      "source": [
        "### Import Libraries"
      ]
    },
    {
      "cell_type": "code",
      "execution_count": 1,
      "metadata": {
        "id": "pomGri7PkA_t"
      },
      "outputs": [],
      "source": [
        "import numpy as np\n",
        "import pandas as pd\n",
        "import seaborn as sns\n",
        "import matplotlib.pyplot as plt\n",
        "%matplotlib inline\n",
        "\n",
        "\n",
        "import warnings\n",
        "warnings.filterwarnings(\"ignore\")"
      ]
    },
    {
      "cell_type": "markdown",
      "metadata": {
        "id": "eaoLW53bkA_w"
      },
      "source": [
        "### Read CSV file and make a Pandas Dataframe\n"
      ]
    },
    {
      "cell_type": "code",
      "execution_count": 2,
      "metadata": {
        "colab": {
          "base_uri": "https://localhost:8080/",
          "height": 73
        },
        "id": "4t9ZcikskA_x",
        "outputId": "b0541f0d-71e5-49b2-9717-2ac49e6ece80"
      },
      "outputs": [
        {
          "output_type": "display_data",
          "data": {
            "text/plain": [
              "<IPython.core.display.HTML object>"
            ],
            "text/html": [
              "\n",
              "     <input type=\"file\" id=\"files-c97bc30b-1c28-405c-a017-3a0ae0bd26e4\" name=\"files[]\" multiple disabled\n",
              "        style=\"border:none\" />\n",
              "     <output id=\"result-c97bc30b-1c28-405c-a017-3a0ae0bd26e4\">\n",
              "      Upload widget is only available when the cell has been executed in the\n",
              "      current browser session. Please rerun this cell to enable.\n",
              "      </output>\n",
              "      <script>// Copyright 2017 Google LLC\n",
              "//\n",
              "// Licensed under the Apache License, Version 2.0 (the \"License\");\n",
              "// you may not use this file except in compliance with the License.\n",
              "// You may obtain a copy of the License at\n",
              "//\n",
              "//      http://www.apache.org/licenses/LICENSE-2.0\n",
              "//\n",
              "// Unless required by applicable law or agreed to in writing, software\n",
              "// distributed under the License is distributed on an \"AS IS\" BASIS,\n",
              "// WITHOUT WARRANTIES OR CONDITIONS OF ANY KIND, either express or implied.\n",
              "// See the License for the specific language governing permissions and\n",
              "// limitations under the License.\n",
              "\n",
              "/**\n",
              " * @fileoverview Helpers for google.colab Python module.\n",
              " */\n",
              "(function(scope) {\n",
              "function span(text, styleAttributes = {}) {\n",
              "  const element = document.createElement('span');\n",
              "  element.textContent = text;\n",
              "  for (const key of Object.keys(styleAttributes)) {\n",
              "    element.style[key] = styleAttributes[key];\n",
              "  }\n",
              "  return element;\n",
              "}\n",
              "\n",
              "// Max number of bytes which will be uploaded at a time.\n",
              "const MAX_PAYLOAD_SIZE = 100 * 1024;\n",
              "\n",
              "function _uploadFiles(inputId, outputId) {\n",
              "  const steps = uploadFilesStep(inputId, outputId);\n",
              "  const outputElement = document.getElementById(outputId);\n",
              "  // Cache steps on the outputElement to make it available for the next call\n",
              "  // to uploadFilesContinue from Python.\n",
              "  outputElement.steps = steps;\n",
              "\n",
              "  return _uploadFilesContinue(outputId);\n",
              "}\n",
              "\n",
              "// This is roughly an async generator (not supported in the browser yet),\n",
              "// where there are multiple asynchronous steps and the Python side is going\n",
              "// to poll for completion of each step.\n",
              "// This uses a Promise to block the python side on completion of each step,\n",
              "// then passes the result of the previous step as the input to the next step.\n",
              "function _uploadFilesContinue(outputId) {\n",
              "  const outputElement = document.getElementById(outputId);\n",
              "  const steps = outputElement.steps;\n",
              "\n",
              "  const next = steps.next(outputElement.lastPromiseValue);\n",
              "  return Promise.resolve(next.value.promise).then((value) => {\n",
              "    // Cache the last promise value to make it available to the next\n",
              "    // step of the generator.\n",
              "    outputElement.lastPromiseValue = value;\n",
              "    return next.value.response;\n",
              "  });\n",
              "}\n",
              "\n",
              "/**\n",
              " * Generator function which is called between each async step of the upload\n",
              " * process.\n",
              " * @param {string} inputId Element ID of the input file picker element.\n",
              " * @param {string} outputId Element ID of the output display.\n",
              " * @return {!Iterable<!Object>} Iterable of next steps.\n",
              " */\n",
              "function* uploadFilesStep(inputId, outputId) {\n",
              "  const inputElement = document.getElementById(inputId);\n",
              "  inputElement.disabled = false;\n",
              "\n",
              "  const outputElement = document.getElementById(outputId);\n",
              "  outputElement.innerHTML = '';\n",
              "\n",
              "  const pickedPromise = new Promise((resolve) => {\n",
              "    inputElement.addEventListener('change', (e) => {\n",
              "      resolve(e.target.files);\n",
              "    });\n",
              "  });\n",
              "\n",
              "  const cancel = document.createElement('button');\n",
              "  inputElement.parentElement.appendChild(cancel);\n",
              "  cancel.textContent = 'Cancel upload';\n",
              "  const cancelPromise = new Promise((resolve) => {\n",
              "    cancel.onclick = () => {\n",
              "      resolve(null);\n",
              "    };\n",
              "  });\n",
              "\n",
              "  // Wait for the user to pick the files.\n",
              "  const files = yield {\n",
              "    promise: Promise.race([pickedPromise, cancelPromise]),\n",
              "    response: {\n",
              "      action: 'starting',\n",
              "    }\n",
              "  };\n",
              "\n",
              "  cancel.remove();\n",
              "\n",
              "  // Disable the input element since further picks are not allowed.\n",
              "  inputElement.disabled = true;\n",
              "\n",
              "  if (!files) {\n",
              "    return {\n",
              "      response: {\n",
              "        action: 'complete',\n",
              "      }\n",
              "    };\n",
              "  }\n",
              "\n",
              "  for (const file of files) {\n",
              "    const li = document.createElement('li');\n",
              "    li.append(span(file.name, {fontWeight: 'bold'}));\n",
              "    li.append(span(\n",
              "        `(${file.type || 'n/a'}) - ${file.size} bytes, ` +\n",
              "        `last modified: ${\n",
              "            file.lastModifiedDate ? file.lastModifiedDate.toLocaleDateString() :\n",
              "                                    'n/a'} - `));\n",
              "    const percent = span('0% done');\n",
              "    li.appendChild(percent);\n",
              "\n",
              "    outputElement.appendChild(li);\n",
              "\n",
              "    const fileDataPromise = new Promise((resolve) => {\n",
              "      const reader = new FileReader();\n",
              "      reader.onload = (e) => {\n",
              "        resolve(e.target.result);\n",
              "      };\n",
              "      reader.readAsArrayBuffer(file);\n",
              "    });\n",
              "    // Wait for the data to be ready.\n",
              "    let fileData = yield {\n",
              "      promise: fileDataPromise,\n",
              "      response: {\n",
              "        action: 'continue',\n",
              "      }\n",
              "    };\n",
              "\n",
              "    // Use a chunked sending to avoid message size limits. See b/62115660.\n",
              "    let position = 0;\n",
              "    do {\n",
              "      const length = Math.min(fileData.byteLength - position, MAX_PAYLOAD_SIZE);\n",
              "      const chunk = new Uint8Array(fileData, position, length);\n",
              "      position += length;\n",
              "\n",
              "      const base64 = btoa(String.fromCharCode.apply(null, chunk));\n",
              "      yield {\n",
              "        response: {\n",
              "          action: 'append',\n",
              "          file: file.name,\n",
              "          data: base64,\n",
              "        },\n",
              "      };\n",
              "\n",
              "      let percentDone = fileData.byteLength === 0 ?\n",
              "          100 :\n",
              "          Math.round((position / fileData.byteLength) * 100);\n",
              "      percent.textContent = `${percentDone}% done`;\n",
              "\n",
              "    } while (position < fileData.byteLength);\n",
              "  }\n",
              "\n",
              "  // All done.\n",
              "  yield {\n",
              "    response: {\n",
              "      action: 'complete',\n",
              "    }\n",
              "  };\n",
              "}\n",
              "\n",
              "scope.google = scope.google || {};\n",
              "scope.google.colab = scope.google.colab || {};\n",
              "scope.google.colab._files = {\n",
              "  _uploadFiles,\n",
              "  _uploadFilesContinue,\n",
              "};\n",
              "})(self);\n",
              "</script> "
            ]
          },
          "metadata": {}
        },
        {
          "output_type": "stream",
          "name": "stdout",
          "text": [
            "Saving Data.csv to Data.csv\n"
          ]
        }
      ],
      "source": [
        "from google.colab import files\n",
        "uploaded = files.upload()"
      ]
    },
    {
      "cell_type": "code",
      "source": [
        "import io\n",
        "data = pd.read_csv(io.BytesIO(uploaded['Data.csv']))\n",
        "# Dataset is now stored in a Pandas Dataframe"
      ],
      "metadata": {
        "id": "r2sk9imFm0zk"
      },
      "execution_count": 3,
      "outputs": []
    },
    {
      "cell_type": "code",
      "execution_count": 4,
      "metadata": {
        "colab": {
          "base_uri": "https://localhost:8080/"
        },
        "id": "WgvbqugxkA_x",
        "outputId": "c891db4b-f0d9-475d-f3dc-676f741b10f6"
      },
      "outputs": [
        {
          "output_type": "execute_result",
          "data": {
            "text/plain": [
              "(180519, 5)"
            ]
          },
          "metadata": {},
          "execution_count": 4
        }
      ],
      "source": [
        "data.shape"
      ]
    },
    {
      "cell_type": "markdown",
      "metadata": {
        "id": "hWsaYUDFkA_y"
      },
      "source": [
        "### CATEGORY SELECTION"
      ]
    },
    {
      "cell_type": "code",
      "execution_count": 5,
      "metadata": {
        "id": "7gs-h-ipkA_y"
      },
      "outputs": [],
      "source": [
        "filter = data['Category Name'].isin(['Cleats'])\n",
        "#display the filter\n",
        "filter1 = data[filter]"
      ]
    },
    {
      "cell_type": "code",
      "execution_count": 6,
      "metadata": {
        "colab": {
          "base_uri": "https://localhost:8080/",
          "height": 206
        },
        "id": "x3wL76CbkA_z",
        "outputId": "43b301e1-5fae-44ce-ad31-8aa84e213724"
      },
      "outputs": [
        {
          "output_type": "execute_result",
          "data": {
            "text/plain": [
              "   Category Name order date (DateOrders)  Order Item Discount  \\\n",
              "48        Cleats         2/24/2016 13:57                  4.8   \n",
              "57        Cleats         4/13/2016 10:12                  2.4   \n",
              "58        Cleats         5/22/2016 14:10                 24.0   \n",
              "66        Cleats          9/22/2015 7:41                  3.6   \n",
              "67        Cleats           7/2/2017 9:03                 12.6   \n",
              "\n",
              "    Order Item Quantity       Sales  \n",
              "48                    2  119.980003  \n",
              "57                    2  119.980003  \n",
              "58                    2  119.980003  \n",
              "66                    3  179.970001  \n",
              "67                    3  179.970001  "
            ],
            "text/html": [
              "\n",
              "  <div id=\"df-20c7a1f9-885f-4d94-8c1a-59ebcc98bb1f\">\n",
              "    <div class=\"colab-df-container\">\n",
              "      <div>\n",
              "<style scoped>\n",
              "    .dataframe tbody tr th:only-of-type {\n",
              "        vertical-align: middle;\n",
              "    }\n",
              "\n",
              "    .dataframe tbody tr th {\n",
              "        vertical-align: top;\n",
              "    }\n",
              "\n",
              "    .dataframe thead th {\n",
              "        text-align: right;\n",
              "    }\n",
              "</style>\n",
              "<table border=\"1\" class=\"dataframe\">\n",
              "  <thead>\n",
              "    <tr style=\"text-align: right;\">\n",
              "      <th></th>\n",
              "      <th>Category Name</th>\n",
              "      <th>order date (DateOrders)</th>\n",
              "      <th>Order Item Discount</th>\n",
              "      <th>Order Item Quantity</th>\n",
              "      <th>Sales</th>\n",
              "    </tr>\n",
              "  </thead>\n",
              "  <tbody>\n",
              "    <tr>\n",
              "      <th>48</th>\n",
              "      <td>Cleats</td>\n",
              "      <td>2/24/2016 13:57</td>\n",
              "      <td>4.8</td>\n",
              "      <td>2</td>\n",
              "      <td>119.980003</td>\n",
              "    </tr>\n",
              "    <tr>\n",
              "      <th>57</th>\n",
              "      <td>Cleats</td>\n",
              "      <td>4/13/2016 10:12</td>\n",
              "      <td>2.4</td>\n",
              "      <td>2</td>\n",
              "      <td>119.980003</td>\n",
              "    </tr>\n",
              "    <tr>\n",
              "      <th>58</th>\n",
              "      <td>Cleats</td>\n",
              "      <td>5/22/2016 14:10</td>\n",
              "      <td>24.0</td>\n",
              "      <td>2</td>\n",
              "      <td>119.980003</td>\n",
              "    </tr>\n",
              "    <tr>\n",
              "      <th>66</th>\n",
              "      <td>Cleats</td>\n",
              "      <td>9/22/2015 7:41</td>\n",
              "      <td>3.6</td>\n",
              "      <td>3</td>\n",
              "      <td>179.970001</td>\n",
              "    </tr>\n",
              "    <tr>\n",
              "      <th>67</th>\n",
              "      <td>Cleats</td>\n",
              "      <td>7/2/2017 9:03</td>\n",
              "      <td>12.6</td>\n",
              "      <td>3</td>\n",
              "      <td>179.970001</td>\n",
              "    </tr>\n",
              "  </tbody>\n",
              "</table>\n",
              "</div>\n",
              "      <button class=\"colab-df-convert\" onclick=\"convertToInteractive('df-20c7a1f9-885f-4d94-8c1a-59ebcc98bb1f')\"\n",
              "              title=\"Convert this dataframe to an interactive table.\"\n",
              "              style=\"display:none;\">\n",
              "        \n",
              "  <svg xmlns=\"http://www.w3.org/2000/svg\" height=\"24px\"viewBox=\"0 0 24 24\"\n",
              "       width=\"24px\">\n",
              "    <path d=\"M0 0h24v24H0V0z\" fill=\"none\"/>\n",
              "    <path d=\"M18.56 5.44l.94 2.06.94-2.06 2.06-.94-2.06-.94-.94-2.06-.94 2.06-2.06.94zm-11 1L8.5 8.5l.94-2.06 2.06-.94-2.06-.94L8.5 2.5l-.94 2.06-2.06.94zm10 10l.94 2.06.94-2.06 2.06-.94-2.06-.94-.94-2.06-.94 2.06-2.06.94z\"/><path d=\"M17.41 7.96l-1.37-1.37c-.4-.4-.92-.59-1.43-.59-.52 0-1.04.2-1.43.59L10.3 9.45l-7.72 7.72c-.78.78-.78 2.05 0 2.83L4 21.41c.39.39.9.59 1.41.59.51 0 1.02-.2 1.41-.59l7.78-7.78 2.81-2.81c.8-.78.8-2.07 0-2.86zM5.41 20L4 18.59l7.72-7.72 1.47 1.35L5.41 20z\"/>\n",
              "  </svg>\n",
              "      </button>\n",
              "      \n",
              "  <style>\n",
              "    .colab-df-container {\n",
              "      display:flex;\n",
              "      flex-wrap:wrap;\n",
              "      gap: 12px;\n",
              "    }\n",
              "\n",
              "    .colab-df-convert {\n",
              "      background-color: #E8F0FE;\n",
              "      border: none;\n",
              "      border-radius: 50%;\n",
              "      cursor: pointer;\n",
              "      display: none;\n",
              "      fill: #1967D2;\n",
              "      height: 32px;\n",
              "      padding: 0 0 0 0;\n",
              "      width: 32px;\n",
              "    }\n",
              "\n",
              "    .colab-df-convert:hover {\n",
              "      background-color: #E2EBFA;\n",
              "      box-shadow: 0px 1px 2px rgba(60, 64, 67, 0.3), 0px 1px 3px 1px rgba(60, 64, 67, 0.15);\n",
              "      fill: #174EA6;\n",
              "    }\n",
              "\n",
              "    [theme=dark] .colab-df-convert {\n",
              "      background-color: #3B4455;\n",
              "      fill: #D2E3FC;\n",
              "    }\n",
              "\n",
              "    [theme=dark] .colab-df-convert:hover {\n",
              "      background-color: #434B5C;\n",
              "      box-shadow: 0px 1px 3px 1px rgba(0, 0, 0, 0.15);\n",
              "      filter: drop-shadow(0px 1px 2px rgba(0, 0, 0, 0.3));\n",
              "      fill: #FFFFFF;\n",
              "    }\n",
              "  </style>\n",
              "\n",
              "      <script>\n",
              "        const buttonEl =\n",
              "          document.querySelector('#df-20c7a1f9-885f-4d94-8c1a-59ebcc98bb1f button.colab-df-convert');\n",
              "        buttonEl.style.display =\n",
              "          google.colab.kernel.accessAllowed ? 'block' : 'none';\n",
              "\n",
              "        async function convertToInteractive(key) {\n",
              "          const element = document.querySelector('#df-20c7a1f9-885f-4d94-8c1a-59ebcc98bb1f');\n",
              "          const dataTable =\n",
              "            await google.colab.kernel.invokeFunction('convertToInteractive',\n",
              "                                                     [key], {});\n",
              "          if (!dataTable) return;\n",
              "\n",
              "          const docLinkHtml = 'Like what you see? Visit the ' +\n",
              "            '<a target=\"_blank\" href=https://colab.research.google.com/notebooks/data_table.ipynb>data table notebook</a>'\n",
              "            + ' to learn more about interactive tables.';\n",
              "          element.innerHTML = '';\n",
              "          dataTable['output_type'] = 'display_data';\n",
              "          await google.colab.output.renderOutput(dataTable, element);\n",
              "          const docLink = document.createElement('div');\n",
              "          docLink.innerHTML = docLinkHtml;\n",
              "          element.appendChild(docLink);\n",
              "        }\n",
              "      </script>\n",
              "    </div>\n",
              "  </div>\n",
              "  "
            ]
          },
          "metadata": {},
          "execution_count": 6
        }
      ],
      "source": [
        "filter1.head()"
      ]
    },
    {
      "cell_type": "markdown",
      "metadata": {
        "id": "3poM5QvykA_0"
      },
      "source": [
        "### Feature Extraction for working upon on Dataframe"
      ]
    },
    {
      "cell_type": "code",
      "execution_count": 7,
      "metadata": {
        "id": "sSfdDl0vkA_0"
      },
      "outputs": [],
      "source": [
        "filter1 = data.loc[filter, ['order date (DateOrders)','Sales','Order Item Discount','Order Item Quantity']]"
      ]
    },
    {
      "cell_type": "code",
      "execution_count": 8,
      "metadata": {
        "colab": {
          "base_uri": "https://localhost:8080/",
          "height": 206
        },
        "id": "5QC1suB5kA_1",
        "outputId": "234dd400-5008-4c37-90b2-897baeb8ae33"
      },
      "outputs": [
        {
          "output_type": "execute_result",
          "data": {
            "text/plain": [
              "   order date (DateOrders)       Sales  Order Item Discount  \\\n",
              "48         2/24/2016 13:57  119.980003                  4.8   \n",
              "57         4/13/2016 10:12  119.980003                  2.4   \n",
              "58         5/22/2016 14:10  119.980003                 24.0   \n",
              "66          9/22/2015 7:41  179.970001                  3.6   \n",
              "67           7/2/2017 9:03  179.970001                 12.6   \n",
              "\n",
              "    Order Item Quantity  \n",
              "48                    2  \n",
              "57                    2  \n",
              "58                    2  \n",
              "66                    3  \n",
              "67                    3  "
            ],
            "text/html": [
              "\n",
              "  <div id=\"df-25167e53-8c21-4171-9ae8-4c2dac217c21\">\n",
              "    <div class=\"colab-df-container\">\n",
              "      <div>\n",
              "<style scoped>\n",
              "    .dataframe tbody tr th:only-of-type {\n",
              "        vertical-align: middle;\n",
              "    }\n",
              "\n",
              "    .dataframe tbody tr th {\n",
              "        vertical-align: top;\n",
              "    }\n",
              "\n",
              "    .dataframe thead th {\n",
              "        text-align: right;\n",
              "    }\n",
              "</style>\n",
              "<table border=\"1\" class=\"dataframe\">\n",
              "  <thead>\n",
              "    <tr style=\"text-align: right;\">\n",
              "      <th></th>\n",
              "      <th>order date (DateOrders)</th>\n",
              "      <th>Sales</th>\n",
              "      <th>Order Item Discount</th>\n",
              "      <th>Order Item Quantity</th>\n",
              "    </tr>\n",
              "  </thead>\n",
              "  <tbody>\n",
              "    <tr>\n",
              "      <th>48</th>\n",
              "      <td>2/24/2016 13:57</td>\n",
              "      <td>119.980003</td>\n",
              "      <td>4.8</td>\n",
              "      <td>2</td>\n",
              "    </tr>\n",
              "    <tr>\n",
              "      <th>57</th>\n",
              "      <td>4/13/2016 10:12</td>\n",
              "      <td>119.980003</td>\n",
              "      <td>2.4</td>\n",
              "      <td>2</td>\n",
              "    </tr>\n",
              "    <tr>\n",
              "      <th>58</th>\n",
              "      <td>5/22/2016 14:10</td>\n",
              "      <td>119.980003</td>\n",
              "      <td>24.0</td>\n",
              "      <td>2</td>\n",
              "    </tr>\n",
              "    <tr>\n",
              "      <th>66</th>\n",
              "      <td>9/22/2015 7:41</td>\n",
              "      <td>179.970001</td>\n",
              "      <td>3.6</td>\n",
              "      <td>3</td>\n",
              "    </tr>\n",
              "    <tr>\n",
              "      <th>67</th>\n",
              "      <td>7/2/2017 9:03</td>\n",
              "      <td>179.970001</td>\n",
              "      <td>12.6</td>\n",
              "      <td>3</td>\n",
              "    </tr>\n",
              "  </tbody>\n",
              "</table>\n",
              "</div>\n",
              "      <button class=\"colab-df-convert\" onclick=\"convertToInteractive('df-25167e53-8c21-4171-9ae8-4c2dac217c21')\"\n",
              "              title=\"Convert this dataframe to an interactive table.\"\n",
              "              style=\"display:none;\">\n",
              "        \n",
              "  <svg xmlns=\"http://www.w3.org/2000/svg\" height=\"24px\"viewBox=\"0 0 24 24\"\n",
              "       width=\"24px\">\n",
              "    <path d=\"M0 0h24v24H0V0z\" fill=\"none\"/>\n",
              "    <path d=\"M18.56 5.44l.94 2.06.94-2.06 2.06-.94-2.06-.94-.94-2.06-.94 2.06-2.06.94zm-11 1L8.5 8.5l.94-2.06 2.06-.94-2.06-.94L8.5 2.5l-.94 2.06-2.06.94zm10 10l.94 2.06.94-2.06 2.06-.94-2.06-.94-.94-2.06-.94 2.06-2.06.94z\"/><path d=\"M17.41 7.96l-1.37-1.37c-.4-.4-.92-.59-1.43-.59-.52 0-1.04.2-1.43.59L10.3 9.45l-7.72 7.72c-.78.78-.78 2.05 0 2.83L4 21.41c.39.39.9.59 1.41.59.51 0 1.02-.2 1.41-.59l7.78-7.78 2.81-2.81c.8-.78.8-2.07 0-2.86zM5.41 20L4 18.59l7.72-7.72 1.47 1.35L5.41 20z\"/>\n",
              "  </svg>\n",
              "      </button>\n",
              "      \n",
              "  <style>\n",
              "    .colab-df-container {\n",
              "      display:flex;\n",
              "      flex-wrap:wrap;\n",
              "      gap: 12px;\n",
              "    }\n",
              "\n",
              "    .colab-df-convert {\n",
              "      background-color: #E8F0FE;\n",
              "      border: none;\n",
              "      border-radius: 50%;\n",
              "      cursor: pointer;\n",
              "      display: none;\n",
              "      fill: #1967D2;\n",
              "      height: 32px;\n",
              "      padding: 0 0 0 0;\n",
              "      width: 32px;\n",
              "    }\n",
              "\n",
              "    .colab-df-convert:hover {\n",
              "      background-color: #E2EBFA;\n",
              "      box-shadow: 0px 1px 2px rgba(60, 64, 67, 0.3), 0px 1px 3px 1px rgba(60, 64, 67, 0.15);\n",
              "      fill: #174EA6;\n",
              "    }\n",
              "\n",
              "    [theme=dark] .colab-df-convert {\n",
              "      background-color: #3B4455;\n",
              "      fill: #D2E3FC;\n",
              "    }\n",
              "\n",
              "    [theme=dark] .colab-df-convert:hover {\n",
              "      background-color: #434B5C;\n",
              "      box-shadow: 0px 1px 3px 1px rgba(0, 0, 0, 0.15);\n",
              "      filter: drop-shadow(0px 1px 2px rgba(0, 0, 0, 0.3));\n",
              "      fill: #FFFFFF;\n",
              "    }\n",
              "  </style>\n",
              "\n",
              "      <script>\n",
              "        const buttonEl =\n",
              "          document.querySelector('#df-25167e53-8c21-4171-9ae8-4c2dac217c21 button.colab-df-convert');\n",
              "        buttonEl.style.display =\n",
              "          google.colab.kernel.accessAllowed ? 'block' : 'none';\n",
              "\n",
              "        async function convertToInteractive(key) {\n",
              "          const element = document.querySelector('#df-25167e53-8c21-4171-9ae8-4c2dac217c21');\n",
              "          const dataTable =\n",
              "            await google.colab.kernel.invokeFunction('convertToInteractive',\n",
              "                                                     [key], {});\n",
              "          if (!dataTable) return;\n",
              "\n",
              "          const docLinkHtml = 'Like what you see? Visit the ' +\n",
              "            '<a target=\"_blank\" href=https://colab.research.google.com/notebooks/data_table.ipynb>data table notebook</a>'\n",
              "            + ' to learn more about interactive tables.';\n",
              "          element.innerHTML = '';\n",
              "          dataTable['output_type'] = 'display_data';\n",
              "          await google.colab.output.renderOutput(dataTable, element);\n",
              "          const docLink = document.createElement('div');\n",
              "          docLink.innerHTML = docLinkHtml;\n",
              "          element.appendChild(docLink);\n",
              "        }\n",
              "      </script>\n",
              "    </div>\n",
              "  </div>\n",
              "  "
            ]
          },
          "metadata": {},
          "execution_count": 8
        }
      ],
      "source": [
        "filter1.head()\n"
      ]
    },
    {
      "cell_type": "code",
      "execution_count": 9,
      "metadata": {
        "colab": {
          "base_uri": "https://localhost:8080/"
        },
        "id": "-CS4kwnlkA_1",
        "outputId": "27a453c0-2645-4366-f485-4d495a945e3a"
      },
      "outputs": [
        {
          "output_type": "execute_result",
          "data": {
            "text/plain": [
              "(24551, 4)"
            ]
          },
          "metadata": {},
          "execution_count": 9
        }
      ],
      "source": [
        "filter1.shape"
      ]
    },
    {
      "cell_type": "markdown",
      "metadata": {
        "id": "9X42oDInkA_2"
      },
      "source": [
        "### Applying to Pandas DateTime format for easy access"
      ]
    },
    {
      "cell_type": "code",
      "execution_count": 10,
      "metadata": {
        "id": "ZosHOl74kA_2"
      },
      "outputs": [],
      "source": [
        "filter1['order date (DateOrders)'] = pd.to_datetime(filter1['order date (DateOrders)'])\n"
      ]
    },
    {
      "cell_type": "code",
      "execution_count": 11,
      "metadata": {
        "colab": {
          "base_uri": "https://localhost:8080/",
          "height": 206
        },
        "id": "UF9CZsrdkA_2",
        "outputId": "c2c5aae2-60a2-4484-a8da-e1a0fa0e709e"
      },
      "outputs": [
        {
          "output_type": "execute_result",
          "data": {
            "text/plain": [
              "   order date (DateOrders)       Sales  Order Item Discount  \\\n",
              "48     2016-02-24 13:57:00  119.980003                  4.8   \n",
              "57     2016-04-13 10:12:00  119.980003                  2.4   \n",
              "58     2016-05-22 14:10:00  119.980003                 24.0   \n",
              "66     2015-09-22 07:41:00  179.970001                  3.6   \n",
              "67     2017-07-02 09:03:00  179.970001                 12.6   \n",
              "\n",
              "    Order Item Quantity  \n",
              "48                    2  \n",
              "57                    2  \n",
              "58                    2  \n",
              "66                    3  \n",
              "67                    3  "
            ],
            "text/html": [
              "\n",
              "  <div id=\"df-2322e00c-bb31-4acd-9eb5-3af4bd634a47\">\n",
              "    <div class=\"colab-df-container\">\n",
              "      <div>\n",
              "<style scoped>\n",
              "    .dataframe tbody tr th:only-of-type {\n",
              "        vertical-align: middle;\n",
              "    }\n",
              "\n",
              "    .dataframe tbody tr th {\n",
              "        vertical-align: top;\n",
              "    }\n",
              "\n",
              "    .dataframe thead th {\n",
              "        text-align: right;\n",
              "    }\n",
              "</style>\n",
              "<table border=\"1\" class=\"dataframe\">\n",
              "  <thead>\n",
              "    <tr style=\"text-align: right;\">\n",
              "      <th></th>\n",
              "      <th>order date (DateOrders)</th>\n",
              "      <th>Sales</th>\n",
              "      <th>Order Item Discount</th>\n",
              "      <th>Order Item Quantity</th>\n",
              "    </tr>\n",
              "  </thead>\n",
              "  <tbody>\n",
              "    <tr>\n",
              "      <th>48</th>\n",
              "      <td>2016-02-24 13:57:00</td>\n",
              "      <td>119.980003</td>\n",
              "      <td>4.8</td>\n",
              "      <td>2</td>\n",
              "    </tr>\n",
              "    <tr>\n",
              "      <th>57</th>\n",
              "      <td>2016-04-13 10:12:00</td>\n",
              "      <td>119.980003</td>\n",
              "      <td>2.4</td>\n",
              "      <td>2</td>\n",
              "    </tr>\n",
              "    <tr>\n",
              "      <th>58</th>\n",
              "      <td>2016-05-22 14:10:00</td>\n",
              "      <td>119.980003</td>\n",
              "      <td>24.0</td>\n",
              "      <td>2</td>\n",
              "    </tr>\n",
              "    <tr>\n",
              "      <th>66</th>\n",
              "      <td>2015-09-22 07:41:00</td>\n",
              "      <td>179.970001</td>\n",
              "      <td>3.6</td>\n",
              "      <td>3</td>\n",
              "    </tr>\n",
              "    <tr>\n",
              "      <th>67</th>\n",
              "      <td>2017-07-02 09:03:00</td>\n",
              "      <td>179.970001</td>\n",
              "      <td>12.6</td>\n",
              "      <td>3</td>\n",
              "    </tr>\n",
              "  </tbody>\n",
              "</table>\n",
              "</div>\n",
              "      <button class=\"colab-df-convert\" onclick=\"convertToInteractive('df-2322e00c-bb31-4acd-9eb5-3af4bd634a47')\"\n",
              "              title=\"Convert this dataframe to an interactive table.\"\n",
              "              style=\"display:none;\">\n",
              "        \n",
              "  <svg xmlns=\"http://www.w3.org/2000/svg\" height=\"24px\"viewBox=\"0 0 24 24\"\n",
              "       width=\"24px\">\n",
              "    <path d=\"M0 0h24v24H0V0z\" fill=\"none\"/>\n",
              "    <path d=\"M18.56 5.44l.94 2.06.94-2.06 2.06-.94-2.06-.94-.94-2.06-.94 2.06-2.06.94zm-11 1L8.5 8.5l.94-2.06 2.06-.94-2.06-.94L8.5 2.5l-.94 2.06-2.06.94zm10 10l.94 2.06.94-2.06 2.06-.94-2.06-.94-.94-2.06-.94 2.06-2.06.94z\"/><path d=\"M17.41 7.96l-1.37-1.37c-.4-.4-.92-.59-1.43-.59-.52 0-1.04.2-1.43.59L10.3 9.45l-7.72 7.72c-.78.78-.78 2.05 0 2.83L4 21.41c.39.39.9.59 1.41.59.51 0 1.02-.2 1.41-.59l7.78-7.78 2.81-2.81c.8-.78.8-2.07 0-2.86zM5.41 20L4 18.59l7.72-7.72 1.47 1.35L5.41 20z\"/>\n",
              "  </svg>\n",
              "      </button>\n",
              "      \n",
              "  <style>\n",
              "    .colab-df-container {\n",
              "      display:flex;\n",
              "      flex-wrap:wrap;\n",
              "      gap: 12px;\n",
              "    }\n",
              "\n",
              "    .colab-df-convert {\n",
              "      background-color: #E8F0FE;\n",
              "      border: none;\n",
              "      border-radius: 50%;\n",
              "      cursor: pointer;\n",
              "      display: none;\n",
              "      fill: #1967D2;\n",
              "      height: 32px;\n",
              "      padding: 0 0 0 0;\n",
              "      width: 32px;\n",
              "    }\n",
              "\n",
              "    .colab-df-convert:hover {\n",
              "      background-color: #E2EBFA;\n",
              "      box-shadow: 0px 1px 2px rgba(60, 64, 67, 0.3), 0px 1px 3px 1px rgba(60, 64, 67, 0.15);\n",
              "      fill: #174EA6;\n",
              "    }\n",
              "\n",
              "    [theme=dark] .colab-df-convert {\n",
              "      background-color: #3B4455;\n",
              "      fill: #D2E3FC;\n",
              "    }\n",
              "\n",
              "    [theme=dark] .colab-df-convert:hover {\n",
              "      background-color: #434B5C;\n",
              "      box-shadow: 0px 1px 3px 1px rgba(0, 0, 0, 0.15);\n",
              "      filter: drop-shadow(0px 1px 2px rgba(0, 0, 0, 0.3));\n",
              "      fill: #FFFFFF;\n",
              "    }\n",
              "  </style>\n",
              "\n",
              "      <script>\n",
              "        const buttonEl =\n",
              "          document.querySelector('#df-2322e00c-bb31-4acd-9eb5-3af4bd634a47 button.colab-df-convert');\n",
              "        buttonEl.style.display =\n",
              "          google.colab.kernel.accessAllowed ? 'block' : 'none';\n",
              "\n",
              "        async function convertToInteractive(key) {\n",
              "          const element = document.querySelector('#df-2322e00c-bb31-4acd-9eb5-3af4bd634a47');\n",
              "          const dataTable =\n",
              "            await google.colab.kernel.invokeFunction('convertToInteractive',\n",
              "                                                     [key], {});\n",
              "          if (!dataTable) return;\n",
              "\n",
              "          const docLinkHtml = 'Like what you see? Visit the ' +\n",
              "            '<a target=\"_blank\" href=https://colab.research.google.com/notebooks/data_table.ipynb>data table notebook</a>'\n",
              "            + ' to learn more about interactive tables.';\n",
              "          element.innerHTML = '';\n",
              "          dataTable['output_type'] = 'display_data';\n",
              "          await google.colab.output.renderOutput(dataTable, element);\n",
              "          const docLink = document.createElement('div');\n",
              "          docLink.innerHTML = docLinkHtml;\n",
              "          element.appendChild(docLink);\n",
              "        }\n",
              "      </script>\n",
              "    </div>\n",
              "  </div>\n",
              "  "
            ]
          },
          "metadata": {},
          "execution_count": 11
        }
      ],
      "source": [
        "filter1.head()"
      ]
    },
    {
      "cell_type": "markdown",
      "metadata": {
        "id": "bWu4fB7ukA_3"
      },
      "source": [
        "### Sorting the records by date and their time"
      ]
    },
    {
      "cell_type": "code",
      "execution_count": 12,
      "metadata": {
        "colab": {
          "base_uri": "https://localhost:8080/",
          "height": 363
        },
        "id": "ThnJTkP_kA_3",
        "outputId": "95234723-7b7e-498e-d3a2-25ee6c085290"
      },
      "outputs": [
        {
          "output_type": "execute_result",
          "data": {
            "text/plain": [
              "       order date (DateOrders)       Sales  Order Item Discount  \\\n",
              "96131      2015-01-01 01:03:00  299.950012             3.000000   \n",
              "58046      2015-01-01 01:24:00  299.950012             0.000000   \n",
              "140014     2015-01-01 02:27:00  299.950012            74.989998   \n",
              "139424     2015-01-01 02:27:00  179.970001            30.590000   \n",
              "90810      2015-01-01 03:30:00   59.990002            12.000000   \n",
              "128849     2015-01-01 04:54:00  179.970001            28.799999   \n",
              "154363     2015-01-01 05:15:00  119.980003             8.400000   \n",
              "155729     2015-01-01 05:15:00  299.950012            59.990002   \n",
              "14665      2015-01-01 05:36:00  239.960007            35.990002   \n",
              "23828      2015-01-01 05:57:00  119.980003             6.600000   \n",
              "\n",
              "        Order Item Quantity  \n",
              "96131                     5  \n",
              "58046                     5  \n",
              "140014                    5  \n",
              "139424                    3  \n",
              "90810                     1  \n",
              "128849                    3  \n",
              "154363                    2  \n",
              "155729                    5  \n",
              "14665                     4  \n",
              "23828                     2  "
            ],
            "text/html": [
              "\n",
              "  <div id=\"df-7b32720b-243c-48cc-a652-a99d1a7a2312\">\n",
              "    <div class=\"colab-df-container\">\n",
              "      <div>\n",
              "<style scoped>\n",
              "    .dataframe tbody tr th:only-of-type {\n",
              "        vertical-align: middle;\n",
              "    }\n",
              "\n",
              "    .dataframe tbody tr th {\n",
              "        vertical-align: top;\n",
              "    }\n",
              "\n",
              "    .dataframe thead th {\n",
              "        text-align: right;\n",
              "    }\n",
              "</style>\n",
              "<table border=\"1\" class=\"dataframe\">\n",
              "  <thead>\n",
              "    <tr style=\"text-align: right;\">\n",
              "      <th></th>\n",
              "      <th>order date (DateOrders)</th>\n",
              "      <th>Sales</th>\n",
              "      <th>Order Item Discount</th>\n",
              "      <th>Order Item Quantity</th>\n",
              "    </tr>\n",
              "  </thead>\n",
              "  <tbody>\n",
              "    <tr>\n",
              "      <th>96131</th>\n",
              "      <td>2015-01-01 01:03:00</td>\n",
              "      <td>299.950012</td>\n",
              "      <td>3.000000</td>\n",
              "      <td>5</td>\n",
              "    </tr>\n",
              "    <tr>\n",
              "      <th>58046</th>\n",
              "      <td>2015-01-01 01:24:00</td>\n",
              "      <td>299.950012</td>\n",
              "      <td>0.000000</td>\n",
              "      <td>5</td>\n",
              "    </tr>\n",
              "    <tr>\n",
              "      <th>140014</th>\n",
              "      <td>2015-01-01 02:27:00</td>\n",
              "      <td>299.950012</td>\n",
              "      <td>74.989998</td>\n",
              "      <td>5</td>\n",
              "    </tr>\n",
              "    <tr>\n",
              "      <th>139424</th>\n",
              "      <td>2015-01-01 02:27:00</td>\n",
              "      <td>179.970001</td>\n",
              "      <td>30.590000</td>\n",
              "      <td>3</td>\n",
              "    </tr>\n",
              "    <tr>\n",
              "      <th>90810</th>\n",
              "      <td>2015-01-01 03:30:00</td>\n",
              "      <td>59.990002</td>\n",
              "      <td>12.000000</td>\n",
              "      <td>1</td>\n",
              "    </tr>\n",
              "    <tr>\n",
              "      <th>128849</th>\n",
              "      <td>2015-01-01 04:54:00</td>\n",
              "      <td>179.970001</td>\n",
              "      <td>28.799999</td>\n",
              "      <td>3</td>\n",
              "    </tr>\n",
              "    <tr>\n",
              "      <th>154363</th>\n",
              "      <td>2015-01-01 05:15:00</td>\n",
              "      <td>119.980003</td>\n",
              "      <td>8.400000</td>\n",
              "      <td>2</td>\n",
              "    </tr>\n",
              "    <tr>\n",
              "      <th>155729</th>\n",
              "      <td>2015-01-01 05:15:00</td>\n",
              "      <td>299.950012</td>\n",
              "      <td>59.990002</td>\n",
              "      <td>5</td>\n",
              "    </tr>\n",
              "    <tr>\n",
              "      <th>14665</th>\n",
              "      <td>2015-01-01 05:36:00</td>\n",
              "      <td>239.960007</td>\n",
              "      <td>35.990002</td>\n",
              "      <td>4</td>\n",
              "    </tr>\n",
              "    <tr>\n",
              "      <th>23828</th>\n",
              "      <td>2015-01-01 05:57:00</td>\n",
              "      <td>119.980003</td>\n",
              "      <td>6.600000</td>\n",
              "      <td>2</td>\n",
              "    </tr>\n",
              "  </tbody>\n",
              "</table>\n",
              "</div>\n",
              "      <button class=\"colab-df-convert\" onclick=\"convertToInteractive('df-7b32720b-243c-48cc-a652-a99d1a7a2312')\"\n",
              "              title=\"Convert this dataframe to an interactive table.\"\n",
              "              style=\"display:none;\">\n",
              "        \n",
              "  <svg xmlns=\"http://www.w3.org/2000/svg\" height=\"24px\"viewBox=\"0 0 24 24\"\n",
              "       width=\"24px\">\n",
              "    <path d=\"M0 0h24v24H0V0z\" fill=\"none\"/>\n",
              "    <path d=\"M18.56 5.44l.94 2.06.94-2.06 2.06-.94-2.06-.94-.94-2.06-.94 2.06-2.06.94zm-11 1L8.5 8.5l.94-2.06 2.06-.94-2.06-.94L8.5 2.5l-.94 2.06-2.06.94zm10 10l.94 2.06.94-2.06 2.06-.94-2.06-.94-.94-2.06-.94 2.06-2.06.94z\"/><path d=\"M17.41 7.96l-1.37-1.37c-.4-.4-.92-.59-1.43-.59-.52 0-1.04.2-1.43.59L10.3 9.45l-7.72 7.72c-.78.78-.78 2.05 0 2.83L4 21.41c.39.39.9.59 1.41.59.51 0 1.02-.2 1.41-.59l7.78-7.78 2.81-2.81c.8-.78.8-2.07 0-2.86zM5.41 20L4 18.59l7.72-7.72 1.47 1.35L5.41 20z\"/>\n",
              "  </svg>\n",
              "      </button>\n",
              "      \n",
              "  <style>\n",
              "    .colab-df-container {\n",
              "      display:flex;\n",
              "      flex-wrap:wrap;\n",
              "      gap: 12px;\n",
              "    }\n",
              "\n",
              "    .colab-df-convert {\n",
              "      background-color: #E8F0FE;\n",
              "      border: none;\n",
              "      border-radius: 50%;\n",
              "      cursor: pointer;\n",
              "      display: none;\n",
              "      fill: #1967D2;\n",
              "      height: 32px;\n",
              "      padding: 0 0 0 0;\n",
              "      width: 32px;\n",
              "    }\n",
              "\n",
              "    .colab-df-convert:hover {\n",
              "      background-color: #E2EBFA;\n",
              "      box-shadow: 0px 1px 2px rgba(60, 64, 67, 0.3), 0px 1px 3px 1px rgba(60, 64, 67, 0.15);\n",
              "      fill: #174EA6;\n",
              "    }\n",
              "\n",
              "    [theme=dark] .colab-df-convert {\n",
              "      background-color: #3B4455;\n",
              "      fill: #D2E3FC;\n",
              "    }\n",
              "\n",
              "    [theme=dark] .colab-df-convert:hover {\n",
              "      background-color: #434B5C;\n",
              "      box-shadow: 0px 1px 3px 1px rgba(0, 0, 0, 0.15);\n",
              "      filter: drop-shadow(0px 1px 2px rgba(0, 0, 0, 0.3));\n",
              "      fill: #FFFFFF;\n",
              "    }\n",
              "  </style>\n",
              "\n",
              "      <script>\n",
              "        const buttonEl =\n",
              "          document.querySelector('#df-7b32720b-243c-48cc-a652-a99d1a7a2312 button.colab-df-convert');\n",
              "        buttonEl.style.display =\n",
              "          google.colab.kernel.accessAllowed ? 'block' : 'none';\n",
              "\n",
              "        async function convertToInteractive(key) {\n",
              "          const element = document.querySelector('#df-7b32720b-243c-48cc-a652-a99d1a7a2312');\n",
              "          const dataTable =\n",
              "            await google.colab.kernel.invokeFunction('convertToInteractive',\n",
              "                                                     [key], {});\n",
              "          if (!dataTable) return;\n",
              "\n",
              "          const docLinkHtml = 'Like what you see? Visit the ' +\n",
              "            '<a target=\"_blank\" href=https://colab.research.google.com/notebooks/data_table.ipynb>data table notebook</a>'\n",
              "            + ' to learn more about interactive tables.';\n",
              "          element.innerHTML = '';\n",
              "          dataTable['output_type'] = 'display_data';\n",
              "          await google.colab.output.renderOutput(dataTable, element);\n",
              "          const docLink = document.createElement('div');\n",
              "          docLink.innerHTML = docLinkHtml;\n",
              "          element.appendChild(docLink);\n",
              "        }\n",
              "      </script>\n",
              "    </div>\n",
              "  </div>\n",
              "  "
            ]
          },
          "metadata": {},
          "execution_count": 12
        }
      ],
      "source": [
        "filter1 = filter1.sort_values(by='order date (DateOrders)')\n",
        "filter1.head(10)"
      ]
    },
    {
      "cell_type": "markdown",
      "metadata": {
        "id": "upoCTAGQkA_3"
      },
      "source": [
        "### Making column of Order date to Index"
      ]
    },
    {
      "cell_type": "code",
      "execution_count": 13,
      "metadata": {
        "id": "p9PD3-SkkA_3"
      },
      "outputs": [],
      "source": [
        "filter1.set_axis(filter1['order date (DateOrders)'], inplace=True)\n",
        "filter1.drop(columns=['order date (DateOrders)'],inplace=True)"
      ]
    },
    {
      "cell_type": "code",
      "execution_count": 14,
      "metadata": {
        "colab": {
          "base_uri": "https://localhost:8080/",
          "height": 237
        },
        "id": "QxRul1cdkA_4",
        "outputId": "01e1a3e8-2fbf-4ba4-b558-f74159850109"
      },
      "outputs": [
        {
          "output_type": "execute_result",
          "data": {
            "text/plain": [
              "                              Sales  Order Item Discount  Order Item Quantity\n",
              "order date (DateOrders)                                                      \n",
              "2015-01-01 01:03:00      299.950012             3.000000                    5\n",
              "2015-01-01 01:24:00      299.950012             0.000000                    5\n",
              "2015-01-01 02:27:00      299.950012            74.989998                    5\n",
              "2015-01-01 02:27:00      179.970001            30.590000                    3\n",
              "2015-01-01 03:30:00       59.990002            12.000000                    1"
            ],
            "text/html": [
              "\n",
              "  <div id=\"df-754e8a25-950c-4bf1-9b5f-1e097b71958c\">\n",
              "    <div class=\"colab-df-container\">\n",
              "      <div>\n",
              "<style scoped>\n",
              "    .dataframe tbody tr th:only-of-type {\n",
              "        vertical-align: middle;\n",
              "    }\n",
              "\n",
              "    .dataframe tbody tr th {\n",
              "        vertical-align: top;\n",
              "    }\n",
              "\n",
              "    .dataframe thead th {\n",
              "        text-align: right;\n",
              "    }\n",
              "</style>\n",
              "<table border=\"1\" class=\"dataframe\">\n",
              "  <thead>\n",
              "    <tr style=\"text-align: right;\">\n",
              "      <th></th>\n",
              "      <th>Sales</th>\n",
              "      <th>Order Item Discount</th>\n",
              "      <th>Order Item Quantity</th>\n",
              "    </tr>\n",
              "    <tr>\n",
              "      <th>order date (DateOrders)</th>\n",
              "      <th></th>\n",
              "      <th></th>\n",
              "      <th></th>\n",
              "    </tr>\n",
              "  </thead>\n",
              "  <tbody>\n",
              "    <tr>\n",
              "      <th>2015-01-01 01:03:00</th>\n",
              "      <td>299.950012</td>\n",
              "      <td>3.000000</td>\n",
              "      <td>5</td>\n",
              "    </tr>\n",
              "    <tr>\n",
              "      <th>2015-01-01 01:24:00</th>\n",
              "      <td>299.950012</td>\n",
              "      <td>0.000000</td>\n",
              "      <td>5</td>\n",
              "    </tr>\n",
              "    <tr>\n",
              "      <th>2015-01-01 02:27:00</th>\n",
              "      <td>299.950012</td>\n",
              "      <td>74.989998</td>\n",
              "      <td>5</td>\n",
              "    </tr>\n",
              "    <tr>\n",
              "      <th>2015-01-01 02:27:00</th>\n",
              "      <td>179.970001</td>\n",
              "      <td>30.590000</td>\n",
              "      <td>3</td>\n",
              "    </tr>\n",
              "    <tr>\n",
              "      <th>2015-01-01 03:30:00</th>\n",
              "      <td>59.990002</td>\n",
              "      <td>12.000000</td>\n",
              "      <td>1</td>\n",
              "    </tr>\n",
              "  </tbody>\n",
              "</table>\n",
              "</div>\n",
              "      <button class=\"colab-df-convert\" onclick=\"convertToInteractive('df-754e8a25-950c-4bf1-9b5f-1e097b71958c')\"\n",
              "              title=\"Convert this dataframe to an interactive table.\"\n",
              "              style=\"display:none;\">\n",
              "        \n",
              "  <svg xmlns=\"http://www.w3.org/2000/svg\" height=\"24px\"viewBox=\"0 0 24 24\"\n",
              "       width=\"24px\">\n",
              "    <path d=\"M0 0h24v24H0V0z\" fill=\"none\"/>\n",
              "    <path d=\"M18.56 5.44l.94 2.06.94-2.06 2.06-.94-2.06-.94-.94-2.06-.94 2.06-2.06.94zm-11 1L8.5 8.5l.94-2.06 2.06-.94-2.06-.94L8.5 2.5l-.94 2.06-2.06.94zm10 10l.94 2.06.94-2.06 2.06-.94-2.06-.94-.94-2.06-.94 2.06-2.06.94z\"/><path d=\"M17.41 7.96l-1.37-1.37c-.4-.4-.92-.59-1.43-.59-.52 0-1.04.2-1.43.59L10.3 9.45l-7.72 7.72c-.78.78-.78 2.05 0 2.83L4 21.41c.39.39.9.59 1.41.59.51 0 1.02-.2 1.41-.59l7.78-7.78 2.81-2.81c.8-.78.8-2.07 0-2.86zM5.41 20L4 18.59l7.72-7.72 1.47 1.35L5.41 20z\"/>\n",
              "  </svg>\n",
              "      </button>\n",
              "      \n",
              "  <style>\n",
              "    .colab-df-container {\n",
              "      display:flex;\n",
              "      flex-wrap:wrap;\n",
              "      gap: 12px;\n",
              "    }\n",
              "\n",
              "    .colab-df-convert {\n",
              "      background-color: #E8F0FE;\n",
              "      border: none;\n",
              "      border-radius: 50%;\n",
              "      cursor: pointer;\n",
              "      display: none;\n",
              "      fill: #1967D2;\n",
              "      height: 32px;\n",
              "      padding: 0 0 0 0;\n",
              "      width: 32px;\n",
              "    }\n",
              "\n",
              "    .colab-df-convert:hover {\n",
              "      background-color: #E2EBFA;\n",
              "      box-shadow: 0px 1px 2px rgba(60, 64, 67, 0.3), 0px 1px 3px 1px rgba(60, 64, 67, 0.15);\n",
              "      fill: #174EA6;\n",
              "    }\n",
              "\n",
              "    [theme=dark] .colab-df-convert {\n",
              "      background-color: #3B4455;\n",
              "      fill: #D2E3FC;\n",
              "    }\n",
              "\n",
              "    [theme=dark] .colab-df-convert:hover {\n",
              "      background-color: #434B5C;\n",
              "      box-shadow: 0px 1px 3px 1px rgba(0, 0, 0, 0.15);\n",
              "      filter: drop-shadow(0px 1px 2px rgba(0, 0, 0, 0.3));\n",
              "      fill: #FFFFFF;\n",
              "    }\n",
              "  </style>\n",
              "\n",
              "      <script>\n",
              "        const buttonEl =\n",
              "          document.querySelector('#df-754e8a25-950c-4bf1-9b5f-1e097b71958c button.colab-df-convert');\n",
              "        buttonEl.style.display =\n",
              "          google.colab.kernel.accessAllowed ? 'block' : 'none';\n",
              "\n",
              "        async function convertToInteractive(key) {\n",
              "          const element = document.querySelector('#df-754e8a25-950c-4bf1-9b5f-1e097b71958c');\n",
              "          const dataTable =\n",
              "            await google.colab.kernel.invokeFunction('convertToInteractive',\n",
              "                                                     [key], {});\n",
              "          if (!dataTable) return;\n",
              "\n",
              "          const docLinkHtml = 'Like what you see? Visit the ' +\n",
              "            '<a target=\"_blank\" href=https://colab.research.google.com/notebooks/data_table.ipynb>data table notebook</a>'\n",
              "            + ' to learn more about interactive tables.';\n",
              "          element.innerHTML = '';\n",
              "          dataTable['output_type'] = 'display_data';\n",
              "          await google.colab.output.renderOutput(dataTable, element);\n",
              "          const docLink = document.createElement('div');\n",
              "          docLink.innerHTML = docLinkHtml;\n",
              "          element.appendChild(docLink);\n",
              "        }\n",
              "      </script>\n",
              "    </div>\n",
              "  </div>\n",
              "  "
            ]
          },
          "metadata": {},
          "execution_count": 14
        }
      ],
      "source": [
        "filter1.head()"
      ]
    },
    {
      "cell_type": "code",
      "execution_count": 15,
      "metadata": {
        "colab": {
          "base_uri": "https://localhost:8080/"
        },
        "id": "OwcbNZ04kA_4",
        "outputId": "6d4fd840-20b6-4dd1-f0f1-0de41bd9a875"
      },
      "outputs": [
        {
          "output_type": "execute_result",
          "data": {
            "text/plain": [
              "(24551, 3)"
            ]
          },
          "metadata": {},
          "execution_count": 15
        }
      ],
      "source": [
        "filter1.shape"
      ]
    },
    {
      "cell_type": "markdown",
      "metadata": {
        "id": "yTDIJJyNkA_5"
      },
      "source": [
        "### Day-wise Aggregates"
      ]
    },
    {
      "cell_type": "code",
      "execution_count": 16,
      "metadata": {
        "id": "Aqw-L13jkA_5"
      },
      "outputs": [],
      "source": [
        "Item_quantity = filter1.groupby([(filter1.index.year), (filter1.index.month), (filter1.index.day)])['Order Item Quantity'].sum().astype(int)\n",
        "Item_discount = filter1.groupby([(filter1.index.year), (filter1.index.month), (filter1.index.day)])['Order Item Discount'].sum().astype(int)\n",
        "Item_sales = filter1.groupby([(filter1.index.year), (filter1.index.month), (filter1.index.day)])['Sales'].sum().astype(int)"
      ]
    },
    {
      "cell_type": "markdown",
      "metadata": {
        "id": "b-g3VAWLkA_5"
      },
      "source": [
        "### Display in single Dataframe"
      ]
    },
    {
      "cell_type": "code",
      "execution_count": 17,
      "metadata": {
        "id": "9JBu4o6OkA_5"
      },
      "outputs": [],
      "source": [
        "ItemSales=pd.DataFrame(Item_sales)\n",
        "ItemDiscount=pd.DataFrame(Item_discount)\n",
        "ItemQuantity=pd.DataFrame(Item_quantity)"
      ]
    },
    {
      "cell_type": "code",
      "execution_count": 18,
      "metadata": {
        "id": "8WTRQPazkA_5"
      },
      "outputs": [],
      "source": [
        "total=ItemSales.join(ItemDiscount)\n"
      ]
    },
    {
      "cell_type": "code",
      "execution_count": 19,
      "metadata": {
        "id": "5m0WUgxbkA_6"
      },
      "outputs": [],
      "source": [
        "\n",
        "daily_Sales=total.join(ItemQuantity)"
      ]
    },
    {
      "cell_type": "code",
      "execution_count": 20,
      "metadata": {
        "colab": {
          "base_uri": "https://localhost:8080/",
          "height": 237
        },
        "id": "uCK6ebIjkA_6",
        "outputId": "a9c19307-4b94-4152-8e1a-d87907208bf0"
      },
      "outputs": [
        {
          "output_type": "execute_result",
          "data": {
            "text/plain": [
              "                                                                         Sales  \\\n",
              "order date (DateOrders) order date (DateOrders) order date (DateOrders)          \n",
              "2015                    1                       1                         4079   \n",
              "                                                2                         4619   \n",
              "                                                3                         4379   \n",
              "                                                4                         5279   \n",
              "                                                5                         5399   \n",
              "\n",
              "                                                                         Order Item Discount  \\\n",
              "order date (DateOrders) order date (DateOrders) order date (DateOrders)                        \n",
              "2015                    1                       1                                        496   \n",
              "                                                2                                        559   \n",
              "                                                3                                        212   \n",
              "                                                4                                        519   \n",
              "                                                5                                        661   \n",
              "\n",
              "                                                                         Order Item Quantity  \n",
              "order date (DateOrders) order date (DateOrders) order date (DateOrders)                       \n",
              "2015                    1                       1                                         68  \n",
              "                                                2                                         77  \n",
              "                                                3                                         73  \n",
              "                                                4                                         88  \n",
              "                                                5                                         90  "
            ],
            "text/html": [
              "\n",
              "  <div id=\"df-5f97f744-a791-4689-b24f-f05eff422307\">\n",
              "    <div class=\"colab-df-container\">\n",
              "      <div>\n",
              "<style scoped>\n",
              "    .dataframe tbody tr th:only-of-type {\n",
              "        vertical-align: middle;\n",
              "    }\n",
              "\n",
              "    .dataframe tbody tr th {\n",
              "        vertical-align: top;\n",
              "    }\n",
              "\n",
              "    .dataframe thead th {\n",
              "        text-align: right;\n",
              "    }\n",
              "</style>\n",
              "<table border=\"1\" class=\"dataframe\">\n",
              "  <thead>\n",
              "    <tr style=\"text-align: right;\">\n",
              "      <th></th>\n",
              "      <th></th>\n",
              "      <th></th>\n",
              "      <th>Sales</th>\n",
              "      <th>Order Item Discount</th>\n",
              "      <th>Order Item Quantity</th>\n",
              "    </tr>\n",
              "    <tr>\n",
              "      <th>order date (DateOrders)</th>\n",
              "      <th>order date (DateOrders)</th>\n",
              "      <th>order date (DateOrders)</th>\n",
              "      <th></th>\n",
              "      <th></th>\n",
              "      <th></th>\n",
              "    </tr>\n",
              "  </thead>\n",
              "  <tbody>\n",
              "    <tr>\n",
              "      <th rowspan=\"5\" valign=\"top\">2015</th>\n",
              "      <th rowspan=\"5\" valign=\"top\">1</th>\n",
              "      <th>1</th>\n",
              "      <td>4079</td>\n",
              "      <td>496</td>\n",
              "      <td>68</td>\n",
              "    </tr>\n",
              "    <tr>\n",
              "      <th>2</th>\n",
              "      <td>4619</td>\n",
              "      <td>559</td>\n",
              "      <td>77</td>\n",
              "    </tr>\n",
              "    <tr>\n",
              "      <th>3</th>\n",
              "      <td>4379</td>\n",
              "      <td>212</td>\n",
              "      <td>73</td>\n",
              "    </tr>\n",
              "    <tr>\n",
              "      <th>4</th>\n",
              "      <td>5279</td>\n",
              "      <td>519</td>\n",
              "      <td>88</td>\n",
              "    </tr>\n",
              "    <tr>\n",
              "      <th>5</th>\n",
              "      <td>5399</td>\n",
              "      <td>661</td>\n",
              "      <td>90</td>\n",
              "    </tr>\n",
              "  </tbody>\n",
              "</table>\n",
              "</div>\n",
              "      <button class=\"colab-df-convert\" onclick=\"convertToInteractive('df-5f97f744-a791-4689-b24f-f05eff422307')\"\n",
              "              title=\"Convert this dataframe to an interactive table.\"\n",
              "              style=\"display:none;\">\n",
              "        \n",
              "  <svg xmlns=\"http://www.w3.org/2000/svg\" height=\"24px\"viewBox=\"0 0 24 24\"\n",
              "       width=\"24px\">\n",
              "    <path d=\"M0 0h24v24H0V0z\" fill=\"none\"/>\n",
              "    <path d=\"M18.56 5.44l.94 2.06.94-2.06 2.06-.94-2.06-.94-.94-2.06-.94 2.06-2.06.94zm-11 1L8.5 8.5l.94-2.06 2.06-.94-2.06-.94L8.5 2.5l-.94 2.06-2.06.94zm10 10l.94 2.06.94-2.06 2.06-.94-2.06-.94-.94-2.06-.94 2.06-2.06.94z\"/><path d=\"M17.41 7.96l-1.37-1.37c-.4-.4-.92-.59-1.43-.59-.52 0-1.04.2-1.43.59L10.3 9.45l-7.72 7.72c-.78.78-.78 2.05 0 2.83L4 21.41c.39.39.9.59 1.41.59.51 0 1.02-.2 1.41-.59l7.78-7.78 2.81-2.81c.8-.78.8-2.07 0-2.86zM5.41 20L4 18.59l7.72-7.72 1.47 1.35L5.41 20z\"/>\n",
              "  </svg>\n",
              "      </button>\n",
              "      \n",
              "  <style>\n",
              "    .colab-df-container {\n",
              "      display:flex;\n",
              "      flex-wrap:wrap;\n",
              "      gap: 12px;\n",
              "    }\n",
              "\n",
              "    .colab-df-convert {\n",
              "      background-color: #E8F0FE;\n",
              "      border: none;\n",
              "      border-radius: 50%;\n",
              "      cursor: pointer;\n",
              "      display: none;\n",
              "      fill: #1967D2;\n",
              "      height: 32px;\n",
              "      padding: 0 0 0 0;\n",
              "      width: 32px;\n",
              "    }\n",
              "\n",
              "    .colab-df-convert:hover {\n",
              "      background-color: #E2EBFA;\n",
              "      box-shadow: 0px 1px 2px rgba(60, 64, 67, 0.3), 0px 1px 3px 1px rgba(60, 64, 67, 0.15);\n",
              "      fill: #174EA6;\n",
              "    }\n",
              "\n",
              "    [theme=dark] .colab-df-convert {\n",
              "      background-color: #3B4455;\n",
              "      fill: #D2E3FC;\n",
              "    }\n",
              "\n",
              "    [theme=dark] .colab-df-convert:hover {\n",
              "      background-color: #434B5C;\n",
              "      box-shadow: 0px 1px 3px 1px rgba(0, 0, 0, 0.15);\n",
              "      filter: drop-shadow(0px 1px 2px rgba(0, 0, 0, 0.3));\n",
              "      fill: #FFFFFF;\n",
              "    }\n",
              "  </style>\n",
              "\n",
              "      <script>\n",
              "        const buttonEl =\n",
              "          document.querySelector('#df-5f97f744-a791-4689-b24f-f05eff422307 button.colab-df-convert');\n",
              "        buttonEl.style.display =\n",
              "          google.colab.kernel.accessAllowed ? 'block' : 'none';\n",
              "\n",
              "        async function convertToInteractive(key) {\n",
              "          const element = document.querySelector('#df-5f97f744-a791-4689-b24f-f05eff422307');\n",
              "          const dataTable =\n",
              "            await google.colab.kernel.invokeFunction('convertToInteractive',\n",
              "                                                     [key], {});\n",
              "          if (!dataTable) return;\n",
              "\n",
              "          const docLinkHtml = 'Like what you see? Visit the ' +\n",
              "            '<a target=\"_blank\" href=https://colab.research.google.com/notebooks/data_table.ipynb>data table notebook</a>'\n",
              "            + ' to learn more about interactive tables.';\n",
              "          element.innerHTML = '';\n",
              "          dataTable['output_type'] = 'display_data';\n",
              "          await google.colab.output.renderOutput(dataTable, element);\n",
              "          const docLink = document.createElement('div');\n",
              "          docLink.innerHTML = docLinkHtml;\n",
              "          element.appendChild(docLink);\n",
              "        }\n",
              "      </script>\n",
              "    </div>\n",
              "  </div>\n",
              "  "
            ]
          },
          "metadata": {},
          "execution_count": 20
        }
      ],
      "source": [
        "daily_Sales.head(5)"
      ]
    },
    {
      "cell_type": "markdown",
      "metadata": {
        "id": "Oy4PbIF6kA_6"
      },
      "source": [
        "### Converting index to a single column only"
      ]
    },
    {
      "cell_type": "code",
      "execution_count": 21,
      "metadata": {
        "id": "PTWPFeD4kA_7"
      },
      "outputs": [],
      "source": [
        "y = daily_Sales.index.get_level_values(0)\n",
        "m = daily_Sales.index.get_level_values(1)\n",
        "d = daily_Sales.index.get_level_values(2)"
      ]
    },
    {
      "cell_type": "code",
      "execution_count": 22,
      "metadata": {
        "id": "3z1cDdH9kA_7"
      },
      "outputs": [],
      "source": [
        "daily_Sales['Date'] = pd.to_datetime(y* 10000 + m * 100 + d * 1, format=\"%Y%m%d\")"
      ]
    },
    {
      "cell_type": "code",
      "execution_count": 23,
      "metadata": {
        "id": "janZk9DjkA_7"
      },
      "outputs": [],
      "source": [
        "daily_Sales.set_index('Date', append=True, inplace=True)"
      ]
    },
    {
      "cell_type": "code",
      "execution_count": 24,
      "metadata": {
        "id": "-W5YjzGSkA_7"
      },
      "outputs": [],
      "source": [
        "daily_Sales=daily_Sales.droplevel(0)\n",
        "daily_Sales=daily_Sales.droplevel(0)\n",
        "daily_Sales=daily_Sales.droplevel(0)"
      ]
    },
    {
      "cell_type": "code",
      "execution_count": 25,
      "metadata": {
        "colab": {
          "base_uri": "https://localhost:8080/",
          "height": 237
        },
        "id": "dhQySHOGkA_8",
        "outputId": "b580dc22-aec7-4c07-d2c7-0da2dac18f7d"
      },
      "outputs": [
        {
          "output_type": "execute_result",
          "data": {
            "text/plain": [
              "            Sales  Order Item Discount  Order Item Quantity\n",
              "Date                                                       \n",
              "2015-01-01   4079                  496                   68\n",
              "2015-01-02   4619                  559                   77\n",
              "2015-01-03   4379                  212                   73\n",
              "2015-01-04   5279                  519                   88\n",
              "2015-01-05   5399                  661                   90"
            ],
            "text/html": [
              "\n",
              "  <div id=\"df-68f2a0fe-38d5-4790-ae70-0a150b513265\">\n",
              "    <div class=\"colab-df-container\">\n",
              "      <div>\n",
              "<style scoped>\n",
              "    .dataframe tbody tr th:only-of-type {\n",
              "        vertical-align: middle;\n",
              "    }\n",
              "\n",
              "    .dataframe tbody tr th {\n",
              "        vertical-align: top;\n",
              "    }\n",
              "\n",
              "    .dataframe thead th {\n",
              "        text-align: right;\n",
              "    }\n",
              "</style>\n",
              "<table border=\"1\" class=\"dataframe\">\n",
              "  <thead>\n",
              "    <tr style=\"text-align: right;\">\n",
              "      <th></th>\n",
              "      <th>Sales</th>\n",
              "      <th>Order Item Discount</th>\n",
              "      <th>Order Item Quantity</th>\n",
              "    </tr>\n",
              "    <tr>\n",
              "      <th>Date</th>\n",
              "      <th></th>\n",
              "      <th></th>\n",
              "      <th></th>\n",
              "    </tr>\n",
              "  </thead>\n",
              "  <tbody>\n",
              "    <tr>\n",
              "      <th>2015-01-01</th>\n",
              "      <td>4079</td>\n",
              "      <td>496</td>\n",
              "      <td>68</td>\n",
              "    </tr>\n",
              "    <tr>\n",
              "      <th>2015-01-02</th>\n",
              "      <td>4619</td>\n",
              "      <td>559</td>\n",
              "      <td>77</td>\n",
              "    </tr>\n",
              "    <tr>\n",
              "      <th>2015-01-03</th>\n",
              "      <td>4379</td>\n",
              "      <td>212</td>\n",
              "      <td>73</td>\n",
              "    </tr>\n",
              "    <tr>\n",
              "      <th>2015-01-04</th>\n",
              "      <td>5279</td>\n",
              "      <td>519</td>\n",
              "      <td>88</td>\n",
              "    </tr>\n",
              "    <tr>\n",
              "      <th>2015-01-05</th>\n",
              "      <td>5399</td>\n",
              "      <td>661</td>\n",
              "      <td>90</td>\n",
              "    </tr>\n",
              "  </tbody>\n",
              "</table>\n",
              "</div>\n",
              "      <button class=\"colab-df-convert\" onclick=\"convertToInteractive('df-68f2a0fe-38d5-4790-ae70-0a150b513265')\"\n",
              "              title=\"Convert this dataframe to an interactive table.\"\n",
              "              style=\"display:none;\">\n",
              "        \n",
              "  <svg xmlns=\"http://www.w3.org/2000/svg\" height=\"24px\"viewBox=\"0 0 24 24\"\n",
              "       width=\"24px\">\n",
              "    <path d=\"M0 0h24v24H0V0z\" fill=\"none\"/>\n",
              "    <path d=\"M18.56 5.44l.94 2.06.94-2.06 2.06-.94-2.06-.94-.94-2.06-.94 2.06-2.06.94zm-11 1L8.5 8.5l.94-2.06 2.06-.94-2.06-.94L8.5 2.5l-.94 2.06-2.06.94zm10 10l.94 2.06.94-2.06 2.06-.94-2.06-.94-.94-2.06-.94 2.06-2.06.94z\"/><path d=\"M17.41 7.96l-1.37-1.37c-.4-.4-.92-.59-1.43-.59-.52 0-1.04.2-1.43.59L10.3 9.45l-7.72 7.72c-.78.78-.78 2.05 0 2.83L4 21.41c.39.39.9.59 1.41.59.51 0 1.02-.2 1.41-.59l7.78-7.78 2.81-2.81c.8-.78.8-2.07 0-2.86zM5.41 20L4 18.59l7.72-7.72 1.47 1.35L5.41 20z\"/>\n",
              "  </svg>\n",
              "      </button>\n",
              "      \n",
              "  <style>\n",
              "    .colab-df-container {\n",
              "      display:flex;\n",
              "      flex-wrap:wrap;\n",
              "      gap: 12px;\n",
              "    }\n",
              "\n",
              "    .colab-df-convert {\n",
              "      background-color: #E8F0FE;\n",
              "      border: none;\n",
              "      border-radius: 50%;\n",
              "      cursor: pointer;\n",
              "      display: none;\n",
              "      fill: #1967D2;\n",
              "      height: 32px;\n",
              "      padding: 0 0 0 0;\n",
              "      width: 32px;\n",
              "    }\n",
              "\n",
              "    .colab-df-convert:hover {\n",
              "      background-color: #E2EBFA;\n",
              "      box-shadow: 0px 1px 2px rgba(60, 64, 67, 0.3), 0px 1px 3px 1px rgba(60, 64, 67, 0.15);\n",
              "      fill: #174EA6;\n",
              "    }\n",
              "\n",
              "    [theme=dark] .colab-df-convert {\n",
              "      background-color: #3B4455;\n",
              "      fill: #D2E3FC;\n",
              "    }\n",
              "\n",
              "    [theme=dark] .colab-df-convert:hover {\n",
              "      background-color: #434B5C;\n",
              "      box-shadow: 0px 1px 3px 1px rgba(0, 0, 0, 0.15);\n",
              "      filter: drop-shadow(0px 1px 2px rgba(0, 0, 0, 0.3));\n",
              "      fill: #FFFFFF;\n",
              "    }\n",
              "  </style>\n",
              "\n",
              "      <script>\n",
              "        const buttonEl =\n",
              "          document.querySelector('#df-68f2a0fe-38d5-4790-ae70-0a150b513265 button.colab-df-convert');\n",
              "        buttonEl.style.display =\n",
              "          google.colab.kernel.accessAllowed ? 'block' : 'none';\n",
              "\n",
              "        async function convertToInteractive(key) {\n",
              "          const element = document.querySelector('#df-68f2a0fe-38d5-4790-ae70-0a150b513265');\n",
              "          const dataTable =\n",
              "            await google.colab.kernel.invokeFunction('convertToInteractive',\n",
              "                                                     [key], {});\n",
              "          if (!dataTable) return;\n",
              "\n",
              "          const docLinkHtml = 'Like what you see? Visit the ' +\n",
              "            '<a target=\"_blank\" href=https://colab.research.google.com/notebooks/data_table.ipynb>data table notebook</a>'\n",
              "            + ' to learn more about interactive tables.';\n",
              "          element.innerHTML = '';\n",
              "          dataTable['output_type'] = 'display_data';\n",
              "          await google.colab.output.renderOutput(dataTable, element);\n",
              "          const docLink = document.createElement('div');\n",
              "          docLink.innerHTML = docLinkHtml;\n",
              "          element.appendChild(docLink);\n",
              "        }\n",
              "      </script>\n",
              "    </div>\n",
              "  </div>\n",
              "  "
            ]
          },
          "metadata": {},
          "execution_count": 25
        }
      ],
      "source": [
        "daily_Sales.head(5)"
      ]
    },
    {
      "cell_type": "code",
      "execution_count": 26,
      "metadata": {
        "colab": {
          "base_uri": "https://localhost:8080/",
          "height": 394
        },
        "id": "EwZo907YkA_8",
        "outputId": "c1d62647-f237-4bb5-a6ad-124498182041"
      },
      "outputs": [
        {
          "output_type": "execute_result",
          "data": {
            "text/plain": [
              "            Sales  Order Item Discount  Order Item Quantity\n",
              "Date                                                       \n",
              "2015-01-01   4079                  496                   68\n",
              "2015-01-02   4619                  559                   77\n",
              "2015-01-03   4379                  212                   73\n",
              "2015-01-04   5279                  519                   88\n",
              "2015-01-05   5399                  661                   90\n",
              "2015-01-06   3719                  374                   62\n",
              "2015-01-07   4259                  328                   71\n",
              "2015-01-08   4979                  631                   83\n",
              "2015-01-09   4739                  467                   79\n",
              "2015-01-10   4859                  429                   81"
            ],
            "text/html": [
              "\n",
              "  <div id=\"df-3730d302-c93d-435d-9b06-5db1cf8fa97c\">\n",
              "    <div class=\"colab-df-container\">\n",
              "      <div>\n",
              "<style scoped>\n",
              "    .dataframe tbody tr th:only-of-type {\n",
              "        vertical-align: middle;\n",
              "    }\n",
              "\n",
              "    .dataframe tbody tr th {\n",
              "        vertical-align: top;\n",
              "    }\n",
              "\n",
              "    .dataframe thead th {\n",
              "        text-align: right;\n",
              "    }\n",
              "</style>\n",
              "<table border=\"1\" class=\"dataframe\">\n",
              "  <thead>\n",
              "    <tr style=\"text-align: right;\">\n",
              "      <th></th>\n",
              "      <th>Sales</th>\n",
              "      <th>Order Item Discount</th>\n",
              "      <th>Order Item Quantity</th>\n",
              "    </tr>\n",
              "    <tr>\n",
              "      <th>Date</th>\n",
              "      <th></th>\n",
              "      <th></th>\n",
              "      <th></th>\n",
              "    </tr>\n",
              "  </thead>\n",
              "  <tbody>\n",
              "    <tr>\n",
              "      <th>2015-01-01</th>\n",
              "      <td>4079</td>\n",
              "      <td>496</td>\n",
              "      <td>68</td>\n",
              "    </tr>\n",
              "    <tr>\n",
              "      <th>2015-01-02</th>\n",
              "      <td>4619</td>\n",
              "      <td>559</td>\n",
              "      <td>77</td>\n",
              "    </tr>\n",
              "    <tr>\n",
              "      <th>2015-01-03</th>\n",
              "      <td>4379</td>\n",
              "      <td>212</td>\n",
              "      <td>73</td>\n",
              "    </tr>\n",
              "    <tr>\n",
              "      <th>2015-01-04</th>\n",
              "      <td>5279</td>\n",
              "      <td>519</td>\n",
              "      <td>88</td>\n",
              "    </tr>\n",
              "    <tr>\n",
              "      <th>2015-01-05</th>\n",
              "      <td>5399</td>\n",
              "      <td>661</td>\n",
              "      <td>90</td>\n",
              "    </tr>\n",
              "    <tr>\n",
              "      <th>2015-01-06</th>\n",
              "      <td>3719</td>\n",
              "      <td>374</td>\n",
              "      <td>62</td>\n",
              "    </tr>\n",
              "    <tr>\n",
              "      <th>2015-01-07</th>\n",
              "      <td>4259</td>\n",
              "      <td>328</td>\n",
              "      <td>71</td>\n",
              "    </tr>\n",
              "    <tr>\n",
              "      <th>2015-01-08</th>\n",
              "      <td>4979</td>\n",
              "      <td>631</td>\n",
              "      <td>83</td>\n",
              "    </tr>\n",
              "    <tr>\n",
              "      <th>2015-01-09</th>\n",
              "      <td>4739</td>\n",
              "      <td>467</td>\n",
              "      <td>79</td>\n",
              "    </tr>\n",
              "    <tr>\n",
              "      <th>2015-01-10</th>\n",
              "      <td>4859</td>\n",
              "      <td>429</td>\n",
              "      <td>81</td>\n",
              "    </tr>\n",
              "  </tbody>\n",
              "</table>\n",
              "</div>\n",
              "      <button class=\"colab-df-convert\" onclick=\"convertToInteractive('df-3730d302-c93d-435d-9b06-5db1cf8fa97c')\"\n",
              "              title=\"Convert this dataframe to an interactive table.\"\n",
              "              style=\"display:none;\">\n",
              "        \n",
              "  <svg xmlns=\"http://www.w3.org/2000/svg\" height=\"24px\"viewBox=\"0 0 24 24\"\n",
              "       width=\"24px\">\n",
              "    <path d=\"M0 0h24v24H0V0z\" fill=\"none\"/>\n",
              "    <path d=\"M18.56 5.44l.94 2.06.94-2.06 2.06-.94-2.06-.94-.94-2.06-.94 2.06-2.06.94zm-11 1L8.5 8.5l.94-2.06 2.06-.94-2.06-.94L8.5 2.5l-.94 2.06-2.06.94zm10 10l.94 2.06.94-2.06 2.06-.94-2.06-.94-.94-2.06-.94 2.06-2.06.94z\"/><path d=\"M17.41 7.96l-1.37-1.37c-.4-.4-.92-.59-1.43-.59-.52 0-1.04.2-1.43.59L10.3 9.45l-7.72 7.72c-.78.78-.78 2.05 0 2.83L4 21.41c.39.39.9.59 1.41.59.51 0 1.02-.2 1.41-.59l7.78-7.78 2.81-2.81c.8-.78.8-2.07 0-2.86zM5.41 20L4 18.59l7.72-7.72 1.47 1.35L5.41 20z\"/>\n",
              "  </svg>\n",
              "      </button>\n",
              "      \n",
              "  <style>\n",
              "    .colab-df-container {\n",
              "      display:flex;\n",
              "      flex-wrap:wrap;\n",
              "      gap: 12px;\n",
              "    }\n",
              "\n",
              "    .colab-df-convert {\n",
              "      background-color: #E8F0FE;\n",
              "      border: none;\n",
              "      border-radius: 50%;\n",
              "      cursor: pointer;\n",
              "      display: none;\n",
              "      fill: #1967D2;\n",
              "      height: 32px;\n",
              "      padding: 0 0 0 0;\n",
              "      width: 32px;\n",
              "    }\n",
              "\n",
              "    .colab-df-convert:hover {\n",
              "      background-color: #E2EBFA;\n",
              "      box-shadow: 0px 1px 2px rgba(60, 64, 67, 0.3), 0px 1px 3px 1px rgba(60, 64, 67, 0.15);\n",
              "      fill: #174EA6;\n",
              "    }\n",
              "\n",
              "    [theme=dark] .colab-df-convert {\n",
              "      background-color: #3B4455;\n",
              "      fill: #D2E3FC;\n",
              "    }\n",
              "\n",
              "    [theme=dark] .colab-df-convert:hover {\n",
              "      background-color: #434B5C;\n",
              "      box-shadow: 0px 1px 3px 1px rgba(0, 0, 0, 0.15);\n",
              "      filter: drop-shadow(0px 1px 2px rgba(0, 0, 0, 0.3));\n",
              "      fill: #FFFFFF;\n",
              "    }\n",
              "  </style>\n",
              "\n",
              "      <script>\n",
              "        const buttonEl =\n",
              "          document.querySelector('#df-3730d302-c93d-435d-9b06-5db1cf8fa97c button.colab-df-convert');\n",
              "        buttonEl.style.display =\n",
              "          google.colab.kernel.accessAllowed ? 'block' : 'none';\n",
              "\n",
              "        async function convertToInteractive(key) {\n",
              "          const element = document.querySelector('#df-3730d302-c93d-435d-9b06-5db1cf8fa97c');\n",
              "          const dataTable =\n",
              "            await google.colab.kernel.invokeFunction('convertToInteractive',\n",
              "                                                     [key], {});\n",
              "          if (!dataTable) return;\n",
              "\n",
              "          const docLinkHtml = 'Like what you see? Visit the ' +\n",
              "            '<a target=\"_blank\" href=https://colab.research.google.com/notebooks/data_table.ipynb>data table notebook</a>'\n",
              "            + ' to learn more about interactive tables.';\n",
              "          element.innerHTML = '';\n",
              "          dataTable['output_type'] = 'display_data';\n",
              "          await google.colab.output.renderOutput(dataTable, element);\n",
              "          const docLink = document.createElement('div');\n",
              "          docLink.innerHTML = docLinkHtml;\n",
              "          element.appendChild(docLink);\n",
              "        }\n",
              "      </script>\n",
              "    </div>\n",
              "  </div>\n",
              "  "
            ]
          },
          "metadata": {},
          "execution_count": 26
        }
      ],
      "source": [
        "daily_Sales.head(10)"
      ]
    },
    {
      "cell_type": "code",
      "execution_count": 27,
      "metadata": {
        "colab": {
          "base_uri": "https://localhost:8080/"
        },
        "id": "gQpripJVkA_8",
        "outputId": "6689b2e3-5667-4fc6-df4c-b881760dc92e"
      },
      "outputs": [
        {
          "output_type": "execute_result",
          "data": {
            "text/plain": [
              "(1006, 3)"
            ]
          },
          "metadata": {},
          "execution_count": 27
        }
      ],
      "source": [
        "daily_Sales.shape"
      ]
    },
    {
      "cell_type": "markdown",
      "metadata": {
        "id": "eiy7GZpUkA_8"
      },
      "source": [
        "### Checking the sum of Column 'Order Item Quantity'"
      ]
    },
    {
      "cell_type": "code",
      "execution_count": 28,
      "metadata": {
        "colab": {
          "base_uri": "https://localhost:8080/"
        },
        "id": "f52iqvpDkA_9",
        "outputId": "6894417d-3596-4f4f-ace0-305acf3bcdfc"
      },
      "outputs": [
        {
          "output_type": "stream",
          "name": "stdout",
          "text": [
            "73734\n"
          ]
        }
      ],
      "source": [
        "Total = daily_Sales['Order Item Quantity'].sum()\n",
        "print(Total)\n"
      ]
    },
    {
      "cell_type": "code",
      "execution_count": 29,
      "metadata": {
        "scrolled": true,
        "colab": {
          "base_uri": "https://localhost:8080/",
          "height": 237
        },
        "id": "7U4nJDu1kA_9",
        "outputId": "3b58b070-6fc4-4259-a878-1587831f01d3"
      },
      "outputs": [
        {
          "output_type": "execute_result",
          "data": {
            "text/plain": [
              "            Order Item Quantity\n",
              "Date                           \n",
              "2017-09-28                   42\n",
              "2017-09-29                   40\n",
              "2017-09-30                   90\n",
              "2017-10-01                   86\n",
              "2017-10-02                   34"
            ],
            "text/html": [
              "\n",
              "  <div id=\"df-4c0c1218-b967-42d3-a916-d7ad530171d3\">\n",
              "    <div class=\"colab-df-container\">\n",
              "      <div>\n",
              "<style scoped>\n",
              "    .dataframe tbody tr th:only-of-type {\n",
              "        vertical-align: middle;\n",
              "    }\n",
              "\n",
              "    .dataframe tbody tr th {\n",
              "        vertical-align: top;\n",
              "    }\n",
              "\n",
              "    .dataframe thead th {\n",
              "        text-align: right;\n",
              "    }\n",
              "</style>\n",
              "<table border=\"1\" class=\"dataframe\">\n",
              "  <thead>\n",
              "    <tr style=\"text-align: right;\">\n",
              "      <th></th>\n",
              "      <th>Order Item Quantity</th>\n",
              "    </tr>\n",
              "    <tr>\n",
              "      <th>Date</th>\n",
              "      <th></th>\n",
              "    </tr>\n",
              "  </thead>\n",
              "  <tbody>\n",
              "    <tr>\n",
              "      <th>2017-09-28</th>\n",
              "      <td>42</td>\n",
              "    </tr>\n",
              "    <tr>\n",
              "      <th>2017-09-29</th>\n",
              "      <td>40</td>\n",
              "    </tr>\n",
              "    <tr>\n",
              "      <th>2017-09-30</th>\n",
              "      <td>90</td>\n",
              "    </tr>\n",
              "    <tr>\n",
              "      <th>2017-10-01</th>\n",
              "      <td>86</td>\n",
              "    </tr>\n",
              "    <tr>\n",
              "      <th>2017-10-02</th>\n",
              "      <td>34</td>\n",
              "    </tr>\n",
              "  </tbody>\n",
              "</table>\n",
              "</div>\n",
              "      <button class=\"colab-df-convert\" onclick=\"convertToInteractive('df-4c0c1218-b967-42d3-a916-d7ad530171d3')\"\n",
              "              title=\"Convert this dataframe to an interactive table.\"\n",
              "              style=\"display:none;\">\n",
              "        \n",
              "  <svg xmlns=\"http://www.w3.org/2000/svg\" height=\"24px\"viewBox=\"0 0 24 24\"\n",
              "       width=\"24px\">\n",
              "    <path d=\"M0 0h24v24H0V0z\" fill=\"none\"/>\n",
              "    <path d=\"M18.56 5.44l.94 2.06.94-2.06 2.06-.94-2.06-.94-.94-2.06-.94 2.06-2.06.94zm-11 1L8.5 8.5l.94-2.06 2.06-.94-2.06-.94L8.5 2.5l-.94 2.06-2.06.94zm10 10l.94 2.06.94-2.06 2.06-.94-2.06-.94-.94-2.06-.94 2.06-2.06.94z\"/><path d=\"M17.41 7.96l-1.37-1.37c-.4-.4-.92-.59-1.43-.59-.52 0-1.04.2-1.43.59L10.3 9.45l-7.72 7.72c-.78.78-.78 2.05 0 2.83L4 21.41c.39.39.9.59 1.41.59.51 0 1.02-.2 1.41-.59l7.78-7.78 2.81-2.81c.8-.78.8-2.07 0-2.86zM5.41 20L4 18.59l7.72-7.72 1.47 1.35L5.41 20z\"/>\n",
              "  </svg>\n",
              "      </button>\n",
              "      \n",
              "  <style>\n",
              "    .colab-df-container {\n",
              "      display:flex;\n",
              "      flex-wrap:wrap;\n",
              "      gap: 12px;\n",
              "    }\n",
              "\n",
              "    .colab-df-convert {\n",
              "      background-color: #E8F0FE;\n",
              "      border: none;\n",
              "      border-radius: 50%;\n",
              "      cursor: pointer;\n",
              "      display: none;\n",
              "      fill: #1967D2;\n",
              "      height: 32px;\n",
              "      padding: 0 0 0 0;\n",
              "      width: 32px;\n",
              "    }\n",
              "\n",
              "    .colab-df-convert:hover {\n",
              "      background-color: #E2EBFA;\n",
              "      box-shadow: 0px 1px 2px rgba(60, 64, 67, 0.3), 0px 1px 3px 1px rgba(60, 64, 67, 0.15);\n",
              "      fill: #174EA6;\n",
              "    }\n",
              "\n",
              "    [theme=dark] .colab-df-convert {\n",
              "      background-color: #3B4455;\n",
              "      fill: #D2E3FC;\n",
              "    }\n",
              "\n",
              "    [theme=dark] .colab-df-convert:hover {\n",
              "      background-color: #434B5C;\n",
              "      box-shadow: 0px 1px 3px 1px rgba(0, 0, 0, 0.15);\n",
              "      filter: drop-shadow(0px 1px 2px rgba(0, 0, 0, 0.3));\n",
              "      fill: #FFFFFF;\n",
              "    }\n",
              "  </style>\n",
              "\n",
              "      <script>\n",
              "        const buttonEl =\n",
              "          document.querySelector('#df-4c0c1218-b967-42d3-a916-d7ad530171d3 button.colab-df-convert');\n",
              "        buttonEl.style.display =\n",
              "          google.colab.kernel.accessAllowed ? 'block' : 'none';\n",
              "\n",
              "        async function convertToInteractive(key) {\n",
              "          const element = document.querySelector('#df-4c0c1218-b967-42d3-a916-d7ad530171d3');\n",
              "          const dataTable =\n",
              "            await google.colab.kernel.invokeFunction('convertToInteractive',\n",
              "                                                     [key], {});\n",
              "          if (!dataTable) return;\n",
              "\n",
              "          const docLinkHtml = 'Like what you see? Visit the ' +\n",
              "            '<a target=\"_blank\" href=https://colab.research.google.com/notebooks/data_table.ipynb>data table notebook</a>'\n",
              "            + ' to learn more about interactive tables.';\n",
              "          element.innerHTML = '';\n",
              "          dataTable['output_type'] = 'display_data';\n",
              "          await google.colab.output.renderOutput(dataTable, element);\n",
              "          const docLink = document.createElement('div');\n",
              "          docLink.innerHTML = docLinkHtml;\n",
              "          element.appendChild(docLink);\n",
              "        }\n",
              "      </script>\n",
              "    </div>\n",
              "  </div>\n",
              "  "
            ]
          },
          "metadata": {},
          "execution_count": 29
        }
      ],
      "source": [
        "Cleats_Sold = daily_Sales[[\"Order Item Quantity\"]]\n",
        "Cleats_Sold.tail()"
      ]
    },
    {
      "cell_type": "code",
      "execution_count": 30,
      "metadata": {
        "colab": {
          "base_uri": "https://localhost:8080/"
        },
        "id": "UqJcBzEFkA_9",
        "outputId": "f021a1c3-b5b3-40d9-fd24-73a7d61c0c72"
      },
      "outputs": [
        {
          "output_type": "execute_result",
          "data": {
            "text/plain": [
              "(1006, 1)"
            ]
          },
          "metadata": {},
          "execution_count": 30
        }
      ],
      "source": [
        "Cleats_Sold.shape"
      ]
    },
    {
      "cell_type": "markdown",
      "metadata": {
        "id": "k-xzRDkAkA_9"
      },
      "source": [
        "# DATA PREPARATION"
      ]
    },
    {
      "cell_type": "markdown",
      "metadata": {
        "id": "TJ-gRRohkA_9"
      },
      "source": [
        "### FEATURE ENGINEERING"
      ]
    },
    {
      "cell_type": "markdown",
      "metadata": {
        "id": "CeiQUKojkA_-"
      },
      "source": [
        "Considering the prior 90 days sales to predict the number of items sold for the month of April_2015 till Sept_2017 "
      ]
    },
    {
      "cell_type": "code",
      "execution_count": 31,
      "metadata": {
        "id": "QGJznMA3kA_-"
      },
      "outputs": [],
      "source": [
        "April_2015 = Cleats_Sold.iloc[1:90]\n",
        "May_2015 = Cleats_Sold.iloc[31:120]\n",
        "June_2015 = Cleats_Sold.iloc[62:151]\n",
        "July_2015 = Cleats_Sold.iloc[92:181]\n",
        "August_2015 = Cleats_Sold.iloc[123:212]\n",
        "Sept_2015 = Cleats_Sold.iloc[154:243]\n",
        "Oct_2015 = Cleats_Sold.iloc[184:273]\n",
        "Nov_2015 = Cleats_Sold.iloc[215:304]\n",
        "Dec_2015 = Cleats_Sold.iloc[245:334]\n",
        "Jan_2016 = Cleats_Sold.iloc[276:365]\n",
        "Feb_2016 = Cleats_Sold.iloc[307:396]\n",
        "March_2016 = Cleats_Sold.iloc[336:425]\n",
        "April_2016 = Cleats_Sold.iloc[367:456]\n",
        "May_2016 = Cleats_Sold.iloc[397:486]\n",
        "June_2016 = Cleats_Sold.iloc[428:517]\n",
        "July_2016 = Cleats_Sold.iloc[458:547]\n",
        "August_2016 = Cleats_Sold.iloc[489:578]\n",
        "Sept_2016 = Cleats_Sold.iloc[520:609]\n",
        "Oct_2016 = Cleats_Sold.iloc[550:639]\n",
        "Nov_2016 = Cleats_Sold.iloc[581:670]\n",
        "Dec_2016 = Cleats_Sold.iloc[611:700]\n",
        "Jan_2017 = Cleats_Sold.iloc[642:731]\n",
        "Feb_2017 = Cleats_Sold.iloc[673:762]\n",
        "March_2017 = Cleats_Sold.iloc[701:790]\n",
        "April_2017 = Cleats_Sold.iloc[732:821]\n",
        "May_2017 = Cleats_Sold.iloc[762:851]\n",
        "June_2017 = Cleats_Sold.iloc[793:882]\n",
        "July_2017 = Cleats_Sold.iloc[823:912]\n",
        "August_2017 = Cleats_Sold.iloc[854:943]\n",
        "Sept_2017 = Cleats_Sold.iloc[885:974]"
      ]
    },
    {
      "cell_type": "code",
      "execution_count": 32,
      "metadata": {
        "colab": {
          "base_uri": "https://localhost:8080/",
          "height": 237
        },
        "id": "Q2bZX8BNkA_-",
        "outputId": "c688c1fa-f0c3-4006-c6ba-b018e6f5ec52"
      },
      "outputs": [
        {
          "output_type": "execute_result",
          "data": {
            "text/plain": [
              "            Order Item Quantity\n",
              "Date                           \n",
              "2015-03-27                   55\n",
              "2015-03-28                   66\n",
              "2015-03-29                   61\n",
              "2015-03-30                  131\n",
              "2015-03-31                   76"
            ],
            "text/html": [
              "\n",
              "  <div id=\"df-138fa8e4-25a2-4a0b-b62e-23a2e12cce2d\">\n",
              "    <div class=\"colab-df-container\">\n",
              "      <div>\n",
              "<style scoped>\n",
              "    .dataframe tbody tr th:only-of-type {\n",
              "        vertical-align: middle;\n",
              "    }\n",
              "\n",
              "    .dataframe tbody tr th {\n",
              "        vertical-align: top;\n",
              "    }\n",
              "\n",
              "    .dataframe thead th {\n",
              "        text-align: right;\n",
              "    }\n",
              "</style>\n",
              "<table border=\"1\" class=\"dataframe\">\n",
              "  <thead>\n",
              "    <tr style=\"text-align: right;\">\n",
              "      <th></th>\n",
              "      <th>Order Item Quantity</th>\n",
              "    </tr>\n",
              "    <tr>\n",
              "      <th>Date</th>\n",
              "      <th></th>\n",
              "    </tr>\n",
              "  </thead>\n",
              "  <tbody>\n",
              "    <tr>\n",
              "      <th>2015-03-27</th>\n",
              "      <td>55</td>\n",
              "    </tr>\n",
              "    <tr>\n",
              "      <th>2015-03-28</th>\n",
              "      <td>66</td>\n",
              "    </tr>\n",
              "    <tr>\n",
              "      <th>2015-03-29</th>\n",
              "      <td>61</td>\n",
              "    </tr>\n",
              "    <tr>\n",
              "      <th>2015-03-30</th>\n",
              "      <td>131</td>\n",
              "    </tr>\n",
              "    <tr>\n",
              "      <th>2015-03-31</th>\n",
              "      <td>76</td>\n",
              "    </tr>\n",
              "  </tbody>\n",
              "</table>\n",
              "</div>\n",
              "      <button class=\"colab-df-convert\" onclick=\"convertToInteractive('df-138fa8e4-25a2-4a0b-b62e-23a2e12cce2d')\"\n",
              "              title=\"Convert this dataframe to an interactive table.\"\n",
              "              style=\"display:none;\">\n",
              "        \n",
              "  <svg xmlns=\"http://www.w3.org/2000/svg\" height=\"24px\"viewBox=\"0 0 24 24\"\n",
              "       width=\"24px\">\n",
              "    <path d=\"M0 0h24v24H0V0z\" fill=\"none\"/>\n",
              "    <path d=\"M18.56 5.44l.94 2.06.94-2.06 2.06-.94-2.06-.94-.94-2.06-.94 2.06-2.06.94zm-11 1L8.5 8.5l.94-2.06 2.06-.94-2.06-.94L8.5 2.5l-.94 2.06-2.06.94zm10 10l.94 2.06.94-2.06 2.06-.94-2.06-.94-.94-2.06-.94 2.06-2.06.94z\"/><path d=\"M17.41 7.96l-1.37-1.37c-.4-.4-.92-.59-1.43-.59-.52 0-1.04.2-1.43.59L10.3 9.45l-7.72 7.72c-.78.78-.78 2.05 0 2.83L4 21.41c.39.39.9.59 1.41.59.51 0 1.02-.2 1.41-.59l7.78-7.78 2.81-2.81c.8-.78.8-2.07 0-2.86zM5.41 20L4 18.59l7.72-7.72 1.47 1.35L5.41 20z\"/>\n",
              "  </svg>\n",
              "      </button>\n",
              "      \n",
              "  <style>\n",
              "    .colab-df-container {\n",
              "      display:flex;\n",
              "      flex-wrap:wrap;\n",
              "      gap: 12px;\n",
              "    }\n",
              "\n",
              "    .colab-df-convert {\n",
              "      background-color: #E8F0FE;\n",
              "      border: none;\n",
              "      border-radius: 50%;\n",
              "      cursor: pointer;\n",
              "      display: none;\n",
              "      fill: #1967D2;\n",
              "      height: 32px;\n",
              "      padding: 0 0 0 0;\n",
              "      width: 32px;\n",
              "    }\n",
              "\n",
              "    .colab-df-convert:hover {\n",
              "      background-color: #E2EBFA;\n",
              "      box-shadow: 0px 1px 2px rgba(60, 64, 67, 0.3), 0px 1px 3px 1px rgba(60, 64, 67, 0.15);\n",
              "      fill: #174EA6;\n",
              "    }\n",
              "\n",
              "    [theme=dark] .colab-df-convert {\n",
              "      background-color: #3B4455;\n",
              "      fill: #D2E3FC;\n",
              "    }\n",
              "\n",
              "    [theme=dark] .colab-df-convert:hover {\n",
              "      background-color: #434B5C;\n",
              "      box-shadow: 0px 1px 3px 1px rgba(0, 0, 0, 0.15);\n",
              "      filter: drop-shadow(0px 1px 2px rgba(0, 0, 0, 0.3));\n",
              "      fill: #FFFFFF;\n",
              "    }\n",
              "  </style>\n",
              "\n",
              "      <script>\n",
              "        const buttonEl =\n",
              "          document.querySelector('#df-138fa8e4-25a2-4a0b-b62e-23a2e12cce2d button.colab-df-convert');\n",
              "        buttonEl.style.display =\n",
              "          google.colab.kernel.accessAllowed ? 'block' : 'none';\n",
              "\n",
              "        async function convertToInteractive(key) {\n",
              "          const element = document.querySelector('#df-138fa8e4-25a2-4a0b-b62e-23a2e12cce2d');\n",
              "          const dataTable =\n",
              "            await google.colab.kernel.invokeFunction('convertToInteractive',\n",
              "                                                     [key], {});\n",
              "          if (!dataTable) return;\n",
              "\n",
              "          const docLinkHtml = 'Like what you see? Visit the ' +\n",
              "            '<a target=\"_blank\" href=https://colab.research.google.com/notebooks/data_table.ipynb>data table notebook</a>'\n",
              "            + ' to learn more about interactive tables.';\n",
              "          element.innerHTML = '';\n",
              "          dataTable['output_type'] = 'display_data';\n",
              "          await google.colab.output.renderOutput(dataTable, element);\n",
              "          const docLink = document.createElement('div');\n",
              "          docLink.innerHTML = docLinkHtml;\n",
              "          element.appendChild(docLink);\n",
              "        }\n",
              "      </script>\n",
              "    </div>\n",
              "  </div>\n",
              "  "
            ]
          },
          "metadata": {},
          "execution_count": 32
        }
      ],
      "source": [
        "April_2015.tail()"
      ]
    },
    {
      "cell_type": "code",
      "execution_count": 33,
      "metadata": {
        "colab": {
          "base_uri": "https://localhost:8080/"
        },
        "id": "RH2GAXkkkA_-",
        "outputId": "ae223527-f78d-4f62-f808-c3a8f1bd0d42"
      },
      "outputs": [
        {
          "output_type": "execute_result",
          "data": {
            "text/plain": [
              "(89, 1)"
            ]
          },
          "metadata": {},
          "execution_count": 33
        }
      ],
      "source": [
        "April_2015.shape"
      ]
    },
    {
      "cell_type": "markdown",
      "metadata": {
        "id": "zJLsRdFbkA__"
      },
      "source": [
        "### Taking Transpose to convert 90 days sales as Single row/record for each month to be predicted"
      ]
    },
    {
      "cell_type": "code",
      "execution_count": 34,
      "metadata": {
        "id": "uHR4WeZTkA__"
      },
      "outputs": [],
      "source": [
        "Row_1 = pd.DataFrame(April_2015.to_numpy().T).add_prefix('Day')\n",
        "Row_2 = pd.DataFrame(May_2015.to_numpy().T).add_prefix('Day')\n",
        "Row_3 = pd.DataFrame(June_2015.to_numpy().T).add_prefix('Day')\n",
        "Row_4 = pd.DataFrame(July_2015.to_numpy().T).add_prefix('Day')\n",
        "Row_5 = pd.DataFrame(August_2015.to_numpy().T).add_prefix('Day')\n",
        "Row_6 = pd.DataFrame(Sept_2015.to_numpy().T).add_prefix('Day')\n",
        "Row_7 = pd.DataFrame(Oct_2015.to_numpy().T).add_prefix('Day')\n",
        "Row_8 = pd.DataFrame(Nov_2015.to_numpy().T).add_prefix('Day')\n",
        "Row_9 = pd.DataFrame(Dec_2015.to_numpy().T).add_prefix('Day')\n",
        "Row_10 = pd.DataFrame(Jan_2016.to_numpy().T).add_prefix('Day')\n",
        "Row_11 = pd.DataFrame(Feb_2016.to_numpy().T).add_prefix('Day')\n",
        "Row_12 = pd.DataFrame(March_2016.to_numpy().T).add_prefix('Day')\n",
        "Row_13 = pd.DataFrame(April_2016.to_numpy().T).add_prefix('Day')\n",
        "Row_14 = pd.DataFrame(May_2016.to_numpy().T).add_prefix('Day')\n",
        "Row_15 = pd.DataFrame(June_2016.to_numpy().T).add_prefix('Day')\n",
        "Row_16 = pd.DataFrame(July_2016.to_numpy().T).add_prefix('Day')\n",
        "Row_17 = pd.DataFrame(August_2016.to_numpy().T).add_prefix('Day')\n",
        "Row_18 = pd.DataFrame(Sept_2016.to_numpy().T).add_prefix('Day')\n",
        "Row_19 = pd.DataFrame(Oct_2016.to_numpy().T).add_prefix('Day')\n",
        "Row_20 = pd.DataFrame(Nov_2016.to_numpy().T).add_prefix('Day')\n",
        "Row_21 = pd.DataFrame(Dec_2016.to_numpy().T).add_prefix('Day')\n",
        "Row_22 = pd.DataFrame(Jan_2017.to_numpy().T).add_prefix('Day')\n",
        "Row_23 = pd.DataFrame(Feb_2017.to_numpy().T).add_prefix('Day')\n",
        "Row_24 = pd.DataFrame(March_2017.to_numpy().T).add_prefix('Day')\n",
        "Row_25 = pd.DataFrame(April_2017.to_numpy().T).add_prefix('Day')\n",
        "Row_26 = pd.DataFrame(May_2017.to_numpy().T).add_prefix('Day')\n",
        "Row_27 = pd.DataFrame(June_2017.to_numpy().T).add_prefix('Day')\n",
        "Row_28 = pd.DataFrame(July_2017.to_numpy().T).add_prefix('Day')\n",
        "Row_29 = pd.DataFrame(August_2017.to_numpy().T).add_prefix('Day')\n",
        "Row_30 = pd.DataFrame(Sept_2017.to_numpy().T).add_prefix('Day')"
      ]
    },
    {
      "cell_type": "code",
      "execution_count": 35,
      "metadata": {
        "colab": {
          "base_uri": "https://localhost:8080/",
          "height": 110
        },
        "id": "EuR6ucZBkA__",
        "outputId": "beb98351-917b-49d5-bed8-29cf71226567"
      },
      "outputs": [
        {
          "output_type": "execute_result",
          "data": {
            "text/plain": [
              "   Day0  Day1  Day2  Day3  Day4  Day5  Day6  Day7  Day8  Day9  ...  Day79  \\\n",
              "0    77    73    88    90    62    71    83    79    81    63  ...     84   \n",
              "\n",
              "   Day80  Day81  Day82  Day83  Day84  Day85  Day86  Day87  Day88  \n",
              "0     79     73     82     45     55     66     61    131     76  \n",
              "\n",
              "[1 rows x 89 columns]"
            ],
            "text/html": [
              "\n",
              "  <div id=\"df-200d2149-f908-446f-938d-e198d66e8796\">\n",
              "    <div class=\"colab-df-container\">\n",
              "      <div>\n",
              "<style scoped>\n",
              "    .dataframe tbody tr th:only-of-type {\n",
              "        vertical-align: middle;\n",
              "    }\n",
              "\n",
              "    .dataframe tbody tr th {\n",
              "        vertical-align: top;\n",
              "    }\n",
              "\n",
              "    .dataframe thead th {\n",
              "        text-align: right;\n",
              "    }\n",
              "</style>\n",
              "<table border=\"1\" class=\"dataframe\">\n",
              "  <thead>\n",
              "    <tr style=\"text-align: right;\">\n",
              "      <th></th>\n",
              "      <th>Day0</th>\n",
              "      <th>Day1</th>\n",
              "      <th>Day2</th>\n",
              "      <th>Day3</th>\n",
              "      <th>Day4</th>\n",
              "      <th>Day5</th>\n",
              "      <th>Day6</th>\n",
              "      <th>Day7</th>\n",
              "      <th>Day8</th>\n",
              "      <th>Day9</th>\n",
              "      <th>...</th>\n",
              "      <th>Day79</th>\n",
              "      <th>Day80</th>\n",
              "      <th>Day81</th>\n",
              "      <th>Day82</th>\n",
              "      <th>Day83</th>\n",
              "      <th>Day84</th>\n",
              "      <th>Day85</th>\n",
              "      <th>Day86</th>\n",
              "      <th>Day87</th>\n",
              "      <th>Day88</th>\n",
              "    </tr>\n",
              "  </thead>\n",
              "  <tbody>\n",
              "    <tr>\n",
              "      <th>0</th>\n",
              "      <td>77</td>\n",
              "      <td>73</td>\n",
              "      <td>88</td>\n",
              "      <td>90</td>\n",
              "      <td>62</td>\n",
              "      <td>71</td>\n",
              "      <td>83</td>\n",
              "      <td>79</td>\n",
              "      <td>81</td>\n",
              "      <td>63</td>\n",
              "      <td>...</td>\n",
              "      <td>84</td>\n",
              "      <td>79</td>\n",
              "      <td>73</td>\n",
              "      <td>82</td>\n",
              "      <td>45</td>\n",
              "      <td>55</td>\n",
              "      <td>66</td>\n",
              "      <td>61</td>\n",
              "      <td>131</td>\n",
              "      <td>76</td>\n",
              "    </tr>\n",
              "  </tbody>\n",
              "</table>\n",
              "<p>1 rows × 89 columns</p>\n",
              "</div>\n",
              "      <button class=\"colab-df-convert\" onclick=\"convertToInteractive('df-200d2149-f908-446f-938d-e198d66e8796')\"\n",
              "              title=\"Convert this dataframe to an interactive table.\"\n",
              "              style=\"display:none;\">\n",
              "        \n",
              "  <svg xmlns=\"http://www.w3.org/2000/svg\" height=\"24px\"viewBox=\"0 0 24 24\"\n",
              "       width=\"24px\">\n",
              "    <path d=\"M0 0h24v24H0V0z\" fill=\"none\"/>\n",
              "    <path d=\"M18.56 5.44l.94 2.06.94-2.06 2.06-.94-2.06-.94-.94-2.06-.94 2.06-2.06.94zm-11 1L8.5 8.5l.94-2.06 2.06-.94-2.06-.94L8.5 2.5l-.94 2.06-2.06.94zm10 10l.94 2.06.94-2.06 2.06-.94-2.06-.94-.94-2.06-.94 2.06-2.06.94z\"/><path d=\"M17.41 7.96l-1.37-1.37c-.4-.4-.92-.59-1.43-.59-.52 0-1.04.2-1.43.59L10.3 9.45l-7.72 7.72c-.78.78-.78 2.05 0 2.83L4 21.41c.39.39.9.59 1.41.59.51 0 1.02-.2 1.41-.59l7.78-7.78 2.81-2.81c.8-.78.8-2.07 0-2.86zM5.41 20L4 18.59l7.72-7.72 1.47 1.35L5.41 20z\"/>\n",
              "  </svg>\n",
              "      </button>\n",
              "      \n",
              "  <style>\n",
              "    .colab-df-container {\n",
              "      display:flex;\n",
              "      flex-wrap:wrap;\n",
              "      gap: 12px;\n",
              "    }\n",
              "\n",
              "    .colab-df-convert {\n",
              "      background-color: #E8F0FE;\n",
              "      border: none;\n",
              "      border-radius: 50%;\n",
              "      cursor: pointer;\n",
              "      display: none;\n",
              "      fill: #1967D2;\n",
              "      height: 32px;\n",
              "      padding: 0 0 0 0;\n",
              "      width: 32px;\n",
              "    }\n",
              "\n",
              "    .colab-df-convert:hover {\n",
              "      background-color: #E2EBFA;\n",
              "      box-shadow: 0px 1px 2px rgba(60, 64, 67, 0.3), 0px 1px 3px 1px rgba(60, 64, 67, 0.15);\n",
              "      fill: #174EA6;\n",
              "    }\n",
              "\n",
              "    [theme=dark] .colab-df-convert {\n",
              "      background-color: #3B4455;\n",
              "      fill: #D2E3FC;\n",
              "    }\n",
              "\n",
              "    [theme=dark] .colab-df-convert:hover {\n",
              "      background-color: #434B5C;\n",
              "      box-shadow: 0px 1px 3px 1px rgba(0, 0, 0, 0.15);\n",
              "      filter: drop-shadow(0px 1px 2px rgba(0, 0, 0, 0.3));\n",
              "      fill: #FFFFFF;\n",
              "    }\n",
              "  </style>\n",
              "\n",
              "      <script>\n",
              "        const buttonEl =\n",
              "          document.querySelector('#df-200d2149-f908-446f-938d-e198d66e8796 button.colab-df-convert');\n",
              "        buttonEl.style.display =\n",
              "          google.colab.kernel.accessAllowed ? 'block' : 'none';\n",
              "\n",
              "        async function convertToInteractive(key) {\n",
              "          const element = document.querySelector('#df-200d2149-f908-446f-938d-e198d66e8796');\n",
              "          const dataTable =\n",
              "            await google.colab.kernel.invokeFunction('convertToInteractive',\n",
              "                                                     [key], {});\n",
              "          if (!dataTable) return;\n",
              "\n",
              "          const docLinkHtml = 'Like what you see? Visit the ' +\n",
              "            '<a target=\"_blank\" href=https://colab.research.google.com/notebooks/data_table.ipynb>data table notebook</a>'\n",
              "            + ' to learn more about interactive tables.';\n",
              "          element.innerHTML = '';\n",
              "          dataTable['output_type'] = 'display_data';\n",
              "          await google.colab.output.renderOutput(dataTable, element);\n",
              "          const docLink = document.createElement('div');\n",
              "          docLink.innerHTML = docLinkHtml;\n",
              "          element.appendChild(docLink);\n",
              "        }\n",
              "      </script>\n",
              "    </div>\n",
              "  </div>\n",
              "  "
            ]
          },
          "metadata": {},
          "execution_count": 35
        }
      ],
      "source": [
        "Row_1"
      ]
    },
    {
      "cell_type": "markdown",
      "metadata": {
        "id": "Nz8mAhs0kA__"
      },
      "source": [
        "### Merging all Rows to prepare the DataFrame"
      ]
    },
    {
      "cell_type": "code",
      "execution_count": 36,
      "metadata": {
        "id": "D_AMTUVvkA__"
      },
      "outputs": [],
      "source": [
        "merge2=Row_1.append(Row_2,ignore_index=True)\n",
        "merge3=merge2.append(Row_3,ignore_index=True)\n",
        "merge4=merge3.append(Row_4,ignore_index=True)\n",
        "merge5=merge4.append(Row_5,ignore_index=True)\n",
        "merge6=merge5.append(Row_6,ignore_index=True)\n",
        "merge7=merge6.append(Row_7,ignore_index=True)\n",
        "merge8=merge7.append(Row_8,ignore_index=True)\n",
        "merge9=merge8.append(Row_9,ignore_index=True)\n",
        "merge10=merge9.append(Row_10,ignore_index=True)\n",
        "merge11=merge10.append(Row_11,ignore_index=True)\n",
        "merge12=merge11.append(Row_12,ignore_index=True)\n",
        "merge13=merge12.append(Row_13,ignore_index=True)\n",
        "merge14=merge13.append(Row_14,ignore_index=True)\n",
        "merge15=merge14.append(Row_15,ignore_index=True)\n",
        "merge16=merge15.append(Row_16,ignore_index=True)\n",
        "merge17=merge16.append(Row_17,ignore_index=True)\n",
        "merge18=merge17.append(Row_18,ignore_index=True)\n",
        "merge19=merge18.append(Row_19,ignore_index=True)\n",
        "merge20=merge19.append(Row_20,ignore_index=True)\n",
        "merge21=merge20.append(Row_21,ignore_index=True)\n",
        "merge22=merge21.append(Row_22,ignore_index=True)\n",
        "merge23=merge22.append(Row_23,ignore_index=True)\n",
        "merge24=merge23.append(Row_24,ignore_index=True)\n",
        "merge25=merge24.append(Row_25,ignore_index=True)\n",
        "merge26=merge25.append(Row_26,ignore_index=True)\n",
        "merge27=merge26.append(Row_27,ignore_index=True)\n",
        "merge28=merge27.append(Row_28,ignore_index=True)\n",
        "merge29=merge28.append(Row_29,ignore_index=True)\n",
        "merge30=merge29.append(Row_30,ignore_index=True)"
      ]
    },
    {
      "cell_type": "code",
      "execution_count": 37,
      "metadata": {
        "colab": {
          "base_uri": "https://localhost:8080/",
          "height": 1000
        },
        "id": "CWGLmngQkBAA",
        "outputId": "8abb5369-cf47-4045-a6ea-c4ad2607624c"
      },
      "outputs": [
        {
          "output_type": "execute_result",
          "data": {
            "text/plain": [
              "    Day0  Day1  Day2  Day3  Day4  Day5  Day6  Day7  Day8  Day9  ...  Day79  \\\n",
              "0     77    73    88    90    62    71    83    79    81    63  ...     84   \n",
              "1     74    47    58    63    77    88    82    53    92   101  ...     48   \n",
              "2     78    98    66    71    72    81    93    81    61    86  ...     70   \n",
              "3     64    65    86    69    42    65    73    94    73    48  ...    106   \n",
              "4     78    37    62    64    78    92    55    72    54    90  ...     45   \n",
              "5     71    57    37    88    98    37    46    47    65    89  ...     67   \n",
              "6     65    71    70    47    57    73    78    79    65    75  ...     84   \n",
              "7    102    68    71    83    56    71    85    54    97    84  ...     66   \n",
              "8     55    75    55    90    69   120    50    52    93    88  ...     58   \n",
              "9     58    76    93    80    80    81    61    74    73    74  ...     60   \n",
              "10    96    58    65    48    96    69    65    81    84    77  ...     72   \n",
              "11    81    75    86    70    46    58   109    75    50    73  ...     62   \n",
              "12    88    97    46    95    80    53    60    51    40    50  ...     74   \n",
              "13    58   103    51    80    65    92    95    62    54    73  ...     96   \n",
              "14    81    80    59    80    84    71    75    83    73    57  ...     87   \n",
              "15    35    52   117    80    83    64    65    81    69    68  ...     65   \n",
              "16    87    94    84    58    92    84    61    71   101    70  ...     74   \n",
              "17    88    65    78    75    70    67    77    63    93    68  ...     90   \n",
              "18    79    86    60    79    72    83    65    82    65    62  ...     86   \n",
              "19    65    86    86    65    75   102    47    93    86    64  ...     79   \n",
              "20    70    87   106   126    68    71    73    53    61    69  ...     83   \n",
              "21    60    48    97    53    81    54    74    77    93    69  ...     67   \n",
              "22    82    55    73    98    63    76    35   133    51    46  ...     75   \n",
              "23    82    54    97    94    95    79    67    72    89    74  ...     60   \n",
              "24    92    52    54    52    83    75    87    58    70    74  ...     53   \n",
              "25    81    86    75    51    71    95    64    85    69    77  ...     82   \n",
              "26    83    37    61   105    93    69    50    87    62    94  ...     92   \n",
              "27   103    64    71    64    54    88    70    54    54    79  ...     91   \n",
              "28    57    68    85    94    59    47    70    69    63    49  ...     84   \n",
              "29    46    75    41    58    62    60    69    83    67    39  ...     75   \n",
              "\n",
              "    Day80  Day81  Day82  Day83  Day84  Day85  Day86  Day87  Day88  \n",
              "0      79     73     82     45     55     66     61    131     76  \n",
              "1      66     72     58     97     82     67     63     59    105  \n",
              "2      67     57     66     81     57     55    102     74     63  \n",
              "3      46     52     87     78     84     80    102     57     61  \n",
              "4      79     72     76     77     45     91     59     79     93  \n",
              "5      77     80     91     57     78    120     92     69     94  \n",
              "6     103     99     65     61     87     72     49     57     84  \n",
              "7      86     68     64     57     63     58     93     59     84  \n",
              "8      72     60     49     79     68     67     78    124     71  \n",
              "9      92     92     72     86     95     72     57     63     66  \n",
              "10     88     94     70     85     64     59     62     68     70  \n",
              "11     49     67     92     61     55     87     51     59     77  \n",
              "12     42     68     93     97     68     70     91    107     81  \n",
              "13     44     73     75     67     54     65     87     72     61  \n",
              "14     78     69     53     79    100     97     67     75    106  \n",
              "15     79     44     91     91     74     82     60     84     65  \n",
              "16     77     78     81     69     55     59     83     59     60  \n",
              "17     73     57     88     83     84     67     59     83     74  \n",
              "18     74     64     74     75     74     55     78     75     70  \n",
              "19     87    107     65     88     69     73    116     68     67  \n",
              "20     76     74     65     84     67     54    103     84     91  \n",
              "21     66     76     89     38     78     66     83     73     85  \n",
              "22     87     61     77     81     61     64     58     61     77  \n",
              "23     84     84     89     94     57     94     85     54     86  \n",
              "24     77     52     69     39     31     45     90     69     62  \n",
              "25     61     82     76     63     46     66    102     66    107  \n",
              "26     78     75     77     71     85     59     81     94     51  \n",
              "27     45     95     74     60     65     65     66     51     77  \n",
              "28     59     75     67     84     67     83     71     61     47  \n",
              "29     72     84     63    109     66     76     96     82     84  \n",
              "\n",
              "[30 rows x 89 columns]"
            ],
            "text/html": [
              "\n",
              "  <div id=\"df-6f3a989f-ac1d-40d8-8aa1-6a201ff63e44\">\n",
              "    <div class=\"colab-df-container\">\n",
              "      <div>\n",
              "<style scoped>\n",
              "    .dataframe tbody tr th:only-of-type {\n",
              "        vertical-align: middle;\n",
              "    }\n",
              "\n",
              "    .dataframe tbody tr th {\n",
              "        vertical-align: top;\n",
              "    }\n",
              "\n",
              "    .dataframe thead th {\n",
              "        text-align: right;\n",
              "    }\n",
              "</style>\n",
              "<table border=\"1\" class=\"dataframe\">\n",
              "  <thead>\n",
              "    <tr style=\"text-align: right;\">\n",
              "      <th></th>\n",
              "      <th>Day0</th>\n",
              "      <th>Day1</th>\n",
              "      <th>Day2</th>\n",
              "      <th>Day3</th>\n",
              "      <th>Day4</th>\n",
              "      <th>Day5</th>\n",
              "      <th>Day6</th>\n",
              "      <th>Day7</th>\n",
              "      <th>Day8</th>\n",
              "      <th>Day9</th>\n",
              "      <th>...</th>\n",
              "      <th>Day79</th>\n",
              "      <th>Day80</th>\n",
              "      <th>Day81</th>\n",
              "      <th>Day82</th>\n",
              "      <th>Day83</th>\n",
              "      <th>Day84</th>\n",
              "      <th>Day85</th>\n",
              "      <th>Day86</th>\n",
              "      <th>Day87</th>\n",
              "      <th>Day88</th>\n",
              "    </tr>\n",
              "  </thead>\n",
              "  <tbody>\n",
              "    <tr>\n",
              "      <th>0</th>\n",
              "      <td>77</td>\n",
              "      <td>73</td>\n",
              "      <td>88</td>\n",
              "      <td>90</td>\n",
              "      <td>62</td>\n",
              "      <td>71</td>\n",
              "      <td>83</td>\n",
              "      <td>79</td>\n",
              "      <td>81</td>\n",
              "      <td>63</td>\n",
              "      <td>...</td>\n",
              "      <td>84</td>\n",
              "      <td>79</td>\n",
              "      <td>73</td>\n",
              "      <td>82</td>\n",
              "      <td>45</td>\n",
              "      <td>55</td>\n",
              "      <td>66</td>\n",
              "      <td>61</td>\n",
              "      <td>131</td>\n",
              "      <td>76</td>\n",
              "    </tr>\n",
              "    <tr>\n",
              "      <th>1</th>\n",
              "      <td>74</td>\n",
              "      <td>47</td>\n",
              "      <td>58</td>\n",
              "      <td>63</td>\n",
              "      <td>77</td>\n",
              "      <td>88</td>\n",
              "      <td>82</td>\n",
              "      <td>53</td>\n",
              "      <td>92</td>\n",
              "      <td>101</td>\n",
              "      <td>...</td>\n",
              "      <td>48</td>\n",
              "      <td>66</td>\n",
              "      <td>72</td>\n",
              "      <td>58</td>\n",
              "      <td>97</td>\n",
              "      <td>82</td>\n",
              "      <td>67</td>\n",
              "      <td>63</td>\n",
              "      <td>59</td>\n",
              "      <td>105</td>\n",
              "    </tr>\n",
              "    <tr>\n",
              "      <th>2</th>\n",
              "      <td>78</td>\n",
              "      <td>98</td>\n",
              "      <td>66</td>\n",
              "      <td>71</td>\n",
              "      <td>72</td>\n",
              "      <td>81</td>\n",
              "      <td>93</td>\n",
              "      <td>81</td>\n",
              "      <td>61</td>\n",
              "      <td>86</td>\n",
              "      <td>...</td>\n",
              "      <td>70</td>\n",
              "      <td>67</td>\n",
              "      <td>57</td>\n",
              "      <td>66</td>\n",
              "      <td>81</td>\n",
              "      <td>57</td>\n",
              "      <td>55</td>\n",
              "      <td>102</td>\n",
              "      <td>74</td>\n",
              "      <td>63</td>\n",
              "    </tr>\n",
              "    <tr>\n",
              "      <th>3</th>\n",
              "      <td>64</td>\n",
              "      <td>65</td>\n",
              "      <td>86</td>\n",
              "      <td>69</td>\n",
              "      <td>42</td>\n",
              "      <td>65</td>\n",
              "      <td>73</td>\n",
              "      <td>94</td>\n",
              "      <td>73</td>\n",
              "      <td>48</td>\n",
              "      <td>...</td>\n",
              "      <td>106</td>\n",
              "      <td>46</td>\n",
              "      <td>52</td>\n",
              "      <td>87</td>\n",
              "      <td>78</td>\n",
              "      <td>84</td>\n",
              "      <td>80</td>\n",
              "      <td>102</td>\n",
              "      <td>57</td>\n",
              "      <td>61</td>\n",
              "    </tr>\n",
              "    <tr>\n",
              "      <th>4</th>\n",
              "      <td>78</td>\n",
              "      <td>37</td>\n",
              "      <td>62</td>\n",
              "      <td>64</td>\n",
              "      <td>78</td>\n",
              "      <td>92</td>\n",
              "      <td>55</td>\n",
              "      <td>72</td>\n",
              "      <td>54</td>\n",
              "      <td>90</td>\n",
              "      <td>...</td>\n",
              "      <td>45</td>\n",
              "      <td>79</td>\n",
              "      <td>72</td>\n",
              "      <td>76</td>\n",
              "      <td>77</td>\n",
              "      <td>45</td>\n",
              "      <td>91</td>\n",
              "      <td>59</td>\n",
              "      <td>79</td>\n",
              "      <td>93</td>\n",
              "    </tr>\n",
              "    <tr>\n",
              "      <th>5</th>\n",
              "      <td>71</td>\n",
              "      <td>57</td>\n",
              "      <td>37</td>\n",
              "      <td>88</td>\n",
              "      <td>98</td>\n",
              "      <td>37</td>\n",
              "      <td>46</td>\n",
              "      <td>47</td>\n",
              "      <td>65</td>\n",
              "      <td>89</td>\n",
              "      <td>...</td>\n",
              "      <td>67</td>\n",
              "      <td>77</td>\n",
              "      <td>80</td>\n",
              "      <td>91</td>\n",
              "      <td>57</td>\n",
              "      <td>78</td>\n",
              "      <td>120</td>\n",
              "      <td>92</td>\n",
              "      <td>69</td>\n",
              "      <td>94</td>\n",
              "    </tr>\n",
              "    <tr>\n",
              "      <th>6</th>\n",
              "      <td>65</td>\n",
              "      <td>71</td>\n",
              "      <td>70</td>\n",
              "      <td>47</td>\n",
              "      <td>57</td>\n",
              "      <td>73</td>\n",
              "      <td>78</td>\n",
              "      <td>79</td>\n",
              "      <td>65</td>\n",
              "      <td>75</td>\n",
              "      <td>...</td>\n",
              "      <td>84</td>\n",
              "      <td>103</td>\n",
              "      <td>99</td>\n",
              "      <td>65</td>\n",
              "      <td>61</td>\n",
              "      <td>87</td>\n",
              "      <td>72</td>\n",
              "      <td>49</td>\n",
              "      <td>57</td>\n",
              "      <td>84</td>\n",
              "    </tr>\n",
              "    <tr>\n",
              "      <th>7</th>\n",
              "      <td>102</td>\n",
              "      <td>68</td>\n",
              "      <td>71</td>\n",
              "      <td>83</td>\n",
              "      <td>56</td>\n",
              "      <td>71</td>\n",
              "      <td>85</td>\n",
              "      <td>54</td>\n",
              "      <td>97</td>\n",
              "      <td>84</td>\n",
              "      <td>...</td>\n",
              "      <td>66</td>\n",
              "      <td>86</td>\n",
              "      <td>68</td>\n",
              "      <td>64</td>\n",
              "      <td>57</td>\n",
              "      <td>63</td>\n",
              "      <td>58</td>\n",
              "      <td>93</td>\n",
              "      <td>59</td>\n",
              "      <td>84</td>\n",
              "    </tr>\n",
              "    <tr>\n",
              "      <th>8</th>\n",
              "      <td>55</td>\n",
              "      <td>75</td>\n",
              "      <td>55</td>\n",
              "      <td>90</td>\n",
              "      <td>69</td>\n",
              "      <td>120</td>\n",
              "      <td>50</td>\n",
              "      <td>52</td>\n",
              "      <td>93</td>\n",
              "      <td>88</td>\n",
              "      <td>...</td>\n",
              "      <td>58</td>\n",
              "      <td>72</td>\n",
              "      <td>60</td>\n",
              "      <td>49</td>\n",
              "      <td>79</td>\n",
              "      <td>68</td>\n",
              "      <td>67</td>\n",
              "      <td>78</td>\n",
              "      <td>124</td>\n",
              "      <td>71</td>\n",
              "    </tr>\n",
              "    <tr>\n",
              "      <th>9</th>\n",
              "      <td>58</td>\n",
              "      <td>76</td>\n",
              "      <td>93</td>\n",
              "      <td>80</td>\n",
              "      <td>80</td>\n",
              "      <td>81</td>\n",
              "      <td>61</td>\n",
              "      <td>74</td>\n",
              "      <td>73</td>\n",
              "      <td>74</td>\n",
              "      <td>...</td>\n",
              "      <td>60</td>\n",
              "      <td>92</td>\n",
              "      <td>92</td>\n",
              "      <td>72</td>\n",
              "      <td>86</td>\n",
              "      <td>95</td>\n",
              "      <td>72</td>\n",
              "      <td>57</td>\n",
              "      <td>63</td>\n",
              "      <td>66</td>\n",
              "    </tr>\n",
              "    <tr>\n",
              "      <th>10</th>\n",
              "      <td>96</td>\n",
              "      <td>58</td>\n",
              "      <td>65</td>\n",
              "      <td>48</td>\n",
              "      <td>96</td>\n",
              "      <td>69</td>\n",
              "      <td>65</td>\n",
              "      <td>81</td>\n",
              "      <td>84</td>\n",
              "      <td>77</td>\n",
              "      <td>...</td>\n",
              "      <td>72</td>\n",
              "      <td>88</td>\n",
              "      <td>94</td>\n",
              "      <td>70</td>\n",
              "      <td>85</td>\n",
              "      <td>64</td>\n",
              "      <td>59</td>\n",
              "      <td>62</td>\n",
              "      <td>68</td>\n",
              "      <td>70</td>\n",
              "    </tr>\n",
              "    <tr>\n",
              "      <th>11</th>\n",
              "      <td>81</td>\n",
              "      <td>75</td>\n",
              "      <td>86</td>\n",
              "      <td>70</td>\n",
              "      <td>46</td>\n",
              "      <td>58</td>\n",
              "      <td>109</td>\n",
              "      <td>75</td>\n",
              "      <td>50</td>\n",
              "      <td>73</td>\n",
              "      <td>...</td>\n",
              "      <td>62</td>\n",
              "      <td>49</td>\n",
              "      <td>67</td>\n",
              "      <td>92</td>\n",
              "      <td>61</td>\n",
              "      <td>55</td>\n",
              "      <td>87</td>\n",
              "      <td>51</td>\n",
              "      <td>59</td>\n",
              "      <td>77</td>\n",
              "    </tr>\n",
              "    <tr>\n",
              "      <th>12</th>\n",
              "      <td>88</td>\n",
              "      <td>97</td>\n",
              "      <td>46</td>\n",
              "      <td>95</td>\n",
              "      <td>80</td>\n",
              "      <td>53</td>\n",
              "      <td>60</td>\n",
              "      <td>51</td>\n",
              "      <td>40</td>\n",
              "      <td>50</td>\n",
              "      <td>...</td>\n",
              "      <td>74</td>\n",
              "      <td>42</td>\n",
              "      <td>68</td>\n",
              "      <td>93</td>\n",
              "      <td>97</td>\n",
              "      <td>68</td>\n",
              "      <td>70</td>\n",
              "      <td>91</td>\n",
              "      <td>107</td>\n",
              "      <td>81</td>\n",
              "    </tr>\n",
              "    <tr>\n",
              "      <th>13</th>\n",
              "      <td>58</td>\n",
              "      <td>103</td>\n",
              "      <td>51</td>\n",
              "      <td>80</td>\n",
              "      <td>65</td>\n",
              "      <td>92</td>\n",
              "      <td>95</td>\n",
              "      <td>62</td>\n",
              "      <td>54</td>\n",
              "      <td>73</td>\n",
              "      <td>...</td>\n",
              "      <td>96</td>\n",
              "      <td>44</td>\n",
              "      <td>73</td>\n",
              "      <td>75</td>\n",
              "      <td>67</td>\n",
              "      <td>54</td>\n",
              "      <td>65</td>\n",
              "      <td>87</td>\n",
              "      <td>72</td>\n",
              "      <td>61</td>\n",
              "    </tr>\n",
              "    <tr>\n",
              "      <th>14</th>\n",
              "      <td>81</td>\n",
              "      <td>80</td>\n",
              "      <td>59</td>\n",
              "      <td>80</td>\n",
              "      <td>84</td>\n",
              "      <td>71</td>\n",
              "      <td>75</td>\n",
              "      <td>83</td>\n",
              "      <td>73</td>\n",
              "      <td>57</td>\n",
              "      <td>...</td>\n",
              "      <td>87</td>\n",
              "      <td>78</td>\n",
              "      <td>69</td>\n",
              "      <td>53</td>\n",
              "      <td>79</td>\n",
              "      <td>100</td>\n",
              "      <td>97</td>\n",
              "      <td>67</td>\n",
              "      <td>75</td>\n",
              "      <td>106</td>\n",
              "    </tr>\n",
              "    <tr>\n",
              "      <th>15</th>\n",
              "      <td>35</td>\n",
              "      <td>52</td>\n",
              "      <td>117</td>\n",
              "      <td>80</td>\n",
              "      <td>83</td>\n",
              "      <td>64</td>\n",
              "      <td>65</td>\n",
              "      <td>81</td>\n",
              "      <td>69</td>\n",
              "      <td>68</td>\n",
              "      <td>...</td>\n",
              "      <td>65</td>\n",
              "      <td>79</td>\n",
              "      <td>44</td>\n",
              "      <td>91</td>\n",
              "      <td>91</td>\n",
              "      <td>74</td>\n",
              "      <td>82</td>\n",
              "      <td>60</td>\n",
              "      <td>84</td>\n",
              "      <td>65</td>\n",
              "    </tr>\n",
              "    <tr>\n",
              "      <th>16</th>\n",
              "      <td>87</td>\n",
              "      <td>94</td>\n",
              "      <td>84</td>\n",
              "      <td>58</td>\n",
              "      <td>92</td>\n",
              "      <td>84</td>\n",
              "      <td>61</td>\n",
              "      <td>71</td>\n",
              "      <td>101</td>\n",
              "      <td>70</td>\n",
              "      <td>...</td>\n",
              "      <td>74</td>\n",
              "      <td>77</td>\n",
              "      <td>78</td>\n",
              "      <td>81</td>\n",
              "      <td>69</td>\n",
              "      <td>55</td>\n",
              "      <td>59</td>\n",
              "      <td>83</td>\n",
              "      <td>59</td>\n",
              "      <td>60</td>\n",
              "    </tr>\n",
              "    <tr>\n",
              "      <th>17</th>\n",
              "      <td>88</td>\n",
              "      <td>65</td>\n",
              "      <td>78</td>\n",
              "      <td>75</td>\n",
              "      <td>70</td>\n",
              "      <td>67</td>\n",
              "      <td>77</td>\n",
              "      <td>63</td>\n",
              "      <td>93</td>\n",
              "      <td>68</td>\n",
              "      <td>...</td>\n",
              "      <td>90</td>\n",
              "      <td>73</td>\n",
              "      <td>57</td>\n",
              "      <td>88</td>\n",
              "      <td>83</td>\n",
              "      <td>84</td>\n",
              "      <td>67</td>\n",
              "      <td>59</td>\n",
              "      <td>83</td>\n",
              "      <td>74</td>\n",
              "    </tr>\n",
              "    <tr>\n",
              "      <th>18</th>\n",
              "      <td>79</td>\n",
              "      <td>86</td>\n",
              "      <td>60</td>\n",
              "      <td>79</td>\n",
              "      <td>72</td>\n",
              "      <td>83</td>\n",
              "      <td>65</td>\n",
              "      <td>82</td>\n",
              "      <td>65</td>\n",
              "      <td>62</td>\n",
              "      <td>...</td>\n",
              "      <td>86</td>\n",
              "      <td>74</td>\n",
              "      <td>64</td>\n",
              "      <td>74</td>\n",
              "      <td>75</td>\n",
              "      <td>74</td>\n",
              "      <td>55</td>\n",
              "      <td>78</td>\n",
              "      <td>75</td>\n",
              "      <td>70</td>\n",
              "    </tr>\n",
              "    <tr>\n",
              "      <th>19</th>\n",
              "      <td>65</td>\n",
              "      <td>86</td>\n",
              "      <td>86</td>\n",
              "      <td>65</td>\n",
              "      <td>75</td>\n",
              "      <td>102</td>\n",
              "      <td>47</td>\n",
              "      <td>93</td>\n",
              "      <td>86</td>\n",
              "      <td>64</td>\n",
              "      <td>...</td>\n",
              "      <td>79</td>\n",
              "      <td>87</td>\n",
              "      <td>107</td>\n",
              "      <td>65</td>\n",
              "      <td>88</td>\n",
              "      <td>69</td>\n",
              "      <td>73</td>\n",
              "      <td>116</td>\n",
              "      <td>68</td>\n",
              "      <td>67</td>\n",
              "    </tr>\n",
              "    <tr>\n",
              "      <th>20</th>\n",
              "      <td>70</td>\n",
              "      <td>87</td>\n",
              "      <td>106</td>\n",
              "      <td>126</td>\n",
              "      <td>68</td>\n",
              "      <td>71</td>\n",
              "      <td>73</td>\n",
              "      <td>53</td>\n",
              "      <td>61</td>\n",
              "      <td>69</td>\n",
              "      <td>...</td>\n",
              "      <td>83</td>\n",
              "      <td>76</td>\n",
              "      <td>74</td>\n",
              "      <td>65</td>\n",
              "      <td>84</td>\n",
              "      <td>67</td>\n",
              "      <td>54</td>\n",
              "      <td>103</td>\n",
              "      <td>84</td>\n",
              "      <td>91</td>\n",
              "    </tr>\n",
              "    <tr>\n",
              "      <th>21</th>\n",
              "      <td>60</td>\n",
              "      <td>48</td>\n",
              "      <td>97</td>\n",
              "      <td>53</td>\n",
              "      <td>81</td>\n",
              "      <td>54</td>\n",
              "      <td>74</td>\n",
              "      <td>77</td>\n",
              "      <td>93</td>\n",
              "      <td>69</td>\n",
              "      <td>...</td>\n",
              "      <td>67</td>\n",
              "      <td>66</td>\n",
              "      <td>76</td>\n",
              "      <td>89</td>\n",
              "      <td>38</td>\n",
              "      <td>78</td>\n",
              "      <td>66</td>\n",
              "      <td>83</td>\n",
              "      <td>73</td>\n",
              "      <td>85</td>\n",
              "    </tr>\n",
              "    <tr>\n",
              "      <th>22</th>\n",
              "      <td>82</td>\n",
              "      <td>55</td>\n",
              "      <td>73</td>\n",
              "      <td>98</td>\n",
              "      <td>63</td>\n",
              "      <td>76</td>\n",
              "      <td>35</td>\n",
              "      <td>133</td>\n",
              "      <td>51</td>\n",
              "      <td>46</td>\n",
              "      <td>...</td>\n",
              "      <td>75</td>\n",
              "      <td>87</td>\n",
              "      <td>61</td>\n",
              "      <td>77</td>\n",
              "      <td>81</td>\n",
              "      <td>61</td>\n",
              "      <td>64</td>\n",
              "      <td>58</td>\n",
              "      <td>61</td>\n",
              "      <td>77</td>\n",
              "    </tr>\n",
              "    <tr>\n",
              "      <th>23</th>\n",
              "      <td>82</td>\n",
              "      <td>54</td>\n",
              "      <td>97</td>\n",
              "      <td>94</td>\n",
              "      <td>95</td>\n",
              "      <td>79</td>\n",
              "      <td>67</td>\n",
              "      <td>72</td>\n",
              "      <td>89</td>\n",
              "      <td>74</td>\n",
              "      <td>...</td>\n",
              "      <td>60</td>\n",
              "      <td>84</td>\n",
              "      <td>84</td>\n",
              "      <td>89</td>\n",
              "      <td>94</td>\n",
              "      <td>57</td>\n",
              "      <td>94</td>\n",
              "      <td>85</td>\n",
              "      <td>54</td>\n",
              "      <td>86</td>\n",
              "    </tr>\n",
              "    <tr>\n",
              "      <th>24</th>\n",
              "      <td>92</td>\n",
              "      <td>52</td>\n",
              "      <td>54</td>\n",
              "      <td>52</td>\n",
              "      <td>83</td>\n",
              "      <td>75</td>\n",
              "      <td>87</td>\n",
              "      <td>58</td>\n",
              "      <td>70</td>\n",
              "      <td>74</td>\n",
              "      <td>...</td>\n",
              "      <td>53</td>\n",
              "      <td>77</td>\n",
              "      <td>52</td>\n",
              "      <td>69</td>\n",
              "      <td>39</td>\n",
              "      <td>31</td>\n",
              "      <td>45</td>\n",
              "      <td>90</td>\n",
              "      <td>69</td>\n",
              "      <td>62</td>\n",
              "    </tr>\n",
              "    <tr>\n",
              "      <th>25</th>\n",
              "      <td>81</td>\n",
              "      <td>86</td>\n",
              "      <td>75</td>\n",
              "      <td>51</td>\n",
              "      <td>71</td>\n",
              "      <td>95</td>\n",
              "      <td>64</td>\n",
              "      <td>85</td>\n",
              "      <td>69</td>\n",
              "      <td>77</td>\n",
              "      <td>...</td>\n",
              "      <td>82</td>\n",
              "      <td>61</td>\n",
              "      <td>82</td>\n",
              "      <td>76</td>\n",
              "      <td>63</td>\n",
              "      <td>46</td>\n",
              "      <td>66</td>\n",
              "      <td>102</td>\n",
              "      <td>66</td>\n",
              "      <td>107</td>\n",
              "    </tr>\n",
              "    <tr>\n",
              "      <th>26</th>\n",
              "      <td>83</td>\n",
              "      <td>37</td>\n",
              "      <td>61</td>\n",
              "      <td>105</td>\n",
              "      <td>93</td>\n",
              "      <td>69</td>\n",
              "      <td>50</td>\n",
              "      <td>87</td>\n",
              "      <td>62</td>\n",
              "      <td>94</td>\n",
              "      <td>...</td>\n",
              "      <td>92</td>\n",
              "      <td>78</td>\n",
              "      <td>75</td>\n",
              "      <td>77</td>\n",
              "      <td>71</td>\n",
              "      <td>85</td>\n",
              "      <td>59</td>\n",
              "      <td>81</td>\n",
              "      <td>94</td>\n",
              "      <td>51</td>\n",
              "    </tr>\n",
              "    <tr>\n",
              "      <th>27</th>\n",
              "      <td>103</td>\n",
              "      <td>64</td>\n",
              "      <td>71</td>\n",
              "      <td>64</td>\n",
              "      <td>54</td>\n",
              "      <td>88</td>\n",
              "      <td>70</td>\n",
              "      <td>54</td>\n",
              "      <td>54</td>\n",
              "      <td>79</td>\n",
              "      <td>...</td>\n",
              "      <td>91</td>\n",
              "      <td>45</td>\n",
              "      <td>95</td>\n",
              "      <td>74</td>\n",
              "      <td>60</td>\n",
              "      <td>65</td>\n",
              "      <td>65</td>\n",
              "      <td>66</td>\n",
              "      <td>51</td>\n",
              "      <td>77</td>\n",
              "    </tr>\n",
              "    <tr>\n",
              "      <th>28</th>\n",
              "      <td>57</td>\n",
              "      <td>68</td>\n",
              "      <td>85</td>\n",
              "      <td>94</td>\n",
              "      <td>59</td>\n",
              "      <td>47</td>\n",
              "      <td>70</td>\n",
              "      <td>69</td>\n",
              "      <td>63</td>\n",
              "      <td>49</td>\n",
              "      <td>...</td>\n",
              "      <td>84</td>\n",
              "      <td>59</td>\n",
              "      <td>75</td>\n",
              "      <td>67</td>\n",
              "      <td>84</td>\n",
              "      <td>67</td>\n",
              "      <td>83</td>\n",
              "      <td>71</td>\n",
              "      <td>61</td>\n",
              "      <td>47</td>\n",
              "    </tr>\n",
              "    <tr>\n",
              "      <th>29</th>\n",
              "      <td>46</td>\n",
              "      <td>75</td>\n",
              "      <td>41</td>\n",
              "      <td>58</td>\n",
              "      <td>62</td>\n",
              "      <td>60</td>\n",
              "      <td>69</td>\n",
              "      <td>83</td>\n",
              "      <td>67</td>\n",
              "      <td>39</td>\n",
              "      <td>...</td>\n",
              "      <td>75</td>\n",
              "      <td>72</td>\n",
              "      <td>84</td>\n",
              "      <td>63</td>\n",
              "      <td>109</td>\n",
              "      <td>66</td>\n",
              "      <td>76</td>\n",
              "      <td>96</td>\n",
              "      <td>82</td>\n",
              "      <td>84</td>\n",
              "    </tr>\n",
              "  </tbody>\n",
              "</table>\n",
              "<p>30 rows × 89 columns</p>\n",
              "</div>\n",
              "      <button class=\"colab-df-convert\" onclick=\"convertToInteractive('df-6f3a989f-ac1d-40d8-8aa1-6a201ff63e44')\"\n",
              "              title=\"Convert this dataframe to an interactive table.\"\n",
              "              style=\"display:none;\">\n",
              "        \n",
              "  <svg xmlns=\"http://www.w3.org/2000/svg\" height=\"24px\"viewBox=\"0 0 24 24\"\n",
              "       width=\"24px\">\n",
              "    <path d=\"M0 0h24v24H0V0z\" fill=\"none\"/>\n",
              "    <path d=\"M18.56 5.44l.94 2.06.94-2.06 2.06-.94-2.06-.94-.94-2.06-.94 2.06-2.06.94zm-11 1L8.5 8.5l.94-2.06 2.06-.94-2.06-.94L8.5 2.5l-.94 2.06-2.06.94zm10 10l.94 2.06.94-2.06 2.06-.94-2.06-.94-.94-2.06-.94 2.06-2.06.94z\"/><path d=\"M17.41 7.96l-1.37-1.37c-.4-.4-.92-.59-1.43-.59-.52 0-1.04.2-1.43.59L10.3 9.45l-7.72 7.72c-.78.78-.78 2.05 0 2.83L4 21.41c.39.39.9.59 1.41.59.51 0 1.02-.2 1.41-.59l7.78-7.78 2.81-2.81c.8-.78.8-2.07 0-2.86zM5.41 20L4 18.59l7.72-7.72 1.47 1.35L5.41 20z\"/>\n",
              "  </svg>\n",
              "      </button>\n",
              "      \n",
              "  <style>\n",
              "    .colab-df-container {\n",
              "      display:flex;\n",
              "      flex-wrap:wrap;\n",
              "      gap: 12px;\n",
              "    }\n",
              "\n",
              "    .colab-df-convert {\n",
              "      background-color: #E8F0FE;\n",
              "      border: none;\n",
              "      border-radius: 50%;\n",
              "      cursor: pointer;\n",
              "      display: none;\n",
              "      fill: #1967D2;\n",
              "      height: 32px;\n",
              "      padding: 0 0 0 0;\n",
              "      width: 32px;\n",
              "    }\n",
              "\n",
              "    .colab-df-convert:hover {\n",
              "      background-color: #E2EBFA;\n",
              "      box-shadow: 0px 1px 2px rgba(60, 64, 67, 0.3), 0px 1px 3px 1px rgba(60, 64, 67, 0.15);\n",
              "      fill: #174EA6;\n",
              "    }\n",
              "\n",
              "    [theme=dark] .colab-df-convert {\n",
              "      background-color: #3B4455;\n",
              "      fill: #D2E3FC;\n",
              "    }\n",
              "\n",
              "    [theme=dark] .colab-df-convert:hover {\n",
              "      background-color: #434B5C;\n",
              "      box-shadow: 0px 1px 3px 1px rgba(0, 0, 0, 0.15);\n",
              "      filter: drop-shadow(0px 1px 2px rgba(0, 0, 0, 0.3));\n",
              "      fill: #FFFFFF;\n",
              "    }\n",
              "  </style>\n",
              "\n",
              "      <script>\n",
              "        const buttonEl =\n",
              "          document.querySelector('#df-6f3a989f-ac1d-40d8-8aa1-6a201ff63e44 button.colab-df-convert');\n",
              "        buttonEl.style.display =\n",
              "          google.colab.kernel.accessAllowed ? 'block' : 'none';\n",
              "\n",
              "        async function convertToInteractive(key) {\n",
              "          const element = document.querySelector('#df-6f3a989f-ac1d-40d8-8aa1-6a201ff63e44');\n",
              "          const dataTable =\n",
              "            await google.colab.kernel.invokeFunction('convertToInteractive',\n",
              "                                                     [key], {});\n",
              "          if (!dataTable) return;\n",
              "\n",
              "          const docLinkHtml = 'Like what you see? Visit the ' +\n",
              "            '<a target=\"_blank\" href=https://colab.research.google.com/notebooks/data_table.ipynb>data table notebook</a>'\n",
              "            + ' to learn more about interactive tables.';\n",
              "          element.innerHTML = '';\n",
              "          dataTable['output_type'] = 'display_data';\n",
              "          await google.colab.output.renderOutput(dataTable, element);\n",
              "          const docLink = document.createElement('div');\n",
              "          docLink.innerHTML = docLinkHtml;\n",
              "          element.appendChild(docLink);\n",
              "        }\n",
              "      </script>\n",
              "    </div>\n",
              "  </div>\n",
              "  "
            ]
          },
          "metadata": {},
          "execution_count": 37
        }
      ],
      "source": [
        "merge30"
      ]
    },
    {
      "cell_type": "markdown",
      "metadata": {
        "id": "LfG5Rp6ckBAA"
      },
      "source": [
        "### Month-wise Aggregated values from April_2015 till Sept_2017"
      ]
    },
    {
      "cell_type": "code",
      "execution_count": 38,
      "metadata": {
        "id": "8uRoOnAzkBAB"
      },
      "outputs": [],
      "source": [
        "monthlyquantity = daily_Sales.groupby([(daily_Sales.index.year), (daily_Sales.index.month)])['Order Item Quantity'].sum().astype(int)\n",
        "monthlydiscount = daily_Sales.groupby([(daily_Sales.index.year), (daily_Sales.index.month)])['Order Item Discount'].sum().astype(int)"
      ]
    },
    {
      "cell_type": "code",
      "execution_count": 39,
      "metadata": {
        "colab": {
          "base_uri": "https://localhost:8080/"
        },
        "id": "3q4-K6BikBAB",
        "outputId": "013e28a0-8d28-47ce-8161-3a6273e3b76a"
      },
      "outputs": [
        {
          "output_type": "execute_result",
          "data": {
            "text/plain": [
              "Date  Date\n",
              "2015  1       14579\n",
              "      2       12243\n",
              "      3       14225\n",
              "      4       13302\n",
              "      5       13479\n",
              "Name: Order Item Discount, dtype: int64"
            ]
          },
          "metadata": {},
          "execution_count": 39
        }
      ],
      "source": [
        "monthlydiscount.head()"
      ]
    },
    {
      "cell_type": "markdown",
      "metadata": {
        "id": "VnPlbGtXkBAC"
      },
      "source": [
        "### Convert into a dataframe"
      ]
    },
    {
      "cell_type": "code",
      "execution_count": 40,
      "metadata": {
        "id": "wsQ1vA26kBAC"
      },
      "outputs": [],
      "source": [
        "Monthly_Quantity=pd.DataFrame(monthlyquantity)\n",
        "Monthly_Discount=pd.DataFrame(monthlydiscount)"
      ]
    },
    {
      "cell_type": "code",
      "execution_count": 41,
      "metadata": {
        "id": "DBFXcT8vkBAC"
      },
      "outputs": [],
      "source": [
        "a = Monthly_Quantity.index.get_level_values(0)\n",
        "b = Monthly_Quantity.index.get_level_values(1)\n",
        "c = Monthly_Discount.index.get_level_values(0)\n",
        "e = Monthly_Discount.index.get_level_values(1)"
      ]
    },
    {
      "cell_type": "code",
      "execution_count": 42,
      "metadata": {
        "id": "1M7tSbMpkBAC"
      },
      "outputs": [],
      "source": [
        "Monthly_Quantity['Index'] = pd.to_datetime(a* 10000 + b * 100 + 1, format=\"%Y%m%d\")\n",
        "Monthly_Discount['Index'] = pd.to_datetime(c* 10000 + e * 100 + 1, format=\"%Y%m%d\")"
      ]
    },
    {
      "cell_type": "code",
      "execution_count": 43,
      "metadata": {
        "id": "-3S8k0JCkBAD"
      },
      "outputs": [],
      "source": [
        "Monthly_Quantity.set_index('Index', append=True, inplace=True)\n",
        "Monthly_Discount.set_index('Index', append=True, inplace=True)"
      ]
    },
    {
      "cell_type": "code",
      "execution_count": 44,
      "metadata": {
        "id": "o_rRW6z6kBAD"
      },
      "outputs": [],
      "source": [
        "Monthly_Quantity=Monthly_Quantity.droplevel(0)\n",
        "Monthly_Quantity=Monthly_Quantity.droplevel(0)\n",
        "Monthly_Discount=Monthly_Discount.droplevel(0)\n",
        "Monthly_Discount=Monthly_Discount.droplevel(0)"
      ]
    },
    {
      "cell_type": "code",
      "execution_count": 45,
      "metadata": {
        "colab": {
          "base_uri": "https://localhost:8080/",
          "height": 1000
        },
        "id": "fLIFBnaukBAD",
        "outputId": "e95dbe12-1f4f-43dc-dcba-a34a80f38adc"
      },
      "outputs": [
        {
          "output_type": "execute_result",
          "data": {
            "text/plain": [
              "            Order Item Quantity\n",
              "Index                          \n",
              "2015-01-01                 2390\n",
              "2015-02-01                 2005\n",
              "2015-03-01                 2355\n",
              "2015-04-01                 2187\n",
              "2015-05-01                 2220\n",
              "2015-06-01                 2142\n",
              "2015-07-01                 2274\n",
              "2015-08-01                 2411\n",
              "2015-09-01                 2177\n",
              "2015-10-01                 2171\n",
              "2015-11-01                 2205\n",
              "2015-12-01                 2218\n",
              "2016-01-01                 2188\n",
              "2016-02-01                 2047\n",
              "2016-03-01                 2401\n",
              "2016-04-01                 2225\n",
              "2016-05-01                 2432\n",
              "2016-06-01                 2181\n",
              "2016-07-01                 2228\n",
              "2016-08-01                 2311\n",
              "2016-09-01                 2224\n",
              "2016-10-01                 2278\n",
              "2016-11-01                 2260\n",
              "2016-12-01                 2361\n",
              "2017-01-01                 2270\n",
              "2017-02-01                 2136\n",
              "2017-03-01                 2215\n",
              "2017-04-01                 2224\n",
              "2017-05-01                 2218\n",
              "2017-06-01                 1934\n",
              "2017-07-01                 2305\n",
              "2017-08-01                 2313\n",
              "2017-09-01                 2108\n",
              "2017-10-01                  120"
            ],
            "text/html": [
              "\n",
              "  <div id=\"df-ea35e67a-3335-4d97-9380-6e3e03bde5eb\">\n",
              "    <div class=\"colab-df-container\">\n",
              "      <div>\n",
              "<style scoped>\n",
              "    .dataframe tbody tr th:only-of-type {\n",
              "        vertical-align: middle;\n",
              "    }\n",
              "\n",
              "    .dataframe tbody tr th {\n",
              "        vertical-align: top;\n",
              "    }\n",
              "\n",
              "    .dataframe thead th {\n",
              "        text-align: right;\n",
              "    }\n",
              "</style>\n",
              "<table border=\"1\" class=\"dataframe\">\n",
              "  <thead>\n",
              "    <tr style=\"text-align: right;\">\n",
              "      <th></th>\n",
              "      <th>Order Item Quantity</th>\n",
              "    </tr>\n",
              "    <tr>\n",
              "      <th>Index</th>\n",
              "      <th></th>\n",
              "    </tr>\n",
              "  </thead>\n",
              "  <tbody>\n",
              "    <tr>\n",
              "      <th>2015-01-01</th>\n",
              "      <td>2390</td>\n",
              "    </tr>\n",
              "    <tr>\n",
              "      <th>2015-02-01</th>\n",
              "      <td>2005</td>\n",
              "    </tr>\n",
              "    <tr>\n",
              "      <th>2015-03-01</th>\n",
              "      <td>2355</td>\n",
              "    </tr>\n",
              "    <tr>\n",
              "      <th>2015-04-01</th>\n",
              "      <td>2187</td>\n",
              "    </tr>\n",
              "    <tr>\n",
              "      <th>2015-05-01</th>\n",
              "      <td>2220</td>\n",
              "    </tr>\n",
              "    <tr>\n",
              "      <th>2015-06-01</th>\n",
              "      <td>2142</td>\n",
              "    </tr>\n",
              "    <tr>\n",
              "      <th>2015-07-01</th>\n",
              "      <td>2274</td>\n",
              "    </tr>\n",
              "    <tr>\n",
              "      <th>2015-08-01</th>\n",
              "      <td>2411</td>\n",
              "    </tr>\n",
              "    <tr>\n",
              "      <th>2015-09-01</th>\n",
              "      <td>2177</td>\n",
              "    </tr>\n",
              "    <tr>\n",
              "      <th>2015-10-01</th>\n",
              "      <td>2171</td>\n",
              "    </tr>\n",
              "    <tr>\n",
              "      <th>2015-11-01</th>\n",
              "      <td>2205</td>\n",
              "    </tr>\n",
              "    <tr>\n",
              "      <th>2015-12-01</th>\n",
              "      <td>2218</td>\n",
              "    </tr>\n",
              "    <tr>\n",
              "      <th>2016-01-01</th>\n",
              "      <td>2188</td>\n",
              "    </tr>\n",
              "    <tr>\n",
              "      <th>2016-02-01</th>\n",
              "      <td>2047</td>\n",
              "    </tr>\n",
              "    <tr>\n",
              "      <th>2016-03-01</th>\n",
              "      <td>2401</td>\n",
              "    </tr>\n",
              "    <tr>\n",
              "      <th>2016-04-01</th>\n",
              "      <td>2225</td>\n",
              "    </tr>\n",
              "    <tr>\n",
              "      <th>2016-05-01</th>\n",
              "      <td>2432</td>\n",
              "    </tr>\n",
              "    <tr>\n",
              "      <th>2016-06-01</th>\n",
              "      <td>2181</td>\n",
              "    </tr>\n",
              "    <tr>\n",
              "      <th>2016-07-01</th>\n",
              "      <td>2228</td>\n",
              "    </tr>\n",
              "    <tr>\n",
              "      <th>2016-08-01</th>\n",
              "      <td>2311</td>\n",
              "    </tr>\n",
              "    <tr>\n",
              "      <th>2016-09-01</th>\n",
              "      <td>2224</td>\n",
              "    </tr>\n",
              "    <tr>\n",
              "      <th>2016-10-01</th>\n",
              "      <td>2278</td>\n",
              "    </tr>\n",
              "    <tr>\n",
              "      <th>2016-11-01</th>\n",
              "      <td>2260</td>\n",
              "    </tr>\n",
              "    <tr>\n",
              "      <th>2016-12-01</th>\n",
              "      <td>2361</td>\n",
              "    </tr>\n",
              "    <tr>\n",
              "      <th>2017-01-01</th>\n",
              "      <td>2270</td>\n",
              "    </tr>\n",
              "    <tr>\n",
              "      <th>2017-02-01</th>\n",
              "      <td>2136</td>\n",
              "    </tr>\n",
              "    <tr>\n",
              "      <th>2017-03-01</th>\n",
              "      <td>2215</td>\n",
              "    </tr>\n",
              "    <tr>\n",
              "      <th>2017-04-01</th>\n",
              "      <td>2224</td>\n",
              "    </tr>\n",
              "    <tr>\n",
              "      <th>2017-05-01</th>\n",
              "      <td>2218</td>\n",
              "    </tr>\n",
              "    <tr>\n",
              "      <th>2017-06-01</th>\n",
              "      <td>1934</td>\n",
              "    </tr>\n",
              "    <tr>\n",
              "      <th>2017-07-01</th>\n",
              "      <td>2305</td>\n",
              "    </tr>\n",
              "    <tr>\n",
              "      <th>2017-08-01</th>\n",
              "      <td>2313</td>\n",
              "    </tr>\n",
              "    <tr>\n",
              "      <th>2017-09-01</th>\n",
              "      <td>2108</td>\n",
              "    </tr>\n",
              "    <tr>\n",
              "      <th>2017-10-01</th>\n",
              "      <td>120</td>\n",
              "    </tr>\n",
              "  </tbody>\n",
              "</table>\n",
              "</div>\n",
              "      <button class=\"colab-df-convert\" onclick=\"convertToInteractive('df-ea35e67a-3335-4d97-9380-6e3e03bde5eb')\"\n",
              "              title=\"Convert this dataframe to an interactive table.\"\n",
              "              style=\"display:none;\">\n",
              "        \n",
              "  <svg xmlns=\"http://www.w3.org/2000/svg\" height=\"24px\"viewBox=\"0 0 24 24\"\n",
              "       width=\"24px\">\n",
              "    <path d=\"M0 0h24v24H0V0z\" fill=\"none\"/>\n",
              "    <path d=\"M18.56 5.44l.94 2.06.94-2.06 2.06-.94-2.06-.94-.94-2.06-.94 2.06-2.06.94zm-11 1L8.5 8.5l.94-2.06 2.06-.94-2.06-.94L8.5 2.5l-.94 2.06-2.06.94zm10 10l.94 2.06.94-2.06 2.06-.94-2.06-.94-.94-2.06-.94 2.06-2.06.94z\"/><path d=\"M17.41 7.96l-1.37-1.37c-.4-.4-.92-.59-1.43-.59-.52 0-1.04.2-1.43.59L10.3 9.45l-7.72 7.72c-.78.78-.78 2.05 0 2.83L4 21.41c.39.39.9.59 1.41.59.51 0 1.02-.2 1.41-.59l7.78-7.78 2.81-2.81c.8-.78.8-2.07 0-2.86zM5.41 20L4 18.59l7.72-7.72 1.47 1.35L5.41 20z\"/>\n",
              "  </svg>\n",
              "      </button>\n",
              "      \n",
              "  <style>\n",
              "    .colab-df-container {\n",
              "      display:flex;\n",
              "      flex-wrap:wrap;\n",
              "      gap: 12px;\n",
              "    }\n",
              "\n",
              "    .colab-df-convert {\n",
              "      background-color: #E8F0FE;\n",
              "      border: none;\n",
              "      border-radius: 50%;\n",
              "      cursor: pointer;\n",
              "      display: none;\n",
              "      fill: #1967D2;\n",
              "      height: 32px;\n",
              "      padding: 0 0 0 0;\n",
              "      width: 32px;\n",
              "    }\n",
              "\n",
              "    .colab-df-convert:hover {\n",
              "      background-color: #E2EBFA;\n",
              "      box-shadow: 0px 1px 2px rgba(60, 64, 67, 0.3), 0px 1px 3px 1px rgba(60, 64, 67, 0.15);\n",
              "      fill: #174EA6;\n",
              "    }\n",
              "\n",
              "    [theme=dark] .colab-df-convert {\n",
              "      background-color: #3B4455;\n",
              "      fill: #D2E3FC;\n",
              "    }\n",
              "\n",
              "    [theme=dark] .colab-df-convert:hover {\n",
              "      background-color: #434B5C;\n",
              "      box-shadow: 0px 1px 3px 1px rgba(0, 0, 0, 0.15);\n",
              "      filter: drop-shadow(0px 1px 2px rgba(0, 0, 0, 0.3));\n",
              "      fill: #FFFFFF;\n",
              "    }\n",
              "  </style>\n",
              "\n",
              "      <script>\n",
              "        const buttonEl =\n",
              "          document.querySelector('#df-ea35e67a-3335-4d97-9380-6e3e03bde5eb button.colab-df-convert');\n",
              "        buttonEl.style.display =\n",
              "          google.colab.kernel.accessAllowed ? 'block' : 'none';\n",
              "\n",
              "        async function convertToInteractive(key) {\n",
              "          const element = document.querySelector('#df-ea35e67a-3335-4d97-9380-6e3e03bde5eb');\n",
              "          const dataTable =\n",
              "            await google.colab.kernel.invokeFunction('convertToInteractive',\n",
              "                                                     [key], {});\n",
              "          if (!dataTable) return;\n",
              "\n",
              "          const docLinkHtml = 'Like what you see? Visit the ' +\n",
              "            '<a target=\"_blank\" href=https://colab.research.google.com/notebooks/data_table.ipynb>data table notebook</a>'\n",
              "            + ' to learn more about interactive tables.';\n",
              "          element.innerHTML = '';\n",
              "          dataTable['output_type'] = 'display_data';\n",
              "          await google.colab.output.renderOutput(dataTable, element);\n",
              "          const docLink = document.createElement('div');\n",
              "          docLink.innerHTML = docLinkHtml;\n",
              "          element.appendChild(docLink);\n",
              "        }\n",
              "      </script>\n",
              "    </div>\n",
              "  </div>\n",
              "  "
            ]
          },
          "metadata": {},
          "execution_count": 45
        }
      ],
      "source": [
        "Monthly_Quantity"
      ]
    },
    {
      "cell_type": "code",
      "execution_count": 46,
      "metadata": {
        "colab": {
          "base_uri": "https://localhost:8080/"
        },
        "id": "zPFWetuokBAD",
        "outputId": "b0afbe3d-c0a1-45cd-8131-ff998f5ce22b"
      },
      "outputs": [
        {
          "output_type": "execute_result",
          "data": {
            "text/plain": [
              "(34, 1)"
            ]
          },
          "metadata": {},
          "execution_count": 46
        }
      ],
      "source": [
        "Monthly_Quantity.shape"
      ]
    },
    {
      "cell_type": "markdown",
      "metadata": {
        "id": "LLLDeN_3kBAE"
      },
      "source": [
        "### Slicing and Selecting monthly Items sold from April_2015 till Sept_2017"
      ]
    },
    {
      "cell_type": "code",
      "execution_count": 47,
      "metadata": {
        "id": "p-lEcQoxkBAE"
      },
      "outputs": [],
      "source": [
        "MonthlyDiscount = Monthly_Discount.iloc[3:33]\n",
        "MonthlyQuantity = Monthly_Quantity.iloc[3:33]"
      ]
    },
    {
      "cell_type": "code",
      "execution_count": 48,
      "metadata": {
        "colab": {
          "base_uri": "https://localhost:8080/"
        },
        "id": "iQzZx8jQkBAE",
        "outputId": "26300eb2-2b0c-4a0e-ccf5-84a42e266a02"
      },
      "outputs": [
        {
          "output_type": "execute_result",
          "data": {
            "text/plain": [
              "(30, 1)"
            ]
          },
          "metadata": {},
          "execution_count": 48
        }
      ],
      "source": [
        "MonthlyQuantity.shape\n"
      ]
    },
    {
      "cell_type": "markdown",
      "metadata": {
        "id": "BfD9dNobkBAE"
      },
      "source": [
        "### List down the values of monthly Item Quantity sold from April_2015 till Sept_2017"
      ]
    },
    {
      "cell_type": "code",
      "execution_count": 49,
      "metadata": {
        "colab": {
          "base_uri": "https://localhost:8080/"
        },
        "id": "Y7DxwARqkBAF",
        "outputId": "c96ec291-cefc-4194-eafa-d768933f2c4c"
      },
      "outputs": [
        {
          "output_type": "stream",
          "name": "stdout",
          "text": [
            "[2187, 2220, 2142, 2274, 2411, 2177, 2171, 2205, 2218, 2188, 2047, 2401, 2225, 2432, 2181, 2228, 2311, 2224, 2278, 2260, 2361, 2270, 2136, 2215, 2224, 2218, 1934, 2305, 2313, 2108]\n",
            "[13302, 13479, 13024, 13583, 14779, 13295, 13070, 13418, 13526, 13274, 12430, 14655, 13335, 14783, 13119, 13657, 13989, 13498, 13794, 13699, 14502, 13828, 13039, 13373, 13416, 13558, 11709, 13999, 14081, 13753]\n"
          ]
        }
      ],
      "source": [
        "MonthlyItemQuantity = MonthlyQuantity['Order Item Quantity'].tolist()\n",
        "MonthlyItemDiscount = MonthlyDiscount['Order Item Discount'].tolist()\n",
        "print(MonthlyItemQuantity)\n",
        "print(MonthlyItemDiscount)"
      ]
    },
    {
      "cell_type": "markdown",
      "metadata": {
        "id": "ukhTfiW8kBAF"
      },
      "source": [
        "### Create a copy of the dataset"
      ]
    },
    {
      "cell_type": "code",
      "execution_count": 50,
      "metadata": {
        "id": "g3azg7QdkBAG"
      },
      "outputs": [],
      "source": [
        "df1 = merge30.copy()"
      ]
    },
    {
      "cell_type": "code",
      "execution_count": 51,
      "metadata": {
        "colab": {
          "base_uri": "https://localhost:8080/",
          "height": 235
        },
        "id": "JkSmuCFmkBAG",
        "outputId": "804a9d54-b7c1-46a0-d4e4-c5d2ce0838e2"
      },
      "outputs": [
        {
          "output_type": "execute_result",
          "data": {
            "text/plain": [
              "   Day0  Day1  Day2  Day3  Day4  Day5  Day6  Day7  Day8  Day9  ...  Day79  \\\n",
              "0    77    73    88    90    62    71    83    79    81    63  ...     84   \n",
              "1    74    47    58    63    77    88    82    53    92   101  ...     48   \n",
              "2    78    98    66    71    72    81    93    81    61    86  ...     70   \n",
              "3    64    65    86    69    42    65    73    94    73    48  ...    106   \n",
              "4    78    37    62    64    78    92    55    72    54    90  ...     45   \n",
              "\n",
              "   Day80  Day81  Day82  Day83  Day84  Day85  Day86  Day87  Day88  \n",
              "0     79     73     82     45     55     66     61    131     76  \n",
              "1     66     72     58     97     82     67     63     59    105  \n",
              "2     67     57     66     81     57     55    102     74     63  \n",
              "3     46     52     87     78     84     80    102     57     61  \n",
              "4     79     72     76     77     45     91     59     79     93  \n",
              "\n",
              "[5 rows x 89 columns]"
            ],
            "text/html": [
              "\n",
              "  <div id=\"df-49b74ded-e291-43cc-8ba8-fd1740c67cd1\">\n",
              "    <div class=\"colab-df-container\">\n",
              "      <div>\n",
              "<style scoped>\n",
              "    .dataframe tbody tr th:only-of-type {\n",
              "        vertical-align: middle;\n",
              "    }\n",
              "\n",
              "    .dataframe tbody tr th {\n",
              "        vertical-align: top;\n",
              "    }\n",
              "\n",
              "    .dataframe thead th {\n",
              "        text-align: right;\n",
              "    }\n",
              "</style>\n",
              "<table border=\"1\" class=\"dataframe\">\n",
              "  <thead>\n",
              "    <tr style=\"text-align: right;\">\n",
              "      <th></th>\n",
              "      <th>Day0</th>\n",
              "      <th>Day1</th>\n",
              "      <th>Day2</th>\n",
              "      <th>Day3</th>\n",
              "      <th>Day4</th>\n",
              "      <th>Day5</th>\n",
              "      <th>Day6</th>\n",
              "      <th>Day7</th>\n",
              "      <th>Day8</th>\n",
              "      <th>Day9</th>\n",
              "      <th>...</th>\n",
              "      <th>Day79</th>\n",
              "      <th>Day80</th>\n",
              "      <th>Day81</th>\n",
              "      <th>Day82</th>\n",
              "      <th>Day83</th>\n",
              "      <th>Day84</th>\n",
              "      <th>Day85</th>\n",
              "      <th>Day86</th>\n",
              "      <th>Day87</th>\n",
              "      <th>Day88</th>\n",
              "    </tr>\n",
              "  </thead>\n",
              "  <tbody>\n",
              "    <tr>\n",
              "      <th>0</th>\n",
              "      <td>77</td>\n",
              "      <td>73</td>\n",
              "      <td>88</td>\n",
              "      <td>90</td>\n",
              "      <td>62</td>\n",
              "      <td>71</td>\n",
              "      <td>83</td>\n",
              "      <td>79</td>\n",
              "      <td>81</td>\n",
              "      <td>63</td>\n",
              "      <td>...</td>\n",
              "      <td>84</td>\n",
              "      <td>79</td>\n",
              "      <td>73</td>\n",
              "      <td>82</td>\n",
              "      <td>45</td>\n",
              "      <td>55</td>\n",
              "      <td>66</td>\n",
              "      <td>61</td>\n",
              "      <td>131</td>\n",
              "      <td>76</td>\n",
              "    </tr>\n",
              "    <tr>\n",
              "      <th>1</th>\n",
              "      <td>74</td>\n",
              "      <td>47</td>\n",
              "      <td>58</td>\n",
              "      <td>63</td>\n",
              "      <td>77</td>\n",
              "      <td>88</td>\n",
              "      <td>82</td>\n",
              "      <td>53</td>\n",
              "      <td>92</td>\n",
              "      <td>101</td>\n",
              "      <td>...</td>\n",
              "      <td>48</td>\n",
              "      <td>66</td>\n",
              "      <td>72</td>\n",
              "      <td>58</td>\n",
              "      <td>97</td>\n",
              "      <td>82</td>\n",
              "      <td>67</td>\n",
              "      <td>63</td>\n",
              "      <td>59</td>\n",
              "      <td>105</td>\n",
              "    </tr>\n",
              "    <tr>\n",
              "      <th>2</th>\n",
              "      <td>78</td>\n",
              "      <td>98</td>\n",
              "      <td>66</td>\n",
              "      <td>71</td>\n",
              "      <td>72</td>\n",
              "      <td>81</td>\n",
              "      <td>93</td>\n",
              "      <td>81</td>\n",
              "      <td>61</td>\n",
              "      <td>86</td>\n",
              "      <td>...</td>\n",
              "      <td>70</td>\n",
              "      <td>67</td>\n",
              "      <td>57</td>\n",
              "      <td>66</td>\n",
              "      <td>81</td>\n",
              "      <td>57</td>\n",
              "      <td>55</td>\n",
              "      <td>102</td>\n",
              "      <td>74</td>\n",
              "      <td>63</td>\n",
              "    </tr>\n",
              "    <tr>\n",
              "      <th>3</th>\n",
              "      <td>64</td>\n",
              "      <td>65</td>\n",
              "      <td>86</td>\n",
              "      <td>69</td>\n",
              "      <td>42</td>\n",
              "      <td>65</td>\n",
              "      <td>73</td>\n",
              "      <td>94</td>\n",
              "      <td>73</td>\n",
              "      <td>48</td>\n",
              "      <td>...</td>\n",
              "      <td>106</td>\n",
              "      <td>46</td>\n",
              "      <td>52</td>\n",
              "      <td>87</td>\n",
              "      <td>78</td>\n",
              "      <td>84</td>\n",
              "      <td>80</td>\n",
              "      <td>102</td>\n",
              "      <td>57</td>\n",
              "      <td>61</td>\n",
              "    </tr>\n",
              "    <tr>\n",
              "      <th>4</th>\n",
              "      <td>78</td>\n",
              "      <td>37</td>\n",
              "      <td>62</td>\n",
              "      <td>64</td>\n",
              "      <td>78</td>\n",
              "      <td>92</td>\n",
              "      <td>55</td>\n",
              "      <td>72</td>\n",
              "      <td>54</td>\n",
              "      <td>90</td>\n",
              "      <td>...</td>\n",
              "      <td>45</td>\n",
              "      <td>79</td>\n",
              "      <td>72</td>\n",
              "      <td>76</td>\n",
              "      <td>77</td>\n",
              "      <td>45</td>\n",
              "      <td>91</td>\n",
              "      <td>59</td>\n",
              "      <td>79</td>\n",
              "      <td>93</td>\n",
              "    </tr>\n",
              "  </tbody>\n",
              "</table>\n",
              "<p>5 rows × 89 columns</p>\n",
              "</div>\n",
              "      <button class=\"colab-df-convert\" onclick=\"convertToInteractive('df-49b74ded-e291-43cc-8ba8-fd1740c67cd1')\"\n",
              "              title=\"Convert this dataframe to an interactive table.\"\n",
              "              style=\"display:none;\">\n",
              "        \n",
              "  <svg xmlns=\"http://www.w3.org/2000/svg\" height=\"24px\"viewBox=\"0 0 24 24\"\n",
              "       width=\"24px\">\n",
              "    <path d=\"M0 0h24v24H0V0z\" fill=\"none\"/>\n",
              "    <path d=\"M18.56 5.44l.94 2.06.94-2.06 2.06-.94-2.06-.94-.94-2.06-.94 2.06-2.06.94zm-11 1L8.5 8.5l.94-2.06 2.06-.94-2.06-.94L8.5 2.5l-.94 2.06-2.06.94zm10 10l.94 2.06.94-2.06 2.06-.94-2.06-.94-.94-2.06-.94 2.06-2.06.94z\"/><path d=\"M17.41 7.96l-1.37-1.37c-.4-.4-.92-.59-1.43-.59-.52 0-1.04.2-1.43.59L10.3 9.45l-7.72 7.72c-.78.78-.78 2.05 0 2.83L4 21.41c.39.39.9.59 1.41.59.51 0 1.02-.2 1.41-.59l7.78-7.78 2.81-2.81c.8-.78.8-2.07 0-2.86zM5.41 20L4 18.59l7.72-7.72 1.47 1.35L5.41 20z\"/>\n",
              "  </svg>\n",
              "      </button>\n",
              "      \n",
              "  <style>\n",
              "    .colab-df-container {\n",
              "      display:flex;\n",
              "      flex-wrap:wrap;\n",
              "      gap: 12px;\n",
              "    }\n",
              "\n",
              "    .colab-df-convert {\n",
              "      background-color: #E8F0FE;\n",
              "      border: none;\n",
              "      border-radius: 50%;\n",
              "      cursor: pointer;\n",
              "      display: none;\n",
              "      fill: #1967D2;\n",
              "      height: 32px;\n",
              "      padding: 0 0 0 0;\n",
              "      width: 32px;\n",
              "    }\n",
              "\n",
              "    .colab-df-convert:hover {\n",
              "      background-color: #E2EBFA;\n",
              "      box-shadow: 0px 1px 2px rgba(60, 64, 67, 0.3), 0px 1px 3px 1px rgba(60, 64, 67, 0.15);\n",
              "      fill: #174EA6;\n",
              "    }\n",
              "\n",
              "    [theme=dark] .colab-df-convert {\n",
              "      background-color: #3B4455;\n",
              "      fill: #D2E3FC;\n",
              "    }\n",
              "\n",
              "    [theme=dark] .colab-df-convert:hover {\n",
              "      background-color: #434B5C;\n",
              "      box-shadow: 0px 1px 3px 1px rgba(0, 0, 0, 0.15);\n",
              "      filter: drop-shadow(0px 1px 2px rgba(0, 0, 0, 0.3));\n",
              "      fill: #FFFFFF;\n",
              "    }\n",
              "  </style>\n",
              "\n",
              "      <script>\n",
              "        const buttonEl =\n",
              "          document.querySelector('#df-49b74ded-e291-43cc-8ba8-fd1740c67cd1 button.colab-df-convert');\n",
              "        buttonEl.style.display =\n",
              "          google.colab.kernel.accessAllowed ? 'block' : 'none';\n",
              "\n",
              "        async function convertToInteractive(key) {\n",
              "          const element = document.querySelector('#df-49b74ded-e291-43cc-8ba8-fd1740c67cd1');\n",
              "          const dataTable =\n",
              "            await google.colab.kernel.invokeFunction('convertToInteractive',\n",
              "                                                     [key], {});\n",
              "          if (!dataTable) return;\n",
              "\n",
              "          const docLinkHtml = 'Like what you see? Visit the ' +\n",
              "            '<a target=\"_blank\" href=https://colab.research.google.com/notebooks/data_table.ipynb>data table notebook</a>'\n",
              "            + ' to learn more about interactive tables.';\n",
              "          element.innerHTML = '';\n",
              "          dataTable['output_type'] = 'display_data';\n",
              "          await google.colab.output.renderOutput(dataTable, element);\n",
              "          const docLink = document.createElement('div');\n",
              "          docLink.innerHTML = docLinkHtml;\n",
              "          element.appendChild(docLink);\n",
              "        }\n",
              "      </script>\n",
              "    </div>\n",
              "  </div>\n",
              "  "
            ]
          },
          "metadata": {},
          "execution_count": 51
        }
      ],
      "source": [
        "df1.head()"
      ]
    },
    {
      "cell_type": "markdown",
      "metadata": {
        "id": "9PbDj01YkBAG"
      },
      "source": [
        "### Adding the Target variable to the dataframe"
      ]
    },
    {
      "cell_type": "code",
      "execution_count": 52,
      "metadata": {
        "id": "qiUbppvEkBAG"
      },
      "outputs": [],
      "source": [
        "df1.insert(loc=89, column='Order Item Quantity', value=MonthlyItemQuantity)"
      ]
    },
    {
      "cell_type": "code",
      "execution_count": 53,
      "metadata": {
        "scrolled": true,
        "colab": {
          "base_uri": "https://localhost:8080/",
          "height": 1000
        },
        "id": "cWaJxk0PkBAG",
        "outputId": "d94a3040-62bf-4c9f-b570-96a852d95824"
      },
      "outputs": [
        {
          "output_type": "execute_result",
          "data": {
            "text/plain": [
              "    Day0  Day1  Day2  Day3  Day4  Day5  Day6  Day7  Day8  Day9  ...  Day80  \\\n",
              "0     77    73    88    90    62    71    83    79    81    63  ...     79   \n",
              "1     74    47    58    63    77    88    82    53    92   101  ...     66   \n",
              "2     78    98    66    71    72    81    93    81    61    86  ...     67   \n",
              "3     64    65    86    69    42    65    73    94    73    48  ...     46   \n",
              "4     78    37    62    64    78    92    55    72    54    90  ...     79   \n",
              "5     71    57    37    88    98    37    46    47    65    89  ...     77   \n",
              "6     65    71    70    47    57    73    78    79    65    75  ...    103   \n",
              "7    102    68    71    83    56    71    85    54    97    84  ...     86   \n",
              "8     55    75    55    90    69   120    50    52    93    88  ...     72   \n",
              "9     58    76    93    80    80    81    61    74    73    74  ...     92   \n",
              "10    96    58    65    48    96    69    65    81    84    77  ...     88   \n",
              "11    81    75    86    70    46    58   109    75    50    73  ...     49   \n",
              "12    88    97    46    95    80    53    60    51    40    50  ...     42   \n",
              "13    58   103    51    80    65    92    95    62    54    73  ...     44   \n",
              "14    81    80    59    80    84    71    75    83    73    57  ...     78   \n",
              "15    35    52   117    80    83    64    65    81    69    68  ...     79   \n",
              "16    87    94    84    58    92    84    61    71   101    70  ...     77   \n",
              "17    88    65    78    75    70    67    77    63    93    68  ...     73   \n",
              "18    79    86    60    79    72    83    65    82    65    62  ...     74   \n",
              "19    65    86    86    65    75   102    47    93    86    64  ...     87   \n",
              "20    70    87   106   126    68    71    73    53    61    69  ...     76   \n",
              "21    60    48    97    53    81    54    74    77    93    69  ...     66   \n",
              "22    82    55    73    98    63    76    35   133    51    46  ...     87   \n",
              "23    82    54    97    94    95    79    67    72    89    74  ...     84   \n",
              "24    92    52    54    52    83    75    87    58    70    74  ...     77   \n",
              "25    81    86    75    51    71    95    64    85    69    77  ...     61   \n",
              "26    83    37    61   105    93    69    50    87    62    94  ...     78   \n",
              "27   103    64    71    64    54    88    70    54    54    79  ...     45   \n",
              "28    57    68    85    94    59    47    70    69    63    49  ...     59   \n",
              "29    46    75    41    58    62    60    69    83    67    39  ...     72   \n",
              "\n",
              "    Day81  Day82  Day83  Day84  Day85  Day86  Day87  Day88  \\\n",
              "0      73     82     45     55     66     61    131     76   \n",
              "1      72     58     97     82     67     63     59    105   \n",
              "2      57     66     81     57     55    102     74     63   \n",
              "3      52     87     78     84     80    102     57     61   \n",
              "4      72     76     77     45     91     59     79     93   \n",
              "5      80     91     57     78    120     92     69     94   \n",
              "6      99     65     61     87     72     49     57     84   \n",
              "7      68     64     57     63     58     93     59     84   \n",
              "8      60     49     79     68     67     78    124     71   \n",
              "9      92     72     86     95     72     57     63     66   \n",
              "10     94     70     85     64     59     62     68     70   \n",
              "11     67     92     61     55     87     51     59     77   \n",
              "12     68     93     97     68     70     91    107     81   \n",
              "13     73     75     67     54     65     87     72     61   \n",
              "14     69     53     79    100     97     67     75    106   \n",
              "15     44     91     91     74     82     60     84     65   \n",
              "16     78     81     69     55     59     83     59     60   \n",
              "17     57     88     83     84     67     59     83     74   \n",
              "18     64     74     75     74     55     78     75     70   \n",
              "19    107     65     88     69     73    116     68     67   \n",
              "20     74     65     84     67     54    103     84     91   \n",
              "21     76     89     38     78     66     83     73     85   \n",
              "22     61     77     81     61     64     58     61     77   \n",
              "23     84     89     94     57     94     85     54     86   \n",
              "24     52     69     39     31     45     90     69     62   \n",
              "25     82     76     63     46     66    102     66    107   \n",
              "26     75     77     71     85     59     81     94     51   \n",
              "27     95     74     60     65     65     66     51     77   \n",
              "28     75     67     84     67     83     71     61     47   \n",
              "29     84     63    109     66     76     96     82     84   \n",
              "\n",
              "    Order Item Quantity  \n",
              "0                  2187  \n",
              "1                  2220  \n",
              "2                  2142  \n",
              "3                  2274  \n",
              "4                  2411  \n",
              "5                  2177  \n",
              "6                  2171  \n",
              "7                  2205  \n",
              "8                  2218  \n",
              "9                  2188  \n",
              "10                 2047  \n",
              "11                 2401  \n",
              "12                 2225  \n",
              "13                 2432  \n",
              "14                 2181  \n",
              "15                 2228  \n",
              "16                 2311  \n",
              "17                 2224  \n",
              "18                 2278  \n",
              "19                 2260  \n",
              "20                 2361  \n",
              "21                 2270  \n",
              "22                 2136  \n",
              "23                 2215  \n",
              "24                 2224  \n",
              "25                 2218  \n",
              "26                 1934  \n",
              "27                 2305  \n",
              "28                 2313  \n",
              "29                 2108  \n",
              "\n",
              "[30 rows x 90 columns]"
            ],
            "text/html": [
              "\n",
              "  <div id=\"df-7c55e65e-9e15-4007-b7d3-73099bae509d\">\n",
              "    <div class=\"colab-df-container\">\n",
              "      <div>\n",
              "<style scoped>\n",
              "    .dataframe tbody tr th:only-of-type {\n",
              "        vertical-align: middle;\n",
              "    }\n",
              "\n",
              "    .dataframe tbody tr th {\n",
              "        vertical-align: top;\n",
              "    }\n",
              "\n",
              "    .dataframe thead th {\n",
              "        text-align: right;\n",
              "    }\n",
              "</style>\n",
              "<table border=\"1\" class=\"dataframe\">\n",
              "  <thead>\n",
              "    <tr style=\"text-align: right;\">\n",
              "      <th></th>\n",
              "      <th>Day0</th>\n",
              "      <th>Day1</th>\n",
              "      <th>Day2</th>\n",
              "      <th>Day3</th>\n",
              "      <th>Day4</th>\n",
              "      <th>Day5</th>\n",
              "      <th>Day6</th>\n",
              "      <th>Day7</th>\n",
              "      <th>Day8</th>\n",
              "      <th>Day9</th>\n",
              "      <th>...</th>\n",
              "      <th>Day80</th>\n",
              "      <th>Day81</th>\n",
              "      <th>Day82</th>\n",
              "      <th>Day83</th>\n",
              "      <th>Day84</th>\n",
              "      <th>Day85</th>\n",
              "      <th>Day86</th>\n",
              "      <th>Day87</th>\n",
              "      <th>Day88</th>\n",
              "      <th>Order Item Quantity</th>\n",
              "    </tr>\n",
              "  </thead>\n",
              "  <tbody>\n",
              "    <tr>\n",
              "      <th>0</th>\n",
              "      <td>77</td>\n",
              "      <td>73</td>\n",
              "      <td>88</td>\n",
              "      <td>90</td>\n",
              "      <td>62</td>\n",
              "      <td>71</td>\n",
              "      <td>83</td>\n",
              "      <td>79</td>\n",
              "      <td>81</td>\n",
              "      <td>63</td>\n",
              "      <td>...</td>\n",
              "      <td>79</td>\n",
              "      <td>73</td>\n",
              "      <td>82</td>\n",
              "      <td>45</td>\n",
              "      <td>55</td>\n",
              "      <td>66</td>\n",
              "      <td>61</td>\n",
              "      <td>131</td>\n",
              "      <td>76</td>\n",
              "      <td>2187</td>\n",
              "    </tr>\n",
              "    <tr>\n",
              "      <th>1</th>\n",
              "      <td>74</td>\n",
              "      <td>47</td>\n",
              "      <td>58</td>\n",
              "      <td>63</td>\n",
              "      <td>77</td>\n",
              "      <td>88</td>\n",
              "      <td>82</td>\n",
              "      <td>53</td>\n",
              "      <td>92</td>\n",
              "      <td>101</td>\n",
              "      <td>...</td>\n",
              "      <td>66</td>\n",
              "      <td>72</td>\n",
              "      <td>58</td>\n",
              "      <td>97</td>\n",
              "      <td>82</td>\n",
              "      <td>67</td>\n",
              "      <td>63</td>\n",
              "      <td>59</td>\n",
              "      <td>105</td>\n",
              "      <td>2220</td>\n",
              "    </tr>\n",
              "    <tr>\n",
              "      <th>2</th>\n",
              "      <td>78</td>\n",
              "      <td>98</td>\n",
              "      <td>66</td>\n",
              "      <td>71</td>\n",
              "      <td>72</td>\n",
              "      <td>81</td>\n",
              "      <td>93</td>\n",
              "      <td>81</td>\n",
              "      <td>61</td>\n",
              "      <td>86</td>\n",
              "      <td>...</td>\n",
              "      <td>67</td>\n",
              "      <td>57</td>\n",
              "      <td>66</td>\n",
              "      <td>81</td>\n",
              "      <td>57</td>\n",
              "      <td>55</td>\n",
              "      <td>102</td>\n",
              "      <td>74</td>\n",
              "      <td>63</td>\n",
              "      <td>2142</td>\n",
              "    </tr>\n",
              "    <tr>\n",
              "      <th>3</th>\n",
              "      <td>64</td>\n",
              "      <td>65</td>\n",
              "      <td>86</td>\n",
              "      <td>69</td>\n",
              "      <td>42</td>\n",
              "      <td>65</td>\n",
              "      <td>73</td>\n",
              "      <td>94</td>\n",
              "      <td>73</td>\n",
              "      <td>48</td>\n",
              "      <td>...</td>\n",
              "      <td>46</td>\n",
              "      <td>52</td>\n",
              "      <td>87</td>\n",
              "      <td>78</td>\n",
              "      <td>84</td>\n",
              "      <td>80</td>\n",
              "      <td>102</td>\n",
              "      <td>57</td>\n",
              "      <td>61</td>\n",
              "      <td>2274</td>\n",
              "    </tr>\n",
              "    <tr>\n",
              "      <th>4</th>\n",
              "      <td>78</td>\n",
              "      <td>37</td>\n",
              "      <td>62</td>\n",
              "      <td>64</td>\n",
              "      <td>78</td>\n",
              "      <td>92</td>\n",
              "      <td>55</td>\n",
              "      <td>72</td>\n",
              "      <td>54</td>\n",
              "      <td>90</td>\n",
              "      <td>...</td>\n",
              "      <td>79</td>\n",
              "      <td>72</td>\n",
              "      <td>76</td>\n",
              "      <td>77</td>\n",
              "      <td>45</td>\n",
              "      <td>91</td>\n",
              "      <td>59</td>\n",
              "      <td>79</td>\n",
              "      <td>93</td>\n",
              "      <td>2411</td>\n",
              "    </tr>\n",
              "    <tr>\n",
              "      <th>5</th>\n",
              "      <td>71</td>\n",
              "      <td>57</td>\n",
              "      <td>37</td>\n",
              "      <td>88</td>\n",
              "      <td>98</td>\n",
              "      <td>37</td>\n",
              "      <td>46</td>\n",
              "      <td>47</td>\n",
              "      <td>65</td>\n",
              "      <td>89</td>\n",
              "      <td>...</td>\n",
              "      <td>77</td>\n",
              "      <td>80</td>\n",
              "      <td>91</td>\n",
              "      <td>57</td>\n",
              "      <td>78</td>\n",
              "      <td>120</td>\n",
              "      <td>92</td>\n",
              "      <td>69</td>\n",
              "      <td>94</td>\n",
              "      <td>2177</td>\n",
              "    </tr>\n",
              "    <tr>\n",
              "      <th>6</th>\n",
              "      <td>65</td>\n",
              "      <td>71</td>\n",
              "      <td>70</td>\n",
              "      <td>47</td>\n",
              "      <td>57</td>\n",
              "      <td>73</td>\n",
              "      <td>78</td>\n",
              "      <td>79</td>\n",
              "      <td>65</td>\n",
              "      <td>75</td>\n",
              "      <td>...</td>\n",
              "      <td>103</td>\n",
              "      <td>99</td>\n",
              "      <td>65</td>\n",
              "      <td>61</td>\n",
              "      <td>87</td>\n",
              "      <td>72</td>\n",
              "      <td>49</td>\n",
              "      <td>57</td>\n",
              "      <td>84</td>\n",
              "      <td>2171</td>\n",
              "    </tr>\n",
              "    <tr>\n",
              "      <th>7</th>\n",
              "      <td>102</td>\n",
              "      <td>68</td>\n",
              "      <td>71</td>\n",
              "      <td>83</td>\n",
              "      <td>56</td>\n",
              "      <td>71</td>\n",
              "      <td>85</td>\n",
              "      <td>54</td>\n",
              "      <td>97</td>\n",
              "      <td>84</td>\n",
              "      <td>...</td>\n",
              "      <td>86</td>\n",
              "      <td>68</td>\n",
              "      <td>64</td>\n",
              "      <td>57</td>\n",
              "      <td>63</td>\n",
              "      <td>58</td>\n",
              "      <td>93</td>\n",
              "      <td>59</td>\n",
              "      <td>84</td>\n",
              "      <td>2205</td>\n",
              "    </tr>\n",
              "    <tr>\n",
              "      <th>8</th>\n",
              "      <td>55</td>\n",
              "      <td>75</td>\n",
              "      <td>55</td>\n",
              "      <td>90</td>\n",
              "      <td>69</td>\n",
              "      <td>120</td>\n",
              "      <td>50</td>\n",
              "      <td>52</td>\n",
              "      <td>93</td>\n",
              "      <td>88</td>\n",
              "      <td>...</td>\n",
              "      <td>72</td>\n",
              "      <td>60</td>\n",
              "      <td>49</td>\n",
              "      <td>79</td>\n",
              "      <td>68</td>\n",
              "      <td>67</td>\n",
              "      <td>78</td>\n",
              "      <td>124</td>\n",
              "      <td>71</td>\n",
              "      <td>2218</td>\n",
              "    </tr>\n",
              "    <tr>\n",
              "      <th>9</th>\n",
              "      <td>58</td>\n",
              "      <td>76</td>\n",
              "      <td>93</td>\n",
              "      <td>80</td>\n",
              "      <td>80</td>\n",
              "      <td>81</td>\n",
              "      <td>61</td>\n",
              "      <td>74</td>\n",
              "      <td>73</td>\n",
              "      <td>74</td>\n",
              "      <td>...</td>\n",
              "      <td>92</td>\n",
              "      <td>92</td>\n",
              "      <td>72</td>\n",
              "      <td>86</td>\n",
              "      <td>95</td>\n",
              "      <td>72</td>\n",
              "      <td>57</td>\n",
              "      <td>63</td>\n",
              "      <td>66</td>\n",
              "      <td>2188</td>\n",
              "    </tr>\n",
              "    <tr>\n",
              "      <th>10</th>\n",
              "      <td>96</td>\n",
              "      <td>58</td>\n",
              "      <td>65</td>\n",
              "      <td>48</td>\n",
              "      <td>96</td>\n",
              "      <td>69</td>\n",
              "      <td>65</td>\n",
              "      <td>81</td>\n",
              "      <td>84</td>\n",
              "      <td>77</td>\n",
              "      <td>...</td>\n",
              "      <td>88</td>\n",
              "      <td>94</td>\n",
              "      <td>70</td>\n",
              "      <td>85</td>\n",
              "      <td>64</td>\n",
              "      <td>59</td>\n",
              "      <td>62</td>\n",
              "      <td>68</td>\n",
              "      <td>70</td>\n",
              "      <td>2047</td>\n",
              "    </tr>\n",
              "    <tr>\n",
              "      <th>11</th>\n",
              "      <td>81</td>\n",
              "      <td>75</td>\n",
              "      <td>86</td>\n",
              "      <td>70</td>\n",
              "      <td>46</td>\n",
              "      <td>58</td>\n",
              "      <td>109</td>\n",
              "      <td>75</td>\n",
              "      <td>50</td>\n",
              "      <td>73</td>\n",
              "      <td>...</td>\n",
              "      <td>49</td>\n",
              "      <td>67</td>\n",
              "      <td>92</td>\n",
              "      <td>61</td>\n",
              "      <td>55</td>\n",
              "      <td>87</td>\n",
              "      <td>51</td>\n",
              "      <td>59</td>\n",
              "      <td>77</td>\n",
              "      <td>2401</td>\n",
              "    </tr>\n",
              "    <tr>\n",
              "      <th>12</th>\n",
              "      <td>88</td>\n",
              "      <td>97</td>\n",
              "      <td>46</td>\n",
              "      <td>95</td>\n",
              "      <td>80</td>\n",
              "      <td>53</td>\n",
              "      <td>60</td>\n",
              "      <td>51</td>\n",
              "      <td>40</td>\n",
              "      <td>50</td>\n",
              "      <td>...</td>\n",
              "      <td>42</td>\n",
              "      <td>68</td>\n",
              "      <td>93</td>\n",
              "      <td>97</td>\n",
              "      <td>68</td>\n",
              "      <td>70</td>\n",
              "      <td>91</td>\n",
              "      <td>107</td>\n",
              "      <td>81</td>\n",
              "      <td>2225</td>\n",
              "    </tr>\n",
              "    <tr>\n",
              "      <th>13</th>\n",
              "      <td>58</td>\n",
              "      <td>103</td>\n",
              "      <td>51</td>\n",
              "      <td>80</td>\n",
              "      <td>65</td>\n",
              "      <td>92</td>\n",
              "      <td>95</td>\n",
              "      <td>62</td>\n",
              "      <td>54</td>\n",
              "      <td>73</td>\n",
              "      <td>...</td>\n",
              "      <td>44</td>\n",
              "      <td>73</td>\n",
              "      <td>75</td>\n",
              "      <td>67</td>\n",
              "      <td>54</td>\n",
              "      <td>65</td>\n",
              "      <td>87</td>\n",
              "      <td>72</td>\n",
              "      <td>61</td>\n",
              "      <td>2432</td>\n",
              "    </tr>\n",
              "    <tr>\n",
              "      <th>14</th>\n",
              "      <td>81</td>\n",
              "      <td>80</td>\n",
              "      <td>59</td>\n",
              "      <td>80</td>\n",
              "      <td>84</td>\n",
              "      <td>71</td>\n",
              "      <td>75</td>\n",
              "      <td>83</td>\n",
              "      <td>73</td>\n",
              "      <td>57</td>\n",
              "      <td>...</td>\n",
              "      <td>78</td>\n",
              "      <td>69</td>\n",
              "      <td>53</td>\n",
              "      <td>79</td>\n",
              "      <td>100</td>\n",
              "      <td>97</td>\n",
              "      <td>67</td>\n",
              "      <td>75</td>\n",
              "      <td>106</td>\n",
              "      <td>2181</td>\n",
              "    </tr>\n",
              "    <tr>\n",
              "      <th>15</th>\n",
              "      <td>35</td>\n",
              "      <td>52</td>\n",
              "      <td>117</td>\n",
              "      <td>80</td>\n",
              "      <td>83</td>\n",
              "      <td>64</td>\n",
              "      <td>65</td>\n",
              "      <td>81</td>\n",
              "      <td>69</td>\n",
              "      <td>68</td>\n",
              "      <td>...</td>\n",
              "      <td>79</td>\n",
              "      <td>44</td>\n",
              "      <td>91</td>\n",
              "      <td>91</td>\n",
              "      <td>74</td>\n",
              "      <td>82</td>\n",
              "      <td>60</td>\n",
              "      <td>84</td>\n",
              "      <td>65</td>\n",
              "      <td>2228</td>\n",
              "    </tr>\n",
              "    <tr>\n",
              "      <th>16</th>\n",
              "      <td>87</td>\n",
              "      <td>94</td>\n",
              "      <td>84</td>\n",
              "      <td>58</td>\n",
              "      <td>92</td>\n",
              "      <td>84</td>\n",
              "      <td>61</td>\n",
              "      <td>71</td>\n",
              "      <td>101</td>\n",
              "      <td>70</td>\n",
              "      <td>...</td>\n",
              "      <td>77</td>\n",
              "      <td>78</td>\n",
              "      <td>81</td>\n",
              "      <td>69</td>\n",
              "      <td>55</td>\n",
              "      <td>59</td>\n",
              "      <td>83</td>\n",
              "      <td>59</td>\n",
              "      <td>60</td>\n",
              "      <td>2311</td>\n",
              "    </tr>\n",
              "    <tr>\n",
              "      <th>17</th>\n",
              "      <td>88</td>\n",
              "      <td>65</td>\n",
              "      <td>78</td>\n",
              "      <td>75</td>\n",
              "      <td>70</td>\n",
              "      <td>67</td>\n",
              "      <td>77</td>\n",
              "      <td>63</td>\n",
              "      <td>93</td>\n",
              "      <td>68</td>\n",
              "      <td>...</td>\n",
              "      <td>73</td>\n",
              "      <td>57</td>\n",
              "      <td>88</td>\n",
              "      <td>83</td>\n",
              "      <td>84</td>\n",
              "      <td>67</td>\n",
              "      <td>59</td>\n",
              "      <td>83</td>\n",
              "      <td>74</td>\n",
              "      <td>2224</td>\n",
              "    </tr>\n",
              "    <tr>\n",
              "      <th>18</th>\n",
              "      <td>79</td>\n",
              "      <td>86</td>\n",
              "      <td>60</td>\n",
              "      <td>79</td>\n",
              "      <td>72</td>\n",
              "      <td>83</td>\n",
              "      <td>65</td>\n",
              "      <td>82</td>\n",
              "      <td>65</td>\n",
              "      <td>62</td>\n",
              "      <td>...</td>\n",
              "      <td>74</td>\n",
              "      <td>64</td>\n",
              "      <td>74</td>\n",
              "      <td>75</td>\n",
              "      <td>74</td>\n",
              "      <td>55</td>\n",
              "      <td>78</td>\n",
              "      <td>75</td>\n",
              "      <td>70</td>\n",
              "      <td>2278</td>\n",
              "    </tr>\n",
              "    <tr>\n",
              "      <th>19</th>\n",
              "      <td>65</td>\n",
              "      <td>86</td>\n",
              "      <td>86</td>\n",
              "      <td>65</td>\n",
              "      <td>75</td>\n",
              "      <td>102</td>\n",
              "      <td>47</td>\n",
              "      <td>93</td>\n",
              "      <td>86</td>\n",
              "      <td>64</td>\n",
              "      <td>...</td>\n",
              "      <td>87</td>\n",
              "      <td>107</td>\n",
              "      <td>65</td>\n",
              "      <td>88</td>\n",
              "      <td>69</td>\n",
              "      <td>73</td>\n",
              "      <td>116</td>\n",
              "      <td>68</td>\n",
              "      <td>67</td>\n",
              "      <td>2260</td>\n",
              "    </tr>\n",
              "    <tr>\n",
              "      <th>20</th>\n",
              "      <td>70</td>\n",
              "      <td>87</td>\n",
              "      <td>106</td>\n",
              "      <td>126</td>\n",
              "      <td>68</td>\n",
              "      <td>71</td>\n",
              "      <td>73</td>\n",
              "      <td>53</td>\n",
              "      <td>61</td>\n",
              "      <td>69</td>\n",
              "      <td>...</td>\n",
              "      <td>76</td>\n",
              "      <td>74</td>\n",
              "      <td>65</td>\n",
              "      <td>84</td>\n",
              "      <td>67</td>\n",
              "      <td>54</td>\n",
              "      <td>103</td>\n",
              "      <td>84</td>\n",
              "      <td>91</td>\n",
              "      <td>2361</td>\n",
              "    </tr>\n",
              "    <tr>\n",
              "      <th>21</th>\n",
              "      <td>60</td>\n",
              "      <td>48</td>\n",
              "      <td>97</td>\n",
              "      <td>53</td>\n",
              "      <td>81</td>\n",
              "      <td>54</td>\n",
              "      <td>74</td>\n",
              "      <td>77</td>\n",
              "      <td>93</td>\n",
              "      <td>69</td>\n",
              "      <td>...</td>\n",
              "      <td>66</td>\n",
              "      <td>76</td>\n",
              "      <td>89</td>\n",
              "      <td>38</td>\n",
              "      <td>78</td>\n",
              "      <td>66</td>\n",
              "      <td>83</td>\n",
              "      <td>73</td>\n",
              "      <td>85</td>\n",
              "      <td>2270</td>\n",
              "    </tr>\n",
              "    <tr>\n",
              "      <th>22</th>\n",
              "      <td>82</td>\n",
              "      <td>55</td>\n",
              "      <td>73</td>\n",
              "      <td>98</td>\n",
              "      <td>63</td>\n",
              "      <td>76</td>\n",
              "      <td>35</td>\n",
              "      <td>133</td>\n",
              "      <td>51</td>\n",
              "      <td>46</td>\n",
              "      <td>...</td>\n",
              "      <td>87</td>\n",
              "      <td>61</td>\n",
              "      <td>77</td>\n",
              "      <td>81</td>\n",
              "      <td>61</td>\n",
              "      <td>64</td>\n",
              "      <td>58</td>\n",
              "      <td>61</td>\n",
              "      <td>77</td>\n",
              "      <td>2136</td>\n",
              "    </tr>\n",
              "    <tr>\n",
              "      <th>23</th>\n",
              "      <td>82</td>\n",
              "      <td>54</td>\n",
              "      <td>97</td>\n",
              "      <td>94</td>\n",
              "      <td>95</td>\n",
              "      <td>79</td>\n",
              "      <td>67</td>\n",
              "      <td>72</td>\n",
              "      <td>89</td>\n",
              "      <td>74</td>\n",
              "      <td>...</td>\n",
              "      <td>84</td>\n",
              "      <td>84</td>\n",
              "      <td>89</td>\n",
              "      <td>94</td>\n",
              "      <td>57</td>\n",
              "      <td>94</td>\n",
              "      <td>85</td>\n",
              "      <td>54</td>\n",
              "      <td>86</td>\n",
              "      <td>2215</td>\n",
              "    </tr>\n",
              "    <tr>\n",
              "      <th>24</th>\n",
              "      <td>92</td>\n",
              "      <td>52</td>\n",
              "      <td>54</td>\n",
              "      <td>52</td>\n",
              "      <td>83</td>\n",
              "      <td>75</td>\n",
              "      <td>87</td>\n",
              "      <td>58</td>\n",
              "      <td>70</td>\n",
              "      <td>74</td>\n",
              "      <td>...</td>\n",
              "      <td>77</td>\n",
              "      <td>52</td>\n",
              "      <td>69</td>\n",
              "      <td>39</td>\n",
              "      <td>31</td>\n",
              "      <td>45</td>\n",
              "      <td>90</td>\n",
              "      <td>69</td>\n",
              "      <td>62</td>\n",
              "      <td>2224</td>\n",
              "    </tr>\n",
              "    <tr>\n",
              "      <th>25</th>\n",
              "      <td>81</td>\n",
              "      <td>86</td>\n",
              "      <td>75</td>\n",
              "      <td>51</td>\n",
              "      <td>71</td>\n",
              "      <td>95</td>\n",
              "      <td>64</td>\n",
              "      <td>85</td>\n",
              "      <td>69</td>\n",
              "      <td>77</td>\n",
              "      <td>...</td>\n",
              "      <td>61</td>\n",
              "      <td>82</td>\n",
              "      <td>76</td>\n",
              "      <td>63</td>\n",
              "      <td>46</td>\n",
              "      <td>66</td>\n",
              "      <td>102</td>\n",
              "      <td>66</td>\n",
              "      <td>107</td>\n",
              "      <td>2218</td>\n",
              "    </tr>\n",
              "    <tr>\n",
              "      <th>26</th>\n",
              "      <td>83</td>\n",
              "      <td>37</td>\n",
              "      <td>61</td>\n",
              "      <td>105</td>\n",
              "      <td>93</td>\n",
              "      <td>69</td>\n",
              "      <td>50</td>\n",
              "      <td>87</td>\n",
              "      <td>62</td>\n",
              "      <td>94</td>\n",
              "      <td>...</td>\n",
              "      <td>78</td>\n",
              "      <td>75</td>\n",
              "      <td>77</td>\n",
              "      <td>71</td>\n",
              "      <td>85</td>\n",
              "      <td>59</td>\n",
              "      <td>81</td>\n",
              "      <td>94</td>\n",
              "      <td>51</td>\n",
              "      <td>1934</td>\n",
              "    </tr>\n",
              "    <tr>\n",
              "      <th>27</th>\n",
              "      <td>103</td>\n",
              "      <td>64</td>\n",
              "      <td>71</td>\n",
              "      <td>64</td>\n",
              "      <td>54</td>\n",
              "      <td>88</td>\n",
              "      <td>70</td>\n",
              "      <td>54</td>\n",
              "      <td>54</td>\n",
              "      <td>79</td>\n",
              "      <td>...</td>\n",
              "      <td>45</td>\n",
              "      <td>95</td>\n",
              "      <td>74</td>\n",
              "      <td>60</td>\n",
              "      <td>65</td>\n",
              "      <td>65</td>\n",
              "      <td>66</td>\n",
              "      <td>51</td>\n",
              "      <td>77</td>\n",
              "      <td>2305</td>\n",
              "    </tr>\n",
              "    <tr>\n",
              "      <th>28</th>\n",
              "      <td>57</td>\n",
              "      <td>68</td>\n",
              "      <td>85</td>\n",
              "      <td>94</td>\n",
              "      <td>59</td>\n",
              "      <td>47</td>\n",
              "      <td>70</td>\n",
              "      <td>69</td>\n",
              "      <td>63</td>\n",
              "      <td>49</td>\n",
              "      <td>...</td>\n",
              "      <td>59</td>\n",
              "      <td>75</td>\n",
              "      <td>67</td>\n",
              "      <td>84</td>\n",
              "      <td>67</td>\n",
              "      <td>83</td>\n",
              "      <td>71</td>\n",
              "      <td>61</td>\n",
              "      <td>47</td>\n",
              "      <td>2313</td>\n",
              "    </tr>\n",
              "    <tr>\n",
              "      <th>29</th>\n",
              "      <td>46</td>\n",
              "      <td>75</td>\n",
              "      <td>41</td>\n",
              "      <td>58</td>\n",
              "      <td>62</td>\n",
              "      <td>60</td>\n",
              "      <td>69</td>\n",
              "      <td>83</td>\n",
              "      <td>67</td>\n",
              "      <td>39</td>\n",
              "      <td>...</td>\n",
              "      <td>72</td>\n",
              "      <td>84</td>\n",
              "      <td>63</td>\n",
              "      <td>109</td>\n",
              "      <td>66</td>\n",
              "      <td>76</td>\n",
              "      <td>96</td>\n",
              "      <td>82</td>\n",
              "      <td>84</td>\n",
              "      <td>2108</td>\n",
              "    </tr>\n",
              "  </tbody>\n",
              "</table>\n",
              "<p>30 rows × 90 columns</p>\n",
              "</div>\n",
              "      <button class=\"colab-df-convert\" onclick=\"convertToInteractive('df-7c55e65e-9e15-4007-b7d3-73099bae509d')\"\n",
              "              title=\"Convert this dataframe to an interactive table.\"\n",
              "              style=\"display:none;\">\n",
              "        \n",
              "  <svg xmlns=\"http://www.w3.org/2000/svg\" height=\"24px\"viewBox=\"0 0 24 24\"\n",
              "       width=\"24px\">\n",
              "    <path d=\"M0 0h24v24H0V0z\" fill=\"none\"/>\n",
              "    <path d=\"M18.56 5.44l.94 2.06.94-2.06 2.06-.94-2.06-.94-.94-2.06-.94 2.06-2.06.94zm-11 1L8.5 8.5l.94-2.06 2.06-.94-2.06-.94L8.5 2.5l-.94 2.06-2.06.94zm10 10l.94 2.06.94-2.06 2.06-.94-2.06-.94-.94-2.06-.94 2.06-2.06.94z\"/><path d=\"M17.41 7.96l-1.37-1.37c-.4-.4-.92-.59-1.43-.59-.52 0-1.04.2-1.43.59L10.3 9.45l-7.72 7.72c-.78.78-.78 2.05 0 2.83L4 21.41c.39.39.9.59 1.41.59.51 0 1.02-.2 1.41-.59l7.78-7.78 2.81-2.81c.8-.78.8-2.07 0-2.86zM5.41 20L4 18.59l7.72-7.72 1.47 1.35L5.41 20z\"/>\n",
              "  </svg>\n",
              "      </button>\n",
              "      \n",
              "  <style>\n",
              "    .colab-df-container {\n",
              "      display:flex;\n",
              "      flex-wrap:wrap;\n",
              "      gap: 12px;\n",
              "    }\n",
              "\n",
              "    .colab-df-convert {\n",
              "      background-color: #E8F0FE;\n",
              "      border: none;\n",
              "      border-radius: 50%;\n",
              "      cursor: pointer;\n",
              "      display: none;\n",
              "      fill: #1967D2;\n",
              "      height: 32px;\n",
              "      padding: 0 0 0 0;\n",
              "      width: 32px;\n",
              "    }\n",
              "\n",
              "    .colab-df-convert:hover {\n",
              "      background-color: #E2EBFA;\n",
              "      box-shadow: 0px 1px 2px rgba(60, 64, 67, 0.3), 0px 1px 3px 1px rgba(60, 64, 67, 0.15);\n",
              "      fill: #174EA6;\n",
              "    }\n",
              "\n",
              "    [theme=dark] .colab-df-convert {\n",
              "      background-color: #3B4455;\n",
              "      fill: #D2E3FC;\n",
              "    }\n",
              "\n",
              "    [theme=dark] .colab-df-convert:hover {\n",
              "      background-color: #434B5C;\n",
              "      box-shadow: 0px 1px 3px 1px rgba(0, 0, 0, 0.15);\n",
              "      filter: drop-shadow(0px 1px 2px rgba(0, 0, 0, 0.3));\n",
              "      fill: #FFFFFF;\n",
              "    }\n",
              "  </style>\n",
              "\n",
              "      <script>\n",
              "        const buttonEl =\n",
              "          document.querySelector('#df-7c55e65e-9e15-4007-b7d3-73099bae509d button.colab-df-convert');\n",
              "        buttonEl.style.display =\n",
              "          google.colab.kernel.accessAllowed ? 'block' : 'none';\n",
              "\n",
              "        async function convertToInteractive(key) {\n",
              "          const element = document.querySelector('#df-7c55e65e-9e15-4007-b7d3-73099bae509d');\n",
              "          const dataTable =\n",
              "            await google.colab.kernel.invokeFunction('convertToInteractive',\n",
              "                                                     [key], {});\n",
              "          if (!dataTable) return;\n",
              "\n",
              "          const docLinkHtml = 'Like what you see? Visit the ' +\n",
              "            '<a target=\"_blank\" href=https://colab.research.google.com/notebooks/data_table.ipynb>data table notebook</a>'\n",
              "            + ' to learn more about interactive tables.';\n",
              "          element.innerHTML = '';\n",
              "          dataTable['output_type'] = 'display_data';\n",
              "          await google.colab.output.renderOutput(dataTable, element);\n",
              "          const docLink = document.createElement('div');\n",
              "          docLink.innerHTML = docLinkHtml;\n",
              "          element.appendChild(docLink);\n",
              "        }\n",
              "      </script>\n",
              "    </div>\n",
              "  </div>\n",
              "  "
            ]
          },
          "metadata": {},
          "execution_count": 53
        }
      ],
      "source": [
        "df1"
      ]
    },
    {
      "cell_type": "code",
      "execution_count": 54,
      "metadata": {
        "colab": {
          "base_uri": "https://localhost:8080/"
        },
        "id": "KmGOAgEPkBAH",
        "outputId": "3c891265-0e4d-4ce5-c281-8c620e3c1b29"
      },
      "outputs": [
        {
          "output_type": "execute_result",
          "data": {
            "text/plain": [
              "(30, 90)"
            ]
          },
          "metadata": {},
          "execution_count": 54
        }
      ],
      "source": [
        "df1.shape"
      ]
    },
    {
      "cell_type": "markdown",
      "source": [
        "##Segregagtion of features and Labels"
      ],
      "metadata": {
        "id": "3aba_SSI4cZU"
      }
    },
    {
      "cell_type": "code",
      "source": [
        "Y = df1[\"Order Item Quantity\"]\n",
        "X = df1.drop(columns=[\"Order Item Quantity\"])"
      ],
      "metadata": {
        "id": "v25TElxilLBd"
      },
      "execution_count": 55,
      "outputs": []
    },
    {
      "cell_type": "markdown",
      "metadata": {
        "id": "aUyYPQKkkBAH"
      },
      "source": [
        "# Fitting the Model"
      ]
    },
    {
      "cell_type": "markdown",
      "metadata": {
        "id": "pC2lQfr0kBAH"
      },
      "source": [
        "## XgBoost Regressor\n",
        "        VARIATION-I [FEATURES : Previous 90 Days Sales]"
      ]
    },
    {
      "cell_type": "markdown",
      "metadata": {
        "id": "1LSImCjSkBAH"
      },
      "source": [
        "Previous 89 days Items Sold data is used as features to predict the Items Sold in the next month."
      ]
    },
    {
      "cell_type": "markdown",
      "metadata": {
        "id": "n_soNH_tkBAH"
      },
      "source": [
        "### Train Test Split"
      ]
    },
    {
      "cell_type": "code",
      "execution_count": 56,
      "metadata": {
        "colab": {
          "base_uri": "https://localhost:8080/"
        },
        "id": "J3im-18QkBAH",
        "outputId": "4c37dfc7-1ece-4bd6-92ea-e2c1d20315cf"
      },
      "outputs": [
        {
          "output_type": "stream",
          "name": "stdout",
          "text": [
            "No. of training examples: 24\n",
            "No. of testing examples: 6\n"
          ]
        }
      ],
      "source": [
        "from sklearn.model_selection import train_test_split\n",
        "training_data, testing_data = train_test_split(df1, test_size=0.2, shuffle=True, random_state=1)\n",
        "print(f\"No. of training examples: {training_data.shape[0]}\")\n",
        "print(f\"No. of testing examples: {testing_data.shape[0]}\")"
      ]
    },
    {
      "cell_type": "code",
      "execution_count": 57,
      "metadata": {
        "id": "mBmhKeJUkBAI"
      },
      "outputs": [],
      "source": [
        "x_train, y_train = training_data.drop(\"Order Item Quantity\", axis=1), training_data['Order Item Quantity']\n",
        "x_test, y_test   = testing_data.drop(\"Order Item Quantity\", axis=1) , testing_data['Order Item Quantity']"
      ]
    },
    {
      "cell_type": "code",
      "execution_count": 58,
      "metadata": {
        "colab": {
          "base_uri": "https://localhost:8080/"
        },
        "id": "LE4bNpcqkBAI",
        "outputId": "a176cccf-b9e1-4c05-b3c6-123d2cf539da"
      },
      "outputs": [
        {
          "output_type": "stream",
          "name": "stdout",
          "text": [
            "[23:56:08] WARNING: /workspace/src/objective/regression_obj.cu:152: reg:linear is now deprecated in favor of reg:squarederror.\n"
          ]
        },
        {
          "output_type": "execute_result",
          "data": {
            "text/plain": [
              "XGBRegressor()"
            ]
          },
          "metadata": {},
          "execution_count": 58
        }
      ],
      "source": [
        "import xgboost as xgb\n",
        "from sklearn.metrics import mean_absolute_error\n",
        "model = xgb.XGBRegressor()\n",
        "model.fit(x_train, y_train)"
      ]
    },
    {
      "cell_type": "code",
      "execution_count": 59,
      "metadata": {
        "id": "5gDSpXcukBAI"
      },
      "outputs": [],
      "source": [
        "preds = pd.DataFrame(model.predict(x_test))"
      ]
    },
    {
      "cell_type": "markdown",
      "metadata": {
        "id": "jtXUz6sqkBAI"
      },
      "source": [
        "### Evaluation Metric"
      ]
    },
    {
      "cell_type": "code",
      "execution_count": 60,
      "metadata": {
        "id": "Zm9ZD_mnkBAI"
      },
      "outputs": [],
      "source": [
        "from sklearn.metrics import mean_absolute_error, mean_squared_error"
      ]
    },
    {
      "cell_type": "code",
      "execution_count": 61,
      "metadata": {
        "colab": {
          "base_uri": "https://localhost:8080/"
        },
        "id": "kRsVErYzkBAJ",
        "outputId": "b857f748-55e2-445f-d4e7-056911a1433f"
      },
      "outputs": [
        {
          "output_type": "stream",
          "name": "stdout",
          "text": [
            "\tMean absolute error (MAE): 105.91363525390625\n",
            "\tRoot Mean squared error (RMSE): 169.3657350915373\n"
          ]
        }
      ],
      "source": [
        "print(\"\\tMean absolute error (MAE):\", mean_absolute_error(y_test, preds))\n",
        "print(\"\\tRoot Mean squared error (RMSE):\",  np.sqrt(mean_squared_error(y_test, preds)))"
      ]
    },
    {
      "cell_type": "code",
      "execution_count": 62,
      "metadata": {
        "colab": {
          "base_uri": "https://localhost:8080/"
        },
        "id": "xaeWp9fIkBAJ",
        "outputId": "c45a64d6-e3d1-438e-8c30-283f370b1eff"
      },
      "outputs": [
        {
          "output_type": "execute_result",
          "data": {
            "text/plain": [
              "4.716102956937953"
            ]
          },
          "metadata": {},
          "execution_count": 62
        }
      ],
      "source": [
        "from sklearn.metrics import mean_absolute_percentage_error\n",
        "mean_absolute_percentage_error(y_test, preds)*100"
      ]
    },
    {
      "cell_type": "code",
      "execution_count": 63,
      "metadata": {
        "colab": {
          "base_uri": "https://localhost:8080/"
        },
        "id": "zv5tEcZ5kBAJ",
        "outputId": "d6e91609-104b-4306-956a-7b5b20e39d57"
      },
      "outputs": [
        {
          "output_type": "stream",
          "name": "stdout",
          "text": [
            "17    2224\n",
            "21    2270\n",
            "10    2047\n",
            "19    2260\n",
            "14    2181\n",
            "20    2361\n",
            "Name: Order Item Quantity, dtype: int64\n",
            "             0\n",
            "0  2217.627197\n",
            "1  2238.650391\n",
            "2  2229.230957\n",
            "3  2239.719238\n",
            "4  2206.351807\n",
            "5  1991.104126\n"
          ]
        }
      ],
      "source": [
        "print(y_test)\n",
        "\n",
        "print(preds)"
      ]
    },
    {
      "cell_type": "markdown",
      "metadata": {
        "id": "iYLcBl8-kBAJ"
      },
      "source": [
        "## K-fold Cross Validation"
      ]
    },
    {
      "cell_type": "code",
      "execution_count": 64,
      "metadata": {
        "id": "k_mDG0d4kBAJ"
      },
      "outputs": [],
      "source": [
        "#import necessary libraries\n",
        "\n",
        "from sklearn.model_selection import KFold\n",
        "from sklearn.model_selection import cross_val_score\n",
        "from sklearn.model_selection import cross_val_predict\n",
        "from numpy import mean\n",
        "from numpy import absolute\n",
        "from numpy import sqrt"
      ]
    },
    {
      "cell_type": "markdown",
      "metadata": {
        "id": "bQn25H96kBAK"
      },
      "source": [
        "We’ll fit a XGBOOST model to the dataset and perform k-fold cross validation to evaluate the model performance."
      ]
    },
    {
      "cell_type": "code",
      "execution_count": 65,
      "metadata": {
        "id": "TEvrrtEvkBAK"
      },
      "outputs": [],
      "source": [
        "#define cross-validation method to use\n",
        "\n",
        "cv = KFold(n_splits=10, random_state=1, shuffle=True)\n",
        "\n",
        "#build xtreme gradient boosting model\n",
        "xgboost = xgb.XGBRegressor() \n"
      ]
    },
    {
      "cell_type": "markdown",
      "metadata": {
        "id": "PIPN5L4qkBAK"
      },
      "source": [
        "### Model Evaluation"
      ]
    },
    {
      "cell_type": "code",
      "execution_count": 66,
      "metadata": {
        "colab": {
          "base_uri": "https://localhost:8080/"
        },
        "id": "deJ5CuYrkBAL",
        "outputId": "3d496ced-9bd6-4a1f-fba0-982600bbfa04"
      },
      "outputs": [
        {
          "output_type": "execute_result",
          "data": {
            "text/plain": [
              "array([ -43.19767253, -133.42919922, -121.15771484, -143.87426758,\n",
              "        -65.2730306 , -110.40071615, -128.08260091, -105.52319336,\n",
              "        -44.28914388,  -48.07348633])"
            ]
          },
          "metadata": {},
          "execution_count": 66
        }
      ],
      "source": [
        "#use k-fold CV to evaluate model\n",
        "score1 = cross_val_score(xgboost, X, Y, scoring='neg_mean_absolute_error',\n",
        "                         cv=cv, n_jobs=-1)\n",
        "#view mean absolute errors\n",
        "score1\n"
      ]
    },
    {
      "cell_type": "code",
      "execution_count": 67,
      "metadata": {
        "colab": {
          "base_uri": "https://localhost:8080/"
        },
        "id": "_3iK_hrakBAL",
        "outputId": "f54973ae-bd8d-4a7c-a613-2e4fc701ac6a"
      },
      "outputs": [
        {
          "output_type": "stream",
          "name": "stdout",
          "text": [
            "\tMean absolute error (MAE): 94.3301025390625\n"
          ]
        }
      ],
      "source": [
        "print(\"\\tMean absolute error (MAE):\", mean(absolute(score1)))"
      ]
    },
    {
      "cell_type": "code",
      "execution_count": 68,
      "metadata": {
        "colab": {
          "base_uri": "https://localhost:8080/"
        },
        "id": "SosYHTANkBAL",
        "outputId": "0885e5e8-944f-4222-80c2-0171a2def9d0"
      },
      "outputs": [
        {
          "output_type": "stream",
          "name": "stdout",
          "text": [
            "\tRoot Mean squared error (RMSE): 121.65072764097421\n"
          ]
        }
      ],
      "source": [
        "score2 = cross_val_score(xgboost, X, Y, scoring='neg_mean_squared_error',\n",
        "                         cv=cv, n_jobs=-1)\n",
        "print(\"\\tRoot Mean squared error (RMSE):\", sqrt(mean(absolute(score2))))"
      ]
    },
    {
      "cell_type": "markdown",
      "metadata": {
        "id": "OkVQF1RVkBAL"
      },
      "source": [
        "##### Calculating Mean Absolute Percentage Error with custom function"
      ]
    },
    {
      "cell_type": "code",
      "execution_count": 69,
      "metadata": {
        "colab": {
          "base_uri": "https://localhost:8080/"
        },
        "id": "weubuj1ikBAL",
        "outputId": "19f11f79-58bf-44d5-ac95-969b206e048c"
      },
      "outputs": [
        {
          "output_type": "stream",
          "name": "stdout",
          "text": [
            "[23:56:11] WARNING: /workspace/src/objective/regression_obj.cu:152: reg:linear is now deprecated in favor of reg:squarederror.\n",
            "[23:56:11] WARNING: /workspace/src/objective/regression_obj.cu:152: reg:linear is now deprecated in favor of reg:squarederror.\n",
            "[23:56:11] WARNING: /workspace/src/objective/regression_obj.cu:152: reg:linear is now deprecated in favor of reg:squarederror.\n",
            "[23:56:11] WARNING: /workspace/src/objective/regression_obj.cu:152: reg:linear is now deprecated in favor of reg:squarederror.\n",
            "[23:56:11] WARNING: /workspace/src/objective/regression_obj.cu:152: reg:linear is now deprecated in favor of reg:squarederror.\n",
            "[23:56:11] WARNING: /workspace/src/objective/regression_obj.cu:152: reg:linear is now deprecated in favor of reg:squarederror.\n",
            "[23:56:11] WARNING: /workspace/src/objective/regression_obj.cu:152: reg:linear is now deprecated in favor of reg:squarederror.\n",
            "[23:56:11] WARNING: /workspace/src/objective/regression_obj.cu:152: reg:linear is now deprecated in favor of reg:squarederror.\n",
            "[23:56:11] WARNING: /workspace/src/objective/regression_obj.cu:152: reg:linear is now deprecated in favor of reg:squarederror.\n",
            "[23:56:11] WARNING: /workspace/src/objective/regression_obj.cu:152: reg:linear is now deprecated in favor of reg:squarederror.\n"
          ]
        },
        {
          "output_type": "execute_result",
          "data": {
            "text/plain": [
              "array([-1.01454749, -4.77729881, -5.00884047, -5.19661837, -2.02397001,\n",
              "       -3.70571819, -4.61956347, -3.91333736, -0.93442168, -1.03164687])"
            ]
          },
          "metadata": {},
          "execution_count": 69
        }
      ],
      "source": [
        "from sklearn.metrics import make_scorer\n",
        "\n",
        "#define custom function which returns single output as metric score\n",
        "def MAPE(y_true, y_pred): \n",
        "    return 1 - np.mean(np.abs((y_true - y_pred) / y_true)) * 100\n",
        "\n",
        "#make scorer from custome function\n",
        "mape_scorer = make_scorer(MAPE)\n",
        "\n",
        "#cross validation score on model\n",
        "score3 = cross_val_score(xgboost, X, Y, scoring=mape_scorer, cv=cv)\n",
        "score3"
      ]
    },
    {
      "cell_type": "code",
      "execution_count": 70,
      "metadata": {
        "colab": {
          "base_uri": "https://localhost:8080/"
        },
        "id": "9suS0RIZkBAM",
        "outputId": "3e39d29d-8791-453b-9a9e-bd8c7427fba1"
      },
      "outputs": [
        {
          "output_type": "stream",
          "name": "stdout",
          "text": [
            "\t Mean Absolute Percentage error (MAPE): 3.2225962716948118\n"
          ]
        }
      ],
      "source": [
        "print(\"\\t Mean Absolute Percentage error (MAPE):\", mean(absolute(score3)))"
      ]
    },
    {
      "cell_type": "code",
      "source": [
        "predictions = cross_val_predict(xgboost, X,Y, cv=cv)\n",
        "print(predictions)"
      ],
      "metadata": {
        "colab": {
          "base_uri": "https://localhost:8080/"
        },
        "id": "s7WXKZxv-U4H",
        "outputId": "cf4baa48-947f-42e4-860e-c2492884490d"
      },
      "execution_count": 71,
      "outputs": [
        {
          "output_type": "stream",
          "name": "stdout",
          "text": [
            "[23:56:11] WARNING: /workspace/src/objective/regression_obj.cu:152: reg:linear is now deprecated in favor of reg:squarederror.\n",
            "[23:56:11] WARNING: /workspace/src/objective/regression_obj.cu:152: reg:linear is now deprecated in favor of reg:squarederror.\n",
            "[23:56:11] WARNING: /workspace/src/objective/regression_obj.cu:152: reg:linear is now deprecated in favor of reg:squarederror.\n",
            "[23:56:11] WARNING: /workspace/src/objective/regression_obj.cu:152: reg:linear is now deprecated in favor of reg:squarederror.\n",
            "[23:56:11] WARNING: /workspace/src/objective/regression_obj.cu:152: reg:linear is now deprecated in favor of reg:squarederror.\n",
            "[23:56:12] WARNING: /workspace/src/objective/regression_obj.cu:152: reg:linear is now deprecated in favor of reg:squarederror.\n",
            "[23:56:12] WARNING: /workspace/src/objective/regression_obj.cu:152: reg:linear is now deprecated in favor of reg:squarederror.\n",
            "[23:56:12] WARNING: /workspace/src/objective/regression_obj.cu:152: reg:linear is now deprecated in favor of reg:squarederror.\n",
            "[23:56:12] WARNING: /workspace/src/objective/regression_obj.cu:152: reg:linear is now deprecated in favor of reg:squarederror.\n",
            "[23:56:12] WARNING: /workspace/src/objective/regression_obj.cu:152: reg:linear is now deprecated in favor of reg:squarederror.\n",
            "[2316.2976 2096.0957 2239.4673 2185.757  2117.9211 2193.6838 2260.503\n",
            " 2275.7573 2218.3748 2211.561  2114.1243 2278.5505 2230.0872 2243.19\n",
            " 2244.694  2249.9006 2157.2908 2237.7866 2206.3652 2178.064  2106.3425\n",
            " 2221.3179 2243.2883 2183.7444 2236.6267 2209.1511 2196.6035 2198.3657\n",
            " 2204.0684 2273.3713]\n"
          ]
        }
      ]
    },
    {
      "cell_type": "markdown",
      "source": [],
      "metadata": {
        "id": "bYPRI561-VJG"
      }
    },
    {
      "cell_type": "code",
      "source": [],
      "metadata": {
        "id": "Twij58o7Ao6a"
      },
      "execution_count": 71,
      "outputs": []
    },
    {
      "cell_type": "markdown",
      "metadata": {
        "id": "tgV2_o91kBAM"
      },
      "source": [
        "## XgBoost Regressor\n",
        "        VARIATION-II [FEATURES : Previous 90 Days Sales + Monthly Item Discount]"
      ]
    },
    {
      "cell_type": "code",
      "execution_count": 72,
      "metadata": {
        "id": "5EHnOYkmkBAM"
      },
      "outputs": [],
      "source": [
        "df2 = df1.copy()"
      ]
    },
    {
      "cell_type": "code",
      "execution_count": 73,
      "metadata": {
        "colab": {
          "base_uri": "https://localhost:8080/",
          "height": 235
        },
        "id": "SE9tdb2pkBAM",
        "outputId": "21bba5bb-829e-41de-d204-d4e49812d5ef"
      },
      "outputs": [
        {
          "output_type": "execute_result",
          "data": {
            "text/plain": [
              "   Day0  Day1  Day2  Day3  Day4  Day5  Day6  Day7  Day8  Day9  ...  Day80  \\\n",
              "0    77    73    88    90    62    71    83    79    81    63  ...     79   \n",
              "1    74    47    58    63    77    88    82    53    92   101  ...     66   \n",
              "2    78    98    66    71    72    81    93    81    61    86  ...     67   \n",
              "3    64    65    86    69    42    65    73    94    73    48  ...     46   \n",
              "4    78    37    62    64    78    92    55    72    54    90  ...     79   \n",
              "\n",
              "   Day81  Day82  Day83  Day84  Day85  Day86  Day87  Day88  Order Item Quantity  \n",
              "0     73     82     45     55     66     61    131     76                 2187  \n",
              "1     72     58     97     82     67     63     59    105                 2220  \n",
              "2     57     66     81     57     55    102     74     63                 2142  \n",
              "3     52     87     78     84     80    102     57     61                 2274  \n",
              "4     72     76     77     45     91     59     79     93                 2411  \n",
              "\n",
              "[5 rows x 90 columns]"
            ],
            "text/html": [
              "\n",
              "  <div id=\"df-ec2d8784-618a-4735-9a27-0622cab88de9\">\n",
              "    <div class=\"colab-df-container\">\n",
              "      <div>\n",
              "<style scoped>\n",
              "    .dataframe tbody tr th:only-of-type {\n",
              "        vertical-align: middle;\n",
              "    }\n",
              "\n",
              "    .dataframe tbody tr th {\n",
              "        vertical-align: top;\n",
              "    }\n",
              "\n",
              "    .dataframe thead th {\n",
              "        text-align: right;\n",
              "    }\n",
              "</style>\n",
              "<table border=\"1\" class=\"dataframe\">\n",
              "  <thead>\n",
              "    <tr style=\"text-align: right;\">\n",
              "      <th></th>\n",
              "      <th>Day0</th>\n",
              "      <th>Day1</th>\n",
              "      <th>Day2</th>\n",
              "      <th>Day3</th>\n",
              "      <th>Day4</th>\n",
              "      <th>Day5</th>\n",
              "      <th>Day6</th>\n",
              "      <th>Day7</th>\n",
              "      <th>Day8</th>\n",
              "      <th>Day9</th>\n",
              "      <th>...</th>\n",
              "      <th>Day80</th>\n",
              "      <th>Day81</th>\n",
              "      <th>Day82</th>\n",
              "      <th>Day83</th>\n",
              "      <th>Day84</th>\n",
              "      <th>Day85</th>\n",
              "      <th>Day86</th>\n",
              "      <th>Day87</th>\n",
              "      <th>Day88</th>\n",
              "      <th>Order Item Quantity</th>\n",
              "    </tr>\n",
              "  </thead>\n",
              "  <tbody>\n",
              "    <tr>\n",
              "      <th>0</th>\n",
              "      <td>77</td>\n",
              "      <td>73</td>\n",
              "      <td>88</td>\n",
              "      <td>90</td>\n",
              "      <td>62</td>\n",
              "      <td>71</td>\n",
              "      <td>83</td>\n",
              "      <td>79</td>\n",
              "      <td>81</td>\n",
              "      <td>63</td>\n",
              "      <td>...</td>\n",
              "      <td>79</td>\n",
              "      <td>73</td>\n",
              "      <td>82</td>\n",
              "      <td>45</td>\n",
              "      <td>55</td>\n",
              "      <td>66</td>\n",
              "      <td>61</td>\n",
              "      <td>131</td>\n",
              "      <td>76</td>\n",
              "      <td>2187</td>\n",
              "    </tr>\n",
              "    <tr>\n",
              "      <th>1</th>\n",
              "      <td>74</td>\n",
              "      <td>47</td>\n",
              "      <td>58</td>\n",
              "      <td>63</td>\n",
              "      <td>77</td>\n",
              "      <td>88</td>\n",
              "      <td>82</td>\n",
              "      <td>53</td>\n",
              "      <td>92</td>\n",
              "      <td>101</td>\n",
              "      <td>...</td>\n",
              "      <td>66</td>\n",
              "      <td>72</td>\n",
              "      <td>58</td>\n",
              "      <td>97</td>\n",
              "      <td>82</td>\n",
              "      <td>67</td>\n",
              "      <td>63</td>\n",
              "      <td>59</td>\n",
              "      <td>105</td>\n",
              "      <td>2220</td>\n",
              "    </tr>\n",
              "    <tr>\n",
              "      <th>2</th>\n",
              "      <td>78</td>\n",
              "      <td>98</td>\n",
              "      <td>66</td>\n",
              "      <td>71</td>\n",
              "      <td>72</td>\n",
              "      <td>81</td>\n",
              "      <td>93</td>\n",
              "      <td>81</td>\n",
              "      <td>61</td>\n",
              "      <td>86</td>\n",
              "      <td>...</td>\n",
              "      <td>67</td>\n",
              "      <td>57</td>\n",
              "      <td>66</td>\n",
              "      <td>81</td>\n",
              "      <td>57</td>\n",
              "      <td>55</td>\n",
              "      <td>102</td>\n",
              "      <td>74</td>\n",
              "      <td>63</td>\n",
              "      <td>2142</td>\n",
              "    </tr>\n",
              "    <tr>\n",
              "      <th>3</th>\n",
              "      <td>64</td>\n",
              "      <td>65</td>\n",
              "      <td>86</td>\n",
              "      <td>69</td>\n",
              "      <td>42</td>\n",
              "      <td>65</td>\n",
              "      <td>73</td>\n",
              "      <td>94</td>\n",
              "      <td>73</td>\n",
              "      <td>48</td>\n",
              "      <td>...</td>\n",
              "      <td>46</td>\n",
              "      <td>52</td>\n",
              "      <td>87</td>\n",
              "      <td>78</td>\n",
              "      <td>84</td>\n",
              "      <td>80</td>\n",
              "      <td>102</td>\n",
              "      <td>57</td>\n",
              "      <td>61</td>\n",
              "      <td>2274</td>\n",
              "    </tr>\n",
              "    <tr>\n",
              "      <th>4</th>\n",
              "      <td>78</td>\n",
              "      <td>37</td>\n",
              "      <td>62</td>\n",
              "      <td>64</td>\n",
              "      <td>78</td>\n",
              "      <td>92</td>\n",
              "      <td>55</td>\n",
              "      <td>72</td>\n",
              "      <td>54</td>\n",
              "      <td>90</td>\n",
              "      <td>...</td>\n",
              "      <td>79</td>\n",
              "      <td>72</td>\n",
              "      <td>76</td>\n",
              "      <td>77</td>\n",
              "      <td>45</td>\n",
              "      <td>91</td>\n",
              "      <td>59</td>\n",
              "      <td>79</td>\n",
              "      <td>93</td>\n",
              "      <td>2411</td>\n",
              "    </tr>\n",
              "  </tbody>\n",
              "</table>\n",
              "<p>5 rows × 90 columns</p>\n",
              "</div>\n",
              "      <button class=\"colab-df-convert\" onclick=\"convertToInteractive('df-ec2d8784-618a-4735-9a27-0622cab88de9')\"\n",
              "              title=\"Convert this dataframe to an interactive table.\"\n",
              "              style=\"display:none;\">\n",
              "        \n",
              "  <svg xmlns=\"http://www.w3.org/2000/svg\" height=\"24px\"viewBox=\"0 0 24 24\"\n",
              "       width=\"24px\">\n",
              "    <path d=\"M0 0h24v24H0V0z\" fill=\"none\"/>\n",
              "    <path d=\"M18.56 5.44l.94 2.06.94-2.06 2.06-.94-2.06-.94-.94-2.06-.94 2.06-2.06.94zm-11 1L8.5 8.5l.94-2.06 2.06-.94-2.06-.94L8.5 2.5l-.94 2.06-2.06.94zm10 10l.94 2.06.94-2.06 2.06-.94-2.06-.94-.94-2.06-.94 2.06-2.06.94z\"/><path d=\"M17.41 7.96l-1.37-1.37c-.4-.4-.92-.59-1.43-.59-.52 0-1.04.2-1.43.59L10.3 9.45l-7.72 7.72c-.78.78-.78 2.05 0 2.83L4 21.41c.39.39.9.59 1.41.59.51 0 1.02-.2 1.41-.59l7.78-7.78 2.81-2.81c.8-.78.8-2.07 0-2.86zM5.41 20L4 18.59l7.72-7.72 1.47 1.35L5.41 20z\"/>\n",
              "  </svg>\n",
              "      </button>\n",
              "      \n",
              "  <style>\n",
              "    .colab-df-container {\n",
              "      display:flex;\n",
              "      flex-wrap:wrap;\n",
              "      gap: 12px;\n",
              "    }\n",
              "\n",
              "    .colab-df-convert {\n",
              "      background-color: #E8F0FE;\n",
              "      border: none;\n",
              "      border-radius: 50%;\n",
              "      cursor: pointer;\n",
              "      display: none;\n",
              "      fill: #1967D2;\n",
              "      height: 32px;\n",
              "      padding: 0 0 0 0;\n",
              "      width: 32px;\n",
              "    }\n",
              "\n",
              "    .colab-df-convert:hover {\n",
              "      background-color: #E2EBFA;\n",
              "      box-shadow: 0px 1px 2px rgba(60, 64, 67, 0.3), 0px 1px 3px 1px rgba(60, 64, 67, 0.15);\n",
              "      fill: #174EA6;\n",
              "    }\n",
              "\n",
              "    [theme=dark] .colab-df-convert {\n",
              "      background-color: #3B4455;\n",
              "      fill: #D2E3FC;\n",
              "    }\n",
              "\n",
              "    [theme=dark] .colab-df-convert:hover {\n",
              "      background-color: #434B5C;\n",
              "      box-shadow: 0px 1px 3px 1px rgba(0, 0, 0, 0.15);\n",
              "      filter: drop-shadow(0px 1px 2px rgba(0, 0, 0, 0.3));\n",
              "      fill: #FFFFFF;\n",
              "    }\n",
              "  </style>\n",
              "\n",
              "      <script>\n",
              "        const buttonEl =\n",
              "          document.querySelector('#df-ec2d8784-618a-4735-9a27-0622cab88de9 button.colab-df-convert');\n",
              "        buttonEl.style.display =\n",
              "          google.colab.kernel.accessAllowed ? 'block' : 'none';\n",
              "\n",
              "        async function convertToInteractive(key) {\n",
              "          const element = document.querySelector('#df-ec2d8784-618a-4735-9a27-0622cab88de9');\n",
              "          const dataTable =\n",
              "            await google.colab.kernel.invokeFunction('convertToInteractive',\n",
              "                                                     [key], {});\n",
              "          if (!dataTable) return;\n",
              "\n",
              "          const docLinkHtml = 'Like what you see? Visit the ' +\n",
              "            '<a target=\"_blank\" href=https://colab.research.google.com/notebooks/data_table.ipynb>data table notebook</a>'\n",
              "            + ' to learn more about interactive tables.';\n",
              "          element.innerHTML = '';\n",
              "          dataTable['output_type'] = 'display_data';\n",
              "          await google.colab.output.renderOutput(dataTable, element);\n",
              "          const docLink = document.createElement('div');\n",
              "          docLink.innerHTML = docLinkHtml;\n",
              "          element.appendChild(docLink);\n",
              "        }\n",
              "      </script>\n",
              "    </div>\n",
              "  </div>\n",
              "  "
            ]
          },
          "metadata": {},
          "execution_count": 73
        }
      ],
      "source": [
        "df2.head()"
      ]
    },
    {
      "cell_type": "markdown",
      "metadata": {
        "id": "95Ui4zMjkBAM"
      },
      "source": [
        "### Adding a Regressor variable to the dataframe"
      ]
    },
    {
      "cell_type": "code",
      "execution_count": 74,
      "metadata": {
        "id": "hZfgPecEkBAN"
      },
      "outputs": [],
      "source": [
        "df2.insert(loc=90, column='Order Item Discount', value=MonthlyItemDiscount)"
      ]
    },
    {
      "cell_type": "code",
      "execution_count": 75,
      "metadata": {
        "colab": {
          "base_uri": "https://localhost:8080/",
          "height": 1000
        },
        "id": "LXhdzsvZkBAN",
        "outputId": "29f833b0-22c5-48ff-ac52-672495c7edf3"
      },
      "outputs": [
        {
          "output_type": "execute_result",
          "data": {
            "text/plain": [
              "    Day0  Day1  Day2  Day3  Day4  Day5  Day6  Day7  Day8  Day9  ...  Day81  \\\n",
              "0     77    73    88    90    62    71    83    79    81    63  ...     73   \n",
              "1     74    47    58    63    77    88    82    53    92   101  ...     72   \n",
              "2     78    98    66    71    72    81    93    81    61    86  ...     57   \n",
              "3     64    65    86    69    42    65    73    94    73    48  ...     52   \n",
              "4     78    37    62    64    78    92    55    72    54    90  ...     72   \n",
              "5     71    57    37    88    98    37    46    47    65    89  ...     80   \n",
              "6     65    71    70    47    57    73    78    79    65    75  ...     99   \n",
              "7    102    68    71    83    56    71    85    54    97    84  ...     68   \n",
              "8     55    75    55    90    69   120    50    52    93    88  ...     60   \n",
              "9     58    76    93    80    80    81    61    74    73    74  ...     92   \n",
              "10    96    58    65    48    96    69    65    81    84    77  ...     94   \n",
              "11    81    75    86    70    46    58   109    75    50    73  ...     67   \n",
              "12    88    97    46    95    80    53    60    51    40    50  ...     68   \n",
              "13    58   103    51    80    65    92    95    62    54    73  ...     73   \n",
              "14    81    80    59    80    84    71    75    83    73    57  ...     69   \n",
              "15    35    52   117    80    83    64    65    81    69    68  ...     44   \n",
              "16    87    94    84    58    92    84    61    71   101    70  ...     78   \n",
              "17    88    65    78    75    70    67    77    63    93    68  ...     57   \n",
              "18    79    86    60    79    72    83    65    82    65    62  ...     64   \n",
              "19    65    86    86    65    75   102    47    93    86    64  ...    107   \n",
              "20    70    87   106   126    68    71    73    53    61    69  ...     74   \n",
              "21    60    48    97    53    81    54    74    77    93    69  ...     76   \n",
              "22    82    55    73    98    63    76    35   133    51    46  ...     61   \n",
              "23    82    54    97    94    95    79    67    72    89    74  ...     84   \n",
              "24    92    52    54    52    83    75    87    58    70    74  ...     52   \n",
              "25    81    86    75    51    71    95    64    85    69    77  ...     82   \n",
              "26    83    37    61   105    93    69    50    87    62    94  ...     75   \n",
              "27   103    64    71    64    54    88    70    54    54    79  ...     95   \n",
              "28    57    68    85    94    59    47    70    69    63    49  ...     75   \n",
              "29    46    75    41    58    62    60    69    83    67    39  ...     84   \n",
              "\n",
              "    Day82  Day83  Day84  Day85  Day86  Day87  Day88  Order Item Quantity  \\\n",
              "0      82     45     55     66     61    131     76                 2187   \n",
              "1      58     97     82     67     63     59    105                 2220   \n",
              "2      66     81     57     55    102     74     63                 2142   \n",
              "3      87     78     84     80    102     57     61                 2274   \n",
              "4      76     77     45     91     59     79     93                 2411   \n",
              "5      91     57     78    120     92     69     94                 2177   \n",
              "6      65     61     87     72     49     57     84                 2171   \n",
              "7      64     57     63     58     93     59     84                 2205   \n",
              "8      49     79     68     67     78    124     71                 2218   \n",
              "9      72     86     95     72     57     63     66                 2188   \n",
              "10     70     85     64     59     62     68     70                 2047   \n",
              "11     92     61     55     87     51     59     77                 2401   \n",
              "12     93     97     68     70     91    107     81                 2225   \n",
              "13     75     67     54     65     87     72     61                 2432   \n",
              "14     53     79    100     97     67     75    106                 2181   \n",
              "15     91     91     74     82     60     84     65                 2228   \n",
              "16     81     69     55     59     83     59     60                 2311   \n",
              "17     88     83     84     67     59     83     74                 2224   \n",
              "18     74     75     74     55     78     75     70                 2278   \n",
              "19     65     88     69     73    116     68     67                 2260   \n",
              "20     65     84     67     54    103     84     91                 2361   \n",
              "21     89     38     78     66     83     73     85                 2270   \n",
              "22     77     81     61     64     58     61     77                 2136   \n",
              "23     89     94     57     94     85     54     86                 2215   \n",
              "24     69     39     31     45     90     69     62                 2224   \n",
              "25     76     63     46     66    102     66    107                 2218   \n",
              "26     77     71     85     59     81     94     51                 1934   \n",
              "27     74     60     65     65     66     51     77                 2305   \n",
              "28     67     84     67     83     71     61     47                 2313   \n",
              "29     63    109     66     76     96     82     84                 2108   \n",
              "\n",
              "    Order Item Discount  \n",
              "0                 13302  \n",
              "1                 13479  \n",
              "2                 13024  \n",
              "3                 13583  \n",
              "4                 14779  \n",
              "5                 13295  \n",
              "6                 13070  \n",
              "7                 13418  \n",
              "8                 13526  \n",
              "9                 13274  \n",
              "10                12430  \n",
              "11                14655  \n",
              "12                13335  \n",
              "13                14783  \n",
              "14                13119  \n",
              "15                13657  \n",
              "16                13989  \n",
              "17                13498  \n",
              "18                13794  \n",
              "19                13699  \n",
              "20                14502  \n",
              "21                13828  \n",
              "22                13039  \n",
              "23                13373  \n",
              "24                13416  \n",
              "25                13558  \n",
              "26                11709  \n",
              "27                13999  \n",
              "28                14081  \n",
              "29                13753  \n",
              "\n",
              "[30 rows x 91 columns]"
            ],
            "text/html": [
              "\n",
              "  <div id=\"df-9f286642-87bb-48f3-af8f-e10b19a335e8\">\n",
              "    <div class=\"colab-df-container\">\n",
              "      <div>\n",
              "<style scoped>\n",
              "    .dataframe tbody tr th:only-of-type {\n",
              "        vertical-align: middle;\n",
              "    }\n",
              "\n",
              "    .dataframe tbody tr th {\n",
              "        vertical-align: top;\n",
              "    }\n",
              "\n",
              "    .dataframe thead th {\n",
              "        text-align: right;\n",
              "    }\n",
              "</style>\n",
              "<table border=\"1\" class=\"dataframe\">\n",
              "  <thead>\n",
              "    <tr style=\"text-align: right;\">\n",
              "      <th></th>\n",
              "      <th>Day0</th>\n",
              "      <th>Day1</th>\n",
              "      <th>Day2</th>\n",
              "      <th>Day3</th>\n",
              "      <th>Day4</th>\n",
              "      <th>Day5</th>\n",
              "      <th>Day6</th>\n",
              "      <th>Day7</th>\n",
              "      <th>Day8</th>\n",
              "      <th>Day9</th>\n",
              "      <th>...</th>\n",
              "      <th>Day81</th>\n",
              "      <th>Day82</th>\n",
              "      <th>Day83</th>\n",
              "      <th>Day84</th>\n",
              "      <th>Day85</th>\n",
              "      <th>Day86</th>\n",
              "      <th>Day87</th>\n",
              "      <th>Day88</th>\n",
              "      <th>Order Item Quantity</th>\n",
              "      <th>Order Item Discount</th>\n",
              "    </tr>\n",
              "  </thead>\n",
              "  <tbody>\n",
              "    <tr>\n",
              "      <th>0</th>\n",
              "      <td>77</td>\n",
              "      <td>73</td>\n",
              "      <td>88</td>\n",
              "      <td>90</td>\n",
              "      <td>62</td>\n",
              "      <td>71</td>\n",
              "      <td>83</td>\n",
              "      <td>79</td>\n",
              "      <td>81</td>\n",
              "      <td>63</td>\n",
              "      <td>...</td>\n",
              "      <td>73</td>\n",
              "      <td>82</td>\n",
              "      <td>45</td>\n",
              "      <td>55</td>\n",
              "      <td>66</td>\n",
              "      <td>61</td>\n",
              "      <td>131</td>\n",
              "      <td>76</td>\n",
              "      <td>2187</td>\n",
              "      <td>13302</td>\n",
              "    </tr>\n",
              "    <tr>\n",
              "      <th>1</th>\n",
              "      <td>74</td>\n",
              "      <td>47</td>\n",
              "      <td>58</td>\n",
              "      <td>63</td>\n",
              "      <td>77</td>\n",
              "      <td>88</td>\n",
              "      <td>82</td>\n",
              "      <td>53</td>\n",
              "      <td>92</td>\n",
              "      <td>101</td>\n",
              "      <td>...</td>\n",
              "      <td>72</td>\n",
              "      <td>58</td>\n",
              "      <td>97</td>\n",
              "      <td>82</td>\n",
              "      <td>67</td>\n",
              "      <td>63</td>\n",
              "      <td>59</td>\n",
              "      <td>105</td>\n",
              "      <td>2220</td>\n",
              "      <td>13479</td>\n",
              "    </tr>\n",
              "    <tr>\n",
              "      <th>2</th>\n",
              "      <td>78</td>\n",
              "      <td>98</td>\n",
              "      <td>66</td>\n",
              "      <td>71</td>\n",
              "      <td>72</td>\n",
              "      <td>81</td>\n",
              "      <td>93</td>\n",
              "      <td>81</td>\n",
              "      <td>61</td>\n",
              "      <td>86</td>\n",
              "      <td>...</td>\n",
              "      <td>57</td>\n",
              "      <td>66</td>\n",
              "      <td>81</td>\n",
              "      <td>57</td>\n",
              "      <td>55</td>\n",
              "      <td>102</td>\n",
              "      <td>74</td>\n",
              "      <td>63</td>\n",
              "      <td>2142</td>\n",
              "      <td>13024</td>\n",
              "    </tr>\n",
              "    <tr>\n",
              "      <th>3</th>\n",
              "      <td>64</td>\n",
              "      <td>65</td>\n",
              "      <td>86</td>\n",
              "      <td>69</td>\n",
              "      <td>42</td>\n",
              "      <td>65</td>\n",
              "      <td>73</td>\n",
              "      <td>94</td>\n",
              "      <td>73</td>\n",
              "      <td>48</td>\n",
              "      <td>...</td>\n",
              "      <td>52</td>\n",
              "      <td>87</td>\n",
              "      <td>78</td>\n",
              "      <td>84</td>\n",
              "      <td>80</td>\n",
              "      <td>102</td>\n",
              "      <td>57</td>\n",
              "      <td>61</td>\n",
              "      <td>2274</td>\n",
              "      <td>13583</td>\n",
              "    </tr>\n",
              "    <tr>\n",
              "      <th>4</th>\n",
              "      <td>78</td>\n",
              "      <td>37</td>\n",
              "      <td>62</td>\n",
              "      <td>64</td>\n",
              "      <td>78</td>\n",
              "      <td>92</td>\n",
              "      <td>55</td>\n",
              "      <td>72</td>\n",
              "      <td>54</td>\n",
              "      <td>90</td>\n",
              "      <td>...</td>\n",
              "      <td>72</td>\n",
              "      <td>76</td>\n",
              "      <td>77</td>\n",
              "      <td>45</td>\n",
              "      <td>91</td>\n",
              "      <td>59</td>\n",
              "      <td>79</td>\n",
              "      <td>93</td>\n",
              "      <td>2411</td>\n",
              "      <td>14779</td>\n",
              "    </tr>\n",
              "    <tr>\n",
              "      <th>5</th>\n",
              "      <td>71</td>\n",
              "      <td>57</td>\n",
              "      <td>37</td>\n",
              "      <td>88</td>\n",
              "      <td>98</td>\n",
              "      <td>37</td>\n",
              "      <td>46</td>\n",
              "      <td>47</td>\n",
              "      <td>65</td>\n",
              "      <td>89</td>\n",
              "      <td>...</td>\n",
              "      <td>80</td>\n",
              "      <td>91</td>\n",
              "      <td>57</td>\n",
              "      <td>78</td>\n",
              "      <td>120</td>\n",
              "      <td>92</td>\n",
              "      <td>69</td>\n",
              "      <td>94</td>\n",
              "      <td>2177</td>\n",
              "      <td>13295</td>\n",
              "    </tr>\n",
              "    <tr>\n",
              "      <th>6</th>\n",
              "      <td>65</td>\n",
              "      <td>71</td>\n",
              "      <td>70</td>\n",
              "      <td>47</td>\n",
              "      <td>57</td>\n",
              "      <td>73</td>\n",
              "      <td>78</td>\n",
              "      <td>79</td>\n",
              "      <td>65</td>\n",
              "      <td>75</td>\n",
              "      <td>...</td>\n",
              "      <td>99</td>\n",
              "      <td>65</td>\n",
              "      <td>61</td>\n",
              "      <td>87</td>\n",
              "      <td>72</td>\n",
              "      <td>49</td>\n",
              "      <td>57</td>\n",
              "      <td>84</td>\n",
              "      <td>2171</td>\n",
              "      <td>13070</td>\n",
              "    </tr>\n",
              "    <tr>\n",
              "      <th>7</th>\n",
              "      <td>102</td>\n",
              "      <td>68</td>\n",
              "      <td>71</td>\n",
              "      <td>83</td>\n",
              "      <td>56</td>\n",
              "      <td>71</td>\n",
              "      <td>85</td>\n",
              "      <td>54</td>\n",
              "      <td>97</td>\n",
              "      <td>84</td>\n",
              "      <td>...</td>\n",
              "      <td>68</td>\n",
              "      <td>64</td>\n",
              "      <td>57</td>\n",
              "      <td>63</td>\n",
              "      <td>58</td>\n",
              "      <td>93</td>\n",
              "      <td>59</td>\n",
              "      <td>84</td>\n",
              "      <td>2205</td>\n",
              "      <td>13418</td>\n",
              "    </tr>\n",
              "    <tr>\n",
              "      <th>8</th>\n",
              "      <td>55</td>\n",
              "      <td>75</td>\n",
              "      <td>55</td>\n",
              "      <td>90</td>\n",
              "      <td>69</td>\n",
              "      <td>120</td>\n",
              "      <td>50</td>\n",
              "      <td>52</td>\n",
              "      <td>93</td>\n",
              "      <td>88</td>\n",
              "      <td>...</td>\n",
              "      <td>60</td>\n",
              "      <td>49</td>\n",
              "      <td>79</td>\n",
              "      <td>68</td>\n",
              "      <td>67</td>\n",
              "      <td>78</td>\n",
              "      <td>124</td>\n",
              "      <td>71</td>\n",
              "      <td>2218</td>\n",
              "      <td>13526</td>\n",
              "    </tr>\n",
              "    <tr>\n",
              "      <th>9</th>\n",
              "      <td>58</td>\n",
              "      <td>76</td>\n",
              "      <td>93</td>\n",
              "      <td>80</td>\n",
              "      <td>80</td>\n",
              "      <td>81</td>\n",
              "      <td>61</td>\n",
              "      <td>74</td>\n",
              "      <td>73</td>\n",
              "      <td>74</td>\n",
              "      <td>...</td>\n",
              "      <td>92</td>\n",
              "      <td>72</td>\n",
              "      <td>86</td>\n",
              "      <td>95</td>\n",
              "      <td>72</td>\n",
              "      <td>57</td>\n",
              "      <td>63</td>\n",
              "      <td>66</td>\n",
              "      <td>2188</td>\n",
              "      <td>13274</td>\n",
              "    </tr>\n",
              "    <tr>\n",
              "      <th>10</th>\n",
              "      <td>96</td>\n",
              "      <td>58</td>\n",
              "      <td>65</td>\n",
              "      <td>48</td>\n",
              "      <td>96</td>\n",
              "      <td>69</td>\n",
              "      <td>65</td>\n",
              "      <td>81</td>\n",
              "      <td>84</td>\n",
              "      <td>77</td>\n",
              "      <td>...</td>\n",
              "      <td>94</td>\n",
              "      <td>70</td>\n",
              "      <td>85</td>\n",
              "      <td>64</td>\n",
              "      <td>59</td>\n",
              "      <td>62</td>\n",
              "      <td>68</td>\n",
              "      <td>70</td>\n",
              "      <td>2047</td>\n",
              "      <td>12430</td>\n",
              "    </tr>\n",
              "    <tr>\n",
              "      <th>11</th>\n",
              "      <td>81</td>\n",
              "      <td>75</td>\n",
              "      <td>86</td>\n",
              "      <td>70</td>\n",
              "      <td>46</td>\n",
              "      <td>58</td>\n",
              "      <td>109</td>\n",
              "      <td>75</td>\n",
              "      <td>50</td>\n",
              "      <td>73</td>\n",
              "      <td>...</td>\n",
              "      <td>67</td>\n",
              "      <td>92</td>\n",
              "      <td>61</td>\n",
              "      <td>55</td>\n",
              "      <td>87</td>\n",
              "      <td>51</td>\n",
              "      <td>59</td>\n",
              "      <td>77</td>\n",
              "      <td>2401</td>\n",
              "      <td>14655</td>\n",
              "    </tr>\n",
              "    <tr>\n",
              "      <th>12</th>\n",
              "      <td>88</td>\n",
              "      <td>97</td>\n",
              "      <td>46</td>\n",
              "      <td>95</td>\n",
              "      <td>80</td>\n",
              "      <td>53</td>\n",
              "      <td>60</td>\n",
              "      <td>51</td>\n",
              "      <td>40</td>\n",
              "      <td>50</td>\n",
              "      <td>...</td>\n",
              "      <td>68</td>\n",
              "      <td>93</td>\n",
              "      <td>97</td>\n",
              "      <td>68</td>\n",
              "      <td>70</td>\n",
              "      <td>91</td>\n",
              "      <td>107</td>\n",
              "      <td>81</td>\n",
              "      <td>2225</td>\n",
              "      <td>13335</td>\n",
              "    </tr>\n",
              "    <tr>\n",
              "      <th>13</th>\n",
              "      <td>58</td>\n",
              "      <td>103</td>\n",
              "      <td>51</td>\n",
              "      <td>80</td>\n",
              "      <td>65</td>\n",
              "      <td>92</td>\n",
              "      <td>95</td>\n",
              "      <td>62</td>\n",
              "      <td>54</td>\n",
              "      <td>73</td>\n",
              "      <td>...</td>\n",
              "      <td>73</td>\n",
              "      <td>75</td>\n",
              "      <td>67</td>\n",
              "      <td>54</td>\n",
              "      <td>65</td>\n",
              "      <td>87</td>\n",
              "      <td>72</td>\n",
              "      <td>61</td>\n",
              "      <td>2432</td>\n",
              "      <td>14783</td>\n",
              "    </tr>\n",
              "    <tr>\n",
              "      <th>14</th>\n",
              "      <td>81</td>\n",
              "      <td>80</td>\n",
              "      <td>59</td>\n",
              "      <td>80</td>\n",
              "      <td>84</td>\n",
              "      <td>71</td>\n",
              "      <td>75</td>\n",
              "      <td>83</td>\n",
              "      <td>73</td>\n",
              "      <td>57</td>\n",
              "      <td>...</td>\n",
              "      <td>69</td>\n",
              "      <td>53</td>\n",
              "      <td>79</td>\n",
              "      <td>100</td>\n",
              "      <td>97</td>\n",
              "      <td>67</td>\n",
              "      <td>75</td>\n",
              "      <td>106</td>\n",
              "      <td>2181</td>\n",
              "      <td>13119</td>\n",
              "    </tr>\n",
              "    <tr>\n",
              "      <th>15</th>\n",
              "      <td>35</td>\n",
              "      <td>52</td>\n",
              "      <td>117</td>\n",
              "      <td>80</td>\n",
              "      <td>83</td>\n",
              "      <td>64</td>\n",
              "      <td>65</td>\n",
              "      <td>81</td>\n",
              "      <td>69</td>\n",
              "      <td>68</td>\n",
              "      <td>...</td>\n",
              "      <td>44</td>\n",
              "      <td>91</td>\n",
              "      <td>91</td>\n",
              "      <td>74</td>\n",
              "      <td>82</td>\n",
              "      <td>60</td>\n",
              "      <td>84</td>\n",
              "      <td>65</td>\n",
              "      <td>2228</td>\n",
              "      <td>13657</td>\n",
              "    </tr>\n",
              "    <tr>\n",
              "      <th>16</th>\n",
              "      <td>87</td>\n",
              "      <td>94</td>\n",
              "      <td>84</td>\n",
              "      <td>58</td>\n",
              "      <td>92</td>\n",
              "      <td>84</td>\n",
              "      <td>61</td>\n",
              "      <td>71</td>\n",
              "      <td>101</td>\n",
              "      <td>70</td>\n",
              "      <td>...</td>\n",
              "      <td>78</td>\n",
              "      <td>81</td>\n",
              "      <td>69</td>\n",
              "      <td>55</td>\n",
              "      <td>59</td>\n",
              "      <td>83</td>\n",
              "      <td>59</td>\n",
              "      <td>60</td>\n",
              "      <td>2311</td>\n",
              "      <td>13989</td>\n",
              "    </tr>\n",
              "    <tr>\n",
              "      <th>17</th>\n",
              "      <td>88</td>\n",
              "      <td>65</td>\n",
              "      <td>78</td>\n",
              "      <td>75</td>\n",
              "      <td>70</td>\n",
              "      <td>67</td>\n",
              "      <td>77</td>\n",
              "      <td>63</td>\n",
              "      <td>93</td>\n",
              "      <td>68</td>\n",
              "      <td>...</td>\n",
              "      <td>57</td>\n",
              "      <td>88</td>\n",
              "      <td>83</td>\n",
              "      <td>84</td>\n",
              "      <td>67</td>\n",
              "      <td>59</td>\n",
              "      <td>83</td>\n",
              "      <td>74</td>\n",
              "      <td>2224</td>\n",
              "      <td>13498</td>\n",
              "    </tr>\n",
              "    <tr>\n",
              "      <th>18</th>\n",
              "      <td>79</td>\n",
              "      <td>86</td>\n",
              "      <td>60</td>\n",
              "      <td>79</td>\n",
              "      <td>72</td>\n",
              "      <td>83</td>\n",
              "      <td>65</td>\n",
              "      <td>82</td>\n",
              "      <td>65</td>\n",
              "      <td>62</td>\n",
              "      <td>...</td>\n",
              "      <td>64</td>\n",
              "      <td>74</td>\n",
              "      <td>75</td>\n",
              "      <td>74</td>\n",
              "      <td>55</td>\n",
              "      <td>78</td>\n",
              "      <td>75</td>\n",
              "      <td>70</td>\n",
              "      <td>2278</td>\n",
              "      <td>13794</td>\n",
              "    </tr>\n",
              "    <tr>\n",
              "      <th>19</th>\n",
              "      <td>65</td>\n",
              "      <td>86</td>\n",
              "      <td>86</td>\n",
              "      <td>65</td>\n",
              "      <td>75</td>\n",
              "      <td>102</td>\n",
              "      <td>47</td>\n",
              "      <td>93</td>\n",
              "      <td>86</td>\n",
              "      <td>64</td>\n",
              "      <td>...</td>\n",
              "      <td>107</td>\n",
              "      <td>65</td>\n",
              "      <td>88</td>\n",
              "      <td>69</td>\n",
              "      <td>73</td>\n",
              "      <td>116</td>\n",
              "      <td>68</td>\n",
              "      <td>67</td>\n",
              "      <td>2260</td>\n",
              "      <td>13699</td>\n",
              "    </tr>\n",
              "    <tr>\n",
              "      <th>20</th>\n",
              "      <td>70</td>\n",
              "      <td>87</td>\n",
              "      <td>106</td>\n",
              "      <td>126</td>\n",
              "      <td>68</td>\n",
              "      <td>71</td>\n",
              "      <td>73</td>\n",
              "      <td>53</td>\n",
              "      <td>61</td>\n",
              "      <td>69</td>\n",
              "      <td>...</td>\n",
              "      <td>74</td>\n",
              "      <td>65</td>\n",
              "      <td>84</td>\n",
              "      <td>67</td>\n",
              "      <td>54</td>\n",
              "      <td>103</td>\n",
              "      <td>84</td>\n",
              "      <td>91</td>\n",
              "      <td>2361</td>\n",
              "      <td>14502</td>\n",
              "    </tr>\n",
              "    <tr>\n",
              "      <th>21</th>\n",
              "      <td>60</td>\n",
              "      <td>48</td>\n",
              "      <td>97</td>\n",
              "      <td>53</td>\n",
              "      <td>81</td>\n",
              "      <td>54</td>\n",
              "      <td>74</td>\n",
              "      <td>77</td>\n",
              "      <td>93</td>\n",
              "      <td>69</td>\n",
              "      <td>...</td>\n",
              "      <td>76</td>\n",
              "      <td>89</td>\n",
              "      <td>38</td>\n",
              "      <td>78</td>\n",
              "      <td>66</td>\n",
              "      <td>83</td>\n",
              "      <td>73</td>\n",
              "      <td>85</td>\n",
              "      <td>2270</td>\n",
              "      <td>13828</td>\n",
              "    </tr>\n",
              "    <tr>\n",
              "      <th>22</th>\n",
              "      <td>82</td>\n",
              "      <td>55</td>\n",
              "      <td>73</td>\n",
              "      <td>98</td>\n",
              "      <td>63</td>\n",
              "      <td>76</td>\n",
              "      <td>35</td>\n",
              "      <td>133</td>\n",
              "      <td>51</td>\n",
              "      <td>46</td>\n",
              "      <td>...</td>\n",
              "      <td>61</td>\n",
              "      <td>77</td>\n",
              "      <td>81</td>\n",
              "      <td>61</td>\n",
              "      <td>64</td>\n",
              "      <td>58</td>\n",
              "      <td>61</td>\n",
              "      <td>77</td>\n",
              "      <td>2136</td>\n",
              "      <td>13039</td>\n",
              "    </tr>\n",
              "    <tr>\n",
              "      <th>23</th>\n",
              "      <td>82</td>\n",
              "      <td>54</td>\n",
              "      <td>97</td>\n",
              "      <td>94</td>\n",
              "      <td>95</td>\n",
              "      <td>79</td>\n",
              "      <td>67</td>\n",
              "      <td>72</td>\n",
              "      <td>89</td>\n",
              "      <td>74</td>\n",
              "      <td>...</td>\n",
              "      <td>84</td>\n",
              "      <td>89</td>\n",
              "      <td>94</td>\n",
              "      <td>57</td>\n",
              "      <td>94</td>\n",
              "      <td>85</td>\n",
              "      <td>54</td>\n",
              "      <td>86</td>\n",
              "      <td>2215</td>\n",
              "      <td>13373</td>\n",
              "    </tr>\n",
              "    <tr>\n",
              "      <th>24</th>\n",
              "      <td>92</td>\n",
              "      <td>52</td>\n",
              "      <td>54</td>\n",
              "      <td>52</td>\n",
              "      <td>83</td>\n",
              "      <td>75</td>\n",
              "      <td>87</td>\n",
              "      <td>58</td>\n",
              "      <td>70</td>\n",
              "      <td>74</td>\n",
              "      <td>...</td>\n",
              "      <td>52</td>\n",
              "      <td>69</td>\n",
              "      <td>39</td>\n",
              "      <td>31</td>\n",
              "      <td>45</td>\n",
              "      <td>90</td>\n",
              "      <td>69</td>\n",
              "      <td>62</td>\n",
              "      <td>2224</td>\n",
              "      <td>13416</td>\n",
              "    </tr>\n",
              "    <tr>\n",
              "      <th>25</th>\n",
              "      <td>81</td>\n",
              "      <td>86</td>\n",
              "      <td>75</td>\n",
              "      <td>51</td>\n",
              "      <td>71</td>\n",
              "      <td>95</td>\n",
              "      <td>64</td>\n",
              "      <td>85</td>\n",
              "      <td>69</td>\n",
              "      <td>77</td>\n",
              "      <td>...</td>\n",
              "      <td>82</td>\n",
              "      <td>76</td>\n",
              "      <td>63</td>\n",
              "      <td>46</td>\n",
              "      <td>66</td>\n",
              "      <td>102</td>\n",
              "      <td>66</td>\n",
              "      <td>107</td>\n",
              "      <td>2218</td>\n",
              "      <td>13558</td>\n",
              "    </tr>\n",
              "    <tr>\n",
              "      <th>26</th>\n",
              "      <td>83</td>\n",
              "      <td>37</td>\n",
              "      <td>61</td>\n",
              "      <td>105</td>\n",
              "      <td>93</td>\n",
              "      <td>69</td>\n",
              "      <td>50</td>\n",
              "      <td>87</td>\n",
              "      <td>62</td>\n",
              "      <td>94</td>\n",
              "      <td>...</td>\n",
              "      <td>75</td>\n",
              "      <td>77</td>\n",
              "      <td>71</td>\n",
              "      <td>85</td>\n",
              "      <td>59</td>\n",
              "      <td>81</td>\n",
              "      <td>94</td>\n",
              "      <td>51</td>\n",
              "      <td>1934</td>\n",
              "      <td>11709</td>\n",
              "    </tr>\n",
              "    <tr>\n",
              "      <th>27</th>\n",
              "      <td>103</td>\n",
              "      <td>64</td>\n",
              "      <td>71</td>\n",
              "      <td>64</td>\n",
              "      <td>54</td>\n",
              "      <td>88</td>\n",
              "      <td>70</td>\n",
              "      <td>54</td>\n",
              "      <td>54</td>\n",
              "      <td>79</td>\n",
              "      <td>...</td>\n",
              "      <td>95</td>\n",
              "      <td>74</td>\n",
              "      <td>60</td>\n",
              "      <td>65</td>\n",
              "      <td>65</td>\n",
              "      <td>66</td>\n",
              "      <td>51</td>\n",
              "      <td>77</td>\n",
              "      <td>2305</td>\n",
              "      <td>13999</td>\n",
              "    </tr>\n",
              "    <tr>\n",
              "      <th>28</th>\n",
              "      <td>57</td>\n",
              "      <td>68</td>\n",
              "      <td>85</td>\n",
              "      <td>94</td>\n",
              "      <td>59</td>\n",
              "      <td>47</td>\n",
              "      <td>70</td>\n",
              "      <td>69</td>\n",
              "      <td>63</td>\n",
              "      <td>49</td>\n",
              "      <td>...</td>\n",
              "      <td>75</td>\n",
              "      <td>67</td>\n",
              "      <td>84</td>\n",
              "      <td>67</td>\n",
              "      <td>83</td>\n",
              "      <td>71</td>\n",
              "      <td>61</td>\n",
              "      <td>47</td>\n",
              "      <td>2313</td>\n",
              "      <td>14081</td>\n",
              "    </tr>\n",
              "    <tr>\n",
              "      <th>29</th>\n",
              "      <td>46</td>\n",
              "      <td>75</td>\n",
              "      <td>41</td>\n",
              "      <td>58</td>\n",
              "      <td>62</td>\n",
              "      <td>60</td>\n",
              "      <td>69</td>\n",
              "      <td>83</td>\n",
              "      <td>67</td>\n",
              "      <td>39</td>\n",
              "      <td>...</td>\n",
              "      <td>84</td>\n",
              "      <td>63</td>\n",
              "      <td>109</td>\n",
              "      <td>66</td>\n",
              "      <td>76</td>\n",
              "      <td>96</td>\n",
              "      <td>82</td>\n",
              "      <td>84</td>\n",
              "      <td>2108</td>\n",
              "      <td>13753</td>\n",
              "    </tr>\n",
              "  </tbody>\n",
              "</table>\n",
              "<p>30 rows × 91 columns</p>\n",
              "</div>\n",
              "      <button class=\"colab-df-convert\" onclick=\"convertToInteractive('df-9f286642-87bb-48f3-af8f-e10b19a335e8')\"\n",
              "              title=\"Convert this dataframe to an interactive table.\"\n",
              "              style=\"display:none;\">\n",
              "        \n",
              "  <svg xmlns=\"http://www.w3.org/2000/svg\" height=\"24px\"viewBox=\"0 0 24 24\"\n",
              "       width=\"24px\">\n",
              "    <path d=\"M0 0h24v24H0V0z\" fill=\"none\"/>\n",
              "    <path d=\"M18.56 5.44l.94 2.06.94-2.06 2.06-.94-2.06-.94-.94-2.06-.94 2.06-2.06.94zm-11 1L8.5 8.5l.94-2.06 2.06-.94-2.06-.94L8.5 2.5l-.94 2.06-2.06.94zm10 10l.94 2.06.94-2.06 2.06-.94-2.06-.94-.94-2.06-.94 2.06-2.06.94z\"/><path d=\"M17.41 7.96l-1.37-1.37c-.4-.4-.92-.59-1.43-.59-.52 0-1.04.2-1.43.59L10.3 9.45l-7.72 7.72c-.78.78-.78 2.05 0 2.83L4 21.41c.39.39.9.59 1.41.59.51 0 1.02-.2 1.41-.59l7.78-7.78 2.81-2.81c.8-.78.8-2.07 0-2.86zM5.41 20L4 18.59l7.72-7.72 1.47 1.35L5.41 20z\"/>\n",
              "  </svg>\n",
              "      </button>\n",
              "      \n",
              "  <style>\n",
              "    .colab-df-container {\n",
              "      display:flex;\n",
              "      flex-wrap:wrap;\n",
              "      gap: 12px;\n",
              "    }\n",
              "\n",
              "    .colab-df-convert {\n",
              "      background-color: #E8F0FE;\n",
              "      border: none;\n",
              "      border-radius: 50%;\n",
              "      cursor: pointer;\n",
              "      display: none;\n",
              "      fill: #1967D2;\n",
              "      height: 32px;\n",
              "      padding: 0 0 0 0;\n",
              "      width: 32px;\n",
              "    }\n",
              "\n",
              "    .colab-df-convert:hover {\n",
              "      background-color: #E2EBFA;\n",
              "      box-shadow: 0px 1px 2px rgba(60, 64, 67, 0.3), 0px 1px 3px 1px rgba(60, 64, 67, 0.15);\n",
              "      fill: #174EA6;\n",
              "    }\n",
              "\n",
              "    [theme=dark] .colab-df-convert {\n",
              "      background-color: #3B4455;\n",
              "      fill: #D2E3FC;\n",
              "    }\n",
              "\n",
              "    [theme=dark] .colab-df-convert:hover {\n",
              "      background-color: #434B5C;\n",
              "      box-shadow: 0px 1px 3px 1px rgba(0, 0, 0, 0.15);\n",
              "      filter: drop-shadow(0px 1px 2px rgba(0, 0, 0, 0.3));\n",
              "      fill: #FFFFFF;\n",
              "    }\n",
              "  </style>\n",
              "\n",
              "      <script>\n",
              "        const buttonEl =\n",
              "          document.querySelector('#df-9f286642-87bb-48f3-af8f-e10b19a335e8 button.colab-df-convert');\n",
              "        buttonEl.style.display =\n",
              "          google.colab.kernel.accessAllowed ? 'block' : 'none';\n",
              "\n",
              "        async function convertToInteractive(key) {\n",
              "          const element = document.querySelector('#df-9f286642-87bb-48f3-af8f-e10b19a335e8');\n",
              "          const dataTable =\n",
              "            await google.colab.kernel.invokeFunction('convertToInteractive',\n",
              "                                                     [key], {});\n",
              "          if (!dataTable) return;\n",
              "\n",
              "          const docLinkHtml = 'Like what you see? Visit the ' +\n",
              "            '<a target=\"_blank\" href=https://colab.research.google.com/notebooks/data_table.ipynb>data table notebook</a>'\n",
              "            + ' to learn more about interactive tables.';\n",
              "          element.innerHTML = '';\n",
              "          dataTable['output_type'] = 'display_data';\n",
              "          await google.colab.output.renderOutput(dataTable, element);\n",
              "          const docLink = document.createElement('div');\n",
              "          docLink.innerHTML = docLinkHtml;\n",
              "          element.appendChild(docLink);\n",
              "        }\n",
              "      </script>\n",
              "    </div>\n",
              "  </div>\n",
              "  "
            ]
          },
          "metadata": {},
          "execution_count": 75
        }
      ],
      "source": [
        "df2"
      ]
    },
    {
      "cell_type": "code",
      "source": [],
      "metadata": {
        "id": "Fcqg40U05BZ0"
      },
      "execution_count": 75,
      "outputs": []
    },
    {
      "cell_type": "markdown",
      "metadata": {
        "id": "4jIcneJRkBAN"
      },
      "source": [
        "### K-Fold Cross Validation"
      ]
    },
    {
      "cell_type": "code",
      "execution_count": 76,
      "metadata": {
        "id": "oICZ_LHVkBAN"
      },
      "outputs": [],
      "source": [
        "Y1 = df2[\"Order Item Quantity\"]\n",
        "X1 = df2.drop(columns=[\"Order Item Quantity\"])"
      ]
    },
    {
      "cell_type": "markdown",
      "metadata": {
        "id": "aN9I09hLkBAN"
      },
      "source": [
        "### Model Evaluation"
      ]
    },
    {
      "cell_type": "code",
      "execution_count": 77,
      "metadata": {
        "id": "RwRv7nq1kBAN"
      },
      "outputs": [],
      "source": [
        "#build xtreme gradient boosting model\n",
        "xgboost = xgb.XGBRegressor() "
      ]
    },
    {
      "cell_type": "code",
      "execution_count": 78,
      "metadata": {
        "colab": {
          "base_uri": "https://localhost:8080/"
        },
        "id": "qxs0CJeQkBAO",
        "outputId": "24c042b0-1c91-4432-967e-134852291bed"
      },
      "outputs": [
        {
          "output_type": "stream",
          "name": "stdout",
          "text": [
            "\tMean absolute error (MAE): 43.79335937500001\n"
          ]
        }
      ],
      "source": [
        "#use k-fold CV to evaluate model\n",
        "score1 = cross_val_score(xgboost, X1, Y1, scoring='neg_mean_absolute_error',\n",
        "                         cv=cv, n_jobs=-1)\n",
        "\n",
        "#view mean absolute error\n",
        "print(\"\\tMean absolute error (MAE):\", mean(absolute(score1)))\n"
      ]
    },
    {
      "cell_type": "code",
      "execution_count": 79,
      "metadata": {
        "colab": {
          "base_uri": "https://localhost:8080/"
        },
        "id": "3YYEPHTVkBAO",
        "outputId": "5589da0e-3d21-4a0e-ef4d-38a5fdb00b66"
      },
      "outputs": [
        {
          "output_type": "stream",
          "name": "stdout",
          "text": [
            "\tRoot Mean squared error (RMSE): 62.38378752594391\n"
          ]
        }
      ],
      "source": [
        "score2 = cross_val_score(xgboost, X1, Y1, scoring='neg_mean_squared_error',\n",
        "                         cv=cv, n_jobs=-1)\n",
        "print(\"\\tRoot Mean squared error (RMSE):\", sqrt(mean(absolute(score2))))"
      ]
    },
    {
      "cell_type": "code",
      "execution_count": 80,
      "metadata": {
        "colab": {
          "base_uri": "https://localhost:8080/"
        },
        "id": "BhLk-eWskBAO",
        "outputId": "8ffd1946-6a9e-4007-d640-5f2b151d3af4"
      },
      "outputs": [
        {
          "output_type": "stream",
          "name": "stdout",
          "text": [
            "[23:56:13] WARNING: /workspace/src/objective/regression_obj.cu:152: reg:linear is now deprecated in favor of reg:squarederror.\n",
            "[23:56:13] WARNING: /workspace/src/objective/regression_obj.cu:152: reg:linear is now deprecated in favor of reg:squarederror.\n",
            "[23:56:13] WARNING: /workspace/src/objective/regression_obj.cu:152: reg:linear is now deprecated in favor of reg:squarederror.\n",
            "[23:56:13] WARNING: /workspace/src/objective/regression_obj.cu:152: reg:linear is now deprecated in favor of reg:squarederror.\n",
            "[23:56:13] WARNING: /workspace/src/objective/regression_obj.cu:152: reg:linear is now deprecated in favor of reg:squarederror.\n",
            "[23:56:13] WARNING: /workspace/src/objective/regression_obj.cu:152: reg:linear is now deprecated in favor of reg:squarederror.\n",
            "[23:56:13] WARNING: /workspace/src/objective/regression_obj.cu:152: reg:linear is now deprecated in favor of reg:squarederror.\n",
            "[23:56:13] WARNING: /workspace/src/objective/regression_obj.cu:152: reg:linear is now deprecated in favor of reg:squarederror.\n",
            "[23:56:13] WARNING: /workspace/src/objective/regression_obj.cu:152: reg:linear is now deprecated in favor of reg:squarederror.\n",
            "[23:56:13] WARNING: /workspace/src/objective/regression_obj.cu:152: reg:linear is now deprecated in favor of reg:squarederror.\n",
            "\t Mean Absolute Percentage error (MAPE): 1.108699657203858\n"
          ]
        }
      ],
      "source": [
        "from sklearn.metrics import make_scorer\n",
        "\n",
        "#define custom function which returns single output as metric score\n",
        "def MAPE(y_true, y_pred): \n",
        "    return 1 - np.mean(np.abs((y_true - y_pred) / y_true)) * 100\n",
        "\n",
        "#make scorer from custome function\n",
        "mape_scorer = make_scorer(MAPE)\n",
        "\n",
        "#cross validation score on model\n",
        "#reg = LinearRegression()\n",
        "score3 = cross_val_score(xgboost, X1, Y1, scoring=mape_scorer, cv=cv)\n",
        "print(\"\\t Mean Absolute Percentage error (MAPE):\", mean(absolute(score3)))\n"
      ]
    },
    {
      "cell_type": "code",
      "source": [
        "predictions = cross_val_predict(xgboost, X1,Y1, cv=cv)\n",
        "print(predictions)\n"
      ],
      "metadata": {
        "colab": {
          "base_uri": "https://localhost:8080/"
        },
        "id": "uyeL5MrSGbuZ",
        "outputId": "09dc9ce9-5a26-45fa-b27f-e18fb7470d3e"
      },
      "execution_count": 81,
      "outputs": [
        {
          "output_type": "stream",
          "name": "stdout",
          "text": [
            "[23:56:13] WARNING: /workspace/src/objective/regression_obj.cu:152: reg:linear is now deprecated in favor of reg:squarederror.\n",
            "[23:56:13] WARNING: /workspace/src/objective/regression_obj.cu:152: reg:linear is now deprecated in favor of reg:squarederror.\n",
            "[23:56:13] WARNING: /workspace/src/objective/regression_obj.cu:152: reg:linear is now deprecated in favor of reg:squarederror.\n",
            "[23:56:13] WARNING: /workspace/src/objective/regression_obj.cu:152: reg:linear is now deprecated in favor of reg:squarederror.\n",
            "[23:56:13] WARNING: /workspace/src/objective/regression_obj.cu:152: reg:linear is now deprecated in favor of reg:squarederror.\n",
            "[23:56:13] WARNING: /workspace/src/objective/regression_obj.cu:152: reg:linear is now deprecated in favor of reg:squarederror.\n",
            "[23:56:13] WARNING: /workspace/src/objective/regression_obj.cu:152: reg:linear is now deprecated in favor of reg:squarederror.\n",
            "[23:56:13] WARNING: /workspace/src/objective/regression_obj.cu:152: reg:linear is now deprecated in favor of reg:squarederror.\n",
            "[23:56:13] WARNING: /workspace/src/objective/regression_obj.cu:152: reg:linear is now deprecated in favor of reg:squarederror.\n",
            "[23:56:13] WARNING: /workspace/src/objective/regression_obj.cu:152: reg:linear is now deprecated in favor of reg:squarederror.\n",
            "[2187.7412 2109.3066 2084.0967 2218.9214 2271.5908 2139.087  2144.6729\n",
            " 2196.286  2220.466  2179.3398 1974.6235 2352.9033 2165.3567 2339.6736\n",
            " 2172.2485 2266.6238 2313.5913 2220.149  2259.2017 2213.894  2296.728\n",
            " 2283.3662 2149.1328 2225.5535 2197.246  2246.1196 2070.3188 2304.6008\n",
            " 2297.8442 2274.658 ]\n"
          ]
        }
      ]
    },
    {
      "cell_type": "markdown",
      "source": [
        "#XGBOOST PREDICTION"
      ],
      "metadata": {
        "id": "wScirhXT5Mtn"
      }
    },
    {
      "cell_type": "code",
      "source": [
        "training_data, testing_data = train_test_split(df2, test_size=0.2, shuffle=False, random_state=1)\n",
        "print(f\"No. of training examples: {training_data.shape[0]}\")\n",
        "print(f\"No. of testing examples: {testing_data.shape[0]}\")\n"
      ],
      "metadata": {
        "colab": {
          "base_uri": "https://localhost:8080/"
        },
        "id": "QpmC9_vA5Mhs",
        "outputId": "f90d635b-4051-4a85-c8a5-c62f5fea2195"
      },
      "execution_count": 82,
      "outputs": [
        {
          "output_type": "stream",
          "name": "stdout",
          "text": [
            "No. of training examples: 24\n",
            "No. of testing examples: 6\n"
          ]
        }
      ]
    },
    {
      "cell_type": "code",
      "source": [
        "\n",
        "x_train, y_train = training_data.drop(\"Order Item Quantity\", axis=1), training_data['Order Item Quantity']\n",
        "x_test, y_test   = testing_data.drop(\"Order Item Quantity\", axis=1) , testing_data['Order Item Quantity']"
      ],
      "metadata": {
        "id": "drHYPQpK5MPY"
      },
      "execution_count": 83,
      "outputs": []
    },
    {
      "cell_type": "code",
      "source": [
        "xgboost.fit(x_train, y_train)"
      ],
      "metadata": {
        "colab": {
          "base_uri": "https://localhost:8080/"
        },
        "id": "TzADMPcB5MJZ",
        "outputId": "2c80342c-7a00-4cc1-e66f-e22d185ca460"
      },
      "execution_count": 84,
      "outputs": [
        {
          "output_type": "stream",
          "name": "stdout",
          "text": [
            "[23:56:13] WARNING: /workspace/src/objective/regression_obj.cu:152: reg:linear is now deprecated in favor of reg:squarederror.\n"
          ]
        },
        {
          "output_type": "execute_result",
          "data": {
            "text/plain": [
              "XGBRegressor()"
            ]
          },
          "metadata": {},
          "execution_count": 84
        }
      ]
    },
    {
      "cell_type": "code",
      "source": [
        "Row25 = x_test.head(1)\n"
      ],
      "metadata": {
        "id": "SI_ipxIj5ME3"
      },
      "execution_count": 85,
      "outputs": []
    },
    {
      "cell_type": "code",
      "source": [
        "Actual_value2 = y_test.head(1)"
      ],
      "metadata": {
        "id": "EKf5H5cK5MAn"
      },
      "execution_count": 86,
      "outputs": []
    },
    {
      "cell_type": "code",
      "source": [
        "xgboost_prediction2 = pd.DataFrame(xgboost.predict(Row25))\n",
        "xgboost_prediction2\n"
      ],
      "metadata": {
        "colab": {
          "base_uri": "https://localhost:8080/",
          "height": 81
        },
        "id": "X894WXPk5L5s",
        "outputId": "a5a27782-d637-434e-c7c6-f0e76fe7dc61"
      },
      "execution_count": 87,
      "outputs": [
        {
          "output_type": "execute_result",
          "data": {
            "text/plain": [
              "             0\n",
              "0  2211.802246"
            ],
            "text/html": [
              "\n",
              "  <div id=\"df-4f097561-3428-4e7b-b0c6-de788d212030\">\n",
              "    <div class=\"colab-df-container\">\n",
              "      <div>\n",
              "<style scoped>\n",
              "    .dataframe tbody tr th:only-of-type {\n",
              "        vertical-align: middle;\n",
              "    }\n",
              "\n",
              "    .dataframe tbody tr th {\n",
              "        vertical-align: top;\n",
              "    }\n",
              "\n",
              "    .dataframe thead th {\n",
              "        text-align: right;\n",
              "    }\n",
              "</style>\n",
              "<table border=\"1\" class=\"dataframe\">\n",
              "  <thead>\n",
              "    <tr style=\"text-align: right;\">\n",
              "      <th></th>\n",
              "      <th>0</th>\n",
              "    </tr>\n",
              "  </thead>\n",
              "  <tbody>\n",
              "    <tr>\n",
              "      <th>0</th>\n",
              "      <td>2211.802246</td>\n",
              "    </tr>\n",
              "  </tbody>\n",
              "</table>\n",
              "</div>\n",
              "      <button class=\"colab-df-convert\" onclick=\"convertToInteractive('df-4f097561-3428-4e7b-b0c6-de788d212030')\"\n",
              "              title=\"Convert this dataframe to an interactive table.\"\n",
              "              style=\"display:none;\">\n",
              "        \n",
              "  <svg xmlns=\"http://www.w3.org/2000/svg\" height=\"24px\"viewBox=\"0 0 24 24\"\n",
              "       width=\"24px\">\n",
              "    <path d=\"M0 0h24v24H0V0z\" fill=\"none\"/>\n",
              "    <path d=\"M18.56 5.44l.94 2.06.94-2.06 2.06-.94-2.06-.94-.94-2.06-.94 2.06-2.06.94zm-11 1L8.5 8.5l.94-2.06 2.06-.94-2.06-.94L8.5 2.5l-.94 2.06-2.06.94zm10 10l.94 2.06.94-2.06 2.06-.94-2.06-.94-.94-2.06-.94 2.06-2.06.94z\"/><path d=\"M17.41 7.96l-1.37-1.37c-.4-.4-.92-.59-1.43-.59-.52 0-1.04.2-1.43.59L10.3 9.45l-7.72 7.72c-.78.78-.78 2.05 0 2.83L4 21.41c.39.39.9.59 1.41.59.51 0 1.02-.2 1.41-.59l7.78-7.78 2.81-2.81c.8-.78.8-2.07 0-2.86zM5.41 20L4 18.59l7.72-7.72 1.47 1.35L5.41 20z\"/>\n",
              "  </svg>\n",
              "      </button>\n",
              "      \n",
              "  <style>\n",
              "    .colab-df-container {\n",
              "      display:flex;\n",
              "      flex-wrap:wrap;\n",
              "      gap: 12px;\n",
              "    }\n",
              "\n",
              "    .colab-df-convert {\n",
              "      background-color: #E8F0FE;\n",
              "      border: none;\n",
              "      border-radius: 50%;\n",
              "      cursor: pointer;\n",
              "      display: none;\n",
              "      fill: #1967D2;\n",
              "      height: 32px;\n",
              "      padding: 0 0 0 0;\n",
              "      width: 32px;\n",
              "    }\n",
              "\n",
              "    .colab-df-convert:hover {\n",
              "      background-color: #E2EBFA;\n",
              "      box-shadow: 0px 1px 2px rgba(60, 64, 67, 0.3), 0px 1px 3px 1px rgba(60, 64, 67, 0.15);\n",
              "      fill: #174EA6;\n",
              "    }\n",
              "\n",
              "    [theme=dark] .colab-df-convert {\n",
              "      background-color: #3B4455;\n",
              "      fill: #D2E3FC;\n",
              "    }\n",
              "\n",
              "    [theme=dark] .colab-df-convert:hover {\n",
              "      background-color: #434B5C;\n",
              "      box-shadow: 0px 1px 3px 1px rgba(0, 0, 0, 0.15);\n",
              "      filter: drop-shadow(0px 1px 2px rgba(0, 0, 0, 0.3));\n",
              "      fill: #FFFFFF;\n",
              "    }\n",
              "  </style>\n",
              "\n",
              "      <script>\n",
              "        const buttonEl =\n",
              "          document.querySelector('#df-4f097561-3428-4e7b-b0c6-de788d212030 button.colab-df-convert');\n",
              "        buttonEl.style.display =\n",
              "          google.colab.kernel.accessAllowed ? 'block' : 'none';\n",
              "\n",
              "        async function convertToInteractive(key) {\n",
              "          const element = document.querySelector('#df-4f097561-3428-4e7b-b0c6-de788d212030');\n",
              "          const dataTable =\n",
              "            await google.colab.kernel.invokeFunction('convertToInteractive',\n",
              "                                                     [key], {});\n",
              "          if (!dataTable) return;\n",
              "\n",
              "          const docLinkHtml = 'Like what you see? Visit the ' +\n",
              "            '<a target=\"_blank\" href=https://colab.research.google.com/notebooks/data_table.ipynb>data table notebook</a>'\n",
              "            + ' to learn more about interactive tables.';\n",
              "          element.innerHTML = '';\n",
              "          dataTable['output_type'] = 'display_data';\n",
              "          await google.colab.output.renderOutput(dataTable, element);\n",
              "          const docLink = document.createElement('div');\n",
              "          docLink.innerHTML = docLinkHtml;\n",
              "          element.appendChild(docLink);\n",
              "        }\n",
              "      </script>\n",
              "    </div>\n",
              "  </div>\n",
              "  "
            ]
          },
          "metadata": {},
          "execution_count": 87
        }
      ]
    },
    {
      "cell_type": "code",
      "source": [
        "print(\"\\tMean absolute error (MAE):\", mean_absolute_error(Actual_value2, xgboost_prediction2))"
      ],
      "metadata": {
        "colab": {
          "base_uri": "https://localhost:8080/"
        },
        "id": "qHyIxcVF5L0R",
        "outputId": "07288d4c-128b-4800-9ef4-f20296e7d9b2"
      },
      "execution_count": 88,
      "outputs": [
        {
          "output_type": "stream",
          "name": "stdout",
          "text": [
            "\tMean absolute error (MAE): 12.19775390625\n"
          ]
        }
      ]
    },
    {
      "cell_type": "markdown",
      "metadata": {
        "id": "zzckfeHlkBAP"
      },
      "source": [
        "## Linear Regression \n",
        "        Variation-I [FEATURES : Previous 90 Days Sales]"
      ]
    },
    {
      "cell_type": "code",
      "execution_count": 89,
      "metadata": {
        "id": "eSVz4K6wkBAP"
      },
      "outputs": [],
      "source": [
        "from sklearn.linear_model import LinearRegression"
      ]
    },
    {
      "cell_type": "code",
      "execution_count": 90,
      "metadata": {
        "id": "yPCV9gf-kBAP"
      },
      "outputs": [],
      "source": [
        "#build linear regression model\n",
        "linear = LinearRegression()"
      ]
    },
    {
      "cell_type": "code",
      "execution_count": 91,
      "metadata": {
        "colab": {
          "base_uri": "https://localhost:8080/"
        },
        "id": "Tuogq_gmkBAQ",
        "outputId": "bae3e624-5fca-4af2-9c5a-d68e2e7fec61"
      },
      "outputs": [
        {
          "output_type": "stream",
          "name": "stdout",
          "text": [
            "\tMean absolute error (MAE): 105.01024098096032\n"
          ]
        }
      ],
      "source": [
        "#use k-fold CV to evaluate model\n",
        "score1 = cross_val_score(linear, X, Y, scoring='neg_mean_absolute_error',\n",
        "                         cv=cv, n_jobs=-1)\n",
        "\n",
        "#view mean absolute error\n",
        "print(\"\\tMean absolute error (MAE):\", mean(absolute(score1)))\n"
      ]
    },
    {
      "cell_type": "code",
      "execution_count": 92,
      "metadata": {
        "colab": {
          "base_uri": "https://localhost:8080/"
        },
        "id": "orLEMi1nkBAQ",
        "outputId": "437e0ff4-e8ba-4a65-eb8b-40fa073e8bef"
      },
      "outputs": [
        {
          "output_type": "stream",
          "name": "stdout",
          "text": [
            "\tRoot Mean squared error (RMSE): 143.69259304506593\n"
          ]
        }
      ],
      "source": [
        "score2 = cross_val_score(linear, X, Y, scoring='neg_mean_squared_error',\n",
        "                         cv=cv, n_jobs=-1)\n",
        "print(\"\\tRoot Mean squared error (RMSE):\", sqrt(mean(absolute(score2))))"
      ]
    },
    {
      "cell_type": "code",
      "execution_count": 93,
      "metadata": {
        "colab": {
          "base_uri": "https://localhost:8080/"
        },
        "id": "orVCZekfkBAQ",
        "outputId": "52c9acb7-eb9c-49fa-911a-cbbaf36d5113"
      },
      "outputs": [
        {
          "output_type": "stream",
          "name": "stdout",
          "text": [
            "\t Mean Absolute Percentage error (MAPE): 3.746632945832028\n"
          ]
        }
      ],
      "source": [
        "score3 = cross_val_score(linear, X, Y, scoring=mape_scorer, cv=cv)\n",
        "print(\"\\t Mean Absolute Percentage error (MAPE):\", mean(absolute(score3)))"
      ]
    },
    {
      "cell_type": "markdown",
      "source": [],
      "metadata": {
        "id": "Lkicvtr-1rSv"
      }
    },
    {
      "cell_type": "code",
      "source": [
        "predictions = cross_val_predict(linear, X, Y, cv=cv)\n",
        "print(predictions)"
      ],
      "metadata": {
        "id": "NhyUuh7x1o80",
        "colab": {
          "base_uri": "https://localhost:8080/"
        },
        "outputId": "49bed947-53df-49d7-bf39-5247b7b45390"
      },
      "execution_count": 94,
      "outputs": [
        {
          "output_type": "stream",
          "name": "stdout",
          "text": [
            "[2312.49003655 2214.67285669 2246.79750315 2256.13150087 2072.22341434\n",
            " 2082.11066787 2278.62702404 2234.61973041 2228.23529415 2118.56117183\n",
            " 2253.36432137 2427.28570515 2303.81201408 2191.96871589 2247.1522632\n",
            " 2178.64948714 2191.49663186 2223.10394568 2010.60544288 2288.84590654\n",
            " 2170.96054218 2313.05751786 2160.52773173 2207.436182   2303.13389258\n",
            " 2159.05802667 2303.05665735 2275.50416648 2124.25851336 2280.04289702]\n"
          ]
        }
      ]
    },
    {
      "cell_type": "code",
      "execution_count": 95,
      "metadata": {
        "colab": {
          "base_uri": "https://localhost:8080/"
        },
        "id": "Zp7y7j5zkBAQ",
        "outputId": "4473126d-3b7c-44b4-9463-25133986f7a4"
      },
      "outputs": [
        {
          "output_type": "execute_result",
          "data": {
            "text/plain": [
              "(30, 90)"
            ]
          },
          "metadata": {},
          "execution_count": 95
        }
      ],
      "source": [
        "df1.shape"
      ]
    },
    {
      "cell_type": "code",
      "execution_count": 96,
      "metadata": {
        "colab": {
          "base_uri": "https://localhost:8080/"
        },
        "id": "PlPwbO7YkBAR",
        "outputId": "601e4c4c-2011-4f0d-f2f1-0c1009e8646a"
      },
      "outputs": [
        {
          "output_type": "execute_result",
          "data": {
            "text/plain": [
              "(30, 91)"
            ]
          },
          "metadata": {},
          "execution_count": 96
        }
      ],
      "source": [
        "df2.shape"
      ]
    },
    {
      "cell_type": "markdown",
      "metadata": {
        "id": "aIL2ngeXkBAR"
      },
      "source": [
        "## Linear Regression \n",
        "        Variation-II [[FEATURES : Previous 90 Days Sales + Monthly Item Discount]"
      ]
    },
    {
      "cell_type": "code",
      "execution_count": 97,
      "metadata": {
        "id": "m6sg83P-kBAT"
      },
      "outputs": [],
      "source": [
        "#build linear regression model\n",
        "linear = LinearRegression()"
      ]
    },
    {
      "cell_type": "code",
      "execution_count": 98,
      "metadata": {
        "colab": {
          "base_uri": "https://localhost:8080/"
        },
        "id": "zuBJM82hkBAT",
        "outputId": "429337f8-bebc-4621-db5d-2476599a194a"
      },
      "outputs": [
        {
          "output_type": "stream",
          "name": "stdout",
          "text": [
            "\tMean absolute error (MAE): 22.893691610794768\n"
          ]
        }
      ],
      "source": [
        "#use k-fold CV to evaluate model\n",
        "score1 = cross_val_score(linear, X1, Y1, scoring='neg_mean_absolute_error',\n",
        "                         cv=cv, n_jobs=-1)\n",
        "\n",
        "#view mean absolute error\n",
        "print(\"\\tMean absolute error (MAE):\", mean(absolute(score1)))"
      ]
    },
    {
      "cell_type": "code",
      "execution_count": 99,
      "metadata": {
        "colab": {
          "base_uri": "https://localhost:8080/"
        },
        "id": "7GlyQAgIkBAT",
        "outputId": "ee77ee7e-2e67-489e-a3e1-647c037d1d4d"
      },
      "outputs": [
        {
          "output_type": "stream",
          "name": "stdout",
          "text": [
            "\tRoot Mean squared error (RMSE): 34.21620873646471\n"
          ]
        }
      ],
      "source": [
        "score2 = cross_val_score(linear, X1, Y1, scoring='neg_mean_squared_error',\n",
        "                         cv=cv, n_jobs=-1)\n",
        "print(\"\\tRoot Mean squared error (RMSE):\", sqrt(mean(absolute(score2))))"
      ]
    },
    {
      "cell_type": "code",
      "execution_count": 100,
      "metadata": {
        "colab": {
          "base_uri": "https://localhost:8080/"
        },
        "id": "eQsU51qqkBAT",
        "outputId": "509a6fba-afb0-4b88-b572-32d56b3e6b1b"
      },
      "outputs": [
        {
          "output_type": "stream",
          "name": "stdout",
          "text": [
            "\t Mean Absolute Percentage error (MAPE): 0.46103500886204013\n"
          ]
        }
      ],
      "source": [
        "score3 = cross_val_score(linear, X1, Y1, scoring=mape_scorer, cv=cv)\n",
        "print(\"\\t Mean Absolute Percentage error (MAPE):\", mean(absolute(score3)))"
      ]
    },
    {
      "cell_type": "code",
      "execution_count": 101,
      "metadata": {
        "id": "vVD_4R4EkBAU",
        "colab": {
          "base_uri": "https://localhost:8080/"
        },
        "outputId": "fd3be48c-8d43-48c8-d9ed-631fd03b03f2"
      },
      "outputs": [
        {
          "output_type": "stream",
          "name": "stdout",
          "text": [
            "[2194.33111806 2199.27215853 2153.4912702  2238.60363901 2412.73161914\n",
            " 2163.41624055 2145.26684414 2217.70713519 2197.738554   2161.60424856\n",
            " 2037.62262221 2416.50578501 2206.28018713 2381.28805177 2150.83650421\n",
            " 2250.50215223 2322.06960915 2225.60707985 2241.33869269 2247.32443522\n",
            " 2371.96575585 2305.32464488 2149.27085005 2203.44186871 2224.18635919\n",
            " 2232.10068863 1967.36887329 2303.33670789 2273.37595945 2250.39452166]\n"
          ]
        }
      ],
      "source": [
        "predictions = cross_val_predict(linear, X1, Y1, cv=cv)\n",
        "print(predictions)"
      ]
    },
    {
      "cell_type": "code",
      "source": [],
      "metadata": {
        "id": "4otAqo4Y7H5q"
      },
      "execution_count": 101,
      "outputs": []
    },
    {
      "cell_type": "markdown",
      "source": [
        "#LINEAR REGRESSION PREDICTION"
      ],
      "metadata": {
        "id": "vGQv4FPH7I3h"
      }
    },
    {
      "cell_type": "code",
      "source": [
        "linear.fit(x_train, y_train)"
      ],
      "metadata": {
        "colab": {
          "base_uri": "https://localhost:8080/"
        },
        "id": "2BA8GtSA7Hwk",
        "outputId": "5539bc37-bb94-4559-91b2-c595923e73a3"
      },
      "execution_count": 102,
      "outputs": [
        {
          "output_type": "execute_result",
          "data": {
            "text/plain": [
              "LinearRegression()"
            ]
          },
          "metadata": {},
          "execution_count": 102
        }
      ]
    },
    {
      "cell_type": "code",
      "source": [
        "linear_prediction2 = pd.DataFrame(linear.predict(Row25))\n",
        "linear_prediction2"
      ],
      "metadata": {
        "colab": {
          "base_uri": "https://localhost:8080/",
          "height": 81
        },
        "id": "O4UDP9Xs7Iij",
        "outputId": "afef32ad-4c99-49ba-a582-97d63fd26617"
      },
      "execution_count": 103,
      "outputs": [
        {
          "output_type": "execute_result",
          "data": {
            "text/plain": [
              "             0\n",
              "0  2205.019611"
            ],
            "text/html": [
              "\n",
              "  <div id=\"df-2c3c02fa-35fb-46a3-b5ae-845ae5175b6d\">\n",
              "    <div class=\"colab-df-container\">\n",
              "      <div>\n",
              "<style scoped>\n",
              "    .dataframe tbody tr th:only-of-type {\n",
              "        vertical-align: middle;\n",
              "    }\n",
              "\n",
              "    .dataframe tbody tr th {\n",
              "        vertical-align: top;\n",
              "    }\n",
              "\n",
              "    .dataframe thead th {\n",
              "        text-align: right;\n",
              "    }\n",
              "</style>\n",
              "<table border=\"1\" class=\"dataframe\">\n",
              "  <thead>\n",
              "    <tr style=\"text-align: right;\">\n",
              "      <th></th>\n",
              "      <th>0</th>\n",
              "    </tr>\n",
              "  </thead>\n",
              "  <tbody>\n",
              "    <tr>\n",
              "      <th>0</th>\n",
              "      <td>2205.019611</td>\n",
              "    </tr>\n",
              "  </tbody>\n",
              "</table>\n",
              "</div>\n",
              "      <button class=\"colab-df-convert\" onclick=\"convertToInteractive('df-2c3c02fa-35fb-46a3-b5ae-845ae5175b6d')\"\n",
              "              title=\"Convert this dataframe to an interactive table.\"\n",
              "              style=\"display:none;\">\n",
              "        \n",
              "  <svg xmlns=\"http://www.w3.org/2000/svg\" height=\"24px\"viewBox=\"0 0 24 24\"\n",
              "       width=\"24px\">\n",
              "    <path d=\"M0 0h24v24H0V0z\" fill=\"none\"/>\n",
              "    <path d=\"M18.56 5.44l.94 2.06.94-2.06 2.06-.94-2.06-.94-.94-2.06-.94 2.06-2.06.94zm-11 1L8.5 8.5l.94-2.06 2.06-.94-2.06-.94L8.5 2.5l-.94 2.06-2.06.94zm10 10l.94 2.06.94-2.06 2.06-.94-2.06-.94-.94-2.06-.94 2.06-2.06.94z\"/><path d=\"M17.41 7.96l-1.37-1.37c-.4-.4-.92-.59-1.43-.59-.52 0-1.04.2-1.43.59L10.3 9.45l-7.72 7.72c-.78.78-.78 2.05 0 2.83L4 21.41c.39.39.9.59 1.41.59.51 0 1.02-.2 1.41-.59l7.78-7.78 2.81-2.81c.8-.78.8-2.07 0-2.86zM5.41 20L4 18.59l7.72-7.72 1.47 1.35L5.41 20z\"/>\n",
              "  </svg>\n",
              "      </button>\n",
              "      \n",
              "  <style>\n",
              "    .colab-df-container {\n",
              "      display:flex;\n",
              "      flex-wrap:wrap;\n",
              "      gap: 12px;\n",
              "    }\n",
              "\n",
              "    .colab-df-convert {\n",
              "      background-color: #E8F0FE;\n",
              "      border: none;\n",
              "      border-radius: 50%;\n",
              "      cursor: pointer;\n",
              "      display: none;\n",
              "      fill: #1967D2;\n",
              "      height: 32px;\n",
              "      padding: 0 0 0 0;\n",
              "      width: 32px;\n",
              "    }\n",
              "\n",
              "    .colab-df-convert:hover {\n",
              "      background-color: #E2EBFA;\n",
              "      box-shadow: 0px 1px 2px rgba(60, 64, 67, 0.3), 0px 1px 3px 1px rgba(60, 64, 67, 0.15);\n",
              "      fill: #174EA6;\n",
              "    }\n",
              "\n",
              "    [theme=dark] .colab-df-convert {\n",
              "      background-color: #3B4455;\n",
              "      fill: #D2E3FC;\n",
              "    }\n",
              "\n",
              "    [theme=dark] .colab-df-convert:hover {\n",
              "      background-color: #434B5C;\n",
              "      box-shadow: 0px 1px 3px 1px rgba(0, 0, 0, 0.15);\n",
              "      filter: drop-shadow(0px 1px 2px rgba(0, 0, 0, 0.3));\n",
              "      fill: #FFFFFF;\n",
              "    }\n",
              "  </style>\n",
              "\n",
              "      <script>\n",
              "        const buttonEl =\n",
              "          document.querySelector('#df-2c3c02fa-35fb-46a3-b5ae-845ae5175b6d button.colab-df-convert');\n",
              "        buttonEl.style.display =\n",
              "          google.colab.kernel.accessAllowed ? 'block' : 'none';\n",
              "\n",
              "        async function convertToInteractive(key) {\n",
              "          const element = document.querySelector('#df-2c3c02fa-35fb-46a3-b5ae-845ae5175b6d');\n",
              "          const dataTable =\n",
              "            await google.colab.kernel.invokeFunction('convertToInteractive',\n",
              "                                                     [key], {});\n",
              "          if (!dataTable) return;\n",
              "\n",
              "          const docLinkHtml = 'Like what you see? Visit the ' +\n",
              "            '<a target=\"_blank\" href=https://colab.research.google.com/notebooks/data_table.ipynb>data table notebook</a>'\n",
              "            + ' to learn more about interactive tables.';\n",
              "          element.innerHTML = '';\n",
              "          dataTable['output_type'] = 'display_data';\n",
              "          await google.colab.output.renderOutput(dataTable, element);\n",
              "          const docLink = document.createElement('div');\n",
              "          docLink.innerHTML = docLinkHtml;\n",
              "          element.appendChild(docLink);\n",
              "        }\n",
              "      </script>\n",
              "    </div>\n",
              "  </div>\n",
              "  "
            ]
          },
          "metadata": {},
          "execution_count": 103
        }
      ]
    },
    {
      "cell_type": "code",
      "source": [
        "print(\"\\tMean absolute error (MAE):\", mean_absolute_error(Actual_value2, linear_prediction2))"
      ],
      "metadata": {
        "colab": {
          "base_uri": "https://localhost:8080/"
        },
        "id": "PQ-fxniI7IUy",
        "outputId": "f3814630-5178-4f18-bedd-244975dc388e"
      },
      "execution_count": 104,
      "outputs": [
        {
          "output_type": "stream",
          "name": "stdout",
          "text": [
            "\tMean absolute error (MAE): 18.980388602673884\n"
          ]
        }
      ]
    },
    {
      "cell_type": "code",
      "source": [],
      "metadata": {
        "id": "_4kdwkkf7IGi"
      },
      "execution_count": 104,
      "outputs": []
    },
    {
      "cell_type": "code",
      "source": [],
      "metadata": {
        "id": "Cuy9Fn0z7Hez"
      },
      "execution_count": 104,
      "outputs": []
    },
    {
      "cell_type": "code",
      "source": [],
      "metadata": {
        "id": "nm4UyVA57HPj"
      },
      "execution_count": 104,
      "outputs": []
    },
    {
      "cell_type": "markdown",
      "metadata": {
        "id": "eSF44O6gkBAU"
      },
      "source": [
        "## Random Forest Regressor \n",
        "        Variation-I [FEATURES : Previous 90 Days Sales]"
      ]
    },
    {
      "cell_type": "code",
      "execution_count": 105,
      "metadata": {
        "id": "uAV1OBz4kBAU"
      },
      "outputs": [],
      "source": [
        "from sklearn.ensemble import RandomForestRegressor"
      ]
    },
    {
      "cell_type": "code",
      "execution_count": 106,
      "metadata": {
        "id": "KblMdip0kBAU"
      },
      "outputs": [],
      "source": [
        " # create regressor object\n",
        "regressor = RandomForestRegressor(n_estimators = 100, random_state = 1)"
      ]
    },
    {
      "cell_type": "code",
      "execution_count": 107,
      "metadata": {
        "colab": {
          "base_uri": "https://localhost:8080/"
        },
        "id": "E_pzH8HIkBAU",
        "outputId": "ae93409e-b0bc-4157-c83c-25409d9daf84"
      },
      "outputs": [
        {
          "output_type": "stream",
          "name": "stdout",
          "text": [
            "\tMean absolute error (MAE): 87.17999999999996\n"
          ]
        }
      ],
      "source": [
        "#use k-fold CV to evaluate model\n",
        "score1 = cross_val_score(regressor, X, Y, scoring='neg_mean_absolute_error',\n",
        "                         cv=cv, n_jobs=-1)\n",
        "\n",
        "#view mean absolute error\n",
        "print(\"\\tMean absolute error (MAE):\", mean(absolute(score1)))"
      ]
    },
    {
      "cell_type": "code",
      "execution_count": 108,
      "metadata": {
        "colab": {
          "base_uri": "https://localhost:8080/"
        },
        "id": "4ncFenyCkBAV",
        "outputId": "926f3b52-86fa-4a81-f4f0-3ab00ffe5447"
      },
      "outputs": [
        {
          "output_type": "stream",
          "name": "stdout",
          "text": [
            "\tRoot Mean squared error (RMSE): 112.93429263661824\n"
          ]
        }
      ],
      "source": [
        "score2 = cross_val_score(regressor, X, Y, scoring='neg_mean_squared_error',\n",
        "                         cv=cv, n_jobs=-1)\n",
        "print(\"\\tRoot Mean squared error (RMSE):\", sqrt(mean(absolute(score2))))"
      ]
    },
    {
      "cell_type": "code",
      "execution_count": 109,
      "metadata": {
        "colab": {
          "base_uri": "https://localhost:8080/"
        },
        "id": "saKhDUsOkBAV",
        "outputId": "a3f0f23a-8c8c-4cdc-bc5c-a2e0fe9fd157"
      },
      "outputs": [
        {
          "output_type": "stream",
          "name": "stdout",
          "text": [
            "\t Mean Absolute Percentage error (MAPE): 2.943247510054728\n"
          ]
        }
      ],
      "source": [
        "score3 = cross_val_score(regressor, X, Y, scoring=mape_scorer, cv=cv)\n",
        "print(\"\\t Mean Absolute Percentage error (MAPE):\", mean(absolute(score3)))"
      ]
    },
    {
      "cell_type": "code",
      "source": [
        "predictions = cross_val_predict(regressor, X, Y, cv=cv)\n",
        "print(predictions)"
      ],
      "metadata": {
        "colab": {
          "base_uri": "https://localhost:8080/"
        },
        "id": "ymIVTmjsNNaH",
        "outputId": "c5461b99-e0ee-45c4-ccea-b67cdad40c51"
      },
      "execution_count": 110,
      "outputs": [
        {
          "output_type": "stream",
          "name": "stdout",
          "text": [
            "[2268.99 2154.24 2247.39 2203.86 2222.69 2195.34 2252.72 2231.07 2204.26\n",
            " 2206.86 2250.64 2258.84 2230.18 2232.03 2239.98 2229.45 2182.53 2244.83\n",
            " 2186.14 2174.81 2194.72 2228.26 2235.53 2185.09 2248.07 2232.99 2243.49\n",
            " 2241.27 2187.39 2240.  ]\n"
          ]
        }
      ]
    },
    {
      "cell_type": "markdown",
      "metadata": {
        "id": "2KohWjPHkBAV"
      },
      "source": [
        "## Random Forest Regressor\n",
        "            Variation-II [FEATURES : Previous 90 Days Sales + Monthly Item Discount ]"
      ]
    },
    {
      "cell_type": "code",
      "execution_count": 111,
      "metadata": {
        "colab": {
          "base_uri": "https://localhost:8080/"
        },
        "id": "NJ8qsysJkBAW",
        "outputId": "a1a496b7-b14f-48bc-e8b4-43e279bb0977"
      },
      "outputs": [
        {
          "output_type": "stream",
          "name": "stdout",
          "text": [
            "\tMean absolute error (MAE): 50.742000000000004\n"
          ]
        }
      ],
      "source": [
        "#use k-fold CV to evaluate model\n",
        "score1 = cross_val_score(regressor, X1, Y1, scoring='neg_mean_absolute_error',\n",
        "                         cv=cv, n_jobs=-1)\n",
        "\n",
        "#view mean absolute error\n",
        "print(\"\\tMean absolute error (MAE):\", mean(absolute(score1)))"
      ]
    },
    {
      "cell_type": "code",
      "execution_count": 112,
      "metadata": {
        "colab": {
          "base_uri": "https://localhost:8080/"
        },
        "id": "xzBl2ivKkBAW",
        "outputId": "acac0924-93ea-4b8f-cd10-fc84018cf255"
      },
      "outputs": [
        {
          "output_type": "stream",
          "name": "stdout",
          "text": [
            "\tRoot Mean squared error (RMSE): 73.11736250713645\n"
          ]
        }
      ],
      "source": [
        "score2 = cross_val_score(regressor, X1, Y1, scoring='neg_mean_squared_error',\n",
        "                         cv=cv, n_jobs=-1)\n",
        "print(\"\\tRoot Mean squared error (RMSE):\", sqrt(mean(absolute(score2))))"
      ]
    },
    {
      "cell_type": "code",
      "execution_count": 113,
      "metadata": {
        "colab": {
          "base_uri": "https://localhost:8080/"
        },
        "id": "Z8pGNThmkBAX",
        "outputId": "7c56ae5c-e9e1-4e93-d8be-8872a2f7bc47"
      },
      "outputs": [
        {
          "output_type": "stream",
          "name": "stdout",
          "text": [
            "\t Mean Absolute Percentage error (MAPE): 1.4931612527341722\n"
          ]
        }
      ],
      "source": [
        "score3 = cross_val_score(regressor, X1, Y1, scoring=mape_scorer, cv=cv)\n",
        "print(\"\\t Mean Absolute Percentage error (MAPE):\", mean(absolute(score3)))"
      ]
    },
    {
      "cell_type": "code",
      "execution_count": 114,
      "metadata": {
        "id": "eMnXs5adkBAX",
        "colab": {
          "base_uri": "https://localhost:8080/"
        },
        "outputId": "6aaaa9aa-24db-46df-b3d1-b0decf81f36b"
      },
      "outputs": [
        {
          "output_type": "stream",
          "name": "stdout",
          "text": [
            "[2195.32 2160.23 2177.95 2200.92 2324.76 2178.36 2169.29 2193.08 2195.83\n",
            " 2188.12 2163.42 2329.98 2182.58 2305.31 2167.94 2264.27 2283.42 2192.3\n",
            " 2212.2  2174.12 2307.36 2260.1  2173.54 2181.9  2171.37 2224.9  2158.84\n",
            " 2305.65 2305.53 2286.11]\n"
          ]
        }
      ],
      "source": [
        "predictions = cross_val_predict(regressor, X1, Y1, cv=cv)\n",
        "print(predictions)"
      ]
    },
    {
      "cell_type": "markdown",
      "source": [
        "# RANDOM FOREST PREDICTION"
      ],
      "metadata": {
        "id": "q76xil869avD"
      }
    },
    {
      "cell_type": "code",
      "source": [
        "\n",
        "regressor.fit(x_train, y_train)"
      ],
      "metadata": {
        "colab": {
          "base_uri": "https://localhost:8080/"
        },
        "id": "BwRVn08q9K4S",
        "outputId": "4c9a95b8-14bb-4a1a-e28d-f0aca8579b2a"
      },
      "execution_count": 115,
      "outputs": [
        {
          "output_type": "execute_result",
          "data": {
            "text/plain": [
              "RandomForestRegressor(random_state=1)"
            ]
          },
          "metadata": {},
          "execution_count": 115
        }
      ]
    },
    {
      "cell_type": "code",
      "source": [
        "\n",
        "Forest_prediction2 = pd.DataFrame(regressor.predict(Row25))\n",
        "Forest_prediction2"
      ],
      "metadata": {
        "colab": {
          "base_uri": "https://localhost:8080/",
          "height": 81
        },
        "id": "WhljqOWH9Klk",
        "outputId": "bee82d78-4f63-4b15-a7be-316fa00b4447"
      },
      "execution_count": 116,
      "outputs": [
        {
          "output_type": "execute_result",
          "data": {
            "text/plain": [
              "         0\n",
              "0  2215.19"
            ],
            "text/html": [
              "\n",
              "  <div id=\"df-8f571f4e-84a8-4d61-ab5c-7fff39d4fa39\">\n",
              "    <div class=\"colab-df-container\">\n",
              "      <div>\n",
              "<style scoped>\n",
              "    .dataframe tbody tr th:only-of-type {\n",
              "        vertical-align: middle;\n",
              "    }\n",
              "\n",
              "    .dataframe tbody tr th {\n",
              "        vertical-align: top;\n",
              "    }\n",
              "\n",
              "    .dataframe thead th {\n",
              "        text-align: right;\n",
              "    }\n",
              "</style>\n",
              "<table border=\"1\" class=\"dataframe\">\n",
              "  <thead>\n",
              "    <tr style=\"text-align: right;\">\n",
              "      <th></th>\n",
              "      <th>0</th>\n",
              "    </tr>\n",
              "  </thead>\n",
              "  <tbody>\n",
              "    <tr>\n",
              "      <th>0</th>\n",
              "      <td>2215.19</td>\n",
              "    </tr>\n",
              "  </tbody>\n",
              "</table>\n",
              "</div>\n",
              "      <button class=\"colab-df-convert\" onclick=\"convertToInteractive('df-8f571f4e-84a8-4d61-ab5c-7fff39d4fa39')\"\n",
              "              title=\"Convert this dataframe to an interactive table.\"\n",
              "              style=\"display:none;\">\n",
              "        \n",
              "  <svg xmlns=\"http://www.w3.org/2000/svg\" height=\"24px\"viewBox=\"0 0 24 24\"\n",
              "       width=\"24px\">\n",
              "    <path d=\"M0 0h24v24H0V0z\" fill=\"none\"/>\n",
              "    <path d=\"M18.56 5.44l.94 2.06.94-2.06 2.06-.94-2.06-.94-.94-2.06-.94 2.06-2.06.94zm-11 1L8.5 8.5l.94-2.06 2.06-.94-2.06-.94L8.5 2.5l-.94 2.06-2.06.94zm10 10l.94 2.06.94-2.06 2.06-.94-2.06-.94-.94-2.06-.94 2.06-2.06.94z\"/><path d=\"M17.41 7.96l-1.37-1.37c-.4-.4-.92-.59-1.43-.59-.52 0-1.04.2-1.43.59L10.3 9.45l-7.72 7.72c-.78.78-.78 2.05 0 2.83L4 21.41c.39.39.9.59 1.41.59.51 0 1.02-.2 1.41-.59l7.78-7.78 2.81-2.81c.8-.78.8-2.07 0-2.86zM5.41 20L4 18.59l7.72-7.72 1.47 1.35L5.41 20z\"/>\n",
              "  </svg>\n",
              "      </button>\n",
              "      \n",
              "  <style>\n",
              "    .colab-df-container {\n",
              "      display:flex;\n",
              "      flex-wrap:wrap;\n",
              "      gap: 12px;\n",
              "    }\n",
              "\n",
              "    .colab-df-convert {\n",
              "      background-color: #E8F0FE;\n",
              "      border: none;\n",
              "      border-radius: 50%;\n",
              "      cursor: pointer;\n",
              "      display: none;\n",
              "      fill: #1967D2;\n",
              "      height: 32px;\n",
              "      padding: 0 0 0 0;\n",
              "      width: 32px;\n",
              "    }\n",
              "\n",
              "    .colab-df-convert:hover {\n",
              "      background-color: #E2EBFA;\n",
              "      box-shadow: 0px 1px 2px rgba(60, 64, 67, 0.3), 0px 1px 3px 1px rgba(60, 64, 67, 0.15);\n",
              "      fill: #174EA6;\n",
              "    }\n",
              "\n",
              "    [theme=dark] .colab-df-convert {\n",
              "      background-color: #3B4455;\n",
              "      fill: #D2E3FC;\n",
              "    }\n",
              "\n",
              "    [theme=dark] .colab-df-convert:hover {\n",
              "      background-color: #434B5C;\n",
              "      box-shadow: 0px 1px 3px 1px rgba(0, 0, 0, 0.15);\n",
              "      filter: drop-shadow(0px 1px 2px rgba(0, 0, 0, 0.3));\n",
              "      fill: #FFFFFF;\n",
              "    }\n",
              "  </style>\n",
              "\n",
              "      <script>\n",
              "        const buttonEl =\n",
              "          document.querySelector('#df-8f571f4e-84a8-4d61-ab5c-7fff39d4fa39 button.colab-df-convert');\n",
              "        buttonEl.style.display =\n",
              "          google.colab.kernel.accessAllowed ? 'block' : 'none';\n",
              "\n",
              "        async function convertToInteractive(key) {\n",
              "          const element = document.querySelector('#df-8f571f4e-84a8-4d61-ab5c-7fff39d4fa39');\n",
              "          const dataTable =\n",
              "            await google.colab.kernel.invokeFunction('convertToInteractive',\n",
              "                                                     [key], {});\n",
              "          if (!dataTable) return;\n",
              "\n",
              "          const docLinkHtml = 'Like what you see? Visit the ' +\n",
              "            '<a target=\"_blank\" href=https://colab.research.google.com/notebooks/data_table.ipynb>data table notebook</a>'\n",
              "            + ' to learn more about interactive tables.';\n",
              "          element.innerHTML = '';\n",
              "          dataTable['output_type'] = 'display_data';\n",
              "          await google.colab.output.renderOutput(dataTable, element);\n",
              "          const docLink = document.createElement('div');\n",
              "          docLink.innerHTML = docLinkHtml;\n",
              "          element.appendChild(docLink);\n",
              "        }\n",
              "      </script>\n",
              "    </div>\n",
              "  </div>\n",
              "  "
            ]
          },
          "metadata": {},
          "execution_count": 116
        }
      ]
    },
    {
      "cell_type": "code",
      "source": [
        "print(\"\\tMean absolute error (MAE):\", mean_absolute_error(Actual_value2, Forest_prediction2))"
      ],
      "metadata": {
        "colab": {
          "base_uri": "https://localhost:8080/"
        },
        "id": "iaxkOTPf9KcV",
        "outputId": "c759c749-358d-4708-aadc-69756383752c"
      },
      "execution_count": 117,
      "outputs": [
        {
          "output_type": "stream",
          "name": "stdout",
          "text": [
            "\tMean absolute error (MAE): 8.809999999999945\n"
          ]
        }
      ]
    },
    {
      "cell_type": "code",
      "source": [],
      "metadata": {
        "id": "b1CuKS4y9KP2"
      },
      "execution_count": 117,
      "outputs": []
    },
    {
      "cell_type": "code",
      "source": [],
      "metadata": {
        "id": "eSShS4sf9J7n"
      },
      "execution_count": 117,
      "outputs": []
    },
    {
      "cell_type": "code",
      "execution_count": 117,
      "metadata": {
        "id": "DErHHm4CkBAX"
      },
      "outputs": [],
      "source": []
    },
    {
      "cell_type": "markdown",
      "source": [
        "#ARIMA IMPLEMEMENTATION"
      ],
      "metadata": {
        "id": "aOab1W53RAhf"
      }
    },
    {
      "cell_type": "code",
      "execution_count": 118,
      "metadata": {
        "id": "ee8ukpe4kBAX"
      },
      "outputs": [],
      "source": [
        "Monthly_Quantity.drop(Monthly_Quantity.tail(1).index,inplace=True)"
      ]
    },
    {
      "cell_type": "code",
      "execution_count": 119,
      "metadata": {
        "colab": {
          "base_uri": "https://localhost:8080/"
        },
        "id": "XQBAsp2pkBAY",
        "outputId": "365e3bfc-098b-4f5e-ed14-e76f2f2e3e0e"
      },
      "outputs": [
        {
          "output_type": "execute_result",
          "data": {
            "text/plain": [
              "(33, 1)"
            ]
          },
          "metadata": {},
          "execution_count": 119
        }
      ],
      "source": [
        "Monthly_Quantity.shape"
      ]
    },
    {
      "cell_type": "markdown",
      "source": [
        "### Plotting the Rolling Mean and STD of the data to see if it is stationary"
      ],
      "metadata": {
        "id": "M8Bsr-pUyJ2S"
      }
    },
    {
      "cell_type": "code",
      "execution_count": 120,
      "metadata": {
        "colab": {
          "base_uri": "https://localhost:8080/",
          "height": 478
        },
        "id": "flkiI_I9kBAY",
        "outputId": "f24770ec-496f-49ca-8234-9b1f545922ec"
      },
      "outputs": [
        {
          "output_type": "execute_result",
          "data": {
            "text/plain": [
              "Text(0.5, 1.0, 'Rolling Mean & Standard Deviation')"
            ]
          },
          "metadata": {},
          "execution_count": 120
        },
        {
          "output_type": "display_data",
          "data": {
            "text/plain": [
              "<Figure size 1080x504 with 1 Axes>"
            ],
            "image/png": "[encoded data removed]"
          },
          "metadata": {
            "needs_background": "light"
          }
        }
      ],
      "source": [
        "\n",
        "plt.figure(figsize=(15,7))\n",
        "plt.plot(Monthly_Quantity[\"Order Item Quantity\"], label='Original')\n",
        "plt.plot(Monthly_Quantity[\"Order Item Quantity\"].rolling(window=3).mean(), color='red', label='Rolling mean')\n",
        "plt.plot(Monthly_Quantity[\"Order Item Quantity\"].rolling(window=3).std(), color='green', label='Rolling std')\n",
        "plt.xlabel('Date', fontsize=12)\n",
        "plt.ylabel('Order Item Quantity', fontsize=12)\n",
        "plt.legend(loc='best')\n",
        "plt.title('Rolling Mean & Standard Deviation')"
      ]
    },
    {
      "cell_type": "code",
      "execution_count": 121,
      "metadata": {
        "id": "gLdU0e7wkBAY"
      },
      "outputs": [],
      "source": [
        "import statsmodels.api as sm\n",
        "from statsmodels.tsa.stattools import adfuller\n",
        "from statsmodels.graphics.tsaplots import plot_acf, plot_pacf, plot_predict\n",
        "from statsmodels.tsa.arima.model import ARIMA\n",
        "%matplotlib inline"
      ]
    },
    {
      "cell_type": "markdown",
      "source": [
        "### TEST for checking the stationarity of Data"
      ],
      "metadata": {
        "id": "kqEvzQMyyU6Z"
      }
    },
    {
      "cell_type": "code",
      "execution_count": 122,
      "metadata": {
        "colab": {
          "base_uri": "https://localhost:8080/"
        },
        "id": "6lGZsC2kkBAZ",
        "outputId": "f7fc9858-3f62-42d1-a247-09a03d51421d"
      },
      "outputs": [
        {
          "output_type": "stream",
          "name": "stdout",
          "text": [
            "p-value: 2.2438251656337983e-11\n"
          ]
        }
      ],
      "source": [
        "adf_test = adfuller(Monthly_Quantity)\n",
        "print(f'p-value: {adf_test[1]}')"
      ]
    },
    {
      "cell_type": "markdown",
      "source": [
        "Since the p-value is less than 0.05, it means data is stationary"
      ],
      "metadata": {
        "id": "KWxJ-5pGyaOp"
      }
    },
    {
      "cell_type": "code",
      "execution_count": 123,
      "metadata": {
        "colab": {
          "base_uri": "https://localhost:8080/",
          "height": 484
        },
        "id": "nZs4-UxhkBAa",
        "outputId": "00eddbf3-9ea1-4102-cec5-3a0efc52645a"
      },
      "outputs": [
        {
          "output_type": "display_data",
          "data": {
            "text/plain": [
              "<Figure size 1008x504 with 4 Axes>"
            ],
            "image/png": "[encoded data removed]"
          },
          "metadata": {
            "needs_background": "light"
          }
        }
      ],
      "source": [
        "\n",
        "def seasonal_decompose (Monthly_Quantity):\n",
        "    decomposition = sm.tsa.seasonal_decompose(Monthly_Quantity, model='additive', extrapolate_trend=12)\n",
        "    \n",
        "    trend = decomposition.trend\n",
        "    seasonal = decomposition.seasonal\n",
        "    residual = decomposition.resid\n",
        "    \n",
        "    fig = decomposition.plot()\n",
        "    fig.set_size_inches(14, 7)\n",
        "    plt.show()\n",
        "    \n",
        "    return trend, seasonal, residual\n",
        " \n",
        "trend, seasonal, residual = seasonal_decompose(Monthly_Quantity)"
      ]
    },
    {
      "cell_type": "code",
      "execution_count": 124,
      "metadata": {
        "id": "TI49TmFwkBAa",
        "colab": {
          "base_uri": "https://localhost:8080/",
          "height": 1000
        },
        "outputId": "b3451783-df64-4485-e1e7-c9920bc9c4d4"
      },
      "outputs": [
        {
          "output_type": "execute_result",
          "data": {
            "text/plain": [
              "Text(0.5, 1.0, 'Daily_Sales')"
            ]
          },
          "metadata": {},
          "execution_count": 124
        },
        {
          "output_type": "display_data",
          "data": {
            "text/plain": [
              "<Figure size 432x288 with 1 Axes>"
            ],
            "image/png": "[encoded data removed]"
          },
          "metadata": {
            "needs_background": "light"
          }
        },
        {
          "output_type": "display_data",
          "data": {
            "text/plain": [
              "<Figure size 432x288 with 1 Axes>"
            ],
            "image/png": "[encoded data removed]"
          },
          "metadata": {
            "needs_background": "light"
          }
        },
        {
          "output_type": "display_data",
          "data": {
            "text/plain": [
              "<Figure size 432x288 with 1 Axes>"
            ],
            "image/png": "[encoded data removed]"
          },
          "metadata": {
            "needs_background": "light"
          }
        },
        {
          "output_type": "display_data",
          "data": {
            "text/plain": [
              "<Figure size 432x288 with 1 Axes>"
            ],
            "image/png": "[encoded data removed]"
          },
          "metadata": {
            "needs_background": "light"
          }
        }
      ],
      "source": [
        "sales_agg_monthly = Cleats_Sold.resample(\"M\")[[\"Order Item Quantity\"]].mean()\n",
        "sales_agg_monthly.plot()\n",
        "plt.title('Mean Monthly Sales')\n",
        "\n",
        "sales_agg_yearly = Cleats_Sold.resample(\"Y\")[[\"Order Item Quantity\"]].mean()\n",
        "sales_agg_yearly.plot()\n",
        "plt.title('Mean Yearly Sales')\n",
        "\n",
        "sales_agg_weekly = Cleats_Sold.resample(\"W\")[[\"Order Item Quantity\"]].mean()\n",
        "sales_agg_weekly.plot()\n",
        "plt.title('Mean weekly Sales')\n",
        "\n",
        "sales_agg_daily = Cleats_Sold.resample(\"D\")[[\"Order Item Quantity\"]].mean()\n",
        "sales_agg_daily.plot()\n",
        "plt.title('Daily_Sales')"
      ]
    },
    {
      "cell_type": "code",
      "execution_count": 125,
      "metadata": {
        "id": "gUWgmhvIkBAb",
        "colab": {
          "base_uri": "https://localhost:8080/",
          "height": 590
        },
        "outputId": "1dafdf64-379d-4e74-edc1-cf26b6693a25"
      },
      "outputs": [
        {
          "output_type": "stream",
          "name": "stdout",
          "text": [
            "Looking in indexes: https://pypi.org/simple, https://us-python.pkg.dev/colab-wheels/public/simple/\n",
            "Collecting pmdarima\n",
            "  Downloading pmdarima-2.0.2-cp38-cp38-manylinux_2_17_x86_64.manylinux2014_x86_64.manylinux_2_28_x86_64.whl (1.9 MB)\n",
            "\u001b[2K     \u001b[90m━━━━━━━━━━━━━━━━━━━━━━━━━━━━━━━━━━━━━━━━\u001b[0m \u001b[32m1.9/1.9 MB\u001b[0m \u001b[31m23.5 MB/s\u001b[0m eta \u001b[36m0:00:00\u001b[0m\n",
            "\u001b[?25hRequirement already satisfied: joblib>=0.11 in /usr/local/lib/python3.8/dist-packages (from pmdarima) (1.2.0)\n",
            "Requirement already satisfied: setuptools!=50.0.0,>=38.6.0 in /usr/local/lib/python3.8/dist-packages (from pmdarima) (57.4.0)\n",
            "Requirement already satisfied: scipy>=1.3.2 in /usr/local/lib/python3.8/dist-packages (from pmdarima) (1.7.3)\n",
            "Requirement already satisfied: scikit-learn>=0.22 in /usr/local/lib/python3.8/dist-packages (from pmdarima) (1.0.2)\n",
            "Requirement already satisfied: numpy>=1.21.2 in /usr/local/lib/python3.8/dist-packages (from pmdarima) (1.21.6)\n",
            "Requirement already satisfied: urllib3 in /usr/local/lib/python3.8/dist-packages (from pmdarima) (1.24.3)\n",
            "Requirement already satisfied: Cython!=0.29.18,!=0.29.31,>=0.29 in /usr/local/lib/python3.8/dist-packages (from pmdarima) (0.29.32)\n",
            "Requirement already satisfied: pandas>=0.19 in /usr/local/lib/python3.8/dist-packages (from pmdarima) (1.3.5)\n",
            "Collecting statsmodels>=0.13.2\n",
            "  Downloading statsmodels-0.13.5-cp38-cp38-manylinux_2_17_x86_64.manylinux2014_x86_64.whl (9.9 MB)\n",
            "\u001b[2K     \u001b[90m━━━━━━━━━━━━━━━━━━━━━━━━━━━━━━━━━━━━━━━━\u001b[0m \u001b[32m9.9/9.9 MB\u001b[0m \u001b[31m69.0 MB/s\u001b[0m eta \u001b[36m0:00:00\u001b[0m\n",
            "\u001b[?25hRequirement already satisfied: python-dateutil>=2.7.3 in /usr/local/lib/python3.8/dist-packages (from pandas>=0.19->pmdarima) (2.8.2)\n",
            "Requirement already satisfied: pytz>=2017.3 in /usr/local/lib/python3.8/dist-packages (from pandas>=0.19->pmdarima) (2022.7)\n",
            "Requirement already satisfied: threadpoolctl>=2.0.0 in /usr/local/lib/python3.8/dist-packages (from scikit-learn>=0.22->pmdarima) (3.1.0)\n",
            "Requirement already satisfied: patsy>=0.5.2 in /usr/local/lib/python3.8/dist-packages (from statsmodels>=0.13.2->pmdarima) (0.5.3)\n",
            "Requirement already satisfied: packaging>=21.3 in /usr/local/lib/python3.8/dist-packages (from statsmodels>=0.13.2->pmdarima) (21.3)\n",
            "Requirement already satisfied: pyparsing!=3.0.5,>=2.0.2 in /usr/local/lib/python3.8/dist-packages (from packaging>=21.3->statsmodels>=0.13.2->pmdarima) (3.0.9)\n",
            "Requirement already satisfied: six in /usr/local/lib/python3.8/dist-packages (from patsy>=0.5.2->statsmodels>=0.13.2->pmdarima) (1.15.0)\n",
            "Installing collected packages: statsmodels, pmdarima\n",
            "  Attempting uninstall: statsmodels\n",
            "    Found existing installation: statsmodels 0.12.2\n",
            "    Uninstalling statsmodels-0.12.2:\n",
            "      Successfully uninstalled statsmodels-0.12.2\n",
            "Successfully installed pmdarima-2.0.2 statsmodels-0.13.5\n"
          ]
        },
        {
          "output_type": "display_data",
          "data": {
            "application/vnd.colab-display-data+json": {
              "pip_warning": {
                "packages": [
                  "statsmodels"
                ]
              }
            }
          },
          "metadata": {}
        }
      ],
      "source": [
        "pip install pmdarima"
      ]
    },
    {
      "cell_type": "code",
      "execution_count": 126,
      "metadata": {
        "id": "kYEqFOwYkBAb"
      },
      "outputs": [],
      "source": [
        "Monthly_Discount.drop(Monthly_Discount.tail(1).index,inplace=True)"
      ]
    },
    {
      "cell_type": "code",
      "source": [
        "Monthly_Discount.shape"
      ],
      "metadata": {
        "colab": {
          "base_uri": "https://localhost:8080/"
        },
        "id": "-WsOq-ECz0LN",
        "outputId": "2f807606-c2e7-4060-bdcd-7f13b539a535"
      },
      "execution_count": 127,
      "outputs": [
        {
          "output_type": "execute_result",
          "data": {
            "text/plain": [
              "(33, 1)"
            ]
          },
          "metadata": {},
          "execution_count": 127
        }
      ]
    },
    {
      "cell_type": "code",
      "source": [
        "Exog = Monthly_Discount[['Order Item Discount']].to_numpy()"
      ],
      "metadata": {
        "id": "2zIcPBFdz6o4"
      },
      "execution_count": 128,
      "outputs": []
    },
    {
      "cell_type": "code",
      "source": [
        "from pmdarima import auto_arima"
      ],
      "metadata": {
        "id": "4gwgTVpWX1pZ"
      },
      "execution_count": 129,
      "outputs": []
    },
    {
      "cell_type": "code",
      "source": [
        "\n",
        "\n",
        "# Split the data into training and test sets\n",
        "train_data = Monthly_Quantity[:int(0.8*len(Monthly_Quantity))]\n",
        "test_data = Monthly_Quantity[int(0.8*len(Monthly_Quantity)):]\n",
        "\n",
        "# Create an auto_arima model\n",
        "model = auto_arima(train_data, exogenous=Exog, start_p=0, start_q=0,\n",
        "                   max_p=5, max_q=5, m=1, d=None, \n",
        "                    trace=True,\n",
        "                   error_action='ignore',  \n",
        "                   suppress_warnings=True,  # don't want convergence warnings\n",
        "                   stepwise=True)  # set to stepwise\n",
        "\n",
        "# Fit the model to the training data\n",
        "model.fit(train_data)\n",
        "\n",
        "# Make predictions on the test data\n",
        "predictions = model.predict(n_periods=len(test_data))\n"
      ],
      "metadata": {
        "colab": {
          "base_uri": "https://localhost:8080/"
        },
        "id": "Pjn378iv0Cx9",
        "outputId": "f00d0dd4-b75a-46db-8ccd-0d485fbbbb46"
      },
      "execution_count": 130,
      "outputs": [
        {
          "output_type": "stream",
          "name": "stdout",
          "text": [
            "Performing stepwise search to minimize aic\n",
            " ARIMA(0,0,0)(0,0,0)[0] intercept   : AIC=319.600, Time=0.05 sec\n",
            " ARIMA(1,0,0)(0,0,0)[0] intercept   : AIC=317.815, Time=0.02 sec\n",
            " ARIMA(0,0,1)(0,0,0)[0] intercept   : AIC=317.851, Time=0.07 sec\n",
            " ARIMA(0,0,0)(0,0,0)[0]             : AIC=477.032, Time=0.02 sec\n",
            " ARIMA(2,0,0)(0,0,0)[0] intercept   : AIC=320.366, Time=0.10 sec\n",
            " ARIMA(1,0,1)(0,0,0)[0] intercept   : AIC=319.782, Time=0.13 sec\n",
            " ARIMA(2,0,1)(0,0,0)[0] intercept   : AIC=321.776, Time=0.39 sec\n",
            " ARIMA(1,0,0)(0,0,0)[0]             : AIC=inf, Time=0.03 sec\n",
            "\n",
            "Best model:  ARIMA(1,0,0)(0,0,0)[0] intercept\n",
            "Total fit time: 0.835 seconds\n"
          ]
        }
      ]
    },
    {
      "cell_type": "code",
      "source": [
        "print(train_data.shape)\n",
        "print(test_data.shape)"
      ],
      "metadata": {
        "id": "QvXzD6Tc0s34",
        "colab": {
          "base_uri": "https://localhost:8080/"
        },
        "outputId": "7fb28469-9732-43f0-afc5-1d5a43233805"
      },
      "execution_count": 131,
      "outputs": [
        {
          "output_type": "stream",
          "name": "stdout",
          "text": [
            "(26, 1)\n",
            "(7, 1)\n"
          ]
        }
      ]
    },
    {
      "cell_type": "code",
      "source": [
        "test_data"
      ],
      "metadata": {
        "colab": {
          "base_uri": "https://localhost:8080/",
          "height": 300
        },
        "id": "pojXt5n5ALJG",
        "outputId": "3391130d-d11e-4017-b619-ee3e18c9a7b1"
      },
      "execution_count": 132,
      "outputs": [
        {
          "output_type": "execute_result",
          "data": {
            "text/plain": [
              "            Order Item Quantity\n",
              "Index                          \n",
              "2017-03-01                 2215\n",
              "2017-04-01                 2224\n",
              "2017-05-01                 2218\n",
              "2017-06-01                 1934\n",
              "2017-07-01                 2305\n",
              "2017-08-01                 2313\n",
              "2017-09-01                 2108"
            ],
            "text/html": [
              "\n",
              "  <div id=\"df-8a558ec1-534c-4a01-8bdd-939a412ecafd\">\n",
              "    <div class=\"colab-df-container\">\n",
              "      <div>\n",
              "<style scoped>\n",
              "    .dataframe tbody tr th:only-of-type {\n",
              "        vertical-align: middle;\n",
              "    }\n",
              "\n",
              "    .dataframe tbody tr th {\n",
              "        vertical-align: top;\n",
              "    }\n",
              "\n",
              "    .dataframe thead th {\n",
              "        text-align: right;\n",
              "    }\n",
              "</style>\n",
              "<table border=\"1\" class=\"dataframe\">\n",
              "  <thead>\n",
              "    <tr style=\"text-align: right;\">\n",
              "      <th></th>\n",
              "      <th>Order Item Quantity</th>\n",
              "    </tr>\n",
              "    <tr>\n",
              "      <th>Index</th>\n",
              "      <th></th>\n",
              "    </tr>\n",
              "  </thead>\n",
              "  <tbody>\n",
              "    <tr>\n",
              "      <th>2017-03-01</th>\n",
              "      <td>2215</td>\n",
              "    </tr>\n",
              "    <tr>\n",
              "      <th>2017-04-01</th>\n",
              "      <td>2224</td>\n",
              "    </tr>\n",
              "    <tr>\n",
              "      <th>2017-05-01</th>\n",
              "      <td>2218</td>\n",
              "    </tr>\n",
              "    <tr>\n",
              "      <th>2017-06-01</th>\n",
              "      <td>1934</td>\n",
              "    </tr>\n",
              "    <tr>\n",
              "      <th>2017-07-01</th>\n",
              "      <td>2305</td>\n",
              "    </tr>\n",
              "    <tr>\n",
              "      <th>2017-08-01</th>\n",
              "      <td>2313</td>\n",
              "    </tr>\n",
              "    <tr>\n",
              "      <th>2017-09-01</th>\n",
              "      <td>2108</td>\n",
              "    </tr>\n",
              "  </tbody>\n",
              "</table>\n",
              "</div>\n",
              "      <button class=\"colab-df-convert\" onclick=\"convertToInteractive('df-8a558ec1-534c-4a01-8bdd-939a412ecafd')\"\n",
              "              title=\"Convert this dataframe to an interactive table.\"\n",
              "              style=\"display:none;\">\n",
              "        \n",
              "  <svg xmlns=\"http://www.w3.org/2000/svg\" height=\"24px\"viewBox=\"0 0 24 24\"\n",
              "       width=\"24px\">\n",
              "    <path d=\"M0 0h24v24H0V0z\" fill=\"none\"/>\n",
              "    <path d=\"M18.56 5.44l.94 2.06.94-2.06 2.06-.94-2.06-.94-.94-2.06-.94 2.06-2.06.94zm-11 1L8.5 8.5l.94-2.06 2.06-.94-2.06-.94L8.5 2.5l-.94 2.06-2.06.94zm10 10l.94 2.06.94-2.06 2.06-.94-2.06-.94-.94-2.06-.94 2.06-2.06.94z\"/><path d=\"M17.41 7.96l-1.37-1.37c-.4-.4-.92-.59-1.43-.59-.52 0-1.04.2-1.43.59L10.3 9.45l-7.72 7.72c-.78.78-.78 2.05 0 2.83L4 21.41c.39.39.9.59 1.41.59.51 0 1.02-.2 1.41-.59l7.78-7.78 2.81-2.81c.8-.78.8-2.07 0-2.86zM5.41 20L4 18.59l7.72-7.72 1.47 1.35L5.41 20z\"/>\n",
              "  </svg>\n",
              "      </button>\n",
              "      \n",
              "  <style>\n",
              "    .colab-df-container {\n",
              "      display:flex;\n",
              "      flex-wrap:wrap;\n",
              "      gap: 12px;\n",
              "    }\n",
              "\n",
              "    .colab-df-convert {\n",
              "      background-color: #E8F0FE;\n",
              "      border: none;\n",
              "      border-radius: 50%;\n",
              "      cursor: pointer;\n",
              "      display: none;\n",
              "      fill: #1967D2;\n",
              "      height: 32px;\n",
              "      padding: 0 0 0 0;\n",
              "      width: 32px;\n",
              "    }\n",
              "\n",
              "    .colab-df-convert:hover {\n",
              "      background-color: #E2EBFA;\n",
              "      box-shadow: 0px 1px 2px rgba(60, 64, 67, 0.3), 0px 1px 3px 1px rgba(60, 64, 67, 0.15);\n",
              "      fill: #174EA6;\n",
              "    }\n",
              "\n",
              "    [theme=dark] .colab-df-convert {\n",
              "      background-color: #3B4455;\n",
              "      fill: #D2E3FC;\n",
              "    }\n",
              "\n",
              "    [theme=dark] .colab-df-convert:hover {\n",
              "      background-color: #434B5C;\n",
              "      box-shadow: 0px 1px 3px 1px rgba(0, 0, 0, 0.15);\n",
              "      filter: drop-shadow(0px 1px 2px rgba(0, 0, 0, 0.3));\n",
              "      fill: #FFFFFF;\n",
              "    }\n",
              "  </style>\n",
              "\n",
              "      <script>\n",
              "        const buttonEl =\n",
              "          document.querySelector('#df-8a558ec1-534c-4a01-8bdd-939a412ecafd button.colab-df-convert');\n",
              "        buttonEl.style.display =\n",
              "          google.colab.kernel.accessAllowed ? 'block' : 'none';\n",
              "\n",
              "        async function convertToInteractive(key) {\n",
              "          const element = document.querySelector('#df-8a558ec1-534c-4a01-8bdd-939a412ecafd');\n",
              "          const dataTable =\n",
              "            await google.colab.kernel.invokeFunction('convertToInteractive',\n",
              "                                                     [key], {});\n",
              "          if (!dataTable) return;\n",
              "\n",
              "          const docLinkHtml = 'Like what you see? Visit the ' +\n",
              "            '<a target=\"_blank\" href=https://colab.research.google.com/notebooks/data_table.ipynb>data table notebook</a>'\n",
              "            + ' to learn more about interactive tables.';\n",
              "          element.innerHTML = '';\n",
              "          dataTable['output_type'] = 'display_data';\n",
              "          await google.colab.output.renderOutput(dataTable, element);\n",
              "          const docLink = document.createElement('div');\n",
              "          docLink.innerHTML = docLinkHtml;\n",
              "          element.appendChild(docLink);\n",
              "        }\n",
              "      </script>\n",
              "    </div>\n",
              "  </div>\n",
              "  "
            ]
          },
          "metadata": {},
          "execution_count": 132
        }
      ]
    },
    {
      "cell_type": "markdown",
      "source": [
        "### Evaluate the model's performance"
      ],
      "metadata": {
        "id": "XEw35V2ykkF5"
      }
    },
    {
      "cell_type": "code",
      "source": [
        "MAE = (mean_absolute_error(predictions,test_data))\n",
        "print(MAE)"
      ],
      "metadata": {
        "colab": {
          "base_uri": "https://localhost:8080/"
        },
        "id": "MegAbxMvk5Lc",
        "outputId": "e6a9ffde-3b1f-40cf-953d-38b3b430051f"
      },
      "execution_count": 133,
      "outputs": [
        {
          "output_type": "stream",
          "name": "stdout",
          "text": [
            "95.93391086777443\n"
          ]
        }
      ]
    },
    {
      "cell_type": "code",
      "source": [
        "rmse = sqrt(mean_squared_error(test_data, predictions))\n",
        "print(f' Root Mean Squared Error: {rmse:.3f}')"
      ],
      "metadata": {
        "colab": {
          "base_uri": "https://localhost:8080/"
        },
        "id": "4OyD3JIwk4_I",
        "outputId": "9e5780bb-bf0e-4be0-b06f-38bd988c1f6f"
      },
      "execution_count": 134,
      "outputs": [
        {
          "output_type": "stream",
          "name": "stdout",
          "text": [
            " Root Mean Squared Error: 133.937\n"
          ]
        }
      ]
    },
    {
      "cell_type": "code",
      "source": [
        "MAPE = (mean_absolute_percentage_error(test_data, predictions))*100\n",
        "print(\"MAPE:\", MAPE)"
      ],
      "metadata": {
        "colab": {
          "base_uri": "https://localhost:8080/"
        },
        "id": "pNHulllFk43X",
        "outputId": "6354f39d-0805-4b1d-9780-06d8f87896c9"
      },
      "execution_count": 135,
      "outputs": [
        {
          "output_type": "stream",
          "name": "stdout",
          "text": [
            "MAPE: 4.625799000689185\n"
          ]
        }
      ]
    },
    {
      "cell_type": "code",
      "source": [
        "print(predictions)"
      ],
      "metadata": {
        "colab": {
          "base_uri": "https://localhost:8080/"
        },
        "id": "OHlynZzDk4qU",
        "outputId": "833d27bf-e6ec-4ecb-9b2b-8c8ed04a211c"
      },
      "execution_count": 136,
      "outputs": [
        {
          "output_type": "stream",
          "name": "stdout",
          "text": [
            "2017-03-01    2280.349319\n",
            "2017-04-01    2227.559522\n",
            "2017-05-01    2246.865208\n",
            "2017-06-01    2239.804952\n",
            "2017-07-01    2242.386949\n",
            "2017-08-01    2241.442690\n",
            "2017-09-01    2241.788014\n",
            "Freq: MS, dtype: float64\n"
          ]
        }
      ]
    },
    {
      "cell_type": "markdown",
      "source": [
        "# ARIMA PREDICTION"
      ],
      "metadata": {
        "id": "xMcicOJhAjwa"
      }
    },
    {
      "cell_type": "code",
      "source": [
        "Arima_prediction2 = predictions.iloc[1:2]\n",
        "Arima_prediction2 = Arima_prediction2.tolist()\n"
      ],
      "metadata": {
        "id": "eo0Ekquzmb8j"
      },
      "execution_count": 137,
      "outputs": []
    },
    {
      "cell_type": "code",
      "source": [
        "df_vertical = pd.concat([xgboost_prediction2, linear_prediction2, Forest_prediction2])"
      ],
      "metadata": {
        "id": "lu9XiNikCOQz"
      },
      "execution_count": 138,
      "outputs": []
    },
    {
      "cell_type": "code",
      "source": [
        "array = df_vertical.values\n",
        "array"
      ],
      "metadata": {
        "colab": {
          "base_uri": "https://localhost:8080/"
        },
        "id": "Ij68fk0kLcM5",
        "outputId": "2e05062a-7855-410b-a019-443448f936e3"
      },
      "execution_count": 139,
      "outputs": [
        {
          "output_type": "execute_result",
          "data": {
            "text/plain": [
              "array([[2211.80224609],\n",
              "       [2205.0196114 ],\n",
              "       [2215.19      ]])"
            ]
          },
          "metadata": {},
          "execution_count": 139
        }
      ]
    },
    {
      "cell_type": "code",
      "source": [
        "array = np.append(array, Arima_prediction2)\n",
        "print(array)"
      ],
      "metadata": {
        "colab": {
          "base_uri": "https://localhost:8080/"
        },
        "id": "Mzn3sv-qNVEv",
        "outputId": "28aee3e8-a320-417d-9eff-c191db3010de"
      },
      "execution_count": 140,
      "outputs": [
        {
          "output_type": "stream",
          "name": "stdout",
          "text": [
            "[2211.80224609 2205.0196114  2215.19       2227.55952201]\n"
          ]
        }
      ]
    },
    {
      "cell_type": "code",
      "source": [
        "count = np.size(array)\n",
        "print(count)"
      ],
      "metadata": {
        "colab": {
          "base_uri": "https://localhost:8080/"
        },
        "id": "nG9B4LtWPAqy",
        "outputId": "1e27b9cf-1e1f-4a7e-e3d5-61d34ab93c2d"
      },
      "execution_count": 141,
      "outputs": [
        {
          "output_type": "stream",
          "name": "stdout",
          "text": [
            "4\n"
          ]
        }
      ]
    },
    {
      "cell_type": "markdown",
      "source": [
        "### Exponential Smoothing"
      ],
      "metadata": {
        "id": "Icc9Tv3n8Dya"
      }
    },
    {
      "cell_type": "code",
      "source": [
        "from statsmodels.tsa.holtwinters import SimpleExpSmoothing\n",
        "from statsmodels.tsa.api import ExponentialSmoothing, SimpleExpSmoothing, Holt"
      ],
      "metadata": {
        "id": "hO72ZSnl8ILz"
      },
      "execution_count": 142,
      "outputs": []
    },
    {
      "cell_type": "code",
      "source": [
        "def simple_exponential_smoothing(MonthlyItemQuantity, alpha):\n",
        "    \"\"\"\n",
        "    Perform simple exponential smoothing.\n",
        "    Args:\n",
        "        series: input series\n",
        "        alpha: smoothing factor (between 0 and 1)\n",
        "    Returns:\n",
        "        smoothed series\n",
        "    \"\"\"\n",
        "    # Initialize the smoothed series with the first value of the input series\n",
        "    smoothed_series = [MonthlyItemQuantity[0]]\n",
        "    # Loop through the rest of the series\n",
        "    for t in range(1, len(MonthlyItemQuantity)):\n",
        "        # Calculate the smoothed value for time t\n",
        "        smoothed_series.append(alpha * MonthlyItemQuantity[t] + (1 - alpha) * smoothed_series[t-1])\n",
        "    return smoothed_series"
      ],
      "metadata": {
        "id": "_67Dqq-H8x4y"
      },
      "execution_count": 143,
      "outputs": []
    },
    {
      "cell_type": "code",
      "source": [
        "alpha1 = 0.5\n",
        "\n",
        "smoothed_series = simple_exponential_smoothing(MonthlyItemQuantity, alpha1)\n",
        "print(smoothed_series)"
      ],
      "metadata": {
        "id": "1LlQMe1ZGm87",
        "colab": {
          "base_uri": "https://localhost:8080/"
        },
        "outputId": "415f1ddf-dc03-428a-ec8e-5afcd9f24d11"
      },
      "execution_count": 144,
      "outputs": [
        {
          "output_type": "stream",
          "name": "stdout",
          "text": [
            "[2187, 2203.5, 2172.75, 2223.375, 2317.1875, 2247.09375, 2209.046875, 2207.0234375, 2212.51171875, 2200.255859375, 2123.6279296875, 2262.31396484375, 2243.656982421875, 2337.8284912109375, 2259.4142456054688, 2243.7071228027344, 2277.353561401367, 2250.6767807006836, 2264.338390350342, 2262.169195175171, 2311.5845975875854, 2290.7922987937927, 2213.3961493968964, 2214.198074698448, 2219.099037349224, 2218.549518674612, 2076.274759337306, 2190.637379668653, 2251.8186898343265, 2179.9093449171633]\n"
          ]
        }
      ]
    },
    {
      "cell_type": "code",
      "source": [
        "errors = []\n",
        "for a, f in zip(MonthlyItemQuantity, smoothed_series):\n",
        "    errors.append(a - f)\n",
        "\n",
        "# Calculate the MSE\n",
        "mse = np.sum(np.square(errors)) / len(errors)\n",
        "\n",
        "# Calculate the RMSE\n",
        "rmse = np.sqrt(mse)\n",
        "\n",
        "print(\"Errors:\", errors)\n",
        "print(\"RMSE:\", rmse)\n",
        "\n",
        "MAE = (mean_absolute_error(smoothed_series,MonthlyItemQuantity))\n",
        "print(\"MAE:\", MAE)\n",
        "\n",
        "MAPE = (mean_absolute_percentage_error(smoothed_series, MonthlyItemQuantity))*100\n",
        "print(\"MAPE:\", MAPE)\n"
      ],
      "metadata": {
        "colab": {
          "base_uri": "https://localhost:8080/"
        },
        "id": "oKmgaO_hlZb5",
        "outputId": "218d2020-287b-4136-fcda-c80f4f1b5526"
      },
      "execution_count": 145,
      "outputs": [
        {
          "output_type": "stream",
          "name": "stdout",
          "text": [
            "Errors: [0, 16.5, -30.75, 50.625, 93.8125, -70.09375, -38.046875, -2.0234375, 5.48828125, -12.255859375, -76.6279296875, 138.68603515625, -18.656982421875, 94.1715087890625, -78.41424560546875, -15.707122802734375, 33.64643859863281, -26.676780700683594, 13.661609649658203, -2.1691951751708984, 49.41540241241455, -20.792298793792725, -77.39614939689636, 0.8019253015518188, 4.900962650775909, -0.5495186746120453, -142.27475933730602, 114.36262033134699, 61.181310165673494, -71.90934491716325]\n",
            "RMSE: 61.374142019339295\n",
            "MAE: 45.38659478978564\n",
            "MAPE: 2.042379422272335\n"
          ]
        }
      ]
    },
    {
      "cell_type": "markdown",
      "source": [
        "# Exponential Smoothing PREDICTION"
      ],
      "metadata": {
        "id": "CjhCr289YsY7"
      }
    },
    {
      "cell_type": "code",
      "source": [],
      "metadata": {
        "id": "lBh5xkZ0Q4m2"
      },
      "execution_count": 145,
      "outputs": []
    },
    {
      "cell_type": "code",
      "source": [
        "Monthly_Quantity.shape"
      ],
      "metadata": {
        "colab": {
          "base_uri": "https://localhost:8080/"
        },
        "id": "mqkWEWEZQ4j9",
        "outputId": "788815b5-f370-4fea-f05b-eafab9dfcb26"
      },
      "execution_count": 146,
      "outputs": [
        {
          "output_type": "execute_result",
          "data": {
            "text/plain": [
              "(33, 1)"
            ]
          },
          "metadata": {},
          "execution_count": 146
        }
      ]
    },
    {
      "cell_type": "code",
      "source": [
        "train_data = Monthly_Quantity[:int(0.8*len(Monthly_Quantity))]\n",
        "test_data = Monthly_Quantity[int(0.8*len(Monthly_Quantity)):]"
      ],
      "metadata": {
        "id": "xKrzgCcxYYIY"
      },
      "execution_count": 147,
      "outputs": []
    },
    {
      "cell_type": "code",
      "source": [
        "alpha = 0.7"
      ],
      "metadata": {
        "id": "_XHTM6yWZtXn"
      },
      "execution_count": 148,
      "outputs": []
    },
    {
      "cell_type": "code",
      "source": [
        "\n",
        "model = SimpleExpSmoothing(train_data['Order Item Quantity'])\n",
        "fit = model.fit(smoothing_level=alpha)"
      ],
      "metadata": {
        "colab": {
          "base_uri": "https://localhost:8080/"
        },
        "id": "5dydA5ulYYFg",
        "outputId": "866b493a-0ca8-4513-d995-5faa3c317b6b"
      },
      "execution_count": 149,
      "outputs": [
        {
          "output_type": "stream",
          "name": "stderr",
          "text": [
            "/usr/local/lib/python3.8/dist-packages/statsmodels/tsa/base/tsa_model.py:524: ValueWarning: No frequency information was provided, so inferred frequency MS will be used.\n",
            "  # If an index is available, see if it is a date-based index or if it\n"
          ]
        }
      ]
    },
    {
      "cell_type": "code",
      "source": [
        "ES_predictions2 = fit.predict(start=test_data.index[0], end=test_data.index[-1])"
      ],
      "metadata": {
        "id": "uTYUevEyYYCk"
      },
      "execution_count": 150,
      "outputs": []
    },
    {
      "cell_type": "code",
      "source": [
        "ES_prediction2 = ES_predictions2.iloc[1:2]\n",
        "ES_prediction2 = ES_prediction2.tolist()\n",
        "ES_prediction2"
      ],
      "metadata": {
        "colab": {
          "base_uri": "https://localhost:8080/"
        },
        "id": "dilFKPtxYX80",
        "outputId": "c193e802-0550-4b55-cee9-f9356b727789"
      },
      "execution_count": 151,
      "outputs": [
        {
          "output_type": "execute_result",
          "data": {
            "text/plain": [
              "[2181.7236326579377]"
            ]
          },
          "metadata": {},
          "execution_count": 151
        }
      ]
    },
    {
      "cell_type": "code",
      "source": [
        "print(\"\\tMean absolute error (MAE):\", mean_absolute_error(Actual_value2, ES_prediction2))"
      ],
      "metadata": {
        "colab": {
          "base_uri": "https://localhost:8080/"
        },
        "id": "181_RJtFYX51",
        "outputId": "edb630a8-54a4-494d-9ac6-95796a01305e"
      },
      "execution_count": 152,
      "outputs": [
        {
          "output_type": "stream",
          "name": "stdout",
          "text": [
            "\tMean absolute error (MAE): 42.27636734206226\n"
          ]
        }
      ]
    },
    {
      "cell_type": "code",
      "source": [
        "input_array = np.append(array, ES_prediction2)\n",
        "print(input_array)"
      ],
      "metadata": {
        "colab": {
          "base_uri": "https://localhost:8080/"
        },
        "id": "ZR1-iKV4YX19",
        "outputId": "1cb67b8f-72b6-4cb7-99f5-117f2d4e35a7"
      },
      "execution_count": 153,
      "outputs": [
        {
          "output_type": "stream",
          "name": "stdout",
          "text": [
            "[2211.80224609 2205.0196114  2215.19       2227.55952201 2181.72363266]\n"
          ]
        }
      ]
    },
    {
      "cell_type": "code",
      "source": [
        "Actual_value2"
      ],
      "metadata": {
        "id": "_jHaXW3jQ4UD",
        "colab": {
          "base_uri": "https://localhost:8080/"
        },
        "outputId": "959c93c3-2ec2-4992-b39b-2c4585a958b9"
      },
      "execution_count": 154,
      "outputs": [
        {
          "output_type": "execute_result",
          "data": {
            "text/plain": [
              "24    2224\n",
              "Name: Order Item Quantity, dtype: int64"
            ]
          },
          "metadata": {},
          "execution_count": 154
        }
      ]
    },
    {
      "cell_type": "markdown",
      "source": [
        "# FINAL OUTPUT"
      ],
      "metadata": {
        "id": "dsph_DxpllYO"
      }
    },
    {
      "cell_type": "markdown",
      "source": [
        "Implement multilayer perceptron to get the final forecast for Cleats Category"
      ],
      "metadata": {
        "id": "50Unpl8mlozA"
      }
    },
    {
      "cell_type": "code",
      "source": [
        "input = input_array"
      ],
      "metadata": {
        "id": "mmQ9wzCHN8Ht"
      },
      "execution_count": 156,
      "outputs": []
    },
    {
      "cell_type": "code",
      "source": [
        "import numpy as np\n",
        "\n",
        "class MLP:\n",
        "    def __init__(self, input_size, hidden_size_1, hidden_size_2, output_size):\n",
        "        self.input_size = input_size\n",
        "        self.hidden_size_1 = hidden_size_1\n",
        "        self.hidden_size_2 = hidden_size_2\n",
        "        self.output_size = output_size\n",
        "\n",
        "        # Initialize weights and biases\n",
        "        self.weights_input_hidden_1 = np.random.randn(self.input_size, self.hidden_size_1)\n",
        "        self.biases_input_hidden_1 = np.zeros(self.hidden_size_1)\n",
        "        self.weights_hidden_1_hidden_2 = np.random.randn(self.hidden_size_1, self.hidden_size_2)\n",
        "        self.biases_hidden_1_hidden_2 = np.zeros(self.hidden_size_2)\n",
        "        self.weights_hidden_2_output = np.random.randn(self.hidden_size_2, self.output_size)\n",
        "        self.biases_hidden_2_output = np.zeros(self.output_size)\n",
        "\n",
        "    def forward(self, input):\n",
        "        # Propagate input through the network\n",
        "        self.hidden_1 = np.dot(input, self.weights_input_hidden_1) + self.biases_input_hidden_1\n",
        "        self.hidden_2 = np.dot(self.hidden_1, self.weights_hidden_1_hidden_2) + self.biases_hidden_1_hidden_2\n",
        "        self.output = np.dot(self.hidden_2, self.weights_hidden_2_output) + self.biases_hidden_2_output\n",
        "        return self.output\n",
        "\n",
        "# Create an MLP with 5 inputs,\n",
        "\n",
        "\n",
        "# Create an MLP with 5 inputs, 2 hidden layers, and 1 output\n",
        "mlp = MLP(5, 4, 3, 1)\n",
        "\n",
        "# Propagate some input through the network and print the output\n",
        "input = input_array\n",
        "output = mlp.forward(input)\n",
        "print(output)\n",
        "\n",
        "\n",
        "\n"
      ],
      "metadata": {
        "colab": {
          "base_uri": "https://localhost:8080/"
        },
        "id": "8b1wevblN74j",
        "outputId": "029e2b11-cb32-4c69-ad6e-003279aeef20"
      },
      "execution_count": 421,
      "outputs": [
        {
          "output_type": "stream",
          "name": "stdout",
          "text": [
            "[2250.27397222]\n"
          ]
        }
      ]
    },
    {
      "cell_type": "markdown",
      "source": [
        "# Calculate Error for final Output"
      ],
      "metadata": {
        "id": "6TTQoop2OTV0"
      }
    },
    {
      "cell_type": "code",
      "source": [
        "print(\"\\tMean absolute error (MAE):\", mean_absolute_error(Actual_value2, output))"
      ],
      "metadata": {
        "colab": {
          "base_uri": "https://localhost:8080/"
        },
        "id": "RuQoHGsrONbw",
        "outputId": "40e651fc-6bfd-4ba0-98f9-ac30af56b35d"
      },
      "execution_count": 422,
      "outputs": [
        {
          "output_type": "stream",
          "name": "stdout",
          "text": [
            "\tMean absolute error (MAE): 26.27397222138643\n"
          ]
        }
      ]
    },
    {
      "cell_type": "code",
      "source": [],
      "metadata": {
        "id": "jg4hHSPwPLYU"
      },
      "execution_count": null,
      "outputs": []
    }
  ],
  "metadata": {
    "kernelspec": {
      "display_name": "Python 3",
      "language": "python",
      "name": "python3"
    },
    "language_info": {
      "codemirror_mode": {
        "name": "ipython",
        "version": 3
      },
      "file_extension": ".py",
      "mimetype": "text/x-python",
      "name": "python",
      "nbconvert_exporter": "python",
      "pygments_lexer": "ipython3",
      "version": "3.8.3"
    },
    "colab": {
      "provenance": []
    }
  },
  "nbformat": 4,
  "nbformat_minor": 0
}