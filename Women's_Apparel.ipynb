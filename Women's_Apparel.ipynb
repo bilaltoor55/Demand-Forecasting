{
  "cells": [
    {
      "cell_type": "markdown",
      "metadata": {
        "id": "MW9A8dPAci5z"
      },
      "source": [
        "### Import Libraries"
      ]
    },
    {
      "cell_type": "code",
      "execution_count": 1,
      "metadata": {
        "id": "-hvVFo7xci56"
      },
      "outputs": [],
      "source": [
        "import numpy as np\n",
        "import pandas as pd\n",
        "import seaborn as sns\n",
        "import matplotlib.pyplot as plt\n",
        "%matplotlib inline\n",
        "from time import time\n",
        "\n",
        "import warnings\n",
        "warnings.filterwarnings(\"ignore\")"
      ]
    },
    {
      "cell_type": "markdown",
      "metadata": {
        "id": "LeTuuKOuci58"
      },
      "source": [
        "### Read CSV file and make a Pandas Dataframe"
      ]
    },
    {
      "cell_type": "code",
      "execution_count": 2,
      "metadata": {
        "colab": {
          "base_uri": "https://localhost:8080/",
          "height": 73
        },
        "id": "GpsvXLXYci59",
        "outputId": "981884d7-881d-4095-ea8a-d82eb30d5f0f"
      },
      "outputs": [
        {
          "output_type": "display_data",
          "data": {
            "text/plain": [
              "<IPython.core.display.HTML object>"
            ],
            "text/html": [
              "\n",
              "     <input type=\"file\" id=\"files-f2d55952-51ec-4439-83d4-4b3c899709d4\" name=\"files[]\" multiple disabled\n",
              "        style=\"border:none\" />\n",
              "     <output id=\"result-f2d55952-51ec-4439-83d4-4b3c899709d4\">\n",
              "      Upload widget is only available when the cell has been executed in the\n",
              "      current browser session. Please rerun this cell to enable.\n",
              "      </output>\n",
              "      <script>// Copyright 2017 Google LLC\n",
              "//\n",
              "// Licensed under the Apache License, Version 2.0 (the \"License\");\n",
              "// you may not use this file except in compliance with the License.\n",
              "// You may obtain a copy of the License at\n",
              "//\n",
              "//      http://www.apache.org/licenses/LICENSE-2.0\n",
              "//\n",
              "// Unless required by applicable law or agreed to in writing, software\n",
              "// distributed under the License is distributed on an \"AS IS\" BASIS,\n",
              "// WITHOUT WARRANTIES OR CONDITIONS OF ANY KIND, either express or implied.\n",
              "// See the License for the specific language governing permissions and\n",
              "// limitations under the License.\n",
              "\n",
              "/**\n",
              " * @fileoverview Helpers for google.colab Python module.\n",
              " */\n",
              "(function(scope) {\n",
              "function span(text, styleAttributes = {}) {\n",
              "  const element = document.createElement('span');\n",
              "  element.textContent = text;\n",
              "  for (const key of Object.keys(styleAttributes)) {\n",
              "    element.style[key] = styleAttributes[key];\n",
              "  }\n",
              "  return element;\n",
              "}\n",
              "\n",
              "// Max number of bytes which will be uploaded at a time.\n",
              "const MAX_PAYLOAD_SIZE = 100 * 1024;\n",
              "\n",
              "function _uploadFiles(inputId, outputId) {\n",
              "  const steps = uploadFilesStep(inputId, outputId);\n",
              "  const outputElement = document.getElementById(outputId);\n",
              "  // Cache steps on the outputElement to make it available for the next call\n",
              "  // to uploadFilesContinue from Python.\n",
              "  outputElement.steps = steps;\n",
              "\n",
              "  return _uploadFilesContinue(outputId);\n",
              "}\n",
              "\n",
              "// This is roughly an async generator (not supported in the browser yet),\n",
              "// where there are multiple asynchronous steps and the Python side is going\n",
              "// to poll for completion of each step.\n",
              "// This uses a Promise to block the python side on completion of each step,\n",
              "// then passes the result of the previous step as the input to the next step.\n",
              "function _uploadFilesContinue(outputId) {\n",
              "  const outputElement = document.getElementById(outputId);\n",
              "  const steps = outputElement.steps;\n",
              "\n",
              "  const next = steps.next(outputElement.lastPromiseValue);\n",
              "  return Promise.resolve(next.value.promise).then((value) => {\n",
              "    // Cache the last promise value to make it available to the next\n",
              "    // step of the generator.\n",
              "    outputElement.lastPromiseValue = value;\n",
              "    return next.value.response;\n",
              "  });\n",
              "}\n",
              "\n",
              "/**\n",
              " * Generator function which is called between each async step of the upload\n",
              " * process.\n",
              " * @param {string} inputId Element ID of the input file picker element.\n",
              " * @param {string} outputId Element ID of the output display.\n",
              " * @return {!Iterable<!Object>} Iterable of next steps.\n",
              " */\n",
              "function* uploadFilesStep(inputId, outputId) {\n",
              "  const inputElement = document.getElementById(inputId);\n",
              "  inputElement.disabled = false;\n",
              "\n",
              "  const outputElement = document.getElementById(outputId);\n",
              "  outputElement.innerHTML = '';\n",
              "\n",
              "  const pickedPromise = new Promise((resolve) => {\n",
              "    inputElement.addEventListener('change', (e) => {\n",
              "      resolve(e.target.files);\n",
              "    });\n",
              "  });\n",
              "\n",
              "  const cancel = document.createElement('button');\n",
              "  inputElement.parentElement.appendChild(cancel);\n",
              "  cancel.textContent = 'Cancel upload';\n",
              "  const cancelPromise = new Promise((resolve) => {\n",
              "    cancel.onclick = () => {\n",
              "      resolve(null);\n",
              "    };\n",
              "  });\n",
              "\n",
              "  // Wait for the user to pick the files.\n",
              "  const files = yield {\n",
              "    promise: Promise.race([pickedPromise, cancelPromise]),\n",
              "    response: {\n",
              "      action: 'starting',\n",
              "    }\n",
              "  };\n",
              "\n",
              "  cancel.remove();\n",
              "\n",
              "  // Disable the input element since further picks are not allowed.\n",
              "  inputElement.disabled = true;\n",
              "\n",
              "  if (!files) {\n",
              "    return {\n",
              "      response: {\n",
              "        action: 'complete',\n",
              "      }\n",
              "    };\n",
              "  }\n",
              "\n",
              "  for (const file of files) {\n",
              "    const li = document.createElement('li');\n",
              "    li.append(span(file.name, {fontWeight: 'bold'}));\n",
              "    li.append(span(\n",
              "        `(${file.type || 'n/a'}) - ${file.size} bytes, ` +\n",
              "        `last modified: ${\n",
              "            file.lastModifiedDate ? file.lastModifiedDate.toLocaleDateString() :\n",
              "                                    'n/a'} - `));\n",
              "    const percent = span('0% done');\n",
              "    li.appendChild(percent);\n",
              "\n",
              "    outputElement.appendChild(li);\n",
              "\n",
              "    const fileDataPromise = new Promise((resolve) => {\n",
              "      const reader = new FileReader();\n",
              "      reader.onload = (e) => {\n",
              "        resolve(e.target.result);\n",
              "      };\n",
              "      reader.readAsArrayBuffer(file);\n",
              "    });\n",
              "    // Wait for the data to be ready.\n",
              "    let fileData = yield {\n",
              "      promise: fileDataPromise,\n",
              "      response: {\n",
              "        action: 'continue',\n",
              "      }\n",
              "    };\n",
              "\n",
              "    // Use a chunked sending to avoid message size limits. See b/62115660.\n",
              "    let position = 0;\n",
              "    do {\n",
              "      const length = Math.min(fileData.byteLength - position, MAX_PAYLOAD_SIZE);\n",
              "      const chunk = new Uint8Array(fileData, position, length);\n",
              "      position += length;\n",
              "\n",
              "      const base64 = btoa(String.fromCharCode.apply(null, chunk));\n",
              "      yield {\n",
              "        response: {\n",
              "          action: 'append',\n",
              "          file: file.name,\n",
              "          data: base64,\n",
              "        },\n",
              "      };\n",
              "\n",
              "      let percentDone = fileData.byteLength === 0 ?\n",
              "          100 :\n",
              "          Math.round((position / fileData.byteLength) * 100);\n",
              "      percent.textContent = `${percentDone}% done`;\n",
              "\n",
              "    } while (position < fileData.byteLength);\n",
              "  }\n",
              "\n",
              "  // All done.\n",
              "  yield {\n",
              "    response: {\n",
              "      action: 'complete',\n",
              "    }\n",
              "  };\n",
              "}\n",
              "\n",
              "scope.google = scope.google || {};\n",
              "scope.google.colab = scope.google.colab || {};\n",
              "scope.google.colab._files = {\n",
              "  _uploadFiles,\n",
              "  _uploadFilesContinue,\n",
              "};\n",
              "})(self);\n",
              "</script> "
            ]
          },
          "metadata": {}
        },
        {
          "output_type": "stream",
          "name": "stdout",
          "text": [
            "Saving Data.csv to Data.csv\n"
          ]
        }
      ],
      "source": [
        "from google.colab import files\n",
        "uploaded = files.upload()"
      ]
    },
    {
      "cell_type": "code",
      "execution_count": 5,
      "metadata": {
        "id": "x5jF9XlcnH7f"
      },
      "outputs": [],
      "source": [
        "import io\n",
        "data = pd.read_csv(io.BytesIO(uploaded['Data.csv']))\n",
        "# Dataset is now stored in a Pandas Dataframe"
      ]
    },
    {
      "cell_type": "code",
      "execution_count": 6,
      "metadata": {
        "colab": {
          "base_uri": "https://localhost:8080/",
          "height": 206
        },
        "id": "JWKfjyTDci59",
        "outputId": "de7687cf-f99d-469f-e213-20137b6713c0"
      },
      "outputs": [
        {
          "output_type": "execute_result",
          "data": {
            "text/plain": [
              "    Category Name order date (DateOrders)  Order Item Discount  \\\n",
              "0  Sporting Goods         1/31/2018 22:56            13.110000   \n",
              "1  Sporting Goods         1/13/2018 12:27            16.389999   \n",
              "2  Sporting Goods         1/13/2018 12:06            18.030001   \n",
              "3  Sporting Goods         1/13/2018 11:45            22.940001   \n",
              "4  Sporting Goods         1/13/2018 11:24            29.500000   \n",
              "\n",
              "   Order Item Quantity   Sales  \n",
              "0                    1  327.75  \n",
              "1                    1  327.75  \n",
              "2                    1  327.75  \n",
              "3                    1  327.75  \n",
              "4                    1  327.75  "
            ],
            "text/html": [
              "\n",
              "  <div id=\"df-49fcc082-0aca-4065-849c-2a1e23456714\">\n",
              "    <div class=\"colab-df-container\">\n",
              "      <div>\n",
              "<style scoped>\n",
              "    .dataframe tbody tr th:only-of-type {\n",
              "        vertical-align: middle;\n",
              "    }\n",
              "\n",
              "    .dataframe tbody tr th {\n",
              "        vertical-align: top;\n",
              "    }\n",
              "\n",
              "    .dataframe thead th {\n",
              "        text-align: right;\n",
              "    }\n",
              "</style>\n",
              "<table border=\"1\" class=\"dataframe\">\n",
              "  <thead>\n",
              "    <tr style=\"text-align: right;\">\n",
              "      <th></th>\n",
              "      <th>Category Name</th>\n",
              "      <th>order date (DateOrders)</th>\n",
              "      <th>Order Item Discount</th>\n",
              "      <th>Order Item Quantity</th>\n",
              "      <th>Sales</th>\n",
              "    </tr>\n",
              "  </thead>\n",
              "  <tbody>\n",
              "    <tr>\n",
              "      <th>0</th>\n",
              "      <td>Sporting Goods</td>\n",
              "      <td>1/31/2018 22:56</td>\n",
              "      <td>13.110000</td>\n",
              "      <td>1</td>\n",
              "      <td>327.75</td>\n",
              "    </tr>\n",
              "    <tr>\n",
              "      <th>1</th>\n",
              "      <td>Sporting Goods</td>\n",
              "      <td>1/13/2018 12:27</td>\n",
              "      <td>16.389999</td>\n",
              "      <td>1</td>\n",
              "      <td>327.75</td>\n",
              "    </tr>\n",
              "    <tr>\n",
              "      <th>2</th>\n",
              "      <td>Sporting Goods</td>\n",
              "      <td>1/13/2018 12:06</td>\n",
              "      <td>18.030001</td>\n",
              "      <td>1</td>\n",
              "      <td>327.75</td>\n",
              "    </tr>\n",
              "    <tr>\n",
              "      <th>3</th>\n",
              "      <td>Sporting Goods</td>\n",
              "      <td>1/13/2018 11:45</td>\n",
              "      <td>22.940001</td>\n",
              "      <td>1</td>\n",
              "      <td>327.75</td>\n",
              "    </tr>\n",
              "    <tr>\n",
              "      <th>4</th>\n",
              "      <td>Sporting Goods</td>\n",
              "      <td>1/13/2018 11:24</td>\n",
              "      <td>29.500000</td>\n",
              "      <td>1</td>\n",
              "      <td>327.75</td>\n",
              "    </tr>\n",
              "  </tbody>\n",
              "</table>\n",
              "</div>\n",
              "      <button class=\"colab-df-convert\" onclick=\"convertToInteractive('df-49fcc082-0aca-4065-849c-2a1e23456714')\"\n",
              "              title=\"Convert this dataframe to an interactive table.\"\n",
              "              style=\"display:none;\">\n",
              "        \n",
              "  <svg xmlns=\"http://www.w3.org/2000/svg\" height=\"24px\"viewBox=\"0 0 24 24\"\n",
              "       width=\"24px\">\n",
              "    <path d=\"M0 0h24v24H0V0z\" fill=\"none\"/>\n",
              "    <path d=\"M18.56 5.44l.94 2.06.94-2.06 2.06-.94-2.06-.94-.94-2.06-.94 2.06-2.06.94zm-11 1L8.5 8.5l.94-2.06 2.06-.94-2.06-.94L8.5 2.5l-.94 2.06-2.06.94zm10 10l.94 2.06.94-2.06 2.06-.94-2.06-.94-.94-2.06-.94 2.06-2.06.94z\"/><path d=\"M17.41 7.96l-1.37-1.37c-.4-.4-.92-.59-1.43-.59-.52 0-1.04.2-1.43.59L10.3 9.45l-7.72 7.72c-.78.78-.78 2.05 0 2.83L4 21.41c.39.39.9.59 1.41.59.51 0 1.02-.2 1.41-.59l7.78-7.78 2.81-2.81c.8-.78.8-2.07 0-2.86zM5.41 20L4 18.59l7.72-7.72 1.47 1.35L5.41 20z\"/>\n",
              "  </svg>\n",
              "      </button>\n",
              "      \n",
              "  <style>\n",
              "    .colab-df-container {\n",
              "      display:flex;\n",
              "      flex-wrap:wrap;\n",
              "      gap: 12px;\n",
              "    }\n",
              "\n",
              "    .colab-df-convert {\n",
              "      background-color: #E8F0FE;\n",
              "      border: none;\n",
              "      border-radius: 50%;\n",
              "      cursor: pointer;\n",
              "      display: none;\n",
              "      fill: #1967D2;\n",
              "      height: 32px;\n",
              "      padding: 0 0 0 0;\n",
              "      width: 32px;\n",
              "    }\n",
              "\n",
              "    .colab-df-convert:hover {\n",
              "      background-color: #E2EBFA;\n",
              "      box-shadow: 0px 1px 2px rgba(60, 64, 67, 0.3), 0px 1px 3px 1px rgba(60, 64, 67, 0.15);\n",
              "      fill: #174EA6;\n",
              "    }\n",
              "\n",
              "    [theme=dark] .colab-df-convert {\n",
              "      background-color: #3B4455;\n",
              "      fill: #D2E3FC;\n",
              "    }\n",
              "\n",
              "    [theme=dark] .colab-df-convert:hover {\n",
              "      background-color: #434B5C;\n",
              "      box-shadow: 0px 1px 3px 1px rgba(0, 0, 0, 0.15);\n",
              "      filter: drop-shadow(0px 1px 2px rgba(0, 0, 0, 0.3));\n",
              "      fill: #FFFFFF;\n",
              "    }\n",
              "  </style>\n",
              "\n",
              "      <script>\n",
              "        const buttonEl =\n",
              "          document.querySelector('#df-49fcc082-0aca-4065-849c-2a1e23456714 button.colab-df-convert');\n",
              "        buttonEl.style.display =\n",
              "          google.colab.kernel.accessAllowed ? 'block' : 'none';\n",
              "\n",
              "        async function convertToInteractive(key) {\n",
              "          const element = document.querySelector('#df-49fcc082-0aca-4065-849c-2a1e23456714');\n",
              "          const dataTable =\n",
              "            await google.colab.kernel.invokeFunction('convertToInteractive',\n",
              "                                                     [key], {});\n",
              "          if (!dataTable) return;\n",
              "\n",
              "          const docLinkHtml = 'Like what you see? Visit the ' +\n",
              "            '<a target=\"_blank\" href=https://colab.research.google.com/notebooks/data_table.ipynb>data table notebook</a>'\n",
              "            + ' to learn more about interactive tables.';\n",
              "          element.innerHTML = '';\n",
              "          dataTable['output_type'] = 'display_data';\n",
              "          await google.colab.output.renderOutput(dataTable, element);\n",
              "          const docLink = document.createElement('div');\n",
              "          docLink.innerHTML = docLinkHtml;\n",
              "          element.appendChild(docLink);\n",
              "        }\n",
              "      </script>\n",
              "    </div>\n",
              "  </div>\n",
              "  "
            ]
          },
          "metadata": {},
          "execution_count": 6
        }
      ],
      "source": [
        "data.head()"
      ]
    },
    {
      "cell_type": "markdown",
      "metadata": {
        "id": "cF9k5onRci5-"
      },
      "source": [
        "### Feature Extraction for working upon on Dataframe"
      ]
    },
    {
      "cell_type": "code",
      "execution_count": 7,
      "metadata": {
        "id": "tJVx63aVci5_"
      },
      "outputs": [],
      "source": [
        "filter = data['Category Name'].isin([\"Women's Apparel\"])\n",
        "#display the filter\n",
        "filter2 = data[filter]"
      ]
    },
    {
      "cell_type": "code",
      "execution_count": 8,
      "metadata": {
        "colab": {
          "base_uri": "https://localhost:8080/"
        },
        "id": "M3l6v9Coci5_",
        "outputId": "f680d24e-1c92-450b-d846-e7a02a6e9f33"
      },
      "outputs": [
        {
          "output_type": "execute_result",
          "data": {
            "text/plain": [
              "(21035, 5)"
            ]
          },
          "metadata": {},
          "execution_count": 8
        }
      ],
      "source": [
        "filter2.shape"
      ]
    },
    {
      "cell_type": "code",
      "execution_count": 9,
      "metadata": {
        "id": "zfLRNdjIci6A"
      },
      "outputs": [],
      "source": [
        "filter2 = data.loc[filter, ['order date (DateOrders)','Sales','Order Item Quantity','Order Item Discount']]"
      ]
    },
    {
      "cell_type": "code",
      "execution_count": 10,
      "metadata": {
        "colab": {
          "base_uri": "https://localhost:8080/",
          "height": 206
        },
        "id": "fpmD96eoci6B",
        "outputId": "729e2810-066f-46c0-87ac-7e554b3e2083"
      },
      "outputs": [
        {
          "output_type": "execute_result",
          "data": {
            "text/plain": [
              "   order date (DateOrders)  Sales  Order Item Quantity  Order Item Discount\n",
              "50          3/30/2016 4:37  100.0                    2                  4.0\n",
              "52         11/28/2016 1:18  100.0                    2                  9.0\n",
              "53        12/31/2016 15:47  100.0                    2                 13.0\n",
              "54         10/25/2015 6:24  100.0                    2                 18.0\n",
              "70          7/22/2017 7:16  150.0                    3                 10.5"
            ],
            "text/html": [
              "\n",
              "  <div id=\"df-6bd7f94d-33d6-4ad9-83b9-f1c344fdad7e\">\n",
              "    <div class=\"colab-df-container\">\n",
              "      <div>\n",
              "<style scoped>\n",
              "    .dataframe tbody tr th:only-of-type {\n",
              "        vertical-align: middle;\n",
              "    }\n",
              "\n",
              "    .dataframe tbody tr th {\n",
              "        vertical-align: top;\n",
              "    }\n",
              "\n",
              "    .dataframe thead th {\n",
              "        text-align: right;\n",
              "    }\n",
              "</style>\n",
              "<table border=\"1\" class=\"dataframe\">\n",
              "  <thead>\n",
              "    <tr style=\"text-align: right;\">\n",
              "      <th></th>\n",
              "      <th>order date (DateOrders)</th>\n",
              "      <th>Sales</th>\n",
              "      <th>Order Item Quantity</th>\n",
              "      <th>Order Item Discount</th>\n",
              "    </tr>\n",
              "  </thead>\n",
              "  <tbody>\n",
              "    <tr>\n",
              "      <th>50</th>\n",
              "      <td>3/30/2016 4:37</td>\n",
              "      <td>100.0</td>\n",
              "      <td>2</td>\n",
              "      <td>4.0</td>\n",
              "    </tr>\n",
              "    <tr>\n",
              "      <th>52</th>\n",
              "      <td>11/28/2016 1:18</td>\n",
              "      <td>100.0</td>\n",
              "      <td>2</td>\n",
              "      <td>9.0</td>\n",
              "    </tr>\n",
              "    <tr>\n",
              "      <th>53</th>\n",
              "      <td>12/31/2016 15:47</td>\n",
              "      <td>100.0</td>\n",
              "      <td>2</td>\n",
              "      <td>13.0</td>\n",
              "    </tr>\n",
              "    <tr>\n",
              "      <th>54</th>\n",
              "      <td>10/25/2015 6:24</td>\n",
              "      <td>100.0</td>\n",
              "      <td>2</td>\n",
              "      <td>18.0</td>\n",
              "    </tr>\n",
              "    <tr>\n",
              "      <th>70</th>\n",
              "      <td>7/22/2017 7:16</td>\n",
              "      <td>150.0</td>\n",
              "      <td>3</td>\n",
              "      <td>10.5</td>\n",
              "    </tr>\n",
              "  </tbody>\n",
              "</table>\n",
              "</div>\n",
              "      <button class=\"colab-df-convert\" onclick=\"convertToInteractive('df-6bd7f94d-33d6-4ad9-83b9-f1c344fdad7e')\"\n",
              "              title=\"Convert this dataframe to an interactive table.\"\n",
              "              style=\"display:none;\">\n",
              "        \n",
              "  <svg xmlns=\"http://www.w3.org/2000/svg\" height=\"24px\"viewBox=\"0 0 24 24\"\n",
              "       width=\"24px\">\n",
              "    <path d=\"M0 0h24v24H0V0z\" fill=\"none\"/>\n",
              "    <path d=\"M18.56 5.44l.94 2.06.94-2.06 2.06-.94-2.06-.94-.94-2.06-.94 2.06-2.06.94zm-11 1L8.5 8.5l.94-2.06 2.06-.94-2.06-.94L8.5 2.5l-.94 2.06-2.06.94zm10 10l.94 2.06.94-2.06 2.06-.94-2.06-.94-.94-2.06-.94 2.06-2.06.94z\"/><path d=\"M17.41 7.96l-1.37-1.37c-.4-.4-.92-.59-1.43-.59-.52 0-1.04.2-1.43.59L10.3 9.45l-7.72 7.72c-.78.78-.78 2.05 0 2.83L4 21.41c.39.39.9.59 1.41.59.51 0 1.02-.2 1.41-.59l7.78-7.78 2.81-2.81c.8-.78.8-2.07 0-2.86zM5.41 20L4 18.59l7.72-7.72 1.47 1.35L5.41 20z\"/>\n",
              "  </svg>\n",
              "      </button>\n",
              "      \n",
              "  <style>\n",
              "    .colab-df-container {\n",
              "      display:flex;\n",
              "      flex-wrap:wrap;\n",
              "      gap: 12px;\n",
              "    }\n",
              "\n",
              "    .colab-df-convert {\n",
              "      background-color: #E8F0FE;\n",
              "      border: none;\n",
              "      border-radius: 50%;\n",
              "      cursor: pointer;\n",
              "      display: none;\n",
              "      fill: #1967D2;\n",
              "      height: 32px;\n",
              "      padding: 0 0 0 0;\n",
              "      width: 32px;\n",
              "    }\n",
              "\n",
              "    .colab-df-convert:hover {\n",
              "      background-color: #E2EBFA;\n",
              "      box-shadow: 0px 1px 2px rgba(60, 64, 67, 0.3), 0px 1px 3px 1px rgba(60, 64, 67, 0.15);\n",
              "      fill: #174EA6;\n",
              "    }\n",
              "\n",
              "    [theme=dark] .colab-df-convert {\n",
              "      background-color: #3B4455;\n",
              "      fill: #D2E3FC;\n",
              "    }\n",
              "\n",
              "    [theme=dark] .colab-df-convert:hover {\n",
              "      background-color: #434B5C;\n",
              "      box-shadow: 0px 1px 3px 1px rgba(0, 0, 0, 0.15);\n",
              "      filter: drop-shadow(0px 1px 2px rgba(0, 0, 0, 0.3));\n",
              "      fill: #FFFFFF;\n",
              "    }\n",
              "  </style>\n",
              "\n",
              "      <script>\n",
              "        const buttonEl =\n",
              "          document.querySelector('#df-6bd7f94d-33d6-4ad9-83b9-f1c344fdad7e button.colab-df-convert');\n",
              "        buttonEl.style.display =\n",
              "          google.colab.kernel.accessAllowed ? 'block' : 'none';\n",
              "\n",
              "        async function convertToInteractive(key) {\n",
              "          const element = document.querySelector('#df-6bd7f94d-33d6-4ad9-83b9-f1c344fdad7e');\n",
              "          const dataTable =\n",
              "            await google.colab.kernel.invokeFunction('convertToInteractive',\n",
              "                                                     [key], {});\n",
              "          if (!dataTable) return;\n",
              "\n",
              "          const docLinkHtml = 'Like what you see? Visit the ' +\n",
              "            '<a target=\"_blank\" href=https://colab.research.google.com/notebooks/data_table.ipynb>data table notebook</a>'\n",
              "            + ' to learn more about interactive tables.';\n",
              "          element.innerHTML = '';\n",
              "          dataTable['output_type'] = 'display_data';\n",
              "          await google.colab.output.renderOutput(dataTable, element);\n",
              "          const docLink = document.createElement('div');\n",
              "          docLink.innerHTML = docLinkHtml;\n",
              "          element.appendChild(docLink);\n",
              "        }\n",
              "      </script>\n",
              "    </div>\n",
              "  </div>\n",
              "  "
            ]
          },
          "metadata": {},
          "execution_count": 10
        }
      ],
      "source": [
        "filter2.head()"
      ]
    },
    {
      "cell_type": "markdown",
      "metadata": {
        "id": "2GtsWLUuci6B"
      },
      "source": [
        "### Applying to Pandas DateTime format for easy access"
      ]
    },
    {
      "cell_type": "code",
      "execution_count": 11,
      "metadata": {
        "colab": {
          "base_uri": "https://localhost:8080/",
          "height": 206
        },
        "id": "gaNlJr3ici6C",
        "outputId": "c145bc5a-f101-4f4b-ebcb-7a52157b7078"
      },
      "outputs": [
        {
          "output_type": "execute_result",
          "data": {
            "text/plain": [
              "   order date (DateOrders)  Sales  Order Item Quantity  Order Item Discount\n",
              "50     2016-03-30 04:37:00  100.0                    2                  4.0\n",
              "52     2016-11-28 01:18:00  100.0                    2                  9.0\n",
              "53     2016-12-31 15:47:00  100.0                    2                 13.0\n",
              "54     2015-10-25 06:24:00  100.0                    2                 18.0\n",
              "70     2017-07-22 07:16:00  150.0                    3                 10.5"
            ],
            "text/html": [
              "\n",
              "  <div id=\"df-de47cafa-d319-46a7-a5e4-629522a197a6\">\n",
              "    <div class=\"colab-df-container\">\n",
              "      <div>\n",
              "<style scoped>\n",
              "    .dataframe tbody tr th:only-of-type {\n",
              "        vertical-align: middle;\n",
              "    }\n",
              "\n",
              "    .dataframe tbody tr th {\n",
              "        vertical-align: top;\n",
              "    }\n",
              "\n",
              "    .dataframe thead th {\n",
              "        text-align: right;\n",
              "    }\n",
              "</style>\n",
              "<table border=\"1\" class=\"dataframe\">\n",
              "  <thead>\n",
              "    <tr style=\"text-align: right;\">\n",
              "      <th></th>\n",
              "      <th>order date (DateOrders)</th>\n",
              "      <th>Sales</th>\n",
              "      <th>Order Item Quantity</th>\n",
              "      <th>Order Item Discount</th>\n",
              "    </tr>\n",
              "  </thead>\n",
              "  <tbody>\n",
              "    <tr>\n",
              "      <th>50</th>\n",
              "      <td>2016-03-30 04:37:00</td>\n",
              "      <td>100.0</td>\n",
              "      <td>2</td>\n",
              "      <td>4.0</td>\n",
              "    </tr>\n",
              "    <tr>\n",
              "      <th>52</th>\n",
              "      <td>2016-11-28 01:18:00</td>\n",
              "      <td>100.0</td>\n",
              "      <td>2</td>\n",
              "      <td>9.0</td>\n",
              "    </tr>\n",
              "    <tr>\n",
              "      <th>53</th>\n",
              "      <td>2016-12-31 15:47:00</td>\n",
              "      <td>100.0</td>\n",
              "      <td>2</td>\n",
              "      <td>13.0</td>\n",
              "    </tr>\n",
              "    <tr>\n",
              "      <th>54</th>\n",
              "      <td>2015-10-25 06:24:00</td>\n",
              "      <td>100.0</td>\n",
              "      <td>2</td>\n",
              "      <td>18.0</td>\n",
              "    </tr>\n",
              "    <tr>\n",
              "      <th>70</th>\n",
              "      <td>2017-07-22 07:16:00</td>\n",
              "      <td>150.0</td>\n",
              "      <td>3</td>\n",
              "      <td>10.5</td>\n",
              "    </tr>\n",
              "  </tbody>\n",
              "</table>\n",
              "</div>\n",
              "      <button class=\"colab-df-convert\" onclick=\"convertToInteractive('df-de47cafa-d319-46a7-a5e4-629522a197a6')\"\n",
              "              title=\"Convert this dataframe to an interactive table.\"\n",
              "              style=\"display:none;\">\n",
              "        \n",
              "  <svg xmlns=\"http://www.w3.org/2000/svg\" height=\"24px\"viewBox=\"0 0 24 24\"\n",
              "       width=\"24px\">\n",
              "    <path d=\"M0 0h24v24H0V0z\" fill=\"none\"/>\n",
              "    <path d=\"M18.56 5.44l.94 2.06.94-2.06 2.06-.94-2.06-.94-.94-2.06-.94 2.06-2.06.94zm-11 1L8.5 8.5l.94-2.06 2.06-.94-2.06-.94L8.5 2.5l-.94 2.06-2.06.94zm10 10l.94 2.06.94-2.06 2.06-.94-2.06-.94-.94-2.06-.94 2.06-2.06.94z\"/><path d=\"M17.41 7.96l-1.37-1.37c-.4-.4-.92-.59-1.43-.59-.52 0-1.04.2-1.43.59L10.3 9.45l-7.72 7.72c-.78.78-.78 2.05 0 2.83L4 21.41c.39.39.9.59 1.41.59.51 0 1.02-.2 1.41-.59l7.78-7.78 2.81-2.81c.8-.78.8-2.07 0-2.86zM5.41 20L4 18.59l7.72-7.72 1.47 1.35L5.41 20z\"/>\n",
              "  </svg>\n",
              "      </button>\n",
              "      \n",
              "  <style>\n",
              "    .colab-df-container {\n",
              "      display:flex;\n",
              "      flex-wrap:wrap;\n",
              "      gap: 12px;\n",
              "    }\n",
              "\n",
              "    .colab-df-convert {\n",
              "      background-color: #E8F0FE;\n",
              "      border: none;\n",
              "      border-radius: 50%;\n",
              "      cursor: pointer;\n",
              "      display: none;\n",
              "      fill: #1967D2;\n",
              "      height: 32px;\n",
              "      padding: 0 0 0 0;\n",
              "      width: 32px;\n",
              "    }\n",
              "\n",
              "    .colab-df-convert:hover {\n",
              "      background-color: #E2EBFA;\n",
              "      box-shadow: 0px 1px 2px rgba(60, 64, 67, 0.3), 0px 1px 3px 1px rgba(60, 64, 67, 0.15);\n",
              "      fill: #174EA6;\n",
              "    }\n",
              "\n",
              "    [theme=dark] .colab-df-convert {\n",
              "      background-color: #3B4455;\n",
              "      fill: #D2E3FC;\n",
              "    }\n",
              "\n",
              "    [theme=dark] .colab-df-convert:hover {\n",
              "      background-color: #434B5C;\n",
              "      box-shadow: 0px 1px 3px 1px rgba(0, 0, 0, 0.15);\n",
              "      filter: drop-shadow(0px 1px 2px rgba(0, 0, 0, 0.3));\n",
              "      fill: #FFFFFF;\n",
              "    }\n",
              "  </style>\n",
              "\n",
              "      <script>\n",
              "        const buttonEl =\n",
              "          document.querySelector('#df-de47cafa-d319-46a7-a5e4-629522a197a6 button.colab-df-convert');\n",
              "        buttonEl.style.display =\n",
              "          google.colab.kernel.accessAllowed ? 'block' : 'none';\n",
              "\n",
              "        async function convertToInteractive(key) {\n",
              "          const element = document.querySelector('#df-de47cafa-d319-46a7-a5e4-629522a197a6');\n",
              "          const dataTable =\n",
              "            await google.colab.kernel.invokeFunction('convertToInteractive',\n",
              "                                                     [key], {});\n",
              "          if (!dataTable) return;\n",
              "\n",
              "          const docLinkHtml = 'Like what you see? Visit the ' +\n",
              "            '<a target=\"_blank\" href=https://colab.research.google.com/notebooks/data_table.ipynb>data table notebook</a>'\n",
              "            + ' to learn more about interactive tables.';\n",
              "          element.innerHTML = '';\n",
              "          dataTable['output_type'] = 'display_data';\n",
              "          await google.colab.output.renderOutput(dataTable, element);\n",
              "          const docLink = document.createElement('div');\n",
              "          docLink.innerHTML = docLinkHtml;\n",
              "          element.appendChild(docLink);\n",
              "        }\n",
              "      </script>\n",
              "    </div>\n",
              "  </div>\n",
              "  "
            ]
          },
          "metadata": {},
          "execution_count": 11
        }
      ],
      "source": [
        "filter2['order date (DateOrders)'] =  filter2['order date (DateOrders)'].apply(pd.to_datetime)\n",
        "filter2.head()"
      ]
    },
    {
      "cell_type": "markdown",
      "metadata": {
        "id": "jt2-r1Hici6C"
      },
      "source": [
        "### Sorting the records by date and their time"
      ]
    },
    {
      "cell_type": "code",
      "execution_count": 12,
      "metadata": {
        "colab": {
          "base_uri": "https://localhost:8080/",
          "height": 363
        },
        "id": "LCIeLndOci6C",
        "outputId": "5dc4947c-19ed-409e-d653-c53fc5477695",
        "scrolled": true
      },
      "outputs": [
        {
          "output_type": "execute_result",
          "data": {
            "text/plain": [
              "       order date (DateOrders)  Sales  Order Item Quantity  \\\n",
              "109322     2015-01-01 00:21:00  250.0                    5   \n",
              "95938      2015-01-01 01:03:00  150.0                    3   \n",
              "123982     2015-01-01 02:27:00   50.0                    1   \n",
              "141067     2015-01-01 03:51:00  250.0                    5   \n",
              "159984     2015-01-01 04:33:00   50.0                    1   \n",
              "84132      2015-01-01 04:54:00   50.0                    1   \n",
              "15586      2015-01-01 06:39:00  250.0                    5   \n",
              "116380     2015-01-01 07:00:00  100.0                    2   \n",
              "16341      2015-01-01 08:03:00   50.0                    1   \n",
              "16910      2015-01-01 08:03:00  250.0                    5   \n",
              "\n",
              "        Order Item Discount  \n",
              "109322                22.50  \n",
              "95938                 27.00  \n",
              "123982                 0.50  \n",
              "141067                17.50  \n",
              "159984                 0.00  \n",
              "84132                 12.50  \n",
              "15586                 13.75  \n",
              "116380                12.00  \n",
              "16341                 10.00  \n",
              "16910                 12.50  "
            ],
            "text/html": [
              "\n",
              "  <div id=\"df-d0a42930-ffe0-484c-acb4-fd315cc5d35d\">\n",
              "    <div class=\"colab-df-container\">\n",
              "      <div>\n",
              "<style scoped>\n",
              "    .dataframe tbody tr th:only-of-type {\n",
              "        vertical-align: middle;\n",
              "    }\n",
              "\n",
              "    .dataframe tbody tr th {\n",
              "        vertical-align: top;\n",
              "    }\n",
              "\n",
              "    .dataframe thead th {\n",
              "        text-align: right;\n",
              "    }\n",
              "</style>\n",
              "<table border=\"1\" class=\"dataframe\">\n",
              "  <thead>\n",
              "    <tr style=\"text-align: right;\">\n",
              "      <th></th>\n",
              "      <th>order date (DateOrders)</th>\n",
              "      <th>Sales</th>\n",
              "      <th>Order Item Quantity</th>\n",
              "      <th>Order Item Discount</th>\n",
              "    </tr>\n",
              "  </thead>\n",
              "  <tbody>\n",
              "    <tr>\n",
              "      <th>109322</th>\n",
              "      <td>2015-01-01 00:21:00</td>\n",
              "      <td>250.0</td>\n",
              "      <td>5</td>\n",
              "      <td>22.50</td>\n",
              "    </tr>\n",
              "    <tr>\n",
              "      <th>95938</th>\n",
              "      <td>2015-01-01 01:03:00</td>\n",
              "      <td>150.0</td>\n",
              "      <td>3</td>\n",
              "      <td>27.00</td>\n",
              "    </tr>\n",
              "    <tr>\n",
              "      <th>123982</th>\n",
              "      <td>2015-01-01 02:27:00</td>\n",
              "      <td>50.0</td>\n",
              "      <td>1</td>\n",
              "      <td>0.50</td>\n",
              "    </tr>\n",
              "    <tr>\n",
              "      <th>141067</th>\n",
              "      <td>2015-01-01 03:51:00</td>\n",
              "      <td>250.0</td>\n",
              "      <td>5</td>\n",
              "      <td>17.50</td>\n",
              "    </tr>\n",
              "    <tr>\n",
              "      <th>159984</th>\n",
              "      <td>2015-01-01 04:33:00</td>\n",
              "      <td>50.0</td>\n",
              "      <td>1</td>\n",
              "      <td>0.00</td>\n",
              "    </tr>\n",
              "    <tr>\n",
              "      <th>84132</th>\n",
              "      <td>2015-01-01 04:54:00</td>\n",
              "      <td>50.0</td>\n",
              "      <td>1</td>\n",
              "      <td>12.50</td>\n",
              "    </tr>\n",
              "    <tr>\n",
              "      <th>15586</th>\n",
              "      <td>2015-01-01 06:39:00</td>\n",
              "      <td>250.0</td>\n",
              "      <td>5</td>\n",
              "      <td>13.75</td>\n",
              "    </tr>\n",
              "    <tr>\n",
              "      <th>116380</th>\n",
              "      <td>2015-01-01 07:00:00</td>\n",
              "      <td>100.0</td>\n",
              "      <td>2</td>\n",
              "      <td>12.00</td>\n",
              "    </tr>\n",
              "    <tr>\n",
              "      <th>16341</th>\n",
              "      <td>2015-01-01 08:03:00</td>\n",
              "      <td>50.0</td>\n",
              "      <td>1</td>\n",
              "      <td>10.00</td>\n",
              "    </tr>\n",
              "    <tr>\n",
              "      <th>16910</th>\n",
              "      <td>2015-01-01 08:03:00</td>\n",
              "      <td>250.0</td>\n",
              "      <td>5</td>\n",
              "      <td>12.50</td>\n",
              "    </tr>\n",
              "  </tbody>\n",
              "</table>\n",
              "</div>\n",
              "      <button class=\"colab-df-convert\" onclick=\"convertToInteractive('df-d0a42930-ffe0-484c-acb4-fd315cc5d35d')\"\n",
              "              title=\"Convert this dataframe to an interactive table.\"\n",
              "              style=\"display:none;\">\n",
              "        \n",
              "  <svg xmlns=\"http://www.w3.org/2000/svg\" height=\"24px\"viewBox=\"0 0 24 24\"\n",
              "       width=\"24px\">\n",
              "    <path d=\"M0 0h24v24H0V0z\" fill=\"none\"/>\n",
              "    <path d=\"M18.56 5.44l.94 2.06.94-2.06 2.06-.94-2.06-.94-.94-2.06-.94 2.06-2.06.94zm-11 1L8.5 8.5l.94-2.06 2.06-.94-2.06-.94L8.5 2.5l-.94 2.06-2.06.94zm10 10l.94 2.06.94-2.06 2.06-.94-2.06-.94-.94-2.06-.94 2.06-2.06.94z\"/><path d=\"M17.41 7.96l-1.37-1.37c-.4-.4-.92-.59-1.43-.59-.52 0-1.04.2-1.43.59L10.3 9.45l-7.72 7.72c-.78.78-.78 2.05 0 2.83L4 21.41c.39.39.9.59 1.41.59.51 0 1.02-.2 1.41-.59l7.78-7.78 2.81-2.81c.8-.78.8-2.07 0-2.86zM5.41 20L4 18.59l7.72-7.72 1.47 1.35L5.41 20z\"/>\n",
              "  </svg>\n",
              "      </button>\n",
              "      \n",
              "  <style>\n",
              "    .colab-df-container {\n",
              "      display:flex;\n",
              "      flex-wrap:wrap;\n",
              "      gap: 12px;\n",
              "    }\n",
              "\n",
              "    .colab-df-convert {\n",
              "      background-color: #E8F0FE;\n",
              "      border: none;\n",
              "      border-radius: 50%;\n",
              "      cursor: pointer;\n",
              "      display: none;\n",
              "      fill: #1967D2;\n",
              "      height: 32px;\n",
              "      padding: 0 0 0 0;\n",
              "      width: 32px;\n",
              "    }\n",
              "\n",
              "    .colab-df-convert:hover {\n",
              "      background-color: #E2EBFA;\n",
              "      box-shadow: 0px 1px 2px rgba(60, 64, 67, 0.3), 0px 1px 3px 1px rgba(60, 64, 67, 0.15);\n",
              "      fill: #174EA6;\n",
              "    }\n",
              "\n",
              "    [theme=dark] .colab-df-convert {\n",
              "      background-color: #3B4455;\n",
              "      fill: #D2E3FC;\n",
              "    }\n",
              "\n",
              "    [theme=dark] .colab-df-convert:hover {\n",
              "      background-color: #434B5C;\n",
              "      box-shadow: 0px 1px 3px 1px rgba(0, 0, 0, 0.15);\n",
              "      filter: drop-shadow(0px 1px 2px rgba(0, 0, 0, 0.3));\n",
              "      fill: #FFFFFF;\n",
              "    }\n",
              "  </style>\n",
              "\n",
              "      <script>\n",
              "        const buttonEl =\n",
              "          document.querySelector('#df-d0a42930-ffe0-484c-acb4-fd315cc5d35d button.colab-df-convert');\n",
              "        buttonEl.style.display =\n",
              "          google.colab.kernel.accessAllowed ? 'block' : 'none';\n",
              "\n",
              "        async function convertToInteractive(key) {\n",
              "          const element = document.querySelector('#df-d0a42930-ffe0-484c-acb4-fd315cc5d35d');\n",
              "          const dataTable =\n",
              "            await google.colab.kernel.invokeFunction('convertToInteractive',\n",
              "                                                     [key], {});\n",
              "          if (!dataTable) return;\n",
              "\n",
              "          const docLinkHtml = 'Like what you see? Visit the ' +\n",
              "            '<a target=\"_blank\" href=https://colab.research.google.com/notebooks/data_table.ipynb>data table notebook</a>'\n",
              "            + ' to learn more about interactive tables.';\n",
              "          element.innerHTML = '';\n",
              "          dataTable['output_type'] = 'display_data';\n",
              "          await google.colab.output.renderOutput(dataTable, element);\n",
              "          const docLink = document.createElement('div');\n",
              "          docLink.innerHTML = docLinkHtml;\n",
              "          element.appendChild(docLink);\n",
              "        }\n",
              "      </script>\n",
              "    </div>\n",
              "  </div>\n",
              "  "
            ]
          },
          "metadata": {},
          "execution_count": 12
        }
      ],
      "source": [
        "filter2 = filter2.sort_values(by='order date (DateOrders)')\n",
        "filter2.head(10)"
      ]
    },
    {
      "cell_type": "markdown",
      "metadata": {
        "id": "jOGP8mZPci6D"
      },
      "source": [
        "### Making column of Order date to Index"
      ]
    },
    {
      "cell_type": "code",
      "execution_count": 13,
      "metadata": {
        "colab": {
          "base_uri": "https://localhost:8080/",
          "height": 237
        },
        "id": "0l5c2JHkci6D",
        "outputId": "209580f6-c2fc-4a89-8681-842479bf32ff"
      },
      "outputs": [
        {
          "output_type": "execute_result",
          "data": {
            "text/plain": [
              "                         Sales  Order Item Quantity  Order Item Discount\n",
              "order date (DateOrders)                                                 \n",
              "2015-01-01 00:21:00      250.0                    5                 22.5\n",
              "2015-01-01 01:03:00      150.0                    3                 27.0\n",
              "2015-01-01 02:27:00       50.0                    1                  0.5\n",
              "2015-01-01 03:51:00      250.0                    5                 17.5\n",
              "2015-01-01 04:33:00       50.0                    1                  0.0"
            ],
            "text/html": [
              "\n",
              "  <div id=\"df-bc6980ca-178b-45e7-8aeb-b004fc3f018d\">\n",
              "    <div class=\"colab-df-container\">\n",
              "      <div>\n",
              "<style scoped>\n",
              "    .dataframe tbody tr th:only-of-type {\n",
              "        vertical-align: middle;\n",
              "    }\n",
              "\n",
              "    .dataframe tbody tr th {\n",
              "        vertical-align: top;\n",
              "    }\n",
              "\n",
              "    .dataframe thead th {\n",
              "        text-align: right;\n",
              "    }\n",
              "</style>\n",
              "<table border=\"1\" class=\"dataframe\">\n",
              "  <thead>\n",
              "    <tr style=\"text-align: right;\">\n",
              "      <th></th>\n",
              "      <th>Sales</th>\n",
              "      <th>Order Item Quantity</th>\n",
              "      <th>Order Item Discount</th>\n",
              "    </tr>\n",
              "    <tr>\n",
              "      <th>order date (DateOrders)</th>\n",
              "      <th></th>\n",
              "      <th></th>\n",
              "      <th></th>\n",
              "    </tr>\n",
              "  </thead>\n",
              "  <tbody>\n",
              "    <tr>\n",
              "      <th>2015-01-01 00:21:00</th>\n",
              "      <td>250.0</td>\n",
              "      <td>5</td>\n",
              "      <td>22.5</td>\n",
              "    </tr>\n",
              "    <tr>\n",
              "      <th>2015-01-01 01:03:00</th>\n",
              "      <td>150.0</td>\n",
              "      <td>3</td>\n",
              "      <td>27.0</td>\n",
              "    </tr>\n",
              "    <tr>\n",
              "      <th>2015-01-01 02:27:00</th>\n",
              "      <td>50.0</td>\n",
              "      <td>1</td>\n",
              "      <td>0.5</td>\n",
              "    </tr>\n",
              "    <tr>\n",
              "      <th>2015-01-01 03:51:00</th>\n",
              "      <td>250.0</td>\n",
              "      <td>5</td>\n",
              "      <td>17.5</td>\n",
              "    </tr>\n",
              "    <tr>\n",
              "      <th>2015-01-01 04:33:00</th>\n",
              "      <td>50.0</td>\n",
              "      <td>1</td>\n",
              "      <td>0.0</td>\n",
              "    </tr>\n",
              "  </tbody>\n",
              "</table>\n",
              "</div>\n",
              "      <button class=\"colab-df-convert\" onclick=\"convertToInteractive('df-bc6980ca-178b-45e7-8aeb-b004fc3f018d')\"\n",
              "              title=\"Convert this dataframe to an interactive table.\"\n",
              "              style=\"display:none;\">\n",
              "        \n",
              "  <svg xmlns=\"http://www.w3.org/2000/svg\" height=\"24px\"viewBox=\"0 0 24 24\"\n",
              "       width=\"24px\">\n",
              "    <path d=\"M0 0h24v24H0V0z\" fill=\"none\"/>\n",
              "    <path d=\"M18.56 5.44l.94 2.06.94-2.06 2.06-.94-2.06-.94-.94-2.06-.94 2.06-2.06.94zm-11 1L8.5 8.5l.94-2.06 2.06-.94-2.06-.94L8.5 2.5l-.94 2.06-2.06.94zm10 10l.94 2.06.94-2.06 2.06-.94-2.06-.94-.94-2.06-.94 2.06-2.06.94z\"/><path d=\"M17.41 7.96l-1.37-1.37c-.4-.4-.92-.59-1.43-.59-.52 0-1.04.2-1.43.59L10.3 9.45l-7.72 7.72c-.78.78-.78 2.05 0 2.83L4 21.41c.39.39.9.59 1.41.59.51 0 1.02-.2 1.41-.59l7.78-7.78 2.81-2.81c.8-.78.8-2.07 0-2.86zM5.41 20L4 18.59l7.72-7.72 1.47 1.35L5.41 20z\"/>\n",
              "  </svg>\n",
              "      </button>\n",
              "      \n",
              "  <style>\n",
              "    .colab-df-container {\n",
              "      display:flex;\n",
              "      flex-wrap:wrap;\n",
              "      gap: 12px;\n",
              "    }\n",
              "\n",
              "    .colab-df-convert {\n",
              "      background-color: #E8F0FE;\n",
              "      border: none;\n",
              "      border-radius: 50%;\n",
              "      cursor: pointer;\n",
              "      display: none;\n",
              "      fill: #1967D2;\n",
              "      height: 32px;\n",
              "      padding: 0 0 0 0;\n",
              "      width: 32px;\n",
              "    }\n",
              "\n",
              "    .colab-df-convert:hover {\n",
              "      background-color: #E2EBFA;\n",
              "      box-shadow: 0px 1px 2px rgba(60, 64, 67, 0.3), 0px 1px 3px 1px rgba(60, 64, 67, 0.15);\n",
              "      fill: #174EA6;\n",
              "    }\n",
              "\n",
              "    [theme=dark] .colab-df-convert {\n",
              "      background-color: #3B4455;\n",
              "      fill: #D2E3FC;\n",
              "    }\n",
              "\n",
              "    [theme=dark] .colab-df-convert:hover {\n",
              "      background-color: #434B5C;\n",
              "      box-shadow: 0px 1px 3px 1px rgba(0, 0, 0, 0.15);\n",
              "      filter: drop-shadow(0px 1px 2px rgba(0, 0, 0, 0.3));\n",
              "      fill: #FFFFFF;\n",
              "    }\n",
              "  </style>\n",
              "\n",
              "      <script>\n",
              "        const buttonEl =\n",
              "          document.querySelector('#df-bc6980ca-178b-45e7-8aeb-b004fc3f018d button.colab-df-convert');\n",
              "        buttonEl.style.display =\n",
              "          google.colab.kernel.accessAllowed ? 'block' : 'none';\n",
              "\n",
              "        async function convertToInteractive(key) {\n",
              "          const element = document.querySelector('#df-bc6980ca-178b-45e7-8aeb-b004fc3f018d');\n",
              "          const dataTable =\n",
              "            await google.colab.kernel.invokeFunction('convertToInteractive',\n",
              "                                                     [key], {});\n",
              "          if (!dataTable) return;\n",
              "\n",
              "          const docLinkHtml = 'Like what you see? Visit the ' +\n",
              "            '<a target=\"_blank\" href=https://colab.research.google.com/notebooks/data_table.ipynb>data table notebook</a>'\n",
              "            + ' to learn more about interactive tables.';\n",
              "          element.innerHTML = '';\n",
              "          dataTable['output_type'] = 'display_data';\n",
              "          await google.colab.output.renderOutput(dataTable, element);\n",
              "          const docLink = document.createElement('div');\n",
              "          docLink.innerHTML = docLinkHtml;\n",
              "          element.appendChild(docLink);\n",
              "        }\n",
              "      </script>\n",
              "    </div>\n",
              "  </div>\n",
              "  "
            ]
          },
          "metadata": {},
          "execution_count": 13
        }
      ],
      "source": [
        "filter2.set_axis(filter2['order date (DateOrders)'], inplace=True)\n",
        "\n",
        "filter2.drop(columns=['order date (DateOrders)'],inplace=True)\n",
        "filter2.head()"
      ]
    },
    {
      "cell_type": "code",
      "execution_count": 14,
      "metadata": {
        "colab": {
          "base_uri": "https://localhost:8080/"
        },
        "id": "K-dXy99jci6E",
        "outputId": "b8eb7ae8-853f-4b12-add3-b8ba29e83c06"
      },
      "outputs": [
        {
          "output_type": "execute_result",
          "data": {
            "text/plain": [
              "(21035, 3)"
            ]
          },
          "metadata": {},
          "execution_count": 14
        }
      ],
      "source": [
        "filter2.shape"
      ]
    },
    {
      "cell_type": "markdown",
      "metadata": {
        "id": "3dczInqpci6E"
      },
      "source": [
        "### Day-wise Aggregates\n"
      ]
    },
    {
      "cell_type": "code",
      "execution_count": 15,
      "metadata": {
        "id": "9SEzHt5Rci6E"
      },
      "outputs": [],
      "source": [
        "Item_quantity = filter2.groupby([(filter2.index.year), (filter2.index.month), (filter2.index.day)])['Order Item Quantity'].sum().astype(int)\n",
        "Item_discount = filter2.groupby([(filter2.index.year), (filter2.index.month), (filter2.index.day)])['Order Item Discount'].sum().astype(int)\n",
        "Item_sales = filter2.groupby([(filter2.index.year), (filter2.index.month), (filter2.index.day)])['Sales'].sum().astype(int)"
      ]
    },
    {
      "cell_type": "markdown",
      "metadata": {
        "id": "PC_Mi24wci6F"
      },
      "source": [
        "### Display in single Dataframe"
      ]
    },
    {
      "cell_type": "code",
      "execution_count": 16,
      "metadata": {
        "id": "YKfGqyAoci6F"
      },
      "outputs": [],
      "source": [
        "ItemSales=pd.DataFrame(Item_sales)\n",
        "ItemDiscount=pd.DataFrame(Item_discount)\n",
        "ItemQuantity=pd.DataFrame(Item_quantity)"
      ]
    },
    {
      "cell_type": "code",
      "execution_count": 17,
      "metadata": {
        "id": "oLGPZdMpci6F"
      },
      "outputs": [],
      "source": [
        "total=ItemSales.join(ItemDiscount)"
      ]
    },
    {
      "cell_type": "code",
      "execution_count": 18,
      "metadata": {
        "id": "TUUBh7ckci6F"
      },
      "outputs": [],
      "source": [
        "daily_Sales=total.join(ItemQuantity)"
      ]
    },
    {
      "cell_type": "code",
      "execution_count": 19,
      "metadata": {
        "colab": {
          "base_uri": "https://localhost:8080/",
          "height": 237
        },
        "id": "FDvhTYXJci6G",
        "outputId": "7024e144-6b53-4df2-c419-3c6552cba088",
        "scrolled": true
      },
      "outputs": [
        {
          "output_type": "execute_result",
          "data": {
            "text/plain": [
              "                                                                         Sales  \\\n",
              "order date (DateOrders) order date (DateOrders) order date (DateOrders)          \n",
              "2015                    1                       1                         2700   \n",
              "                                                2                         2500   \n",
              "                                                3                         2200   \n",
              "                                                4                         3750   \n",
              "                                                5                         1950   \n",
              "\n",
              "                                                                         Order Item Discount  \\\n",
              "order date (DateOrders) order date (DateOrders) order date (DateOrders)                        \n",
              "2015                    1                       1                                        314   \n",
              "                                                2                                        175   \n",
              "                                                3                                        199   \n",
              "                                                4                                        389   \n",
              "                                                5                                        163   \n",
              "\n",
              "                                                                         Order Item Quantity  \n",
              "order date (DateOrders) order date (DateOrders) order date (DateOrders)                       \n",
              "2015                    1                       1                                         54  \n",
              "                                                2                                         50  \n",
              "                                                3                                         44  \n",
              "                                                4                                         75  \n",
              "                                                5                                         39  "
            ],
            "text/html": [
              "\n",
              "  <div id=\"df-5e303704-a90d-46ad-81f2-c79090ec9f09\">\n",
              "    <div class=\"colab-df-container\">\n",
              "      <div>\n",
              "<style scoped>\n",
              "    .dataframe tbody tr th:only-of-type {\n",
              "        vertical-align: middle;\n",
              "    }\n",
              "\n",
              "    .dataframe tbody tr th {\n",
              "        vertical-align: top;\n",
              "    }\n",
              "\n",
              "    .dataframe thead th {\n",
              "        text-align: right;\n",
              "    }\n",
              "</style>\n",
              "<table border=\"1\" class=\"dataframe\">\n",
              "  <thead>\n",
              "    <tr style=\"text-align: right;\">\n",
              "      <th></th>\n",
              "      <th></th>\n",
              "      <th></th>\n",
              "      <th>Sales</th>\n",
              "      <th>Order Item Discount</th>\n",
              "      <th>Order Item Quantity</th>\n",
              "    </tr>\n",
              "    <tr>\n",
              "      <th>order date (DateOrders)</th>\n",
              "      <th>order date (DateOrders)</th>\n",
              "      <th>order date (DateOrders)</th>\n",
              "      <th></th>\n",
              "      <th></th>\n",
              "      <th></th>\n",
              "    </tr>\n",
              "  </thead>\n",
              "  <tbody>\n",
              "    <tr>\n",
              "      <th rowspan=\"5\" valign=\"top\">2015</th>\n",
              "      <th rowspan=\"5\" valign=\"top\">1</th>\n",
              "      <th>1</th>\n",
              "      <td>2700</td>\n",
              "      <td>314</td>\n",
              "      <td>54</td>\n",
              "    </tr>\n",
              "    <tr>\n",
              "      <th>2</th>\n",
              "      <td>2500</td>\n",
              "      <td>175</td>\n",
              "      <td>50</td>\n",
              "    </tr>\n",
              "    <tr>\n",
              "      <th>3</th>\n",
              "      <td>2200</td>\n",
              "      <td>199</td>\n",
              "      <td>44</td>\n",
              "    </tr>\n",
              "    <tr>\n",
              "      <th>4</th>\n",
              "      <td>3750</td>\n",
              "      <td>389</td>\n",
              "      <td>75</td>\n",
              "    </tr>\n",
              "    <tr>\n",
              "      <th>5</th>\n",
              "      <td>1950</td>\n",
              "      <td>163</td>\n",
              "      <td>39</td>\n",
              "    </tr>\n",
              "  </tbody>\n",
              "</table>\n",
              "</div>\n",
              "      <button class=\"colab-df-convert\" onclick=\"convertToInteractive('df-5e303704-a90d-46ad-81f2-c79090ec9f09')\"\n",
              "              title=\"Convert this dataframe to an interactive table.\"\n",
              "              style=\"display:none;\">\n",
              "        \n",
              "  <svg xmlns=\"http://www.w3.org/2000/svg\" height=\"24px\"viewBox=\"0 0 24 24\"\n",
              "       width=\"24px\">\n",
              "    <path d=\"M0 0h24v24H0V0z\" fill=\"none\"/>\n",
              "    <path d=\"M18.56 5.44l.94 2.06.94-2.06 2.06-.94-2.06-.94-.94-2.06-.94 2.06-2.06.94zm-11 1L8.5 8.5l.94-2.06 2.06-.94-2.06-.94L8.5 2.5l-.94 2.06-2.06.94zm10 10l.94 2.06.94-2.06 2.06-.94-2.06-.94-.94-2.06-.94 2.06-2.06.94z\"/><path d=\"M17.41 7.96l-1.37-1.37c-.4-.4-.92-.59-1.43-.59-.52 0-1.04.2-1.43.59L10.3 9.45l-7.72 7.72c-.78.78-.78 2.05 0 2.83L4 21.41c.39.39.9.59 1.41.59.51 0 1.02-.2 1.41-.59l7.78-7.78 2.81-2.81c.8-.78.8-2.07 0-2.86zM5.41 20L4 18.59l7.72-7.72 1.47 1.35L5.41 20z\"/>\n",
              "  </svg>\n",
              "      </button>\n",
              "      \n",
              "  <style>\n",
              "    .colab-df-container {\n",
              "      display:flex;\n",
              "      flex-wrap:wrap;\n",
              "      gap: 12px;\n",
              "    }\n",
              "\n",
              "    .colab-df-convert {\n",
              "      background-color: #E8F0FE;\n",
              "      border: none;\n",
              "      border-radius: 50%;\n",
              "      cursor: pointer;\n",
              "      display: none;\n",
              "      fill: #1967D2;\n",
              "      height: 32px;\n",
              "      padding: 0 0 0 0;\n",
              "      width: 32px;\n",
              "    }\n",
              "\n",
              "    .colab-df-convert:hover {\n",
              "      background-color: #E2EBFA;\n",
              "      box-shadow: 0px 1px 2px rgba(60, 64, 67, 0.3), 0px 1px 3px 1px rgba(60, 64, 67, 0.15);\n",
              "      fill: #174EA6;\n",
              "    }\n",
              "\n",
              "    [theme=dark] .colab-df-convert {\n",
              "      background-color: #3B4455;\n",
              "      fill: #D2E3FC;\n",
              "    }\n",
              "\n",
              "    [theme=dark] .colab-df-convert:hover {\n",
              "      background-color: #434B5C;\n",
              "      box-shadow: 0px 1px 3px 1px rgba(0, 0, 0, 0.15);\n",
              "      filter: drop-shadow(0px 1px 2px rgba(0, 0, 0, 0.3));\n",
              "      fill: #FFFFFF;\n",
              "    }\n",
              "  </style>\n",
              "\n",
              "      <script>\n",
              "        const buttonEl =\n",
              "          document.querySelector('#df-5e303704-a90d-46ad-81f2-c79090ec9f09 button.colab-df-convert');\n",
              "        buttonEl.style.display =\n",
              "          google.colab.kernel.accessAllowed ? 'block' : 'none';\n",
              "\n",
              "        async function convertToInteractive(key) {\n",
              "          const element = document.querySelector('#df-5e303704-a90d-46ad-81f2-c79090ec9f09');\n",
              "          const dataTable =\n",
              "            await google.colab.kernel.invokeFunction('convertToInteractive',\n",
              "                                                     [key], {});\n",
              "          if (!dataTable) return;\n",
              "\n",
              "          const docLinkHtml = 'Like what you see? Visit the ' +\n",
              "            '<a target=\"_blank\" href=https://colab.research.google.com/notebooks/data_table.ipynb>data table notebook</a>'\n",
              "            + ' to learn more about interactive tables.';\n",
              "          element.innerHTML = '';\n",
              "          dataTable['output_type'] = 'display_data';\n",
              "          await google.colab.output.renderOutput(dataTable, element);\n",
              "          const docLink = document.createElement('div');\n",
              "          docLink.innerHTML = docLinkHtml;\n",
              "          element.appendChild(docLink);\n",
              "        }\n",
              "      </script>\n",
              "    </div>\n",
              "  </div>\n",
              "  "
            ]
          },
          "metadata": {},
          "execution_count": 19
        }
      ],
      "source": [
        "daily_Sales.head()"
      ]
    },
    {
      "cell_type": "markdown",
      "metadata": {
        "id": "k9ipAl5gci6G"
      },
      "source": [
        "### Converting index to single column only"
      ]
    },
    {
      "cell_type": "code",
      "execution_count": 20,
      "metadata": {
        "id": "pAYYoQrnci6G"
      },
      "outputs": [],
      "source": [
        "y = daily_Sales.index.get_level_values(0)\n",
        "m = daily_Sales.index.get_level_values(1)\n",
        "d = daily_Sales.index.get_level_values(2)"
      ]
    },
    {
      "cell_type": "code",
      "execution_count": 21,
      "metadata": {
        "id": "iBdzZwZlci6H"
      },
      "outputs": [],
      "source": [
        "daily_Sales['Date'] = pd.to_datetime(y* 10000 + m * 100 + d * 1, format=\"%Y%m%d\")\n",
        "daily_Sales.set_index('Date', append=True, inplace=True)"
      ]
    },
    {
      "cell_type": "code",
      "execution_count": 22,
      "metadata": {
        "id": "CzUJcWjvci6H"
      },
      "outputs": [],
      "source": [
        "daily_Sales=daily_Sales.droplevel(0)\n",
        "daily_Sales=daily_Sales.droplevel(0)\n",
        "daily_Sales=daily_Sales.droplevel(0)"
      ]
    },
    {
      "cell_type": "code",
      "execution_count": 23,
      "metadata": {
        "colab": {
          "base_uri": "https://localhost:8080/",
          "height": 237
        },
        "id": "7q3nnSnGci6H",
        "outputId": "bdc5613e-b687-4cc5-ccb0-031cd9520b78"
      },
      "outputs": [
        {
          "output_type": "execute_result",
          "data": {
            "text/plain": [
              "            Sales  Order Item Discount  Order Item Quantity\n",
              "Date                                                       \n",
              "2015-01-01   2700                  314                   54\n",
              "2015-01-02   2500                  175                   50\n",
              "2015-01-03   2200                  199                   44\n",
              "2015-01-04   3750                  389                   75\n",
              "2015-01-05   1950                  163                   39"
            ],
            "text/html": [
              "\n",
              "  <div id=\"df-d9d2bf85-07ac-4cf9-88f0-e4a9953858d5\">\n",
              "    <div class=\"colab-df-container\">\n",
              "      <div>\n",
              "<style scoped>\n",
              "    .dataframe tbody tr th:only-of-type {\n",
              "        vertical-align: middle;\n",
              "    }\n",
              "\n",
              "    .dataframe tbody tr th {\n",
              "        vertical-align: top;\n",
              "    }\n",
              "\n",
              "    .dataframe thead th {\n",
              "        text-align: right;\n",
              "    }\n",
              "</style>\n",
              "<table border=\"1\" class=\"dataframe\">\n",
              "  <thead>\n",
              "    <tr style=\"text-align: right;\">\n",
              "      <th></th>\n",
              "      <th>Sales</th>\n",
              "      <th>Order Item Discount</th>\n",
              "      <th>Order Item Quantity</th>\n",
              "    </tr>\n",
              "    <tr>\n",
              "      <th>Date</th>\n",
              "      <th></th>\n",
              "      <th></th>\n",
              "      <th></th>\n",
              "    </tr>\n",
              "  </thead>\n",
              "  <tbody>\n",
              "    <tr>\n",
              "      <th>2015-01-01</th>\n",
              "      <td>2700</td>\n",
              "      <td>314</td>\n",
              "      <td>54</td>\n",
              "    </tr>\n",
              "    <tr>\n",
              "      <th>2015-01-02</th>\n",
              "      <td>2500</td>\n",
              "      <td>175</td>\n",
              "      <td>50</td>\n",
              "    </tr>\n",
              "    <tr>\n",
              "      <th>2015-01-03</th>\n",
              "      <td>2200</td>\n",
              "      <td>199</td>\n",
              "      <td>44</td>\n",
              "    </tr>\n",
              "    <tr>\n",
              "      <th>2015-01-04</th>\n",
              "      <td>3750</td>\n",
              "      <td>389</td>\n",
              "      <td>75</td>\n",
              "    </tr>\n",
              "    <tr>\n",
              "      <th>2015-01-05</th>\n",
              "      <td>1950</td>\n",
              "      <td>163</td>\n",
              "      <td>39</td>\n",
              "    </tr>\n",
              "  </tbody>\n",
              "</table>\n",
              "</div>\n",
              "      <button class=\"colab-df-convert\" onclick=\"convertToInteractive('df-d9d2bf85-07ac-4cf9-88f0-e4a9953858d5')\"\n",
              "              title=\"Convert this dataframe to an interactive table.\"\n",
              "              style=\"display:none;\">\n",
              "        \n",
              "  <svg xmlns=\"http://www.w3.org/2000/svg\" height=\"24px\"viewBox=\"0 0 24 24\"\n",
              "       width=\"24px\">\n",
              "    <path d=\"M0 0h24v24H0V0z\" fill=\"none\"/>\n",
              "    <path d=\"M18.56 5.44l.94 2.06.94-2.06 2.06-.94-2.06-.94-.94-2.06-.94 2.06-2.06.94zm-11 1L8.5 8.5l.94-2.06 2.06-.94-2.06-.94L8.5 2.5l-.94 2.06-2.06.94zm10 10l.94 2.06.94-2.06 2.06-.94-2.06-.94-.94-2.06-.94 2.06-2.06.94z\"/><path d=\"M17.41 7.96l-1.37-1.37c-.4-.4-.92-.59-1.43-.59-.52 0-1.04.2-1.43.59L10.3 9.45l-7.72 7.72c-.78.78-.78 2.05 0 2.83L4 21.41c.39.39.9.59 1.41.59.51 0 1.02-.2 1.41-.59l7.78-7.78 2.81-2.81c.8-.78.8-2.07 0-2.86zM5.41 20L4 18.59l7.72-7.72 1.47 1.35L5.41 20z\"/>\n",
              "  </svg>\n",
              "      </button>\n",
              "      \n",
              "  <style>\n",
              "    .colab-df-container {\n",
              "      display:flex;\n",
              "      flex-wrap:wrap;\n",
              "      gap: 12px;\n",
              "    }\n",
              "\n",
              "    .colab-df-convert {\n",
              "      background-color: #E8F0FE;\n",
              "      border: none;\n",
              "      border-radius: 50%;\n",
              "      cursor: pointer;\n",
              "      display: none;\n",
              "      fill: #1967D2;\n",
              "      height: 32px;\n",
              "      padding: 0 0 0 0;\n",
              "      width: 32px;\n",
              "    }\n",
              "\n",
              "    .colab-df-convert:hover {\n",
              "      background-color: #E2EBFA;\n",
              "      box-shadow: 0px 1px 2px rgba(60, 64, 67, 0.3), 0px 1px 3px 1px rgba(60, 64, 67, 0.15);\n",
              "      fill: #174EA6;\n",
              "    }\n",
              "\n",
              "    [theme=dark] .colab-df-convert {\n",
              "      background-color: #3B4455;\n",
              "      fill: #D2E3FC;\n",
              "    }\n",
              "\n",
              "    [theme=dark] .colab-df-convert:hover {\n",
              "      background-color: #434B5C;\n",
              "      box-shadow: 0px 1px 3px 1px rgba(0, 0, 0, 0.15);\n",
              "      filter: drop-shadow(0px 1px 2px rgba(0, 0, 0, 0.3));\n",
              "      fill: #FFFFFF;\n",
              "    }\n",
              "  </style>\n",
              "\n",
              "      <script>\n",
              "        const buttonEl =\n",
              "          document.querySelector('#df-d9d2bf85-07ac-4cf9-88f0-e4a9953858d5 button.colab-df-convert');\n",
              "        buttonEl.style.display =\n",
              "          google.colab.kernel.accessAllowed ? 'block' : 'none';\n",
              "\n",
              "        async function convertToInteractive(key) {\n",
              "          const element = document.querySelector('#df-d9d2bf85-07ac-4cf9-88f0-e4a9953858d5');\n",
              "          const dataTable =\n",
              "            await google.colab.kernel.invokeFunction('convertToInteractive',\n",
              "                                                     [key], {});\n",
              "          if (!dataTable) return;\n",
              "\n",
              "          const docLinkHtml = 'Like what you see? Visit the ' +\n",
              "            '<a target=\"_blank\" href=https://colab.research.google.com/notebooks/data_table.ipynb>data table notebook</a>'\n",
              "            + ' to learn more about interactive tables.';\n",
              "          element.innerHTML = '';\n",
              "          dataTable['output_type'] = 'display_data';\n",
              "          await google.colab.output.renderOutput(dataTable, element);\n",
              "          const docLink = document.createElement('div');\n",
              "          docLink.innerHTML = docLinkHtml;\n",
              "          element.appendChild(docLink);\n",
              "        }\n",
              "      </script>\n",
              "    </div>\n",
              "  </div>\n",
              "  "
            ]
          },
          "metadata": {},
          "execution_count": 23
        }
      ],
      "source": [
        "daily_Sales.head(5)"
      ]
    },
    {
      "cell_type": "markdown",
      "metadata": {
        "id": "-73VduSmci6I"
      },
      "source": [
        "### Checking the sum of Column 'Order Item Quantity'"
      ]
    },
    {
      "cell_type": "code",
      "execution_count": 24,
      "metadata": {
        "colab": {
          "base_uri": "https://localhost:8080/"
        },
        "id": "xTTjD7psci6I",
        "outputId": "972791b3-1f42-4a27-e52b-ba5c7002b8d4"
      },
      "outputs": [
        {
          "output_type": "stream",
          "name": "stdout",
          "text": [
            "62956\n"
          ]
        }
      ],
      "source": [
        "Total = daily_Sales['Order Item Quantity'].sum()\n",
        "print(Total)\n"
      ]
    },
    {
      "cell_type": "code",
      "execution_count": 25,
      "metadata": {
        "colab": {
          "base_uri": "https://localhost:8080/",
          "height": 237
        },
        "id": "F3NGvqdDci6I",
        "outputId": "b4d0eafa-a7b5-44f8-f240-1c7333d21616"
      },
      "outputs": [
        {
          "output_type": "execute_result",
          "data": {
            "text/plain": [
              "            Order Item Quantity\n",
              "Date                           \n",
              "2017-09-28                   79\n",
              "2017-09-29                   82\n",
              "2017-09-30                   72\n",
              "2017-10-01                   53\n",
              "2017-10-02                   25"
            ],
            "text/html": [
              "\n",
              "  <div id=\"df-81fac92f-09ce-446f-b666-e40ac4a2ebaf\">\n",
              "    <div class=\"colab-df-container\">\n",
              "      <div>\n",
              "<style scoped>\n",
              "    .dataframe tbody tr th:only-of-type {\n",
              "        vertical-align: middle;\n",
              "    }\n",
              "\n",
              "    .dataframe tbody tr th {\n",
              "        vertical-align: top;\n",
              "    }\n",
              "\n",
              "    .dataframe thead th {\n",
              "        text-align: right;\n",
              "    }\n",
              "</style>\n",
              "<table border=\"1\" class=\"dataframe\">\n",
              "  <thead>\n",
              "    <tr style=\"text-align: right;\">\n",
              "      <th></th>\n",
              "      <th>Order Item Quantity</th>\n",
              "    </tr>\n",
              "    <tr>\n",
              "      <th>Date</th>\n",
              "      <th></th>\n",
              "    </tr>\n",
              "  </thead>\n",
              "  <tbody>\n",
              "    <tr>\n",
              "      <th>2017-09-28</th>\n",
              "      <td>79</td>\n",
              "    </tr>\n",
              "    <tr>\n",
              "      <th>2017-09-29</th>\n",
              "      <td>82</td>\n",
              "    </tr>\n",
              "    <tr>\n",
              "      <th>2017-09-30</th>\n",
              "      <td>72</td>\n",
              "    </tr>\n",
              "    <tr>\n",
              "      <th>2017-10-01</th>\n",
              "      <td>53</td>\n",
              "    </tr>\n",
              "    <tr>\n",
              "      <th>2017-10-02</th>\n",
              "      <td>25</td>\n",
              "    </tr>\n",
              "  </tbody>\n",
              "</table>\n",
              "</div>\n",
              "      <button class=\"colab-df-convert\" onclick=\"convertToInteractive('df-81fac92f-09ce-446f-b666-e40ac4a2ebaf')\"\n",
              "              title=\"Convert this dataframe to an interactive table.\"\n",
              "              style=\"display:none;\">\n",
              "        \n",
              "  <svg xmlns=\"http://www.w3.org/2000/svg\" height=\"24px\"viewBox=\"0 0 24 24\"\n",
              "       width=\"24px\">\n",
              "    <path d=\"M0 0h24v24H0V0z\" fill=\"none\"/>\n",
              "    <path d=\"M18.56 5.44l.94 2.06.94-2.06 2.06-.94-2.06-.94-.94-2.06-.94 2.06-2.06.94zm-11 1L8.5 8.5l.94-2.06 2.06-.94-2.06-.94L8.5 2.5l-.94 2.06-2.06.94zm10 10l.94 2.06.94-2.06 2.06-.94-2.06-.94-.94-2.06-.94 2.06-2.06.94z\"/><path d=\"M17.41 7.96l-1.37-1.37c-.4-.4-.92-.59-1.43-.59-.52 0-1.04.2-1.43.59L10.3 9.45l-7.72 7.72c-.78.78-.78 2.05 0 2.83L4 21.41c.39.39.9.59 1.41.59.51 0 1.02-.2 1.41-.59l7.78-7.78 2.81-2.81c.8-.78.8-2.07 0-2.86zM5.41 20L4 18.59l7.72-7.72 1.47 1.35L5.41 20z\"/>\n",
              "  </svg>\n",
              "      </button>\n",
              "      \n",
              "  <style>\n",
              "    .colab-df-container {\n",
              "      display:flex;\n",
              "      flex-wrap:wrap;\n",
              "      gap: 12px;\n",
              "    }\n",
              "\n",
              "    .colab-df-convert {\n",
              "      background-color: #E8F0FE;\n",
              "      border: none;\n",
              "      border-radius: 50%;\n",
              "      cursor: pointer;\n",
              "      display: none;\n",
              "      fill: #1967D2;\n",
              "      height: 32px;\n",
              "      padding: 0 0 0 0;\n",
              "      width: 32px;\n",
              "    }\n",
              "\n",
              "    .colab-df-convert:hover {\n",
              "      background-color: #E2EBFA;\n",
              "      box-shadow: 0px 1px 2px rgba(60, 64, 67, 0.3), 0px 1px 3px 1px rgba(60, 64, 67, 0.15);\n",
              "      fill: #174EA6;\n",
              "    }\n",
              "\n",
              "    [theme=dark] .colab-df-convert {\n",
              "      background-color: #3B4455;\n",
              "      fill: #D2E3FC;\n",
              "    }\n",
              "\n",
              "    [theme=dark] .colab-df-convert:hover {\n",
              "      background-color: #434B5C;\n",
              "      box-shadow: 0px 1px 3px 1px rgba(0, 0, 0, 0.15);\n",
              "      filter: drop-shadow(0px 1px 2px rgba(0, 0, 0, 0.3));\n",
              "      fill: #FFFFFF;\n",
              "    }\n",
              "  </style>\n",
              "\n",
              "      <script>\n",
              "        const buttonEl =\n",
              "          document.querySelector('#df-81fac92f-09ce-446f-b666-e40ac4a2ebaf button.colab-df-convert');\n",
              "        buttonEl.style.display =\n",
              "          google.colab.kernel.accessAllowed ? 'block' : 'none';\n",
              "\n",
              "        async function convertToInteractive(key) {\n",
              "          const element = document.querySelector('#df-81fac92f-09ce-446f-b666-e40ac4a2ebaf');\n",
              "          const dataTable =\n",
              "            await google.colab.kernel.invokeFunction('convertToInteractive',\n",
              "                                                     [key], {});\n",
              "          if (!dataTable) return;\n",
              "\n",
              "          const docLinkHtml = 'Like what you see? Visit the ' +\n",
              "            '<a target=\"_blank\" href=https://colab.research.google.com/notebooks/data_table.ipynb>data table notebook</a>'\n",
              "            + ' to learn more about interactive tables.';\n",
              "          element.innerHTML = '';\n",
              "          dataTable['output_type'] = 'display_data';\n",
              "          await google.colab.output.renderOutput(dataTable, element);\n",
              "          const docLink = document.createElement('div');\n",
              "          docLink.innerHTML = docLinkHtml;\n",
              "          element.appendChild(docLink);\n",
              "        }\n",
              "      </script>\n",
              "    </div>\n",
              "  </div>\n",
              "  "
            ]
          },
          "metadata": {},
          "execution_count": 25
        }
      ],
      "source": [
        "Women_Apparel_Sold = daily_Sales[[\"Order Item Quantity\"]]\n",
        "Women_Apparel_Sold.tail()"
      ]
    },
    {
      "cell_type": "code",
      "execution_count": 26,
      "metadata": {
        "colab": {
          "base_uri": "https://localhost:8080/"
        },
        "id": "L_Uwm_4eci6I",
        "outputId": "a641e43f-1cba-4487-e2a4-05d24b182431"
      },
      "outputs": [
        {
          "output_type": "execute_result",
          "data": {
            "text/plain": [
              "(1006, 1)"
            ]
          },
          "metadata": {},
          "execution_count": 26
        }
      ],
      "source": [
        "Women_Apparel_Sold.shape"
      ]
    },
    {
      "cell_type": "markdown",
      "metadata": {
        "id": "VQWZwtsRci6J"
      },
      "source": [
        "### FEATURE ENGINEERING"
      ]
    },
    {
      "cell_type": "markdown",
      "metadata": {
        "id": "LSxOOLx-ci6J"
      },
      "source": [
        "Considering the prior 90 days sales to predict the number of items sold for the month of April_2015 till Sept_2017"
      ]
    },
    {
      "cell_type": "code",
      "execution_count": 27,
      "metadata": {
        "id": "TLsla4YCci6J"
      },
      "outputs": [],
      "source": [
        "April_2015 = Women_Apparel_Sold.iloc[1:90]\n",
        "May_2015 = Women_Apparel_Sold.iloc[31:120]\n",
        "June_2015 = Women_Apparel_Sold.iloc[62:151]\n",
        "July_2015 = Women_Apparel_Sold.iloc[92:181]\n",
        "August_2015 = Women_Apparel_Sold.iloc[123:212]\n",
        "Sept_2015 = Women_Apparel_Sold.iloc[154:243]\n",
        "Oct_2015 = Women_Apparel_Sold.iloc[184:273]\n",
        "Nov_2015 = Women_Apparel_Sold.iloc[215:304]\n",
        "Dec_2015 = Women_Apparel_Sold.iloc[245:334]\n",
        "Jan_2016 = Women_Apparel_Sold.iloc[276:365]\n",
        "Feb_2016 = Women_Apparel_Sold.iloc[307:396]\n",
        "March_2016 = Women_Apparel_Sold.iloc[336:425]\n",
        "April_2016 = Women_Apparel_Sold.iloc[367:456]\n",
        "May_2016 = Women_Apparel_Sold.iloc[397:486]\n",
        "June_2016 = Women_Apparel_Sold.iloc[428:517]\n",
        "July_2016 = Women_Apparel_Sold.iloc[458:547]\n",
        "August_2016 = Women_Apparel_Sold.iloc[489:578]\n",
        "Sept_2016 = Women_Apparel_Sold.iloc[520:609]\n",
        "Oct_2016 = Women_Apparel_Sold.iloc[550:639]\n",
        "Nov_2016 = Women_Apparel_Sold.iloc[581:670]\n",
        "Dec_2016 = Women_Apparel_Sold.iloc[611:700]\n",
        "Jan_2017 = Women_Apparel_Sold.iloc[642:731]\n",
        "Feb_2017 = Women_Apparel_Sold.iloc[673:762]\n",
        "March_2017 = Women_Apparel_Sold.iloc[701:790]\n",
        "April_2017 = Women_Apparel_Sold.iloc[732:821]\n",
        "May_2017 = Women_Apparel_Sold.iloc[762:851]\n",
        "June_2017 = Women_Apparel_Sold.iloc[793:882]\n",
        "July_2017 = Women_Apparel_Sold.iloc[823:912]\n",
        "August_2017 = Women_Apparel_Sold.iloc[854:943]\n",
        "Sept_2017 = Women_Apparel_Sold.iloc[885:974]"
      ]
    },
    {
      "cell_type": "code",
      "execution_count": 28,
      "metadata": {
        "colab": {
          "base_uri": "https://localhost:8080/",
          "height": 237
        },
        "id": "KByZUCuvci6J",
        "outputId": "bd683d9f-3af3-436e-ab5b-4195f4fc9850"
      },
      "outputs": [
        {
          "output_type": "execute_result",
          "data": {
            "text/plain": [
              "            Order Item Quantity\n",
              "Date                           \n",
              "2017-08-27                   73\n",
              "2017-08-28                   67\n",
              "2017-08-29                   47\n",
              "2017-08-30                   57\n",
              "2017-08-31                   65"
            ],
            "text/html": [
              "\n",
              "  <div id=\"df-7d43c46c-67bb-4dd0-b65f-ffedf6598193\">\n",
              "    <div class=\"colab-df-container\">\n",
              "      <div>\n",
              "<style scoped>\n",
              "    .dataframe tbody tr th:only-of-type {\n",
              "        vertical-align: middle;\n",
              "    }\n",
              "\n",
              "    .dataframe tbody tr th {\n",
              "        vertical-align: top;\n",
              "    }\n",
              "\n",
              "    .dataframe thead th {\n",
              "        text-align: right;\n",
              "    }\n",
              "</style>\n",
              "<table border=\"1\" class=\"dataframe\">\n",
              "  <thead>\n",
              "    <tr style=\"text-align: right;\">\n",
              "      <th></th>\n",
              "      <th>Order Item Quantity</th>\n",
              "    </tr>\n",
              "    <tr>\n",
              "      <th>Date</th>\n",
              "      <th></th>\n",
              "    </tr>\n",
              "  </thead>\n",
              "  <tbody>\n",
              "    <tr>\n",
              "      <th>2017-08-27</th>\n",
              "      <td>73</td>\n",
              "    </tr>\n",
              "    <tr>\n",
              "      <th>2017-08-28</th>\n",
              "      <td>67</td>\n",
              "    </tr>\n",
              "    <tr>\n",
              "      <th>2017-08-29</th>\n",
              "      <td>47</td>\n",
              "    </tr>\n",
              "    <tr>\n",
              "      <th>2017-08-30</th>\n",
              "      <td>57</td>\n",
              "    </tr>\n",
              "    <tr>\n",
              "      <th>2017-08-31</th>\n",
              "      <td>65</td>\n",
              "    </tr>\n",
              "  </tbody>\n",
              "</table>\n",
              "</div>\n",
              "      <button class=\"colab-df-convert\" onclick=\"convertToInteractive('df-7d43c46c-67bb-4dd0-b65f-ffedf6598193')\"\n",
              "              title=\"Convert this dataframe to an interactive table.\"\n",
              "              style=\"display:none;\">\n",
              "        \n",
              "  <svg xmlns=\"http://www.w3.org/2000/svg\" height=\"24px\"viewBox=\"0 0 24 24\"\n",
              "       width=\"24px\">\n",
              "    <path d=\"M0 0h24v24H0V0z\" fill=\"none\"/>\n",
              "    <path d=\"M18.56 5.44l.94 2.06.94-2.06 2.06-.94-2.06-.94-.94-2.06-.94 2.06-2.06.94zm-11 1L8.5 8.5l.94-2.06 2.06-.94-2.06-.94L8.5 2.5l-.94 2.06-2.06.94zm10 10l.94 2.06.94-2.06 2.06-.94-2.06-.94-.94-2.06-.94 2.06-2.06.94z\"/><path d=\"M17.41 7.96l-1.37-1.37c-.4-.4-.92-.59-1.43-.59-.52 0-1.04.2-1.43.59L10.3 9.45l-7.72 7.72c-.78.78-.78 2.05 0 2.83L4 21.41c.39.39.9.59 1.41.59.51 0 1.02-.2 1.41-.59l7.78-7.78 2.81-2.81c.8-.78.8-2.07 0-2.86zM5.41 20L4 18.59l7.72-7.72 1.47 1.35L5.41 20z\"/>\n",
              "  </svg>\n",
              "      </button>\n",
              "      \n",
              "  <style>\n",
              "    .colab-df-container {\n",
              "      display:flex;\n",
              "      flex-wrap:wrap;\n",
              "      gap: 12px;\n",
              "    }\n",
              "\n",
              "    .colab-df-convert {\n",
              "      background-color: #E8F0FE;\n",
              "      border: none;\n",
              "      border-radius: 50%;\n",
              "      cursor: pointer;\n",
              "      display: none;\n",
              "      fill: #1967D2;\n",
              "      height: 32px;\n",
              "      padding: 0 0 0 0;\n",
              "      width: 32px;\n",
              "    }\n",
              "\n",
              "    .colab-df-convert:hover {\n",
              "      background-color: #E2EBFA;\n",
              "      box-shadow: 0px 1px 2px rgba(60, 64, 67, 0.3), 0px 1px 3px 1px rgba(60, 64, 67, 0.15);\n",
              "      fill: #174EA6;\n",
              "    }\n",
              "\n",
              "    [theme=dark] .colab-df-convert {\n",
              "      background-color: #3B4455;\n",
              "      fill: #D2E3FC;\n",
              "    }\n",
              "\n",
              "    [theme=dark] .colab-df-convert:hover {\n",
              "      background-color: #434B5C;\n",
              "      box-shadow: 0px 1px 3px 1px rgba(0, 0, 0, 0.15);\n",
              "      filter: drop-shadow(0px 1px 2px rgba(0, 0, 0, 0.3));\n",
              "      fill: #FFFFFF;\n",
              "    }\n",
              "  </style>\n",
              "\n",
              "      <script>\n",
              "        const buttonEl =\n",
              "          document.querySelector('#df-7d43c46c-67bb-4dd0-b65f-ffedf6598193 button.colab-df-convert');\n",
              "        buttonEl.style.display =\n",
              "          google.colab.kernel.accessAllowed ? 'block' : 'none';\n",
              "\n",
              "        async function convertToInteractive(key) {\n",
              "          const element = document.querySelector('#df-7d43c46c-67bb-4dd0-b65f-ffedf6598193');\n",
              "          const dataTable =\n",
              "            await google.colab.kernel.invokeFunction('convertToInteractive',\n",
              "                                                     [key], {});\n",
              "          if (!dataTable) return;\n",
              "\n",
              "          const docLinkHtml = 'Like what you see? Visit the ' +\n",
              "            '<a target=\"_blank\" href=https://colab.research.google.com/notebooks/data_table.ipynb>data table notebook</a>'\n",
              "            + ' to learn more about interactive tables.';\n",
              "          element.innerHTML = '';\n",
              "          dataTable['output_type'] = 'display_data';\n",
              "          await google.colab.output.renderOutput(dataTable, element);\n",
              "          const docLink = document.createElement('div');\n",
              "          docLink.innerHTML = docLinkHtml;\n",
              "          element.appendChild(docLink);\n",
              "        }\n",
              "      </script>\n",
              "    </div>\n",
              "  </div>\n",
              "  "
            ]
          },
          "metadata": {},
          "execution_count": 28
        }
      ],
      "source": [
        "Sept_2017.tail()"
      ]
    },
    {
      "cell_type": "markdown",
      "metadata": {
        "id": "FnEQ13buci6K"
      },
      "source": [
        "### Taking Transpose to convert 90 days sales as Single row/record for each month to be predicted"
      ]
    },
    {
      "cell_type": "code",
      "execution_count": 29,
      "metadata": {
        "id": "iSZSHGFBci6K"
      },
      "outputs": [],
      "source": [
        "Row_1 = pd.DataFrame(April_2015.to_numpy().T).add_prefix('Day')\n",
        "Row_2 = pd.DataFrame(May_2015.to_numpy().T).add_prefix('Day')\n",
        "Row_3 = pd.DataFrame(June_2015.to_numpy().T).add_prefix('Day')\n",
        "Row_4 = pd.DataFrame(July_2015.to_numpy().T).add_prefix('Day')\n",
        "Row_5 = pd.DataFrame(August_2015.to_numpy().T).add_prefix('Day')\n",
        "Row_6 = pd.DataFrame(Sept_2015.to_numpy().T).add_prefix('Day')\n",
        "Row_7 = pd.DataFrame(Oct_2015.to_numpy().T).add_prefix('Day')\n",
        "Row_8 = pd.DataFrame(Nov_2015.to_numpy().T).add_prefix('Day')\n",
        "Row_9 = pd.DataFrame(Dec_2015.to_numpy().T).add_prefix('Day')\n",
        "Row_10 = pd.DataFrame(Jan_2016.to_numpy().T).add_prefix('Day')\n",
        "Row_11 = pd.DataFrame(Feb_2016.to_numpy().T).add_prefix('Day')\n",
        "Row_12 = pd.DataFrame(March_2016.to_numpy().T).add_prefix('Day')\n",
        "Row_13 = pd.DataFrame(April_2016.to_numpy().T).add_prefix('Day')\n",
        "Row_14 = pd.DataFrame(May_2016.to_numpy().T).add_prefix('Day')\n",
        "Row_15 = pd.DataFrame(June_2016.to_numpy().T).add_prefix('Day')\n",
        "Row_16 = pd.DataFrame(July_2016.to_numpy().T).add_prefix('Day')\n",
        "Row_17 = pd.DataFrame(August_2016.to_numpy().T).add_prefix('Day')\n",
        "Row_18 = pd.DataFrame(Sept_2016.to_numpy().T).add_prefix('Day')\n",
        "Row_19 = pd.DataFrame(Oct_2016.to_numpy().T).add_prefix('Day')\n",
        "Row_20 = pd.DataFrame(Nov_2016.to_numpy().T).add_prefix('Day')\n",
        "Row_21 = pd.DataFrame(Dec_2016.to_numpy().T).add_prefix('Day')\n",
        "Row_22 = pd.DataFrame(Jan_2017.to_numpy().T).add_prefix('Day')\n",
        "Row_23 = pd.DataFrame(Feb_2017.to_numpy().T).add_prefix('Day')\n",
        "Row_24 = pd.DataFrame(March_2017.to_numpy().T).add_prefix('Day')\n",
        "Row_25 = pd.DataFrame(April_2017.to_numpy().T).add_prefix('Day')\n",
        "Row_26 = pd.DataFrame(May_2017.to_numpy().T).add_prefix('Day')\n",
        "Row_27 = pd.DataFrame(June_2017.to_numpy().T).add_prefix('Day')\n",
        "Row_28 = pd.DataFrame(July_2017.to_numpy().T).add_prefix('Day')\n",
        "Row_29 = pd.DataFrame(August_2017.to_numpy().T).add_prefix('Day')\n",
        "Row_30 = pd.DataFrame(Sept_2017.to_numpy().T).add_prefix('Day')"
      ]
    },
    {
      "cell_type": "code",
      "execution_count": 30,
      "metadata": {
        "colab": {
          "base_uri": "https://localhost:8080/",
          "height": 110
        },
        "id": "iUmtggNvci6K",
        "outputId": "9ba78a47-c412-4bd4-f160-695ca2962698"
      },
      "outputs": [
        {
          "output_type": "execute_result",
          "data": {
            "text/plain": [
              "   Day0  Day1  Day2  Day3  Day4  Day5  Day6  Day7  Day8  Day9  ...  Day79  \\\n",
              "0    77    51    44    67    63    78    41    63    50    97  ...     65   \n",
              "\n",
              "   Day80  Day81  Day82  Day83  Day84  Day85  Day86  Day87  Day88  \n",
              "0     49     55     83     60     73     67     47     57     65  \n",
              "\n",
              "[1 rows x 89 columns]"
            ],
            "text/html": [
              "\n",
              "  <div id=\"df-dba403ba-98e6-4db5-b50f-9c98b0c8d820\">\n",
              "    <div class=\"colab-df-container\">\n",
              "      <div>\n",
              "<style scoped>\n",
              "    .dataframe tbody tr th:only-of-type {\n",
              "        vertical-align: middle;\n",
              "    }\n",
              "\n",
              "    .dataframe tbody tr th {\n",
              "        vertical-align: top;\n",
              "    }\n",
              "\n",
              "    .dataframe thead th {\n",
              "        text-align: right;\n",
              "    }\n",
              "</style>\n",
              "<table border=\"1\" class=\"dataframe\">\n",
              "  <thead>\n",
              "    <tr style=\"text-align: right;\">\n",
              "      <th></th>\n",
              "      <th>Day0</th>\n",
              "      <th>Day1</th>\n",
              "      <th>Day2</th>\n",
              "      <th>Day3</th>\n",
              "      <th>Day4</th>\n",
              "      <th>Day5</th>\n",
              "      <th>Day6</th>\n",
              "      <th>Day7</th>\n",
              "      <th>Day8</th>\n",
              "      <th>Day9</th>\n",
              "      <th>...</th>\n",
              "      <th>Day79</th>\n",
              "      <th>Day80</th>\n",
              "      <th>Day81</th>\n",
              "      <th>Day82</th>\n",
              "      <th>Day83</th>\n",
              "      <th>Day84</th>\n",
              "      <th>Day85</th>\n",
              "      <th>Day86</th>\n",
              "      <th>Day87</th>\n",
              "      <th>Day88</th>\n",
              "    </tr>\n",
              "  </thead>\n",
              "  <tbody>\n",
              "    <tr>\n",
              "      <th>0</th>\n",
              "      <td>77</td>\n",
              "      <td>51</td>\n",
              "      <td>44</td>\n",
              "      <td>67</td>\n",
              "      <td>63</td>\n",
              "      <td>78</td>\n",
              "      <td>41</td>\n",
              "      <td>63</td>\n",
              "      <td>50</td>\n",
              "      <td>97</td>\n",
              "      <td>...</td>\n",
              "      <td>65</td>\n",
              "      <td>49</td>\n",
              "      <td>55</td>\n",
              "      <td>83</td>\n",
              "      <td>60</td>\n",
              "      <td>73</td>\n",
              "      <td>67</td>\n",
              "      <td>47</td>\n",
              "      <td>57</td>\n",
              "      <td>65</td>\n",
              "    </tr>\n",
              "  </tbody>\n",
              "</table>\n",
              "<p>1 rows × 89 columns</p>\n",
              "</div>\n",
              "      <button class=\"colab-df-convert\" onclick=\"convertToInteractive('df-dba403ba-98e6-4db5-b50f-9c98b0c8d820')\"\n",
              "              title=\"Convert this dataframe to an interactive table.\"\n",
              "              style=\"display:none;\">\n",
              "        \n",
              "  <svg xmlns=\"http://www.w3.org/2000/svg\" height=\"24px\"viewBox=\"0 0 24 24\"\n",
              "       width=\"24px\">\n",
              "    <path d=\"M0 0h24v24H0V0z\" fill=\"none\"/>\n",
              "    <path d=\"M18.56 5.44l.94 2.06.94-2.06 2.06-.94-2.06-.94-.94-2.06-.94 2.06-2.06.94zm-11 1L8.5 8.5l.94-2.06 2.06-.94-2.06-.94L8.5 2.5l-.94 2.06-2.06.94zm10 10l.94 2.06.94-2.06 2.06-.94-2.06-.94-.94-2.06-.94 2.06-2.06.94z\"/><path d=\"M17.41 7.96l-1.37-1.37c-.4-.4-.92-.59-1.43-.59-.52 0-1.04.2-1.43.59L10.3 9.45l-7.72 7.72c-.78.78-.78 2.05 0 2.83L4 21.41c.39.39.9.59 1.41.59.51 0 1.02-.2 1.41-.59l7.78-7.78 2.81-2.81c.8-.78.8-2.07 0-2.86zM5.41 20L4 18.59l7.72-7.72 1.47 1.35L5.41 20z\"/>\n",
              "  </svg>\n",
              "      </button>\n",
              "      \n",
              "  <style>\n",
              "    .colab-df-container {\n",
              "      display:flex;\n",
              "      flex-wrap:wrap;\n",
              "      gap: 12px;\n",
              "    }\n",
              "\n",
              "    .colab-df-convert {\n",
              "      background-color: #E8F0FE;\n",
              "      border: none;\n",
              "      border-radius: 50%;\n",
              "      cursor: pointer;\n",
              "      display: none;\n",
              "      fill: #1967D2;\n",
              "      height: 32px;\n",
              "      padding: 0 0 0 0;\n",
              "      width: 32px;\n",
              "    }\n",
              "\n",
              "    .colab-df-convert:hover {\n",
              "      background-color: #E2EBFA;\n",
              "      box-shadow: 0px 1px 2px rgba(60, 64, 67, 0.3), 0px 1px 3px 1px rgba(60, 64, 67, 0.15);\n",
              "      fill: #174EA6;\n",
              "    }\n",
              "\n",
              "    [theme=dark] .colab-df-convert {\n",
              "      background-color: #3B4455;\n",
              "      fill: #D2E3FC;\n",
              "    }\n",
              "\n",
              "    [theme=dark] .colab-df-convert:hover {\n",
              "      background-color: #434B5C;\n",
              "      box-shadow: 0px 1px 3px 1px rgba(0, 0, 0, 0.15);\n",
              "      filter: drop-shadow(0px 1px 2px rgba(0, 0, 0, 0.3));\n",
              "      fill: #FFFFFF;\n",
              "    }\n",
              "  </style>\n",
              "\n",
              "      <script>\n",
              "        const buttonEl =\n",
              "          document.querySelector('#df-dba403ba-98e6-4db5-b50f-9c98b0c8d820 button.colab-df-convert');\n",
              "        buttonEl.style.display =\n",
              "          google.colab.kernel.accessAllowed ? 'block' : 'none';\n",
              "\n",
              "        async function convertToInteractive(key) {\n",
              "          const element = document.querySelector('#df-dba403ba-98e6-4db5-b50f-9c98b0c8d820');\n",
              "          const dataTable =\n",
              "            await google.colab.kernel.invokeFunction('convertToInteractive',\n",
              "                                                     [key], {});\n",
              "          if (!dataTable) return;\n",
              "\n",
              "          const docLinkHtml = 'Like what you see? Visit the ' +\n",
              "            '<a target=\"_blank\" href=https://colab.research.google.com/notebooks/data_table.ipynb>data table notebook</a>'\n",
              "            + ' to learn more about interactive tables.';\n",
              "          element.innerHTML = '';\n",
              "          dataTable['output_type'] = 'display_data';\n",
              "          await google.colab.output.renderOutput(dataTable, element);\n",
              "          const docLink = document.createElement('div');\n",
              "          docLink.innerHTML = docLinkHtml;\n",
              "          element.appendChild(docLink);\n",
              "        }\n",
              "      </script>\n",
              "    </div>\n",
              "  </div>\n",
              "  "
            ]
          },
          "metadata": {},
          "execution_count": 30
        }
      ],
      "source": [
        "Row_30"
      ]
    },
    {
      "cell_type": "markdown",
      "metadata": {
        "id": "-UMgcnnCci6K"
      },
      "source": [
        "### Merging all Rows to prepare the DataFrame"
      ]
    },
    {
      "cell_type": "code",
      "execution_count": 31,
      "metadata": {
        "id": "QZkDEElyci6L"
      },
      "outputs": [],
      "source": [
        "merge2=Row_1.append(Row_2,ignore_index=True)\n",
        "merge3=merge2.append(Row_3,ignore_index=True)\n",
        "merge4=merge3.append(Row_4,ignore_index=True)\n",
        "merge5=merge4.append(Row_5,ignore_index=True)\n",
        "merge6=merge5.append(Row_6,ignore_index=True)\n",
        "merge7=merge6.append(Row_7,ignore_index=True)\n",
        "merge8=merge7.append(Row_8,ignore_index=True)\n",
        "merge9=merge8.append(Row_9,ignore_index=True)\n",
        "merge10=merge9.append(Row_10,ignore_index=True)\n",
        "merge11=merge10.append(Row_11,ignore_index=True)\n",
        "merge12=merge11.append(Row_12,ignore_index=True)\n",
        "merge13=merge12.append(Row_13,ignore_index=True)\n",
        "merge14=merge13.append(Row_14,ignore_index=True)\n",
        "merge15=merge14.append(Row_15,ignore_index=True)\n",
        "merge16=merge15.append(Row_16,ignore_index=True)\n",
        "merge17=merge16.append(Row_17,ignore_index=True)\n",
        "merge18=merge17.append(Row_18,ignore_index=True)\n",
        "merge19=merge18.append(Row_19,ignore_index=True)\n",
        "merge20=merge19.append(Row_20,ignore_index=True)\n",
        "merge21=merge20.append(Row_21,ignore_index=True)\n",
        "merge22=merge21.append(Row_22,ignore_index=True)\n",
        "merge23=merge22.append(Row_23,ignore_index=True)\n",
        "merge24=merge23.append(Row_24,ignore_index=True)\n",
        "merge25=merge24.append(Row_25,ignore_index=True)\n",
        "merge26=merge25.append(Row_26,ignore_index=True)\n",
        "merge27=merge26.append(Row_27,ignore_index=True)\n",
        "merge28=merge27.append(Row_28,ignore_index=True)\n",
        "merge29=merge28.append(Row_29,ignore_index=True)\n",
        "merge30=merge29.append(Row_30,ignore_index=True)"
      ]
    },
    {
      "cell_type": "code",
      "execution_count": 32,
      "metadata": {
        "colab": {
          "base_uri": "https://localhost:8080/",
          "height": 1000
        },
        "id": "S26sqUEyci6L",
        "outputId": "408b31f0-acbe-428f-b590-3f65d7ac00ac"
      },
      "outputs": [
        {
          "output_type": "execute_result",
          "data": {
            "text/plain": [
              "    Day0  Day1  Day2  Day3  Day4  Day5  Day6  Day7  Day8  Day9  ...  Day79  \\\n",
              "0     50    44    75    39    32    58    73    57    52    67  ...     67   \n",
              "1     95    67    49    48    25    50    87    70    53    62  ...     43   \n",
              "2     71    44    56    35    71    77    58    43    44    51  ...     49   \n",
              "3     71    73    55    64    92    48    73    86    49   102  ...     47   \n",
              "4     54    40    84    75    39    67    43    48    56    89  ...     60   \n",
              "5     57    50    62    60    58    46    63    39    56    42  ...     57   \n",
              "6     52    66    37    72    75    74    85    75    57    63  ...     89   \n",
              "7     52    81    66    68    51    49    65    66    74    67  ...     71   \n",
              "8     61    44    57    67    66    34    44    42   102    45  ...     47   \n",
              "9     35    74    73    58    71    67    61    70    73    88  ...     69   \n",
              "10    62    85    76    54    44    56    38    62    46    88  ...     71   \n",
              "11    77    73    41    32    34    39    70    42    47    47  ...     74   \n",
              "12    74    47    70    91    62    74    79    46    51    82  ...     46   \n",
              "13    45    60    48    39    57    70    43    64    95    71  ...     99   \n",
              "14    54    67    90    49    40    56    72    44    52    48  ...     59   \n",
              "15    65    31    42    74    59    68    46    66    51    52  ...     48   \n",
              "16    40    73    61    87    74    47    26    76    60    84  ...     71   \n",
              "17    89    67    79    85    65    61    76    70    50    67  ...     73   \n",
              "18    53    56    71    69    60    58    50    77    60    64  ...     59   \n",
              "19    40    99    76    52    35    70    59    94   109    88  ...     56   \n",
              "20    55    74    32    76    54    69    50    70    61   104  ...     61   \n",
              "21    80    51    51    40    67    56    39    76    46    68  ...     80   \n",
              "22    66    59    71    61    67    75    37    44    72    38  ...     71   \n",
              "23    48    56    49    40    71    64    74    79    93    43  ...     73   \n",
              "24    68    44    40    44    63    58    60   103    61    64  ...     74   \n",
              "25    50   102    64    72    56    62   105    44    74    67  ...     62   \n",
              "26    51    74    62    79    56    72   101    69    73    59  ...     72   \n",
              "27    49    43    43    35    74    47    84    48    58    71  ...     43   \n",
              "28    47    89    62    56    38    57    64    50    59    65  ...     63   \n",
              "29    77    51    44    67    63    78    41    63    50    97  ...     65   \n",
              "\n",
              "    Day80  Day81  Day82  Day83  Day84  Day85  Day86  Day87  Day88  \n",
              "0      57     74     44     65     59     89    100     84     86  \n",
              "1      61     57     58     51     64     55     52     89     69  \n",
              "2      67     84     62     67     79     77     82     68     47  \n",
              "3      70     80     71     74     60     39     38     55     52  \n",
              "4      42     62     53     78    117     74     80     70     49  \n",
              "5      54     34     49     76     73     69     82     56     69  \n",
              "6      73    104     74     49     72     66     62     70     51  \n",
              "7      38     44     53     48     85     60     39     71     15  \n",
              "8      49     63     46     81     24     38     54     61     92  \n",
              "9      83     81     80     79     68     58     60     67     92  \n",
              "10     68     70     53     82     79     57     95     39     63  \n",
              "11     78     56     72     70     58     59     25     52     53  \n",
              "12     59     63     85     68     46     62     43     74     64  \n",
              "13     64     72     38     60     61     55     42     53     48  \n",
              "14     41     69     79     45     49     95     41     71     64  \n",
              "15    100     67     79     73     75     43     72     28     70  \n",
              "16     53     71     64     89     72     90     77     38     64  \n",
              "17     86     62     63     44     55     42     87     60     78  \n",
              "18     57     70     73     62     42     58     51     73     66  \n",
              "19     53     75     79     45     73     35     52     55     64  \n",
              "20     91     52     53     76     75     60     69     86     73  \n",
              "21     50     54     61     58     82     86     46     75     52  \n",
              "22     58     59     57     54     60     57     69     49     62  \n",
              "23     49    107     80     53     63     76     86     80     86  \n",
              "24     78     55     45     64     75     50     67     76     61  \n",
              "25     48     53     51     91     55     63     45     61     51  \n",
              "26     37     47     71     46     54     45     68     70     88  \n",
              "27     65     59     61     84     98     48     78     57     92  \n",
              "28     48     59     52     60     47     62     45     58     89  \n",
              "29     49     55     83     60     73     67     47     57     65  \n",
              "\n",
              "[30 rows x 89 columns]"
            ],
            "text/html": [
              "\n",
              "  <div id=\"df-e54d0d97-2d6c-422e-ac4a-aaa2365fd038\">\n",
              "    <div class=\"colab-df-container\">\n",
              "      <div>\n",
              "<style scoped>\n",
              "    .dataframe tbody tr th:only-of-type {\n",
              "        vertical-align: middle;\n",
              "    }\n",
              "\n",
              "    .dataframe tbody tr th {\n",
              "        vertical-align: top;\n",
              "    }\n",
              "\n",
              "    .dataframe thead th {\n",
              "        text-align: right;\n",
              "    }\n",
              "</style>\n",
              "<table border=\"1\" class=\"dataframe\">\n",
              "  <thead>\n",
              "    <tr style=\"text-align: right;\">\n",
              "      <th></th>\n",
              "      <th>Day0</th>\n",
              "      <th>Day1</th>\n",
              "      <th>Day2</th>\n",
              "      <th>Day3</th>\n",
              "      <th>Day4</th>\n",
              "      <th>Day5</th>\n",
              "      <th>Day6</th>\n",
              "      <th>Day7</th>\n",
              "      <th>Day8</th>\n",
              "      <th>Day9</th>\n",
              "      <th>...</th>\n",
              "      <th>Day79</th>\n",
              "      <th>Day80</th>\n",
              "      <th>Day81</th>\n",
              "      <th>Day82</th>\n",
              "      <th>Day83</th>\n",
              "      <th>Day84</th>\n",
              "      <th>Day85</th>\n",
              "      <th>Day86</th>\n",
              "      <th>Day87</th>\n",
              "      <th>Day88</th>\n",
              "    </tr>\n",
              "  </thead>\n",
              "  <tbody>\n",
              "    <tr>\n",
              "      <th>0</th>\n",
              "      <td>50</td>\n",
              "      <td>44</td>\n",
              "      <td>75</td>\n",
              "      <td>39</td>\n",
              "      <td>32</td>\n",
              "      <td>58</td>\n",
              "      <td>73</td>\n",
              "      <td>57</td>\n",
              "      <td>52</td>\n",
              "      <td>67</td>\n",
              "      <td>...</td>\n",
              "      <td>67</td>\n",
              "      <td>57</td>\n",
              "      <td>74</td>\n",
              "      <td>44</td>\n",
              "      <td>65</td>\n",
              "      <td>59</td>\n",
              "      <td>89</td>\n",
              "      <td>100</td>\n",
              "      <td>84</td>\n",
              "      <td>86</td>\n",
              "    </tr>\n",
              "    <tr>\n",
              "      <th>1</th>\n",
              "      <td>95</td>\n",
              "      <td>67</td>\n",
              "      <td>49</td>\n",
              "      <td>48</td>\n",
              "      <td>25</td>\n",
              "      <td>50</td>\n",
              "      <td>87</td>\n",
              "      <td>70</td>\n",
              "      <td>53</td>\n",
              "      <td>62</td>\n",
              "      <td>...</td>\n",
              "      <td>43</td>\n",
              "      <td>61</td>\n",
              "      <td>57</td>\n",
              "      <td>58</td>\n",
              "      <td>51</td>\n",
              "      <td>64</td>\n",
              "      <td>55</td>\n",
              "      <td>52</td>\n",
              "      <td>89</td>\n",
              "      <td>69</td>\n",
              "    </tr>\n",
              "    <tr>\n",
              "      <th>2</th>\n",
              "      <td>71</td>\n",
              "      <td>44</td>\n",
              "      <td>56</td>\n",
              "      <td>35</td>\n",
              "      <td>71</td>\n",
              "      <td>77</td>\n",
              "      <td>58</td>\n",
              "      <td>43</td>\n",
              "      <td>44</td>\n",
              "      <td>51</td>\n",
              "      <td>...</td>\n",
              "      <td>49</td>\n",
              "      <td>67</td>\n",
              "      <td>84</td>\n",
              "      <td>62</td>\n",
              "      <td>67</td>\n",
              "      <td>79</td>\n",
              "      <td>77</td>\n",
              "      <td>82</td>\n",
              "      <td>68</td>\n",
              "      <td>47</td>\n",
              "    </tr>\n",
              "    <tr>\n",
              "      <th>3</th>\n",
              "      <td>71</td>\n",
              "      <td>73</td>\n",
              "      <td>55</td>\n",
              "      <td>64</td>\n",
              "      <td>92</td>\n",
              "      <td>48</td>\n",
              "      <td>73</td>\n",
              "      <td>86</td>\n",
              "      <td>49</td>\n",
              "      <td>102</td>\n",
              "      <td>...</td>\n",
              "      <td>47</td>\n",
              "      <td>70</td>\n",
              "      <td>80</td>\n",
              "      <td>71</td>\n",
              "      <td>74</td>\n",
              "      <td>60</td>\n",
              "      <td>39</td>\n",
              "      <td>38</td>\n",
              "      <td>55</td>\n",
              "      <td>52</td>\n",
              "    </tr>\n",
              "    <tr>\n",
              "      <th>4</th>\n",
              "      <td>54</td>\n",
              "      <td>40</td>\n",
              "      <td>84</td>\n",
              "      <td>75</td>\n",
              "      <td>39</td>\n",
              "      <td>67</td>\n",
              "      <td>43</td>\n",
              "      <td>48</td>\n",
              "      <td>56</td>\n",
              "      <td>89</td>\n",
              "      <td>...</td>\n",
              "      <td>60</td>\n",
              "      <td>42</td>\n",
              "      <td>62</td>\n",
              "      <td>53</td>\n",
              "      <td>78</td>\n",
              "      <td>117</td>\n",
              "      <td>74</td>\n",
              "      <td>80</td>\n",
              "      <td>70</td>\n",
              "      <td>49</td>\n",
              "    </tr>\n",
              "    <tr>\n",
              "      <th>5</th>\n",
              "      <td>57</td>\n",
              "      <td>50</td>\n",
              "      <td>62</td>\n",
              "      <td>60</td>\n",
              "      <td>58</td>\n",
              "      <td>46</td>\n",
              "      <td>63</td>\n",
              "      <td>39</td>\n",
              "      <td>56</td>\n",
              "      <td>42</td>\n",
              "      <td>...</td>\n",
              "      <td>57</td>\n",
              "      <td>54</td>\n",
              "      <td>34</td>\n",
              "      <td>49</td>\n",
              "      <td>76</td>\n",
              "      <td>73</td>\n",
              "      <td>69</td>\n",
              "      <td>82</td>\n",
              "      <td>56</td>\n",
              "      <td>69</td>\n",
              "    </tr>\n",
              "    <tr>\n",
              "      <th>6</th>\n",
              "      <td>52</td>\n",
              "      <td>66</td>\n",
              "      <td>37</td>\n",
              "      <td>72</td>\n",
              "      <td>75</td>\n",
              "      <td>74</td>\n",
              "      <td>85</td>\n",
              "      <td>75</td>\n",
              "      <td>57</td>\n",
              "      <td>63</td>\n",
              "      <td>...</td>\n",
              "      <td>89</td>\n",
              "      <td>73</td>\n",
              "      <td>104</td>\n",
              "      <td>74</td>\n",
              "      <td>49</td>\n",
              "      <td>72</td>\n",
              "      <td>66</td>\n",
              "      <td>62</td>\n",
              "      <td>70</td>\n",
              "      <td>51</td>\n",
              "    </tr>\n",
              "    <tr>\n",
              "      <th>7</th>\n",
              "      <td>52</td>\n",
              "      <td>81</td>\n",
              "      <td>66</td>\n",
              "      <td>68</td>\n",
              "      <td>51</td>\n",
              "      <td>49</td>\n",
              "      <td>65</td>\n",
              "      <td>66</td>\n",
              "      <td>74</td>\n",
              "      <td>67</td>\n",
              "      <td>...</td>\n",
              "      <td>71</td>\n",
              "      <td>38</td>\n",
              "      <td>44</td>\n",
              "      <td>53</td>\n",
              "      <td>48</td>\n",
              "      <td>85</td>\n",
              "      <td>60</td>\n",
              "      <td>39</td>\n",
              "      <td>71</td>\n",
              "      <td>15</td>\n",
              "    </tr>\n",
              "    <tr>\n",
              "      <th>8</th>\n",
              "      <td>61</td>\n",
              "      <td>44</td>\n",
              "      <td>57</td>\n",
              "      <td>67</td>\n",
              "      <td>66</td>\n",
              "      <td>34</td>\n",
              "      <td>44</td>\n",
              "      <td>42</td>\n",
              "      <td>102</td>\n",
              "      <td>45</td>\n",
              "      <td>...</td>\n",
              "      <td>47</td>\n",
              "      <td>49</td>\n",
              "      <td>63</td>\n",
              "      <td>46</td>\n",
              "      <td>81</td>\n",
              "      <td>24</td>\n",
              "      <td>38</td>\n",
              "      <td>54</td>\n",
              "      <td>61</td>\n",
              "      <td>92</td>\n",
              "    </tr>\n",
              "    <tr>\n",
              "      <th>9</th>\n",
              "      <td>35</td>\n",
              "      <td>74</td>\n",
              "      <td>73</td>\n",
              "      <td>58</td>\n",
              "      <td>71</td>\n",
              "      <td>67</td>\n",
              "      <td>61</td>\n",
              "      <td>70</td>\n",
              "      <td>73</td>\n",
              "      <td>88</td>\n",
              "      <td>...</td>\n",
              "      <td>69</td>\n",
              "      <td>83</td>\n",
              "      <td>81</td>\n",
              "      <td>80</td>\n",
              "      <td>79</td>\n",
              "      <td>68</td>\n",
              "      <td>58</td>\n",
              "      <td>60</td>\n",
              "      <td>67</td>\n",
              "      <td>92</td>\n",
              "    </tr>\n",
              "    <tr>\n",
              "      <th>10</th>\n",
              "      <td>62</td>\n",
              "      <td>85</td>\n",
              "      <td>76</td>\n",
              "      <td>54</td>\n",
              "      <td>44</td>\n",
              "      <td>56</td>\n",
              "      <td>38</td>\n",
              "      <td>62</td>\n",
              "      <td>46</td>\n",
              "      <td>88</td>\n",
              "      <td>...</td>\n",
              "      <td>71</td>\n",
              "      <td>68</td>\n",
              "      <td>70</td>\n",
              "      <td>53</td>\n",
              "      <td>82</td>\n",
              "      <td>79</td>\n",
              "      <td>57</td>\n",
              "      <td>95</td>\n",
              "      <td>39</td>\n",
              "      <td>63</td>\n",
              "    </tr>\n",
              "    <tr>\n",
              "      <th>11</th>\n",
              "      <td>77</td>\n",
              "      <td>73</td>\n",
              "      <td>41</td>\n",
              "      <td>32</td>\n",
              "      <td>34</td>\n",
              "      <td>39</td>\n",
              "      <td>70</td>\n",
              "      <td>42</td>\n",
              "      <td>47</td>\n",
              "      <td>47</td>\n",
              "      <td>...</td>\n",
              "      <td>74</td>\n",
              "      <td>78</td>\n",
              "      <td>56</td>\n",
              "      <td>72</td>\n",
              "      <td>70</td>\n",
              "      <td>58</td>\n",
              "      <td>59</td>\n",
              "      <td>25</td>\n",
              "      <td>52</td>\n",
              "      <td>53</td>\n",
              "    </tr>\n",
              "    <tr>\n",
              "      <th>12</th>\n",
              "      <td>74</td>\n",
              "      <td>47</td>\n",
              "      <td>70</td>\n",
              "      <td>91</td>\n",
              "      <td>62</td>\n",
              "      <td>74</td>\n",
              "      <td>79</td>\n",
              "      <td>46</td>\n",
              "      <td>51</td>\n",
              "      <td>82</td>\n",
              "      <td>...</td>\n",
              "      <td>46</td>\n",
              "      <td>59</td>\n",
              "      <td>63</td>\n",
              "      <td>85</td>\n",
              "      <td>68</td>\n",
              "      <td>46</td>\n",
              "      <td>62</td>\n",
              "      <td>43</td>\n",
              "      <td>74</td>\n",
              "      <td>64</td>\n",
              "    </tr>\n",
              "    <tr>\n",
              "      <th>13</th>\n",
              "      <td>45</td>\n",
              "      <td>60</td>\n",
              "      <td>48</td>\n",
              "      <td>39</td>\n",
              "      <td>57</td>\n",
              "      <td>70</td>\n",
              "      <td>43</td>\n",
              "      <td>64</td>\n",
              "      <td>95</td>\n",
              "      <td>71</td>\n",
              "      <td>...</td>\n",
              "      <td>99</td>\n",
              "      <td>64</td>\n",
              "      <td>72</td>\n",
              "      <td>38</td>\n",
              "      <td>60</td>\n",
              "      <td>61</td>\n",
              "      <td>55</td>\n",
              "      <td>42</td>\n",
              "      <td>53</td>\n",
              "      <td>48</td>\n",
              "    </tr>\n",
              "    <tr>\n",
              "      <th>14</th>\n",
              "      <td>54</td>\n",
              "      <td>67</td>\n",
              "      <td>90</td>\n",
              "      <td>49</td>\n",
              "      <td>40</td>\n",
              "      <td>56</td>\n",
              "      <td>72</td>\n",
              "      <td>44</td>\n",
              "      <td>52</td>\n",
              "      <td>48</td>\n",
              "      <td>...</td>\n",
              "      <td>59</td>\n",
              "      <td>41</td>\n",
              "      <td>69</td>\n",
              "      <td>79</td>\n",
              "      <td>45</td>\n",
              "      <td>49</td>\n",
              "      <td>95</td>\n",
              "      <td>41</td>\n",
              "      <td>71</td>\n",
              "      <td>64</td>\n",
              "    </tr>\n",
              "    <tr>\n",
              "      <th>15</th>\n",
              "      <td>65</td>\n",
              "      <td>31</td>\n",
              "      <td>42</td>\n",
              "      <td>74</td>\n",
              "      <td>59</td>\n",
              "      <td>68</td>\n",
              "      <td>46</td>\n",
              "      <td>66</td>\n",
              "      <td>51</td>\n",
              "      <td>52</td>\n",
              "      <td>...</td>\n",
              "      <td>48</td>\n",
              "      <td>100</td>\n",
              "      <td>67</td>\n",
              "      <td>79</td>\n",
              "      <td>73</td>\n",
              "      <td>75</td>\n",
              "      <td>43</td>\n",
              "      <td>72</td>\n",
              "      <td>28</td>\n",
              "      <td>70</td>\n",
              "    </tr>\n",
              "    <tr>\n",
              "      <th>16</th>\n",
              "      <td>40</td>\n",
              "      <td>73</td>\n",
              "      <td>61</td>\n",
              "      <td>87</td>\n",
              "      <td>74</td>\n",
              "      <td>47</td>\n",
              "      <td>26</td>\n",
              "      <td>76</td>\n",
              "      <td>60</td>\n",
              "      <td>84</td>\n",
              "      <td>...</td>\n",
              "      <td>71</td>\n",
              "      <td>53</td>\n",
              "      <td>71</td>\n",
              "      <td>64</td>\n",
              "      <td>89</td>\n",
              "      <td>72</td>\n",
              "      <td>90</td>\n",
              "      <td>77</td>\n",
              "      <td>38</td>\n",
              "      <td>64</td>\n",
              "    </tr>\n",
              "    <tr>\n",
              "      <th>17</th>\n",
              "      <td>89</td>\n",
              "      <td>67</td>\n",
              "      <td>79</td>\n",
              "      <td>85</td>\n",
              "      <td>65</td>\n",
              "      <td>61</td>\n",
              "      <td>76</td>\n",
              "      <td>70</td>\n",
              "      <td>50</td>\n",
              "      <td>67</td>\n",
              "      <td>...</td>\n",
              "      <td>73</td>\n",
              "      <td>86</td>\n",
              "      <td>62</td>\n",
              "      <td>63</td>\n",
              "      <td>44</td>\n",
              "      <td>55</td>\n",
              "      <td>42</td>\n",
              "      <td>87</td>\n",
              "      <td>60</td>\n",
              "      <td>78</td>\n",
              "    </tr>\n",
              "    <tr>\n",
              "      <th>18</th>\n",
              "      <td>53</td>\n",
              "      <td>56</td>\n",
              "      <td>71</td>\n",
              "      <td>69</td>\n",
              "      <td>60</td>\n",
              "      <td>58</td>\n",
              "      <td>50</td>\n",
              "      <td>77</td>\n",
              "      <td>60</td>\n",
              "      <td>64</td>\n",
              "      <td>...</td>\n",
              "      <td>59</td>\n",
              "      <td>57</td>\n",
              "      <td>70</td>\n",
              "      <td>73</td>\n",
              "      <td>62</td>\n",
              "      <td>42</td>\n",
              "      <td>58</td>\n",
              "      <td>51</td>\n",
              "      <td>73</td>\n",
              "      <td>66</td>\n",
              "    </tr>\n",
              "    <tr>\n",
              "      <th>19</th>\n",
              "      <td>40</td>\n",
              "      <td>99</td>\n",
              "      <td>76</td>\n",
              "      <td>52</td>\n",
              "      <td>35</td>\n",
              "      <td>70</td>\n",
              "      <td>59</td>\n",
              "      <td>94</td>\n",
              "      <td>109</td>\n",
              "      <td>88</td>\n",
              "      <td>...</td>\n",
              "      <td>56</td>\n",
              "      <td>53</td>\n",
              "      <td>75</td>\n",
              "      <td>79</td>\n",
              "      <td>45</td>\n",
              "      <td>73</td>\n",
              "      <td>35</td>\n",
              "      <td>52</td>\n",
              "      <td>55</td>\n",
              "      <td>64</td>\n",
              "    </tr>\n",
              "    <tr>\n",
              "      <th>20</th>\n",
              "      <td>55</td>\n",
              "      <td>74</td>\n",
              "      <td>32</td>\n",
              "      <td>76</td>\n",
              "      <td>54</td>\n",
              "      <td>69</td>\n",
              "      <td>50</td>\n",
              "      <td>70</td>\n",
              "      <td>61</td>\n",
              "      <td>104</td>\n",
              "      <td>...</td>\n",
              "      <td>61</td>\n",
              "      <td>91</td>\n",
              "      <td>52</td>\n",
              "      <td>53</td>\n",
              "      <td>76</td>\n",
              "      <td>75</td>\n",
              "      <td>60</td>\n",
              "      <td>69</td>\n",
              "      <td>86</td>\n",
              "      <td>73</td>\n",
              "    </tr>\n",
              "    <tr>\n",
              "      <th>21</th>\n",
              "      <td>80</td>\n",
              "      <td>51</td>\n",
              "      <td>51</td>\n",
              "      <td>40</td>\n",
              "      <td>67</td>\n",
              "      <td>56</td>\n",
              "      <td>39</td>\n",
              "      <td>76</td>\n",
              "      <td>46</td>\n",
              "      <td>68</td>\n",
              "      <td>...</td>\n",
              "      <td>80</td>\n",
              "      <td>50</td>\n",
              "      <td>54</td>\n",
              "      <td>61</td>\n",
              "      <td>58</td>\n",
              "      <td>82</td>\n",
              "      <td>86</td>\n",
              "      <td>46</td>\n",
              "      <td>75</td>\n",
              "      <td>52</td>\n",
              "    </tr>\n",
              "    <tr>\n",
              "      <th>22</th>\n",
              "      <td>66</td>\n",
              "      <td>59</td>\n",
              "      <td>71</td>\n",
              "      <td>61</td>\n",
              "      <td>67</td>\n",
              "      <td>75</td>\n",
              "      <td>37</td>\n",
              "      <td>44</td>\n",
              "      <td>72</td>\n",
              "      <td>38</td>\n",
              "      <td>...</td>\n",
              "      <td>71</td>\n",
              "      <td>58</td>\n",
              "      <td>59</td>\n",
              "      <td>57</td>\n",
              "      <td>54</td>\n",
              "      <td>60</td>\n",
              "      <td>57</td>\n",
              "      <td>69</td>\n",
              "      <td>49</td>\n",
              "      <td>62</td>\n",
              "    </tr>\n",
              "    <tr>\n",
              "      <th>23</th>\n",
              "      <td>48</td>\n",
              "      <td>56</td>\n",
              "      <td>49</td>\n",
              "      <td>40</td>\n",
              "      <td>71</td>\n",
              "      <td>64</td>\n",
              "      <td>74</td>\n",
              "      <td>79</td>\n",
              "      <td>93</td>\n",
              "      <td>43</td>\n",
              "      <td>...</td>\n",
              "      <td>73</td>\n",
              "      <td>49</td>\n",
              "      <td>107</td>\n",
              "      <td>80</td>\n",
              "      <td>53</td>\n",
              "      <td>63</td>\n",
              "      <td>76</td>\n",
              "      <td>86</td>\n",
              "      <td>80</td>\n",
              "      <td>86</td>\n",
              "    </tr>\n",
              "    <tr>\n",
              "      <th>24</th>\n",
              "      <td>68</td>\n",
              "      <td>44</td>\n",
              "      <td>40</td>\n",
              "      <td>44</td>\n",
              "      <td>63</td>\n",
              "      <td>58</td>\n",
              "      <td>60</td>\n",
              "      <td>103</td>\n",
              "      <td>61</td>\n",
              "      <td>64</td>\n",
              "      <td>...</td>\n",
              "      <td>74</td>\n",
              "      <td>78</td>\n",
              "      <td>55</td>\n",
              "      <td>45</td>\n",
              "      <td>64</td>\n",
              "      <td>75</td>\n",
              "      <td>50</td>\n",
              "      <td>67</td>\n",
              "      <td>76</td>\n",
              "      <td>61</td>\n",
              "    </tr>\n",
              "    <tr>\n",
              "      <th>25</th>\n",
              "      <td>50</td>\n",
              "      <td>102</td>\n",
              "      <td>64</td>\n",
              "      <td>72</td>\n",
              "      <td>56</td>\n",
              "      <td>62</td>\n",
              "      <td>105</td>\n",
              "      <td>44</td>\n",
              "      <td>74</td>\n",
              "      <td>67</td>\n",
              "      <td>...</td>\n",
              "      <td>62</td>\n",
              "      <td>48</td>\n",
              "      <td>53</td>\n",
              "      <td>51</td>\n",
              "      <td>91</td>\n",
              "      <td>55</td>\n",
              "      <td>63</td>\n",
              "      <td>45</td>\n",
              "      <td>61</td>\n",
              "      <td>51</td>\n",
              "    </tr>\n",
              "    <tr>\n",
              "      <th>26</th>\n",
              "      <td>51</td>\n",
              "      <td>74</td>\n",
              "      <td>62</td>\n",
              "      <td>79</td>\n",
              "      <td>56</td>\n",
              "      <td>72</td>\n",
              "      <td>101</td>\n",
              "      <td>69</td>\n",
              "      <td>73</td>\n",
              "      <td>59</td>\n",
              "      <td>...</td>\n",
              "      <td>72</td>\n",
              "      <td>37</td>\n",
              "      <td>47</td>\n",
              "      <td>71</td>\n",
              "      <td>46</td>\n",
              "      <td>54</td>\n",
              "      <td>45</td>\n",
              "      <td>68</td>\n",
              "      <td>70</td>\n",
              "      <td>88</td>\n",
              "    </tr>\n",
              "    <tr>\n",
              "      <th>27</th>\n",
              "      <td>49</td>\n",
              "      <td>43</td>\n",
              "      <td>43</td>\n",
              "      <td>35</td>\n",
              "      <td>74</td>\n",
              "      <td>47</td>\n",
              "      <td>84</td>\n",
              "      <td>48</td>\n",
              "      <td>58</td>\n",
              "      <td>71</td>\n",
              "      <td>...</td>\n",
              "      <td>43</td>\n",
              "      <td>65</td>\n",
              "      <td>59</td>\n",
              "      <td>61</td>\n",
              "      <td>84</td>\n",
              "      <td>98</td>\n",
              "      <td>48</td>\n",
              "      <td>78</td>\n",
              "      <td>57</td>\n",
              "      <td>92</td>\n",
              "    </tr>\n",
              "    <tr>\n",
              "      <th>28</th>\n",
              "      <td>47</td>\n",
              "      <td>89</td>\n",
              "      <td>62</td>\n",
              "      <td>56</td>\n",
              "      <td>38</td>\n",
              "      <td>57</td>\n",
              "      <td>64</td>\n",
              "      <td>50</td>\n",
              "      <td>59</td>\n",
              "      <td>65</td>\n",
              "      <td>...</td>\n",
              "      <td>63</td>\n",
              "      <td>48</td>\n",
              "      <td>59</td>\n",
              "      <td>52</td>\n",
              "      <td>60</td>\n",
              "      <td>47</td>\n",
              "      <td>62</td>\n",
              "      <td>45</td>\n",
              "      <td>58</td>\n",
              "      <td>89</td>\n",
              "    </tr>\n",
              "    <tr>\n",
              "      <th>29</th>\n",
              "      <td>77</td>\n",
              "      <td>51</td>\n",
              "      <td>44</td>\n",
              "      <td>67</td>\n",
              "      <td>63</td>\n",
              "      <td>78</td>\n",
              "      <td>41</td>\n",
              "      <td>63</td>\n",
              "      <td>50</td>\n",
              "      <td>97</td>\n",
              "      <td>...</td>\n",
              "      <td>65</td>\n",
              "      <td>49</td>\n",
              "      <td>55</td>\n",
              "      <td>83</td>\n",
              "      <td>60</td>\n",
              "      <td>73</td>\n",
              "      <td>67</td>\n",
              "      <td>47</td>\n",
              "      <td>57</td>\n",
              "      <td>65</td>\n",
              "    </tr>\n",
              "  </tbody>\n",
              "</table>\n",
              "<p>30 rows × 89 columns</p>\n",
              "</div>\n",
              "      <button class=\"colab-df-convert\" onclick=\"convertToInteractive('df-e54d0d97-2d6c-422e-ac4a-aaa2365fd038')\"\n",
              "              title=\"Convert this dataframe to an interactive table.\"\n",
              "              style=\"display:none;\">\n",
              "        \n",
              "  <svg xmlns=\"http://www.w3.org/2000/svg\" height=\"24px\"viewBox=\"0 0 24 24\"\n",
              "       width=\"24px\">\n",
              "    <path d=\"M0 0h24v24H0V0z\" fill=\"none\"/>\n",
              "    <path d=\"M18.56 5.44l.94 2.06.94-2.06 2.06-.94-2.06-.94-.94-2.06-.94 2.06-2.06.94zm-11 1L8.5 8.5l.94-2.06 2.06-.94-2.06-.94L8.5 2.5l-.94 2.06-2.06.94zm10 10l.94 2.06.94-2.06 2.06-.94-2.06-.94-.94-2.06-.94 2.06-2.06.94z\"/><path d=\"M17.41 7.96l-1.37-1.37c-.4-.4-.92-.59-1.43-.59-.52 0-1.04.2-1.43.59L10.3 9.45l-7.72 7.72c-.78.78-.78 2.05 0 2.83L4 21.41c.39.39.9.59 1.41.59.51 0 1.02-.2 1.41-.59l7.78-7.78 2.81-2.81c.8-.78.8-2.07 0-2.86zM5.41 20L4 18.59l7.72-7.72 1.47 1.35L5.41 20z\"/>\n",
              "  </svg>\n",
              "      </button>\n",
              "      \n",
              "  <style>\n",
              "    .colab-df-container {\n",
              "      display:flex;\n",
              "      flex-wrap:wrap;\n",
              "      gap: 12px;\n",
              "    }\n",
              "\n",
              "    .colab-df-convert {\n",
              "      background-color: #E8F0FE;\n",
              "      border: none;\n",
              "      border-radius: 50%;\n",
              "      cursor: pointer;\n",
              "      display: none;\n",
              "      fill: #1967D2;\n",
              "      height: 32px;\n",
              "      padding: 0 0 0 0;\n",
              "      width: 32px;\n",
              "    }\n",
              "\n",
              "    .colab-df-convert:hover {\n",
              "      background-color: #E2EBFA;\n",
              "      box-shadow: 0px 1px 2px rgba(60, 64, 67, 0.3), 0px 1px 3px 1px rgba(60, 64, 67, 0.15);\n",
              "      fill: #174EA6;\n",
              "    }\n",
              "\n",
              "    [theme=dark] .colab-df-convert {\n",
              "      background-color: #3B4455;\n",
              "      fill: #D2E3FC;\n",
              "    }\n",
              "\n",
              "    [theme=dark] .colab-df-convert:hover {\n",
              "      background-color: #434B5C;\n",
              "      box-shadow: 0px 1px 3px 1px rgba(0, 0, 0, 0.15);\n",
              "      filter: drop-shadow(0px 1px 2px rgba(0, 0, 0, 0.3));\n",
              "      fill: #FFFFFF;\n",
              "    }\n",
              "  </style>\n",
              "\n",
              "      <script>\n",
              "        const buttonEl =\n",
              "          document.querySelector('#df-e54d0d97-2d6c-422e-ac4a-aaa2365fd038 button.colab-df-convert');\n",
              "        buttonEl.style.display =\n",
              "          google.colab.kernel.accessAllowed ? 'block' : 'none';\n",
              "\n",
              "        async function convertToInteractive(key) {\n",
              "          const element = document.querySelector('#df-e54d0d97-2d6c-422e-ac4a-aaa2365fd038');\n",
              "          const dataTable =\n",
              "            await google.colab.kernel.invokeFunction('convertToInteractive',\n",
              "                                                     [key], {});\n",
              "          if (!dataTable) return;\n",
              "\n",
              "          const docLinkHtml = 'Like what you see? Visit the ' +\n",
              "            '<a target=\"_blank\" href=https://colab.research.google.com/notebooks/data_table.ipynb>data table notebook</a>'\n",
              "            + ' to learn more about interactive tables.';\n",
              "          element.innerHTML = '';\n",
              "          dataTable['output_type'] = 'display_data';\n",
              "          await google.colab.output.renderOutput(dataTable, element);\n",
              "          const docLink = document.createElement('div');\n",
              "          docLink.innerHTML = docLinkHtml;\n",
              "          element.appendChild(docLink);\n",
              "        }\n",
              "      </script>\n",
              "    </div>\n",
              "  </div>\n",
              "  "
            ]
          },
          "metadata": {},
          "execution_count": 32
        }
      ],
      "source": [
        "merge30"
      ]
    },
    {
      "cell_type": "markdown",
      "metadata": {
        "id": "b7wKBDhGci6L"
      },
      "source": [
        "### Month-wise Aggregated values from April_2015 till Sept_2017\n"
      ]
    },
    {
      "cell_type": "code",
      "execution_count": 33,
      "metadata": {
        "id": "BPg5t4W4ci6M"
      },
      "outputs": [],
      "source": [
        "monthlyquantity = daily_Sales.groupby([(daily_Sales.index.year), (daily_Sales.index.month)])['Order Item Quantity'].sum().astype(int)\n",
        "monthlydiscount = daily_Sales.groupby([(daily_Sales.index.year), (daily_Sales.index.month)])['Order Item Discount'].sum().astype(int)"
      ]
    },
    {
      "cell_type": "markdown",
      "metadata": {
        "id": "0uZ86jyCci6M"
      },
      "source": [
        "### Convert into a dataframe"
      ]
    },
    {
      "cell_type": "code",
      "execution_count": 34,
      "metadata": {
        "id": "MkrwJoXwci6N"
      },
      "outputs": [],
      "source": [
        "Monthly_Quantity=pd.DataFrame(monthlyquantity)\n",
        "Monthly_Discount=pd.DataFrame(monthlydiscount)"
      ]
    },
    {
      "cell_type": "code",
      "execution_count": 35,
      "metadata": {
        "id": "3XMDNfnzci6N"
      },
      "outputs": [],
      "source": [
        "a = Monthly_Quantity.index.get_level_values(0)\n",
        "b = Monthly_Quantity.index.get_level_values(1)\n",
        "c = Monthly_Discount.index.get_level_values(0)\n",
        "e = Monthly_Discount.index.get_level_values(1)"
      ]
    },
    {
      "cell_type": "code",
      "execution_count": 36,
      "metadata": {
        "id": "yOkiQEWcci6N"
      },
      "outputs": [],
      "source": [
        "Monthly_Quantity['Index'] = pd.to_datetime(a* 10000 + b * 100 + 1, format=\"%Y%m%d\")\n",
        "Monthly_Discount['Index'] = pd.to_datetime(c* 10000 + e * 100 + 1, format=\"%Y%m%d\")"
      ]
    },
    {
      "cell_type": "code",
      "execution_count": 37,
      "metadata": {
        "id": "iZ5O0QVWci6N"
      },
      "outputs": [],
      "source": [
        "Monthly_Quantity.set_index('Index', append=True, inplace=True)\n",
        "Monthly_Discount.set_index('Index', append=True, inplace=True)"
      ]
    },
    {
      "cell_type": "code",
      "execution_count": 38,
      "metadata": {
        "id": "ksv0gMKfci6N"
      },
      "outputs": [],
      "source": [
        "Monthly_Quantity=Monthly_Quantity.droplevel(0)\n",
        "Monthly_Quantity=Monthly_Quantity.droplevel(0)\n",
        "Monthly_Discount=Monthly_Discount.droplevel(0)\n",
        "Monthly_Discount=Monthly_Discount.droplevel(0)"
      ]
    },
    {
      "cell_type": "code",
      "execution_count": 39,
      "metadata": {
        "colab": {
          "base_uri": "https://localhost:8080/",
          "height": 237
        },
        "id": "3vsIp6nxci6O",
        "outputId": "ce49d1e7-9b25-4c5d-8c98-071a41cb5592"
      },
      "outputs": [
        {
          "output_type": "execute_result",
          "data": {
            "text/plain": [
              "            Order Item Quantity\n",
              "Index                          \n",
              "2017-06-01                 1889\n",
              "2017-07-01                 1867\n",
              "2017-08-01                 1926\n",
              "2017-09-01                 1969\n",
              "2017-10-01                   78"
            ],
            "text/html": [
              "\n",
              "  <div id=\"df-c954bdeb-e549-4786-ab7f-05fbafdf1387\">\n",
              "    <div class=\"colab-df-container\">\n",
              "      <div>\n",
              "<style scoped>\n",
              "    .dataframe tbody tr th:only-of-type {\n",
              "        vertical-align: middle;\n",
              "    }\n",
              "\n",
              "    .dataframe tbody tr th {\n",
              "        vertical-align: top;\n",
              "    }\n",
              "\n",
              "    .dataframe thead th {\n",
              "        text-align: right;\n",
              "    }\n",
              "</style>\n",
              "<table border=\"1\" class=\"dataframe\">\n",
              "  <thead>\n",
              "    <tr style=\"text-align: right;\">\n",
              "      <th></th>\n",
              "      <th>Order Item Quantity</th>\n",
              "    </tr>\n",
              "    <tr>\n",
              "      <th>Index</th>\n",
              "      <th></th>\n",
              "    </tr>\n",
              "  </thead>\n",
              "  <tbody>\n",
              "    <tr>\n",
              "      <th>2017-06-01</th>\n",
              "      <td>1889</td>\n",
              "    </tr>\n",
              "    <tr>\n",
              "      <th>2017-07-01</th>\n",
              "      <td>1867</td>\n",
              "    </tr>\n",
              "    <tr>\n",
              "      <th>2017-08-01</th>\n",
              "      <td>1926</td>\n",
              "    </tr>\n",
              "    <tr>\n",
              "      <th>2017-09-01</th>\n",
              "      <td>1969</td>\n",
              "    </tr>\n",
              "    <tr>\n",
              "      <th>2017-10-01</th>\n",
              "      <td>78</td>\n",
              "    </tr>\n",
              "  </tbody>\n",
              "</table>\n",
              "</div>\n",
              "      <button class=\"colab-df-convert\" onclick=\"convertToInteractive('df-c954bdeb-e549-4786-ab7f-05fbafdf1387')\"\n",
              "              title=\"Convert this dataframe to an interactive table.\"\n",
              "              style=\"display:none;\">\n",
              "        \n",
              "  <svg xmlns=\"http://www.w3.org/2000/svg\" height=\"24px\"viewBox=\"0 0 24 24\"\n",
              "       width=\"24px\">\n",
              "    <path d=\"M0 0h24v24H0V0z\" fill=\"none\"/>\n",
              "    <path d=\"M18.56 5.44l.94 2.06.94-2.06 2.06-.94-2.06-.94-.94-2.06-.94 2.06-2.06.94zm-11 1L8.5 8.5l.94-2.06 2.06-.94-2.06-.94L8.5 2.5l-.94 2.06-2.06.94zm10 10l.94 2.06.94-2.06 2.06-.94-2.06-.94-.94-2.06-.94 2.06-2.06.94z\"/><path d=\"M17.41 7.96l-1.37-1.37c-.4-.4-.92-.59-1.43-.59-.52 0-1.04.2-1.43.59L10.3 9.45l-7.72 7.72c-.78.78-.78 2.05 0 2.83L4 21.41c.39.39.9.59 1.41.59.51 0 1.02-.2 1.41-.59l7.78-7.78 2.81-2.81c.8-.78.8-2.07 0-2.86zM5.41 20L4 18.59l7.72-7.72 1.47 1.35L5.41 20z\"/>\n",
              "  </svg>\n",
              "      </button>\n",
              "      \n",
              "  <style>\n",
              "    .colab-df-container {\n",
              "      display:flex;\n",
              "      flex-wrap:wrap;\n",
              "      gap: 12px;\n",
              "    }\n",
              "\n",
              "    .colab-df-convert {\n",
              "      background-color: #E8F0FE;\n",
              "      border: none;\n",
              "      border-radius: 50%;\n",
              "      cursor: pointer;\n",
              "      display: none;\n",
              "      fill: #1967D2;\n",
              "      height: 32px;\n",
              "      padding: 0 0 0 0;\n",
              "      width: 32px;\n",
              "    }\n",
              "\n",
              "    .colab-df-convert:hover {\n",
              "      background-color: #E2EBFA;\n",
              "      box-shadow: 0px 1px 2px rgba(60, 64, 67, 0.3), 0px 1px 3px 1px rgba(60, 64, 67, 0.15);\n",
              "      fill: #174EA6;\n",
              "    }\n",
              "\n",
              "    [theme=dark] .colab-df-convert {\n",
              "      background-color: #3B4455;\n",
              "      fill: #D2E3FC;\n",
              "    }\n",
              "\n",
              "    [theme=dark] .colab-df-convert:hover {\n",
              "      background-color: #434B5C;\n",
              "      box-shadow: 0px 1px 3px 1px rgba(0, 0, 0, 0.15);\n",
              "      filter: drop-shadow(0px 1px 2px rgba(0, 0, 0, 0.3));\n",
              "      fill: #FFFFFF;\n",
              "    }\n",
              "  </style>\n",
              "\n",
              "      <script>\n",
              "        const buttonEl =\n",
              "          document.querySelector('#df-c954bdeb-e549-4786-ab7f-05fbafdf1387 button.colab-df-convert');\n",
              "        buttonEl.style.display =\n",
              "          google.colab.kernel.accessAllowed ? 'block' : 'none';\n",
              "\n",
              "        async function convertToInteractive(key) {\n",
              "          const element = document.querySelector('#df-c954bdeb-e549-4786-ab7f-05fbafdf1387');\n",
              "          const dataTable =\n",
              "            await google.colab.kernel.invokeFunction('convertToInteractive',\n",
              "                                                     [key], {});\n",
              "          if (!dataTable) return;\n",
              "\n",
              "          const docLinkHtml = 'Like what you see? Visit the ' +\n",
              "            '<a target=\"_blank\" href=https://colab.research.google.com/notebooks/data_table.ipynb>data table notebook</a>'\n",
              "            + ' to learn more about interactive tables.';\n",
              "          element.innerHTML = '';\n",
              "          dataTable['output_type'] = 'display_data';\n",
              "          await google.colab.output.renderOutput(dataTable, element);\n",
              "          const docLink = document.createElement('div');\n",
              "          docLink.innerHTML = docLinkHtml;\n",
              "          element.appendChild(docLink);\n",
              "        }\n",
              "      </script>\n",
              "    </div>\n",
              "  </div>\n",
              "  "
            ]
          },
          "metadata": {},
          "execution_count": 39
        }
      ],
      "source": [
        "Monthly_Quantity.tail()"
      ]
    },
    {
      "cell_type": "code",
      "execution_count": 40,
      "metadata": {
        "colab": {
          "base_uri": "https://localhost:8080/"
        },
        "id": "D0AMaJhoci6O",
        "outputId": "9f49d93d-cd72-4f90-fafd-5a2b4f299df1"
      },
      "outputs": [
        {
          "output_type": "execute_result",
          "data": {
            "text/plain": [
              "(34, 1)"
            ]
          },
          "metadata": {},
          "execution_count": 40
        }
      ],
      "source": [
        "Monthly_Quantity.shape"
      ]
    },
    {
      "cell_type": "markdown",
      "metadata": {
        "id": "y6GOsf-xci6O"
      },
      "source": [
        "### Slicing and Selecting monthly Items sold from April_2015 till Sept_2017\n"
      ]
    },
    {
      "cell_type": "code",
      "execution_count": 41,
      "metadata": {
        "id": "i828yxJfci6O"
      },
      "outputs": [],
      "source": [
        "MonthlyDiscount = Monthly_Discount.iloc[3:33]\n",
        "MonthlyQuantity = Monthly_Quantity.iloc[3:33]"
      ]
    },
    {
      "cell_type": "code",
      "execution_count": 42,
      "metadata": {
        "colab": {
          "base_uri": "https://localhost:8080/"
        },
        "id": "VaXdZX4Tci6O",
        "outputId": "674be611-e4ce-4fd8-b2bd-c2fd4f81142c"
      },
      "outputs": [
        {
          "output_type": "execute_result",
          "data": {
            "text/plain": [
              "(30, 1)"
            ]
          },
          "metadata": {},
          "execution_count": 42
        }
      ],
      "source": [
        "MonthlyQuantity.shape\n"
      ]
    },
    {
      "cell_type": "markdown",
      "metadata": {
        "id": "mMEHeF-aci6P"
      },
      "source": [
        "### List down the values of monthly Item Quantity sold from April_2015 till Sept_2017"
      ]
    },
    {
      "cell_type": "code",
      "execution_count": 43,
      "metadata": {
        "colab": {
          "base_uri": "https://localhost:8080/"
        },
        "id": "iQDxTGkVci6P",
        "outputId": "2a4c1185-03d9-43c4-c40a-26b4fcdd4dc4"
      },
      "outputs": [
        {
          "output_type": "stream",
          "name": "stdout",
          "text": [
            "[1938, 1926, 1742, 2163, 1920, 1875, 1962, 1773, 1873, 2069, 1715, 1847, 1797, 1923, 1881, 1969, 2082, 1859, 2011, 1847, 1859, 1974, 1956, 2036, 1702, 1860, 1889, 1867, 1926, 1969]\n",
            "[9855, 9757, 8833, 11061, 9651, 9500, 9952, 8891, 9603, 10439, 8703, 9405, 8995, 9829, 9485, 9969, 10608, 9528, 10065, 9445, 9449, 9863, 9867, 10446, 8525, 9661, 9392, 9361, 9816, 9869]\n"
          ]
        }
      ],
      "source": [
        "MonthlyItemQuantity = MonthlyQuantity['Order Item Quantity'].tolist()\n",
        "MonthlyItemDiscount = MonthlyDiscount['Order Item Discount'].tolist()\n",
        "print(MonthlyItemQuantity)\n",
        "print(MonthlyItemDiscount)"
      ]
    },
    {
      "cell_type": "markdown",
      "metadata": {
        "id": "LqilCeVlci6P"
      },
      "source": [
        "### Create copy of the dataset"
      ]
    },
    {
      "cell_type": "code",
      "execution_count": 44,
      "metadata": {
        "id": "AW2AwBNpci6P"
      },
      "outputs": [],
      "source": [
        "df1 = merge30.copy()"
      ]
    },
    {
      "cell_type": "code",
      "execution_count": 45,
      "metadata": {
        "colab": {
          "base_uri": "https://localhost:8080/",
          "height": 1000
        },
        "id": "yTgKJJ9Eci6P",
        "outputId": "2dea833e-cbcc-4ccc-edfd-ad836849b112"
      },
      "outputs": [
        {
          "output_type": "execute_result",
          "data": {
            "text/plain": [
              "    Day0  Day1  Day2  Day3  Day4  Day5  Day6  Day7  Day8  Day9  ...  Day79  \\\n",
              "0     50    44    75    39    32    58    73    57    52    67  ...     67   \n",
              "1     95    67    49    48    25    50    87    70    53    62  ...     43   \n",
              "2     71    44    56    35    71    77    58    43    44    51  ...     49   \n",
              "3     71    73    55    64    92    48    73    86    49   102  ...     47   \n",
              "4     54    40    84    75    39    67    43    48    56    89  ...     60   \n",
              "5     57    50    62    60    58    46    63    39    56    42  ...     57   \n",
              "6     52    66    37    72    75    74    85    75    57    63  ...     89   \n",
              "7     52    81    66    68    51    49    65    66    74    67  ...     71   \n",
              "8     61    44    57    67    66    34    44    42   102    45  ...     47   \n",
              "9     35    74    73    58    71    67    61    70    73    88  ...     69   \n",
              "10    62    85    76    54    44    56    38    62    46    88  ...     71   \n",
              "11    77    73    41    32    34    39    70    42    47    47  ...     74   \n",
              "12    74    47    70    91    62    74    79    46    51    82  ...     46   \n",
              "13    45    60    48    39    57    70    43    64    95    71  ...     99   \n",
              "14    54    67    90    49    40    56    72    44    52    48  ...     59   \n",
              "15    65    31    42    74    59    68    46    66    51    52  ...     48   \n",
              "16    40    73    61    87    74    47    26    76    60    84  ...     71   \n",
              "17    89    67    79    85    65    61    76    70    50    67  ...     73   \n",
              "18    53    56    71    69    60    58    50    77    60    64  ...     59   \n",
              "19    40    99    76    52    35    70    59    94   109    88  ...     56   \n",
              "20    55    74    32    76    54    69    50    70    61   104  ...     61   \n",
              "21    80    51    51    40    67    56    39    76    46    68  ...     80   \n",
              "22    66    59    71    61    67    75    37    44    72    38  ...     71   \n",
              "23    48    56    49    40    71    64    74    79    93    43  ...     73   \n",
              "24    68    44    40    44    63    58    60   103    61    64  ...     74   \n",
              "25    50   102    64    72    56    62   105    44    74    67  ...     62   \n",
              "26    51    74    62    79    56    72   101    69    73    59  ...     72   \n",
              "27    49    43    43    35    74    47    84    48    58    71  ...     43   \n",
              "28    47    89    62    56    38    57    64    50    59    65  ...     63   \n",
              "29    77    51    44    67    63    78    41    63    50    97  ...     65   \n",
              "\n",
              "    Day80  Day81  Day82  Day83  Day84  Day85  Day86  Day87  Day88  \n",
              "0      57     74     44     65     59     89    100     84     86  \n",
              "1      61     57     58     51     64     55     52     89     69  \n",
              "2      67     84     62     67     79     77     82     68     47  \n",
              "3      70     80     71     74     60     39     38     55     52  \n",
              "4      42     62     53     78    117     74     80     70     49  \n",
              "5      54     34     49     76     73     69     82     56     69  \n",
              "6      73    104     74     49     72     66     62     70     51  \n",
              "7      38     44     53     48     85     60     39     71     15  \n",
              "8      49     63     46     81     24     38     54     61     92  \n",
              "9      83     81     80     79     68     58     60     67     92  \n",
              "10     68     70     53     82     79     57     95     39     63  \n",
              "11     78     56     72     70     58     59     25     52     53  \n",
              "12     59     63     85     68     46     62     43     74     64  \n",
              "13     64     72     38     60     61     55     42     53     48  \n",
              "14     41     69     79     45     49     95     41     71     64  \n",
              "15    100     67     79     73     75     43     72     28     70  \n",
              "16     53     71     64     89     72     90     77     38     64  \n",
              "17     86     62     63     44     55     42     87     60     78  \n",
              "18     57     70     73     62     42     58     51     73     66  \n",
              "19     53     75     79     45     73     35     52     55     64  \n",
              "20     91     52     53     76     75     60     69     86     73  \n",
              "21     50     54     61     58     82     86     46     75     52  \n",
              "22     58     59     57     54     60     57     69     49     62  \n",
              "23     49    107     80     53     63     76     86     80     86  \n",
              "24     78     55     45     64     75     50     67     76     61  \n",
              "25     48     53     51     91     55     63     45     61     51  \n",
              "26     37     47     71     46     54     45     68     70     88  \n",
              "27     65     59     61     84     98     48     78     57     92  \n",
              "28     48     59     52     60     47     62     45     58     89  \n",
              "29     49     55     83     60     73     67     47     57     65  \n",
              "\n",
              "[30 rows x 89 columns]"
            ],
            "text/html": [
              "\n",
              "  <div id=\"df-a430a55a-8e33-4404-b4ac-92101ae7a256\">\n",
              "    <div class=\"colab-df-container\">\n",
              "      <div>\n",
              "<style scoped>\n",
              "    .dataframe tbody tr th:only-of-type {\n",
              "        vertical-align: middle;\n",
              "    }\n",
              "\n",
              "    .dataframe tbody tr th {\n",
              "        vertical-align: top;\n",
              "    }\n",
              "\n",
              "    .dataframe thead th {\n",
              "        text-align: right;\n",
              "    }\n",
              "</style>\n",
              "<table border=\"1\" class=\"dataframe\">\n",
              "  <thead>\n",
              "    <tr style=\"text-align: right;\">\n",
              "      <th></th>\n",
              "      <th>Day0</th>\n",
              "      <th>Day1</th>\n",
              "      <th>Day2</th>\n",
              "      <th>Day3</th>\n",
              "      <th>Day4</th>\n",
              "      <th>Day5</th>\n",
              "      <th>Day6</th>\n",
              "      <th>Day7</th>\n",
              "      <th>Day8</th>\n",
              "      <th>Day9</th>\n",
              "      <th>...</th>\n",
              "      <th>Day79</th>\n",
              "      <th>Day80</th>\n",
              "      <th>Day81</th>\n",
              "      <th>Day82</th>\n",
              "      <th>Day83</th>\n",
              "      <th>Day84</th>\n",
              "      <th>Day85</th>\n",
              "      <th>Day86</th>\n",
              "      <th>Day87</th>\n",
              "      <th>Day88</th>\n",
              "    </tr>\n",
              "  </thead>\n",
              "  <tbody>\n",
              "    <tr>\n",
              "      <th>0</th>\n",
              "      <td>50</td>\n",
              "      <td>44</td>\n",
              "      <td>75</td>\n",
              "      <td>39</td>\n",
              "      <td>32</td>\n",
              "      <td>58</td>\n",
              "      <td>73</td>\n",
              "      <td>57</td>\n",
              "      <td>52</td>\n",
              "      <td>67</td>\n",
              "      <td>...</td>\n",
              "      <td>67</td>\n",
              "      <td>57</td>\n",
              "      <td>74</td>\n",
              "      <td>44</td>\n",
              "      <td>65</td>\n",
              "      <td>59</td>\n",
              "      <td>89</td>\n",
              "      <td>100</td>\n",
              "      <td>84</td>\n",
              "      <td>86</td>\n",
              "    </tr>\n",
              "    <tr>\n",
              "      <th>1</th>\n",
              "      <td>95</td>\n",
              "      <td>67</td>\n",
              "      <td>49</td>\n",
              "      <td>48</td>\n",
              "      <td>25</td>\n",
              "      <td>50</td>\n",
              "      <td>87</td>\n",
              "      <td>70</td>\n",
              "      <td>53</td>\n",
              "      <td>62</td>\n",
              "      <td>...</td>\n",
              "      <td>43</td>\n",
              "      <td>61</td>\n",
              "      <td>57</td>\n",
              "      <td>58</td>\n",
              "      <td>51</td>\n",
              "      <td>64</td>\n",
              "      <td>55</td>\n",
              "      <td>52</td>\n",
              "      <td>89</td>\n",
              "      <td>69</td>\n",
              "    </tr>\n",
              "    <tr>\n",
              "      <th>2</th>\n",
              "      <td>71</td>\n",
              "      <td>44</td>\n",
              "      <td>56</td>\n",
              "      <td>35</td>\n",
              "      <td>71</td>\n",
              "      <td>77</td>\n",
              "      <td>58</td>\n",
              "      <td>43</td>\n",
              "      <td>44</td>\n",
              "      <td>51</td>\n",
              "      <td>...</td>\n",
              "      <td>49</td>\n",
              "      <td>67</td>\n",
              "      <td>84</td>\n",
              "      <td>62</td>\n",
              "      <td>67</td>\n",
              "      <td>79</td>\n",
              "      <td>77</td>\n",
              "      <td>82</td>\n",
              "      <td>68</td>\n",
              "      <td>47</td>\n",
              "    </tr>\n",
              "    <tr>\n",
              "      <th>3</th>\n",
              "      <td>71</td>\n",
              "      <td>73</td>\n",
              "      <td>55</td>\n",
              "      <td>64</td>\n",
              "      <td>92</td>\n",
              "      <td>48</td>\n",
              "      <td>73</td>\n",
              "      <td>86</td>\n",
              "      <td>49</td>\n",
              "      <td>102</td>\n",
              "      <td>...</td>\n",
              "      <td>47</td>\n",
              "      <td>70</td>\n",
              "      <td>80</td>\n",
              "      <td>71</td>\n",
              "      <td>74</td>\n",
              "      <td>60</td>\n",
              "      <td>39</td>\n",
              "      <td>38</td>\n",
              "      <td>55</td>\n",
              "      <td>52</td>\n",
              "    </tr>\n",
              "    <tr>\n",
              "      <th>4</th>\n",
              "      <td>54</td>\n",
              "      <td>40</td>\n",
              "      <td>84</td>\n",
              "      <td>75</td>\n",
              "      <td>39</td>\n",
              "      <td>67</td>\n",
              "      <td>43</td>\n",
              "      <td>48</td>\n",
              "      <td>56</td>\n",
              "      <td>89</td>\n",
              "      <td>...</td>\n",
              "      <td>60</td>\n",
              "      <td>42</td>\n",
              "      <td>62</td>\n",
              "      <td>53</td>\n",
              "      <td>78</td>\n",
              "      <td>117</td>\n",
              "      <td>74</td>\n",
              "      <td>80</td>\n",
              "      <td>70</td>\n",
              "      <td>49</td>\n",
              "    </tr>\n",
              "    <tr>\n",
              "      <th>5</th>\n",
              "      <td>57</td>\n",
              "      <td>50</td>\n",
              "      <td>62</td>\n",
              "      <td>60</td>\n",
              "      <td>58</td>\n",
              "      <td>46</td>\n",
              "      <td>63</td>\n",
              "      <td>39</td>\n",
              "      <td>56</td>\n",
              "      <td>42</td>\n",
              "      <td>...</td>\n",
              "      <td>57</td>\n",
              "      <td>54</td>\n",
              "      <td>34</td>\n",
              "      <td>49</td>\n",
              "      <td>76</td>\n",
              "      <td>73</td>\n",
              "      <td>69</td>\n",
              "      <td>82</td>\n",
              "      <td>56</td>\n",
              "      <td>69</td>\n",
              "    </tr>\n",
              "    <tr>\n",
              "      <th>6</th>\n",
              "      <td>52</td>\n",
              "      <td>66</td>\n",
              "      <td>37</td>\n",
              "      <td>72</td>\n",
              "      <td>75</td>\n",
              "      <td>74</td>\n",
              "      <td>85</td>\n",
              "      <td>75</td>\n",
              "      <td>57</td>\n",
              "      <td>63</td>\n",
              "      <td>...</td>\n",
              "      <td>89</td>\n",
              "      <td>73</td>\n",
              "      <td>104</td>\n",
              "      <td>74</td>\n",
              "      <td>49</td>\n",
              "      <td>72</td>\n",
              "      <td>66</td>\n",
              "      <td>62</td>\n",
              "      <td>70</td>\n",
              "      <td>51</td>\n",
              "    </tr>\n",
              "    <tr>\n",
              "      <th>7</th>\n",
              "      <td>52</td>\n",
              "      <td>81</td>\n",
              "      <td>66</td>\n",
              "      <td>68</td>\n",
              "      <td>51</td>\n",
              "      <td>49</td>\n",
              "      <td>65</td>\n",
              "      <td>66</td>\n",
              "      <td>74</td>\n",
              "      <td>67</td>\n",
              "      <td>...</td>\n",
              "      <td>71</td>\n",
              "      <td>38</td>\n",
              "      <td>44</td>\n",
              "      <td>53</td>\n",
              "      <td>48</td>\n",
              "      <td>85</td>\n",
              "      <td>60</td>\n",
              "      <td>39</td>\n",
              "      <td>71</td>\n",
              "      <td>15</td>\n",
              "    </tr>\n",
              "    <tr>\n",
              "      <th>8</th>\n",
              "      <td>61</td>\n",
              "      <td>44</td>\n",
              "      <td>57</td>\n",
              "      <td>67</td>\n",
              "      <td>66</td>\n",
              "      <td>34</td>\n",
              "      <td>44</td>\n",
              "      <td>42</td>\n",
              "      <td>102</td>\n",
              "      <td>45</td>\n",
              "      <td>...</td>\n",
              "      <td>47</td>\n",
              "      <td>49</td>\n",
              "      <td>63</td>\n",
              "      <td>46</td>\n",
              "      <td>81</td>\n",
              "      <td>24</td>\n",
              "      <td>38</td>\n",
              "      <td>54</td>\n",
              "      <td>61</td>\n",
              "      <td>92</td>\n",
              "    </tr>\n",
              "    <tr>\n",
              "      <th>9</th>\n",
              "      <td>35</td>\n",
              "      <td>74</td>\n",
              "      <td>73</td>\n",
              "      <td>58</td>\n",
              "      <td>71</td>\n",
              "      <td>67</td>\n",
              "      <td>61</td>\n",
              "      <td>70</td>\n",
              "      <td>73</td>\n",
              "      <td>88</td>\n",
              "      <td>...</td>\n",
              "      <td>69</td>\n",
              "      <td>83</td>\n",
              "      <td>81</td>\n",
              "      <td>80</td>\n",
              "      <td>79</td>\n",
              "      <td>68</td>\n",
              "      <td>58</td>\n",
              "      <td>60</td>\n",
              "      <td>67</td>\n",
              "      <td>92</td>\n",
              "    </tr>\n",
              "    <tr>\n",
              "      <th>10</th>\n",
              "      <td>62</td>\n",
              "      <td>85</td>\n",
              "      <td>76</td>\n",
              "      <td>54</td>\n",
              "      <td>44</td>\n",
              "      <td>56</td>\n",
              "      <td>38</td>\n",
              "      <td>62</td>\n",
              "      <td>46</td>\n",
              "      <td>88</td>\n",
              "      <td>...</td>\n",
              "      <td>71</td>\n",
              "      <td>68</td>\n",
              "      <td>70</td>\n",
              "      <td>53</td>\n",
              "      <td>82</td>\n",
              "      <td>79</td>\n",
              "      <td>57</td>\n",
              "      <td>95</td>\n",
              "      <td>39</td>\n",
              "      <td>63</td>\n",
              "    </tr>\n",
              "    <tr>\n",
              "      <th>11</th>\n",
              "      <td>77</td>\n",
              "      <td>73</td>\n",
              "      <td>41</td>\n",
              "      <td>32</td>\n",
              "      <td>34</td>\n",
              "      <td>39</td>\n",
              "      <td>70</td>\n",
              "      <td>42</td>\n",
              "      <td>47</td>\n",
              "      <td>47</td>\n",
              "      <td>...</td>\n",
              "      <td>74</td>\n",
              "      <td>78</td>\n",
              "      <td>56</td>\n",
              "      <td>72</td>\n",
              "      <td>70</td>\n",
              "      <td>58</td>\n",
              "      <td>59</td>\n",
              "      <td>25</td>\n",
              "      <td>52</td>\n",
              "      <td>53</td>\n",
              "    </tr>\n",
              "    <tr>\n",
              "      <th>12</th>\n",
              "      <td>74</td>\n",
              "      <td>47</td>\n",
              "      <td>70</td>\n",
              "      <td>91</td>\n",
              "      <td>62</td>\n",
              "      <td>74</td>\n",
              "      <td>79</td>\n",
              "      <td>46</td>\n",
              "      <td>51</td>\n",
              "      <td>82</td>\n",
              "      <td>...</td>\n",
              "      <td>46</td>\n",
              "      <td>59</td>\n",
              "      <td>63</td>\n",
              "      <td>85</td>\n",
              "      <td>68</td>\n",
              "      <td>46</td>\n",
              "      <td>62</td>\n",
              "      <td>43</td>\n",
              "      <td>74</td>\n",
              "      <td>64</td>\n",
              "    </tr>\n",
              "    <tr>\n",
              "      <th>13</th>\n",
              "      <td>45</td>\n",
              "      <td>60</td>\n",
              "      <td>48</td>\n",
              "      <td>39</td>\n",
              "      <td>57</td>\n",
              "      <td>70</td>\n",
              "      <td>43</td>\n",
              "      <td>64</td>\n",
              "      <td>95</td>\n",
              "      <td>71</td>\n",
              "      <td>...</td>\n",
              "      <td>99</td>\n",
              "      <td>64</td>\n",
              "      <td>72</td>\n",
              "      <td>38</td>\n",
              "      <td>60</td>\n",
              "      <td>61</td>\n",
              "      <td>55</td>\n",
              "      <td>42</td>\n",
              "      <td>53</td>\n",
              "      <td>48</td>\n",
              "    </tr>\n",
              "    <tr>\n",
              "      <th>14</th>\n",
              "      <td>54</td>\n",
              "      <td>67</td>\n",
              "      <td>90</td>\n",
              "      <td>49</td>\n",
              "      <td>40</td>\n",
              "      <td>56</td>\n",
              "      <td>72</td>\n",
              "      <td>44</td>\n",
              "      <td>52</td>\n",
              "      <td>48</td>\n",
              "      <td>...</td>\n",
              "      <td>59</td>\n",
              "      <td>41</td>\n",
              "      <td>69</td>\n",
              "      <td>79</td>\n",
              "      <td>45</td>\n",
              "      <td>49</td>\n",
              "      <td>95</td>\n",
              "      <td>41</td>\n",
              "      <td>71</td>\n",
              "      <td>64</td>\n",
              "    </tr>\n",
              "    <tr>\n",
              "      <th>15</th>\n",
              "      <td>65</td>\n",
              "      <td>31</td>\n",
              "      <td>42</td>\n",
              "      <td>74</td>\n",
              "      <td>59</td>\n",
              "      <td>68</td>\n",
              "      <td>46</td>\n",
              "      <td>66</td>\n",
              "      <td>51</td>\n",
              "      <td>52</td>\n",
              "      <td>...</td>\n",
              "      <td>48</td>\n",
              "      <td>100</td>\n",
              "      <td>67</td>\n",
              "      <td>79</td>\n",
              "      <td>73</td>\n",
              "      <td>75</td>\n",
              "      <td>43</td>\n",
              "      <td>72</td>\n",
              "      <td>28</td>\n",
              "      <td>70</td>\n",
              "    </tr>\n",
              "    <tr>\n",
              "      <th>16</th>\n",
              "      <td>40</td>\n",
              "      <td>73</td>\n",
              "      <td>61</td>\n",
              "      <td>87</td>\n",
              "      <td>74</td>\n",
              "      <td>47</td>\n",
              "      <td>26</td>\n",
              "      <td>76</td>\n",
              "      <td>60</td>\n",
              "      <td>84</td>\n",
              "      <td>...</td>\n",
              "      <td>71</td>\n",
              "      <td>53</td>\n",
              "      <td>71</td>\n",
              "      <td>64</td>\n",
              "      <td>89</td>\n",
              "      <td>72</td>\n",
              "      <td>90</td>\n",
              "      <td>77</td>\n",
              "      <td>38</td>\n",
              "      <td>64</td>\n",
              "    </tr>\n",
              "    <tr>\n",
              "      <th>17</th>\n",
              "      <td>89</td>\n",
              "      <td>67</td>\n",
              "      <td>79</td>\n",
              "      <td>85</td>\n",
              "      <td>65</td>\n",
              "      <td>61</td>\n",
              "      <td>76</td>\n",
              "      <td>70</td>\n",
              "      <td>50</td>\n",
              "      <td>67</td>\n",
              "      <td>...</td>\n",
              "      <td>73</td>\n",
              "      <td>86</td>\n",
              "      <td>62</td>\n",
              "      <td>63</td>\n",
              "      <td>44</td>\n",
              "      <td>55</td>\n",
              "      <td>42</td>\n",
              "      <td>87</td>\n",
              "      <td>60</td>\n",
              "      <td>78</td>\n",
              "    </tr>\n",
              "    <tr>\n",
              "      <th>18</th>\n",
              "      <td>53</td>\n",
              "      <td>56</td>\n",
              "      <td>71</td>\n",
              "      <td>69</td>\n",
              "      <td>60</td>\n",
              "      <td>58</td>\n",
              "      <td>50</td>\n",
              "      <td>77</td>\n",
              "      <td>60</td>\n",
              "      <td>64</td>\n",
              "      <td>...</td>\n",
              "      <td>59</td>\n",
              "      <td>57</td>\n",
              "      <td>70</td>\n",
              "      <td>73</td>\n",
              "      <td>62</td>\n",
              "      <td>42</td>\n",
              "      <td>58</td>\n",
              "      <td>51</td>\n",
              "      <td>73</td>\n",
              "      <td>66</td>\n",
              "    </tr>\n",
              "    <tr>\n",
              "      <th>19</th>\n",
              "      <td>40</td>\n",
              "      <td>99</td>\n",
              "      <td>76</td>\n",
              "      <td>52</td>\n",
              "      <td>35</td>\n",
              "      <td>70</td>\n",
              "      <td>59</td>\n",
              "      <td>94</td>\n",
              "      <td>109</td>\n",
              "      <td>88</td>\n",
              "      <td>...</td>\n",
              "      <td>56</td>\n",
              "      <td>53</td>\n",
              "      <td>75</td>\n",
              "      <td>79</td>\n",
              "      <td>45</td>\n",
              "      <td>73</td>\n",
              "      <td>35</td>\n",
              "      <td>52</td>\n",
              "      <td>55</td>\n",
              "      <td>64</td>\n",
              "    </tr>\n",
              "    <tr>\n",
              "      <th>20</th>\n",
              "      <td>55</td>\n",
              "      <td>74</td>\n",
              "      <td>32</td>\n",
              "      <td>76</td>\n",
              "      <td>54</td>\n",
              "      <td>69</td>\n",
              "      <td>50</td>\n",
              "      <td>70</td>\n",
              "      <td>61</td>\n",
              "      <td>104</td>\n",
              "      <td>...</td>\n",
              "      <td>61</td>\n",
              "      <td>91</td>\n",
              "      <td>52</td>\n",
              "      <td>53</td>\n",
              "      <td>76</td>\n",
              "      <td>75</td>\n",
              "      <td>60</td>\n",
              "      <td>69</td>\n",
              "      <td>86</td>\n",
              "      <td>73</td>\n",
              "    </tr>\n",
              "    <tr>\n",
              "      <th>21</th>\n",
              "      <td>80</td>\n",
              "      <td>51</td>\n",
              "      <td>51</td>\n",
              "      <td>40</td>\n",
              "      <td>67</td>\n",
              "      <td>56</td>\n",
              "      <td>39</td>\n",
              "      <td>76</td>\n",
              "      <td>46</td>\n",
              "      <td>68</td>\n",
              "      <td>...</td>\n",
              "      <td>80</td>\n",
              "      <td>50</td>\n",
              "      <td>54</td>\n",
              "      <td>61</td>\n",
              "      <td>58</td>\n",
              "      <td>82</td>\n",
              "      <td>86</td>\n",
              "      <td>46</td>\n",
              "      <td>75</td>\n",
              "      <td>52</td>\n",
              "    </tr>\n",
              "    <tr>\n",
              "      <th>22</th>\n",
              "      <td>66</td>\n",
              "      <td>59</td>\n",
              "      <td>71</td>\n",
              "      <td>61</td>\n",
              "      <td>67</td>\n",
              "      <td>75</td>\n",
              "      <td>37</td>\n",
              "      <td>44</td>\n",
              "      <td>72</td>\n",
              "      <td>38</td>\n",
              "      <td>...</td>\n",
              "      <td>71</td>\n",
              "      <td>58</td>\n",
              "      <td>59</td>\n",
              "      <td>57</td>\n",
              "      <td>54</td>\n",
              "      <td>60</td>\n",
              "      <td>57</td>\n",
              "      <td>69</td>\n",
              "      <td>49</td>\n",
              "      <td>62</td>\n",
              "    </tr>\n",
              "    <tr>\n",
              "      <th>23</th>\n",
              "      <td>48</td>\n",
              "      <td>56</td>\n",
              "      <td>49</td>\n",
              "      <td>40</td>\n",
              "      <td>71</td>\n",
              "      <td>64</td>\n",
              "      <td>74</td>\n",
              "      <td>79</td>\n",
              "      <td>93</td>\n",
              "      <td>43</td>\n",
              "      <td>...</td>\n",
              "      <td>73</td>\n",
              "      <td>49</td>\n",
              "      <td>107</td>\n",
              "      <td>80</td>\n",
              "      <td>53</td>\n",
              "      <td>63</td>\n",
              "      <td>76</td>\n",
              "      <td>86</td>\n",
              "      <td>80</td>\n",
              "      <td>86</td>\n",
              "    </tr>\n",
              "    <tr>\n",
              "      <th>24</th>\n",
              "      <td>68</td>\n",
              "      <td>44</td>\n",
              "      <td>40</td>\n",
              "      <td>44</td>\n",
              "      <td>63</td>\n",
              "      <td>58</td>\n",
              "      <td>60</td>\n",
              "      <td>103</td>\n",
              "      <td>61</td>\n",
              "      <td>64</td>\n",
              "      <td>...</td>\n",
              "      <td>74</td>\n",
              "      <td>78</td>\n",
              "      <td>55</td>\n",
              "      <td>45</td>\n",
              "      <td>64</td>\n",
              "      <td>75</td>\n",
              "      <td>50</td>\n",
              "      <td>67</td>\n",
              "      <td>76</td>\n",
              "      <td>61</td>\n",
              "    </tr>\n",
              "    <tr>\n",
              "      <th>25</th>\n",
              "      <td>50</td>\n",
              "      <td>102</td>\n",
              "      <td>64</td>\n",
              "      <td>72</td>\n",
              "      <td>56</td>\n",
              "      <td>62</td>\n",
              "      <td>105</td>\n",
              "      <td>44</td>\n",
              "      <td>74</td>\n",
              "      <td>67</td>\n",
              "      <td>...</td>\n",
              "      <td>62</td>\n",
              "      <td>48</td>\n",
              "      <td>53</td>\n",
              "      <td>51</td>\n",
              "      <td>91</td>\n",
              "      <td>55</td>\n",
              "      <td>63</td>\n",
              "      <td>45</td>\n",
              "      <td>61</td>\n",
              "      <td>51</td>\n",
              "    </tr>\n",
              "    <tr>\n",
              "      <th>26</th>\n",
              "      <td>51</td>\n",
              "      <td>74</td>\n",
              "      <td>62</td>\n",
              "      <td>79</td>\n",
              "      <td>56</td>\n",
              "      <td>72</td>\n",
              "      <td>101</td>\n",
              "      <td>69</td>\n",
              "      <td>73</td>\n",
              "      <td>59</td>\n",
              "      <td>...</td>\n",
              "      <td>72</td>\n",
              "      <td>37</td>\n",
              "      <td>47</td>\n",
              "      <td>71</td>\n",
              "      <td>46</td>\n",
              "      <td>54</td>\n",
              "      <td>45</td>\n",
              "      <td>68</td>\n",
              "      <td>70</td>\n",
              "      <td>88</td>\n",
              "    </tr>\n",
              "    <tr>\n",
              "      <th>27</th>\n",
              "      <td>49</td>\n",
              "      <td>43</td>\n",
              "      <td>43</td>\n",
              "      <td>35</td>\n",
              "      <td>74</td>\n",
              "      <td>47</td>\n",
              "      <td>84</td>\n",
              "      <td>48</td>\n",
              "      <td>58</td>\n",
              "      <td>71</td>\n",
              "      <td>...</td>\n",
              "      <td>43</td>\n",
              "      <td>65</td>\n",
              "      <td>59</td>\n",
              "      <td>61</td>\n",
              "      <td>84</td>\n",
              "      <td>98</td>\n",
              "      <td>48</td>\n",
              "      <td>78</td>\n",
              "      <td>57</td>\n",
              "      <td>92</td>\n",
              "    </tr>\n",
              "    <tr>\n",
              "      <th>28</th>\n",
              "      <td>47</td>\n",
              "      <td>89</td>\n",
              "      <td>62</td>\n",
              "      <td>56</td>\n",
              "      <td>38</td>\n",
              "      <td>57</td>\n",
              "      <td>64</td>\n",
              "      <td>50</td>\n",
              "      <td>59</td>\n",
              "      <td>65</td>\n",
              "      <td>...</td>\n",
              "      <td>63</td>\n",
              "      <td>48</td>\n",
              "      <td>59</td>\n",
              "      <td>52</td>\n",
              "      <td>60</td>\n",
              "      <td>47</td>\n",
              "      <td>62</td>\n",
              "      <td>45</td>\n",
              "      <td>58</td>\n",
              "      <td>89</td>\n",
              "    </tr>\n",
              "    <tr>\n",
              "      <th>29</th>\n",
              "      <td>77</td>\n",
              "      <td>51</td>\n",
              "      <td>44</td>\n",
              "      <td>67</td>\n",
              "      <td>63</td>\n",
              "      <td>78</td>\n",
              "      <td>41</td>\n",
              "      <td>63</td>\n",
              "      <td>50</td>\n",
              "      <td>97</td>\n",
              "      <td>...</td>\n",
              "      <td>65</td>\n",
              "      <td>49</td>\n",
              "      <td>55</td>\n",
              "      <td>83</td>\n",
              "      <td>60</td>\n",
              "      <td>73</td>\n",
              "      <td>67</td>\n",
              "      <td>47</td>\n",
              "      <td>57</td>\n",
              "      <td>65</td>\n",
              "    </tr>\n",
              "  </tbody>\n",
              "</table>\n",
              "<p>30 rows × 89 columns</p>\n",
              "</div>\n",
              "      <button class=\"colab-df-convert\" onclick=\"convertToInteractive('df-a430a55a-8e33-4404-b4ac-92101ae7a256')\"\n",
              "              title=\"Convert this dataframe to an interactive table.\"\n",
              "              style=\"display:none;\">\n",
              "        \n",
              "  <svg xmlns=\"http://www.w3.org/2000/svg\" height=\"24px\"viewBox=\"0 0 24 24\"\n",
              "       width=\"24px\">\n",
              "    <path d=\"M0 0h24v24H0V0z\" fill=\"none\"/>\n",
              "    <path d=\"M18.56 5.44l.94 2.06.94-2.06 2.06-.94-2.06-.94-.94-2.06-.94 2.06-2.06.94zm-11 1L8.5 8.5l.94-2.06 2.06-.94-2.06-.94L8.5 2.5l-.94 2.06-2.06.94zm10 10l.94 2.06.94-2.06 2.06-.94-2.06-.94-.94-2.06-.94 2.06-2.06.94z\"/><path d=\"M17.41 7.96l-1.37-1.37c-.4-.4-.92-.59-1.43-.59-.52 0-1.04.2-1.43.59L10.3 9.45l-7.72 7.72c-.78.78-.78 2.05 0 2.83L4 21.41c.39.39.9.59 1.41.59.51 0 1.02-.2 1.41-.59l7.78-7.78 2.81-2.81c.8-.78.8-2.07 0-2.86zM5.41 20L4 18.59l7.72-7.72 1.47 1.35L5.41 20z\"/>\n",
              "  </svg>\n",
              "      </button>\n",
              "      \n",
              "  <style>\n",
              "    .colab-df-container {\n",
              "      display:flex;\n",
              "      flex-wrap:wrap;\n",
              "      gap: 12px;\n",
              "    }\n",
              "\n",
              "    .colab-df-convert {\n",
              "      background-color: #E8F0FE;\n",
              "      border: none;\n",
              "      border-radius: 50%;\n",
              "      cursor: pointer;\n",
              "      display: none;\n",
              "      fill: #1967D2;\n",
              "      height: 32px;\n",
              "      padding: 0 0 0 0;\n",
              "      width: 32px;\n",
              "    }\n",
              "\n",
              "    .colab-df-convert:hover {\n",
              "      background-color: #E2EBFA;\n",
              "      box-shadow: 0px 1px 2px rgba(60, 64, 67, 0.3), 0px 1px 3px 1px rgba(60, 64, 67, 0.15);\n",
              "      fill: #174EA6;\n",
              "    }\n",
              "\n",
              "    [theme=dark] .colab-df-convert {\n",
              "      background-color: #3B4455;\n",
              "      fill: #D2E3FC;\n",
              "    }\n",
              "\n",
              "    [theme=dark] .colab-df-convert:hover {\n",
              "      background-color: #434B5C;\n",
              "      box-shadow: 0px 1px 3px 1px rgba(0, 0, 0, 0.15);\n",
              "      filter: drop-shadow(0px 1px 2px rgba(0, 0, 0, 0.3));\n",
              "      fill: #FFFFFF;\n",
              "    }\n",
              "  </style>\n",
              "\n",
              "      <script>\n",
              "        const buttonEl =\n",
              "          document.querySelector('#df-a430a55a-8e33-4404-b4ac-92101ae7a256 button.colab-df-convert');\n",
              "        buttonEl.style.display =\n",
              "          google.colab.kernel.accessAllowed ? 'block' : 'none';\n",
              "\n",
              "        async function convertToInteractive(key) {\n",
              "          const element = document.querySelector('#df-a430a55a-8e33-4404-b4ac-92101ae7a256');\n",
              "          const dataTable =\n",
              "            await google.colab.kernel.invokeFunction('convertToInteractive',\n",
              "                                                     [key], {});\n",
              "          if (!dataTable) return;\n",
              "\n",
              "          const docLinkHtml = 'Like what you see? Visit the ' +\n",
              "            '<a target=\"_blank\" href=https://colab.research.google.com/notebooks/data_table.ipynb>data table notebook</a>'\n",
              "            + ' to learn more about interactive tables.';\n",
              "          element.innerHTML = '';\n",
              "          dataTable['output_type'] = 'display_data';\n",
              "          await google.colab.output.renderOutput(dataTable, element);\n",
              "          const docLink = document.createElement('div');\n",
              "          docLink.innerHTML = docLinkHtml;\n",
              "          element.appendChild(docLink);\n",
              "        }\n",
              "      </script>\n",
              "    </div>\n",
              "  </div>\n",
              "  "
            ]
          },
          "metadata": {},
          "execution_count": 45
        }
      ],
      "source": [
        "df1"
      ]
    },
    {
      "cell_type": "markdown",
      "metadata": {
        "id": "61Yslw_cci6P"
      },
      "source": [
        "### Adding the Target variable to the dataframe"
      ]
    },
    {
      "cell_type": "code",
      "execution_count": 46,
      "metadata": {
        "id": "uESN1ok1ci6Q"
      },
      "outputs": [],
      "source": [
        "df1.insert(loc=89, column='Order Item Quantity', value=MonthlyItemQuantity)"
      ]
    },
    {
      "cell_type": "code",
      "execution_count": 47,
      "metadata": {
        "colab": {
          "base_uri": "https://localhost:8080/",
          "height": 1000
        },
        "id": "IoVp6NLHci6Q",
        "outputId": "0efb0e63-54b4-4364-d024-6f12660cede6"
      },
      "outputs": [
        {
          "output_type": "execute_result",
          "data": {
            "text/plain": [
              "    Day0  Day1  Day2  Day3  Day4  Day5  Day6  Day7  Day8  Day9  ...  Day80  \\\n",
              "0     50    44    75    39    32    58    73    57    52    67  ...     57   \n",
              "1     95    67    49    48    25    50    87    70    53    62  ...     61   \n",
              "2     71    44    56    35    71    77    58    43    44    51  ...     67   \n",
              "3     71    73    55    64    92    48    73    86    49   102  ...     70   \n",
              "4     54    40    84    75    39    67    43    48    56    89  ...     42   \n",
              "5     57    50    62    60    58    46    63    39    56    42  ...     54   \n",
              "6     52    66    37    72    75    74    85    75    57    63  ...     73   \n",
              "7     52    81    66    68    51    49    65    66    74    67  ...     38   \n",
              "8     61    44    57    67    66    34    44    42   102    45  ...     49   \n",
              "9     35    74    73    58    71    67    61    70    73    88  ...     83   \n",
              "10    62    85    76    54    44    56    38    62    46    88  ...     68   \n",
              "11    77    73    41    32    34    39    70    42    47    47  ...     78   \n",
              "12    74    47    70    91    62    74    79    46    51    82  ...     59   \n",
              "13    45    60    48    39    57    70    43    64    95    71  ...     64   \n",
              "14    54    67    90    49    40    56    72    44    52    48  ...     41   \n",
              "15    65    31    42    74    59    68    46    66    51    52  ...    100   \n",
              "16    40    73    61    87    74    47    26    76    60    84  ...     53   \n",
              "17    89    67    79    85    65    61    76    70    50    67  ...     86   \n",
              "18    53    56    71    69    60    58    50    77    60    64  ...     57   \n",
              "19    40    99    76    52    35    70    59    94   109    88  ...     53   \n",
              "20    55    74    32    76    54    69    50    70    61   104  ...     91   \n",
              "21    80    51    51    40    67    56    39    76    46    68  ...     50   \n",
              "22    66    59    71    61    67    75    37    44    72    38  ...     58   \n",
              "23    48    56    49    40    71    64    74    79    93    43  ...     49   \n",
              "24    68    44    40    44    63    58    60   103    61    64  ...     78   \n",
              "25    50   102    64    72    56    62   105    44    74    67  ...     48   \n",
              "26    51    74    62    79    56    72   101    69    73    59  ...     37   \n",
              "27    49    43    43    35    74    47    84    48    58    71  ...     65   \n",
              "28    47    89    62    56    38    57    64    50    59    65  ...     48   \n",
              "29    77    51    44    67    63    78    41    63    50    97  ...     49   \n",
              "\n",
              "    Day81  Day82  Day83  Day84  Day85  Day86  Day87  Day88  \\\n",
              "0      74     44     65     59     89    100     84     86   \n",
              "1      57     58     51     64     55     52     89     69   \n",
              "2      84     62     67     79     77     82     68     47   \n",
              "3      80     71     74     60     39     38     55     52   \n",
              "4      62     53     78    117     74     80     70     49   \n",
              "5      34     49     76     73     69     82     56     69   \n",
              "6     104     74     49     72     66     62     70     51   \n",
              "7      44     53     48     85     60     39     71     15   \n",
              "8      63     46     81     24     38     54     61     92   \n",
              "9      81     80     79     68     58     60     67     92   \n",
              "10     70     53     82     79     57     95     39     63   \n",
              "11     56     72     70     58     59     25     52     53   \n",
              "12     63     85     68     46     62     43     74     64   \n",
              "13     72     38     60     61     55     42     53     48   \n",
              "14     69     79     45     49     95     41     71     64   \n",
              "15     67     79     73     75     43     72     28     70   \n",
              "16     71     64     89     72     90     77     38     64   \n",
              "17     62     63     44     55     42     87     60     78   \n",
              "18     70     73     62     42     58     51     73     66   \n",
              "19     75     79     45     73     35     52     55     64   \n",
              "20     52     53     76     75     60     69     86     73   \n",
              "21     54     61     58     82     86     46     75     52   \n",
              "22     59     57     54     60     57     69     49     62   \n",
              "23    107     80     53     63     76     86     80     86   \n",
              "24     55     45     64     75     50     67     76     61   \n",
              "25     53     51     91     55     63     45     61     51   \n",
              "26     47     71     46     54     45     68     70     88   \n",
              "27     59     61     84     98     48     78     57     92   \n",
              "28     59     52     60     47     62     45     58     89   \n",
              "29     55     83     60     73     67     47     57     65   \n",
              "\n",
              "    Order Item Quantity  \n",
              "0                  1938  \n",
              "1                  1926  \n",
              "2                  1742  \n",
              "3                  2163  \n",
              "4                  1920  \n",
              "5                  1875  \n",
              "6                  1962  \n",
              "7                  1773  \n",
              "8                  1873  \n",
              "9                  2069  \n",
              "10                 1715  \n",
              "11                 1847  \n",
              "12                 1797  \n",
              "13                 1923  \n",
              "14                 1881  \n",
              "15                 1969  \n",
              "16                 2082  \n",
              "17                 1859  \n",
              "18                 2011  \n",
              "19                 1847  \n",
              "20                 1859  \n",
              "21                 1974  \n",
              "22                 1956  \n",
              "23                 2036  \n",
              "24                 1702  \n",
              "25                 1860  \n",
              "26                 1889  \n",
              "27                 1867  \n",
              "28                 1926  \n",
              "29                 1969  \n",
              "\n",
              "[30 rows x 90 columns]"
            ],
            "text/html": [
              "\n",
              "  <div id=\"df-63578242-a830-4692-802f-ea1f8b433457\">\n",
              "    <div class=\"colab-df-container\">\n",
              "      <div>\n",
              "<style scoped>\n",
              "    .dataframe tbody tr th:only-of-type {\n",
              "        vertical-align: middle;\n",
              "    }\n",
              "\n",
              "    .dataframe tbody tr th {\n",
              "        vertical-align: top;\n",
              "    }\n",
              "\n",
              "    .dataframe thead th {\n",
              "        text-align: right;\n",
              "    }\n",
              "</style>\n",
              "<table border=\"1\" class=\"dataframe\">\n",
              "  <thead>\n",
              "    <tr style=\"text-align: right;\">\n",
              "      <th></th>\n",
              "      <th>Day0</th>\n",
              "      <th>Day1</th>\n",
              "      <th>Day2</th>\n",
              "      <th>Day3</th>\n",
              "      <th>Day4</th>\n",
              "      <th>Day5</th>\n",
              "      <th>Day6</th>\n",
              "      <th>Day7</th>\n",
              "      <th>Day8</th>\n",
              "      <th>Day9</th>\n",
              "      <th>...</th>\n",
              "      <th>Day80</th>\n",
              "      <th>Day81</th>\n",
              "      <th>Day82</th>\n",
              "      <th>Day83</th>\n",
              "      <th>Day84</th>\n",
              "      <th>Day85</th>\n",
              "      <th>Day86</th>\n",
              "      <th>Day87</th>\n",
              "      <th>Day88</th>\n",
              "      <th>Order Item Quantity</th>\n",
              "    </tr>\n",
              "  </thead>\n",
              "  <tbody>\n",
              "    <tr>\n",
              "      <th>0</th>\n",
              "      <td>50</td>\n",
              "      <td>44</td>\n",
              "      <td>75</td>\n",
              "      <td>39</td>\n",
              "      <td>32</td>\n",
              "      <td>58</td>\n",
              "      <td>73</td>\n",
              "      <td>57</td>\n",
              "      <td>52</td>\n",
              "      <td>67</td>\n",
              "      <td>...</td>\n",
              "      <td>57</td>\n",
              "      <td>74</td>\n",
              "      <td>44</td>\n",
              "      <td>65</td>\n",
              "      <td>59</td>\n",
              "      <td>89</td>\n",
              "      <td>100</td>\n",
              "      <td>84</td>\n",
              "      <td>86</td>\n",
              "      <td>1938</td>\n",
              "    </tr>\n",
              "    <tr>\n",
              "      <th>1</th>\n",
              "      <td>95</td>\n",
              "      <td>67</td>\n",
              "      <td>49</td>\n",
              "      <td>48</td>\n",
              "      <td>25</td>\n",
              "      <td>50</td>\n",
              "      <td>87</td>\n",
              "      <td>70</td>\n",
              "      <td>53</td>\n",
              "      <td>62</td>\n",
              "      <td>...</td>\n",
              "      <td>61</td>\n",
              "      <td>57</td>\n",
              "      <td>58</td>\n",
              "      <td>51</td>\n",
              "      <td>64</td>\n",
              "      <td>55</td>\n",
              "      <td>52</td>\n",
              "      <td>89</td>\n",
              "      <td>69</td>\n",
              "      <td>1926</td>\n",
              "    </tr>\n",
              "    <tr>\n",
              "      <th>2</th>\n",
              "      <td>71</td>\n",
              "      <td>44</td>\n",
              "      <td>56</td>\n",
              "      <td>35</td>\n",
              "      <td>71</td>\n",
              "      <td>77</td>\n",
              "      <td>58</td>\n",
              "      <td>43</td>\n",
              "      <td>44</td>\n",
              "      <td>51</td>\n",
              "      <td>...</td>\n",
              "      <td>67</td>\n",
              "      <td>84</td>\n",
              "      <td>62</td>\n",
              "      <td>67</td>\n",
              "      <td>79</td>\n",
              "      <td>77</td>\n",
              "      <td>82</td>\n",
              "      <td>68</td>\n",
              "      <td>47</td>\n",
              "      <td>1742</td>\n",
              "    </tr>\n",
              "    <tr>\n",
              "      <th>3</th>\n",
              "      <td>71</td>\n",
              "      <td>73</td>\n",
              "      <td>55</td>\n",
              "      <td>64</td>\n",
              "      <td>92</td>\n",
              "      <td>48</td>\n",
              "      <td>73</td>\n",
              "      <td>86</td>\n",
              "      <td>49</td>\n",
              "      <td>102</td>\n",
              "      <td>...</td>\n",
              "      <td>70</td>\n",
              "      <td>80</td>\n",
              "      <td>71</td>\n",
              "      <td>74</td>\n",
              "      <td>60</td>\n",
              "      <td>39</td>\n",
              "      <td>38</td>\n",
              "      <td>55</td>\n",
              "      <td>52</td>\n",
              "      <td>2163</td>\n",
              "    </tr>\n",
              "    <tr>\n",
              "      <th>4</th>\n",
              "      <td>54</td>\n",
              "      <td>40</td>\n",
              "      <td>84</td>\n",
              "      <td>75</td>\n",
              "      <td>39</td>\n",
              "      <td>67</td>\n",
              "      <td>43</td>\n",
              "      <td>48</td>\n",
              "      <td>56</td>\n",
              "      <td>89</td>\n",
              "      <td>...</td>\n",
              "      <td>42</td>\n",
              "      <td>62</td>\n",
              "      <td>53</td>\n",
              "      <td>78</td>\n",
              "      <td>117</td>\n",
              "      <td>74</td>\n",
              "      <td>80</td>\n",
              "      <td>70</td>\n",
              "      <td>49</td>\n",
              "      <td>1920</td>\n",
              "    </tr>\n",
              "    <tr>\n",
              "      <th>5</th>\n",
              "      <td>57</td>\n",
              "      <td>50</td>\n",
              "      <td>62</td>\n",
              "      <td>60</td>\n",
              "      <td>58</td>\n",
              "      <td>46</td>\n",
              "      <td>63</td>\n",
              "      <td>39</td>\n",
              "      <td>56</td>\n",
              "      <td>42</td>\n",
              "      <td>...</td>\n",
              "      <td>54</td>\n",
              "      <td>34</td>\n",
              "      <td>49</td>\n",
              "      <td>76</td>\n",
              "      <td>73</td>\n",
              "      <td>69</td>\n",
              "      <td>82</td>\n",
              "      <td>56</td>\n",
              "      <td>69</td>\n",
              "      <td>1875</td>\n",
              "    </tr>\n",
              "    <tr>\n",
              "      <th>6</th>\n",
              "      <td>52</td>\n",
              "      <td>66</td>\n",
              "      <td>37</td>\n",
              "      <td>72</td>\n",
              "      <td>75</td>\n",
              "      <td>74</td>\n",
              "      <td>85</td>\n",
              "      <td>75</td>\n",
              "      <td>57</td>\n",
              "      <td>63</td>\n",
              "      <td>...</td>\n",
              "      <td>73</td>\n",
              "      <td>104</td>\n",
              "      <td>74</td>\n",
              "      <td>49</td>\n",
              "      <td>72</td>\n",
              "      <td>66</td>\n",
              "      <td>62</td>\n",
              "      <td>70</td>\n",
              "      <td>51</td>\n",
              "      <td>1962</td>\n",
              "    </tr>\n",
              "    <tr>\n",
              "      <th>7</th>\n",
              "      <td>52</td>\n",
              "      <td>81</td>\n",
              "      <td>66</td>\n",
              "      <td>68</td>\n",
              "      <td>51</td>\n",
              "      <td>49</td>\n",
              "      <td>65</td>\n",
              "      <td>66</td>\n",
              "      <td>74</td>\n",
              "      <td>67</td>\n",
              "      <td>...</td>\n",
              "      <td>38</td>\n",
              "      <td>44</td>\n",
              "      <td>53</td>\n",
              "      <td>48</td>\n",
              "      <td>85</td>\n",
              "      <td>60</td>\n",
              "      <td>39</td>\n",
              "      <td>71</td>\n",
              "      <td>15</td>\n",
              "      <td>1773</td>\n",
              "    </tr>\n",
              "    <tr>\n",
              "      <th>8</th>\n",
              "      <td>61</td>\n",
              "      <td>44</td>\n",
              "      <td>57</td>\n",
              "      <td>67</td>\n",
              "      <td>66</td>\n",
              "      <td>34</td>\n",
              "      <td>44</td>\n",
              "      <td>42</td>\n",
              "      <td>102</td>\n",
              "      <td>45</td>\n",
              "      <td>...</td>\n",
              "      <td>49</td>\n",
              "      <td>63</td>\n",
              "      <td>46</td>\n",
              "      <td>81</td>\n",
              "      <td>24</td>\n",
              "      <td>38</td>\n",
              "      <td>54</td>\n",
              "      <td>61</td>\n",
              "      <td>92</td>\n",
              "      <td>1873</td>\n",
              "    </tr>\n",
              "    <tr>\n",
              "      <th>9</th>\n",
              "      <td>35</td>\n",
              "      <td>74</td>\n",
              "      <td>73</td>\n",
              "      <td>58</td>\n",
              "      <td>71</td>\n",
              "      <td>67</td>\n",
              "      <td>61</td>\n",
              "      <td>70</td>\n",
              "      <td>73</td>\n",
              "      <td>88</td>\n",
              "      <td>...</td>\n",
              "      <td>83</td>\n",
              "      <td>81</td>\n",
              "      <td>80</td>\n",
              "      <td>79</td>\n",
              "      <td>68</td>\n",
              "      <td>58</td>\n",
              "      <td>60</td>\n",
              "      <td>67</td>\n",
              "      <td>92</td>\n",
              "      <td>2069</td>\n",
              "    </tr>\n",
              "    <tr>\n",
              "      <th>10</th>\n",
              "      <td>62</td>\n",
              "      <td>85</td>\n",
              "      <td>76</td>\n",
              "      <td>54</td>\n",
              "      <td>44</td>\n",
              "      <td>56</td>\n",
              "      <td>38</td>\n",
              "      <td>62</td>\n",
              "      <td>46</td>\n",
              "      <td>88</td>\n",
              "      <td>...</td>\n",
              "      <td>68</td>\n",
              "      <td>70</td>\n",
              "      <td>53</td>\n",
              "      <td>82</td>\n",
              "      <td>79</td>\n",
              "      <td>57</td>\n",
              "      <td>95</td>\n",
              "      <td>39</td>\n",
              "      <td>63</td>\n",
              "      <td>1715</td>\n",
              "    </tr>\n",
              "    <tr>\n",
              "      <th>11</th>\n",
              "      <td>77</td>\n",
              "      <td>73</td>\n",
              "      <td>41</td>\n",
              "      <td>32</td>\n",
              "      <td>34</td>\n",
              "      <td>39</td>\n",
              "      <td>70</td>\n",
              "      <td>42</td>\n",
              "      <td>47</td>\n",
              "      <td>47</td>\n",
              "      <td>...</td>\n",
              "      <td>78</td>\n",
              "      <td>56</td>\n",
              "      <td>72</td>\n",
              "      <td>70</td>\n",
              "      <td>58</td>\n",
              "      <td>59</td>\n",
              "      <td>25</td>\n",
              "      <td>52</td>\n",
              "      <td>53</td>\n",
              "      <td>1847</td>\n",
              "    </tr>\n",
              "    <tr>\n",
              "      <th>12</th>\n",
              "      <td>74</td>\n",
              "      <td>47</td>\n",
              "      <td>70</td>\n",
              "      <td>91</td>\n",
              "      <td>62</td>\n",
              "      <td>74</td>\n",
              "      <td>79</td>\n",
              "      <td>46</td>\n",
              "      <td>51</td>\n",
              "      <td>82</td>\n",
              "      <td>...</td>\n",
              "      <td>59</td>\n",
              "      <td>63</td>\n",
              "      <td>85</td>\n",
              "      <td>68</td>\n",
              "      <td>46</td>\n",
              "      <td>62</td>\n",
              "      <td>43</td>\n",
              "      <td>74</td>\n",
              "      <td>64</td>\n",
              "      <td>1797</td>\n",
              "    </tr>\n",
              "    <tr>\n",
              "      <th>13</th>\n",
              "      <td>45</td>\n",
              "      <td>60</td>\n",
              "      <td>48</td>\n",
              "      <td>39</td>\n",
              "      <td>57</td>\n",
              "      <td>70</td>\n",
              "      <td>43</td>\n",
              "      <td>64</td>\n",
              "      <td>95</td>\n",
              "      <td>71</td>\n",
              "      <td>...</td>\n",
              "      <td>64</td>\n",
              "      <td>72</td>\n",
              "      <td>38</td>\n",
              "      <td>60</td>\n",
              "      <td>61</td>\n",
              "      <td>55</td>\n",
              "      <td>42</td>\n",
              "      <td>53</td>\n",
              "      <td>48</td>\n",
              "      <td>1923</td>\n",
              "    </tr>\n",
              "    <tr>\n",
              "      <th>14</th>\n",
              "      <td>54</td>\n",
              "      <td>67</td>\n",
              "      <td>90</td>\n",
              "      <td>49</td>\n",
              "      <td>40</td>\n",
              "      <td>56</td>\n",
              "      <td>72</td>\n",
              "      <td>44</td>\n",
              "      <td>52</td>\n",
              "      <td>48</td>\n",
              "      <td>...</td>\n",
              "      <td>41</td>\n",
              "      <td>69</td>\n",
              "      <td>79</td>\n",
              "      <td>45</td>\n",
              "      <td>49</td>\n",
              "      <td>95</td>\n",
              "      <td>41</td>\n",
              "      <td>71</td>\n",
              "      <td>64</td>\n",
              "      <td>1881</td>\n",
              "    </tr>\n",
              "    <tr>\n",
              "      <th>15</th>\n",
              "      <td>65</td>\n",
              "      <td>31</td>\n",
              "      <td>42</td>\n",
              "      <td>74</td>\n",
              "      <td>59</td>\n",
              "      <td>68</td>\n",
              "      <td>46</td>\n",
              "      <td>66</td>\n",
              "      <td>51</td>\n",
              "      <td>52</td>\n",
              "      <td>...</td>\n",
              "      <td>100</td>\n",
              "      <td>67</td>\n",
              "      <td>79</td>\n",
              "      <td>73</td>\n",
              "      <td>75</td>\n",
              "      <td>43</td>\n",
              "      <td>72</td>\n",
              "      <td>28</td>\n",
              "      <td>70</td>\n",
              "      <td>1969</td>\n",
              "    </tr>\n",
              "    <tr>\n",
              "      <th>16</th>\n",
              "      <td>40</td>\n",
              "      <td>73</td>\n",
              "      <td>61</td>\n",
              "      <td>87</td>\n",
              "      <td>74</td>\n",
              "      <td>47</td>\n",
              "      <td>26</td>\n",
              "      <td>76</td>\n",
              "      <td>60</td>\n",
              "      <td>84</td>\n",
              "      <td>...</td>\n",
              "      <td>53</td>\n",
              "      <td>71</td>\n",
              "      <td>64</td>\n",
              "      <td>89</td>\n",
              "      <td>72</td>\n",
              "      <td>90</td>\n",
              "      <td>77</td>\n",
              "      <td>38</td>\n",
              "      <td>64</td>\n",
              "      <td>2082</td>\n",
              "    </tr>\n",
              "    <tr>\n",
              "      <th>17</th>\n",
              "      <td>89</td>\n",
              "      <td>67</td>\n",
              "      <td>79</td>\n",
              "      <td>85</td>\n",
              "      <td>65</td>\n",
              "      <td>61</td>\n",
              "      <td>76</td>\n",
              "      <td>70</td>\n",
              "      <td>50</td>\n",
              "      <td>67</td>\n",
              "      <td>...</td>\n",
              "      <td>86</td>\n",
              "      <td>62</td>\n",
              "      <td>63</td>\n",
              "      <td>44</td>\n",
              "      <td>55</td>\n",
              "      <td>42</td>\n",
              "      <td>87</td>\n",
              "      <td>60</td>\n",
              "      <td>78</td>\n",
              "      <td>1859</td>\n",
              "    </tr>\n",
              "    <tr>\n",
              "      <th>18</th>\n",
              "      <td>53</td>\n",
              "      <td>56</td>\n",
              "      <td>71</td>\n",
              "      <td>69</td>\n",
              "      <td>60</td>\n",
              "      <td>58</td>\n",
              "      <td>50</td>\n",
              "      <td>77</td>\n",
              "      <td>60</td>\n",
              "      <td>64</td>\n",
              "      <td>...</td>\n",
              "      <td>57</td>\n",
              "      <td>70</td>\n",
              "      <td>73</td>\n",
              "      <td>62</td>\n",
              "      <td>42</td>\n",
              "      <td>58</td>\n",
              "      <td>51</td>\n",
              "      <td>73</td>\n",
              "      <td>66</td>\n",
              "      <td>2011</td>\n",
              "    </tr>\n",
              "    <tr>\n",
              "      <th>19</th>\n",
              "      <td>40</td>\n",
              "      <td>99</td>\n",
              "      <td>76</td>\n",
              "      <td>52</td>\n",
              "      <td>35</td>\n",
              "      <td>70</td>\n",
              "      <td>59</td>\n",
              "      <td>94</td>\n",
              "      <td>109</td>\n",
              "      <td>88</td>\n",
              "      <td>...</td>\n",
              "      <td>53</td>\n",
              "      <td>75</td>\n",
              "      <td>79</td>\n",
              "      <td>45</td>\n",
              "      <td>73</td>\n",
              "      <td>35</td>\n",
              "      <td>52</td>\n",
              "      <td>55</td>\n",
              "      <td>64</td>\n",
              "      <td>1847</td>\n",
              "    </tr>\n",
              "    <tr>\n",
              "      <th>20</th>\n",
              "      <td>55</td>\n",
              "      <td>74</td>\n",
              "      <td>32</td>\n",
              "      <td>76</td>\n",
              "      <td>54</td>\n",
              "      <td>69</td>\n",
              "      <td>50</td>\n",
              "      <td>70</td>\n",
              "      <td>61</td>\n",
              "      <td>104</td>\n",
              "      <td>...</td>\n",
              "      <td>91</td>\n",
              "      <td>52</td>\n",
              "      <td>53</td>\n",
              "      <td>76</td>\n",
              "      <td>75</td>\n",
              "      <td>60</td>\n",
              "      <td>69</td>\n",
              "      <td>86</td>\n",
              "      <td>73</td>\n",
              "      <td>1859</td>\n",
              "    </tr>\n",
              "    <tr>\n",
              "      <th>21</th>\n",
              "      <td>80</td>\n",
              "      <td>51</td>\n",
              "      <td>51</td>\n",
              "      <td>40</td>\n",
              "      <td>67</td>\n",
              "      <td>56</td>\n",
              "      <td>39</td>\n",
              "      <td>76</td>\n",
              "      <td>46</td>\n",
              "      <td>68</td>\n",
              "      <td>...</td>\n",
              "      <td>50</td>\n",
              "      <td>54</td>\n",
              "      <td>61</td>\n",
              "      <td>58</td>\n",
              "      <td>82</td>\n",
              "      <td>86</td>\n",
              "      <td>46</td>\n",
              "      <td>75</td>\n",
              "      <td>52</td>\n",
              "      <td>1974</td>\n",
              "    </tr>\n",
              "    <tr>\n",
              "      <th>22</th>\n",
              "      <td>66</td>\n",
              "      <td>59</td>\n",
              "      <td>71</td>\n",
              "      <td>61</td>\n",
              "      <td>67</td>\n",
              "      <td>75</td>\n",
              "      <td>37</td>\n",
              "      <td>44</td>\n",
              "      <td>72</td>\n",
              "      <td>38</td>\n",
              "      <td>...</td>\n",
              "      <td>58</td>\n",
              "      <td>59</td>\n",
              "      <td>57</td>\n",
              "      <td>54</td>\n",
              "      <td>60</td>\n",
              "      <td>57</td>\n",
              "      <td>69</td>\n",
              "      <td>49</td>\n",
              "      <td>62</td>\n",
              "      <td>1956</td>\n",
              "    </tr>\n",
              "    <tr>\n",
              "      <th>23</th>\n",
              "      <td>48</td>\n",
              "      <td>56</td>\n",
              "      <td>49</td>\n",
              "      <td>40</td>\n",
              "      <td>71</td>\n",
              "      <td>64</td>\n",
              "      <td>74</td>\n",
              "      <td>79</td>\n",
              "      <td>93</td>\n",
              "      <td>43</td>\n",
              "      <td>...</td>\n",
              "      <td>49</td>\n",
              "      <td>107</td>\n",
              "      <td>80</td>\n",
              "      <td>53</td>\n",
              "      <td>63</td>\n",
              "      <td>76</td>\n",
              "      <td>86</td>\n",
              "      <td>80</td>\n",
              "      <td>86</td>\n",
              "      <td>2036</td>\n",
              "    </tr>\n",
              "    <tr>\n",
              "      <th>24</th>\n",
              "      <td>68</td>\n",
              "      <td>44</td>\n",
              "      <td>40</td>\n",
              "      <td>44</td>\n",
              "      <td>63</td>\n",
              "      <td>58</td>\n",
              "      <td>60</td>\n",
              "      <td>103</td>\n",
              "      <td>61</td>\n",
              "      <td>64</td>\n",
              "      <td>...</td>\n",
              "      <td>78</td>\n",
              "      <td>55</td>\n",
              "      <td>45</td>\n",
              "      <td>64</td>\n",
              "      <td>75</td>\n",
              "      <td>50</td>\n",
              "      <td>67</td>\n",
              "      <td>76</td>\n",
              "      <td>61</td>\n",
              "      <td>1702</td>\n",
              "    </tr>\n",
              "    <tr>\n",
              "      <th>25</th>\n",
              "      <td>50</td>\n",
              "      <td>102</td>\n",
              "      <td>64</td>\n",
              "      <td>72</td>\n",
              "      <td>56</td>\n",
              "      <td>62</td>\n",
              "      <td>105</td>\n",
              "      <td>44</td>\n",
              "      <td>74</td>\n",
              "      <td>67</td>\n",
              "      <td>...</td>\n",
              "      <td>48</td>\n",
              "      <td>53</td>\n",
              "      <td>51</td>\n",
              "      <td>91</td>\n",
              "      <td>55</td>\n",
              "      <td>63</td>\n",
              "      <td>45</td>\n",
              "      <td>61</td>\n",
              "      <td>51</td>\n",
              "      <td>1860</td>\n",
              "    </tr>\n",
              "    <tr>\n",
              "      <th>26</th>\n",
              "      <td>51</td>\n",
              "      <td>74</td>\n",
              "      <td>62</td>\n",
              "      <td>79</td>\n",
              "      <td>56</td>\n",
              "      <td>72</td>\n",
              "      <td>101</td>\n",
              "      <td>69</td>\n",
              "      <td>73</td>\n",
              "      <td>59</td>\n",
              "      <td>...</td>\n",
              "      <td>37</td>\n",
              "      <td>47</td>\n",
              "      <td>71</td>\n",
              "      <td>46</td>\n",
              "      <td>54</td>\n",
              "      <td>45</td>\n",
              "      <td>68</td>\n",
              "      <td>70</td>\n",
              "      <td>88</td>\n",
              "      <td>1889</td>\n",
              "    </tr>\n",
              "    <tr>\n",
              "      <th>27</th>\n",
              "      <td>49</td>\n",
              "      <td>43</td>\n",
              "      <td>43</td>\n",
              "      <td>35</td>\n",
              "      <td>74</td>\n",
              "      <td>47</td>\n",
              "      <td>84</td>\n",
              "      <td>48</td>\n",
              "      <td>58</td>\n",
              "      <td>71</td>\n",
              "      <td>...</td>\n",
              "      <td>65</td>\n",
              "      <td>59</td>\n",
              "      <td>61</td>\n",
              "      <td>84</td>\n",
              "      <td>98</td>\n",
              "      <td>48</td>\n",
              "      <td>78</td>\n",
              "      <td>57</td>\n",
              "      <td>92</td>\n",
              "      <td>1867</td>\n",
              "    </tr>\n",
              "    <tr>\n",
              "      <th>28</th>\n",
              "      <td>47</td>\n",
              "      <td>89</td>\n",
              "      <td>62</td>\n",
              "      <td>56</td>\n",
              "      <td>38</td>\n",
              "      <td>57</td>\n",
              "      <td>64</td>\n",
              "      <td>50</td>\n",
              "      <td>59</td>\n",
              "      <td>65</td>\n",
              "      <td>...</td>\n",
              "      <td>48</td>\n",
              "      <td>59</td>\n",
              "      <td>52</td>\n",
              "      <td>60</td>\n",
              "      <td>47</td>\n",
              "      <td>62</td>\n",
              "      <td>45</td>\n",
              "      <td>58</td>\n",
              "      <td>89</td>\n",
              "      <td>1926</td>\n",
              "    </tr>\n",
              "    <tr>\n",
              "      <th>29</th>\n",
              "      <td>77</td>\n",
              "      <td>51</td>\n",
              "      <td>44</td>\n",
              "      <td>67</td>\n",
              "      <td>63</td>\n",
              "      <td>78</td>\n",
              "      <td>41</td>\n",
              "      <td>63</td>\n",
              "      <td>50</td>\n",
              "      <td>97</td>\n",
              "      <td>...</td>\n",
              "      <td>49</td>\n",
              "      <td>55</td>\n",
              "      <td>83</td>\n",
              "      <td>60</td>\n",
              "      <td>73</td>\n",
              "      <td>67</td>\n",
              "      <td>47</td>\n",
              "      <td>57</td>\n",
              "      <td>65</td>\n",
              "      <td>1969</td>\n",
              "    </tr>\n",
              "  </tbody>\n",
              "</table>\n",
              "<p>30 rows × 90 columns</p>\n",
              "</div>\n",
              "      <button class=\"colab-df-convert\" onclick=\"convertToInteractive('df-63578242-a830-4692-802f-ea1f8b433457')\"\n",
              "              title=\"Convert this dataframe to an interactive table.\"\n",
              "              style=\"display:none;\">\n",
              "        \n",
              "  <svg xmlns=\"http://www.w3.org/2000/svg\" height=\"24px\"viewBox=\"0 0 24 24\"\n",
              "       width=\"24px\">\n",
              "    <path d=\"M0 0h24v24H0V0z\" fill=\"none\"/>\n",
              "    <path d=\"M18.56 5.44l.94 2.06.94-2.06 2.06-.94-2.06-.94-.94-2.06-.94 2.06-2.06.94zm-11 1L8.5 8.5l.94-2.06 2.06-.94-2.06-.94L8.5 2.5l-.94 2.06-2.06.94zm10 10l.94 2.06.94-2.06 2.06-.94-2.06-.94-.94-2.06-.94 2.06-2.06.94z\"/><path d=\"M17.41 7.96l-1.37-1.37c-.4-.4-.92-.59-1.43-.59-.52 0-1.04.2-1.43.59L10.3 9.45l-7.72 7.72c-.78.78-.78 2.05 0 2.83L4 21.41c.39.39.9.59 1.41.59.51 0 1.02-.2 1.41-.59l7.78-7.78 2.81-2.81c.8-.78.8-2.07 0-2.86zM5.41 20L4 18.59l7.72-7.72 1.47 1.35L5.41 20z\"/>\n",
              "  </svg>\n",
              "      </button>\n",
              "      \n",
              "  <style>\n",
              "    .colab-df-container {\n",
              "      display:flex;\n",
              "      flex-wrap:wrap;\n",
              "      gap: 12px;\n",
              "    }\n",
              "\n",
              "    .colab-df-convert {\n",
              "      background-color: #E8F0FE;\n",
              "      border: none;\n",
              "      border-radius: 50%;\n",
              "      cursor: pointer;\n",
              "      display: none;\n",
              "      fill: #1967D2;\n",
              "      height: 32px;\n",
              "      padding: 0 0 0 0;\n",
              "      width: 32px;\n",
              "    }\n",
              "\n",
              "    .colab-df-convert:hover {\n",
              "      background-color: #E2EBFA;\n",
              "      box-shadow: 0px 1px 2px rgba(60, 64, 67, 0.3), 0px 1px 3px 1px rgba(60, 64, 67, 0.15);\n",
              "      fill: #174EA6;\n",
              "    }\n",
              "\n",
              "    [theme=dark] .colab-df-convert {\n",
              "      background-color: #3B4455;\n",
              "      fill: #D2E3FC;\n",
              "    }\n",
              "\n",
              "    [theme=dark] .colab-df-convert:hover {\n",
              "      background-color: #434B5C;\n",
              "      box-shadow: 0px 1px 3px 1px rgba(0, 0, 0, 0.15);\n",
              "      filter: drop-shadow(0px 1px 2px rgba(0, 0, 0, 0.3));\n",
              "      fill: #FFFFFF;\n",
              "    }\n",
              "  </style>\n",
              "\n",
              "      <script>\n",
              "        const buttonEl =\n",
              "          document.querySelector('#df-63578242-a830-4692-802f-ea1f8b433457 button.colab-df-convert');\n",
              "        buttonEl.style.display =\n",
              "          google.colab.kernel.accessAllowed ? 'block' : 'none';\n",
              "\n",
              "        async function convertToInteractive(key) {\n",
              "          const element = document.querySelector('#df-63578242-a830-4692-802f-ea1f8b433457');\n",
              "          const dataTable =\n",
              "            await google.colab.kernel.invokeFunction('convertToInteractive',\n",
              "                                                     [key], {});\n",
              "          if (!dataTable) return;\n",
              "\n",
              "          const docLinkHtml = 'Like what you see? Visit the ' +\n",
              "            '<a target=\"_blank\" href=https://colab.research.google.com/notebooks/data_table.ipynb>data table notebook</a>'\n",
              "            + ' to learn more about interactive tables.';\n",
              "          element.innerHTML = '';\n",
              "          dataTable['output_type'] = 'display_data';\n",
              "          await google.colab.output.renderOutput(dataTable, element);\n",
              "          const docLink = document.createElement('div');\n",
              "          docLink.innerHTML = docLinkHtml;\n",
              "          element.appendChild(docLink);\n",
              "        }\n",
              "      </script>\n",
              "    </div>\n",
              "  </div>\n",
              "  "
            ]
          },
          "metadata": {},
          "execution_count": 47
        }
      ],
      "source": [
        "df1"
      ]
    },
    {
      "cell_type": "code",
      "execution_count": 48,
      "metadata": {
        "id": "OfDeeQRP8QoU"
      },
      "outputs": [],
      "source": [
        "Y = df1[\"Order Item Quantity\"]\n",
        "X = df1.drop(columns=[\"Order Item Quantity\"])"
      ]
    },
    {
      "cell_type": "markdown",
      "metadata": {
        "id": "PFAywp7Nci6Q"
      },
      "source": [
        "## Fitting the Model"
      ]
    },
    {
      "cell_type": "markdown",
      "metadata": {
        "id": "U54LaGlDci6Q"
      },
      "source": [
        "# XgBoost Regressor\n",
        "### VARIATION-I [FEATURES : Previous 90 Days Sales]"
      ]
    },
    {
      "cell_type": "markdown",
      "metadata": {
        "id": "Px4UR1Ssci6Q"
      },
      "source": [
        "### Train Test Split"
      ]
    },
    {
      "cell_type": "code",
      "execution_count": 49,
      "metadata": {
        "colab": {
          "base_uri": "https://localhost:8080/"
        },
        "id": "CI_2XNqIci6R",
        "outputId": "f3387f50-114a-4f34-d451-cc580122888c"
      },
      "outputs": [
        {
          "output_type": "stream",
          "name": "stdout",
          "text": [
            "No. of training examples: 24\n",
            "No. of testing examples: 6\n"
          ]
        }
      ],
      "source": [
        "from sklearn.model_selection import train_test_split\n",
        "training_data, testing_data = train_test_split(df1, test_size=0.2, shuffle=False, random_state=1)\n",
        "print(f\"No. of training examples: {training_data.shape[0]}\")\n",
        "print(f\"No. of testing examples: {testing_data.shape[0]}\")"
      ]
    },
    {
      "cell_type": "code",
      "execution_count": 50,
      "metadata": {
        "id": "MsxJ9y95ci6R"
      },
      "outputs": [],
      "source": [
        "x_train, y_train = training_data.drop(\"Order Item Quantity\", axis=1), training_data['Order Item Quantity']\n",
        "x_test, y_test   = testing_data.drop(\"Order Item Quantity\", axis=1) , testing_data['Order Item Quantity']"
      ]
    },
    {
      "cell_type": "code",
      "execution_count": 51,
      "metadata": {
        "colab": {
          "base_uri": "https://localhost:8080/"
        },
        "id": "wk14Vku-ci6R",
        "outputId": "956dcd27-b7e5-4c0a-f26a-bbf6d33c46c6"
      },
      "outputs": [
        {
          "output_type": "stream",
          "name": "stdout",
          "text": [
            "[00:27:35] WARNING: /workspace/src/objective/regression_obj.cu:152: reg:linear is now deprecated in favor of reg:squarederror.\n"
          ]
        },
        {
          "output_type": "execute_result",
          "data": {
            "text/plain": [
              "XGBRegressor()"
            ]
          },
          "metadata": {},
          "execution_count": 51
        }
      ],
      "source": [
        "import xgboost as xgb\n",
        "from sklearn.metrics import mean_absolute_error\n",
        "model = xgb.XGBRegressor()\n",
        "model.fit(x_train, y_train)"
      ]
    },
    {
      "cell_type": "markdown",
      "metadata": {
        "id": "JrghlSN0ci6R"
      },
      "source": [
        "### Evaluation Metric"
      ]
    },
    {
      "cell_type": "code",
      "execution_count": 52,
      "metadata": {
        "id": "yQA_WRhFci6R"
      },
      "outputs": [],
      "source": [
        "preds = pd.DataFrame(model.predict(x_test))"
      ]
    },
    {
      "cell_type": "code",
      "execution_count": 53,
      "metadata": {
        "id": "O2mk2jGici6S"
      },
      "outputs": [],
      "source": [
        "from sklearn.metrics import mean_absolute_error, mean_squared_error"
      ]
    },
    {
      "cell_type": "code",
      "execution_count": 54,
      "metadata": {
        "colab": {
          "base_uri": "https://localhost:8080/"
        },
        "id": "c5PKtH8Nci6S",
        "outputId": "733d02e3-a30c-4384-efe5-0f569f5af84d"
      },
      "outputs": [
        {
          "output_type": "stream",
          "name": "stdout",
          "text": [
            "\tMean absolute error (MAE): 83.69883219401042\n",
            "\tRoot Mean squared error (RMSE): 111.52784984080715\n"
          ]
        }
      ],
      "source": [
        "print(\"\\tMean absolute error (MAE):\", mean_absolute_error(y_test, preds))\n",
        "print(\"\\tRoot Mean squared error (RMSE):\",  np.sqrt(mean_squared_error(y_test, preds)))"
      ]
    },
    {
      "cell_type": "code",
      "execution_count": 55,
      "metadata": {
        "colab": {
          "base_uri": "https://localhost:8080/"
        },
        "id": "zsqEeO_tci6S",
        "outputId": "c04a29c0-e543-466e-a1af-8f3d1c3eb54b"
      },
      "outputs": [
        {
          "output_type": "execute_result",
          "data": {
            "text/plain": [
              "4.628934248173644"
            ]
          },
          "metadata": {},
          "execution_count": 55
        }
      ],
      "source": [
        "from sklearn.metrics import mean_absolute_percentage_error\n",
        "mean_absolute_percentage_error(y_test, preds)*100"
      ]
    },
    {
      "cell_type": "code",
      "execution_count": 56,
      "metadata": {
        "colab": {
          "base_uri": "https://localhost:8080/"
        },
        "id": "1btCRP1Uci6S",
        "outputId": "a38fdce8-c0ea-4089-b730-b1fcb81a5d3c"
      },
      "outputs": [
        {
          "output_type": "stream",
          "name": "stdout",
          "text": [
            "24    1702\n",
            "25    1860\n",
            "26    1889\n",
            "27    1867\n",
            "28    1926\n",
            "29    1969\n",
            "Name: Order Item Quantity, dtype: int64\n",
            "             0\n",
            "0  1909.161133\n",
            "1  1812.569824\n",
            "2  1888.194336\n",
            "3  1988.933105\n",
            "4  1805.251709\n",
            "5  1973.114624\n"
          ]
        }
      ],
      "source": [
        "print(y_test)\n",
        "\n",
        "print(preds)"
      ]
    },
    {
      "cell_type": "code",
      "execution_count": 57,
      "metadata": {
        "id": "6OyeWvvr_DIM"
      },
      "outputs": [],
      "source": [
        "Y = df1[\"Order Item Quantity\"]\n",
        "X = df1.drop(columns=[\"Order Item Quantity\"])"
      ]
    },
    {
      "cell_type": "markdown",
      "metadata": {
        "id": "go0jmjdzci6S"
      },
      "source": [
        "## K-fold Cross Validation"
      ]
    },
    {
      "cell_type": "code",
      "execution_count": 58,
      "metadata": {
        "id": "5lsz98kuci6T"
      },
      "outputs": [],
      "source": [
        "# Since the Data is limited for training we will use k-fold cross validation\n",
        "from sklearn.model_selection import KFold\n",
        "from sklearn.model_selection import cross_val_score\n",
        "from sklearn.model_selection import cross_val_predict\n",
        "from numpy import mean\n",
        "from numpy import absolute\n",
        "from numpy import sqrt\n",
        "\n",
        "\n"
      ]
    },
    {
      "cell_type": "code",
      "execution_count": 59,
      "metadata": {
        "colab": {
          "base_uri": "https://localhost:8080/"
        },
        "id": "Qg2aKgCyci6T",
        "outputId": "a0b2c872-4afc-48c2-8a2d-980556e1d7f2"
      },
      "outputs": [
        {
          "output_type": "execute_result",
          "data": {
            "text/plain": [
              "(30, 90)"
            ]
          },
          "metadata": {},
          "execution_count": 59
        }
      ],
      "source": [
        "df1.shape"
      ]
    },
    {
      "cell_type": "code",
      "execution_count": 60,
      "metadata": {
        "id": "l9JKMwYQci6T"
      },
      "outputs": [],
      "source": [
        "#define cross-validation method to use\n",
        "\n",
        "cv = KFold(n_splits=10, random_state=1, shuffle=True)\n",
        "\n",
        "#build xtreme gradient boosting model\n",
        "xgboost = xgb.XGBRegressor() "
      ]
    },
    {
      "cell_type": "markdown",
      "metadata": {
        "id": "lX_i-gX7ci6T"
      },
      "source": [
        "### Model Evaluation"
      ]
    },
    {
      "cell_type": "code",
      "execution_count": 61,
      "metadata": {
        "colab": {
          "base_uri": "https://localhost:8080/"
        },
        "id": "Z_VOeoykci6T",
        "outputId": "d2673a41-290b-4bb8-ab32-de8bca0ed6db"
      },
      "outputs": [
        {
          "output_type": "execute_result",
          "data": {
            "text/plain": [
              "array([ -69.46663411, -119.69714355, -174.60860189,  -81.73620605,\n",
              "        -67.48608398, -112.58699544, -146.95967611,  -61.35563151,\n",
              "       -108.91190592,  -58.05586751])"
            ]
          },
          "metadata": {},
          "execution_count": 61
        }
      ],
      "source": [
        "#use k-fold CV to evaluate model\n",
        "score1 = cross_val_score(xgboost, X, Y, scoring='neg_mean_absolute_error',\n",
        "                         cv=cv, n_jobs=-1)\n",
        "#view mean absolute errors\n",
        "score1\n"
      ]
    },
    {
      "cell_type": "code",
      "execution_count": 62,
      "metadata": {
        "colab": {
          "base_uri": "https://localhost:8080/"
        },
        "id": "OLOa8xWPci6U",
        "outputId": "e4ba38e8-c4a2-4842-d149-c6c4de0a6718"
      },
      "outputs": [
        {
          "output_type": "stream",
          "name": "stdout",
          "text": [
            "\tMean absolute error (MAE): 100.086474609375\n"
          ]
        }
      ],
      "source": [
        "print(\"\\tMean absolute error (MAE):\", mean(absolute(score1)))"
      ]
    },
    {
      "cell_type": "code",
      "execution_count": 63,
      "metadata": {
        "colab": {
          "base_uri": "https://localhost:8080/"
        },
        "id": "CoYV3pxGci6U",
        "outputId": "104a5189-3fd2-44b1-ed9f-f5b9905672ab"
      },
      "outputs": [
        {
          "output_type": "stream",
          "name": "stdout",
          "text": [
            "\tRoot Mean squared error (RMSE): 120.35236196592693\n"
          ]
        }
      ],
      "source": [
        "score2 = cross_val_score(xgboost, X, Y, scoring='neg_mean_squared_error',\n",
        "                         cv=cv, n_jobs=-1)\n",
        "print(\"\\tRoot Mean squared error (RMSE):\", sqrt(mean(absolute(score2))))"
      ]
    },
    {
      "cell_type": "code",
      "execution_count": 64,
      "metadata": {
        "colab": {
          "base_uri": "https://localhost:8080/"
        },
        "id": "T_Jcl7g5ci6U",
        "outputId": "0fac548d-1268-4787-fbea-31015eb85264"
      },
      "outputs": [
        {
          "output_type": "stream",
          "name": "stdout",
          "text": [
            "[00:27:38] WARNING: /workspace/src/objective/regression_obj.cu:152: reg:linear is now deprecated in favor of reg:squarederror.\n",
            "[00:27:38] WARNING: /workspace/src/objective/regression_obj.cu:152: reg:linear is now deprecated in favor of reg:squarederror.\n",
            "[00:27:38] WARNING: /workspace/src/objective/regression_obj.cu:152: reg:linear is now deprecated in favor of reg:squarederror.\n",
            "[00:27:38] WARNING: /workspace/src/objective/regression_obj.cu:152: reg:linear is now deprecated in favor of reg:squarederror.\n",
            "[00:27:38] WARNING: /workspace/src/objective/regression_obj.cu:152: reg:linear is now deprecated in favor of reg:squarederror.\n",
            "[00:27:38] WARNING: /workspace/src/objective/regression_obj.cu:152: reg:linear is now deprecated in favor of reg:squarederror.\n",
            "[00:27:38] WARNING: /workspace/src/objective/regression_obj.cu:152: reg:linear is now deprecated in favor of reg:squarederror.\n",
            "[00:27:38] WARNING: /workspace/src/objective/regression_obj.cu:152: reg:linear is now deprecated in favor of reg:squarederror.\n",
            "[00:27:38] WARNING: /workspace/src/objective/regression_obj.cu:152: reg:linear is now deprecated in favor of reg:squarederror.\n",
            "[00:27:38] WARNING: /workspace/src/objective/regression_obj.cu:152: reg:linear is now deprecated in favor of reg:squarederror.\n"
          ]
        },
        {
          "output_type": "execute_result",
          "data": {
            "text/plain": [
              "array([-2.95904639, -5.42965886, -8.09251713, -3.09426728, -2.70489664,\n",
              "       -4.96841746, -6.37498339, -2.12507667, -4.41592377, -2.19427977])"
            ]
          },
          "metadata": {},
          "execution_count": 64
        }
      ],
      "source": [
        "from sklearn.metrics import make_scorer\n",
        "\n",
        "#define custom function which returns single output as metric score\n",
        "def MAPE(y_true, y_pred): \n",
        "    return 1 - np.mean(np.abs((y_true - y_pred) / y_true)) * 100\n",
        "\n",
        "#make scorer from custome function\n",
        "mape_scorer = make_scorer(MAPE)\n",
        "\n",
        "#cross validation score on model\n",
        "#reg = LinearRegression()\n",
        "score3 = cross_val_score(xgboost, X, Y, scoring=mape_scorer, cv=cv)\n",
        "score3"
      ]
    },
    {
      "cell_type": "code",
      "execution_count": 65,
      "metadata": {
        "colab": {
          "base_uri": "https://localhost:8080/"
        },
        "id": "filoyV3xci6V",
        "outputId": "278cf8b6-3566-45b4-d737-22f8b911078a"
      },
      "outputs": [
        {
          "output_type": "stream",
          "name": "stdout",
          "text": [
            "\t Mean Absolute Percentage error (MAPE): 4.235906735154936\n"
          ]
        }
      ],
      "source": [
        "print(\"\\t Mean Absolute Percentage error (MAPE):\", mean(absolute(score3)))"
      ]
    },
    {
      "cell_type": "markdown",
      "metadata": {
        "id": "qvxhxYmdGIBO"
      },
      "source": [
        "### Predicted Values"
      ]
    },
    {
      "cell_type": "code",
      "execution_count": 66,
      "metadata": {
        "colab": {
          "base_uri": "https://localhost:8080/"
        },
        "id": "gy5cwfn7GHf0",
        "outputId": "a76e1517-24b4-4950-98ec-9c97b3ad5814"
      },
      "outputs": [
        {
          "output_type": "stream",
          "name": "stdout",
          "text": [
            "[00:27:38] WARNING: /workspace/src/objective/regression_obj.cu:152: reg:linear is now deprecated in favor of reg:squarederror.\n",
            "[00:27:38] WARNING: /workspace/src/objective/regression_obj.cu:152: reg:linear is now deprecated in favor of reg:squarederror.\n",
            "[00:27:38] WARNING: /workspace/src/objective/regression_obj.cu:152: reg:linear is now deprecated in favor of reg:squarederror.\n",
            "[00:27:38] WARNING: /workspace/src/objective/regression_obj.cu:152: reg:linear is now deprecated in favor of reg:squarederror.\n",
            "[00:27:38] WARNING: /workspace/src/objective/regression_obj.cu:152: reg:linear is now deprecated in favor of reg:squarederror.\n",
            "[00:27:38] WARNING: /workspace/src/objective/regression_obj.cu:152: reg:linear is now deprecated in favor of reg:squarederror.\n",
            "[00:27:38] WARNING: /workspace/src/objective/regression_obj.cu:152: reg:linear is now deprecated in favor of reg:squarederror.\n",
            "[00:27:38] WARNING: /workspace/src/objective/regression_obj.cu:152: reg:linear is now deprecated in favor of reg:squarederror.\n",
            "[00:27:38] WARNING: /workspace/src/objective/regression_obj.cu:152: reg:linear is now deprecated in favor of reg:squarederror.\n",
            "[00:27:38] WARNING: /workspace/src/objective/regression_obj.cu:152: reg:linear is now deprecated in favor of reg:squarederror.\n",
            "[1904.7799 1810.7725 1838.2716 1898.7595 1871.7493 1909.5333 2005.208\n",
            " 1903.4552 1864.4391 1865.7766 1874.3802 1866.4819 1917.1523 2027.9321\n",
            " 1985.5034 1868.7015 1846.9142 1891.0905 1908.6263 1956.7281 2003.8599\n",
            " 1990.9292 1908.2228 1886.8193 1928.8124 1922.9786 1856.227  1957.5657\n",
            " 1811.0486 1918.4517]\n"
          ]
        }
      ],
      "source": [
        "predictions = cross_val_predict(xgboost, X,Y, cv=cv)\n",
        "print(predictions)"
      ]
    },
    {
      "cell_type": "markdown",
      "metadata": {
        "id": "B6wJhpDkci6V"
      },
      "source": [
        "# XgBoost Regressor\n",
        "### VARIATION-II [FEATURES : Previous 90 Days Sales + Monthly Item Discount]"
      ]
    },
    {
      "cell_type": "code",
      "execution_count": 67,
      "metadata": {
        "id": "va0JMOOEci6V"
      },
      "outputs": [],
      "source": [
        "df2 = df1.copy()"
      ]
    },
    {
      "cell_type": "code",
      "execution_count": 68,
      "metadata": {
        "colab": {
          "base_uri": "https://localhost:8080/",
          "height": 235
        },
        "id": "sSGyR9yRci6V",
        "outputId": "54e4fc93-587f-4738-99cc-89a126763a23"
      },
      "outputs": [
        {
          "output_type": "execute_result",
          "data": {
            "text/plain": [
              "   Day0  Day1  Day2  Day3  Day4  Day5  Day6  Day7  Day8  Day9  ...  Day80  \\\n",
              "0    50    44    75    39    32    58    73    57    52    67  ...     57   \n",
              "1    95    67    49    48    25    50    87    70    53    62  ...     61   \n",
              "2    71    44    56    35    71    77    58    43    44    51  ...     67   \n",
              "3    71    73    55    64    92    48    73    86    49   102  ...     70   \n",
              "4    54    40    84    75    39    67    43    48    56    89  ...     42   \n",
              "\n",
              "   Day81  Day82  Day83  Day84  Day85  Day86  Day87  Day88  Order Item Quantity  \n",
              "0     74     44     65     59     89    100     84     86                 1938  \n",
              "1     57     58     51     64     55     52     89     69                 1926  \n",
              "2     84     62     67     79     77     82     68     47                 1742  \n",
              "3     80     71     74     60     39     38     55     52                 2163  \n",
              "4     62     53     78    117     74     80     70     49                 1920  \n",
              "\n",
              "[5 rows x 90 columns]"
            ],
            "text/html": [
              "\n",
              "  <div id=\"df-da0892d8-5b23-4dc4-9429-57a0fb36cbe0\">\n",
              "    <div class=\"colab-df-container\">\n",
              "      <div>\n",
              "<style scoped>\n",
              "    .dataframe tbody tr th:only-of-type {\n",
              "        vertical-align: middle;\n",
              "    }\n",
              "\n",
              "    .dataframe tbody tr th {\n",
              "        vertical-align: top;\n",
              "    }\n",
              "\n",
              "    .dataframe thead th {\n",
              "        text-align: right;\n",
              "    }\n",
              "</style>\n",
              "<table border=\"1\" class=\"dataframe\">\n",
              "  <thead>\n",
              "    <tr style=\"text-align: right;\">\n",
              "      <th></th>\n",
              "      <th>Day0</th>\n",
              "      <th>Day1</th>\n",
              "      <th>Day2</th>\n",
              "      <th>Day3</th>\n",
              "      <th>Day4</th>\n",
              "      <th>Day5</th>\n",
              "      <th>Day6</th>\n",
              "      <th>Day7</th>\n",
              "      <th>Day8</th>\n",
              "      <th>Day9</th>\n",
              "      <th>...</th>\n",
              "      <th>Day80</th>\n",
              "      <th>Day81</th>\n",
              "      <th>Day82</th>\n",
              "      <th>Day83</th>\n",
              "      <th>Day84</th>\n",
              "      <th>Day85</th>\n",
              "      <th>Day86</th>\n",
              "      <th>Day87</th>\n",
              "      <th>Day88</th>\n",
              "      <th>Order Item Quantity</th>\n",
              "    </tr>\n",
              "  </thead>\n",
              "  <tbody>\n",
              "    <tr>\n",
              "      <th>0</th>\n",
              "      <td>50</td>\n",
              "      <td>44</td>\n",
              "      <td>75</td>\n",
              "      <td>39</td>\n",
              "      <td>32</td>\n",
              "      <td>58</td>\n",
              "      <td>73</td>\n",
              "      <td>57</td>\n",
              "      <td>52</td>\n",
              "      <td>67</td>\n",
              "      <td>...</td>\n",
              "      <td>57</td>\n",
              "      <td>74</td>\n",
              "      <td>44</td>\n",
              "      <td>65</td>\n",
              "      <td>59</td>\n",
              "      <td>89</td>\n",
              "      <td>100</td>\n",
              "      <td>84</td>\n",
              "      <td>86</td>\n",
              "      <td>1938</td>\n",
              "    </tr>\n",
              "    <tr>\n",
              "      <th>1</th>\n",
              "      <td>95</td>\n",
              "      <td>67</td>\n",
              "      <td>49</td>\n",
              "      <td>48</td>\n",
              "      <td>25</td>\n",
              "      <td>50</td>\n",
              "      <td>87</td>\n",
              "      <td>70</td>\n",
              "      <td>53</td>\n",
              "      <td>62</td>\n",
              "      <td>...</td>\n",
              "      <td>61</td>\n",
              "      <td>57</td>\n",
              "      <td>58</td>\n",
              "      <td>51</td>\n",
              "      <td>64</td>\n",
              "      <td>55</td>\n",
              "      <td>52</td>\n",
              "      <td>89</td>\n",
              "      <td>69</td>\n",
              "      <td>1926</td>\n",
              "    </tr>\n",
              "    <tr>\n",
              "      <th>2</th>\n",
              "      <td>71</td>\n",
              "      <td>44</td>\n",
              "      <td>56</td>\n",
              "      <td>35</td>\n",
              "      <td>71</td>\n",
              "      <td>77</td>\n",
              "      <td>58</td>\n",
              "      <td>43</td>\n",
              "      <td>44</td>\n",
              "      <td>51</td>\n",
              "      <td>...</td>\n",
              "      <td>67</td>\n",
              "      <td>84</td>\n",
              "      <td>62</td>\n",
              "      <td>67</td>\n",
              "      <td>79</td>\n",
              "      <td>77</td>\n",
              "      <td>82</td>\n",
              "      <td>68</td>\n",
              "      <td>47</td>\n",
              "      <td>1742</td>\n",
              "    </tr>\n",
              "    <tr>\n",
              "      <th>3</th>\n",
              "      <td>71</td>\n",
              "      <td>73</td>\n",
              "      <td>55</td>\n",
              "      <td>64</td>\n",
              "      <td>92</td>\n",
              "      <td>48</td>\n",
              "      <td>73</td>\n",
              "      <td>86</td>\n",
              "      <td>49</td>\n",
              "      <td>102</td>\n",
              "      <td>...</td>\n",
              "      <td>70</td>\n",
              "      <td>80</td>\n",
              "      <td>71</td>\n",
              "      <td>74</td>\n",
              "      <td>60</td>\n",
              "      <td>39</td>\n",
              "      <td>38</td>\n",
              "      <td>55</td>\n",
              "      <td>52</td>\n",
              "      <td>2163</td>\n",
              "    </tr>\n",
              "    <tr>\n",
              "      <th>4</th>\n",
              "      <td>54</td>\n",
              "      <td>40</td>\n",
              "      <td>84</td>\n",
              "      <td>75</td>\n",
              "      <td>39</td>\n",
              "      <td>67</td>\n",
              "      <td>43</td>\n",
              "      <td>48</td>\n",
              "      <td>56</td>\n",
              "      <td>89</td>\n",
              "      <td>...</td>\n",
              "      <td>42</td>\n",
              "      <td>62</td>\n",
              "      <td>53</td>\n",
              "      <td>78</td>\n",
              "      <td>117</td>\n",
              "      <td>74</td>\n",
              "      <td>80</td>\n",
              "      <td>70</td>\n",
              "      <td>49</td>\n",
              "      <td>1920</td>\n",
              "    </tr>\n",
              "  </tbody>\n",
              "</table>\n",
              "<p>5 rows × 90 columns</p>\n",
              "</div>\n",
              "      <button class=\"colab-df-convert\" onclick=\"convertToInteractive('df-da0892d8-5b23-4dc4-9429-57a0fb36cbe0')\"\n",
              "              title=\"Convert this dataframe to an interactive table.\"\n",
              "              style=\"display:none;\">\n",
              "        \n",
              "  <svg xmlns=\"http://www.w3.org/2000/svg\" height=\"24px\"viewBox=\"0 0 24 24\"\n",
              "       width=\"24px\">\n",
              "    <path d=\"M0 0h24v24H0V0z\" fill=\"none\"/>\n",
              "    <path d=\"M18.56 5.44l.94 2.06.94-2.06 2.06-.94-2.06-.94-.94-2.06-.94 2.06-2.06.94zm-11 1L8.5 8.5l.94-2.06 2.06-.94-2.06-.94L8.5 2.5l-.94 2.06-2.06.94zm10 10l.94 2.06.94-2.06 2.06-.94-2.06-.94-.94-2.06-.94 2.06-2.06.94z\"/><path d=\"M17.41 7.96l-1.37-1.37c-.4-.4-.92-.59-1.43-.59-.52 0-1.04.2-1.43.59L10.3 9.45l-7.72 7.72c-.78.78-.78 2.05 0 2.83L4 21.41c.39.39.9.59 1.41.59.51 0 1.02-.2 1.41-.59l7.78-7.78 2.81-2.81c.8-.78.8-2.07 0-2.86zM5.41 20L4 18.59l7.72-7.72 1.47 1.35L5.41 20z\"/>\n",
              "  </svg>\n",
              "      </button>\n",
              "      \n",
              "  <style>\n",
              "    .colab-df-container {\n",
              "      display:flex;\n",
              "      flex-wrap:wrap;\n",
              "      gap: 12px;\n",
              "    }\n",
              "\n",
              "    .colab-df-convert {\n",
              "      background-color: #E8F0FE;\n",
              "      border: none;\n",
              "      border-radius: 50%;\n",
              "      cursor: pointer;\n",
              "      display: none;\n",
              "      fill: #1967D2;\n",
              "      height: 32px;\n",
              "      padding: 0 0 0 0;\n",
              "      width: 32px;\n",
              "    }\n",
              "\n",
              "    .colab-df-convert:hover {\n",
              "      background-color: #E2EBFA;\n",
              "      box-shadow: 0px 1px 2px rgba(60, 64, 67, 0.3), 0px 1px 3px 1px rgba(60, 64, 67, 0.15);\n",
              "      fill: #174EA6;\n",
              "    }\n",
              "\n",
              "    [theme=dark] .colab-df-convert {\n",
              "      background-color: #3B4455;\n",
              "      fill: #D2E3FC;\n",
              "    }\n",
              "\n",
              "    [theme=dark] .colab-df-convert:hover {\n",
              "      background-color: #434B5C;\n",
              "      box-shadow: 0px 1px 3px 1px rgba(0, 0, 0, 0.15);\n",
              "      filter: drop-shadow(0px 1px 2px rgba(0, 0, 0, 0.3));\n",
              "      fill: #FFFFFF;\n",
              "    }\n",
              "  </style>\n",
              "\n",
              "      <script>\n",
              "        const buttonEl =\n",
              "          document.querySelector('#df-da0892d8-5b23-4dc4-9429-57a0fb36cbe0 button.colab-df-convert');\n",
              "        buttonEl.style.display =\n",
              "          google.colab.kernel.accessAllowed ? 'block' : 'none';\n",
              "\n",
              "        async function convertToInteractive(key) {\n",
              "          const element = document.querySelector('#df-da0892d8-5b23-4dc4-9429-57a0fb36cbe0');\n",
              "          const dataTable =\n",
              "            await google.colab.kernel.invokeFunction('convertToInteractive',\n",
              "                                                     [key], {});\n",
              "          if (!dataTable) return;\n",
              "\n",
              "          const docLinkHtml = 'Like what you see? Visit the ' +\n",
              "            '<a target=\"_blank\" href=https://colab.research.google.com/notebooks/data_table.ipynb>data table notebook</a>'\n",
              "            + ' to learn more about interactive tables.';\n",
              "          element.innerHTML = '';\n",
              "          dataTable['output_type'] = 'display_data';\n",
              "          await google.colab.output.renderOutput(dataTable, element);\n",
              "          const docLink = document.createElement('div');\n",
              "          docLink.innerHTML = docLinkHtml;\n",
              "          element.appendChild(docLink);\n",
              "        }\n",
              "      </script>\n",
              "    </div>\n",
              "  </div>\n",
              "  "
            ]
          },
          "metadata": {},
          "execution_count": 68
        }
      ],
      "source": [
        "df2.head()"
      ]
    },
    {
      "cell_type": "markdown",
      "metadata": {
        "id": "1AJ1VZ8vci6V"
      },
      "source": [
        "### Adding a Regressor variable to the dataframe"
      ]
    },
    {
      "cell_type": "code",
      "execution_count": 69,
      "metadata": {
        "id": "HJgvxqUici6V"
      },
      "outputs": [],
      "source": [
        "df2.insert(loc=90, column='Order Item Discount', value=MonthlyItemDiscount)"
      ]
    },
    {
      "cell_type": "code",
      "execution_count": 70,
      "metadata": {
        "id": "E2ha1WsDBmMA"
      },
      "outputs": [],
      "source": [
        "Y1 = df2[\"Order Item Quantity\"]\n",
        "X1 = df2.drop(columns=[\"Order Item Quantity\"])"
      ]
    },
    {
      "cell_type": "code",
      "execution_count": 71,
      "metadata": {
        "colab": {
          "base_uri": "https://localhost:8080/",
          "height": 235
        },
        "id": "LsqIyHlici6W",
        "outputId": "bb73886a-493a-427c-e196-6f91e38dfb1b"
      },
      "outputs": [
        {
          "output_type": "execute_result",
          "data": {
            "text/plain": [
              "   Day0  Day1  Day2  Day3  Day4  Day5  Day6  Day7  Day8  Day9  ...  Day81  \\\n",
              "0    50    44    75    39    32    58    73    57    52    67  ...     74   \n",
              "1    95    67    49    48    25    50    87    70    53    62  ...     57   \n",
              "2    71    44    56    35    71    77    58    43    44    51  ...     84   \n",
              "3    71    73    55    64    92    48    73    86    49   102  ...     80   \n",
              "4    54    40    84    75    39    67    43    48    56    89  ...     62   \n",
              "\n",
              "   Day82  Day83  Day84  Day85  Day86  Day87  Day88  Order Item Quantity  \\\n",
              "0     44     65     59     89    100     84     86                 1938   \n",
              "1     58     51     64     55     52     89     69                 1926   \n",
              "2     62     67     79     77     82     68     47                 1742   \n",
              "3     71     74     60     39     38     55     52                 2163   \n",
              "4     53     78    117     74     80     70     49                 1920   \n",
              "\n",
              "   Order Item Discount  \n",
              "0                 9855  \n",
              "1                 9757  \n",
              "2                 8833  \n",
              "3                11061  \n",
              "4                 9651  \n",
              "\n",
              "[5 rows x 91 columns]"
            ],
            "text/html": [
              "\n",
              "  <div id=\"df-8b4e676c-2a6a-4776-aaf8-d64cc5658178\">\n",
              "    <div class=\"colab-df-container\">\n",
              "      <div>\n",
              "<style scoped>\n",
              "    .dataframe tbody tr th:only-of-type {\n",
              "        vertical-align: middle;\n",
              "    }\n",
              "\n",
              "    .dataframe tbody tr th {\n",
              "        vertical-align: top;\n",
              "    }\n",
              "\n",
              "    .dataframe thead th {\n",
              "        text-align: right;\n",
              "    }\n",
              "</style>\n",
              "<table border=\"1\" class=\"dataframe\">\n",
              "  <thead>\n",
              "    <tr style=\"text-align: right;\">\n",
              "      <th></th>\n",
              "      <th>Day0</th>\n",
              "      <th>Day1</th>\n",
              "      <th>Day2</th>\n",
              "      <th>Day3</th>\n",
              "      <th>Day4</th>\n",
              "      <th>Day5</th>\n",
              "      <th>Day6</th>\n",
              "      <th>Day7</th>\n",
              "      <th>Day8</th>\n",
              "      <th>Day9</th>\n",
              "      <th>...</th>\n",
              "      <th>Day81</th>\n",
              "      <th>Day82</th>\n",
              "      <th>Day83</th>\n",
              "      <th>Day84</th>\n",
              "      <th>Day85</th>\n",
              "      <th>Day86</th>\n",
              "      <th>Day87</th>\n",
              "      <th>Day88</th>\n",
              "      <th>Order Item Quantity</th>\n",
              "      <th>Order Item Discount</th>\n",
              "    </tr>\n",
              "  </thead>\n",
              "  <tbody>\n",
              "    <tr>\n",
              "      <th>0</th>\n",
              "      <td>50</td>\n",
              "      <td>44</td>\n",
              "      <td>75</td>\n",
              "      <td>39</td>\n",
              "      <td>32</td>\n",
              "      <td>58</td>\n",
              "      <td>73</td>\n",
              "      <td>57</td>\n",
              "      <td>52</td>\n",
              "      <td>67</td>\n",
              "      <td>...</td>\n",
              "      <td>74</td>\n",
              "      <td>44</td>\n",
              "      <td>65</td>\n",
              "      <td>59</td>\n",
              "      <td>89</td>\n",
              "      <td>100</td>\n",
              "      <td>84</td>\n",
              "      <td>86</td>\n",
              "      <td>1938</td>\n",
              "      <td>9855</td>\n",
              "    </tr>\n",
              "    <tr>\n",
              "      <th>1</th>\n",
              "      <td>95</td>\n",
              "      <td>67</td>\n",
              "      <td>49</td>\n",
              "      <td>48</td>\n",
              "      <td>25</td>\n",
              "      <td>50</td>\n",
              "      <td>87</td>\n",
              "      <td>70</td>\n",
              "      <td>53</td>\n",
              "      <td>62</td>\n",
              "      <td>...</td>\n",
              "      <td>57</td>\n",
              "      <td>58</td>\n",
              "      <td>51</td>\n",
              "      <td>64</td>\n",
              "      <td>55</td>\n",
              "      <td>52</td>\n",
              "      <td>89</td>\n",
              "      <td>69</td>\n",
              "      <td>1926</td>\n",
              "      <td>9757</td>\n",
              "    </tr>\n",
              "    <tr>\n",
              "      <th>2</th>\n",
              "      <td>71</td>\n",
              "      <td>44</td>\n",
              "      <td>56</td>\n",
              "      <td>35</td>\n",
              "      <td>71</td>\n",
              "      <td>77</td>\n",
              "      <td>58</td>\n",
              "      <td>43</td>\n",
              "      <td>44</td>\n",
              "      <td>51</td>\n",
              "      <td>...</td>\n",
              "      <td>84</td>\n",
              "      <td>62</td>\n",
              "      <td>67</td>\n",
              "      <td>79</td>\n",
              "      <td>77</td>\n",
              "      <td>82</td>\n",
              "      <td>68</td>\n",
              "      <td>47</td>\n",
              "      <td>1742</td>\n",
              "      <td>8833</td>\n",
              "    </tr>\n",
              "    <tr>\n",
              "      <th>3</th>\n",
              "      <td>71</td>\n",
              "      <td>73</td>\n",
              "      <td>55</td>\n",
              "      <td>64</td>\n",
              "      <td>92</td>\n",
              "      <td>48</td>\n",
              "      <td>73</td>\n",
              "      <td>86</td>\n",
              "      <td>49</td>\n",
              "      <td>102</td>\n",
              "      <td>...</td>\n",
              "      <td>80</td>\n",
              "      <td>71</td>\n",
              "      <td>74</td>\n",
              "      <td>60</td>\n",
              "      <td>39</td>\n",
              "      <td>38</td>\n",
              "      <td>55</td>\n",
              "      <td>52</td>\n",
              "      <td>2163</td>\n",
              "      <td>11061</td>\n",
              "    </tr>\n",
              "    <tr>\n",
              "      <th>4</th>\n",
              "      <td>54</td>\n",
              "      <td>40</td>\n",
              "      <td>84</td>\n",
              "      <td>75</td>\n",
              "      <td>39</td>\n",
              "      <td>67</td>\n",
              "      <td>43</td>\n",
              "      <td>48</td>\n",
              "      <td>56</td>\n",
              "      <td>89</td>\n",
              "      <td>...</td>\n",
              "      <td>62</td>\n",
              "      <td>53</td>\n",
              "      <td>78</td>\n",
              "      <td>117</td>\n",
              "      <td>74</td>\n",
              "      <td>80</td>\n",
              "      <td>70</td>\n",
              "      <td>49</td>\n",
              "      <td>1920</td>\n",
              "      <td>9651</td>\n",
              "    </tr>\n",
              "  </tbody>\n",
              "</table>\n",
              "<p>5 rows × 91 columns</p>\n",
              "</div>\n",
              "      <button class=\"colab-df-convert\" onclick=\"convertToInteractive('df-8b4e676c-2a6a-4776-aaf8-d64cc5658178')\"\n",
              "              title=\"Convert this dataframe to an interactive table.\"\n",
              "              style=\"display:none;\">\n",
              "        \n",
              "  <svg xmlns=\"http://www.w3.org/2000/svg\" height=\"24px\"viewBox=\"0 0 24 24\"\n",
              "       width=\"24px\">\n",
              "    <path d=\"M0 0h24v24H0V0z\" fill=\"none\"/>\n",
              "    <path d=\"M18.56 5.44l.94 2.06.94-2.06 2.06-.94-2.06-.94-.94-2.06-.94 2.06-2.06.94zm-11 1L8.5 8.5l.94-2.06 2.06-.94-2.06-.94L8.5 2.5l-.94 2.06-2.06.94zm10 10l.94 2.06.94-2.06 2.06-.94-2.06-.94-.94-2.06-.94 2.06-2.06.94z\"/><path d=\"M17.41 7.96l-1.37-1.37c-.4-.4-.92-.59-1.43-.59-.52 0-1.04.2-1.43.59L10.3 9.45l-7.72 7.72c-.78.78-.78 2.05 0 2.83L4 21.41c.39.39.9.59 1.41.59.51 0 1.02-.2 1.41-.59l7.78-7.78 2.81-2.81c.8-.78.8-2.07 0-2.86zM5.41 20L4 18.59l7.72-7.72 1.47 1.35L5.41 20z\"/>\n",
              "  </svg>\n",
              "      </button>\n",
              "      \n",
              "  <style>\n",
              "    .colab-df-container {\n",
              "      display:flex;\n",
              "      flex-wrap:wrap;\n",
              "      gap: 12px;\n",
              "    }\n",
              "\n",
              "    .colab-df-convert {\n",
              "      background-color: #E8F0FE;\n",
              "      border: none;\n",
              "      border-radius: 50%;\n",
              "      cursor: pointer;\n",
              "      display: none;\n",
              "      fill: #1967D2;\n",
              "      height: 32px;\n",
              "      padding: 0 0 0 0;\n",
              "      width: 32px;\n",
              "    }\n",
              "\n",
              "    .colab-df-convert:hover {\n",
              "      background-color: #E2EBFA;\n",
              "      box-shadow: 0px 1px 2px rgba(60, 64, 67, 0.3), 0px 1px 3px 1px rgba(60, 64, 67, 0.15);\n",
              "      fill: #174EA6;\n",
              "    }\n",
              "\n",
              "    [theme=dark] .colab-df-convert {\n",
              "      background-color: #3B4455;\n",
              "      fill: #D2E3FC;\n",
              "    }\n",
              "\n",
              "    [theme=dark] .colab-df-convert:hover {\n",
              "      background-color: #434B5C;\n",
              "      box-shadow: 0px 1px 3px 1px rgba(0, 0, 0, 0.15);\n",
              "      filter: drop-shadow(0px 1px 2px rgba(0, 0, 0, 0.3));\n",
              "      fill: #FFFFFF;\n",
              "    }\n",
              "  </style>\n",
              "\n",
              "      <script>\n",
              "        const buttonEl =\n",
              "          document.querySelector('#df-8b4e676c-2a6a-4776-aaf8-d64cc5658178 button.colab-df-convert');\n",
              "        buttonEl.style.display =\n",
              "          google.colab.kernel.accessAllowed ? 'block' : 'none';\n",
              "\n",
              "        async function convertToInteractive(key) {\n",
              "          const element = document.querySelector('#df-8b4e676c-2a6a-4776-aaf8-d64cc5658178');\n",
              "          const dataTable =\n",
              "            await google.colab.kernel.invokeFunction('convertToInteractive',\n",
              "                                                     [key], {});\n",
              "          if (!dataTable) return;\n",
              "\n",
              "          const docLinkHtml = 'Like what you see? Visit the ' +\n",
              "            '<a target=\"_blank\" href=https://colab.research.google.com/notebooks/data_table.ipynb>data table notebook</a>'\n",
              "            + ' to learn more about interactive tables.';\n",
              "          element.innerHTML = '';\n",
              "          dataTable['output_type'] = 'display_data';\n",
              "          await google.colab.output.renderOutput(dataTable, element);\n",
              "          const docLink = document.createElement('div');\n",
              "          docLink.innerHTML = docLinkHtml;\n",
              "          element.appendChild(docLink);\n",
              "        }\n",
              "      </script>\n",
              "    </div>\n",
              "  </div>\n",
              "  "
            ]
          },
          "metadata": {},
          "execution_count": 71
        }
      ],
      "source": [
        "df2.head()"
      ]
    },
    {
      "cell_type": "code",
      "execution_count": 72,
      "metadata": {
        "colab": {
          "base_uri": "https://localhost:8080/"
        },
        "id": "ZsWH4wPoRPi8",
        "outputId": "12718c13-36d3-466f-f0ea-ca931b34be83"
      },
      "outputs": [
        {
          "output_type": "stream",
          "name": "stdout",
          "text": [
            "No. of training examples: 24\n",
            "No. of testing examples: 6\n"
          ]
        }
      ],
      "source": [
        "training_data, testing_data = train_test_split(df2, test_size=0.2, shuffle=False, random_state=1)\n",
        "print(f\"No. of training examples: {training_data.shape[0]}\")\n",
        "print(f\"No. of testing examples: {testing_data.shape[0]}\")\n"
      ]
    },
    {
      "cell_type": "code",
      "execution_count": 73,
      "metadata": {
        "id": "Mp8OUO0-RPen"
      },
      "outputs": [],
      "source": [
        "\n",
        "x_train, y_train = training_data.drop(\"Order Item Quantity\", axis=1), training_data['Order Item Quantity']\n",
        "x_test, y_test   = testing_data.drop(\"Order Item Quantity\", axis=1) , testing_data['Order Item Quantity']"
      ]
    },
    {
      "cell_type": "markdown",
      "metadata": {
        "id": "secN-tILSEAi"
      },
      "source": [
        "# XGBOOST PREDICTION"
      ]
    },
    {
      "cell_type": "code",
      "execution_count": 74,
      "metadata": {
        "colab": {
          "base_uri": "https://localhost:8080/"
        },
        "id": "V9vo9nyARPbR",
        "outputId": "2107d90a-1b5e-4504-fc56-8783651d5e62"
      },
      "outputs": [
        {
          "output_type": "stream",
          "name": "stdout",
          "text": [
            "[00:27:39] WARNING: /workspace/src/objective/regression_obj.cu:152: reg:linear is now deprecated in favor of reg:squarederror.\n"
          ]
        },
        {
          "output_type": "execute_result",
          "data": {
            "text/plain": [
              "XGBRegressor()"
            ]
          },
          "metadata": {},
          "execution_count": 74
        }
      ],
      "source": [
        "xgboost.fit(x_train, y_train)"
      ]
    },
    {
      "cell_type": "code",
      "execution_count": 75,
      "metadata": {
        "id": "iwcsFbw-RPWY"
      },
      "outputs": [],
      "source": [
        "Row25 = x_test.head(1)\n",
        "Actual_value2 = y_test.head(1)"
      ]
    },
    {
      "cell_type": "code",
      "execution_count": 76,
      "metadata": {
        "colab": {
          "base_uri": "https://localhost:8080/"
        },
        "id": "naJX0uCaRPOJ",
        "outputId": "d3bc52ef-6e98-4419-ed4c-f508abdcb73c"
      },
      "outputs": [
        {
          "output_type": "stream",
          "name": "stdout",
          "text": [
            "            0\n",
            "0  1750.51062\n",
            "24    1702\n",
            "Name: Order Item Quantity, dtype: int64\n"
          ]
        }
      ],
      "source": [
        "\n",
        "xgboost_prediction2 = pd.DataFrame(xgboost.predict(Row25))\n",
        "print(xgboost_prediction2)\n",
        "print(Actual_value2)"
      ]
    },
    {
      "cell_type": "code",
      "execution_count": 77,
      "metadata": {
        "colab": {
          "base_uri": "https://localhost:8080/"
        },
        "id": "w2eOMDVyRitg",
        "outputId": "0d1fe8f1-6775-4209-d57f-d93a5f74ead4"
      },
      "outputs": [
        {
          "output_type": "stream",
          "name": "stdout",
          "text": [
            "\tMean absolute error (MAE): 48.5106201171875\n"
          ]
        }
      ],
      "source": [
        "print(\"\\tMean absolute error (MAE):\", mean_absolute_error(Actual_value2, xgboost_prediction2))"
      ]
    },
    {
      "cell_type": "code",
      "execution_count": 77,
      "metadata": {
        "id": "CjWihAAoRigi"
      },
      "outputs": [],
      "source": []
    },
    {
      "cell_type": "code",
      "execution_count": 77,
      "metadata": {
        "id": "sQg_WIyKRiXo"
      },
      "outputs": [],
      "source": []
    },
    {
      "cell_type": "markdown",
      "metadata": {
        "id": "M5vJ9E_kci6W"
      },
      "source": [
        "###Model Fitting and Model Evaluation"
      ]
    },
    {
      "cell_type": "code",
      "execution_count": 78,
      "metadata": {
        "id": "QOvETzTKci6W"
      },
      "outputs": [],
      "source": [
        "xgboost = xgb.XGBRegressor() "
      ]
    },
    {
      "cell_type": "code",
      "execution_count": 79,
      "metadata": {
        "colab": {
          "base_uri": "https://localhost:8080/"
        },
        "id": "buEx8CiIci6X",
        "outputId": "0f8d7691-ecff-4183-8bcd-94afde87ba69"
      },
      "outputs": [
        {
          "output_type": "stream",
          "name": "stdout",
          "text": [
            "\tMean absolute error (MAE): 30.504012044270837\n"
          ]
        }
      ],
      "source": [
        "#use k-fold CV to evaluate model\n",
        "score1 = cross_val_score(xgboost, X1, Y1, scoring='neg_mean_absolute_error',\n",
        "                         cv=cv, n_jobs=-1)\n",
        "\n",
        "#view mean absolute error\n",
        "print(\"\\tMean absolute error (MAE):\", mean(absolute(score1)))"
      ]
    },
    {
      "cell_type": "code",
      "execution_count": 80,
      "metadata": {
        "colab": {
          "base_uri": "https://localhost:8080/"
        },
        "id": "zdYrewy8ci6X",
        "outputId": "0141ddee-0231-4e41-cc0f-557c01a83b8b"
      },
      "outputs": [
        {
          "output_type": "stream",
          "name": "stdout",
          "text": [
            "\tRoot Mean squared error (RMSE): 41.40868940620694\n"
          ]
        }
      ],
      "source": [
        "score2 = cross_val_score(xgboost, X1, Y1, scoring='neg_mean_squared_error',\n",
        "                         cv=cv, n_jobs=-1)\n",
        "print(\"\\tRoot Mean squared error (RMSE):\", sqrt(mean(absolute(score2))))"
      ]
    },
    {
      "cell_type": "code",
      "execution_count": 81,
      "metadata": {
        "colab": {
          "base_uri": "https://localhost:8080/"
        },
        "id": "KohBpRuSci6X",
        "outputId": "c5d5db02-ddd1-42bf-cc70-c40212be6ba7"
      },
      "outputs": [
        {
          "output_type": "stream",
          "name": "stdout",
          "text": [
            "[00:27:39] WARNING: /workspace/src/objective/regression_obj.cu:152: reg:linear is now deprecated in favor of reg:squarederror.\n",
            "[00:27:39] WARNING: /workspace/src/objective/regression_obj.cu:152: reg:linear is now deprecated in favor of reg:squarederror.\n",
            "[00:27:39] WARNING: /workspace/src/objective/regression_obj.cu:152: reg:linear is now deprecated in favor of reg:squarederror.\n",
            "[00:27:39] WARNING: /workspace/src/objective/regression_obj.cu:152: reg:linear is now deprecated in favor of reg:squarederror.\n",
            "[00:27:39] WARNING: /workspace/src/objective/regression_obj.cu:152: reg:linear is now deprecated in favor of reg:squarederror.\n",
            "[00:27:39] WARNING: /workspace/src/objective/regression_obj.cu:152: reg:linear is now deprecated in favor of reg:squarederror.\n",
            "[00:27:39] WARNING: /workspace/src/objective/regression_obj.cu:152: reg:linear is now deprecated in favor of reg:squarederror.\n",
            "[00:27:40] WARNING: /workspace/src/objective/regression_obj.cu:152: reg:linear is now deprecated in favor of reg:squarederror.\n",
            "[00:27:40] WARNING: /workspace/src/objective/regression_obj.cu:152: reg:linear is now deprecated in favor of reg:squarederror.\n",
            "[00:27:40] WARNING: /workspace/src/objective/regression_obj.cu:152: reg:linear is now deprecated in favor of reg:squarederror.\n",
            "\t Mean Absolute Percentage error (MAPE): 0.7658662022908584\n"
          ]
        }
      ],
      "source": [
        "score3 = cross_val_score(xgboost, X1, Y1, scoring=mape_scorer, cv=cv)\n",
        "print(\"\\t Mean Absolute Percentage error (MAPE):\", mean(absolute(score3)))"
      ]
    },
    {
      "cell_type": "markdown",
      "metadata": {
        "id": "czjtDrgPGi0b"
      },
      "source": [
        "### Predicted Values"
      ]
    },
    {
      "cell_type": "code",
      "execution_count": 82,
      "metadata": {
        "colab": {
          "base_uri": "https://localhost:8080/"
        },
        "id": "dqNSiJRCGima",
        "outputId": "61a8b195-b7d4-4be7-a0ec-3cf386fd0133"
      },
      "outputs": [
        {
          "output_type": "stream",
          "name": "stdout",
          "text": [
            "[00:27:40] WARNING: /workspace/src/objective/regression_obj.cu:152: reg:linear is now deprecated in favor of reg:squarederror.\n",
            "[00:27:40] WARNING: /workspace/src/objective/regression_obj.cu:152: reg:linear is now deprecated in favor of reg:squarederror.\n",
            "[00:27:40] WARNING: /workspace/src/objective/regression_obj.cu:152: reg:linear is now deprecated in favor of reg:squarederror.\n",
            "[00:27:40] WARNING: /workspace/src/objective/regression_obj.cu:152: reg:linear is now deprecated in favor of reg:squarederror.\n",
            "[00:27:40] WARNING: /workspace/src/objective/regression_obj.cu:152: reg:linear is now deprecated in favor of reg:squarederror.\n",
            "[00:27:40] WARNING: /workspace/src/objective/regression_obj.cu:152: reg:linear is now deprecated in favor of reg:squarederror.\n",
            "[00:27:40] WARNING: /workspace/src/objective/regression_obj.cu:152: reg:linear is now deprecated in favor of reg:squarederror.\n",
            "[00:27:40] WARNING: /workspace/src/objective/regression_obj.cu:152: reg:linear is now deprecated in favor of reg:squarederror.\n",
            "[00:27:40] WARNING: /workspace/src/objective/regression_obj.cu:152: reg:linear is now deprecated in favor of reg:squarederror.\n",
            "[00:27:40] WARNING: /workspace/src/objective/regression_obj.cu:152: reg:linear is now deprecated in favor of reg:squarederror.\n",
            "[1943.7377 1924.0121 1778.5363 2029.223  1866.6592 1869.7429 1966.2924\n",
            " 1728.3319 1895.9326 2024.8488 1765.585  1869.6422 1789.1167 1924.0306\n",
            " 1884.1671 1950.2406 2027.889  1883.552  1944.064  1892.6248 1871.412\n",
            " 1953.7616 1965.8844 2064.487  1769.0138 1918.6461 1858.5897 1874.8347\n",
            " 1897.3855 1965.3933]\n"
          ]
        }
      ],
      "source": [
        "predictions = cross_val_predict(xgboost, X1,Y1, cv=cv)\n",
        "print(predictions)"
      ]
    },
    {
      "cell_type": "markdown",
      "metadata": {
        "id": "KZHJnfwdci6X"
      },
      "source": [
        "# Linear Regression\n",
        "### Variation-I    [FEATURES : Previous 90 Days Sales]"
      ]
    },
    {
      "cell_type": "code",
      "execution_count": 83,
      "metadata": {
        "id": "rFx4Irp-ci6Y"
      },
      "outputs": [],
      "source": [
        "from sklearn.linear_model import LinearRegression"
      ]
    },
    {
      "cell_type": "code",
      "execution_count": 84,
      "metadata": {
        "id": "_8mHOIKmci6Y"
      },
      "outputs": [],
      "source": [
        "#build xtreme gradient boosting model\n",
        "linear = LinearRegression()"
      ]
    },
    {
      "cell_type": "code",
      "execution_count": 85,
      "metadata": {
        "colab": {
          "base_uri": "https://localhost:8080/"
        },
        "id": "wD3Btg0Vci6Y",
        "outputId": "47238731-0ea5-4544-a7d5-a709ddbbeac8"
      },
      "outputs": [
        {
          "output_type": "stream",
          "name": "stdout",
          "text": [
            "\tMean absolute error (MAE): 123.8972653624094\n"
          ]
        }
      ],
      "source": [
        "#use k-fold CV to evaluate model\n",
        "score1 = cross_val_score(linear, X, Y, scoring='neg_mean_absolute_error',\n",
        "                         cv=cv, n_jobs=-1)\n",
        "\n",
        "#view mean absolute error\n",
        "print(\"\\tMean absolute error (MAE):\", mean(absolute(score1)))\n"
      ]
    },
    {
      "cell_type": "code",
      "execution_count": 86,
      "metadata": {
        "colab": {
          "base_uri": "https://localhost:8080/"
        },
        "id": "KkKR0Qqoci6Y",
        "outputId": "859939ce-7ce1-422c-cca2-cf2245e8f405"
      },
      "outputs": [
        {
          "output_type": "stream",
          "name": "stdout",
          "text": [
            "\tRoot Mean squared error (RMSE): 149.41062891608132\n"
          ]
        }
      ],
      "source": [
        "score2 = cross_val_score(linear, X, Y, scoring='neg_mean_squared_error',\n",
        "                         cv=cv, n_jobs=-1)\n",
        "print(\"\\tRoot Mean squared error (RMSE):\", sqrt(mean(absolute(score2))))"
      ]
    },
    {
      "cell_type": "code",
      "execution_count": 87,
      "metadata": {
        "colab": {
          "base_uri": "https://localhost:8080/"
        },
        "id": "IHsfG_8Xci6Z",
        "outputId": "f82d34ae-a6ce-4d7c-e08d-df0e578d13fa"
      },
      "outputs": [
        {
          "output_type": "stream",
          "name": "stdout",
          "text": [
            "\t Mean Absolute Percentage error (MAPE): 5.552580967052245\n"
          ]
        }
      ],
      "source": [
        "score3 = cross_val_score(linear, X, Y, scoring=mape_scorer, cv=cv)\n",
        "print(\"\\t Mean Absolute Percentage error (MAPE):\", mean(absolute(score3)))"
      ]
    },
    {
      "cell_type": "markdown",
      "metadata": {
        "id": "sNu5n-jcGqkh"
      },
      "source": [
        "### Predicted Values"
      ]
    },
    {
      "cell_type": "code",
      "execution_count": 88,
      "metadata": {
        "colab": {
          "base_uri": "https://localhost:8080/"
        },
        "id": "ysUyg4ymGqZO",
        "outputId": "c56b5f41-5fdb-4cf1-eedd-60055d068837"
      },
      "outputs": [
        {
          "output_type": "stream",
          "name": "stdout",
          "text": [
            "[1774.12364972 1915.03937761 1988.88734982 1911.11409934 1855.2199161\n",
            " 1791.37896461 1994.48131431 1828.41194155 1926.30655677 2016.93756573\n",
            " 1962.3834868  1762.44930406 2008.62952806 2028.65200477 2087.06778919\n",
            " 1820.84930445 1892.46701401 1961.94996327 1880.49453956 1878.22456882\n",
            " 1886.3834367  1938.9342438  1841.4863012  1757.12958185 1998.72803332\n",
            " 1994.62641203 1823.18553437 2025.34881589 1933.20515875 1843.55900275]\n"
          ]
        }
      ],
      "source": [
        "predictions = cross_val_predict(linear, X,Y, cv=cv)\n",
        "print(predictions)"
      ]
    },
    {
      "cell_type": "markdown",
      "metadata": {
        "id": "LRoVtnTHci6Z"
      },
      "source": [
        "# Linear Regression\n",
        "### Variation-II [FEATURES : Previous 90 Days Sales + Monthly Item Discount]"
      ]
    },
    {
      "cell_type": "code",
      "execution_count": 89,
      "metadata": {
        "id": "OuQdncWxci6Z"
      },
      "outputs": [],
      "source": [
        "#build xtreme gradient boosting model\n",
        "linear = LinearRegression()"
      ]
    },
    {
      "cell_type": "code",
      "execution_count": 90,
      "metadata": {
        "colab": {
          "base_uri": "https://localhost:8080/"
        },
        "id": "TBS7W_VYci6a",
        "outputId": "83e25890-fa3c-494f-dff6-51806a4829ff"
      },
      "outputs": [
        {
          "output_type": "stream",
          "name": "stdout",
          "text": [
            "\tMean absolute error (MAE): 18.21828541177172\n"
          ]
        }
      ],
      "source": [
        "#use k-fold CV to evaluate model\n",
        "score1 = cross_val_score(linear, X1, Y1, scoring='neg_mean_absolute_error',\n",
        "                         cv=cv, n_jobs=-1)\n",
        "\n",
        "#view mean absolute error\n",
        "print(\"\\tMean absolute error (MAE):\", mean(absolute(score1)))"
      ]
    },
    {
      "cell_type": "code",
      "execution_count": 91,
      "metadata": {
        "colab": {
          "base_uri": "https://localhost:8080/"
        },
        "id": "aIxmTft1ci6a",
        "outputId": "0ee29dcf-8de9-427b-c2bd-909aa53684dc"
      },
      "outputs": [
        {
          "output_type": "stream",
          "name": "stdout",
          "text": [
            "\tRoot Mean squared error (RMSE): 22.819688761856415\n"
          ]
        }
      ],
      "source": [
        "score2 = cross_val_score(linear, X1, Y1, scoring='neg_mean_squared_error',\n",
        "                         cv=cv, n_jobs=-1)\n",
        "print(\"\\tRoot Mean squared error (RMSE):\", sqrt(mean(absolute(score2))))"
      ]
    },
    {
      "cell_type": "code",
      "execution_count": 92,
      "metadata": {
        "colab": {
          "base_uri": "https://localhost:8080/"
        },
        "id": "Mp6dJT_zci6a",
        "outputId": "b7e42952-77ad-4616-851a-4e1d164e6997"
      },
      "outputs": [
        {
          "output_type": "stream",
          "name": "stdout",
          "text": [
            "\t Mean Absolute Percentage error (MAPE): 0.3550581449961038\n"
          ]
        }
      ],
      "source": [
        "score3 = cross_val_score(linear, X1, Y1, scoring=mape_scorer, cv=cv)\n",
        "print(\"\\t Mean Absolute Percentage error (MAPE):\", mean(absolute(score3)))"
      ]
    },
    {
      "cell_type": "markdown",
      "metadata": {
        "id": "GRVX3VBSGwVd"
      },
      "source": [
        "### Predicted Values"
      ]
    },
    {
      "cell_type": "code",
      "execution_count": 93,
      "metadata": {
        "colab": {
          "base_uri": "https://localhost:8080/"
        },
        "id": "NOAOlcruGwLI",
        "outputId": "e6e8fc2f-a147-4404-c917-a201ba50db2d"
      },
      "outputs": [
        {
          "output_type": "stream",
          "name": "stdout",
          "text": [
            "[1936.43053618 1926.9230473  1773.80292812 2179.6761544  1921.09024322\n",
            " 1854.8319005  1980.01958198 1766.91615639 1895.47577846 2039.03622526\n",
            " 1723.00073097 1831.57310345 1798.59917563 1953.09185883 1882.97726081\n",
            " 1978.08871154 2065.68681386 1905.34202026 1973.68882635 1860.55318629\n",
            " 1872.81434251 1946.63911359 1946.63727776 2062.01039689 1696.22138989\n",
            " 1904.30549082 1849.97499102 1870.16742862 1936.04702234 1929.80046237]\n"
          ]
        }
      ],
      "source": [
        "predictions = cross_val_predict(linear, X1, Y1, cv=cv)\n",
        "print(predictions)"
      ]
    },
    {
      "cell_type": "code",
      "execution_count": 93,
      "metadata": {
        "id": "ka7hveO0Udib"
      },
      "outputs": [],
      "source": []
    },
    {
      "cell_type": "markdown",
      "metadata": {
        "id": "e5oTHyzbUeqF"
      },
      "source": [
        "#  LINEAR REGESSION PREDICTION"
      ]
    },
    {
      "cell_type": "code",
      "execution_count": 94,
      "metadata": {
        "colab": {
          "base_uri": "https://localhost:8080/"
        },
        "id": "7Xejn6PoUedE",
        "outputId": "18d9db72-fcac-4f53-dcd1-63d2f44a540b"
      },
      "outputs": [
        {
          "output_type": "execute_result",
          "data": {
            "text/plain": [
              "LinearRegression()"
            ]
          },
          "metadata": {},
          "execution_count": 94
        }
      ],
      "source": [
        "linear.fit(x_train, y_train)"
      ]
    },
    {
      "cell_type": "code",
      "execution_count": 95,
      "metadata": {
        "colab": {
          "base_uri": "https://localhost:8080/"
        },
        "id": "2fQWYiwwUeaT",
        "outputId": "a187877c-077e-40e1-891d-259ede6b860e"
      },
      "outputs": [
        {
          "output_type": "stream",
          "name": "stdout",
          "text": [
            "             0\n",
            "0  1689.421534\n",
            "24    1702\n",
            "Name: Order Item Quantity, dtype: int64\n"
          ]
        }
      ],
      "source": [
        "linear_prediction2 = pd.DataFrame(linear.predict(Row25))\n",
        "print(linear_prediction2)\n",
        "print(Actual_value2)"
      ]
    },
    {
      "cell_type": "code",
      "execution_count": 96,
      "metadata": {
        "colab": {
          "base_uri": "https://localhost:8080/"
        },
        "id": "zSstqiLqUeXH",
        "outputId": "1db4dc58-7d95-4609-acfa-f431ada0c62a"
      },
      "outputs": [
        {
          "output_type": "stream",
          "name": "stdout",
          "text": [
            "\tMean absolute error (MAE): 12.578466398877254\n"
          ]
        }
      ],
      "source": [
        "\n",
        "\n",
        "print(\"\\tMean absolute error (MAE):\", mean_absolute_error(Actual_value2, linear_prediction2))"
      ]
    },
    {
      "cell_type": "code",
      "execution_count": 96,
      "metadata": {
        "id": "F7MosnF-UeN9"
      },
      "outputs": [],
      "source": []
    },
    {
      "cell_type": "markdown",
      "metadata": {
        "id": "lcSjKlwDci6b"
      },
      "source": [
        "# Random Forest Regressor\n",
        "### Variation-I [FEATURES : Previous 90 Days Sales]"
      ]
    },
    {
      "cell_type": "code",
      "execution_count": 96,
      "metadata": {
        "id": "Up5Fa9PEUcdO"
      },
      "outputs": [],
      "source": []
    },
    {
      "cell_type": "code",
      "execution_count": 97,
      "metadata": {
        "id": "Qj3Y5hgrci6b"
      },
      "outputs": [],
      "source": [
        "from sklearn.ensemble import RandomForestRegressor"
      ]
    },
    {
      "cell_type": "code",
      "execution_count": 98,
      "metadata": {
        "id": "f9JzKGJtci6b"
      },
      "outputs": [],
      "source": [
        " # create regressor object\n",
        "regressor = RandomForestRegressor(n_estimators = 100, random_state = 1)"
      ]
    },
    {
      "cell_type": "code",
      "execution_count": 99,
      "metadata": {
        "colab": {
          "base_uri": "https://localhost:8080/"
        },
        "id": "P8oVrU9qci6e",
        "outputId": "1c4c3bdb-d646-4a2b-99ba-b4b715c1f5b3"
      },
      "outputs": [
        {
          "output_type": "stream",
          "name": "stdout",
          "text": [
            "\tMean absolute error (MAE): 90.92299999999997\n"
          ]
        }
      ],
      "source": [
        "#use k-fold CV to evaluate model\n",
        "score1 = cross_val_score(regressor, X, Y, scoring='neg_mean_absolute_error',\n",
        "                         cv=cv, n_jobs=-1)\n",
        "\n",
        "#view mean absolute error\n",
        "print(\"\\tMean absolute error (MAE):\", mean(absolute(score1)))"
      ]
    },
    {
      "cell_type": "code",
      "execution_count": 100,
      "metadata": {
        "colab": {
          "base_uri": "https://localhost:8080/"
        },
        "id": "ihSMd550ci6e",
        "outputId": "40d89cb7-a195-4bde-ef69-dea205f88dfd"
      },
      "outputs": [
        {
          "output_type": "stream",
          "name": "stdout",
          "text": [
            "\tRoot Mean squared error (RMSE): 111.79426540152524\n"
          ]
        }
      ],
      "source": [
        "score2 = cross_val_score(regressor, X, Y, scoring='neg_mean_squared_error',\n",
        "                         cv=cv, n_jobs=-1)\n",
        "print(\"\\tRoot Mean squared error (RMSE):\", sqrt(mean(absolute(score2))))"
      ]
    },
    {
      "cell_type": "code",
      "execution_count": 101,
      "metadata": {
        "colab": {
          "base_uri": "https://localhost:8080/"
        },
        "id": "JpVkAkCQci6f",
        "outputId": "0367ef42-dd3e-44aa-c57f-fc8285f4bcee"
      },
      "outputs": [
        {
          "output_type": "stream",
          "name": "stdout",
          "text": [
            "\t Mean Absolute Percentage error (MAPE): 3.8000159250884287\n"
          ]
        }
      ],
      "source": [
        "score3 = cross_val_score(regressor, X, Y, scoring=mape_scorer, cv=cv)\n",
        "print(\"\\t Mean Absolute Percentage error (MAPE):\", mean(absolute(score3)))"
      ]
    },
    {
      "cell_type": "markdown",
      "metadata": {
        "id": "o1p7noSyHZ70"
      },
      "source": [
        "### Predicted Values"
      ]
    },
    {
      "cell_type": "code",
      "execution_count": 102,
      "metadata": {
        "colab": {
          "base_uri": "https://localhost:8080/"
        },
        "id": "AoqcyyskHZw1",
        "outputId": "b9280587-ee5c-426d-b660-02a52f261a25"
      },
      "outputs": [
        {
          "output_type": "stream",
          "name": "stdout",
          "text": [
            "[1891.32 1867.51 1959.18 1933.16 1889.41 1891.52 1998.1  1879.37 1887.23\n",
            " 1924.17 1894.47 1902.12 1904.76 1937.88 1959.3  1846.22 1917.77 1906.28\n",
            " 1889.14 1969.15 1931.79 1968.3  1891.78 1896.38 1945.37 1901.67 1914.62\n",
            " 1924.98 1847.41 1885.53]\n"
          ]
        }
      ],
      "source": [
        "predictions = cross_val_predict(regressor, X,Y, cv=cv)\n",
        "print(predictions)\n"
      ]
    },
    {
      "cell_type": "markdown",
      "metadata": {
        "id": "NNj9MPmaci6f"
      },
      "source": [
        "# Random Forest Regressor\n",
        "### Variation-II [FEATURES : Previous 90 Days Sales + Monthly Item Discount ]"
      ]
    },
    {
      "cell_type": "code",
      "execution_count": 103,
      "metadata": {
        "colab": {
          "base_uri": "https://localhost:8080/"
        },
        "id": "lvnbOEzmci6g",
        "outputId": "aef50d6e-3875-447b-fac5-38f5d7ed4091"
      },
      "outputs": [
        {
          "output_type": "stream",
          "name": "stdout",
          "text": [
            "\tMean absolute error (MAE): 33.275000000000006\n"
          ]
        }
      ],
      "source": [
        "#use k-fold CV to evaluate model\n",
        "score1 = cross_val_score(regressor, X1, Y1, scoring='neg_mean_absolute_error',\n",
        "                         cv=cv, n_jobs=-1)\n",
        "\n",
        "#view mean absolute error\n",
        "print(\"\\tMean absolute error (MAE):\", mean(absolute(score1)))"
      ]
    },
    {
      "cell_type": "code",
      "execution_count": 104,
      "metadata": {
        "colab": {
          "base_uri": "https://localhost:8080/"
        },
        "id": "8yVHl-gwci6h",
        "outputId": "4471aa6e-bf23-4e49-cc98-4633133451b5"
      },
      "outputs": [
        {
          "output_type": "stream",
          "name": "stdout",
          "text": [
            "\tRoot Mean squared error (RMSE): 46.15449364182575\n"
          ]
        }
      ],
      "source": [
        "score2 = cross_val_score(regressor, X1, Y1, scoring='neg_mean_squared_error',\n",
        "                         cv=cv, n_jobs=-1)\n",
        "print(\"\\tRoot Mean squared error (RMSE):\", sqrt(mean(absolute(score2))))"
      ]
    },
    {
      "cell_type": "code",
      "execution_count": 105,
      "metadata": {
        "colab": {
          "base_uri": "https://localhost:8080/"
        },
        "id": "6ZOeNfZ8ci6h",
        "outputId": "113007e5-7ba1-4263-c47a-7a9a71d8f00e"
      },
      "outputs": [
        {
          "output_type": "stream",
          "name": "stdout",
          "text": [
            "\t Mean Absolute Percentage error (MAPE): 0.8849234508570095\n"
          ]
        }
      ],
      "source": [
        "score3 = cross_val_score(regressor, X1, Y1, scoring=mape_scorer, cv=cv)\n",
        "print(\"\\t Mean Absolute Percentage error (MAPE):\", mean(absolute(score3)))"
      ]
    },
    {
      "cell_type": "markdown",
      "metadata": {
        "id": "gngpaJovI2TG"
      },
      "source": [
        "### Predicted Values"
      ]
    },
    {
      "cell_type": "code",
      "execution_count": 106,
      "metadata": {
        "colab": {
          "base_uri": "https://localhost:8080/"
        },
        "id": "GRGlrKbLci6h",
        "outputId": "78b84cc8-d1de-4746-a0ce-a08b7190a35e"
      },
      "outputs": [
        {
          "output_type": "stream",
          "name": "stdout",
          "text": [
            "[1973.23 1931.23 1799.13 2007.99 1874.61 1852.83 1996.85 1796.82 1860.47\n",
            " 2030.98 1793.58 1845.05 1803.1  1962.45 1850.69 1989.63 2018.59 1850.1\n",
            " 1981.22 1854.84 1855.59 1984.7  1978.95 2018.86 1803.7  1904.6  1859.13\n",
            " 1859.19 1953.22 1985.52]\n"
          ]
        }
      ],
      "source": [
        "predictions = cross_val_predict(regressor, X1,Y1, cv=cv)\n",
        "print(predictions)"
      ]
    },
    {
      "cell_type": "code",
      "execution_count": 106,
      "metadata": {
        "id": "xL9E1wAXI2G0"
      },
      "outputs": [],
      "source": []
    },
    {
      "cell_type": "markdown",
      "metadata": {
        "id": "fWEpOtHEVmHQ"
      },
      "source": [
        "# RANDOM FOREST PREDICTION"
      ]
    },
    {
      "cell_type": "code",
      "execution_count": 107,
      "metadata": {
        "colab": {
          "base_uri": "https://localhost:8080/"
        },
        "id": "t3_B2kAVVl70",
        "outputId": "5a3932aa-bfb0-4e22-f71d-399a90aad6bc"
      },
      "outputs": [
        {
          "output_type": "execute_result",
          "data": {
            "text/plain": [
              "RandomForestRegressor(random_state=1)"
            ]
          },
          "metadata": {},
          "execution_count": 107
        }
      ],
      "source": [
        "regressor.fit(x_train, y_train)"
      ]
    },
    {
      "cell_type": "code",
      "execution_count": 108,
      "metadata": {
        "colab": {
          "base_uri": "https://localhost:8080/"
        },
        "id": "sAIw3nDeVl2i",
        "outputId": "6801f9b9-f00f-41a6-a2ca-1cf5afec1ffd"
      },
      "outputs": [
        {
          "output_type": "stream",
          "name": "stdout",
          "text": [
            "        0\n",
            "0  1814.1\n",
            "24    1702\n",
            "Name: Order Item Quantity, dtype: int64\n"
          ]
        }
      ],
      "source": [
        "Forest_prediction2 = pd.DataFrame(regressor.predict(Row25))\n",
        "print(Forest_prediction2)\n",
        "print(Actual_value2)"
      ]
    },
    {
      "cell_type": "code",
      "execution_count": 109,
      "metadata": {
        "id": "Xw9GhnNVVlxF",
        "colab": {
          "base_uri": "https://localhost:8080/"
        },
        "outputId": "87db1c73-cf04-4c99-8a61-8292d4c5830a"
      },
      "outputs": [
        {
          "output_type": "stream",
          "name": "stdout",
          "text": [
            "\tMean absolute error (MAE): 112.09999999999991\n"
          ]
        }
      ],
      "source": [
        "print(\"\\tMean absolute error (MAE):\", mean_absolute_error(Actual_value2, Forest_prediction2))"
      ]
    },
    {
      "cell_type": "markdown",
      "metadata": {
        "id": "VmzqweFcMQ-_"
      },
      "source": [
        "#ARIMA IMPLEMENTATION"
      ]
    },
    {
      "cell_type": "code",
      "execution_count": 110,
      "metadata": {
        "id": "S5t8PMRYci6i"
      },
      "outputs": [],
      "source": [
        "Monthly_Quantity.drop(Monthly_Quantity.tail(1).index,inplace=True)"
      ]
    },
    {
      "cell_type": "code",
      "execution_count": 111,
      "metadata": {
        "colab": {
          "base_uri": "https://localhost:8080/"
        },
        "id": "yYjoEkJaci6i",
        "outputId": "0b582cc1-144a-47e6-dacc-39aaa7429b78"
      },
      "outputs": [
        {
          "output_type": "execute_result",
          "data": {
            "text/plain": [
              "(33, 1)"
            ]
          },
          "metadata": {},
          "execution_count": 111
        }
      ],
      "source": [
        "Monthly_Quantity.shape"
      ]
    },
    {
      "cell_type": "markdown",
      "metadata": {
        "id": "Yw4qS2rlMbmY"
      },
      "source": [
        "### Plotting the Rolling Mean and STD of the data to see if it is stationary"
      ]
    },
    {
      "cell_type": "code",
      "execution_count": 112,
      "metadata": {
        "colab": {
          "base_uri": "https://localhost:8080/",
          "height": 478
        },
        "id": "spFnEK5mci6i",
        "outputId": "fe20fa65-2537-42c3-df77-1f1f8fd1caa8"
      },
      "outputs": [
        {
          "output_type": "execute_result",
          "data": {
            "text/plain": [
              "Text(0.5, 1.0, 'Rolling Mean & Standard Deviation')"
            ]
          },
          "metadata": {},
          "execution_count": 112
        },
        {
          "output_type": "display_data",
          "data": {
            "text/plain": [
              "<Figure size 1080x504 with 1 Axes>"
            ],
            "image/png": "[encoded data removed]"
          },
          "metadata": {
            "needs_background": "light"
          }
        }
      ],
      "source": [
        "plt.figure(figsize=(15,7))\n",
        "plt.plot(Monthly_Quantity[\"Order Item Quantity\"], label='Original')\n",
        "plt.plot(Monthly_Quantity[\"Order Item Quantity\"].rolling(window=3).mean(), color='red', label='Rolling mean')\n",
        "plt.plot(Monthly_Quantity[\"Order Item Quantity\"].rolling(window=3).std(), color='green', label='Rolling std')\n",
        "plt.xlabel('Date', fontsize=12)\n",
        "plt.ylabel('Order Item Quantity', fontsize=12)\n",
        "plt.legend(loc='best')\n",
        "plt.title('Rolling Mean & Standard Deviation')"
      ]
    },
    {
      "cell_type": "code",
      "execution_count": 113,
      "metadata": {
        "id": "lXJoI_Xsci6i"
      },
      "outputs": [],
      "source": [
        "import statsmodels.api as sm\n",
        "from statsmodels.tsa.stattools import adfuller\n",
        "from statsmodels.graphics.tsaplots import plot_acf, plot_pacf, plot_predict\n",
        "from statsmodels.tsa.arima.model import ARIMA\n",
        "%matplotlib inline"
      ]
    },
    {
      "cell_type": "markdown",
      "metadata": {
        "id": "sE8wZ2D4MsCs"
      },
      "source": [
        "### TEST for checking the stationarity of Data"
      ]
    },
    {
      "cell_type": "code",
      "execution_count": 114,
      "metadata": {
        "colab": {
          "base_uri": "https://localhost:8080/"
        },
        "id": "L2mJGA_0ci6j",
        "outputId": "6b426273-7133-4b8f-e199-be675dcf8d2c"
      },
      "outputs": [
        {
          "output_type": "stream",
          "name": "stdout",
          "text": [
            "p-value: 6.055757579119e-10\n"
          ]
        }
      ],
      "source": [
        "adf_test = adfuller(Monthly_Quantity)\n",
        "print(f'p-value: {adf_test[1]}')"
      ]
    },
    {
      "cell_type": "markdown",
      "metadata": {
        "id": "34qmhlDtMzTK"
      },
      "source": [
        "Since the p-value is less than 0.05, it means data is stationary"
      ]
    },
    {
      "cell_type": "code",
      "execution_count": 115,
      "metadata": {
        "colab": {
          "base_uri": "https://localhost:8080/",
          "height": 484
        },
        "id": "6t3EO-_Yci6j",
        "outputId": "aa985aea-b42d-4ae1-8d4c-63efd52bd54e"
      },
      "outputs": [
        {
          "output_type": "display_data",
          "data": {
            "text/plain": [
              "<Figure size 1008x504 with 4 Axes>"
            ],
            "image/png": "[encoded data removed]"
          },
          "metadata": {
            "needs_background": "light"
          }
        }
      ],
      "source": [
        "\n",
        "def seasonal_decompose (Monthly_Quantity):\n",
        "    decomposition = sm.tsa.seasonal_decompose(Monthly_Quantity, model='additive', extrapolate_trend=12)\n",
        "    \n",
        "    trend = decomposition.trend\n",
        "    seasonal = decomposition.seasonal\n",
        "    residual = decomposition.resid\n",
        "    \n",
        "    fig = decomposition.plot()\n",
        "    fig.set_size_inches(14, 7)\n",
        "    plt.show()\n",
        "    \n",
        "    return trend, seasonal, residual\n",
        " \n",
        "trend, seasonal, residual = seasonal_decompose(Monthly_Quantity)"
      ]
    },
    {
      "cell_type": "markdown",
      "metadata": {
        "id": "5wE6SzhnNd67"
      },
      "source": []
    },
    {
      "cell_type": "code",
      "execution_count": 116,
      "metadata": {
        "colab": {
          "base_uri": "https://localhost:8080/",
          "height": 1000
        },
        "id": "1GUNV_81NdsI",
        "outputId": "dd750e7c-89f3-4100-a19d-53be4ada9a4c"
      },
      "outputs": [
        {
          "output_type": "execute_result",
          "data": {
            "text/plain": [
              "Text(0.5, 1.0, 'Daily_Sales')"
            ]
          },
          "metadata": {},
          "execution_count": 116
        },
        {
          "output_type": "display_data",
          "data": {
            "text/plain": [
              "<Figure size 432x288 with 1 Axes>"
            ],
            "image/png": "[encoded data removed]"
          },
          "metadata": {
            "needs_background": "light"
          }
        },
        {
          "output_type": "display_data",
          "data": {
            "text/plain": [
              "<Figure size 432x288 with 1 Axes>"
            ],
            "image/png": "[encoded data removed]"
          },
          "metadata": {
            "needs_background": "light"
          }
        },
        {
          "output_type": "display_data",
          "data": {
            "text/plain": [
              "<Figure size 432x288 with 1 Axes>"
            ],
            "image/png": "[encoded data removed]"
          },
          "metadata": {
            "needs_background": "light"
          }
        },
        {
          "output_type": "display_data",
          "data": {
            "text/plain": [
              "<Figure size 432x288 with 1 Axes>"
            ],
            "image/png": "[encoded data removed]"
          },
          "metadata": {
            "needs_background": "light"
          }
        }
      ],
      "source": [
        "sales_agg_monthly = Women_Apparel_Sold.resample(\"M\")[[\"Order Item Quantity\"]].mean()\n",
        "sales_agg_monthly.plot()\n",
        "plt.title('Mean Monthly Sales')\n",
        "\n",
        "sales_agg_yearly = Women_Apparel_Sold.resample(\"Y\")[[\"Order Item Quantity\"]].mean()\n",
        "sales_agg_yearly.plot()\n",
        "plt.title('Mean Yearly Sales')\n",
        "\n",
        "sales_agg_weekly = Women_Apparel_Sold.resample(\"W\")[[\"Order Item Quantity\"]].mean()\n",
        "sales_agg_weekly.plot()\n",
        "plt.title('Mean weekly Sales')\n",
        "\n",
        "sales_agg_daily = Women_Apparel_Sold.resample(\"D\")[[\"Order Item Quantity\"]].mean()\n",
        "sales_agg_daily.plot()\n",
        "plt.title('Daily_Sales')"
      ]
    },
    {
      "cell_type": "code",
      "execution_count": 116,
      "metadata": {
        "id": "POo6ykF3NdCK"
      },
      "outputs": [],
      "source": []
    },
    {
      "cell_type": "code",
      "execution_count": 117,
      "metadata": {
        "colab": {
          "base_uri": "https://localhost:8080/",
          "height": 590
        },
        "id": "MB01L89dsSVn",
        "outputId": "7a1b144b-5389-4eb0-93ef-ba990ae53fd2"
      },
      "outputs": [
        {
          "output_type": "stream",
          "name": "stdout",
          "text": [
            "Looking in indexes: https://pypi.org/simple, https://us-python.pkg.dev/colab-wheels/public/simple/\n",
            "Collecting pmdarima\n",
            "  Downloading pmdarima-2.0.2-cp38-cp38-manylinux_2_17_x86_64.manylinux2014_x86_64.manylinux_2_28_x86_64.whl (1.9 MB)\n",
            "\u001b[2K     \u001b[90m━━━━━━━━━━━━━━━━━━━━━━━━━━━━━━━━━━━━━━━━\u001b[0m \u001b[32m1.9/1.9 MB\u001b[0m \u001b[31m29.4 MB/s\u001b[0m eta \u001b[36m0:00:00\u001b[0m\n",
            "\u001b[?25hRequirement already satisfied: joblib>=0.11 in /usr/local/lib/python3.8/dist-packages (from pmdarima) (1.2.0)\n",
            "Requirement already satisfied: numpy>=1.21.2 in /usr/local/lib/python3.8/dist-packages (from pmdarima) (1.21.6)\n",
            "Requirement already satisfied: scikit-learn>=0.22 in /usr/local/lib/python3.8/dist-packages (from pmdarima) (1.0.2)\n",
            "Requirement already satisfied: scipy>=1.3.2 in /usr/local/lib/python3.8/dist-packages (from pmdarima) (1.7.3)\n",
            "Requirement already satisfied: setuptools!=50.0.0,>=38.6.0 in /usr/local/lib/python3.8/dist-packages (from pmdarima) (57.4.0)\n",
            "Requirement already satisfied: pandas>=0.19 in /usr/local/lib/python3.8/dist-packages (from pmdarima) (1.3.5)\n",
            "Requirement already satisfied: Cython!=0.29.18,!=0.29.31,>=0.29 in /usr/local/lib/python3.8/dist-packages (from pmdarima) (0.29.32)\n",
            "Requirement already satisfied: urllib3 in /usr/local/lib/python3.8/dist-packages (from pmdarima) (1.24.3)\n",
            "Collecting statsmodels>=0.13.2\n",
            "  Downloading statsmodels-0.13.5-cp38-cp38-manylinux_2_17_x86_64.manylinux2014_x86_64.whl (9.9 MB)\n",
            "\u001b[2K     \u001b[90m━━━━━━━━━━━━━━━━━━━━━━━━━━━━━━━━━━━━━━━━\u001b[0m \u001b[32m9.9/9.9 MB\u001b[0m \u001b[31m82.4 MB/s\u001b[0m eta \u001b[36m0:00:00\u001b[0m\n",
            "\u001b[?25hRequirement already satisfied: pytz>=2017.3 in /usr/local/lib/python3.8/dist-packages (from pandas>=0.19->pmdarima) (2022.7)\n",
            "Requirement already satisfied: python-dateutil>=2.7.3 in /usr/local/lib/python3.8/dist-packages (from pandas>=0.19->pmdarima) (2.8.2)\n",
            "Requirement already satisfied: threadpoolctl>=2.0.0 in /usr/local/lib/python3.8/dist-packages (from scikit-learn>=0.22->pmdarima) (3.1.0)\n",
            "Requirement already satisfied: packaging>=21.3 in /usr/local/lib/python3.8/dist-packages (from statsmodels>=0.13.2->pmdarima) (21.3)\n",
            "Requirement already satisfied: patsy>=0.5.2 in /usr/local/lib/python3.8/dist-packages (from statsmodels>=0.13.2->pmdarima) (0.5.3)\n",
            "Requirement already satisfied: pyparsing!=3.0.5,>=2.0.2 in /usr/local/lib/python3.8/dist-packages (from packaging>=21.3->statsmodels>=0.13.2->pmdarima) (3.0.9)\n",
            "Requirement already satisfied: six in /usr/local/lib/python3.8/dist-packages (from patsy>=0.5.2->statsmodels>=0.13.2->pmdarima) (1.15.0)\n",
            "Installing collected packages: statsmodels, pmdarima\n",
            "  Attempting uninstall: statsmodels\n",
            "    Found existing installation: statsmodels 0.12.2\n",
            "    Uninstalling statsmodels-0.12.2:\n",
            "      Successfully uninstalled statsmodels-0.12.2\n",
            "Successfully installed pmdarima-2.0.2 statsmodels-0.13.5\n"
          ]
        },
        {
          "output_type": "display_data",
          "data": {
            "application/vnd.colab-display-data+json": {
              "pip_warning": {
                "packages": [
                  "statsmodels"
                ]
              }
            }
          },
          "metadata": {}
        }
      ],
      "source": [
        "pip install pmdarima"
      ]
    },
    {
      "cell_type": "code",
      "execution_count": 118,
      "metadata": {
        "id": "Y7WLYgMxtC0i"
      },
      "outputs": [],
      "source": [
        "from pmdarima import auto_arima"
      ]
    },
    {
      "cell_type": "markdown",
      "metadata": {
        "id": "GZD0lSDtOo6N"
      },
      "source": [
        "Adding Exogenous variable"
      ]
    },
    {
      "cell_type": "code",
      "execution_count": 119,
      "metadata": {
        "colab": {
          "base_uri": "https://localhost:8080/"
        },
        "id": "nicJkpRHOw-g",
        "outputId": "e1a965ea-2a49-4e59-ba23-585bbb8eea8b"
      },
      "outputs": [
        {
          "output_type": "execute_result",
          "data": {
            "text/plain": [
              "(33, 1)"
            ]
          },
          "metadata": {},
          "execution_count": 119
        }
      ],
      "source": [
        "Monthly_Discount.drop(Monthly_Discount.tail(1).index,inplace=True)\n",
        "Monthly_Discount.shape"
      ]
    },
    {
      "cell_type": "code",
      "execution_count": 120,
      "metadata": {
        "id": "DhlFnLj8O3oX"
      },
      "outputs": [],
      "source": [
        "Exog = Monthly_Discount[['Order Item Discount']].to_numpy()\n"
      ]
    },
    {
      "cell_type": "code",
      "execution_count": 121,
      "metadata": {
        "colab": {
          "base_uri": "https://localhost:8080/"
        },
        "id": "vf88gS_MO3gg",
        "outputId": "1f2da6ef-9fe9-49eb-c827-bbe14b3c0094"
      },
      "outputs": [
        {
          "output_type": "stream",
          "name": "stdout",
          "text": [
            "Performing stepwise search to minimize aic\n",
            " ARIMA(5,0,1)(0,0,0)[0] intercept   : AIC=328.288, Time=0.37 sec\n",
            " ARIMA(0,0,0)(0,0,0)[0] intercept   : AIC=319.121, Time=0.02 sec\n",
            " ARIMA(1,0,0)(0,0,0)[0] intercept   : AIC=319.156, Time=0.05 sec\n",
            " ARIMA(0,0,1)(0,0,0)[0] intercept   : AIC=318.736, Time=0.07 sec\n",
            " ARIMA(0,0,0)(0,0,0)[0]             : AIC=468.682, Time=0.02 sec\n",
            " ARIMA(1,0,1)(0,0,0)[0] intercept   : AIC=321.162, Time=0.05 sec\n",
            " ARIMA(0,0,2)(0,0,0)[0] intercept   : AIC=320.677, Time=0.08 sec\n",
            " ARIMA(1,0,2)(0,0,0)[0] intercept   : AIC=322.571, Time=0.13 sec\n",
            " ARIMA(0,0,1)(0,0,0)[0]             : AIC=inf, Time=0.04 sec\n",
            "\n",
            "Best model:  ARIMA(0,0,1)(0,0,0)[0] intercept\n",
            "Total fit time: 0.856 seconds\n"
          ]
        }
      ],
      "source": [
        "\n",
        "\n",
        "# Split the data into training and test sets\n",
        "train_data = Monthly_Quantity[:int(0.8*len(Monthly_Quantity))]\n",
        "test_data = Monthly_Quantity[int(0.8*len(Monthly_Quantity)):]\n",
        "\n",
        "# Create an auto_arima model\n",
        "model = auto_arima(train_data, exogenous=Exog, start_p=5, start_q=1,\n",
        "                   max_p=10, max_q=3, m=1, d=None, \n",
        "                    trace=True,\n",
        "                   error_action='ignore',  # don't want to know if an order does not work\n",
        "                   suppress_warnings=True,  # don't want convergence warnings\n",
        "                   stepwise=True)  # set to stepwise\n"
      ]
    },
    {
      "cell_type": "code",
      "execution_count": 122,
      "metadata": {
        "id": "S1-bwrkQO3ZD"
      },
      "outputs": [],
      "source": [
        "# Fit the model to the training data\n",
        "model.fit(train_data)\n",
        "\n",
        "# Make predictions on the test data\n",
        "predictions = model.predict(n_periods=len(test_data))"
      ]
    },
    {
      "cell_type": "code",
      "execution_count": 123,
      "metadata": {
        "colab": {
          "base_uri": "https://localhost:8080/"
        },
        "id": "tL8T1GC9O3No",
        "outputId": "a9eaa246-411e-48ff-fd2e-bbfce2f72830"
      },
      "outputs": [
        {
          "output_type": "execute_result",
          "data": {
            "text/plain": [
              "2017-03-01    1888.938279\n",
              "2017-04-01    1908.961071\n",
              "2017-05-01    1908.961071\n",
              "2017-06-01    1908.961071\n",
              "2017-07-01    1908.961071\n",
              "2017-08-01    1908.961071\n",
              "2017-09-01    1908.961071\n",
              "Freq: MS, dtype: float64"
            ]
          },
          "metadata": {},
          "execution_count": 123
        }
      ],
      "source": [
        "predictions"
      ]
    },
    {
      "cell_type": "markdown",
      "metadata": {
        "id": "9xucmBOaPegx"
      },
      "source": [
        "Evaluate the model's performance"
      ]
    },
    {
      "cell_type": "code",
      "execution_count": 124,
      "metadata": {
        "colab": {
          "base_uri": "https://localhost:8080/"
        },
        "id": "OnqLbpRWuKbM",
        "outputId": "a3c7a487-71e4-41b6-cd10-d538751cc531"
      },
      "outputs": [
        {
          "output_type": "stream",
          "name": "stdout",
          "text": [
            "77.42626626720435\n"
          ]
        }
      ],
      "source": [
        "MAE = (mean_absolute_error(predictions,test_data))\n",
        "print(MAE)"
      ]
    },
    {
      "cell_type": "code",
      "execution_count": 125,
      "metadata": {
        "colab": {
          "base_uri": "https://localhost:8080/"
        },
        "id": "ki-zrp4PuXgQ",
        "outputId": "bbc6977c-b08f-43e4-9d88-bca0cae3e7b1"
      },
      "outputs": [
        {
          "output_type": "stream",
          "name": "stdout",
          "text": [
            " Root Mean Squared Error: 102.058\n"
          ]
        }
      ],
      "source": [
        "rmse = sqrt(mean_squared_error(test_data, predictions))\n",
        "print(f' Root Mean Squared Error: {rmse:.3f}')"
      ]
    },
    {
      "cell_type": "code",
      "execution_count": 126,
      "metadata": {
        "colab": {
          "base_uri": "https://localhost:8080/"
        },
        "id": "vcr-pBF-ubo_",
        "outputId": "d2351dfe-c910-4483-f386-273e2c0cae3c"
      },
      "outputs": [
        {
          "output_type": "stream",
          "name": "stdout",
          "text": [
            "MAPE: 4.179051967186745\n"
          ]
        }
      ],
      "source": [
        "MAPE = (mean_absolute_percentage_error(test_data, predictions))*100\n",
        "print(\"MAPE:\", MAPE)"
      ]
    },
    {
      "cell_type": "markdown",
      "source": [
        "#ARIMA PREDICTION"
      ],
      "metadata": {
        "id": "nYB_ttYuTiC0"
      }
    },
    {
      "cell_type": "code",
      "execution_count": 127,
      "metadata": {
        "id": "fOQuPaHMwvbK",
        "colab": {
          "base_uri": "https://localhost:8080/"
        },
        "outputId": "ecfcff03-36c4-4a4f-d558-e249503d2a86"
      },
      "outputs": [
        {
          "output_type": "stream",
          "name": "stdout",
          "text": [
            "[1908.961071402265]\n",
            "24    1702\n",
            "Name: Order Item Quantity, dtype: int64\n"
          ]
        }
      ],
      "source": [
        "Arima_prediction2 = predictions.iloc[1:2]\n",
        "Arima_prediction2 = Arima_prediction2.tolist()\n",
        "print(Arima_prediction2)\n",
        "print(Actual_value2)"
      ]
    },
    {
      "cell_type": "code",
      "execution_count": 128,
      "metadata": {
        "id": "czJK_07OPyHL",
        "colab": {
          "base_uri": "https://localhost:8080/"
        },
        "outputId": "187e67ac-efcb-489c-8bd4-8a9b3f2d876e"
      },
      "outputs": [
        {
          "output_type": "stream",
          "name": "stdout",
          "text": [
            "\tMean absolute error (MAE): 206.9610714022649\n"
          ]
        }
      ],
      "source": [
        "print(\"\\tMean absolute error (MAE):\", mean_absolute_error(Actual_value2, Arima_prediction2))"
      ]
    },
    {
      "cell_type": "code",
      "execution_count": 128,
      "metadata": {
        "id": "CF5hdJs3Px5f"
      },
      "outputs": [],
      "source": []
    },
    {
      "cell_type": "markdown",
      "metadata": {
        "id": "e_WmluL8PzFY"
      },
      "source": [
        "# Exponential Smoothing"
      ]
    },
    {
      "cell_type": "code",
      "execution_count": 129,
      "metadata": {
        "id": "2aY_xQtwPx2M"
      },
      "outputs": [],
      "source": [
        "from statsmodels.tsa.holtwinters import SimpleExpSmoothing\n",
        "from statsmodels.tsa.api import ExponentialSmoothing, SimpleExpSmoothing, Holt"
      ]
    },
    {
      "cell_type": "code",
      "execution_count": 130,
      "metadata": {
        "id": "keBnW0zPPxy2"
      },
      "outputs": [],
      "source": [
        "def simple_exponential_smoothing(MonthlyItemQuantity, alpha):\n",
        "    \"\"\"\n",
        "    Perform simple exponential smoothing.\n",
        "    Args:\n",
        "        series: input series\n",
        "        alpha: smoothing factor (between 0 and 1)\n",
        "    Returns:\n",
        "        smoothed series\n",
        "    \"\"\"\n",
        "    # Initialize the smoothed series with the first value of the input series\n",
        "    smoothed_series = [MonthlyItemQuantity[0]]\n",
        "    # Loop through the rest of the series\n",
        "    for t in range(1, len(MonthlyItemQuantity)):\n",
        "        # Calculate the smoothed value for time t\n",
        "        smoothed_series.append(alpha * MonthlyItemQuantity[t] + (1 - alpha) * smoothed_series[t-1])\n",
        "    return smoothed_series"
      ]
    },
    {
      "cell_type": "code",
      "execution_count": 131,
      "metadata": {
        "colab": {
          "base_uri": "https://localhost:8080/"
        },
        "id": "0zYICLuXPxvZ",
        "outputId": "d2601865-397d-4c44-ab15-0f9ec81ce109"
      },
      "outputs": [
        {
          "output_type": "stream",
          "name": "stdout",
          "text": [
            "[1938, 1929.6, 1798.28, 2053.584, 1960.0752, 1900.52256, 1943.556768, 1824.1670304, 1858.35010912, 2005.8050327360002, 1802.2415098208003, 1833.57245294624, 1807.971735883872, 1888.4915207651616, 1883.2474562295483, 1943.2742368688646, 2040.3822710606594, 1913.4146813181978, 1981.7244043954593, 1887.4173213186377, 1867.5251963955914, 1942.0575589186774, 1951.817267675603, 2010.7451803026809, 1794.6235540908042, 1840.3870662272413, 1874.4161198681725, 1869.2248359604519, 1908.9674507881355, 1950.9902352364406]\n"
          ]
        }
      ],
      "source": [
        "alpha = 0.7\n",
        "\n",
        "smoothed_series = simple_exponential_smoothing(MonthlyItemQuantity, alpha)\n",
        "print(smoothed_series)"
      ]
    },
    {
      "cell_type": "code",
      "execution_count": 132,
      "metadata": {
        "colab": {
          "base_uri": "https://localhost:8080/"
        },
        "id": "NuHhyCMaQrSM",
        "outputId": "411555fd-5af6-4e0c-d3a8-be9d60b4e354"
      },
      "outputs": [
        {
          "output_type": "stream",
          "name": "stdout",
          "text": [
            "Errors: [0, -3.599999999999909, -56.27999999999997, 109.41600000000017, -40.075199999999995, -25.522560000000112, 18.44323200000008, -51.16703039999993, 14.64989087999993, 63.19496726399984, -87.24150982080027, 13.427547053760009, -10.971735883872043, 34.50847923483843, -2.247456229548334, 25.72576313113541, 41.61772893934062, -54.414681318197836, 29.27559560454074, -40.41732131863773, -8.525196395591365, 31.942441081322613, 4.182732324396966, 25.254819697319135, -92.62355409080419, 19.61293377275865, 14.583880131827527, -2.2248359604518555, 17.032549211864534, 18.00976476355936]\n",
            "RMSE: 42.060823028492436\n",
            "MAE: 31.872980216952254\n",
            "MAPE: 1.6729354214112317\n"
          ]
        }
      ],
      "source": [
        "errors = []\n",
        "for a, f in zip(MonthlyItemQuantity, smoothed_series):\n",
        "    errors.append(a - f)\n",
        "\n",
        "# Calculate the MSE\n",
        "mse = np.sum(np.square(errors)) / len(errors)\n",
        "\n",
        "# Calculate the RMSE\n",
        "rmse = np.sqrt(mse)\n",
        "\n",
        "print(\"Errors:\", errors)\n",
        "print(\"RMSE:\", rmse)\n",
        "\n",
        "MAE = (mean_absolute_error(smoothed_series,MonthlyItemQuantity))\n",
        "print(\"MAE:\", MAE)\n",
        "\n",
        "MAPE = (mean_absolute_percentage_error(smoothed_series, MonthlyItemQuantity))*100\n",
        "print(\"MAPE:\", MAPE)"
      ]
    },
    {
      "cell_type": "markdown",
      "source": [
        "#Exponential Smoothing PREDICTION"
      ],
      "metadata": {
        "id": "qy3_g18CTyRX"
      }
    },
    {
      "cell_type": "code",
      "source": [
        "Monthly_Quantity.shape"
      ],
      "metadata": {
        "colab": {
          "base_uri": "https://localhost:8080/"
        },
        "id": "sxsxLcsHTxOj",
        "outputId": "a625b1b2-69b8-44f8-e855-6e78a7c3f962"
      },
      "execution_count": 133,
      "outputs": [
        {
          "output_type": "execute_result",
          "data": {
            "text/plain": [
              "(33, 1)"
            ]
          },
          "metadata": {},
          "execution_count": 133
        }
      ]
    },
    {
      "cell_type": "code",
      "source": [
        "train_data = Monthly_Quantity[:int(0.8*len(Monthly_Quantity))]\n",
        "test_data = Monthly_Quantity[int(0.8*len(Monthly_Quantity)):]"
      ],
      "metadata": {
        "id": "EX2crIBdTxK6"
      },
      "execution_count": 134,
      "outputs": []
    },
    {
      "cell_type": "code",
      "source": [
        "alpha = 0.7"
      ],
      "metadata": {
        "id": "o_CpXS37TxHo"
      },
      "execution_count": 135,
      "outputs": []
    },
    {
      "cell_type": "code",
      "source": [
        "model = SimpleExpSmoothing(train_data['Order Item Quantity'])\n",
        "fit = model.fit(smoothing_level=alpha)"
      ],
      "metadata": {
        "colab": {
          "base_uri": "https://localhost:8080/"
        },
        "id": "13gYyYi9TxEf",
        "outputId": "1790ce02-0a8b-46bb-a4d7-8ef73737cf2a"
      },
      "execution_count": 136,
      "outputs": [
        {
          "output_type": "stream",
          "name": "stderr",
          "text": [
            "/usr/local/lib/python3.8/dist-packages/statsmodels/tsa/base/tsa_model.py:524: ValueWarning: No frequency information was provided, so inferred frequency MS will be used.\n",
            "  # If an index is available, see if it is a date-based index or if it\n"
          ]
        }
      ]
    },
    {
      "cell_type": "code",
      "source": [
        "ES_predictions2 = fit.predict(start=test_data.index[0], end=test_data.index[-1])"
      ],
      "metadata": {
        "id": "Xj7JmuB5TxAd"
      },
      "execution_count": 137,
      "outputs": []
    },
    {
      "cell_type": "code",
      "source": [
        "ES_prediction2 = ES_predictions2.iloc[1:2]\n",
        "ES_prediction2 = ES_prediction2.tolist()\n",
        "ES_prediction2"
      ],
      "metadata": {
        "colab": {
          "base_uri": "https://localhost:8080/"
        },
        "id": "Pd87gNwNTw9i",
        "outputId": "c35e5c4d-4452-4806-8970-951241dfa2f6"
      },
      "execution_count": 138,
      "outputs": [
        {
          "output_type": "execute_result",
          "data": {
            "text/plain": [
              "[1951.817267675614]"
            ]
          },
          "metadata": {},
          "execution_count": 138
        }
      ]
    },
    {
      "cell_type": "code",
      "source": [
        "print(\"\\tMean absolute error (MAE):\", mean_absolute_error(Actual_value2, ES_prediction2))"
      ],
      "metadata": {
        "colab": {
          "base_uri": "https://localhost:8080/"
        },
        "id": "94byDoT5Tw4p",
        "outputId": "c3e354ea-895d-4342-ebc3-74b38df71d33"
      },
      "execution_count": 139,
      "outputs": [
        {
          "output_type": "stream",
          "name": "stdout",
          "text": [
            "\tMean absolute error (MAE): 249.81726767561395\n"
          ]
        }
      ]
    },
    {
      "cell_type": "markdown",
      "source": [
        "# COMBINING PREDICTION OF THE 5 MODELS"
      ],
      "metadata": {
        "id": "xaidHRO8UJv-"
      }
    },
    {
      "cell_type": "code",
      "source": [
        "df_vertical = pd.concat([xgboost_prediction2, linear_prediction2, Forest_prediction2])"
      ],
      "metadata": {
        "id": "68qQjI3JTw0t"
      },
      "execution_count": 140,
      "outputs": []
    },
    {
      "cell_type": "code",
      "source": [
        "array = df_vertical.values\n",
        "array"
      ],
      "metadata": {
        "colab": {
          "base_uri": "https://localhost:8080/"
        },
        "id": "UcdFyG1qTwvC",
        "outputId": "e6a07f64-bf02-4f90-f2d7-ab27812c5f94"
      },
      "execution_count": 141,
      "outputs": [
        {
          "output_type": "execute_result",
          "data": {
            "text/plain": [
              "array([[1750.51062012],\n",
              "       [1689.4215336 ],\n",
              "       [1814.1       ]])"
            ]
          },
          "metadata": {},
          "execution_count": 141
        }
      ]
    },
    {
      "cell_type": "code",
      "execution_count": 142,
      "metadata": {
        "id": "aE528-XlQuQn",
        "colab": {
          "base_uri": "https://localhost:8080/"
        },
        "outputId": "b302e42d-ee2c-4644-d04f-34bfa8b12e0b"
      },
      "outputs": [
        {
          "output_type": "stream",
          "name": "stdout",
          "text": [
            "[1750.51062012 1689.4215336  1814.1        1908.9610714 ]\n"
          ]
        }
      ],
      "source": [
        "array = np.append(array, Arima_prediction2)\n",
        "print(array)"
      ]
    },
    {
      "cell_type": "markdown",
      "source": [
        "# INPUT FOR Multilayer perceptron"
      ],
      "metadata": {
        "id": "a4J390XsUX86"
      }
    },
    {
      "cell_type": "code",
      "source": [
        "input_array = np.append(array, ES_prediction2)\n",
        "print(input_array)"
      ],
      "metadata": {
        "colab": {
          "base_uri": "https://localhost:8080/"
        },
        "id": "x-NyydtNUSt5",
        "outputId": "8a4d2fe6-6519-4e56-b925-f4950bfb0e72"
      },
      "execution_count": 143,
      "outputs": [
        {
          "output_type": "stream",
          "name": "stdout",
          "text": [
            "[1750.51062012 1689.4215336  1814.1        1908.9610714  1951.81726768]\n"
          ]
        }
      ]
    },
    {
      "cell_type": "code",
      "source": [
        "Actual_value2"
      ],
      "metadata": {
        "colab": {
          "base_uri": "https://localhost:8080/"
        },
        "id": "K7YJjw6DUSaj",
        "outputId": "18f1280f-0247-463f-a4e3-35a90a6c1e6b"
      },
      "execution_count": 144,
      "outputs": [
        {
          "output_type": "execute_result",
          "data": {
            "text/plain": [
              "24    1702\n",
              "Name: Order Item Quantity, dtype: int64"
            ]
          },
          "metadata": {},
          "execution_count": 144
        }
      ]
    },
    {
      "cell_type": "markdown",
      "metadata": {
        "id": "iCCv2MQ1RHy3"
      },
      "source": [
        "#FINAL OUTPUT"
      ]
    },
    {
      "cell_type": "markdown",
      "metadata": {
        "id": "jQhJ1E0bRNZd"
      },
      "source": [
        "Implement multilayer perceptron to get the final forecast for Women's Apparel"
      ]
    },
    {
      "cell_type": "code",
      "execution_count": 156,
      "metadata": {
        "id": "qVb3BMGiRHdb",
        "colab": {
          "base_uri": "https://localhost:8080/"
        },
        "outputId": "80227cd7-098b-41de-e594-266e92b623ea"
      },
      "outputs": [
        {
          "output_type": "execute_result",
          "data": {
            "text/plain": [
              "array([1750.51062012, 1689.4215336 , 1814.1       , 1908.9610714 ,\n",
              "       1951.81726768])"
            ]
          },
          "metadata": {},
          "execution_count": 156
        }
      ],
      "source": [
        "input = input_array\n",
        "input"
      ]
    },
    {
      "cell_type": "code",
      "execution_count": 202,
      "metadata": {
        "id": "RTy4tTLHRL8f",
        "colab": {
          "base_uri": "https://localhost:8080/"
        },
        "outputId": "89caf471-1355-45eb-ccc5-3e0dbaff1087"
      },
      "outputs": [
        {
          "output_type": "stream",
          "name": "stdout",
          "text": [
            "[1633.98501656]\n"
          ]
        }
      ],
      "source": [
        "import numpy as np\n",
        "\n",
        "class MLP:\n",
        "    def __init__(self, input_size, hidden_size_1, hidden_size_2, output_size):\n",
        "        self.input_size = input_size\n",
        "        self.hidden_size_1 = hidden_size_1\n",
        "        self.hidden_size_2 = hidden_size_2\n",
        "        self.output_size = output_size\n",
        "\n",
        "        # Initialize weights and biases\n",
        "        self.weights_input_hidden_1 = np.random.randn(self.input_size, self.hidden_size_1)\n",
        "        self.biases_input_hidden_1 = np.zeros(self.hidden_size_1)\n",
        "        self.weights_hidden_1_hidden_2 = np.random.randn(self.hidden_size_1, self.hidden_size_2)\n",
        "        self.biases_hidden_1_hidden_2 = np.zeros(self.hidden_size_2)\n",
        "        self.weights_hidden_2_output = np.random.randn(self.hidden_size_2, self.output_size)\n",
        "        self.biases_hidden_2_output = np.zeros(self.output_size)\n",
        "\n",
        "    def forward(self, input):\n",
        "        # Propagate input through the network\n",
        "        self.hidden_1 = np.dot(input, self.weights_input_hidden_1) + self.biases_input_hidden_1\n",
        "        self.hidden_2 = np.dot(self.hidden_1, self.weights_hidden_1_hidden_2) + self.biases_hidden_1_hidden_2\n",
        "        self.output = np.dot(self.hidden_2, self.weights_hidden_2_output) + self.biases_hidden_2_output\n",
        "        return self.output\n",
        "\n",
        "# Create an MLP with 5 inputs,\n",
        "\n",
        "\n",
        "# Create an MLP with 5 inputs, 2 hidden layers, and 1 output\n",
        "mlp = MLP(5, 4, 3, 1)\n",
        "\n",
        "# Propagate some input through the network and print the output\n",
        "input = input_array\n",
        "output = mlp.forward(input)\n",
        "print(output)"
      ]
    },
    {
      "cell_type": "markdown",
      "source": [
        "# Calculate Error for final Output"
      ],
      "metadata": {
        "id": "lACm94WDUtQT"
      }
    },
    {
      "cell_type": "code",
      "execution_count": 203,
      "metadata": {
        "id": "NLy6fX4-RW1j",
        "colab": {
          "base_uri": "https://localhost:8080/"
        },
        "outputId": "7c547d57-2b19-465f-ab8b-f85d8c951e7a"
      },
      "outputs": [
        {
          "output_type": "stream",
          "name": "stdout",
          "text": [
            "\tMean absolute error (MAE): 68.01498344174138\n"
          ]
        }
      ],
      "source": [
        "print(\"\\tMean absolute error (MAE):\", mean_absolute_error(Actual_value2, output))"
      ]
    },
    {
      "cell_type": "code",
      "source": [],
      "metadata": {
        "id": "O95DEbEZUwjw"
      },
      "execution_count": 147,
      "outputs": []
    }
  ],
  "metadata": {
    "colab": {
      "provenance": []
    },
    "kernelspec": {
      "display_name": "Python 3",
      "language": "python",
      "name": "python3"
    },
    "language_info": {
      "codemirror_mode": {
        "name": "ipython",
        "version": 3
      },
      "file_extension": ".py",
      "mimetype": "text/x-python",
      "name": "python",
      "nbconvert_exporter": "python",
      "pygments_lexer": "ipython3",
      "version": "3.8.3"
    }
  },
  "nbformat": 4,
  "nbformat_minor": 0
}