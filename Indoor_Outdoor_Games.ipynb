{
  "cells": [
    {
      "cell_type": "markdown",
      "metadata": {
        "id": "nj66EHUqXD6w"
      },
      "source": [
        "### Import Libraries"
      ]
    },
    {
      "cell_type": "code",
      "execution_count": 5,
      "metadata": {
        "id": "bf9IoRKiXD67"
      },
      "outputs": [],
      "source": [
        "import numpy as np\n",
        "import pandas as pd\n",
        "import seaborn as sns\n",
        "import matplotlib.pyplot as plt\n",
        "%matplotlib inline\n",
        "from time import time\n",
        "\n",
        "\n",
        "import warnings\n",
        "warnings.filterwarnings(\"ignore\")"
      ]
    },
    {
      "cell_type": "markdown",
      "metadata": {
        "id": "JqyCywclXD7A"
      },
      "source": [
        "### Read CSV file and make a Pandas Dataframe"
      ]
    },
    {
      "cell_type": "code",
      "execution_count": 6,
      "metadata": {
        "id": "7LbAsurRXD7B",
        "outputId": "fb772132-3f12-4b54-ac89-71839e46cfef",
        "colab": {
          "base_uri": "https://localhost:8080/",
          "height": 73
        }
      },
      "outputs": [
        {
          "output_type": "display_data",
          "data": {
            "text/plain": [
              "<IPython.core.display.HTML object>"
            ],
            "text/html": [
              "\n",
              "     <input type=\"file\" id=\"files-857a8d40-2e6b-49d2-91b2-21fa5df7738c\" name=\"files[]\" multiple disabled\n",
              "        style=\"border:none\" />\n",
              "     <output id=\"result-857a8d40-2e6b-49d2-91b2-21fa5df7738c\">\n",
              "      Upload widget is only available when the cell has been executed in the\n",
              "      current browser session. Please rerun this cell to enable.\n",
              "      </output>\n",
              "      <script>// Copyright 2017 Google LLC\n",
              "//\n",
              "// Licensed under the Apache License, Version 2.0 (the \"License\");\n",
              "// you may not use this file except in compliance with the License.\n",
              "// You may obtain a copy of the License at\n",
              "//\n",
              "//      http://www.apache.org/licenses/LICENSE-2.0\n",
              "//\n",
              "// Unless required by applicable law or agreed to in writing, software\n",
              "// distributed under the License is distributed on an \"AS IS\" BASIS,\n",
              "// WITHOUT WARRANTIES OR CONDITIONS OF ANY KIND, either express or implied.\n",
              "// See the License for the specific language governing permissions and\n",
              "// limitations under the License.\n",
              "\n",
              "/**\n",
              " * @fileoverview Helpers for google.colab Python module.\n",
              " */\n",
              "(function(scope) {\n",
              "function span(text, styleAttributes = {}) {\n",
              "  const element = document.createElement('span');\n",
              "  element.textContent = text;\n",
              "  for (const key of Object.keys(styleAttributes)) {\n",
              "    element.style[key] = styleAttributes[key];\n",
              "  }\n",
              "  return element;\n",
              "}\n",
              "\n",
              "// Max number of bytes which will be uploaded at a time.\n",
              "const MAX_PAYLOAD_SIZE = 100 * 1024;\n",
              "\n",
              "function _uploadFiles(inputId, outputId) {\n",
              "  const steps = uploadFilesStep(inputId, outputId);\n",
              "  const outputElement = document.getElementById(outputId);\n",
              "  // Cache steps on the outputElement to make it available for the next call\n",
              "  // to uploadFilesContinue from Python.\n",
              "  outputElement.steps = steps;\n",
              "\n",
              "  return _uploadFilesContinue(outputId);\n",
              "}\n",
              "\n",
              "// This is roughly an async generator (not supported in the browser yet),\n",
              "// where there are multiple asynchronous steps and the Python side is going\n",
              "// to poll for completion of each step.\n",
              "// This uses a Promise to block the python side on completion of each step,\n",
              "// then passes the result of the previous step as the input to the next step.\n",
              "function _uploadFilesContinue(outputId) {\n",
              "  const outputElement = document.getElementById(outputId);\n",
              "  const steps = outputElement.steps;\n",
              "\n",
              "  const next = steps.next(outputElement.lastPromiseValue);\n",
              "  return Promise.resolve(next.value.promise).then((value) => {\n",
              "    // Cache the last promise value to make it available to the next\n",
              "    // step of the generator.\n",
              "    outputElement.lastPromiseValue = value;\n",
              "    return next.value.response;\n",
              "  });\n",
              "}\n",
              "\n",
              "/**\n",
              " * Generator function which is called between each async step of the upload\n",
              " * process.\n",
              " * @param {string} inputId Element ID of the input file picker element.\n",
              " * @param {string} outputId Element ID of the output display.\n",
              " * @return {!Iterable<!Object>} Iterable of next steps.\n",
              " */\n",
              "function* uploadFilesStep(inputId, outputId) {\n",
              "  const inputElement = document.getElementById(inputId);\n",
              "  inputElement.disabled = false;\n",
              "\n",
              "  const outputElement = document.getElementById(outputId);\n",
              "  outputElement.innerHTML = '';\n",
              "\n",
              "  const pickedPromise = new Promise((resolve) => {\n",
              "    inputElement.addEventListener('change', (e) => {\n",
              "      resolve(e.target.files);\n",
              "    });\n",
              "  });\n",
              "\n",
              "  const cancel = document.createElement('button');\n",
              "  inputElement.parentElement.appendChild(cancel);\n",
              "  cancel.textContent = 'Cancel upload';\n",
              "  const cancelPromise = new Promise((resolve) => {\n",
              "    cancel.onclick = () => {\n",
              "      resolve(null);\n",
              "    };\n",
              "  });\n",
              "\n",
              "  // Wait for the user to pick the files.\n",
              "  const files = yield {\n",
              "    promise: Promise.race([pickedPromise, cancelPromise]),\n",
              "    response: {\n",
              "      action: 'starting',\n",
              "    }\n",
              "  };\n",
              "\n",
              "  cancel.remove();\n",
              "\n",
              "  // Disable the input element since further picks are not allowed.\n",
              "  inputElement.disabled = true;\n",
              "\n",
              "  if (!files) {\n",
              "    return {\n",
              "      response: {\n",
              "        action: 'complete',\n",
              "      }\n",
              "    };\n",
              "  }\n",
              "\n",
              "  for (const file of files) {\n",
              "    const li = document.createElement('li');\n",
              "    li.append(span(file.name, {fontWeight: 'bold'}));\n",
              "    li.append(span(\n",
              "        `(${file.type || 'n/a'}) - ${file.size} bytes, ` +\n",
              "        `last modified: ${\n",
              "            file.lastModifiedDate ? file.lastModifiedDate.toLocaleDateString() :\n",
              "                                    'n/a'} - `));\n",
              "    const percent = span('0% done');\n",
              "    li.appendChild(percent);\n",
              "\n",
              "    outputElement.appendChild(li);\n",
              "\n",
              "    const fileDataPromise = new Promise((resolve) => {\n",
              "      const reader = new FileReader();\n",
              "      reader.onload = (e) => {\n",
              "        resolve(e.target.result);\n",
              "      };\n",
              "      reader.readAsArrayBuffer(file);\n",
              "    });\n",
              "    // Wait for the data to be ready.\n",
              "    let fileData = yield {\n",
              "      promise: fileDataPromise,\n",
              "      response: {\n",
              "        action: 'continue',\n",
              "      }\n",
              "    };\n",
              "\n",
              "    // Use a chunked sending to avoid message size limits. See b/62115660.\n",
              "    let position = 0;\n",
              "    do {\n",
              "      const length = Math.min(fileData.byteLength - position, MAX_PAYLOAD_SIZE);\n",
              "      const chunk = new Uint8Array(fileData, position, length);\n",
              "      position += length;\n",
              "\n",
              "      const base64 = btoa(String.fromCharCode.apply(null, chunk));\n",
              "      yield {\n",
              "        response: {\n",
              "          action: 'append',\n",
              "          file: file.name,\n",
              "          data: base64,\n",
              "        },\n",
              "      };\n",
              "\n",
              "      let percentDone = fileData.byteLength === 0 ?\n",
              "          100 :\n",
              "          Math.round((position / fileData.byteLength) * 100);\n",
              "      percent.textContent = `${percentDone}% done`;\n",
              "\n",
              "    } while (position < fileData.byteLength);\n",
              "  }\n",
              "\n",
              "  // All done.\n",
              "  yield {\n",
              "    response: {\n",
              "      action: 'complete',\n",
              "    }\n",
              "  };\n",
              "}\n",
              "\n",
              "scope.google = scope.google || {};\n",
              "scope.google.colab = scope.google.colab || {};\n",
              "scope.google.colab._files = {\n",
              "  _uploadFiles,\n",
              "  _uploadFilesContinue,\n",
              "};\n",
              "})(self);\n",
              "</script> "
            ]
          },
          "metadata": {}
        },
        {
          "output_type": "stream",
          "name": "stdout",
          "text": [
            "Saving Data.csv to Data (1).csv\n"
          ]
        }
      ],
      "source": [
        "from google.colab import files\n",
        "uploaded = files.upload()"
      ]
    },
    {
      "cell_type": "code",
      "source": [
        "import io\n",
        "data = pd.read_csv(io.BytesIO(uploaded['Data.csv']))\n",
        "# Dataset is now stored in a Pandas Dataframe"
      ],
      "metadata": {
        "id": "enK3VPUzP1W4"
      },
      "execution_count": 7,
      "outputs": []
    },
    {
      "cell_type": "code",
      "execution_count": 8,
      "metadata": {
        "id": "A605TY5aXD7C",
        "colab": {
          "base_uri": "https://localhost:8080/",
          "height": 206
        },
        "outputId": "4be577e8-a849-40ea-fd42-4215b455ed64"
      },
      "outputs": [
        {
          "output_type": "execute_result",
          "data": {
            "text/plain": [
              "    Category Name order date (DateOrders)  Order Item Discount  \\\n",
              "0  Sporting Goods         1/31/2018 22:56            13.110000   \n",
              "1  Sporting Goods         1/13/2018 12:27            16.389999   \n",
              "2  Sporting Goods         1/13/2018 12:06            18.030001   \n",
              "3  Sporting Goods         1/13/2018 11:45            22.940001   \n",
              "4  Sporting Goods         1/13/2018 11:24            29.500000   \n",
              "\n",
              "   Order Item Quantity   Sales  \n",
              "0                    1  327.75  \n",
              "1                    1  327.75  \n",
              "2                    1  327.75  \n",
              "3                    1  327.75  \n",
              "4                    1  327.75  "
            ],
            "text/html": [
              "\n",
              "  <div id=\"df-5e39aa1a-2c7a-43b5-ba5b-58027a746b63\">\n",
              "    <div class=\"colab-df-container\">\n",
              "      <div>\n",
              "<style scoped>\n",
              "    .dataframe tbody tr th:only-of-type {\n",
              "        vertical-align: middle;\n",
              "    }\n",
              "\n",
              "    .dataframe tbody tr th {\n",
              "        vertical-align: top;\n",
              "    }\n",
              "\n",
              "    .dataframe thead th {\n",
              "        text-align: right;\n",
              "    }\n",
              "</style>\n",
              "<table border=\"1\" class=\"dataframe\">\n",
              "  <thead>\n",
              "    <tr style=\"text-align: right;\">\n",
              "      <th></th>\n",
              "      <th>Category Name</th>\n",
              "      <th>order date (DateOrders)</th>\n",
              "      <th>Order Item Discount</th>\n",
              "      <th>Order Item Quantity</th>\n",
              "      <th>Sales</th>\n",
              "    </tr>\n",
              "  </thead>\n",
              "  <tbody>\n",
              "    <tr>\n",
              "      <th>0</th>\n",
              "      <td>Sporting Goods</td>\n",
              "      <td>1/31/2018 22:56</td>\n",
              "      <td>13.110000</td>\n",
              "      <td>1</td>\n",
              "      <td>327.75</td>\n",
              "    </tr>\n",
              "    <tr>\n",
              "      <th>1</th>\n",
              "      <td>Sporting Goods</td>\n",
              "      <td>1/13/2018 12:27</td>\n",
              "      <td>16.389999</td>\n",
              "      <td>1</td>\n",
              "      <td>327.75</td>\n",
              "    </tr>\n",
              "    <tr>\n",
              "      <th>2</th>\n",
              "      <td>Sporting Goods</td>\n",
              "      <td>1/13/2018 12:06</td>\n",
              "      <td>18.030001</td>\n",
              "      <td>1</td>\n",
              "      <td>327.75</td>\n",
              "    </tr>\n",
              "    <tr>\n",
              "      <th>3</th>\n",
              "      <td>Sporting Goods</td>\n",
              "      <td>1/13/2018 11:45</td>\n",
              "      <td>22.940001</td>\n",
              "      <td>1</td>\n",
              "      <td>327.75</td>\n",
              "    </tr>\n",
              "    <tr>\n",
              "      <th>4</th>\n",
              "      <td>Sporting Goods</td>\n",
              "      <td>1/13/2018 11:24</td>\n",
              "      <td>29.500000</td>\n",
              "      <td>1</td>\n",
              "      <td>327.75</td>\n",
              "    </tr>\n",
              "  </tbody>\n",
              "</table>\n",
              "</div>\n",
              "      <button class=\"colab-df-convert\" onclick=\"convertToInteractive('df-5e39aa1a-2c7a-43b5-ba5b-58027a746b63')\"\n",
              "              title=\"Convert this dataframe to an interactive table.\"\n",
              "              style=\"display:none;\">\n",
              "        \n",
              "  <svg xmlns=\"http://www.w3.org/2000/svg\" height=\"24px\"viewBox=\"0 0 24 24\"\n",
              "       width=\"24px\">\n",
              "    <path d=\"M0 0h24v24H0V0z\" fill=\"none\"/>\n",
              "    <path d=\"M18.56 5.44l.94 2.06.94-2.06 2.06-.94-2.06-.94-.94-2.06-.94 2.06-2.06.94zm-11 1L8.5 8.5l.94-2.06 2.06-.94-2.06-.94L8.5 2.5l-.94 2.06-2.06.94zm10 10l.94 2.06.94-2.06 2.06-.94-2.06-.94-.94-2.06-.94 2.06-2.06.94z\"/><path d=\"M17.41 7.96l-1.37-1.37c-.4-.4-.92-.59-1.43-.59-.52 0-1.04.2-1.43.59L10.3 9.45l-7.72 7.72c-.78.78-.78 2.05 0 2.83L4 21.41c.39.39.9.59 1.41.59.51 0 1.02-.2 1.41-.59l7.78-7.78 2.81-2.81c.8-.78.8-2.07 0-2.86zM5.41 20L4 18.59l7.72-7.72 1.47 1.35L5.41 20z\"/>\n",
              "  </svg>\n",
              "      </button>\n",
              "      \n",
              "  <style>\n",
              "    .colab-df-container {\n",
              "      display:flex;\n",
              "      flex-wrap:wrap;\n",
              "      gap: 12px;\n",
              "    }\n",
              "\n",
              "    .colab-df-convert {\n",
              "      background-color: #E8F0FE;\n",
              "      border: none;\n",
              "      border-radius: 50%;\n",
              "      cursor: pointer;\n",
              "      display: none;\n",
              "      fill: #1967D2;\n",
              "      height: 32px;\n",
              "      padding: 0 0 0 0;\n",
              "      width: 32px;\n",
              "    }\n",
              "\n",
              "    .colab-df-convert:hover {\n",
              "      background-color: #E2EBFA;\n",
              "      box-shadow: 0px 1px 2px rgba(60, 64, 67, 0.3), 0px 1px 3px 1px rgba(60, 64, 67, 0.15);\n",
              "      fill: #174EA6;\n",
              "    }\n",
              "\n",
              "    [theme=dark] .colab-df-convert {\n",
              "      background-color: #3B4455;\n",
              "      fill: #D2E3FC;\n",
              "    }\n",
              "\n",
              "    [theme=dark] .colab-df-convert:hover {\n",
              "      background-color: #434B5C;\n",
              "      box-shadow: 0px 1px 3px 1px rgba(0, 0, 0, 0.15);\n",
              "      filter: drop-shadow(0px 1px 2px rgba(0, 0, 0, 0.3));\n",
              "      fill: #FFFFFF;\n",
              "    }\n",
              "  </style>\n",
              "\n",
              "      <script>\n",
              "        const buttonEl =\n",
              "          document.querySelector('#df-5e39aa1a-2c7a-43b5-ba5b-58027a746b63 button.colab-df-convert');\n",
              "        buttonEl.style.display =\n",
              "          google.colab.kernel.accessAllowed ? 'block' : 'none';\n",
              "\n",
              "        async function convertToInteractive(key) {\n",
              "          const element = document.querySelector('#df-5e39aa1a-2c7a-43b5-ba5b-58027a746b63');\n",
              "          const dataTable =\n",
              "            await google.colab.kernel.invokeFunction('convertToInteractive',\n",
              "                                                     [key], {});\n",
              "          if (!dataTable) return;\n",
              "\n",
              "          const docLinkHtml = 'Like what you see? Visit the ' +\n",
              "            '<a target=\"_blank\" href=https://colab.research.google.com/notebooks/data_table.ipynb>data table notebook</a>'\n",
              "            + ' to learn more about interactive tables.';\n",
              "          element.innerHTML = '';\n",
              "          dataTable['output_type'] = 'display_data';\n",
              "          await google.colab.output.renderOutput(dataTable, element);\n",
              "          const docLink = document.createElement('div');\n",
              "          docLink.innerHTML = docLinkHtml;\n",
              "          element.appendChild(docLink);\n",
              "        }\n",
              "      </script>\n",
              "    </div>\n",
              "  </div>\n",
              "  "
            ]
          },
          "metadata": {},
          "execution_count": 8
        }
      ],
      "source": [
        "data.head(5)"
      ]
    },
    {
      "cell_type": "markdown",
      "metadata": {
        "id": "jSoJouobXD7D"
      },
      "source": [
        "### Feature Extraction for working upon on Dataframe"
      ]
    },
    {
      "cell_type": "code",
      "execution_count": 9,
      "metadata": {
        "id": "L2RvkBLWXD7D"
      },
      "outputs": [],
      "source": [
        "filter = data['Category Name'].isin([\"Indoor/Outdoor Games\"])\n",
        "#display the filter\n",
        "filter3 = data[filter]"
      ]
    },
    {
      "cell_type": "code",
      "execution_count": 10,
      "metadata": {
        "id": "qWVsOxI_XD7E",
        "colab": {
          "base_uri": "https://localhost:8080/"
        },
        "outputId": "6f18d936-6f0a-443a-a2f9-f7aff7bae726"
      },
      "outputs": [
        {
          "output_type": "execute_result",
          "data": {
            "text/plain": [
              "(19298, 5)"
            ]
          },
          "metadata": {},
          "execution_count": 10
        }
      ],
      "source": [
        "filter3.shape"
      ]
    },
    {
      "cell_type": "code",
      "execution_count": 11,
      "metadata": {
        "id": "IbQs3DZPXD7F",
        "colab": {
          "base_uri": "https://localhost:8080/",
          "height": 206
        },
        "outputId": "6948b3d6-c01f-4b1a-a649-b7d5f5745bb1"
      },
      "outputs": [
        {
          "output_type": "execute_result",
          "data": {
            "text/plain": [
              "              Category Name order date (DateOrders)  Order Item Discount  \\\n",
              "77052  Indoor/Outdoor Games         10/2/2017 11:22                  1.5   \n",
              "77053  Indoor/Outdoor Games         10/2/2017 11:22                 10.0   \n",
              "77054  Indoor/Outdoor Games         10/2/2017 11:22                  3.0   \n",
              "77055  Indoor/Outdoor Games          10/2/2017 4:22                  4.5   \n",
              "77056  Indoor/Outdoor Games          10/2/2017 4:22                 10.0   \n",
              "\n",
              "       Order Item Quantity       Sales  \n",
              "77052                    3  149.940002  \n",
              "77053                    5  249.899994  \n",
              "77054                    3  149.940002  \n",
              "77055                    3  149.940002  \n",
              "77056                    4  199.919998  "
            ],
            "text/html": [
              "\n",
              "  <div id=\"df-941cb4e2-4076-4ab3-9110-b8ca57af87b4\">\n",
              "    <div class=\"colab-df-container\">\n",
              "      <div>\n",
              "<style scoped>\n",
              "    .dataframe tbody tr th:only-of-type {\n",
              "        vertical-align: middle;\n",
              "    }\n",
              "\n",
              "    .dataframe tbody tr th {\n",
              "        vertical-align: top;\n",
              "    }\n",
              "\n",
              "    .dataframe thead th {\n",
              "        text-align: right;\n",
              "    }\n",
              "</style>\n",
              "<table border=\"1\" class=\"dataframe\">\n",
              "  <thead>\n",
              "    <tr style=\"text-align: right;\">\n",
              "      <th></th>\n",
              "      <th>Category Name</th>\n",
              "      <th>order date (DateOrders)</th>\n",
              "      <th>Order Item Discount</th>\n",
              "      <th>Order Item Quantity</th>\n",
              "      <th>Sales</th>\n",
              "    </tr>\n",
              "  </thead>\n",
              "  <tbody>\n",
              "    <tr>\n",
              "      <th>77052</th>\n",
              "      <td>Indoor/Outdoor Games</td>\n",
              "      <td>10/2/2017 11:22</td>\n",
              "      <td>1.5</td>\n",
              "      <td>3</td>\n",
              "      <td>149.940002</td>\n",
              "    </tr>\n",
              "    <tr>\n",
              "      <th>77053</th>\n",
              "      <td>Indoor/Outdoor Games</td>\n",
              "      <td>10/2/2017 11:22</td>\n",
              "      <td>10.0</td>\n",
              "      <td>5</td>\n",
              "      <td>249.899994</td>\n",
              "    </tr>\n",
              "    <tr>\n",
              "      <th>77054</th>\n",
              "      <td>Indoor/Outdoor Games</td>\n",
              "      <td>10/2/2017 11:22</td>\n",
              "      <td>3.0</td>\n",
              "      <td>3</td>\n",
              "      <td>149.940002</td>\n",
              "    </tr>\n",
              "    <tr>\n",
              "      <th>77055</th>\n",
              "      <td>Indoor/Outdoor Games</td>\n",
              "      <td>10/2/2017 4:22</td>\n",
              "      <td>4.5</td>\n",
              "      <td>3</td>\n",
              "      <td>149.940002</td>\n",
              "    </tr>\n",
              "    <tr>\n",
              "      <th>77056</th>\n",
              "      <td>Indoor/Outdoor Games</td>\n",
              "      <td>10/2/2017 4:22</td>\n",
              "      <td>10.0</td>\n",
              "      <td>4</td>\n",
              "      <td>199.919998</td>\n",
              "    </tr>\n",
              "  </tbody>\n",
              "</table>\n",
              "</div>\n",
              "      <button class=\"colab-df-convert\" onclick=\"convertToInteractive('df-941cb4e2-4076-4ab3-9110-b8ca57af87b4')\"\n",
              "              title=\"Convert this dataframe to an interactive table.\"\n",
              "              style=\"display:none;\">\n",
              "        \n",
              "  <svg xmlns=\"http://www.w3.org/2000/svg\" height=\"24px\"viewBox=\"0 0 24 24\"\n",
              "       width=\"24px\">\n",
              "    <path d=\"M0 0h24v24H0V0z\" fill=\"none\"/>\n",
              "    <path d=\"M18.56 5.44l.94 2.06.94-2.06 2.06-.94-2.06-.94-.94-2.06-.94 2.06-2.06.94zm-11 1L8.5 8.5l.94-2.06 2.06-.94-2.06-.94L8.5 2.5l-.94 2.06-2.06.94zm10 10l.94 2.06.94-2.06 2.06-.94-2.06-.94-.94-2.06-.94 2.06-2.06.94z\"/><path d=\"M17.41 7.96l-1.37-1.37c-.4-.4-.92-.59-1.43-.59-.52 0-1.04.2-1.43.59L10.3 9.45l-7.72 7.72c-.78.78-.78 2.05 0 2.83L4 21.41c.39.39.9.59 1.41.59.51 0 1.02-.2 1.41-.59l7.78-7.78 2.81-2.81c.8-.78.8-2.07 0-2.86zM5.41 20L4 18.59l7.72-7.72 1.47 1.35L5.41 20z\"/>\n",
              "  </svg>\n",
              "      </button>\n",
              "      \n",
              "  <style>\n",
              "    .colab-df-container {\n",
              "      display:flex;\n",
              "      flex-wrap:wrap;\n",
              "      gap: 12px;\n",
              "    }\n",
              "\n",
              "    .colab-df-convert {\n",
              "      background-color: #E8F0FE;\n",
              "      border: none;\n",
              "      border-radius: 50%;\n",
              "      cursor: pointer;\n",
              "      display: none;\n",
              "      fill: #1967D2;\n",
              "      height: 32px;\n",
              "      padding: 0 0 0 0;\n",
              "      width: 32px;\n",
              "    }\n",
              "\n",
              "    .colab-df-convert:hover {\n",
              "      background-color: #E2EBFA;\n",
              "      box-shadow: 0px 1px 2px rgba(60, 64, 67, 0.3), 0px 1px 3px 1px rgba(60, 64, 67, 0.15);\n",
              "      fill: #174EA6;\n",
              "    }\n",
              "\n",
              "    [theme=dark] .colab-df-convert {\n",
              "      background-color: #3B4455;\n",
              "      fill: #D2E3FC;\n",
              "    }\n",
              "\n",
              "    [theme=dark] .colab-df-convert:hover {\n",
              "      background-color: #434B5C;\n",
              "      box-shadow: 0px 1px 3px 1px rgba(0, 0, 0, 0.15);\n",
              "      filter: drop-shadow(0px 1px 2px rgba(0, 0, 0, 0.3));\n",
              "      fill: #FFFFFF;\n",
              "    }\n",
              "  </style>\n",
              "\n",
              "      <script>\n",
              "        const buttonEl =\n",
              "          document.querySelector('#df-941cb4e2-4076-4ab3-9110-b8ca57af87b4 button.colab-df-convert');\n",
              "        buttonEl.style.display =\n",
              "          google.colab.kernel.accessAllowed ? 'block' : 'none';\n",
              "\n",
              "        async function convertToInteractive(key) {\n",
              "          const element = document.querySelector('#df-941cb4e2-4076-4ab3-9110-b8ca57af87b4');\n",
              "          const dataTable =\n",
              "            await google.colab.kernel.invokeFunction('convertToInteractive',\n",
              "                                                     [key], {});\n",
              "          if (!dataTable) return;\n",
              "\n",
              "          const docLinkHtml = 'Like what you see? Visit the ' +\n",
              "            '<a target=\"_blank\" href=https://colab.research.google.com/notebooks/data_table.ipynb>data table notebook</a>'\n",
              "            + ' to learn more about interactive tables.';\n",
              "          element.innerHTML = '';\n",
              "          dataTable['output_type'] = 'display_data';\n",
              "          await google.colab.output.renderOutput(dataTable, element);\n",
              "          const docLink = document.createElement('div');\n",
              "          docLink.innerHTML = docLinkHtml;\n",
              "          element.appendChild(docLink);\n",
              "        }\n",
              "      </script>\n",
              "    </div>\n",
              "  </div>\n",
              "  "
            ]
          },
          "metadata": {},
          "execution_count": 11
        }
      ],
      "source": [
        "filter3.head()"
      ]
    },
    {
      "cell_type": "code",
      "execution_count": 12,
      "metadata": {
        "id": "YQxAFyDfXD7G",
        "colab": {
          "base_uri": "https://localhost:8080/",
          "height": 206
        },
        "outputId": "617c87e0-2e75-4aa7-9a4b-aedc50edb014"
      },
      "outputs": [
        {
          "output_type": "execute_result",
          "data": {
            "text/plain": [
              "      order date (DateOrders)       Sales  Order Item Quantity  \\\n",
              "77052         10/2/2017 11:22  149.940002                    3   \n",
              "77053         10/2/2017 11:22  249.899994                    5   \n",
              "77054         10/2/2017 11:22  149.940002                    3   \n",
              "77055          10/2/2017 4:22  149.940002                    3   \n",
              "77056          10/2/2017 4:22  199.919998                    4   \n",
              "\n",
              "       Order Item Discount  \n",
              "77052                  1.5  \n",
              "77053                 10.0  \n",
              "77054                  3.0  \n",
              "77055                  4.5  \n",
              "77056                 10.0  "
            ],
            "text/html": [
              "\n",
              "  <div id=\"df-22579640-6b31-4fc8-befd-2f583357cc4c\">\n",
              "    <div class=\"colab-df-container\">\n",
              "      <div>\n",
              "<style scoped>\n",
              "    .dataframe tbody tr th:only-of-type {\n",
              "        vertical-align: middle;\n",
              "    }\n",
              "\n",
              "    .dataframe tbody tr th {\n",
              "        vertical-align: top;\n",
              "    }\n",
              "\n",
              "    .dataframe thead th {\n",
              "        text-align: right;\n",
              "    }\n",
              "</style>\n",
              "<table border=\"1\" class=\"dataframe\">\n",
              "  <thead>\n",
              "    <tr style=\"text-align: right;\">\n",
              "      <th></th>\n",
              "      <th>order date (DateOrders)</th>\n",
              "      <th>Sales</th>\n",
              "      <th>Order Item Quantity</th>\n",
              "      <th>Order Item Discount</th>\n",
              "    </tr>\n",
              "  </thead>\n",
              "  <tbody>\n",
              "    <tr>\n",
              "      <th>77052</th>\n",
              "      <td>10/2/2017 11:22</td>\n",
              "      <td>149.940002</td>\n",
              "      <td>3</td>\n",
              "      <td>1.5</td>\n",
              "    </tr>\n",
              "    <tr>\n",
              "      <th>77053</th>\n",
              "      <td>10/2/2017 11:22</td>\n",
              "      <td>249.899994</td>\n",
              "      <td>5</td>\n",
              "      <td>10.0</td>\n",
              "    </tr>\n",
              "    <tr>\n",
              "      <th>77054</th>\n",
              "      <td>10/2/2017 11:22</td>\n",
              "      <td>149.940002</td>\n",
              "      <td>3</td>\n",
              "      <td>3.0</td>\n",
              "    </tr>\n",
              "    <tr>\n",
              "      <th>77055</th>\n",
              "      <td>10/2/2017 4:22</td>\n",
              "      <td>149.940002</td>\n",
              "      <td>3</td>\n",
              "      <td>4.5</td>\n",
              "    </tr>\n",
              "    <tr>\n",
              "      <th>77056</th>\n",
              "      <td>10/2/2017 4:22</td>\n",
              "      <td>199.919998</td>\n",
              "      <td>4</td>\n",
              "      <td>10.0</td>\n",
              "    </tr>\n",
              "  </tbody>\n",
              "</table>\n",
              "</div>\n",
              "      <button class=\"colab-df-convert\" onclick=\"convertToInteractive('df-22579640-6b31-4fc8-befd-2f583357cc4c')\"\n",
              "              title=\"Convert this dataframe to an interactive table.\"\n",
              "              style=\"display:none;\">\n",
              "        \n",
              "  <svg xmlns=\"http://www.w3.org/2000/svg\" height=\"24px\"viewBox=\"0 0 24 24\"\n",
              "       width=\"24px\">\n",
              "    <path d=\"M0 0h24v24H0V0z\" fill=\"none\"/>\n",
              "    <path d=\"M18.56 5.44l.94 2.06.94-2.06 2.06-.94-2.06-.94-.94-2.06-.94 2.06-2.06.94zm-11 1L8.5 8.5l.94-2.06 2.06-.94-2.06-.94L8.5 2.5l-.94 2.06-2.06.94zm10 10l.94 2.06.94-2.06 2.06-.94-2.06-.94-.94-2.06-.94 2.06-2.06.94z\"/><path d=\"M17.41 7.96l-1.37-1.37c-.4-.4-.92-.59-1.43-.59-.52 0-1.04.2-1.43.59L10.3 9.45l-7.72 7.72c-.78.78-.78 2.05 0 2.83L4 21.41c.39.39.9.59 1.41.59.51 0 1.02-.2 1.41-.59l7.78-7.78 2.81-2.81c.8-.78.8-2.07 0-2.86zM5.41 20L4 18.59l7.72-7.72 1.47 1.35L5.41 20z\"/>\n",
              "  </svg>\n",
              "      </button>\n",
              "      \n",
              "  <style>\n",
              "    .colab-df-container {\n",
              "      display:flex;\n",
              "      flex-wrap:wrap;\n",
              "      gap: 12px;\n",
              "    }\n",
              "\n",
              "    .colab-df-convert {\n",
              "      background-color: #E8F0FE;\n",
              "      border: none;\n",
              "      border-radius: 50%;\n",
              "      cursor: pointer;\n",
              "      display: none;\n",
              "      fill: #1967D2;\n",
              "      height: 32px;\n",
              "      padding: 0 0 0 0;\n",
              "      width: 32px;\n",
              "    }\n",
              "\n",
              "    .colab-df-convert:hover {\n",
              "      background-color: #E2EBFA;\n",
              "      box-shadow: 0px 1px 2px rgba(60, 64, 67, 0.3), 0px 1px 3px 1px rgba(60, 64, 67, 0.15);\n",
              "      fill: #174EA6;\n",
              "    }\n",
              "\n",
              "    [theme=dark] .colab-df-convert {\n",
              "      background-color: #3B4455;\n",
              "      fill: #D2E3FC;\n",
              "    }\n",
              "\n",
              "    [theme=dark] .colab-df-convert:hover {\n",
              "      background-color: #434B5C;\n",
              "      box-shadow: 0px 1px 3px 1px rgba(0, 0, 0, 0.15);\n",
              "      filter: drop-shadow(0px 1px 2px rgba(0, 0, 0, 0.3));\n",
              "      fill: #FFFFFF;\n",
              "    }\n",
              "  </style>\n",
              "\n",
              "      <script>\n",
              "        const buttonEl =\n",
              "          document.querySelector('#df-22579640-6b31-4fc8-befd-2f583357cc4c button.colab-df-convert');\n",
              "        buttonEl.style.display =\n",
              "          google.colab.kernel.accessAllowed ? 'block' : 'none';\n",
              "\n",
              "        async function convertToInteractive(key) {\n",
              "          const element = document.querySelector('#df-22579640-6b31-4fc8-befd-2f583357cc4c');\n",
              "          const dataTable =\n",
              "            await google.colab.kernel.invokeFunction('convertToInteractive',\n",
              "                                                     [key], {});\n",
              "          if (!dataTable) return;\n",
              "\n",
              "          const docLinkHtml = 'Like what you see? Visit the ' +\n",
              "            '<a target=\"_blank\" href=https://colab.research.google.com/notebooks/data_table.ipynb>data table notebook</a>'\n",
              "            + ' to learn more about interactive tables.';\n",
              "          element.innerHTML = '';\n",
              "          dataTable['output_type'] = 'display_data';\n",
              "          await google.colab.output.renderOutput(dataTable, element);\n",
              "          const docLink = document.createElement('div');\n",
              "          docLink.innerHTML = docLinkHtml;\n",
              "          element.appendChild(docLink);\n",
              "        }\n",
              "      </script>\n",
              "    </div>\n",
              "  </div>\n",
              "  "
            ]
          },
          "metadata": {},
          "execution_count": 12
        }
      ],
      "source": [
        "filter3 = data.loc[filter, ['order date (DateOrders)','Sales','Order Item Quantity','Order Item Discount']]\n",
        "filter3.head()"
      ]
    },
    {
      "cell_type": "markdown",
      "metadata": {
        "id": "Ff42vR1KXD7G"
      },
      "source": [
        "### Applying to Pandas DateTime format for easy access"
      ]
    },
    {
      "cell_type": "code",
      "execution_count": 13,
      "metadata": {
        "id": "PmBf9zCsXD7H",
        "colab": {
          "base_uri": "https://localhost:8080/",
          "height": 206
        },
        "outputId": "838b61c8-a94b-45a8-f1f8-c84b28d8ecba"
      },
      "outputs": [
        {
          "output_type": "execute_result",
          "data": {
            "text/plain": [
              "      order date (DateOrders)       Sales  Order Item Quantity  \\\n",
              "77052     2017-10-02 11:22:00  149.940002                    3   \n",
              "77053     2017-10-02 11:22:00  249.899994                    5   \n",
              "77054     2017-10-02 11:22:00  149.940002                    3   \n",
              "77055     2017-10-02 04:22:00  149.940002                    3   \n",
              "77056     2017-10-02 04:22:00  199.919998                    4   \n",
              "\n",
              "       Order Item Discount  \n",
              "77052                  1.5  \n",
              "77053                 10.0  \n",
              "77054                  3.0  \n",
              "77055                  4.5  \n",
              "77056                 10.0  "
            ],
            "text/html": [
              "\n",
              "  <div id=\"df-f5ab9111-023b-40f3-a84d-4cd87eb2ee79\">\n",
              "    <div class=\"colab-df-container\">\n",
              "      <div>\n",
              "<style scoped>\n",
              "    .dataframe tbody tr th:only-of-type {\n",
              "        vertical-align: middle;\n",
              "    }\n",
              "\n",
              "    .dataframe tbody tr th {\n",
              "        vertical-align: top;\n",
              "    }\n",
              "\n",
              "    .dataframe thead th {\n",
              "        text-align: right;\n",
              "    }\n",
              "</style>\n",
              "<table border=\"1\" class=\"dataframe\">\n",
              "  <thead>\n",
              "    <tr style=\"text-align: right;\">\n",
              "      <th></th>\n",
              "      <th>order date (DateOrders)</th>\n",
              "      <th>Sales</th>\n",
              "      <th>Order Item Quantity</th>\n",
              "      <th>Order Item Discount</th>\n",
              "    </tr>\n",
              "  </thead>\n",
              "  <tbody>\n",
              "    <tr>\n",
              "      <th>77052</th>\n",
              "      <td>2017-10-02 11:22:00</td>\n",
              "      <td>149.940002</td>\n",
              "      <td>3</td>\n",
              "      <td>1.5</td>\n",
              "    </tr>\n",
              "    <tr>\n",
              "      <th>77053</th>\n",
              "      <td>2017-10-02 11:22:00</td>\n",
              "      <td>249.899994</td>\n",
              "      <td>5</td>\n",
              "      <td>10.0</td>\n",
              "    </tr>\n",
              "    <tr>\n",
              "      <th>77054</th>\n",
              "      <td>2017-10-02 11:22:00</td>\n",
              "      <td>149.940002</td>\n",
              "      <td>3</td>\n",
              "      <td>3.0</td>\n",
              "    </tr>\n",
              "    <tr>\n",
              "      <th>77055</th>\n",
              "      <td>2017-10-02 04:22:00</td>\n",
              "      <td>149.940002</td>\n",
              "      <td>3</td>\n",
              "      <td>4.5</td>\n",
              "    </tr>\n",
              "    <tr>\n",
              "      <th>77056</th>\n",
              "      <td>2017-10-02 04:22:00</td>\n",
              "      <td>199.919998</td>\n",
              "      <td>4</td>\n",
              "      <td>10.0</td>\n",
              "    </tr>\n",
              "  </tbody>\n",
              "</table>\n",
              "</div>\n",
              "      <button class=\"colab-df-convert\" onclick=\"convertToInteractive('df-f5ab9111-023b-40f3-a84d-4cd87eb2ee79')\"\n",
              "              title=\"Convert this dataframe to an interactive table.\"\n",
              "              style=\"display:none;\">\n",
              "        \n",
              "  <svg xmlns=\"http://www.w3.org/2000/svg\" height=\"24px\"viewBox=\"0 0 24 24\"\n",
              "       width=\"24px\">\n",
              "    <path d=\"M0 0h24v24H0V0z\" fill=\"none\"/>\n",
              "    <path d=\"M18.56 5.44l.94 2.06.94-2.06 2.06-.94-2.06-.94-.94-2.06-.94 2.06-2.06.94zm-11 1L8.5 8.5l.94-2.06 2.06-.94-2.06-.94L8.5 2.5l-.94 2.06-2.06.94zm10 10l.94 2.06.94-2.06 2.06-.94-2.06-.94-.94-2.06-.94 2.06-2.06.94z\"/><path d=\"M17.41 7.96l-1.37-1.37c-.4-.4-.92-.59-1.43-.59-.52 0-1.04.2-1.43.59L10.3 9.45l-7.72 7.72c-.78.78-.78 2.05 0 2.83L4 21.41c.39.39.9.59 1.41.59.51 0 1.02-.2 1.41-.59l7.78-7.78 2.81-2.81c.8-.78.8-2.07 0-2.86zM5.41 20L4 18.59l7.72-7.72 1.47 1.35L5.41 20z\"/>\n",
              "  </svg>\n",
              "      </button>\n",
              "      \n",
              "  <style>\n",
              "    .colab-df-container {\n",
              "      display:flex;\n",
              "      flex-wrap:wrap;\n",
              "      gap: 12px;\n",
              "    }\n",
              "\n",
              "    .colab-df-convert {\n",
              "      background-color: #E8F0FE;\n",
              "      border: none;\n",
              "      border-radius: 50%;\n",
              "      cursor: pointer;\n",
              "      display: none;\n",
              "      fill: #1967D2;\n",
              "      height: 32px;\n",
              "      padding: 0 0 0 0;\n",
              "      width: 32px;\n",
              "    }\n",
              "\n",
              "    .colab-df-convert:hover {\n",
              "      background-color: #E2EBFA;\n",
              "      box-shadow: 0px 1px 2px rgba(60, 64, 67, 0.3), 0px 1px 3px 1px rgba(60, 64, 67, 0.15);\n",
              "      fill: #174EA6;\n",
              "    }\n",
              "\n",
              "    [theme=dark] .colab-df-convert {\n",
              "      background-color: #3B4455;\n",
              "      fill: #D2E3FC;\n",
              "    }\n",
              "\n",
              "    [theme=dark] .colab-df-convert:hover {\n",
              "      background-color: #434B5C;\n",
              "      box-shadow: 0px 1px 3px 1px rgba(0, 0, 0, 0.15);\n",
              "      filter: drop-shadow(0px 1px 2px rgba(0, 0, 0, 0.3));\n",
              "      fill: #FFFFFF;\n",
              "    }\n",
              "  </style>\n",
              "\n",
              "      <script>\n",
              "        const buttonEl =\n",
              "          document.querySelector('#df-f5ab9111-023b-40f3-a84d-4cd87eb2ee79 button.colab-df-convert');\n",
              "        buttonEl.style.display =\n",
              "          google.colab.kernel.accessAllowed ? 'block' : 'none';\n",
              "\n",
              "        async function convertToInteractive(key) {\n",
              "          const element = document.querySelector('#df-f5ab9111-023b-40f3-a84d-4cd87eb2ee79');\n",
              "          const dataTable =\n",
              "            await google.colab.kernel.invokeFunction('convertToInteractive',\n",
              "                                                     [key], {});\n",
              "          if (!dataTable) return;\n",
              "\n",
              "          const docLinkHtml = 'Like what you see? Visit the ' +\n",
              "            '<a target=\"_blank\" href=https://colab.research.google.com/notebooks/data_table.ipynb>data table notebook</a>'\n",
              "            + ' to learn more about interactive tables.';\n",
              "          element.innerHTML = '';\n",
              "          dataTable['output_type'] = 'display_data';\n",
              "          await google.colab.output.renderOutput(dataTable, element);\n",
              "          const docLink = document.createElement('div');\n",
              "          docLink.innerHTML = docLinkHtml;\n",
              "          element.appendChild(docLink);\n",
              "        }\n",
              "      </script>\n",
              "    </div>\n",
              "  </div>\n",
              "  "
            ]
          },
          "metadata": {},
          "execution_count": 13
        }
      ],
      "source": [
        "filter3['order date (DateOrders)'] =  filter3['order date (DateOrders)'].apply(pd.to_datetime)\n",
        "filter3.head()"
      ]
    },
    {
      "cell_type": "markdown",
      "metadata": {
        "id": "rFDPEgXCXD7H"
      },
      "source": [
        "### Sorting the records by date and their time"
      ]
    },
    {
      "cell_type": "code",
      "execution_count": 14,
      "metadata": {
        "id": "5ZPAd_yxXD7I",
        "colab": {
          "base_uri": "https://localhost:8080/",
          "height": 363
        },
        "outputId": "892fcd7a-6648-4c7f-c5fc-c05b85df67c3"
      },
      "outputs": [
        {
          "output_type": "execute_result",
          "data": {
            "text/plain": [
              "       order date (DateOrders)       Sales  Order Item Quantity  \\\n",
              "114915     2015-01-01 01:03:00  199.919998                    4   \n",
              "114914     2015-01-01 01:24:00   99.959999                    2   \n",
              "114913     2015-01-01 02:27:00  199.919998                    4   \n",
              "114912     2015-01-01 03:09:00   99.959999                    2   \n",
              "114910     2015-01-01 03:30:00  249.899994                    5   \n",
              "114911     2015-01-01 03:30:00   49.980000                    1   \n",
              "114909     2015-01-01 03:51:00  149.940002                    3   \n",
              "114908     2015-01-01 04:33:00   99.959999                    2   \n",
              "114907     2015-01-01 05:36:00   99.959999                    2   \n",
              "114906     2015-01-01 06:39:00  199.919998                    4   \n",
              "\n",
              "        Order Item Discount  \n",
              "114915            39.980000  \n",
              "114914            16.990000  \n",
              "114913            35.990002  \n",
              "114912            15.990000  \n",
              "114910            22.490000  \n",
              "114911             8.500000  \n",
              "114909            17.990000  \n",
              "114908            14.990000  \n",
              "114907            12.990000  \n",
              "114906            33.990002  "
            ],
            "text/html": [
              "\n",
              "  <div id=\"df-f3435ef6-0bca-4279-9742-0e3466f22dbb\">\n",
              "    <div class=\"colab-df-container\">\n",
              "      <div>\n",
              "<style scoped>\n",
              "    .dataframe tbody tr th:only-of-type {\n",
              "        vertical-align: middle;\n",
              "    }\n",
              "\n",
              "    .dataframe tbody tr th {\n",
              "        vertical-align: top;\n",
              "    }\n",
              "\n",
              "    .dataframe thead th {\n",
              "        text-align: right;\n",
              "    }\n",
              "</style>\n",
              "<table border=\"1\" class=\"dataframe\">\n",
              "  <thead>\n",
              "    <tr style=\"text-align: right;\">\n",
              "      <th></th>\n",
              "      <th>order date (DateOrders)</th>\n",
              "      <th>Sales</th>\n",
              "      <th>Order Item Quantity</th>\n",
              "      <th>Order Item Discount</th>\n",
              "    </tr>\n",
              "  </thead>\n",
              "  <tbody>\n",
              "    <tr>\n",
              "      <th>114915</th>\n",
              "      <td>2015-01-01 01:03:00</td>\n",
              "      <td>199.919998</td>\n",
              "      <td>4</td>\n",
              "      <td>39.980000</td>\n",
              "    </tr>\n",
              "    <tr>\n",
              "      <th>114914</th>\n",
              "      <td>2015-01-01 01:24:00</td>\n",
              "      <td>99.959999</td>\n",
              "      <td>2</td>\n",
              "      <td>16.990000</td>\n",
              "    </tr>\n",
              "    <tr>\n",
              "      <th>114913</th>\n",
              "      <td>2015-01-01 02:27:00</td>\n",
              "      <td>199.919998</td>\n",
              "      <td>4</td>\n",
              "      <td>35.990002</td>\n",
              "    </tr>\n",
              "    <tr>\n",
              "      <th>114912</th>\n",
              "      <td>2015-01-01 03:09:00</td>\n",
              "      <td>99.959999</td>\n",
              "      <td>2</td>\n",
              "      <td>15.990000</td>\n",
              "    </tr>\n",
              "    <tr>\n",
              "      <th>114910</th>\n",
              "      <td>2015-01-01 03:30:00</td>\n",
              "      <td>249.899994</td>\n",
              "      <td>5</td>\n",
              "      <td>22.490000</td>\n",
              "    </tr>\n",
              "    <tr>\n",
              "      <th>114911</th>\n",
              "      <td>2015-01-01 03:30:00</td>\n",
              "      <td>49.980000</td>\n",
              "      <td>1</td>\n",
              "      <td>8.500000</td>\n",
              "    </tr>\n",
              "    <tr>\n",
              "      <th>114909</th>\n",
              "      <td>2015-01-01 03:51:00</td>\n",
              "      <td>149.940002</td>\n",
              "      <td>3</td>\n",
              "      <td>17.990000</td>\n",
              "    </tr>\n",
              "    <tr>\n",
              "      <th>114908</th>\n",
              "      <td>2015-01-01 04:33:00</td>\n",
              "      <td>99.959999</td>\n",
              "      <td>2</td>\n",
              "      <td>14.990000</td>\n",
              "    </tr>\n",
              "    <tr>\n",
              "      <th>114907</th>\n",
              "      <td>2015-01-01 05:36:00</td>\n",
              "      <td>99.959999</td>\n",
              "      <td>2</td>\n",
              "      <td>12.990000</td>\n",
              "    </tr>\n",
              "    <tr>\n",
              "      <th>114906</th>\n",
              "      <td>2015-01-01 06:39:00</td>\n",
              "      <td>199.919998</td>\n",
              "      <td>4</td>\n",
              "      <td>33.990002</td>\n",
              "    </tr>\n",
              "  </tbody>\n",
              "</table>\n",
              "</div>\n",
              "      <button class=\"colab-df-convert\" onclick=\"convertToInteractive('df-f3435ef6-0bca-4279-9742-0e3466f22dbb')\"\n",
              "              title=\"Convert this dataframe to an interactive table.\"\n",
              "              style=\"display:none;\">\n",
              "        \n",
              "  <svg xmlns=\"http://www.w3.org/2000/svg\" height=\"24px\"viewBox=\"0 0 24 24\"\n",
              "       width=\"24px\">\n",
              "    <path d=\"M0 0h24v24H0V0z\" fill=\"none\"/>\n",
              "    <path d=\"M18.56 5.44l.94 2.06.94-2.06 2.06-.94-2.06-.94-.94-2.06-.94 2.06-2.06.94zm-11 1L8.5 8.5l.94-2.06 2.06-.94-2.06-.94L8.5 2.5l-.94 2.06-2.06.94zm10 10l.94 2.06.94-2.06 2.06-.94-2.06-.94-.94-2.06-.94 2.06-2.06.94z\"/><path d=\"M17.41 7.96l-1.37-1.37c-.4-.4-.92-.59-1.43-.59-.52 0-1.04.2-1.43.59L10.3 9.45l-7.72 7.72c-.78.78-.78 2.05 0 2.83L4 21.41c.39.39.9.59 1.41.59.51 0 1.02-.2 1.41-.59l7.78-7.78 2.81-2.81c.8-.78.8-2.07 0-2.86zM5.41 20L4 18.59l7.72-7.72 1.47 1.35L5.41 20z\"/>\n",
              "  </svg>\n",
              "      </button>\n",
              "      \n",
              "  <style>\n",
              "    .colab-df-container {\n",
              "      display:flex;\n",
              "      flex-wrap:wrap;\n",
              "      gap: 12px;\n",
              "    }\n",
              "\n",
              "    .colab-df-convert {\n",
              "      background-color: #E8F0FE;\n",
              "      border: none;\n",
              "      border-radius: 50%;\n",
              "      cursor: pointer;\n",
              "      display: none;\n",
              "      fill: #1967D2;\n",
              "      height: 32px;\n",
              "      padding: 0 0 0 0;\n",
              "      width: 32px;\n",
              "    }\n",
              "\n",
              "    .colab-df-convert:hover {\n",
              "      background-color: #E2EBFA;\n",
              "      box-shadow: 0px 1px 2px rgba(60, 64, 67, 0.3), 0px 1px 3px 1px rgba(60, 64, 67, 0.15);\n",
              "      fill: #174EA6;\n",
              "    }\n",
              "\n",
              "    [theme=dark] .colab-df-convert {\n",
              "      background-color: #3B4455;\n",
              "      fill: #D2E3FC;\n",
              "    }\n",
              "\n",
              "    [theme=dark] .colab-df-convert:hover {\n",
              "      background-color: #434B5C;\n",
              "      box-shadow: 0px 1px 3px 1px rgba(0, 0, 0, 0.15);\n",
              "      filter: drop-shadow(0px 1px 2px rgba(0, 0, 0, 0.3));\n",
              "      fill: #FFFFFF;\n",
              "    }\n",
              "  </style>\n",
              "\n",
              "      <script>\n",
              "        const buttonEl =\n",
              "          document.querySelector('#df-f3435ef6-0bca-4279-9742-0e3466f22dbb button.colab-df-convert');\n",
              "        buttonEl.style.display =\n",
              "          google.colab.kernel.accessAllowed ? 'block' : 'none';\n",
              "\n",
              "        async function convertToInteractive(key) {\n",
              "          const element = document.querySelector('#df-f3435ef6-0bca-4279-9742-0e3466f22dbb');\n",
              "          const dataTable =\n",
              "            await google.colab.kernel.invokeFunction('convertToInteractive',\n",
              "                                                     [key], {});\n",
              "          if (!dataTable) return;\n",
              "\n",
              "          const docLinkHtml = 'Like what you see? Visit the ' +\n",
              "            '<a target=\"_blank\" href=https://colab.research.google.com/notebooks/data_table.ipynb>data table notebook</a>'\n",
              "            + ' to learn more about interactive tables.';\n",
              "          element.innerHTML = '';\n",
              "          dataTable['output_type'] = 'display_data';\n",
              "          await google.colab.output.renderOutput(dataTable, element);\n",
              "          const docLink = document.createElement('div');\n",
              "          docLink.innerHTML = docLinkHtml;\n",
              "          element.appendChild(docLink);\n",
              "        }\n",
              "      </script>\n",
              "    </div>\n",
              "  </div>\n",
              "  "
            ]
          },
          "metadata": {},
          "execution_count": 14
        }
      ],
      "source": [
        "filter3 = filter3.sort_values(by='order date (DateOrders)')\n",
        "filter3.head(10)"
      ]
    },
    {
      "cell_type": "markdown",
      "metadata": {
        "id": "hW-hkkubXD7I"
      },
      "source": [
        "### Making column of Order date to Index"
      ]
    },
    {
      "cell_type": "code",
      "execution_count": 15,
      "metadata": {
        "id": "9BGmjCX8XD7J",
        "colab": {
          "base_uri": "https://localhost:8080/",
          "height": 237
        },
        "outputId": "a0510e05-fb47-4d65-83d8-1eab27d81432"
      },
      "outputs": [
        {
          "output_type": "execute_result",
          "data": {
            "text/plain": [
              "                              Sales  Order Item Quantity  Order Item Discount\n",
              "order date (DateOrders)                                                      \n",
              "2015-01-01 01:03:00      199.919998                    4            39.980000\n",
              "2015-01-01 01:24:00       99.959999                    2            16.990000\n",
              "2015-01-01 02:27:00      199.919998                    4            35.990002\n",
              "2015-01-01 03:09:00       99.959999                    2            15.990000\n",
              "2015-01-01 03:30:00      249.899994                    5            22.490000"
            ],
            "text/html": [
              "\n",
              "  <div id=\"df-96733670-e302-472f-a280-c3037f8df6cf\">\n",
              "    <div class=\"colab-df-container\">\n",
              "      <div>\n",
              "<style scoped>\n",
              "    .dataframe tbody tr th:only-of-type {\n",
              "        vertical-align: middle;\n",
              "    }\n",
              "\n",
              "    .dataframe tbody tr th {\n",
              "        vertical-align: top;\n",
              "    }\n",
              "\n",
              "    .dataframe thead th {\n",
              "        text-align: right;\n",
              "    }\n",
              "</style>\n",
              "<table border=\"1\" class=\"dataframe\">\n",
              "  <thead>\n",
              "    <tr style=\"text-align: right;\">\n",
              "      <th></th>\n",
              "      <th>Sales</th>\n",
              "      <th>Order Item Quantity</th>\n",
              "      <th>Order Item Discount</th>\n",
              "    </tr>\n",
              "    <tr>\n",
              "      <th>order date (DateOrders)</th>\n",
              "      <th></th>\n",
              "      <th></th>\n",
              "      <th></th>\n",
              "    </tr>\n",
              "  </thead>\n",
              "  <tbody>\n",
              "    <tr>\n",
              "      <th>2015-01-01 01:03:00</th>\n",
              "      <td>199.919998</td>\n",
              "      <td>4</td>\n",
              "      <td>39.980000</td>\n",
              "    </tr>\n",
              "    <tr>\n",
              "      <th>2015-01-01 01:24:00</th>\n",
              "      <td>99.959999</td>\n",
              "      <td>2</td>\n",
              "      <td>16.990000</td>\n",
              "    </tr>\n",
              "    <tr>\n",
              "      <th>2015-01-01 02:27:00</th>\n",
              "      <td>199.919998</td>\n",
              "      <td>4</td>\n",
              "      <td>35.990002</td>\n",
              "    </tr>\n",
              "    <tr>\n",
              "      <th>2015-01-01 03:09:00</th>\n",
              "      <td>99.959999</td>\n",
              "      <td>2</td>\n",
              "      <td>15.990000</td>\n",
              "    </tr>\n",
              "    <tr>\n",
              "      <th>2015-01-01 03:30:00</th>\n",
              "      <td>249.899994</td>\n",
              "      <td>5</td>\n",
              "      <td>22.490000</td>\n",
              "    </tr>\n",
              "  </tbody>\n",
              "</table>\n",
              "</div>\n",
              "      <button class=\"colab-df-convert\" onclick=\"convertToInteractive('df-96733670-e302-472f-a280-c3037f8df6cf')\"\n",
              "              title=\"Convert this dataframe to an interactive table.\"\n",
              "              style=\"display:none;\">\n",
              "        \n",
              "  <svg xmlns=\"http://www.w3.org/2000/svg\" height=\"24px\"viewBox=\"0 0 24 24\"\n",
              "       width=\"24px\">\n",
              "    <path d=\"M0 0h24v24H0V0z\" fill=\"none\"/>\n",
              "    <path d=\"M18.56 5.44l.94 2.06.94-2.06 2.06-.94-2.06-.94-.94-2.06-.94 2.06-2.06.94zm-11 1L8.5 8.5l.94-2.06 2.06-.94-2.06-.94L8.5 2.5l-.94 2.06-2.06.94zm10 10l.94 2.06.94-2.06 2.06-.94-2.06-.94-.94-2.06-.94 2.06-2.06.94z\"/><path d=\"M17.41 7.96l-1.37-1.37c-.4-.4-.92-.59-1.43-.59-.52 0-1.04.2-1.43.59L10.3 9.45l-7.72 7.72c-.78.78-.78 2.05 0 2.83L4 21.41c.39.39.9.59 1.41.59.51 0 1.02-.2 1.41-.59l7.78-7.78 2.81-2.81c.8-.78.8-2.07 0-2.86zM5.41 20L4 18.59l7.72-7.72 1.47 1.35L5.41 20z\"/>\n",
              "  </svg>\n",
              "      </button>\n",
              "      \n",
              "  <style>\n",
              "    .colab-df-container {\n",
              "      display:flex;\n",
              "      flex-wrap:wrap;\n",
              "      gap: 12px;\n",
              "    }\n",
              "\n",
              "    .colab-df-convert {\n",
              "      background-color: #E8F0FE;\n",
              "      border: none;\n",
              "      border-radius: 50%;\n",
              "      cursor: pointer;\n",
              "      display: none;\n",
              "      fill: #1967D2;\n",
              "      height: 32px;\n",
              "      padding: 0 0 0 0;\n",
              "      width: 32px;\n",
              "    }\n",
              "\n",
              "    .colab-df-convert:hover {\n",
              "      background-color: #E2EBFA;\n",
              "      box-shadow: 0px 1px 2px rgba(60, 64, 67, 0.3), 0px 1px 3px 1px rgba(60, 64, 67, 0.15);\n",
              "      fill: #174EA6;\n",
              "    }\n",
              "\n",
              "    [theme=dark] .colab-df-convert {\n",
              "      background-color: #3B4455;\n",
              "      fill: #D2E3FC;\n",
              "    }\n",
              "\n",
              "    [theme=dark] .colab-df-convert:hover {\n",
              "      background-color: #434B5C;\n",
              "      box-shadow: 0px 1px 3px 1px rgba(0, 0, 0, 0.15);\n",
              "      filter: drop-shadow(0px 1px 2px rgba(0, 0, 0, 0.3));\n",
              "      fill: #FFFFFF;\n",
              "    }\n",
              "  </style>\n",
              "\n",
              "      <script>\n",
              "        const buttonEl =\n",
              "          document.querySelector('#df-96733670-e302-472f-a280-c3037f8df6cf button.colab-df-convert');\n",
              "        buttonEl.style.display =\n",
              "          google.colab.kernel.accessAllowed ? 'block' : 'none';\n",
              "\n",
              "        async function convertToInteractive(key) {\n",
              "          const element = document.querySelector('#df-96733670-e302-472f-a280-c3037f8df6cf');\n",
              "          const dataTable =\n",
              "            await google.colab.kernel.invokeFunction('convertToInteractive',\n",
              "                                                     [key], {});\n",
              "          if (!dataTable) return;\n",
              "\n",
              "          const docLinkHtml = 'Like what you see? Visit the ' +\n",
              "            '<a target=\"_blank\" href=https://colab.research.google.com/notebooks/data_table.ipynb>data table notebook</a>'\n",
              "            + ' to learn more about interactive tables.';\n",
              "          element.innerHTML = '';\n",
              "          dataTable['output_type'] = 'display_data';\n",
              "          await google.colab.output.renderOutput(dataTable, element);\n",
              "          const docLink = document.createElement('div');\n",
              "          docLink.innerHTML = docLinkHtml;\n",
              "          element.appendChild(docLink);\n",
              "        }\n",
              "      </script>\n",
              "    </div>\n",
              "  </div>\n",
              "  "
            ]
          },
          "metadata": {},
          "execution_count": 15
        }
      ],
      "source": [
        "filter3.set_axis(filter3['order date (DateOrders)'], inplace=True)\n",
        "\n",
        "filter3.drop(columns=['order date (DateOrders)'],inplace=True)\n",
        "filter3.head()"
      ]
    },
    {
      "cell_type": "markdown",
      "metadata": {
        "id": "MOfG8k0MXD7J"
      },
      "source": [
        "### Day-wise Aggregates"
      ]
    },
    {
      "cell_type": "code",
      "execution_count": 16,
      "metadata": {
        "id": "loYKVeU-XD7K"
      },
      "outputs": [],
      "source": [
        "Item_quantity = filter3.groupby([(filter3.index.year), (filter3.index.month), (filter3.index.day)])['Order Item Quantity'].sum().astype(int)\n",
        "Item_discount = filter3.groupby([(filter3.index.year), (filter3.index.month), (filter3.index.day)])['Order Item Discount'].sum().astype(int)\n",
        "Item_sales = filter3.groupby([(filter3.index.year), (filter3.index.month), (filter3.index.day)])['Sales'].sum().astype(int)"
      ]
    },
    {
      "cell_type": "code",
      "execution_count": 17,
      "metadata": {
        "id": "tGlq66kkXD7K",
        "colab": {
          "base_uri": "https://localhost:8080/"
        },
        "outputId": "2a383b85-e1ab-47d3-8ddc-3c9e9f634d1e"
      },
      "outputs": [
        {
          "output_type": "execute_result",
          "data": {
            "text/plain": [
              "order date (DateOrders)  order date (DateOrders)  order date (DateOrders)\n",
              "2015                     1                        1                          2948\n",
              "                                                  2                          3098\n",
              "                                                  3                          2698\n",
              "                                                  4                          2349\n",
              "                                                  5                          2898\n",
              "Name: Sales, dtype: int64"
            ]
          },
          "metadata": {},
          "execution_count": 17
        }
      ],
      "source": [
        "Item_sales.head()"
      ]
    },
    {
      "cell_type": "markdown",
      "metadata": {
        "id": "5qQ5tKjTXD7L"
      },
      "source": [
        "### Display in single Dataframe\n"
      ]
    },
    {
      "cell_type": "code",
      "execution_count": 18,
      "metadata": {
        "id": "OCPLGc-TXD7L"
      },
      "outputs": [],
      "source": [
        "ItemSales=pd.DataFrame(Item_sales)\n",
        "ItemDiscount=pd.DataFrame(Item_discount)\n",
        "ItemQuantity=pd.DataFrame(Item_quantity)"
      ]
    },
    {
      "cell_type": "code",
      "execution_count": 19,
      "metadata": {
        "id": "Mo6rqKgOXD7M"
      },
      "outputs": [],
      "source": [
        "total=ItemSales.join(ItemDiscount)\n"
      ]
    },
    {
      "cell_type": "code",
      "execution_count": 20,
      "metadata": {
        "id": "dxGBvQcHXD7M"
      },
      "outputs": [],
      "source": [
        "daily_Sales=total.join(ItemQuantity)"
      ]
    },
    {
      "cell_type": "code",
      "execution_count": 21,
      "metadata": {
        "id": "fu6cpSzSXD7N",
        "colab": {
          "base_uri": "https://localhost:8080/",
          "height": 237
        },
        "outputId": "5044fe94-0177-47e0-a02b-078421dedb5b"
      },
      "outputs": [
        {
          "output_type": "execute_result",
          "data": {
            "text/plain": [
              "                                                                         Sales  \\\n",
              "order date (DateOrders) order date (DateOrders) order date (DateOrders)          \n",
              "2015                    1                       1                         2948   \n",
              "                                                2                         3098   \n",
              "                                                3                         2698   \n",
              "                                                4                         2349   \n",
              "                                                5                         2898   \n",
              "\n",
              "                                                                         Order Item Discount  \\\n",
              "order date (DateOrders) order date (DateOrders) order date (DateOrders)                        \n",
              "2015                    1                       1                                        381   \n",
              "                                                2                                        176   \n",
              "                                                3                                        331   \n",
              "                                                4                                        207   \n",
              "                                                5                                        340   \n",
              "\n",
              "                                                                         Order Item Quantity  \n",
              "order date (DateOrders) order date (DateOrders) order date (DateOrders)                       \n",
              "2015                    1                       1                                         59  \n",
              "                                                2                                         62  \n",
              "                                                3                                         54  \n",
              "                                                4                                         47  \n",
              "                                                5                                         58  "
            ],
            "text/html": [
              "\n",
              "  <div id=\"df-7d01ecbb-ff92-445a-950f-814c88387d72\">\n",
              "    <div class=\"colab-df-container\">\n",
              "      <div>\n",
              "<style scoped>\n",
              "    .dataframe tbody tr th:only-of-type {\n",
              "        vertical-align: middle;\n",
              "    }\n",
              "\n",
              "    .dataframe tbody tr th {\n",
              "        vertical-align: top;\n",
              "    }\n",
              "\n",
              "    .dataframe thead th {\n",
              "        text-align: right;\n",
              "    }\n",
              "</style>\n",
              "<table border=\"1\" class=\"dataframe\">\n",
              "  <thead>\n",
              "    <tr style=\"text-align: right;\">\n",
              "      <th></th>\n",
              "      <th></th>\n",
              "      <th></th>\n",
              "      <th>Sales</th>\n",
              "      <th>Order Item Discount</th>\n",
              "      <th>Order Item Quantity</th>\n",
              "    </tr>\n",
              "    <tr>\n",
              "      <th>order date (DateOrders)</th>\n",
              "      <th>order date (DateOrders)</th>\n",
              "      <th>order date (DateOrders)</th>\n",
              "      <th></th>\n",
              "      <th></th>\n",
              "      <th></th>\n",
              "    </tr>\n",
              "  </thead>\n",
              "  <tbody>\n",
              "    <tr>\n",
              "      <th rowspan=\"5\" valign=\"top\">2015</th>\n",
              "      <th rowspan=\"5\" valign=\"top\">1</th>\n",
              "      <th>1</th>\n",
              "      <td>2948</td>\n",
              "      <td>381</td>\n",
              "      <td>59</td>\n",
              "    </tr>\n",
              "    <tr>\n",
              "      <th>2</th>\n",
              "      <td>3098</td>\n",
              "      <td>176</td>\n",
              "      <td>62</td>\n",
              "    </tr>\n",
              "    <tr>\n",
              "      <th>3</th>\n",
              "      <td>2698</td>\n",
              "      <td>331</td>\n",
              "      <td>54</td>\n",
              "    </tr>\n",
              "    <tr>\n",
              "      <th>4</th>\n",
              "      <td>2349</td>\n",
              "      <td>207</td>\n",
              "      <td>47</td>\n",
              "    </tr>\n",
              "    <tr>\n",
              "      <th>5</th>\n",
              "      <td>2898</td>\n",
              "      <td>340</td>\n",
              "      <td>58</td>\n",
              "    </tr>\n",
              "  </tbody>\n",
              "</table>\n",
              "</div>\n",
              "      <button class=\"colab-df-convert\" onclick=\"convertToInteractive('df-7d01ecbb-ff92-445a-950f-814c88387d72')\"\n",
              "              title=\"Convert this dataframe to an interactive table.\"\n",
              "              style=\"display:none;\">\n",
              "        \n",
              "  <svg xmlns=\"http://www.w3.org/2000/svg\" height=\"24px\"viewBox=\"0 0 24 24\"\n",
              "       width=\"24px\">\n",
              "    <path d=\"M0 0h24v24H0V0z\" fill=\"none\"/>\n",
              "    <path d=\"M18.56 5.44l.94 2.06.94-2.06 2.06-.94-2.06-.94-.94-2.06-.94 2.06-2.06.94zm-11 1L8.5 8.5l.94-2.06 2.06-.94-2.06-.94L8.5 2.5l-.94 2.06-2.06.94zm10 10l.94 2.06.94-2.06 2.06-.94-2.06-.94-.94-2.06-.94 2.06-2.06.94z\"/><path d=\"M17.41 7.96l-1.37-1.37c-.4-.4-.92-.59-1.43-.59-.52 0-1.04.2-1.43.59L10.3 9.45l-7.72 7.72c-.78.78-.78 2.05 0 2.83L4 21.41c.39.39.9.59 1.41.59.51 0 1.02-.2 1.41-.59l7.78-7.78 2.81-2.81c.8-.78.8-2.07 0-2.86zM5.41 20L4 18.59l7.72-7.72 1.47 1.35L5.41 20z\"/>\n",
              "  </svg>\n",
              "      </button>\n",
              "      \n",
              "  <style>\n",
              "    .colab-df-container {\n",
              "      display:flex;\n",
              "      flex-wrap:wrap;\n",
              "      gap: 12px;\n",
              "    }\n",
              "\n",
              "    .colab-df-convert {\n",
              "      background-color: #E8F0FE;\n",
              "      border: none;\n",
              "      border-radius: 50%;\n",
              "      cursor: pointer;\n",
              "      display: none;\n",
              "      fill: #1967D2;\n",
              "      height: 32px;\n",
              "      padding: 0 0 0 0;\n",
              "      width: 32px;\n",
              "    }\n",
              "\n",
              "    .colab-df-convert:hover {\n",
              "      background-color: #E2EBFA;\n",
              "      box-shadow: 0px 1px 2px rgba(60, 64, 67, 0.3), 0px 1px 3px 1px rgba(60, 64, 67, 0.15);\n",
              "      fill: #174EA6;\n",
              "    }\n",
              "\n",
              "    [theme=dark] .colab-df-convert {\n",
              "      background-color: #3B4455;\n",
              "      fill: #D2E3FC;\n",
              "    }\n",
              "\n",
              "    [theme=dark] .colab-df-convert:hover {\n",
              "      background-color: #434B5C;\n",
              "      box-shadow: 0px 1px 3px 1px rgba(0, 0, 0, 0.15);\n",
              "      filter: drop-shadow(0px 1px 2px rgba(0, 0, 0, 0.3));\n",
              "      fill: #FFFFFF;\n",
              "    }\n",
              "  </style>\n",
              "\n",
              "      <script>\n",
              "        const buttonEl =\n",
              "          document.querySelector('#df-7d01ecbb-ff92-445a-950f-814c88387d72 button.colab-df-convert');\n",
              "        buttonEl.style.display =\n",
              "          google.colab.kernel.accessAllowed ? 'block' : 'none';\n",
              "\n",
              "        async function convertToInteractive(key) {\n",
              "          const element = document.querySelector('#df-7d01ecbb-ff92-445a-950f-814c88387d72');\n",
              "          const dataTable =\n",
              "            await google.colab.kernel.invokeFunction('convertToInteractive',\n",
              "                                                     [key], {});\n",
              "          if (!dataTable) return;\n",
              "\n",
              "          const docLinkHtml = 'Like what you see? Visit the ' +\n",
              "            '<a target=\"_blank\" href=https://colab.research.google.com/notebooks/data_table.ipynb>data table notebook</a>'\n",
              "            + ' to learn more about interactive tables.';\n",
              "          element.innerHTML = '';\n",
              "          dataTable['output_type'] = 'display_data';\n",
              "          await google.colab.output.renderOutput(dataTable, element);\n",
              "          const docLink = document.createElement('div');\n",
              "          docLink.innerHTML = docLinkHtml;\n",
              "          element.appendChild(docLink);\n",
              "        }\n",
              "      </script>\n",
              "    </div>\n",
              "  </div>\n",
              "  "
            ]
          },
          "metadata": {},
          "execution_count": 21
        }
      ],
      "source": [
        "daily_Sales.head()"
      ]
    },
    {
      "cell_type": "markdown",
      "metadata": {
        "id": "LkUdClwwXD7N"
      },
      "source": [
        "### Converting index to single column only"
      ]
    },
    {
      "cell_type": "code",
      "execution_count": 22,
      "metadata": {
        "id": "Ru8BznsWXD7O"
      },
      "outputs": [],
      "source": [
        "y = daily_Sales.index.get_level_values(0)\n",
        "m = daily_Sales.index.get_level_values(1)\n",
        "d = daily_Sales.index.get_level_values(2)"
      ]
    },
    {
      "cell_type": "code",
      "execution_count": 23,
      "metadata": {
        "id": "Zk5pGcl0XD7O"
      },
      "outputs": [],
      "source": [
        "daily_Sales['Date'] = pd.to_datetime(y* 10000 + m * 100 + d * 1, format=\"%Y%m%d\")\n",
        "daily_Sales.set_index('Date', append=True, inplace=True)\n",
        "\n",
        "daily_Sales=daily_Sales.droplevel(0)\n",
        "daily_Sales=daily_Sales.droplevel(0)\n",
        "daily_Sales=daily_Sales.droplevel(0)"
      ]
    },
    {
      "cell_type": "code",
      "execution_count": 24,
      "metadata": {
        "id": "-1X4Sli9XD7P",
        "colab": {
          "base_uri": "https://localhost:8080/",
          "height": 237
        },
        "outputId": "78311ef0-8c60-4de6-ba4a-22fc2b7973e8"
      },
      "outputs": [
        {
          "output_type": "execute_result",
          "data": {
            "text/plain": [
              "            Sales  Order Item Discount  Order Item Quantity\n",
              "Date                                                       \n",
              "2015-01-01   2948                  381                   59\n",
              "2015-01-02   3098                  176                   62\n",
              "2015-01-03   2698                  331                   54\n",
              "2015-01-04   2349                  207                   47\n",
              "2015-01-05   2898                  340                   58"
            ],
            "text/html": [
              "\n",
              "  <div id=\"df-4d9ab8ca-5e72-4a63-b6bf-5c68a804bca9\">\n",
              "    <div class=\"colab-df-container\">\n",
              "      <div>\n",
              "<style scoped>\n",
              "    .dataframe tbody tr th:only-of-type {\n",
              "        vertical-align: middle;\n",
              "    }\n",
              "\n",
              "    .dataframe tbody tr th {\n",
              "        vertical-align: top;\n",
              "    }\n",
              "\n",
              "    .dataframe thead th {\n",
              "        text-align: right;\n",
              "    }\n",
              "</style>\n",
              "<table border=\"1\" class=\"dataframe\">\n",
              "  <thead>\n",
              "    <tr style=\"text-align: right;\">\n",
              "      <th></th>\n",
              "      <th>Sales</th>\n",
              "      <th>Order Item Discount</th>\n",
              "      <th>Order Item Quantity</th>\n",
              "    </tr>\n",
              "    <tr>\n",
              "      <th>Date</th>\n",
              "      <th></th>\n",
              "      <th></th>\n",
              "      <th></th>\n",
              "    </tr>\n",
              "  </thead>\n",
              "  <tbody>\n",
              "    <tr>\n",
              "      <th>2015-01-01</th>\n",
              "      <td>2948</td>\n",
              "      <td>381</td>\n",
              "      <td>59</td>\n",
              "    </tr>\n",
              "    <tr>\n",
              "      <th>2015-01-02</th>\n",
              "      <td>3098</td>\n",
              "      <td>176</td>\n",
              "      <td>62</td>\n",
              "    </tr>\n",
              "    <tr>\n",
              "      <th>2015-01-03</th>\n",
              "      <td>2698</td>\n",
              "      <td>331</td>\n",
              "      <td>54</td>\n",
              "    </tr>\n",
              "    <tr>\n",
              "      <th>2015-01-04</th>\n",
              "      <td>2349</td>\n",
              "      <td>207</td>\n",
              "      <td>47</td>\n",
              "    </tr>\n",
              "    <tr>\n",
              "      <th>2015-01-05</th>\n",
              "      <td>2898</td>\n",
              "      <td>340</td>\n",
              "      <td>58</td>\n",
              "    </tr>\n",
              "  </tbody>\n",
              "</table>\n",
              "</div>\n",
              "      <button class=\"colab-df-convert\" onclick=\"convertToInteractive('df-4d9ab8ca-5e72-4a63-b6bf-5c68a804bca9')\"\n",
              "              title=\"Convert this dataframe to an interactive table.\"\n",
              "              style=\"display:none;\">\n",
              "        \n",
              "  <svg xmlns=\"http://www.w3.org/2000/svg\" height=\"24px\"viewBox=\"0 0 24 24\"\n",
              "       width=\"24px\">\n",
              "    <path d=\"M0 0h24v24H0V0z\" fill=\"none\"/>\n",
              "    <path d=\"M18.56 5.44l.94 2.06.94-2.06 2.06-.94-2.06-.94-.94-2.06-.94 2.06-2.06.94zm-11 1L8.5 8.5l.94-2.06 2.06-.94-2.06-.94L8.5 2.5l-.94 2.06-2.06.94zm10 10l.94 2.06.94-2.06 2.06-.94-2.06-.94-.94-2.06-.94 2.06-2.06.94z\"/><path d=\"M17.41 7.96l-1.37-1.37c-.4-.4-.92-.59-1.43-.59-.52 0-1.04.2-1.43.59L10.3 9.45l-7.72 7.72c-.78.78-.78 2.05 0 2.83L4 21.41c.39.39.9.59 1.41.59.51 0 1.02-.2 1.41-.59l7.78-7.78 2.81-2.81c.8-.78.8-2.07 0-2.86zM5.41 20L4 18.59l7.72-7.72 1.47 1.35L5.41 20z\"/>\n",
              "  </svg>\n",
              "      </button>\n",
              "      \n",
              "  <style>\n",
              "    .colab-df-container {\n",
              "      display:flex;\n",
              "      flex-wrap:wrap;\n",
              "      gap: 12px;\n",
              "    }\n",
              "\n",
              "    .colab-df-convert {\n",
              "      background-color: #E8F0FE;\n",
              "      border: none;\n",
              "      border-radius: 50%;\n",
              "      cursor: pointer;\n",
              "      display: none;\n",
              "      fill: #1967D2;\n",
              "      height: 32px;\n",
              "      padding: 0 0 0 0;\n",
              "      width: 32px;\n",
              "    }\n",
              "\n",
              "    .colab-df-convert:hover {\n",
              "      background-color: #E2EBFA;\n",
              "      box-shadow: 0px 1px 2px rgba(60, 64, 67, 0.3), 0px 1px 3px 1px rgba(60, 64, 67, 0.15);\n",
              "      fill: #174EA6;\n",
              "    }\n",
              "\n",
              "    [theme=dark] .colab-df-convert {\n",
              "      background-color: #3B4455;\n",
              "      fill: #D2E3FC;\n",
              "    }\n",
              "\n",
              "    [theme=dark] .colab-df-convert:hover {\n",
              "      background-color: #434B5C;\n",
              "      box-shadow: 0px 1px 3px 1px rgba(0, 0, 0, 0.15);\n",
              "      filter: drop-shadow(0px 1px 2px rgba(0, 0, 0, 0.3));\n",
              "      fill: #FFFFFF;\n",
              "    }\n",
              "  </style>\n",
              "\n",
              "      <script>\n",
              "        const buttonEl =\n",
              "          document.querySelector('#df-4d9ab8ca-5e72-4a63-b6bf-5c68a804bca9 button.colab-df-convert');\n",
              "        buttonEl.style.display =\n",
              "          google.colab.kernel.accessAllowed ? 'block' : 'none';\n",
              "\n",
              "        async function convertToInteractive(key) {\n",
              "          const element = document.querySelector('#df-4d9ab8ca-5e72-4a63-b6bf-5c68a804bca9');\n",
              "          const dataTable =\n",
              "            await google.colab.kernel.invokeFunction('convertToInteractive',\n",
              "                                                     [key], {});\n",
              "          if (!dataTable) return;\n",
              "\n",
              "          const docLinkHtml = 'Like what you see? Visit the ' +\n",
              "            '<a target=\"_blank\" href=https://colab.research.google.com/notebooks/data_table.ipynb>data table notebook</a>'\n",
              "            + ' to learn more about interactive tables.';\n",
              "          element.innerHTML = '';\n",
              "          dataTable['output_type'] = 'display_data';\n",
              "          await google.colab.output.renderOutput(dataTable, element);\n",
              "          const docLink = document.createElement('div');\n",
              "          docLink.innerHTML = docLinkHtml;\n",
              "          element.appendChild(docLink);\n",
              "        }\n",
              "      </script>\n",
              "    </div>\n",
              "  </div>\n",
              "  "
            ]
          },
          "metadata": {},
          "execution_count": 24
        }
      ],
      "source": [
        "daily_Sales.head(5)"
      ]
    },
    {
      "cell_type": "markdown",
      "metadata": {
        "id": "dtVqI2RNXD7P"
      },
      "source": [
        "### Checking the sum of Column 'Order Item Quantity'"
      ]
    },
    {
      "cell_type": "code",
      "execution_count": 25,
      "metadata": {
        "id": "RjHZuGk2XD7P",
        "colab": {
          "base_uri": "https://localhost:8080/"
        },
        "outputId": "26fd3498-f838-436f-8804-266fcc6a29a7"
      },
      "outputs": [
        {
          "output_type": "stream",
          "name": "stdout",
          "text": [
            "57803\n"
          ]
        }
      ],
      "source": [
        "Total = daily_Sales['Order Item Quantity'].sum()\n",
        "print(Total)"
      ]
    },
    {
      "cell_type": "code",
      "execution_count": 26,
      "metadata": {
        "id": "oCVLCo0WXD7Q",
        "colab": {
          "base_uri": "https://localhost:8080/",
          "height": 237
        },
        "outputId": "2b0f9d88-073a-4a5d-aede-44535debcc2a"
      },
      "outputs": [
        {
          "output_type": "execute_result",
          "data": {
            "text/plain": [
              "            Order Item Quantity\n",
              "Date                           \n",
              "2015-01-01                   59\n",
              "2015-01-02                   62\n",
              "2015-01-03                   54\n",
              "2015-01-04                   47\n",
              "2015-01-05                   58"
            ],
            "text/html": [
              "\n",
              "  <div id=\"df-d9d6700c-ee30-403c-ade9-0eb219009767\">\n",
              "    <div class=\"colab-df-container\">\n",
              "      <div>\n",
              "<style scoped>\n",
              "    .dataframe tbody tr th:only-of-type {\n",
              "        vertical-align: middle;\n",
              "    }\n",
              "\n",
              "    .dataframe tbody tr th {\n",
              "        vertical-align: top;\n",
              "    }\n",
              "\n",
              "    .dataframe thead th {\n",
              "        text-align: right;\n",
              "    }\n",
              "</style>\n",
              "<table border=\"1\" class=\"dataframe\">\n",
              "  <thead>\n",
              "    <tr style=\"text-align: right;\">\n",
              "      <th></th>\n",
              "      <th>Order Item Quantity</th>\n",
              "    </tr>\n",
              "    <tr>\n",
              "      <th>Date</th>\n",
              "      <th></th>\n",
              "    </tr>\n",
              "  </thead>\n",
              "  <tbody>\n",
              "    <tr>\n",
              "      <th>2015-01-01</th>\n",
              "      <td>59</td>\n",
              "    </tr>\n",
              "    <tr>\n",
              "      <th>2015-01-02</th>\n",
              "      <td>62</td>\n",
              "    </tr>\n",
              "    <tr>\n",
              "      <th>2015-01-03</th>\n",
              "      <td>54</td>\n",
              "    </tr>\n",
              "    <tr>\n",
              "      <th>2015-01-04</th>\n",
              "      <td>47</td>\n",
              "    </tr>\n",
              "    <tr>\n",
              "      <th>2015-01-05</th>\n",
              "      <td>58</td>\n",
              "    </tr>\n",
              "  </tbody>\n",
              "</table>\n",
              "</div>\n",
              "      <button class=\"colab-df-convert\" onclick=\"convertToInteractive('df-d9d6700c-ee30-403c-ade9-0eb219009767')\"\n",
              "              title=\"Convert this dataframe to an interactive table.\"\n",
              "              style=\"display:none;\">\n",
              "        \n",
              "  <svg xmlns=\"http://www.w3.org/2000/svg\" height=\"24px\"viewBox=\"0 0 24 24\"\n",
              "       width=\"24px\">\n",
              "    <path d=\"M0 0h24v24H0V0z\" fill=\"none\"/>\n",
              "    <path d=\"M18.56 5.44l.94 2.06.94-2.06 2.06-.94-2.06-.94-.94-2.06-.94 2.06-2.06.94zm-11 1L8.5 8.5l.94-2.06 2.06-.94-2.06-.94L8.5 2.5l-.94 2.06-2.06.94zm10 10l.94 2.06.94-2.06 2.06-.94-2.06-.94-.94-2.06-.94 2.06-2.06.94z\"/><path d=\"M17.41 7.96l-1.37-1.37c-.4-.4-.92-.59-1.43-.59-.52 0-1.04.2-1.43.59L10.3 9.45l-7.72 7.72c-.78.78-.78 2.05 0 2.83L4 21.41c.39.39.9.59 1.41.59.51 0 1.02-.2 1.41-.59l7.78-7.78 2.81-2.81c.8-.78.8-2.07 0-2.86zM5.41 20L4 18.59l7.72-7.72 1.47 1.35L5.41 20z\"/>\n",
              "  </svg>\n",
              "      </button>\n",
              "      \n",
              "  <style>\n",
              "    .colab-df-container {\n",
              "      display:flex;\n",
              "      flex-wrap:wrap;\n",
              "      gap: 12px;\n",
              "    }\n",
              "\n",
              "    .colab-df-convert {\n",
              "      background-color: #E8F0FE;\n",
              "      border: none;\n",
              "      border-radius: 50%;\n",
              "      cursor: pointer;\n",
              "      display: none;\n",
              "      fill: #1967D2;\n",
              "      height: 32px;\n",
              "      padding: 0 0 0 0;\n",
              "      width: 32px;\n",
              "    }\n",
              "\n",
              "    .colab-df-convert:hover {\n",
              "      background-color: #E2EBFA;\n",
              "      box-shadow: 0px 1px 2px rgba(60, 64, 67, 0.3), 0px 1px 3px 1px rgba(60, 64, 67, 0.15);\n",
              "      fill: #174EA6;\n",
              "    }\n",
              "\n",
              "    [theme=dark] .colab-df-convert {\n",
              "      background-color: #3B4455;\n",
              "      fill: #D2E3FC;\n",
              "    }\n",
              "\n",
              "    [theme=dark] .colab-df-convert:hover {\n",
              "      background-color: #434B5C;\n",
              "      box-shadow: 0px 1px 3px 1px rgba(0, 0, 0, 0.15);\n",
              "      filter: drop-shadow(0px 1px 2px rgba(0, 0, 0, 0.3));\n",
              "      fill: #FFFFFF;\n",
              "    }\n",
              "  </style>\n",
              "\n",
              "      <script>\n",
              "        const buttonEl =\n",
              "          document.querySelector('#df-d9d6700c-ee30-403c-ade9-0eb219009767 button.colab-df-convert');\n",
              "        buttonEl.style.display =\n",
              "          google.colab.kernel.accessAllowed ? 'block' : 'none';\n",
              "\n",
              "        async function convertToInteractive(key) {\n",
              "          const element = document.querySelector('#df-d9d6700c-ee30-403c-ade9-0eb219009767');\n",
              "          const dataTable =\n",
              "            await google.colab.kernel.invokeFunction('convertToInteractive',\n",
              "                                                     [key], {});\n",
              "          if (!dataTable) return;\n",
              "\n",
              "          const docLinkHtml = 'Like what you see? Visit the ' +\n",
              "            '<a target=\"_blank\" href=https://colab.research.google.com/notebooks/data_table.ipynb>data table notebook</a>'\n",
              "            + ' to learn more about interactive tables.';\n",
              "          element.innerHTML = '';\n",
              "          dataTable['output_type'] = 'display_data';\n",
              "          await google.colab.output.renderOutput(dataTable, element);\n",
              "          const docLink = document.createElement('div');\n",
              "          docLink.innerHTML = docLinkHtml;\n",
              "          element.appendChild(docLink);\n",
              "        }\n",
              "      </script>\n",
              "    </div>\n",
              "  </div>\n",
              "  "
            ]
          },
          "metadata": {},
          "execution_count": 26
        }
      ],
      "source": [
        "Indoor_Outdoor_Games_Sold = daily_Sales[[\"Order Item Quantity\"]]\n",
        "Indoor_Outdoor_Games_Sold.head()"
      ]
    },
    {
      "cell_type": "code",
      "execution_count": 27,
      "metadata": {
        "id": "nXS7G9xZXD7Q",
        "colab": {
          "base_uri": "https://localhost:8080/"
        },
        "outputId": "fecae900-39cb-4329-a3c2-723233d24c1d"
      },
      "outputs": [
        {
          "output_type": "execute_result",
          "data": {
            "text/plain": [
              "(1006, 1)"
            ]
          },
          "metadata": {},
          "execution_count": 27
        }
      ],
      "source": [
        "Indoor_Outdoor_Games_Sold.shape"
      ]
    },
    {
      "cell_type": "markdown",
      "metadata": {
        "id": "0tLMSmYSXD7R"
      },
      "source": [
        "# DATA PREPARATION"
      ]
    },
    {
      "cell_type": "markdown",
      "metadata": {
        "id": "aLvczMS4XD7R"
      },
      "source": [
        "### FEATURE ENGINEERING "
      ]
    },
    {
      "cell_type": "markdown",
      "metadata": {
        "id": "h7Ex7C0HXD7S"
      },
      "source": [
        "Attempt to create the lagged features with 'k'"
      ]
    },
    {
      "cell_type": "code",
      "execution_count": 28,
      "metadata": {
        "id": "1gi-b9TeXD7S"
      },
      "outputs": [],
      "source": [
        "#DailyItemQuantity = Indoor_Outdoor_Games_Sold['Order Item Quantity'].tolist()\n",
        "#print(DailyItemQuantity)"
      ]
    },
    {
      "cell_type": "code",
      "execution_count": 29,
      "metadata": {
        "id": "z0QL6esnXD7T"
      },
      "outputs": [],
      "source": [
        "#number_lags = 89\n",
        "#df = pd.DataFrame(data={'Order_Item_Quantity':[59, 62, 54, 47, 58, 79, 63, 41, 39, 57, 54, 85, 73, 62, 69, 63, 51, 48, 75, 72, 77, 64, 58, 55, 63, 88, 59, 48, 59, 68, 42, 24, 56, 95, 58, 67, 58, 58, 36, 79, 53, 25, 49, 55, 47, 77, 81, 55, 44, 66, 53, 51, 66, 66, 49, 70, 59, 57, 35, 72, 51, 35, 59, 59, 67, 81, 65, 56, 40, 43, 82, 40, 86, 51, 49, 57, 64, 97, 53, 75, 47, 63, 65, 74, 86, 66, 54, 43, 82, 63, 63, 67, 73, 34, 70, 35, 53, 51, 65, 50, 69, 56, 72, 57, 72, 63, 58, 48, 63, 73, 37, 48, 35, 67, 84, 78, 48, 55, 65, 56, 34, 60, 41, 40, 79, 53, 74, 65, 44, 53, 82, 50, 45, 58, 58, 66, 51, 59, 58, 38, 66, 80, 49, 29, 44, 46, 45, 65, 57, 42, 81, 67, 53, 57, 76, 46, 48, 62, 74, 51, 42, 35, 55, 37, 63, 77, 58, 62, 69, 65, 61, 60, 42, 54, 21, 46, 56, 61, 46, 89, 68, 69, 68, 67, 51, 76, 64, 59, 43, 69, 56, 68, 51, 54, 60, 74, 42, 45, 58, 58, 48, 72, 45, 85, 40, 65, 67, 79, 67, 36, 54, 45, 56, 49, 70, 67, 55, 52, 63, 53, 44, 45, 57, 70, 32, 37, 28, 53, 69, 39, 28, 38, 55, 56, 21, 26, 79, 79, 43, 22, 64, 60, 56, 74, 46, 56, 68, 45, 64, 53, 51, 43, 65, 49, 62, 73, 74, 62, 90, 64, 78, 62, 94, 50, 79, 49, 39, 45, 58, 50, 54, 26, 70, 75, 51, 76, 72, 68, 72, 23, 68, 41, 50, 74, 33, 78, 27, 60, 48, 55, 60, 57, 74, 68, 50, 68, 69, 61, 49, 71, 62, 38, 48, 57, 78, 48, 50, 86, 66, 53, 38, 69, 48, 56, 70, 76, 81, 69, 45, 56, 68, 36, 67, 65, 62, 56, 80, 47, 54, 72, 66, 55, 41, 31, 60, 73, 53, 40, 35, 50, 62, 52, 53, 54, 60, 55, 44, 42, 85, 77, 45, 61, 88, 64, 44, 47, 73, 88, 95, 44, 58, 77, 54, 78, 45, 38, 83, 51, 30, 56, 46, 64, 77, 39, 70, 72, 59, 48, 54, 59, 66, 67, 55, 64, 43, 61, 50, 60, 60, 77, 75, 62, 56, 59, 70, 59, 33, 72, 59, 57, 84, 57, 77, 57, 68, 64, 86, 53, 73, 65, 61, 66, 91, 70, 59, 29, 54, 59, 61, 67, 44, 84, 46, 37, 47, 50, 55, 52, 50, 79, 61, 51, 51, 49, 41, 76, 68, 56, 66, 56, 40, 50, 40, 52, 47, 62, 34, 68, 52, 45, 49, 56, 40, 56, 47, 70, 64, 35, 51, 37, 62, 40, 53, 51, 40, 64, 71, 78, 57, 45, 60, 46, 60, 58, 73, 82, 50, 60, 72, 51, 47, 63, 34, 51, 36, 57, 77, 45, 47, 47, 59, 54, 61, 72, 76, 35, 57, 44, 38, 84, 73, 73, 26, 49, 44, 65, 76, 58, 61, 77, 34, 49, 61, 66, 71, 45, 46, 64, 49, 71, 96, 39, 60, 51, 26, 49, 55, 53, 48, 64, 80, 22, 54, 55, 38, 29, 60, 60, 32, 63, 54, 43, 42, 75, 53, 51, 49, 68, 61, 72, 37, 85, 45, 43, 46, 57, 65, 49, 66, 50, 75, 35, 96, 68, 67, 56, 45, 61, 70, 58, 45, 49, 43, 67, 59, 58, 62, 47, 69, 39, 63, 53, 64, 58, 68, 38, 37, 43, 57, 53, 43, 39, 55, 28, 64, 65, 52, 72, 75, 60, 44, 32, 62, 47, 49, 34, 43, 44, 55, 53, 63, 58, 50, 61, 54, 54, 56, 63, 23, 38, 75, 45, 67, 76, 67, 59, 100, 59, 51, 61, 53, 31, 51, 62, 54, 61, 63, 68, 65, 67, 60, 68, 84, 50, 61, 59, 60, 44, 73, 82, 58, 79, 89, 73, 64, 55, 38, 74, 74, 70, 70, 62, 69, 49, 40, 80, 61, 63, 69, 50, 60, 57, 93, 57, 50, 38, 48, 44, 66, 48, 34, 90, 65, 37, 63, 63, 116, 29, 47, 74, 55, 56, 53, 57, 77, 56, 77, 33, 67, 49, 48, 55, 53, 52, 67, 54, 64, 66, 64, 51, 77, 59, 36, 70, 48, 68, 72, 58, 17, 52, 83, 64, 74, 65, 62, 49, 69, 81, 60, 63, 59, 42, 31, 68, 42, 57, 46, 56, 72, 45, 54, 69, 73, 63, 66, 23, 45, 55, 107, 44, 50, 44, 43, 65, 68, 43, 62, 87, 68, 59, 56, 68, 72, 59, 70, 65, 59, 88, 60, 57, 43, 59, 48, 84, 83, 44, 63, 45, 59, 70, 67, 60, 69, 64, 94, 68, 59, 56, 42, 57, 42, 16, 64, 31, 48, 81, 50, 43, 51, 70, 67, 73, 26, 63, 66, 68, 69, 48, 73, 54, 57, 57, 77, 43, 44, 26, 37, 68, 74, 77, 57, 61, 58, 83, 72, 86, 32, 59, 31, 59, 47, 92, 66, 51, 56, 60, 63, 50, 46, 59, 43, 74, 58, 64, 56, 84, 58, 57, 54, 79, 78, 44, 72, 57, 67, 60, 56, 78, 58, 61, 55, 47, 36, 55, 61, 52, 61, 47, 43, 68, 46, 49, 109, 59, 65, 71, 29, 52, 28, 55, 85, 49, 104, 36, 51, 56, 38, 58, 42, 60, 34, 51, 82, 74, 51, 56, 41, 30, 69, 35, 34, 33, 55, 66, 54, 47, 52, 54, 43, 34, 72, 40, 47, 88, 23, 67, 66, 55, 52, 78, 59, 38, 71, 62, 59, 41, 91, 47, 54, 24, 47, 79, 58, 47, 72, 46, 46, 41, 62, 61, 52, 56, 47, 38, 57, 36, 95, 50, 60, 40, 49, 77, 53, 56, 51, 52, 53, 69, 48, 41, 62, 43, 40, 47, 56, 71, 59, 40, 81, 39, 56, 63, 68, 49, 54, 83, 75, 53, 52, 51, 47, 26, 25, 47, 48, 56, 35, 68, 58, 51, 46, 59, 68, 68, 45, 64, 47, 56, 57, 44, 54, 67, 27, 78, 45, 23]})\n",
        "#for lag in range(1, number_lags + 1):\n",
        "#    df['lag_' + str(lag)] = df.Order_Item_Quantity.shift(lag)\n",
        "\n",
        "#df.head()"
      ]
    },
    {
      "cell_type": "markdown",
      "metadata": {
        "id": "8OnZ1XblXD7T"
      },
      "source": [
        "Considering the prior 90 days sales to predict the number of items sold for the month of April_2015 till Sept_2017"
      ]
    },
    {
      "cell_type": "code",
      "execution_count": 30,
      "metadata": {
        "id": "2GBN192xXD7U"
      },
      "outputs": [],
      "source": [
        "April_2015 = Indoor_Outdoor_Games_Sold.iloc[1:90]\n",
        "May_2015 = Indoor_Outdoor_Games_Sold.iloc[31:120]\n",
        "June_2015 = Indoor_Outdoor_Games_Sold.iloc[62:151]\n",
        "July_2015 = Indoor_Outdoor_Games_Sold.iloc[92:181]\n",
        "August_2015 = Indoor_Outdoor_Games_Sold.iloc[123:212]\n",
        "Sept_2015 = Indoor_Outdoor_Games_Sold.iloc[154:243]\n",
        "Oct_2015 = Indoor_Outdoor_Games_Sold.iloc[184:273]\n",
        "Nov_2015 = Indoor_Outdoor_Games_Sold.iloc[215:304]\n",
        "Dec_2015 = Indoor_Outdoor_Games_Sold.iloc[245:334]\n",
        "Jan_2016 = Indoor_Outdoor_Games_Sold.iloc[276:365]\n",
        "Feb_2016 = Indoor_Outdoor_Games_Sold.iloc[307:396]\n",
        "March_2016 = Indoor_Outdoor_Games_Sold.iloc[336:425]\n",
        "April_2016 = Indoor_Outdoor_Games_Sold.iloc[367:456]\n",
        "May_2016 = Indoor_Outdoor_Games_Sold.iloc[397:486]\n",
        "June_2016 = Indoor_Outdoor_Games_Sold.iloc[428:517]\n",
        "July_2016 = Indoor_Outdoor_Games_Sold.iloc[458:547]\n",
        "August_2016 = Indoor_Outdoor_Games_Sold.iloc[489:578]\n",
        "Sept_2016 = Indoor_Outdoor_Games_Sold.iloc[520:609]\n",
        "Oct_2016 = Indoor_Outdoor_Games_Sold.iloc[550:639]\n",
        "Nov_2016 = Indoor_Outdoor_Games_Sold.iloc[581:670]\n",
        "Dec_2016 = Indoor_Outdoor_Games_Sold.iloc[611:700]\n",
        "Jan_2017 = Indoor_Outdoor_Games_Sold.iloc[642:731]\n",
        "Feb_2017 = Indoor_Outdoor_Games_Sold.iloc[673:762]\n",
        "March_2017 = Indoor_Outdoor_Games_Sold.iloc[701:790]\n",
        "April_2017 = Indoor_Outdoor_Games_Sold.iloc[732:821]\n",
        "May_2017 = Indoor_Outdoor_Games_Sold.iloc[762:851]\n",
        "June_2017 = Indoor_Outdoor_Games_Sold.iloc[793:882]\n",
        "July_2017 = Indoor_Outdoor_Games_Sold.iloc[823:912]\n",
        "August_2017 = Indoor_Outdoor_Games_Sold.iloc[854:943]\n",
        "Sept_2017 = Indoor_Outdoor_Games_Sold.iloc[885:974]"
      ]
    },
    {
      "cell_type": "code",
      "execution_count": 31,
      "metadata": {
        "id": "VkE-JwmwXD7U",
        "colab": {
          "base_uri": "https://localhost:8080/",
          "height": 237
        },
        "outputId": "8f02f5a5-91dc-410e-e255-11091f2ff1b1"
      },
      "outputs": [
        {
          "output_type": "execute_result",
          "data": {
            "text/plain": [
              "            Order Item Quantity\n",
              "Date                           \n",
              "2017-08-27                   39\n",
              "2017-08-28                   56\n",
              "2017-08-29                   63\n",
              "2017-08-30                   68\n",
              "2017-08-31                   49"
            ],
            "text/html": [
              "\n",
              "  <div id=\"df-162170b8-a83d-431c-a495-7bde58ee70a6\">\n",
              "    <div class=\"colab-df-container\">\n",
              "      <div>\n",
              "<style scoped>\n",
              "    .dataframe tbody tr th:only-of-type {\n",
              "        vertical-align: middle;\n",
              "    }\n",
              "\n",
              "    .dataframe tbody tr th {\n",
              "        vertical-align: top;\n",
              "    }\n",
              "\n",
              "    .dataframe thead th {\n",
              "        text-align: right;\n",
              "    }\n",
              "</style>\n",
              "<table border=\"1\" class=\"dataframe\">\n",
              "  <thead>\n",
              "    <tr style=\"text-align: right;\">\n",
              "      <th></th>\n",
              "      <th>Order Item Quantity</th>\n",
              "    </tr>\n",
              "    <tr>\n",
              "      <th>Date</th>\n",
              "      <th></th>\n",
              "    </tr>\n",
              "  </thead>\n",
              "  <tbody>\n",
              "    <tr>\n",
              "      <th>2017-08-27</th>\n",
              "      <td>39</td>\n",
              "    </tr>\n",
              "    <tr>\n",
              "      <th>2017-08-28</th>\n",
              "      <td>56</td>\n",
              "    </tr>\n",
              "    <tr>\n",
              "      <th>2017-08-29</th>\n",
              "      <td>63</td>\n",
              "    </tr>\n",
              "    <tr>\n",
              "      <th>2017-08-30</th>\n",
              "      <td>68</td>\n",
              "    </tr>\n",
              "    <tr>\n",
              "      <th>2017-08-31</th>\n",
              "      <td>49</td>\n",
              "    </tr>\n",
              "  </tbody>\n",
              "</table>\n",
              "</div>\n",
              "      <button class=\"colab-df-convert\" onclick=\"convertToInteractive('df-162170b8-a83d-431c-a495-7bde58ee70a6')\"\n",
              "              title=\"Convert this dataframe to an interactive table.\"\n",
              "              style=\"display:none;\">\n",
              "        \n",
              "  <svg xmlns=\"http://www.w3.org/2000/svg\" height=\"24px\"viewBox=\"0 0 24 24\"\n",
              "       width=\"24px\">\n",
              "    <path d=\"M0 0h24v24H0V0z\" fill=\"none\"/>\n",
              "    <path d=\"M18.56 5.44l.94 2.06.94-2.06 2.06-.94-2.06-.94-.94-2.06-.94 2.06-2.06.94zm-11 1L8.5 8.5l.94-2.06 2.06-.94-2.06-.94L8.5 2.5l-.94 2.06-2.06.94zm10 10l.94 2.06.94-2.06 2.06-.94-2.06-.94-.94-2.06-.94 2.06-2.06.94z\"/><path d=\"M17.41 7.96l-1.37-1.37c-.4-.4-.92-.59-1.43-.59-.52 0-1.04.2-1.43.59L10.3 9.45l-7.72 7.72c-.78.78-.78 2.05 0 2.83L4 21.41c.39.39.9.59 1.41.59.51 0 1.02-.2 1.41-.59l7.78-7.78 2.81-2.81c.8-.78.8-2.07 0-2.86zM5.41 20L4 18.59l7.72-7.72 1.47 1.35L5.41 20z\"/>\n",
              "  </svg>\n",
              "      </button>\n",
              "      \n",
              "  <style>\n",
              "    .colab-df-container {\n",
              "      display:flex;\n",
              "      flex-wrap:wrap;\n",
              "      gap: 12px;\n",
              "    }\n",
              "\n",
              "    .colab-df-convert {\n",
              "      background-color: #E8F0FE;\n",
              "      border: none;\n",
              "      border-radius: 50%;\n",
              "      cursor: pointer;\n",
              "      display: none;\n",
              "      fill: #1967D2;\n",
              "      height: 32px;\n",
              "      padding: 0 0 0 0;\n",
              "      width: 32px;\n",
              "    }\n",
              "\n",
              "    .colab-df-convert:hover {\n",
              "      background-color: #E2EBFA;\n",
              "      box-shadow: 0px 1px 2px rgba(60, 64, 67, 0.3), 0px 1px 3px 1px rgba(60, 64, 67, 0.15);\n",
              "      fill: #174EA6;\n",
              "    }\n",
              "\n",
              "    [theme=dark] .colab-df-convert {\n",
              "      background-color: #3B4455;\n",
              "      fill: #D2E3FC;\n",
              "    }\n",
              "\n",
              "    [theme=dark] .colab-df-convert:hover {\n",
              "      background-color: #434B5C;\n",
              "      box-shadow: 0px 1px 3px 1px rgba(0, 0, 0, 0.15);\n",
              "      filter: drop-shadow(0px 1px 2px rgba(0, 0, 0, 0.3));\n",
              "      fill: #FFFFFF;\n",
              "    }\n",
              "  </style>\n",
              "\n",
              "      <script>\n",
              "        const buttonEl =\n",
              "          document.querySelector('#df-162170b8-a83d-431c-a495-7bde58ee70a6 button.colab-df-convert');\n",
              "        buttonEl.style.display =\n",
              "          google.colab.kernel.accessAllowed ? 'block' : 'none';\n",
              "\n",
              "        async function convertToInteractive(key) {\n",
              "          const element = document.querySelector('#df-162170b8-a83d-431c-a495-7bde58ee70a6');\n",
              "          const dataTable =\n",
              "            await google.colab.kernel.invokeFunction('convertToInteractive',\n",
              "                                                     [key], {});\n",
              "          if (!dataTable) return;\n",
              "\n",
              "          const docLinkHtml = 'Like what you see? Visit the ' +\n",
              "            '<a target=\"_blank\" href=https://colab.research.google.com/notebooks/data_table.ipynb>data table notebook</a>'\n",
              "            + ' to learn more about interactive tables.';\n",
              "          element.innerHTML = '';\n",
              "          dataTable['output_type'] = 'display_data';\n",
              "          await google.colab.output.renderOutput(dataTable, element);\n",
              "          const docLink = document.createElement('div');\n",
              "          docLink.innerHTML = docLinkHtml;\n",
              "          element.appendChild(docLink);\n",
              "        }\n",
              "      </script>\n",
              "    </div>\n",
              "  </div>\n",
              "  "
            ]
          },
          "metadata": {},
          "execution_count": 31
        }
      ],
      "source": [
        "Sept_2017.tail()"
      ]
    },
    {
      "cell_type": "markdown",
      "metadata": {
        "id": "q2gb-97qXD7V"
      },
      "source": [
        "### Taking Transpose to convert 90 days sales as Single row/record for each month to be predicted"
      ]
    },
    {
      "cell_type": "code",
      "execution_count": 32,
      "metadata": {
        "id": "gc3DF_t5XD7V"
      },
      "outputs": [],
      "source": [
        "Row_1 = pd.DataFrame(April_2015.to_numpy().T).add_prefix('Day')\n",
        "Row_2 = pd.DataFrame(May_2015.to_numpy().T).add_prefix('Day')\n",
        "Row_3 = pd.DataFrame(June_2015.to_numpy().T).add_prefix('Day')\n",
        "Row_4 = pd.DataFrame(July_2015.to_numpy().T).add_prefix('Day')\n",
        "Row_5 = pd.DataFrame(August_2015.to_numpy().T).add_prefix('Day')\n",
        "Row_6 = pd.DataFrame(Sept_2015.to_numpy().T).add_prefix('Day')\n",
        "Row_7 = pd.DataFrame(Oct_2015.to_numpy().T).add_prefix('Day')\n",
        "Row_8 = pd.DataFrame(Nov_2015.to_numpy().T).add_prefix('Day')\n",
        "Row_9 = pd.DataFrame(Dec_2015.to_numpy().T).add_prefix('Day')\n",
        "Row_10 = pd.DataFrame(Jan_2016.to_numpy().T).add_prefix('Day')\n",
        "Row_11 = pd.DataFrame(Feb_2016.to_numpy().T).add_prefix('Day')\n",
        "Row_12 = pd.DataFrame(March_2016.to_numpy().T).add_prefix('Day')\n",
        "Row_13 = pd.DataFrame(April_2016.to_numpy().T).add_prefix('Day')\n",
        "Row_14 = pd.DataFrame(May_2016.to_numpy().T).add_prefix('Day')\n",
        "Row_15 = pd.DataFrame(June_2016.to_numpy().T).add_prefix('Day')\n",
        "Row_16 = pd.DataFrame(July_2016.to_numpy().T).add_prefix('Day')\n",
        "Row_17 = pd.DataFrame(August_2016.to_numpy().T).add_prefix('Day')\n",
        "Row_18 = pd.DataFrame(Sept_2016.to_numpy().T).add_prefix('Day')\n",
        "Row_19 = pd.DataFrame(Oct_2016.to_numpy().T).add_prefix('Day')\n",
        "Row_20 = pd.DataFrame(Nov_2016.to_numpy().T).add_prefix('Day')\n",
        "Row_21 = pd.DataFrame(Dec_2016.to_numpy().T).add_prefix('Day')\n",
        "Row_22 = pd.DataFrame(Jan_2017.to_numpy().T).add_prefix('Day')\n",
        "Row_23 = pd.DataFrame(Feb_2017.to_numpy().T).add_prefix('Day')\n",
        "Row_24 = pd.DataFrame(March_2017.to_numpy().T).add_prefix('Day')\n",
        "Row_25 = pd.DataFrame(April_2017.to_numpy().T).add_prefix('Day')\n",
        "Row_26 = pd.DataFrame(May_2017.to_numpy().T).add_prefix('Day')\n",
        "Row_27 = pd.DataFrame(June_2017.to_numpy().T).add_prefix('Day')\n",
        "Row_28 = pd.DataFrame(July_2017.to_numpy().T).add_prefix('Day')\n",
        "Row_29 = pd.DataFrame(August_2017.to_numpy().T).add_prefix('Day')\n",
        "Row_30 = pd.DataFrame(Sept_2017.to_numpy().T).add_prefix('Day')"
      ]
    },
    {
      "cell_type": "code",
      "execution_count": 33,
      "metadata": {
        "id": "1r_9tQJvXD7W",
        "colab": {
          "base_uri": "https://localhost:8080/",
          "height": 110
        },
        "outputId": "8f6c22dc-c1b1-41ad-b914-89206291e68a"
      },
      "outputs": [
        {
          "output_type": "execute_result",
          "data": {
            "text/plain": [
              "   Day0  Day1  Day2  Day3  Day4  Day5  Day6  Day7  Day8  Day9  ...  Day79  \\\n",
              "0    56    38    58    42    60    34    51    82    74    51  ...     56   \n",
              "\n",
              "   Day80  Day81  Day82  Day83  Day84  Day85  Day86  Day87  Day88  \n",
              "0     71     59     40     81     39     56     63     68     49  \n",
              "\n",
              "[1 rows x 89 columns]"
            ],
            "text/html": [
              "\n",
              "  <div id=\"df-ac6c36eb-8f20-443f-8505-8074132cf01d\">\n",
              "    <div class=\"colab-df-container\">\n",
              "      <div>\n",
              "<style scoped>\n",
              "    .dataframe tbody tr th:only-of-type {\n",
              "        vertical-align: middle;\n",
              "    }\n",
              "\n",
              "    .dataframe tbody tr th {\n",
              "        vertical-align: top;\n",
              "    }\n",
              "\n",
              "    .dataframe thead th {\n",
              "        text-align: right;\n",
              "    }\n",
              "</style>\n",
              "<table border=\"1\" class=\"dataframe\">\n",
              "  <thead>\n",
              "    <tr style=\"text-align: right;\">\n",
              "      <th></th>\n",
              "      <th>Day0</th>\n",
              "      <th>Day1</th>\n",
              "      <th>Day2</th>\n",
              "      <th>Day3</th>\n",
              "      <th>Day4</th>\n",
              "      <th>Day5</th>\n",
              "      <th>Day6</th>\n",
              "      <th>Day7</th>\n",
              "      <th>Day8</th>\n",
              "      <th>Day9</th>\n",
              "      <th>...</th>\n",
              "      <th>Day79</th>\n",
              "      <th>Day80</th>\n",
              "      <th>Day81</th>\n",
              "      <th>Day82</th>\n",
              "      <th>Day83</th>\n",
              "      <th>Day84</th>\n",
              "      <th>Day85</th>\n",
              "      <th>Day86</th>\n",
              "      <th>Day87</th>\n",
              "      <th>Day88</th>\n",
              "    </tr>\n",
              "  </thead>\n",
              "  <tbody>\n",
              "    <tr>\n",
              "      <th>0</th>\n",
              "      <td>56</td>\n",
              "      <td>38</td>\n",
              "      <td>58</td>\n",
              "      <td>42</td>\n",
              "      <td>60</td>\n",
              "      <td>34</td>\n",
              "      <td>51</td>\n",
              "      <td>82</td>\n",
              "      <td>74</td>\n",
              "      <td>51</td>\n",
              "      <td>...</td>\n",
              "      <td>56</td>\n",
              "      <td>71</td>\n",
              "      <td>59</td>\n",
              "      <td>40</td>\n",
              "      <td>81</td>\n",
              "      <td>39</td>\n",
              "      <td>56</td>\n",
              "      <td>63</td>\n",
              "      <td>68</td>\n",
              "      <td>49</td>\n",
              "    </tr>\n",
              "  </tbody>\n",
              "</table>\n",
              "<p>1 rows × 89 columns</p>\n",
              "</div>\n",
              "      <button class=\"colab-df-convert\" onclick=\"convertToInteractive('df-ac6c36eb-8f20-443f-8505-8074132cf01d')\"\n",
              "              title=\"Convert this dataframe to an interactive table.\"\n",
              "              style=\"display:none;\">\n",
              "        \n",
              "  <svg xmlns=\"http://www.w3.org/2000/svg\" height=\"24px\"viewBox=\"0 0 24 24\"\n",
              "       width=\"24px\">\n",
              "    <path d=\"M0 0h24v24H0V0z\" fill=\"none\"/>\n",
              "    <path d=\"M18.56 5.44l.94 2.06.94-2.06 2.06-.94-2.06-.94-.94-2.06-.94 2.06-2.06.94zm-11 1L8.5 8.5l.94-2.06 2.06-.94-2.06-.94L8.5 2.5l-.94 2.06-2.06.94zm10 10l.94 2.06.94-2.06 2.06-.94-2.06-.94-.94-2.06-.94 2.06-2.06.94z\"/><path d=\"M17.41 7.96l-1.37-1.37c-.4-.4-.92-.59-1.43-.59-.52 0-1.04.2-1.43.59L10.3 9.45l-7.72 7.72c-.78.78-.78 2.05 0 2.83L4 21.41c.39.39.9.59 1.41.59.51 0 1.02-.2 1.41-.59l7.78-7.78 2.81-2.81c.8-.78.8-2.07 0-2.86zM5.41 20L4 18.59l7.72-7.72 1.47 1.35L5.41 20z\"/>\n",
              "  </svg>\n",
              "      </button>\n",
              "      \n",
              "  <style>\n",
              "    .colab-df-container {\n",
              "      display:flex;\n",
              "      flex-wrap:wrap;\n",
              "      gap: 12px;\n",
              "    }\n",
              "\n",
              "    .colab-df-convert {\n",
              "      background-color: #E8F0FE;\n",
              "      border: none;\n",
              "      border-radius: 50%;\n",
              "      cursor: pointer;\n",
              "      display: none;\n",
              "      fill: #1967D2;\n",
              "      height: 32px;\n",
              "      padding: 0 0 0 0;\n",
              "      width: 32px;\n",
              "    }\n",
              "\n",
              "    .colab-df-convert:hover {\n",
              "      background-color: #E2EBFA;\n",
              "      box-shadow: 0px 1px 2px rgba(60, 64, 67, 0.3), 0px 1px 3px 1px rgba(60, 64, 67, 0.15);\n",
              "      fill: #174EA6;\n",
              "    }\n",
              "\n",
              "    [theme=dark] .colab-df-convert {\n",
              "      background-color: #3B4455;\n",
              "      fill: #D2E3FC;\n",
              "    }\n",
              "\n",
              "    [theme=dark] .colab-df-convert:hover {\n",
              "      background-color: #434B5C;\n",
              "      box-shadow: 0px 1px 3px 1px rgba(0, 0, 0, 0.15);\n",
              "      filter: drop-shadow(0px 1px 2px rgba(0, 0, 0, 0.3));\n",
              "      fill: #FFFFFF;\n",
              "    }\n",
              "  </style>\n",
              "\n",
              "      <script>\n",
              "        const buttonEl =\n",
              "          document.querySelector('#df-ac6c36eb-8f20-443f-8505-8074132cf01d button.colab-df-convert');\n",
              "        buttonEl.style.display =\n",
              "          google.colab.kernel.accessAllowed ? 'block' : 'none';\n",
              "\n",
              "        async function convertToInteractive(key) {\n",
              "          const element = document.querySelector('#df-ac6c36eb-8f20-443f-8505-8074132cf01d');\n",
              "          const dataTable =\n",
              "            await google.colab.kernel.invokeFunction('convertToInteractive',\n",
              "                                                     [key], {});\n",
              "          if (!dataTable) return;\n",
              "\n",
              "          const docLinkHtml = 'Like what you see? Visit the ' +\n",
              "            '<a target=\"_blank\" href=https://colab.research.google.com/notebooks/data_table.ipynb>data table notebook</a>'\n",
              "            + ' to learn more about interactive tables.';\n",
              "          element.innerHTML = '';\n",
              "          dataTable['output_type'] = 'display_data';\n",
              "          await google.colab.output.renderOutput(dataTable, element);\n",
              "          const docLink = document.createElement('div');\n",
              "          docLink.innerHTML = docLinkHtml;\n",
              "          element.appendChild(docLink);\n",
              "        }\n",
              "      </script>\n",
              "    </div>\n",
              "  </div>\n",
              "  "
            ]
          },
          "metadata": {},
          "execution_count": 33
        }
      ],
      "source": [
        "Row_30"
      ]
    },
    {
      "cell_type": "markdown",
      "metadata": {
        "id": "lRBtpXhzXD7W"
      },
      "source": [
        "### Merging all Rows to prepare the DataFrame\n"
      ]
    },
    {
      "cell_type": "code",
      "execution_count": 34,
      "metadata": {
        "id": "WjeqWQI_XD7W"
      },
      "outputs": [],
      "source": [
        "merge2=Row_1.append(Row_2,ignore_index=True)\n",
        "merge3=merge2.append(Row_3,ignore_index=True)\n",
        "merge4=merge3.append(Row_4,ignore_index=True)\n",
        "merge5=merge4.append(Row_5,ignore_index=True)\n",
        "merge6=merge5.append(Row_6,ignore_index=True)\n",
        "merge7=merge6.append(Row_7,ignore_index=True)\n",
        "merge8=merge7.append(Row_8,ignore_index=True)\n",
        "merge9=merge8.append(Row_9,ignore_index=True)\n",
        "merge10=merge9.append(Row_10,ignore_index=True)\n",
        "merge11=merge10.append(Row_11,ignore_index=True)\n",
        "merge12=merge11.append(Row_12,ignore_index=True)\n",
        "merge13=merge12.append(Row_13,ignore_index=True)\n",
        "merge14=merge13.append(Row_14,ignore_index=True)\n",
        "merge15=merge14.append(Row_15,ignore_index=True)\n",
        "merge16=merge15.append(Row_16,ignore_index=True)\n",
        "merge17=merge16.append(Row_17,ignore_index=True)\n",
        "merge18=merge17.append(Row_18,ignore_index=True)\n",
        "merge19=merge18.append(Row_19,ignore_index=True)\n",
        "merge20=merge19.append(Row_20,ignore_index=True)\n",
        "merge21=merge20.append(Row_21,ignore_index=True)\n",
        "merge22=merge21.append(Row_22,ignore_index=True)\n",
        "merge23=merge22.append(Row_23,ignore_index=True)\n",
        "merge24=merge23.append(Row_24,ignore_index=True)\n",
        "merge25=merge24.append(Row_25,ignore_index=True)\n",
        "merge26=merge25.append(Row_26,ignore_index=True)\n",
        "merge27=merge26.append(Row_27,ignore_index=True)\n",
        "merge28=merge27.append(Row_28,ignore_index=True)\n",
        "merge29=merge28.append(Row_29,ignore_index=True)\n",
        "merge30=merge29.append(Row_30,ignore_index=True)"
      ]
    },
    {
      "cell_type": "code",
      "execution_count": 35,
      "metadata": {
        "id": "58C2lwglXD7X",
        "colab": {
          "base_uri": "https://localhost:8080/",
          "height": 1000
        },
        "outputId": "a2594742-7013-4123-9067-f65841c9c915"
      },
      "outputs": [
        {
          "output_type": "execute_result",
          "data": {
            "text/plain": [
              "    Day0  Day1  Day2  Day3  Day4  Day5  Day6  Day7  Day8  Day9  ...  Day79  \\\n",
              "0     62    54    47    58    79    63    41    39    57    54  ...     47   \n",
              "1     24    56    95    58    67    58    58    36    79    53  ...     37   \n",
              "2     59    59    67    81    65    56    40    43    82    40  ...     80   \n",
              "3     73    34    70    35    53    51    65    50    69    56  ...     60   \n",
              "4     40    79    53    74    65    44    53    82    50    45  ...     45   \n",
              "5     76    46    48    62    74    51    42    35    55    37  ...     56   \n",
              "6     51    76    64    59    43    69    56    68    51    54  ...     50   \n",
              "7     67    55    52    63    53    44    45    57    70    32  ...     50   \n",
              "8     56    68    45    64    53    51    43    65    49    62  ...     62   \n",
              "9     72    68    72    23    68    41    50    74    33    78  ...     47   \n",
              "10    86    66    53    38    69    48    56    70    76    81  ...     50   \n",
              "11    53    40    35    50    62    52    53    54    60    55  ...     29   \n",
              "12    51    30    56    46    64    77    39    70    72    59  ...     34   \n",
              "13    72    59    57    84    57    77    57    68    64    86  ...     50   \n",
              "14    50    79    61    51    51    49    41    76    68    56  ...     58   \n",
              "15    51    37    62    40    53    51    40    64    71    78  ...     60   \n",
              "16    47    59    54    61    72    76    35    57    44    38  ...     70   \n",
              "17    96    39    60    51    26    49    55    53    48    64  ...     60   \n",
              "18    37    85    45    43    46    57    65    49    66    50  ...     61   \n",
              "19    53    64    58    68    38    37    43    57    53    43  ...     70   \n",
              "20    58    50    61    54    54    56    63    23    38    75  ...     55   \n",
              "21    84    50    61    59    60    44    73    82    58    79  ...     64   \n",
              "22    57    50    38    48    44    66    48    34    90    65  ...     43   \n",
              "23    55    53    52    67    54    64    66    64    51    77  ...     67   \n",
              "24    31    68    42    57    46    56    72    45    54    69  ...     57   \n",
              "25    72    59    70    65    59    88    60    57    43    59  ...     74   \n",
              "26    31    48    81    50    43    51    70    67    73    26  ...    109   \n",
              "27    83    72    86    32    59    31    59    47    92    66  ...     55   \n",
              "28    67    60    56    78    58    61    55    47    36    55  ...     47   \n",
              "29    56    38    58    42    60    34    51    82    74    51  ...     56   \n",
              "\n",
              "    Day80  Day81  Day82  Day83  Day84  Day85  Day86  Day87  Day88  \n",
              "0      63     65     74     86     66     54     43     82     63  \n",
              "1      48     35     67     84     78     48     55     65     56  \n",
              "2      49     29     44     46     45     65     57     42     81  \n",
              "3      42     54     21     46     56     61     46     89     68  \n",
              "4      85     40     65     67     79     67     36     54     45  \n",
              "5      21     26     79     79     43     22     64     60     56  \n",
              "6      79     49     39     45     58     50     54     26     70  \n",
              "7      68     69     61     49     71     62     38     48     57  \n",
              "8      56     80     47     54     72     66     55     41     31  \n",
              "9      73     88     95     44     58     77     54     78     45  \n",
              "10     60     60     77     75     62     56     59     70     59  \n",
              "11     54     59     61     67     44     84     46     37     47  \n",
              "12     68     52     45     49     56     40     56     47     70  \n",
              "13     60     72     51     47     63     34     51     36     57  \n",
              "14     61     77     34     49     61     66     71     45     46  \n",
              "15     32     63     54     43     42     75     53     51     49  \n",
              "16     58     45     49     43     67     59     58     62     47  \n",
              "17     44     32     62     47     49     34     43     44     55  \n",
              "18     53     31     51     62     54     61     63     68     65  \n",
              "19     62     69     49     40     80     61     63     69     50  \n",
              "20     56     53     57     77     56     77     33     67     49  \n",
              "21     74     65     62     49     69     81     60     63     59  \n",
              "22     65     68     43     62     87     68     59     56     68  \n",
              "23     60     69     64     94     68     59     56     42     57  \n",
              "24     77     43     44     26     37     68     74     77     57  \n",
              "25     58     64     56     84     58     57     54     79     78  \n",
              "26     59     65     71     29     52     28     55     85     49  \n",
              "27     66     54     47     52     54     43     34     72     40  \n",
              "28     72     46     46     41     62     61     52     56     47  \n",
              "29     71     59     40     81     39     56     63     68     49  \n",
              "\n",
              "[30 rows x 89 columns]"
            ],
            "text/html": [
              "\n",
              "  <div id=\"df-c525a2be-4b49-4b80-b110-e2d9abc2c4e0\">\n",
              "    <div class=\"colab-df-container\">\n",
              "      <div>\n",
              "<style scoped>\n",
              "    .dataframe tbody tr th:only-of-type {\n",
              "        vertical-align: middle;\n",
              "    }\n",
              "\n",
              "    .dataframe tbody tr th {\n",
              "        vertical-align: top;\n",
              "    }\n",
              "\n",
              "    .dataframe thead th {\n",
              "        text-align: right;\n",
              "    }\n",
              "</style>\n",
              "<table border=\"1\" class=\"dataframe\">\n",
              "  <thead>\n",
              "    <tr style=\"text-align: right;\">\n",
              "      <th></th>\n",
              "      <th>Day0</th>\n",
              "      <th>Day1</th>\n",
              "      <th>Day2</th>\n",
              "      <th>Day3</th>\n",
              "      <th>Day4</th>\n",
              "      <th>Day5</th>\n",
              "      <th>Day6</th>\n",
              "      <th>Day7</th>\n",
              "      <th>Day8</th>\n",
              "      <th>Day9</th>\n",
              "      <th>...</th>\n",
              "      <th>Day79</th>\n",
              "      <th>Day80</th>\n",
              "      <th>Day81</th>\n",
              "      <th>Day82</th>\n",
              "      <th>Day83</th>\n",
              "      <th>Day84</th>\n",
              "      <th>Day85</th>\n",
              "      <th>Day86</th>\n",
              "      <th>Day87</th>\n",
              "      <th>Day88</th>\n",
              "    </tr>\n",
              "  </thead>\n",
              "  <tbody>\n",
              "    <tr>\n",
              "      <th>0</th>\n",
              "      <td>62</td>\n",
              "      <td>54</td>\n",
              "      <td>47</td>\n",
              "      <td>58</td>\n",
              "      <td>79</td>\n",
              "      <td>63</td>\n",
              "      <td>41</td>\n",
              "      <td>39</td>\n",
              "      <td>57</td>\n",
              "      <td>54</td>\n",
              "      <td>...</td>\n",
              "      <td>47</td>\n",
              "      <td>63</td>\n",
              "      <td>65</td>\n",
              "      <td>74</td>\n",
              "      <td>86</td>\n",
              "      <td>66</td>\n",
              "      <td>54</td>\n",
              "      <td>43</td>\n",
              "      <td>82</td>\n",
              "      <td>63</td>\n",
              "    </tr>\n",
              "    <tr>\n",
              "      <th>1</th>\n",
              "      <td>24</td>\n",
              "      <td>56</td>\n",
              "      <td>95</td>\n",
              "      <td>58</td>\n",
              "      <td>67</td>\n",
              "      <td>58</td>\n",
              "      <td>58</td>\n",
              "      <td>36</td>\n",
              "      <td>79</td>\n",
              "      <td>53</td>\n",
              "      <td>...</td>\n",
              "      <td>37</td>\n",
              "      <td>48</td>\n",
              "      <td>35</td>\n",
              "      <td>67</td>\n",
              "      <td>84</td>\n",
              "      <td>78</td>\n",
              "      <td>48</td>\n",
              "      <td>55</td>\n",
              "      <td>65</td>\n",
              "      <td>56</td>\n",
              "    </tr>\n",
              "    <tr>\n",
              "      <th>2</th>\n",
              "      <td>59</td>\n",
              "      <td>59</td>\n",
              "      <td>67</td>\n",
              "      <td>81</td>\n",
              "      <td>65</td>\n",
              "      <td>56</td>\n",
              "      <td>40</td>\n",
              "      <td>43</td>\n",
              "      <td>82</td>\n",
              "      <td>40</td>\n",
              "      <td>...</td>\n",
              "      <td>80</td>\n",
              "      <td>49</td>\n",
              "      <td>29</td>\n",
              "      <td>44</td>\n",
              "      <td>46</td>\n",
              "      <td>45</td>\n",
              "      <td>65</td>\n",
              "      <td>57</td>\n",
              "      <td>42</td>\n",
              "      <td>81</td>\n",
              "    </tr>\n",
              "    <tr>\n",
              "      <th>3</th>\n",
              "      <td>73</td>\n",
              "      <td>34</td>\n",
              "      <td>70</td>\n",
              "      <td>35</td>\n",
              "      <td>53</td>\n",
              "      <td>51</td>\n",
              "      <td>65</td>\n",
              "      <td>50</td>\n",
              "      <td>69</td>\n",
              "      <td>56</td>\n",
              "      <td>...</td>\n",
              "      <td>60</td>\n",
              "      <td>42</td>\n",
              "      <td>54</td>\n",
              "      <td>21</td>\n",
              "      <td>46</td>\n",
              "      <td>56</td>\n",
              "      <td>61</td>\n",
              "      <td>46</td>\n",
              "      <td>89</td>\n",
              "      <td>68</td>\n",
              "    </tr>\n",
              "    <tr>\n",
              "      <th>4</th>\n",
              "      <td>40</td>\n",
              "      <td>79</td>\n",
              "      <td>53</td>\n",
              "      <td>74</td>\n",
              "      <td>65</td>\n",
              "      <td>44</td>\n",
              "      <td>53</td>\n",
              "      <td>82</td>\n",
              "      <td>50</td>\n",
              "      <td>45</td>\n",
              "      <td>...</td>\n",
              "      <td>45</td>\n",
              "      <td>85</td>\n",
              "      <td>40</td>\n",
              "      <td>65</td>\n",
              "      <td>67</td>\n",
              "      <td>79</td>\n",
              "      <td>67</td>\n",
              "      <td>36</td>\n",
              "      <td>54</td>\n",
              "      <td>45</td>\n",
              "    </tr>\n",
              "    <tr>\n",
              "      <th>5</th>\n",
              "      <td>76</td>\n",
              "      <td>46</td>\n",
              "      <td>48</td>\n",
              "      <td>62</td>\n",
              "      <td>74</td>\n",
              "      <td>51</td>\n",
              "      <td>42</td>\n",
              "      <td>35</td>\n",
              "      <td>55</td>\n",
              "      <td>37</td>\n",
              "      <td>...</td>\n",
              "      <td>56</td>\n",
              "      <td>21</td>\n",
              "      <td>26</td>\n",
              "      <td>79</td>\n",
              "      <td>79</td>\n",
              "      <td>43</td>\n",
              "      <td>22</td>\n",
              "      <td>64</td>\n",
              "      <td>60</td>\n",
              "      <td>56</td>\n",
              "    </tr>\n",
              "    <tr>\n",
              "      <th>6</th>\n",
              "      <td>51</td>\n",
              "      <td>76</td>\n",
              "      <td>64</td>\n",
              "      <td>59</td>\n",
              "      <td>43</td>\n",
              "      <td>69</td>\n",
              "      <td>56</td>\n",
              "      <td>68</td>\n",
              "      <td>51</td>\n",
              "      <td>54</td>\n",
              "      <td>...</td>\n",
              "      <td>50</td>\n",
              "      <td>79</td>\n",
              "      <td>49</td>\n",
              "      <td>39</td>\n",
              "      <td>45</td>\n",
              "      <td>58</td>\n",
              "      <td>50</td>\n",
              "      <td>54</td>\n",
              "      <td>26</td>\n",
              "      <td>70</td>\n",
              "    </tr>\n",
              "    <tr>\n",
              "      <th>7</th>\n",
              "      <td>67</td>\n",
              "      <td>55</td>\n",
              "      <td>52</td>\n",
              "      <td>63</td>\n",
              "      <td>53</td>\n",
              "      <td>44</td>\n",
              "      <td>45</td>\n",
              "      <td>57</td>\n",
              "      <td>70</td>\n",
              "      <td>32</td>\n",
              "      <td>...</td>\n",
              "      <td>50</td>\n",
              "      <td>68</td>\n",
              "      <td>69</td>\n",
              "      <td>61</td>\n",
              "      <td>49</td>\n",
              "      <td>71</td>\n",
              "      <td>62</td>\n",
              "      <td>38</td>\n",
              "      <td>48</td>\n",
              "      <td>57</td>\n",
              "    </tr>\n",
              "    <tr>\n",
              "      <th>8</th>\n",
              "      <td>56</td>\n",
              "      <td>68</td>\n",
              "      <td>45</td>\n",
              "      <td>64</td>\n",
              "      <td>53</td>\n",
              "      <td>51</td>\n",
              "      <td>43</td>\n",
              "      <td>65</td>\n",
              "      <td>49</td>\n",
              "      <td>62</td>\n",
              "      <td>...</td>\n",
              "      <td>62</td>\n",
              "      <td>56</td>\n",
              "      <td>80</td>\n",
              "      <td>47</td>\n",
              "      <td>54</td>\n",
              "      <td>72</td>\n",
              "      <td>66</td>\n",
              "      <td>55</td>\n",
              "      <td>41</td>\n",
              "      <td>31</td>\n",
              "    </tr>\n",
              "    <tr>\n",
              "      <th>9</th>\n",
              "      <td>72</td>\n",
              "      <td>68</td>\n",
              "      <td>72</td>\n",
              "      <td>23</td>\n",
              "      <td>68</td>\n",
              "      <td>41</td>\n",
              "      <td>50</td>\n",
              "      <td>74</td>\n",
              "      <td>33</td>\n",
              "      <td>78</td>\n",
              "      <td>...</td>\n",
              "      <td>47</td>\n",
              "      <td>73</td>\n",
              "      <td>88</td>\n",
              "      <td>95</td>\n",
              "      <td>44</td>\n",
              "      <td>58</td>\n",
              "      <td>77</td>\n",
              "      <td>54</td>\n",
              "      <td>78</td>\n",
              "      <td>45</td>\n",
              "    </tr>\n",
              "    <tr>\n",
              "      <th>10</th>\n",
              "      <td>86</td>\n",
              "      <td>66</td>\n",
              "      <td>53</td>\n",
              "      <td>38</td>\n",
              "      <td>69</td>\n",
              "      <td>48</td>\n",
              "      <td>56</td>\n",
              "      <td>70</td>\n",
              "      <td>76</td>\n",
              "      <td>81</td>\n",
              "      <td>...</td>\n",
              "      <td>50</td>\n",
              "      <td>60</td>\n",
              "      <td>60</td>\n",
              "      <td>77</td>\n",
              "      <td>75</td>\n",
              "      <td>62</td>\n",
              "      <td>56</td>\n",
              "      <td>59</td>\n",
              "      <td>70</td>\n",
              "      <td>59</td>\n",
              "    </tr>\n",
              "    <tr>\n",
              "      <th>11</th>\n",
              "      <td>53</td>\n",
              "      <td>40</td>\n",
              "      <td>35</td>\n",
              "      <td>50</td>\n",
              "      <td>62</td>\n",
              "      <td>52</td>\n",
              "      <td>53</td>\n",
              "      <td>54</td>\n",
              "      <td>60</td>\n",
              "      <td>55</td>\n",
              "      <td>...</td>\n",
              "      <td>29</td>\n",
              "      <td>54</td>\n",
              "      <td>59</td>\n",
              "      <td>61</td>\n",
              "      <td>67</td>\n",
              "      <td>44</td>\n",
              "      <td>84</td>\n",
              "      <td>46</td>\n",
              "      <td>37</td>\n",
              "      <td>47</td>\n",
              "    </tr>\n",
              "    <tr>\n",
              "      <th>12</th>\n",
              "      <td>51</td>\n",
              "      <td>30</td>\n",
              "      <td>56</td>\n",
              "      <td>46</td>\n",
              "      <td>64</td>\n",
              "      <td>77</td>\n",
              "      <td>39</td>\n",
              "      <td>70</td>\n",
              "      <td>72</td>\n",
              "      <td>59</td>\n",
              "      <td>...</td>\n",
              "      <td>34</td>\n",
              "      <td>68</td>\n",
              "      <td>52</td>\n",
              "      <td>45</td>\n",
              "      <td>49</td>\n",
              "      <td>56</td>\n",
              "      <td>40</td>\n",
              "      <td>56</td>\n",
              "      <td>47</td>\n",
              "      <td>70</td>\n",
              "    </tr>\n",
              "    <tr>\n",
              "      <th>13</th>\n",
              "      <td>72</td>\n",
              "      <td>59</td>\n",
              "      <td>57</td>\n",
              "      <td>84</td>\n",
              "      <td>57</td>\n",
              "      <td>77</td>\n",
              "      <td>57</td>\n",
              "      <td>68</td>\n",
              "      <td>64</td>\n",
              "      <td>86</td>\n",
              "      <td>...</td>\n",
              "      <td>50</td>\n",
              "      <td>60</td>\n",
              "      <td>72</td>\n",
              "      <td>51</td>\n",
              "      <td>47</td>\n",
              "      <td>63</td>\n",
              "      <td>34</td>\n",
              "      <td>51</td>\n",
              "      <td>36</td>\n",
              "      <td>57</td>\n",
              "    </tr>\n",
              "    <tr>\n",
              "      <th>14</th>\n",
              "      <td>50</td>\n",
              "      <td>79</td>\n",
              "      <td>61</td>\n",
              "      <td>51</td>\n",
              "      <td>51</td>\n",
              "      <td>49</td>\n",
              "      <td>41</td>\n",
              "      <td>76</td>\n",
              "      <td>68</td>\n",
              "      <td>56</td>\n",
              "      <td>...</td>\n",
              "      <td>58</td>\n",
              "      <td>61</td>\n",
              "      <td>77</td>\n",
              "      <td>34</td>\n",
              "      <td>49</td>\n",
              "      <td>61</td>\n",
              "      <td>66</td>\n",
              "      <td>71</td>\n",
              "      <td>45</td>\n",
              "      <td>46</td>\n",
              "    </tr>\n",
              "    <tr>\n",
              "      <th>15</th>\n",
              "      <td>51</td>\n",
              "      <td>37</td>\n",
              "      <td>62</td>\n",
              "      <td>40</td>\n",
              "      <td>53</td>\n",
              "      <td>51</td>\n",
              "      <td>40</td>\n",
              "      <td>64</td>\n",
              "      <td>71</td>\n",
              "      <td>78</td>\n",
              "      <td>...</td>\n",
              "      <td>60</td>\n",
              "      <td>32</td>\n",
              "      <td>63</td>\n",
              "      <td>54</td>\n",
              "      <td>43</td>\n",
              "      <td>42</td>\n",
              "      <td>75</td>\n",
              "      <td>53</td>\n",
              "      <td>51</td>\n",
              "      <td>49</td>\n",
              "    </tr>\n",
              "    <tr>\n",
              "      <th>16</th>\n",
              "      <td>47</td>\n",
              "      <td>59</td>\n",
              "      <td>54</td>\n",
              "      <td>61</td>\n",
              "      <td>72</td>\n",
              "      <td>76</td>\n",
              "      <td>35</td>\n",
              "      <td>57</td>\n",
              "      <td>44</td>\n",
              "      <td>38</td>\n",
              "      <td>...</td>\n",
              "      <td>70</td>\n",
              "      <td>58</td>\n",
              "      <td>45</td>\n",
              "      <td>49</td>\n",
              "      <td>43</td>\n",
              "      <td>67</td>\n",
              "      <td>59</td>\n",
              "      <td>58</td>\n",
              "      <td>62</td>\n",
              "      <td>47</td>\n",
              "    </tr>\n",
              "    <tr>\n",
              "      <th>17</th>\n",
              "      <td>96</td>\n",
              "      <td>39</td>\n",
              "      <td>60</td>\n",
              "      <td>51</td>\n",
              "      <td>26</td>\n",
              "      <td>49</td>\n",
              "      <td>55</td>\n",
              "      <td>53</td>\n",
              "      <td>48</td>\n",
              "      <td>64</td>\n",
              "      <td>...</td>\n",
              "      <td>60</td>\n",
              "      <td>44</td>\n",
              "      <td>32</td>\n",
              "      <td>62</td>\n",
              "      <td>47</td>\n",
              "      <td>49</td>\n",
              "      <td>34</td>\n",
              "      <td>43</td>\n",
              "      <td>44</td>\n",
              "      <td>55</td>\n",
              "    </tr>\n",
              "    <tr>\n",
              "      <th>18</th>\n",
              "      <td>37</td>\n",
              "      <td>85</td>\n",
              "      <td>45</td>\n",
              "      <td>43</td>\n",
              "      <td>46</td>\n",
              "      <td>57</td>\n",
              "      <td>65</td>\n",
              "      <td>49</td>\n",
              "      <td>66</td>\n",
              "      <td>50</td>\n",
              "      <td>...</td>\n",
              "      <td>61</td>\n",
              "      <td>53</td>\n",
              "      <td>31</td>\n",
              "      <td>51</td>\n",
              "      <td>62</td>\n",
              "      <td>54</td>\n",
              "      <td>61</td>\n",
              "      <td>63</td>\n",
              "      <td>68</td>\n",
              "      <td>65</td>\n",
              "    </tr>\n",
              "    <tr>\n",
              "      <th>19</th>\n",
              "      <td>53</td>\n",
              "      <td>64</td>\n",
              "      <td>58</td>\n",
              "      <td>68</td>\n",
              "      <td>38</td>\n",
              "      <td>37</td>\n",
              "      <td>43</td>\n",
              "      <td>57</td>\n",
              "      <td>53</td>\n",
              "      <td>43</td>\n",
              "      <td>...</td>\n",
              "      <td>70</td>\n",
              "      <td>62</td>\n",
              "      <td>69</td>\n",
              "      <td>49</td>\n",
              "      <td>40</td>\n",
              "      <td>80</td>\n",
              "      <td>61</td>\n",
              "      <td>63</td>\n",
              "      <td>69</td>\n",
              "      <td>50</td>\n",
              "    </tr>\n",
              "    <tr>\n",
              "      <th>20</th>\n",
              "      <td>58</td>\n",
              "      <td>50</td>\n",
              "      <td>61</td>\n",
              "      <td>54</td>\n",
              "      <td>54</td>\n",
              "      <td>56</td>\n",
              "      <td>63</td>\n",
              "      <td>23</td>\n",
              "      <td>38</td>\n",
              "      <td>75</td>\n",
              "      <td>...</td>\n",
              "      <td>55</td>\n",
              "      <td>56</td>\n",
              "      <td>53</td>\n",
              "      <td>57</td>\n",
              "      <td>77</td>\n",
              "      <td>56</td>\n",
              "      <td>77</td>\n",
              "      <td>33</td>\n",
              "      <td>67</td>\n",
              "      <td>49</td>\n",
              "    </tr>\n",
              "    <tr>\n",
              "      <th>21</th>\n",
              "      <td>84</td>\n",
              "      <td>50</td>\n",
              "      <td>61</td>\n",
              "      <td>59</td>\n",
              "      <td>60</td>\n",
              "      <td>44</td>\n",
              "      <td>73</td>\n",
              "      <td>82</td>\n",
              "      <td>58</td>\n",
              "      <td>79</td>\n",
              "      <td>...</td>\n",
              "      <td>64</td>\n",
              "      <td>74</td>\n",
              "      <td>65</td>\n",
              "      <td>62</td>\n",
              "      <td>49</td>\n",
              "      <td>69</td>\n",
              "      <td>81</td>\n",
              "      <td>60</td>\n",
              "      <td>63</td>\n",
              "      <td>59</td>\n",
              "    </tr>\n",
              "    <tr>\n",
              "      <th>22</th>\n",
              "      <td>57</td>\n",
              "      <td>50</td>\n",
              "      <td>38</td>\n",
              "      <td>48</td>\n",
              "      <td>44</td>\n",
              "      <td>66</td>\n",
              "      <td>48</td>\n",
              "      <td>34</td>\n",
              "      <td>90</td>\n",
              "      <td>65</td>\n",
              "      <td>...</td>\n",
              "      <td>43</td>\n",
              "      <td>65</td>\n",
              "      <td>68</td>\n",
              "      <td>43</td>\n",
              "      <td>62</td>\n",
              "      <td>87</td>\n",
              "      <td>68</td>\n",
              "      <td>59</td>\n",
              "      <td>56</td>\n",
              "      <td>68</td>\n",
              "    </tr>\n",
              "    <tr>\n",
              "      <th>23</th>\n",
              "      <td>55</td>\n",
              "      <td>53</td>\n",
              "      <td>52</td>\n",
              "      <td>67</td>\n",
              "      <td>54</td>\n",
              "      <td>64</td>\n",
              "      <td>66</td>\n",
              "      <td>64</td>\n",
              "      <td>51</td>\n",
              "      <td>77</td>\n",
              "      <td>...</td>\n",
              "      <td>67</td>\n",
              "      <td>60</td>\n",
              "      <td>69</td>\n",
              "      <td>64</td>\n",
              "      <td>94</td>\n",
              "      <td>68</td>\n",
              "      <td>59</td>\n",
              "      <td>56</td>\n",
              "      <td>42</td>\n",
              "      <td>57</td>\n",
              "    </tr>\n",
              "    <tr>\n",
              "      <th>24</th>\n",
              "      <td>31</td>\n",
              "      <td>68</td>\n",
              "      <td>42</td>\n",
              "      <td>57</td>\n",
              "      <td>46</td>\n",
              "      <td>56</td>\n",
              "      <td>72</td>\n",
              "      <td>45</td>\n",
              "      <td>54</td>\n",
              "      <td>69</td>\n",
              "      <td>...</td>\n",
              "      <td>57</td>\n",
              "      <td>77</td>\n",
              "      <td>43</td>\n",
              "      <td>44</td>\n",
              "      <td>26</td>\n",
              "      <td>37</td>\n",
              "      <td>68</td>\n",
              "      <td>74</td>\n",
              "      <td>77</td>\n",
              "      <td>57</td>\n",
              "    </tr>\n",
              "    <tr>\n",
              "      <th>25</th>\n",
              "      <td>72</td>\n",
              "      <td>59</td>\n",
              "      <td>70</td>\n",
              "      <td>65</td>\n",
              "      <td>59</td>\n",
              "      <td>88</td>\n",
              "      <td>60</td>\n",
              "      <td>57</td>\n",
              "      <td>43</td>\n",
              "      <td>59</td>\n",
              "      <td>...</td>\n",
              "      <td>74</td>\n",
              "      <td>58</td>\n",
              "      <td>64</td>\n",
              "      <td>56</td>\n",
              "      <td>84</td>\n",
              "      <td>58</td>\n",
              "      <td>57</td>\n",
              "      <td>54</td>\n",
              "      <td>79</td>\n",
              "      <td>78</td>\n",
              "    </tr>\n",
              "    <tr>\n",
              "      <th>26</th>\n",
              "      <td>31</td>\n",
              "      <td>48</td>\n",
              "      <td>81</td>\n",
              "      <td>50</td>\n",
              "      <td>43</td>\n",
              "      <td>51</td>\n",
              "      <td>70</td>\n",
              "      <td>67</td>\n",
              "      <td>73</td>\n",
              "      <td>26</td>\n",
              "      <td>...</td>\n",
              "      <td>109</td>\n",
              "      <td>59</td>\n",
              "      <td>65</td>\n",
              "      <td>71</td>\n",
              "      <td>29</td>\n",
              "      <td>52</td>\n",
              "      <td>28</td>\n",
              "      <td>55</td>\n",
              "      <td>85</td>\n",
              "      <td>49</td>\n",
              "    </tr>\n",
              "    <tr>\n",
              "      <th>27</th>\n",
              "      <td>83</td>\n",
              "      <td>72</td>\n",
              "      <td>86</td>\n",
              "      <td>32</td>\n",
              "      <td>59</td>\n",
              "      <td>31</td>\n",
              "      <td>59</td>\n",
              "      <td>47</td>\n",
              "      <td>92</td>\n",
              "      <td>66</td>\n",
              "      <td>...</td>\n",
              "      <td>55</td>\n",
              "      <td>66</td>\n",
              "      <td>54</td>\n",
              "      <td>47</td>\n",
              "      <td>52</td>\n",
              "      <td>54</td>\n",
              "      <td>43</td>\n",
              "      <td>34</td>\n",
              "      <td>72</td>\n",
              "      <td>40</td>\n",
              "    </tr>\n",
              "    <tr>\n",
              "      <th>28</th>\n",
              "      <td>67</td>\n",
              "      <td>60</td>\n",
              "      <td>56</td>\n",
              "      <td>78</td>\n",
              "      <td>58</td>\n",
              "      <td>61</td>\n",
              "      <td>55</td>\n",
              "      <td>47</td>\n",
              "      <td>36</td>\n",
              "      <td>55</td>\n",
              "      <td>...</td>\n",
              "      <td>47</td>\n",
              "      <td>72</td>\n",
              "      <td>46</td>\n",
              "      <td>46</td>\n",
              "      <td>41</td>\n",
              "      <td>62</td>\n",
              "      <td>61</td>\n",
              "      <td>52</td>\n",
              "      <td>56</td>\n",
              "      <td>47</td>\n",
              "    </tr>\n",
              "    <tr>\n",
              "      <th>29</th>\n",
              "      <td>56</td>\n",
              "      <td>38</td>\n",
              "      <td>58</td>\n",
              "      <td>42</td>\n",
              "      <td>60</td>\n",
              "      <td>34</td>\n",
              "      <td>51</td>\n",
              "      <td>82</td>\n",
              "      <td>74</td>\n",
              "      <td>51</td>\n",
              "      <td>...</td>\n",
              "      <td>56</td>\n",
              "      <td>71</td>\n",
              "      <td>59</td>\n",
              "      <td>40</td>\n",
              "      <td>81</td>\n",
              "      <td>39</td>\n",
              "      <td>56</td>\n",
              "      <td>63</td>\n",
              "      <td>68</td>\n",
              "      <td>49</td>\n",
              "    </tr>\n",
              "  </tbody>\n",
              "</table>\n",
              "<p>30 rows × 89 columns</p>\n",
              "</div>\n",
              "      <button class=\"colab-df-convert\" onclick=\"convertToInteractive('df-c525a2be-4b49-4b80-b110-e2d9abc2c4e0')\"\n",
              "              title=\"Convert this dataframe to an interactive table.\"\n",
              "              style=\"display:none;\">\n",
              "        \n",
              "  <svg xmlns=\"http://www.w3.org/2000/svg\" height=\"24px\"viewBox=\"0 0 24 24\"\n",
              "       width=\"24px\">\n",
              "    <path d=\"M0 0h24v24H0V0z\" fill=\"none\"/>\n",
              "    <path d=\"M18.56 5.44l.94 2.06.94-2.06 2.06-.94-2.06-.94-.94-2.06-.94 2.06-2.06.94zm-11 1L8.5 8.5l.94-2.06 2.06-.94-2.06-.94L8.5 2.5l-.94 2.06-2.06.94zm10 10l.94 2.06.94-2.06 2.06-.94-2.06-.94-.94-2.06-.94 2.06-2.06.94z\"/><path d=\"M17.41 7.96l-1.37-1.37c-.4-.4-.92-.59-1.43-.59-.52 0-1.04.2-1.43.59L10.3 9.45l-7.72 7.72c-.78.78-.78 2.05 0 2.83L4 21.41c.39.39.9.59 1.41.59.51 0 1.02-.2 1.41-.59l7.78-7.78 2.81-2.81c.8-.78.8-2.07 0-2.86zM5.41 20L4 18.59l7.72-7.72 1.47 1.35L5.41 20z\"/>\n",
              "  </svg>\n",
              "      </button>\n",
              "      \n",
              "  <style>\n",
              "    .colab-df-container {\n",
              "      display:flex;\n",
              "      flex-wrap:wrap;\n",
              "      gap: 12px;\n",
              "    }\n",
              "\n",
              "    .colab-df-convert {\n",
              "      background-color: #E8F0FE;\n",
              "      border: none;\n",
              "      border-radius: 50%;\n",
              "      cursor: pointer;\n",
              "      display: none;\n",
              "      fill: #1967D2;\n",
              "      height: 32px;\n",
              "      padding: 0 0 0 0;\n",
              "      width: 32px;\n",
              "    }\n",
              "\n",
              "    .colab-df-convert:hover {\n",
              "      background-color: #E2EBFA;\n",
              "      box-shadow: 0px 1px 2px rgba(60, 64, 67, 0.3), 0px 1px 3px 1px rgba(60, 64, 67, 0.15);\n",
              "      fill: #174EA6;\n",
              "    }\n",
              "\n",
              "    [theme=dark] .colab-df-convert {\n",
              "      background-color: #3B4455;\n",
              "      fill: #D2E3FC;\n",
              "    }\n",
              "\n",
              "    [theme=dark] .colab-df-convert:hover {\n",
              "      background-color: #434B5C;\n",
              "      box-shadow: 0px 1px 3px 1px rgba(0, 0, 0, 0.15);\n",
              "      filter: drop-shadow(0px 1px 2px rgba(0, 0, 0, 0.3));\n",
              "      fill: #FFFFFF;\n",
              "    }\n",
              "  </style>\n",
              "\n",
              "      <script>\n",
              "        const buttonEl =\n",
              "          document.querySelector('#df-c525a2be-4b49-4b80-b110-e2d9abc2c4e0 button.colab-df-convert');\n",
              "        buttonEl.style.display =\n",
              "          google.colab.kernel.accessAllowed ? 'block' : 'none';\n",
              "\n",
              "        async function convertToInteractive(key) {\n",
              "          const element = document.querySelector('#df-c525a2be-4b49-4b80-b110-e2d9abc2c4e0');\n",
              "          const dataTable =\n",
              "            await google.colab.kernel.invokeFunction('convertToInteractive',\n",
              "                                                     [key], {});\n",
              "          if (!dataTable) return;\n",
              "\n",
              "          const docLinkHtml = 'Like what you see? Visit the ' +\n",
              "            '<a target=\"_blank\" href=https://colab.research.google.com/notebooks/data_table.ipynb>data table notebook</a>'\n",
              "            + ' to learn more about interactive tables.';\n",
              "          element.innerHTML = '';\n",
              "          dataTable['output_type'] = 'display_data';\n",
              "          await google.colab.output.renderOutput(dataTable, element);\n",
              "          const docLink = document.createElement('div');\n",
              "          docLink.innerHTML = docLinkHtml;\n",
              "          element.appendChild(docLink);\n",
              "        }\n",
              "      </script>\n",
              "    </div>\n",
              "  </div>\n",
              "  "
            ]
          },
          "metadata": {},
          "execution_count": 35
        }
      ],
      "source": [
        "merge30"
      ]
    },
    {
      "cell_type": "markdown",
      "metadata": {
        "id": "SSk8PXd3XD7X"
      },
      "source": [
        "### Month-wise Aggregated values from April_2015 till Sept_2017\n"
      ]
    },
    {
      "cell_type": "code",
      "execution_count": 36,
      "metadata": {
        "id": "oG8dzdUpXD7X"
      },
      "outputs": [],
      "source": [
        "monthlyquantity = daily_Sales.groupby([(daily_Sales.index.year), (daily_Sales.index.month)])['Order Item Quantity'].sum().astype(int)\n",
        "monthlydiscount = daily_Sales.groupby([(daily_Sales.index.year), (daily_Sales.index.month)])['Order Item Discount'].sum().astype(int)"
      ]
    },
    {
      "cell_type": "markdown",
      "metadata": {
        "id": "VB_Q0wT_XD7Y"
      },
      "source": [
        "### Convert into a dataframe"
      ]
    },
    {
      "cell_type": "code",
      "execution_count": 37,
      "metadata": {
        "id": "UckhnIUZXD7Y"
      },
      "outputs": [],
      "source": [
        "Monthly_Quantity=pd.DataFrame(monthlyquantity)\n",
        "Monthly_Discount=pd.DataFrame(monthlydiscount)"
      ]
    },
    {
      "cell_type": "code",
      "execution_count": 38,
      "metadata": {
        "id": "51NYAXnOXD7Y"
      },
      "outputs": [],
      "source": [
        "a = Monthly_Quantity.index.get_level_values(0)\n",
        "b = Monthly_Quantity.index.get_level_values(1)\n",
        "c = Monthly_Discount.index.get_level_values(0)\n",
        "e = Monthly_Discount.index.get_level_values(1)"
      ]
    },
    {
      "cell_type": "code",
      "execution_count": 39,
      "metadata": {
        "id": "qiJ4B1GIXD7Z"
      },
      "outputs": [],
      "source": [
        "Monthly_Quantity['Index'] = pd.to_datetime(a* 10000 + b * 100 + 1, format=\"%Y%m%d\")\n",
        "Monthly_Discount['Index'] = pd.to_datetime(c* 10000 + e * 100 + 1, format=\"%Y%m%d\")\n",
        "\n",
        "Monthly_Quantity.set_index('Index', append=True, inplace=True)\n",
        "Monthly_Discount.set_index('Index', append=True, inplace=True)\n",
        "\n",
        "Monthly_Quantity=Monthly_Quantity.droplevel(0)\n",
        "Monthly_Quantity=Monthly_Quantity.droplevel(0)\n",
        "Monthly_Discount=Monthly_Discount.droplevel(0)\n",
        "Monthly_Discount=Monthly_Discount.droplevel(0)"
      ]
    },
    {
      "cell_type": "code",
      "execution_count": 40,
      "metadata": {
        "id": "oamy8uYBXD7Z",
        "colab": {
          "base_uri": "https://localhost:8080/",
          "height": 237
        },
        "outputId": "38cc644c-8af4-4a53-e6c9-05d205f9b68b"
      },
      "outputs": [
        {
          "output_type": "execute_result",
          "data": {
            "text/plain": [
              "            Order Item Quantity\n",
              "Index                          \n",
              "2017-06-01                 1552\n",
              "2017-07-01                 1736\n",
              "2017-08-01                 1699\n",
              "2017-09-01                 1609\n",
              "2017-10-01                   68"
            ],
            "text/html": [
              "\n",
              "  <div id=\"df-b4953d87-433f-418e-a543-69ebae62a4d2\">\n",
              "    <div class=\"colab-df-container\">\n",
              "      <div>\n",
              "<style scoped>\n",
              "    .dataframe tbody tr th:only-of-type {\n",
              "        vertical-align: middle;\n",
              "    }\n",
              "\n",
              "    .dataframe tbody tr th {\n",
              "        vertical-align: top;\n",
              "    }\n",
              "\n",
              "    .dataframe thead th {\n",
              "        text-align: right;\n",
              "    }\n",
              "</style>\n",
              "<table border=\"1\" class=\"dataframe\">\n",
              "  <thead>\n",
              "    <tr style=\"text-align: right;\">\n",
              "      <th></th>\n",
              "      <th>Order Item Quantity</th>\n",
              "    </tr>\n",
              "    <tr>\n",
              "      <th>Index</th>\n",
              "      <th></th>\n",
              "    </tr>\n",
              "  </thead>\n",
              "  <tbody>\n",
              "    <tr>\n",
              "      <th>2017-06-01</th>\n",
              "      <td>1552</td>\n",
              "    </tr>\n",
              "    <tr>\n",
              "      <th>2017-07-01</th>\n",
              "      <td>1736</td>\n",
              "    </tr>\n",
              "    <tr>\n",
              "      <th>2017-08-01</th>\n",
              "      <td>1699</td>\n",
              "    </tr>\n",
              "    <tr>\n",
              "      <th>2017-09-01</th>\n",
              "      <td>1609</td>\n",
              "    </tr>\n",
              "    <tr>\n",
              "      <th>2017-10-01</th>\n",
              "      <td>68</td>\n",
              "    </tr>\n",
              "  </tbody>\n",
              "</table>\n",
              "</div>\n",
              "      <button class=\"colab-df-convert\" onclick=\"convertToInteractive('df-b4953d87-433f-418e-a543-69ebae62a4d2')\"\n",
              "              title=\"Convert this dataframe to an interactive table.\"\n",
              "              style=\"display:none;\">\n",
              "        \n",
              "  <svg xmlns=\"http://www.w3.org/2000/svg\" height=\"24px\"viewBox=\"0 0 24 24\"\n",
              "       width=\"24px\">\n",
              "    <path d=\"M0 0h24v24H0V0z\" fill=\"none\"/>\n",
              "    <path d=\"M18.56 5.44l.94 2.06.94-2.06 2.06-.94-2.06-.94-.94-2.06-.94 2.06-2.06.94zm-11 1L8.5 8.5l.94-2.06 2.06-.94-2.06-.94L8.5 2.5l-.94 2.06-2.06.94zm10 10l.94 2.06.94-2.06 2.06-.94-2.06-.94-.94-2.06-.94 2.06-2.06.94z\"/><path d=\"M17.41 7.96l-1.37-1.37c-.4-.4-.92-.59-1.43-.59-.52 0-1.04.2-1.43.59L10.3 9.45l-7.72 7.72c-.78.78-.78 2.05 0 2.83L4 21.41c.39.39.9.59 1.41.59.51 0 1.02-.2 1.41-.59l7.78-7.78 2.81-2.81c.8-.78.8-2.07 0-2.86zM5.41 20L4 18.59l7.72-7.72 1.47 1.35L5.41 20z\"/>\n",
              "  </svg>\n",
              "      </button>\n",
              "      \n",
              "  <style>\n",
              "    .colab-df-container {\n",
              "      display:flex;\n",
              "      flex-wrap:wrap;\n",
              "      gap: 12px;\n",
              "    }\n",
              "\n",
              "    .colab-df-convert {\n",
              "      background-color: #E8F0FE;\n",
              "      border: none;\n",
              "      border-radius: 50%;\n",
              "      cursor: pointer;\n",
              "      display: none;\n",
              "      fill: #1967D2;\n",
              "      height: 32px;\n",
              "      padding: 0 0 0 0;\n",
              "      width: 32px;\n",
              "    }\n",
              "\n",
              "    .colab-df-convert:hover {\n",
              "      background-color: #E2EBFA;\n",
              "      box-shadow: 0px 1px 2px rgba(60, 64, 67, 0.3), 0px 1px 3px 1px rgba(60, 64, 67, 0.15);\n",
              "      fill: #174EA6;\n",
              "    }\n",
              "\n",
              "    [theme=dark] .colab-df-convert {\n",
              "      background-color: #3B4455;\n",
              "      fill: #D2E3FC;\n",
              "    }\n",
              "\n",
              "    [theme=dark] .colab-df-convert:hover {\n",
              "      background-color: #434B5C;\n",
              "      box-shadow: 0px 1px 3px 1px rgba(0, 0, 0, 0.15);\n",
              "      filter: drop-shadow(0px 1px 2px rgba(0, 0, 0, 0.3));\n",
              "      fill: #FFFFFF;\n",
              "    }\n",
              "  </style>\n",
              "\n",
              "      <script>\n",
              "        const buttonEl =\n",
              "          document.querySelector('#df-b4953d87-433f-418e-a543-69ebae62a4d2 button.colab-df-convert');\n",
              "        buttonEl.style.display =\n",
              "          google.colab.kernel.accessAllowed ? 'block' : 'none';\n",
              "\n",
              "        async function convertToInteractive(key) {\n",
              "          const element = document.querySelector('#df-b4953d87-433f-418e-a543-69ebae62a4d2');\n",
              "          const dataTable =\n",
              "            await google.colab.kernel.invokeFunction('convertToInteractive',\n",
              "                                                     [key], {});\n",
              "          if (!dataTable) return;\n",
              "\n",
              "          const docLinkHtml = 'Like what you see? Visit the ' +\n",
              "            '<a target=\"_blank\" href=https://colab.research.google.com/notebooks/data_table.ipynb>data table notebook</a>'\n",
              "            + ' to learn more about interactive tables.';\n",
              "          element.innerHTML = '';\n",
              "          dataTable['output_type'] = 'display_data';\n",
              "          await google.colab.output.renderOutput(dataTable, element);\n",
              "          const docLink = document.createElement('div');\n",
              "          docLink.innerHTML = docLinkHtml;\n",
              "          element.appendChild(docLink);\n",
              "        }\n",
              "      </script>\n",
              "    </div>\n",
              "  </div>\n",
              "  "
            ]
          },
          "metadata": {},
          "execution_count": 40
        }
      ],
      "source": [
        "Monthly_Quantity.tail()"
      ]
    },
    {
      "cell_type": "code",
      "execution_count": 41,
      "metadata": {
        "id": "MNiBoiUhXD7Z",
        "colab": {
          "base_uri": "https://localhost:8080/"
        },
        "outputId": "1312ca07-4c4c-4714-ba61-0fbb46a6ba95"
      },
      "outputs": [
        {
          "output_type": "execute_result",
          "data": {
            "text/plain": [
              "(34, 1)"
            ]
          },
          "metadata": {},
          "execution_count": 41
        }
      ],
      "source": [
        "Monthly_Quantity.shape"
      ]
    },
    {
      "cell_type": "markdown",
      "metadata": {
        "id": "co-jJc-BXD7Z"
      },
      "source": [
        "### Slicing and Selecting monthly Items sold from April_2015 till Sept_2017"
      ]
    },
    {
      "cell_type": "code",
      "execution_count": 42,
      "metadata": {
        "id": "BbPt0yMlXD7a"
      },
      "outputs": [],
      "source": [
        "MonthlyDiscount = Monthly_Discount.iloc[3:33]\n",
        "MonthlyQuantity = Monthly_Quantity.iloc[3:33]"
      ]
    },
    {
      "cell_type": "code",
      "execution_count": 43,
      "metadata": {
        "id": "h2ZoO6JGXD7a",
        "colab": {
          "base_uri": "https://localhost:8080/"
        },
        "outputId": "e34ee20e-774b-46ad-9503-80d43d0b39ae"
      },
      "outputs": [
        {
          "output_type": "execute_result",
          "data": {
            "text/plain": [
              "(30, 1)"
            ]
          },
          "metadata": {},
          "execution_count": 43
        }
      ],
      "source": [
        "MonthlyQuantity.shape"
      ]
    },
    {
      "cell_type": "markdown",
      "metadata": {
        "id": "SvQ1j356XD7a"
      },
      "source": [
        "### List down the values of monthly Item Quantity sold from April_2015 till Sept_2017"
      ]
    },
    {
      "cell_type": "code",
      "execution_count": 44,
      "metadata": {
        "id": "joelOQ3zXD7b",
        "colab": {
          "base_uri": "https://localhost:8080/"
        },
        "outputId": "18e902d0-457e-4370-f1bc-d7e844a1e3c7"
      },
      "outputs": [
        {
          "output_type": "stream",
          "name": "stdout",
          "text": [
            "[1765, 1712, 1701, 1835, 1566, 1793, 1803, 1789, 1856, 1830, 1780, 1669, 1648, 1770, 1585, 1805, 1605, 1741, 1995, 1759, 1860, 1771, 1764, 1720, 1836, 1775, 1552, 1736, 1699, 1609]\n",
            "[8827, 8682, 8561, 9383, 7876, 9217, 9016, 9103, 9257, 9247, 9035, 8341, 8444, 8883, 8073, 9212, 8055, 8750, 10079, 8855, 9333, 8967, 8896, 8662, 9403, 8864, 7870, 8806, 8698, 8118]\n"
          ]
        }
      ],
      "source": [
        "MonthlyItemQuantity = MonthlyQuantity['Order Item Quantity'].tolist()\n",
        "MonthlyItemDiscount = MonthlyDiscount['Order Item Discount'].tolist()\n",
        "print(MonthlyItemQuantity)\n",
        "print(MonthlyItemDiscount)"
      ]
    },
    {
      "cell_type": "markdown",
      "metadata": {
        "id": "YWfCl9V-XD7b"
      },
      "source": [
        "### Create copy of the dataset\n"
      ]
    },
    {
      "cell_type": "code",
      "execution_count": 45,
      "metadata": {
        "id": "9FuqiwjwXD7b"
      },
      "outputs": [],
      "source": [
        "df1 = merge30.copy()"
      ]
    },
    {
      "cell_type": "code",
      "execution_count": 46,
      "metadata": {
        "id": "vgooIRnIXD7b",
        "colab": {
          "base_uri": "https://localhost:8080/",
          "height": 1000
        },
        "outputId": "2fe9adfb-29d7-413a-f07c-acd0c7882cb7"
      },
      "outputs": [
        {
          "output_type": "execute_result",
          "data": {
            "text/plain": [
              "    Day0  Day1  Day2  Day3  Day4  Day5  Day6  Day7  Day8  Day9  ...  Day79  \\\n",
              "0     62    54    47    58    79    63    41    39    57    54  ...     47   \n",
              "1     24    56    95    58    67    58    58    36    79    53  ...     37   \n",
              "2     59    59    67    81    65    56    40    43    82    40  ...     80   \n",
              "3     73    34    70    35    53    51    65    50    69    56  ...     60   \n",
              "4     40    79    53    74    65    44    53    82    50    45  ...     45   \n",
              "5     76    46    48    62    74    51    42    35    55    37  ...     56   \n",
              "6     51    76    64    59    43    69    56    68    51    54  ...     50   \n",
              "7     67    55    52    63    53    44    45    57    70    32  ...     50   \n",
              "8     56    68    45    64    53    51    43    65    49    62  ...     62   \n",
              "9     72    68    72    23    68    41    50    74    33    78  ...     47   \n",
              "10    86    66    53    38    69    48    56    70    76    81  ...     50   \n",
              "11    53    40    35    50    62    52    53    54    60    55  ...     29   \n",
              "12    51    30    56    46    64    77    39    70    72    59  ...     34   \n",
              "13    72    59    57    84    57    77    57    68    64    86  ...     50   \n",
              "14    50    79    61    51    51    49    41    76    68    56  ...     58   \n",
              "15    51    37    62    40    53    51    40    64    71    78  ...     60   \n",
              "16    47    59    54    61    72    76    35    57    44    38  ...     70   \n",
              "17    96    39    60    51    26    49    55    53    48    64  ...     60   \n",
              "18    37    85    45    43    46    57    65    49    66    50  ...     61   \n",
              "19    53    64    58    68    38    37    43    57    53    43  ...     70   \n",
              "20    58    50    61    54    54    56    63    23    38    75  ...     55   \n",
              "21    84    50    61    59    60    44    73    82    58    79  ...     64   \n",
              "22    57    50    38    48    44    66    48    34    90    65  ...     43   \n",
              "23    55    53    52    67    54    64    66    64    51    77  ...     67   \n",
              "24    31    68    42    57    46    56    72    45    54    69  ...     57   \n",
              "25    72    59    70    65    59    88    60    57    43    59  ...     74   \n",
              "26    31    48    81    50    43    51    70    67    73    26  ...    109   \n",
              "27    83    72    86    32    59    31    59    47    92    66  ...     55   \n",
              "28    67    60    56    78    58    61    55    47    36    55  ...     47   \n",
              "29    56    38    58    42    60    34    51    82    74    51  ...     56   \n",
              "\n",
              "    Day80  Day81  Day82  Day83  Day84  Day85  Day86  Day87  Day88  \n",
              "0      63     65     74     86     66     54     43     82     63  \n",
              "1      48     35     67     84     78     48     55     65     56  \n",
              "2      49     29     44     46     45     65     57     42     81  \n",
              "3      42     54     21     46     56     61     46     89     68  \n",
              "4      85     40     65     67     79     67     36     54     45  \n",
              "5      21     26     79     79     43     22     64     60     56  \n",
              "6      79     49     39     45     58     50     54     26     70  \n",
              "7      68     69     61     49     71     62     38     48     57  \n",
              "8      56     80     47     54     72     66     55     41     31  \n",
              "9      73     88     95     44     58     77     54     78     45  \n",
              "10     60     60     77     75     62     56     59     70     59  \n",
              "11     54     59     61     67     44     84     46     37     47  \n",
              "12     68     52     45     49     56     40     56     47     70  \n",
              "13     60     72     51     47     63     34     51     36     57  \n",
              "14     61     77     34     49     61     66     71     45     46  \n",
              "15     32     63     54     43     42     75     53     51     49  \n",
              "16     58     45     49     43     67     59     58     62     47  \n",
              "17     44     32     62     47     49     34     43     44     55  \n",
              "18     53     31     51     62     54     61     63     68     65  \n",
              "19     62     69     49     40     80     61     63     69     50  \n",
              "20     56     53     57     77     56     77     33     67     49  \n",
              "21     74     65     62     49     69     81     60     63     59  \n",
              "22     65     68     43     62     87     68     59     56     68  \n",
              "23     60     69     64     94     68     59     56     42     57  \n",
              "24     77     43     44     26     37     68     74     77     57  \n",
              "25     58     64     56     84     58     57     54     79     78  \n",
              "26     59     65     71     29     52     28     55     85     49  \n",
              "27     66     54     47     52     54     43     34     72     40  \n",
              "28     72     46     46     41     62     61     52     56     47  \n",
              "29     71     59     40     81     39     56     63     68     49  \n",
              "\n",
              "[30 rows x 89 columns]"
            ],
            "text/html": [
              "\n",
              "  <div id=\"df-864efed8-637d-4511-8a8b-7ae21274678d\">\n",
              "    <div class=\"colab-df-container\">\n",
              "      <div>\n",
              "<style scoped>\n",
              "    .dataframe tbody tr th:only-of-type {\n",
              "        vertical-align: middle;\n",
              "    }\n",
              "\n",
              "    .dataframe tbody tr th {\n",
              "        vertical-align: top;\n",
              "    }\n",
              "\n",
              "    .dataframe thead th {\n",
              "        text-align: right;\n",
              "    }\n",
              "</style>\n",
              "<table border=\"1\" class=\"dataframe\">\n",
              "  <thead>\n",
              "    <tr style=\"text-align: right;\">\n",
              "      <th></th>\n",
              "      <th>Day0</th>\n",
              "      <th>Day1</th>\n",
              "      <th>Day2</th>\n",
              "      <th>Day3</th>\n",
              "      <th>Day4</th>\n",
              "      <th>Day5</th>\n",
              "      <th>Day6</th>\n",
              "      <th>Day7</th>\n",
              "      <th>Day8</th>\n",
              "      <th>Day9</th>\n",
              "      <th>...</th>\n",
              "      <th>Day79</th>\n",
              "      <th>Day80</th>\n",
              "      <th>Day81</th>\n",
              "      <th>Day82</th>\n",
              "      <th>Day83</th>\n",
              "      <th>Day84</th>\n",
              "      <th>Day85</th>\n",
              "      <th>Day86</th>\n",
              "      <th>Day87</th>\n",
              "      <th>Day88</th>\n",
              "    </tr>\n",
              "  </thead>\n",
              "  <tbody>\n",
              "    <tr>\n",
              "      <th>0</th>\n",
              "      <td>62</td>\n",
              "      <td>54</td>\n",
              "      <td>47</td>\n",
              "      <td>58</td>\n",
              "      <td>79</td>\n",
              "      <td>63</td>\n",
              "      <td>41</td>\n",
              "      <td>39</td>\n",
              "      <td>57</td>\n",
              "      <td>54</td>\n",
              "      <td>...</td>\n",
              "      <td>47</td>\n",
              "      <td>63</td>\n",
              "      <td>65</td>\n",
              "      <td>74</td>\n",
              "      <td>86</td>\n",
              "      <td>66</td>\n",
              "      <td>54</td>\n",
              "      <td>43</td>\n",
              "      <td>82</td>\n",
              "      <td>63</td>\n",
              "    </tr>\n",
              "    <tr>\n",
              "      <th>1</th>\n",
              "      <td>24</td>\n",
              "      <td>56</td>\n",
              "      <td>95</td>\n",
              "      <td>58</td>\n",
              "      <td>67</td>\n",
              "      <td>58</td>\n",
              "      <td>58</td>\n",
              "      <td>36</td>\n",
              "      <td>79</td>\n",
              "      <td>53</td>\n",
              "      <td>...</td>\n",
              "      <td>37</td>\n",
              "      <td>48</td>\n",
              "      <td>35</td>\n",
              "      <td>67</td>\n",
              "      <td>84</td>\n",
              "      <td>78</td>\n",
              "      <td>48</td>\n",
              "      <td>55</td>\n",
              "      <td>65</td>\n",
              "      <td>56</td>\n",
              "    </tr>\n",
              "    <tr>\n",
              "      <th>2</th>\n",
              "      <td>59</td>\n",
              "      <td>59</td>\n",
              "      <td>67</td>\n",
              "      <td>81</td>\n",
              "      <td>65</td>\n",
              "      <td>56</td>\n",
              "      <td>40</td>\n",
              "      <td>43</td>\n",
              "      <td>82</td>\n",
              "      <td>40</td>\n",
              "      <td>...</td>\n",
              "      <td>80</td>\n",
              "      <td>49</td>\n",
              "      <td>29</td>\n",
              "      <td>44</td>\n",
              "      <td>46</td>\n",
              "      <td>45</td>\n",
              "      <td>65</td>\n",
              "      <td>57</td>\n",
              "      <td>42</td>\n",
              "      <td>81</td>\n",
              "    </tr>\n",
              "    <tr>\n",
              "      <th>3</th>\n",
              "      <td>73</td>\n",
              "      <td>34</td>\n",
              "      <td>70</td>\n",
              "      <td>35</td>\n",
              "      <td>53</td>\n",
              "      <td>51</td>\n",
              "      <td>65</td>\n",
              "      <td>50</td>\n",
              "      <td>69</td>\n",
              "      <td>56</td>\n",
              "      <td>...</td>\n",
              "      <td>60</td>\n",
              "      <td>42</td>\n",
              "      <td>54</td>\n",
              "      <td>21</td>\n",
              "      <td>46</td>\n",
              "      <td>56</td>\n",
              "      <td>61</td>\n",
              "      <td>46</td>\n",
              "      <td>89</td>\n",
              "      <td>68</td>\n",
              "    </tr>\n",
              "    <tr>\n",
              "      <th>4</th>\n",
              "      <td>40</td>\n",
              "      <td>79</td>\n",
              "      <td>53</td>\n",
              "      <td>74</td>\n",
              "      <td>65</td>\n",
              "      <td>44</td>\n",
              "      <td>53</td>\n",
              "      <td>82</td>\n",
              "      <td>50</td>\n",
              "      <td>45</td>\n",
              "      <td>...</td>\n",
              "      <td>45</td>\n",
              "      <td>85</td>\n",
              "      <td>40</td>\n",
              "      <td>65</td>\n",
              "      <td>67</td>\n",
              "      <td>79</td>\n",
              "      <td>67</td>\n",
              "      <td>36</td>\n",
              "      <td>54</td>\n",
              "      <td>45</td>\n",
              "    </tr>\n",
              "    <tr>\n",
              "      <th>5</th>\n",
              "      <td>76</td>\n",
              "      <td>46</td>\n",
              "      <td>48</td>\n",
              "      <td>62</td>\n",
              "      <td>74</td>\n",
              "      <td>51</td>\n",
              "      <td>42</td>\n",
              "      <td>35</td>\n",
              "      <td>55</td>\n",
              "      <td>37</td>\n",
              "      <td>...</td>\n",
              "      <td>56</td>\n",
              "      <td>21</td>\n",
              "      <td>26</td>\n",
              "      <td>79</td>\n",
              "      <td>79</td>\n",
              "      <td>43</td>\n",
              "      <td>22</td>\n",
              "      <td>64</td>\n",
              "      <td>60</td>\n",
              "      <td>56</td>\n",
              "    </tr>\n",
              "    <tr>\n",
              "      <th>6</th>\n",
              "      <td>51</td>\n",
              "      <td>76</td>\n",
              "      <td>64</td>\n",
              "      <td>59</td>\n",
              "      <td>43</td>\n",
              "      <td>69</td>\n",
              "      <td>56</td>\n",
              "      <td>68</td>\n",
              "      <td>51</td>\n",
              "      <td>54</td>\n",
              "      <td>...</td>\n",
              "      <td>50</td>\n",
              "      <td>79</td>\n",
              "      <td>49</td>\n",
              "      <td>39</td>\n",
              "      <td>45</td>\n",
              "      <td>58</td>\n",
              "      <td>50</td>\n",
              "      <td>54</td>\n",
              "      <td>26</td>\n",
              "      <td>70</td>\n",
              "    </tr>\n",
              "    <tr>\n",
              "      <th>7</th>\n",
              "      <td>67</td>\n",
              "      <td>55</td>\n",
              "      <td>52</td>\n",
              "      <td>63</td>\n",
              "      <td>53</td>\n",
              "      <td>44</td>\n",
              "      <td>45</td>\n",
              "      <td>57</td>\n",
              "      <td>70</td>\n",
              "      <td>32</td>\n",
              "      <td>...</td>\n",
              "      <td>50</td>\n",
              "      <td>68</td>\n",
              "      <td>69</td>\n",
              "      <td>61</td>\n",
              "      <td>49</td>\n",
              "      <td>71</td>\n",
              "      <td>62</td>\n",
              "      <td>38</td>\n",
              "      <td>48</td>\n",
              "      <td>57</td>\n",
              "    </tr>\n",
              "    <tr>\n",
              "      <th>8</th>\n",
              "      <td>56</td>\n",
              "      <td>68</td>\n",
              "      <td>45</td>\n",
              "      <td>64</td>\n",
              "      <td>53</td>\n",
              "      <td>51</td>\n",
              "      <td>43</td>\n",
              "      <td>65</td>\n",
              "      <td>49</td>\n",
              "      <td>62</td>\n",
              "      <td>...</td>\n",
              "      <td>62</td>\n",
              "      <td>56</td>\n",
              "      <td>80</td>\n",
              "      <td>47</td>\n",
              "      <td>54</td>\n",
              "      <td>72</td>\n",
              "      <td>66</td>\n",
              "      <td>55</td>\n",
              "      <td>41</td>\n",
              "      <td>31</td>\n",
              "    </tr>\n",
              "    <tr>\n",
              "      <th>9</th>\n",
              "      <td>72</td>\n",
              "      <td>68</td>\n",
              "      <td>72</td>\n",
              "      <td>23</td>\n",
              "      <td>68</td>\n",
              "      <td>41</td>\n",
              "      <td>50</td>\n",
              "      <td>74</td>\n",
              "      <td>33</td>\n",
              "      <td>78</td>\n",
              "      <td>...</td>\n",
              "      <td>47</td>\n",
              "      <td>73</td>\n",
              "      <td>88</td>\n",
              "      <td>95</td>\n",
              "      <td>44</td>\n",
              "      <td>58</td>\n",
              "      <td>77</td>\n",
              "      <td>54</td>\n",
              "      <td>78</td>\n",
              "      <td>45</td>\n",
              "    </tr>\n",
              "    <tr>\n",
              "      <th>10</th>\n",
              "      <td>86</td>\n",
              "      <td>66</td>\n",
              "      <td>53</td>\n",
              "      <td>38</td>\n",
              "      <td>69</td>\n",
              "      <td>48</td>\n",
              "      <td>56</td>\n",
              "      <td>70</td>\n",
              "      <td>76</td>\n",
              "      <td>81</td>\n",
              "      <td>...</td>\n",
              "      <td>50</td>\n",
              "      <td>60</td>\n",
              "      <td>60</td>\n",
              "      <td>77</td>\n",
              "      <td>75</td>\n",
              "      <td>62</td>\n",
              "      <td>56</td>\n",
              "      <td>59</td>\n",
              "      <td>70</td>\n",
              "      <td>59</td>\n",
              "    </tr>\n",
              "    <tr>\n",
              "      <th>11</th>\n",
              "      <td>53</td>\n",
              "      <td>40</td>\n",
              "      <td>35</td>\n",
              "      <td>50</td>\n",
              "      <td>62</td>\n",
              "      <td>52</td>\n",
              "      <td>53</td>\n",
              "      <td>54</td>\n",
              "      <td>60</td>\n",
              "      <td>55</td>\n",
              "      <td>...</td>\n",
              "      <td>29</td>\n",
              "      <td>54</td>\n",
              "      <td>59</td>\n",
              "      <td>61</td>\n",
              "      <td>67</td>\n",
              "      <td>44</td>\n",
              "      <td>84</td>\n",
              "      <td>46</td>\n",
              "      <td>37</td>\n",
              "      <td>47</td>\n",
              "    </tr>\n",
              "    <tr>\n",
              "      <th>12</th>\n",
              "      <td>51</td>\n",
              "      <td>30</td>\n",
              "      <td>56</td>\n",
              "      <td>46</td>\n",
              "      <td>64</td>\n",
              "      <td>77</td>\n",
              "      <td>39</td>\n",
              "      <td>70</td>\n",
              "      <td>72</td>\n",
              "      <td>59</td>\n",
              "      <td>...</td>\n",
              "      <td>34</td>\n",
              "      <td>68</td>\n",
              "      <td>52</td>\n",
              "      <td>45</td>\n",
              "      <td>49</td>\n",
              "      <td>56</td>\n",
              "      <td>40</td>\n",
              "      <td>56</td>\n",
              "      <td>47</td>\n",
              "      <td>70</td>\n",
              "    </tr>\n",
              "    <tr>\n",
              "      <th>13</th>\n",
              "      <td>72</td>\n",
              "      <td>59</td>\n",
              "      <td>57</td>\n",
              "      <td>84</td>\n",
              "      <td>57</td>\n",
              "      <td>77</td>\n",
              "      <td>57</td>\n",
              "      <td>68</td>\n",
              "      <td>64</td>\n",
              "      <td>86</td>\n",
              "      <td>...</td>\n",
              "      <td>50</td>\n",
              "      <td>60</td>\n",
              "      <td>72</td>\n",
              "      <td>51</td>\n",
              "      <td>47</td>\n",
              "      <td>63</td>\n",
              "      <td>34</td>\n",
              "      <td>51</td>\n",
              "      <td>36</td>\n",
              "      <td>57</td>\n",
              "    </tr>\n",
              "    <tr>\n",
              "      <th>14</th>\n",
              "      <td>50</td>\n",
              "      <td>79</td>\n",
              "      <td>61</td>\n",
              "      <td>51</td>\n",
              "      <td>51</td>\n",
              "      <td>49</td>\n",
              "      <td>41</td>\n",
              "      <td>76</td>\n",
              "      <td>68</td>\n",
              "      <td>56</td>\n",
              "      <td>...</td>\n",
              "      <td>58</td>\n",
              "      <td>61</td>\n",
              "      <td>77</td>\n",
              "      <td>34</td>\n",
              "      <td>49</td>\n",
              "      <td>61</td>\n",
              "      <td>66</td>\n",
              "      <td>71</td>\n",
              "      <td>45</td>\n",
              "      <td>46</td>\n",
              "    </tr>\n",
              "    <tr>\n",
              "      <th>15</th>\n",
              "      <td>51</td>\n",
              "      <td>37</td>\n",
              "      <td>62</td>\n",
              "      <td>40</td>\n",
              "      <td>53</td>\n",
              "      <td>51</td>\n",
              "      <td>40</td>\n",
              "      <td>64</td>\n",
              "      <td>71</td>\n",
              "      <td>78</td>\n",
              "      <td>...</td>\n",
              "      <td>60</td>\n",
              "      <td>32</td>\n",
              "      <td>63</td>\n",
              "      <td>54</td>\n",
              "      <td>43</td>\n",
              "      <td>42</td>\n",
              "      <td>75</td>\n",
              "      <td>53</td>\n",
              "      <td>51</td>\n",
              "      <td>49</td>\n",
              "    </tr>\n",
              "    <tr>\n",
              "      <th>16</th>\n",
              "      <td>47</td>\n",
              "      <td>59</td>\n",
              "      <td>54</td>\n",
              "      <td>61</td>\n",
              "      <td>72</td>\n",
              "      <td>76</td>\n",
              "      <td>35</td>\n",
              "      <td>57</td>\n",
              "      <td>44</td>\n",
              "      <td>38</td>\n",
              "      <td>...</td>\n",
              "      <td>70</td>\n",
              "      <td>58</td>\n",
              "      <td>45</td>\n",
              "      <td>49</td>\n",
              "      <td>43</td>\n",
              "      <td>67</td>\n",
              "      <td>59</td>\n",
              "      <td>58</td>\n",
              "      <td>62</td>\n",
              "      <td>47</td>\n",
              "    </tr>\n",
              "    <tr>\n",
              "      <th>17</th>\n",
              "      <td>96</td>\n",
              "      <td>39</td>\n",
              "      <td>60</td>\n",
              "      <td>51</td>\n",
              "      <td>26</td>\n",
              "      <td>49</td>\n",
              "      <td>55</td>\n",
              "      <td>53</td>\n",
              "      <td>48</td>\n",
              "      <td>64</td>\n",
              "      <td>...</td>\n",
              "      <td>60</td>\n",
              "      <td>44</td>\n",
              "      <td>32</td>\n",
              "      <td>62</td>\n",
              "      <td>47</td>\n",
              "      <td>49</td>\n",
              "      <td>34</td>\n",
              "      <td>43</td>\n",
              "      <td>44</td>\n",
              "      <td>55</td>\n",
              "    </tr>\n",
              "    <tr>\n",
              "      <th>18</th>\n",
              "      <td>37</td>\n",
              "      <td>85</td>\n",
              "      <td>45</td>\n",
              "      <td>43</td>\n",
              "      <td>46</td>\n",
              "      <td>57</td>\n",
              "      <td>65</td>\n",
              "      <td>49</td>\n",
              "      <td>66</td>\n",
              "      <td>50</td>\n",
              "      <td>...</td>\n",
              "      <td>61</td>\n",
              "      <td>53</td>\n",
              "      <td>31</td>\n",
              "      <td>51</td>\n",
              "      <td>62</td>\n",
              "      <td>54</td>\n",
              "      <td>61</td>\n",
              "      <td>63</td>\n",
              "      <td>68</td>\n",
              "      <td>65</td>\n",
              "    </tr>\n",
              "    <tr>\n",
              "      <th>19</th>\n",
              "      <td>53</td>\n",
              "      <td>64</td>\n",
              "      <td>58</td>\n",
              "      <td>68</td>\n",
              "      <td>38</td>\n",
              "      <td>37</td>\n",
              "      <td>43</td>\n",
              "      <td>57</td>\n",
              "      <td>53</td>\n",
              "      <td>43</td>\n",
              "      <td>...</td>\n",
              "      <td>70</td>\n",
              "      <td>62</td>\n",
              "      <td>69</td>\n",
              "      <td>49</td>\n",
              "      <td>40</td>\n",
              "      <td>80</td>\n",
              "      <td>61</td>\n",
              "      <td>63</td>\n",
              "      <td>69</td>\n",
              "      <td>50</td>\n",
              "    </tr>\n",
              "    <tr>\n",
              "      <th>20</th>\n",
              "      <td>58</td>\n",
              "      <td>50</td>\n",
              "      <td>61</td>\n",
              "      <td>54</td>\n",
              "      <td>54</td>\n",
              "      <td>56</td>\n",
              "      <td>63</td>\n",
              "      <td>23</td>\n",
              "      <td>38</td>\n",
              "      <td>75</td>\n",
              "      <td>...</td>\n",
              "      <td>55</td>\n",
              "      <td>56</td>\n",
              "      <td>53</td>\n",
              "      <td>57</td>\n",
              "      <td>77</td>\n",
              "      <td>56</td>\n",
              "      <td>77</td>\n",
              "      <td>33</td>\n",
              "      <td>67</td>\n",
              "      <td>49</td>\n",
              "    </tr>\n",
              "    <tr>\n",
              "      <th>21</th>\n",
              "      <td>84</td>\n",
              "      <td>50</td>\n",
              "      <td>61</td>\n",
              "      <td>59</td>\n",
              "      <td>60</td>\n",
              "      <td>44</td>\n",
              "      <td>73</td>\n",
              "      <td>82</td>\n",
              "      <td>58</td>\n",
              "      <td>79</td>\n",
              "      <td>...</td>\n",
              "      <td>64</td>\n",
              "      <td>74</td>\n",
              "      <td>65</td>\n",
              "      <td>62</td>\n",
              "      <td>49</td>\n",
              "      <td>69</td>\n",
              "      <td>81</td>\n",
              "      <td>60</td>\n",
              "      <td>63</td>\n",
              "      <td>59</td>\n",
              "    </tr>\n",
              "    <tr>\n",
              "      <th>22</th>\n",
              "      <td>57</td>\n",
              "      <td>50</td>\n",
              "      <td>38</td>\n",
              "      <td>48</td>\n",
              "      <td>44</td>\n",
              "      <td>66</td>\n",
              "      <td>48</td>\n",
              "      <td>34</td>\n",
              "      <td>90</td>\n",
              "      <td>65</td>\n",
              "      <td>...</td>\n",
              "      <td>43</td>\n",
              "      <td>65</td>\n",
              "      <td>68</td>\n",
              "      <td>43</td>\n",
              "      <td>62</td>\n",
              "      <td>87</td>\n",
              "      <td>68</td>\n",
              "      <td>59</td>\n",
              "      <td>56</td>\n",
              "      <td>68</td>\n",
              "    </tr>\n",
              "    <tr>\n",
              "      <th>23</th>\n",
              "      <td>55</td>\n",
              "      <td>53</td>\n",
              "      <td>52</td>\n",
              "      <td>67</td>\n",
              "      <td>54</td>\n",
              "      <td>64</td>\n",
              "      <td>66</td>\n",
              "      <td>64</td>\n",
              "      <td>51</td>\n",
              "      <td>77</td>\n",
              "      <td>...</td>\n",
              "      <td>67</td>\n",
              "      <td>60</td>\n",
              "      <td>69</td>\n",
              "      <td>64</td>\n",
              "      <td>94</td>\n",
              "      <td>68</td>\n",
              "      <td>59</td>\n",
              "      <td>56</td>\n",
              "      <td>42</td>\n",
              "      <td>57</td>\n",
              "    </tr>\n",
              "    <tr>\n",
              "      <th>24</th>\n",
              "      <td>31</td>\n",
              "      <td>68</td>\n",
              "      <td>42</td>\n",
              "      <td>57</td>\n",
              "      <td>46</td>\n",
              "      <td>56</td>\n",
              "      <td>72</td>\n",
              "      <td>45</td>\n",
              "      <td>54</td>\n",
              "      <td>69</td>\n",
              "      <td>...</td>\n",
              "      <td>57</td>\n",
              "      <td>77</td>\n",
              "      <td>43</td>\n",
              "      <td>44</td>\n",
              "      <td>26</td>\n",
              "      <td>37</td>\n",
              "      <td>68</td>\n",
              "      <td>74</td>\n",
              "      <td>77</td>\n",
              "      <td>57</td>\n",
              "    </tr>\n",
              "    <tr>\n",
              "      <th>25</th>\n",
              "      <td>72</td>\n",
              "      <td>59</td>\n",
              "      <td>70</td>\n",
              "      <td>65</td>\n",
              "      <td>59</td>\n",
              "      <td>88</td>\n",
              "      <td>60</td>\n",
              "      <td>57</td>\n",
              "      <td>43</td>\n",
              "      <td>59</td>\n",
              "      <td>...</td>\n",
              "      <td>74</td>\n",
              "      <td>58</td>\n",
              "      <td>64</td>\n",
              "      <td>56</td>\n",
              "      <td>84</td>\n",
              "      <td>58</td>\n",
              "      <td>57</td>\n",
              "      <td>54</td>\n",
              "      <td>79</td>\n",
              "      <td>78</td>\n",
              "    </tr>\n",
              "    <tr>\n",
              "      <th>26</th>\n",
              "      <td>31</td>\n",
              "      <td>48</td>\n",
              "      <td>81</td>\n",
              "      <td>50</td>\n",
              "      <td>43</td>\n",
              "      <td>51</td>\n",
              "      <td>70</td>\n",
              "      <td>67</td>\n",
              "      <td>73</td>\n",
              "      <td>26</td>\n",
              "      <td>...</td>\n",
              "      <td>109</td>\n",
              "      <td>59</td>\n",
              "      <td>65</td>\n",
              "      <td>71</td>\n",
              "      <td>29</td>\n",
              "      <td>52</td>\n",
              "      <td>28</td>\n",
              "      <td>55</td>\n",
              "      <td>85</td>\n",
              "      <td>49</td>\n",
              "    </tr>\n",
              "    <tr>\n",
              "      <th>27</th>\n",
              "      <td>83</td>\n",
              "      <td>72</td>\n",
              "      <td>86</td>\n",
              "      <td>32</td>\n",
              "      <td>59</td>\n",
              "      <td>31</td>\n",
              "      <td>59</td>\n",
              "      <td>47</td>\n",
              "      <td>92</td>\n",
              "      <td>66</td>\n",
              "      <td>...</td>\n",
              "      <td>55</td>\n",
              "      <td>66</td>\n",
              "      <td>54</td>\n",
              "      <td>47</td>\n",
              "      <td>52</td>\n",
              "      <td>54</td>\n",
              "      <td>43</td>\n",
              "      <td>34</td>\n",
              "      <td>72</td>\n",
              "      <td>40</td>\n",
              "    </tr>\n",
              "    <tr>\n",
              "      <th>28</th>\n",
              "      <td>67</td>\n",
              "      <td>60</td>\n",
              "      <td>56</td>\n",
              "      <td>78</td>\n",
              "      <td>58</td>\n",
              "      <td>61</td>\n",
              "      <td>55</td>\n",
              "      <td>47</td>\n",
              "      <td>36</td>\n",
              "      <td>55</td>\n",
              "      <td>...</td>\n",
              "      <td>47</td>\n",
              "      <td>72</td>\n",
              "      <td>46</td>\n",
              "      <td>46</td>\n",
              "      <td>41</td>\n",
              "      <td>62</td>\n",
              "      <td>61</td>\n",
              "      <td>52</td>\n",
              "      <td>56</td>\n",
              "      <td>47</td>\n",
              "    </tr>\n",
              "    <tr>\n",
              "      <th>29</th>\n",
              "      <td>56</td>\n",
              "      <td>38</td>\n",
              "      <td>58</td>\n",
              "      <td>42</td>\n",
              "      <td>60</td>\n",
              "      <td>34</td>\n",
              "      <td>51</td>\n",
              "      <td>82</td>\n",
              "      <td>74</td>\n",
              "      <td>51</td>\n",
              "      <td>...</td>\n",
              "      <td>56</td>\n",
              "      <td>71</td>\n",
              "      <td>59</td>\n",
              "      <td>40</td>\n",
              "      <td>81</td>\n",
              "      <td>39</td>\n",
              "      <td>56</td>\n",
              "      <td>63</td>\n",
              "      <td>68</td>\n",
              "      <td>49</td>\n",
              "    </tr>\n",
              "  </tbody>\n",
              "</table>\n",
              "<p>30 rows × 89 columns</p>\n",
              "</div>\n",
              "      <button class=\"colab-df-convert\" onclick=\"convertToInteractive('df-864efed8-637d-4511-8a8b-7ae21274678d')\"\n",
              "              title=\"Convert this dataframe to an interactive table.\"\n",
              "              style=\"display:none;\">\n",
              "        \n",
              "  <svg xmlns=\"http://www.w3.org/2000/svg\" height=\"24px\"viewBox=\"0 0 24 24\"\n",
              "       width=\"24px\">\n",
              "    <path d=\"M0 0h24v24H0V0z\" fill=\"none\"/>\n",
              "    <path d=\"M18.56 5.44l.94 2.06.94-2.06 2.06-.94-2.06-.94-.94-2.06-.94 2.06-2.06.94zm-11 1L8.5 8.5l.94-2.06 2.06-.94-2.06-.94L8.5 2.5l-.94 2.06-2.06.94zm10 10l.94 2.06.94-2.06 2.06-.94-2.06-.94-.94-2.06-.94 2.06-2.06.94z\"/><path d=\"M17.41 7.96l-1.37-1.37c-.4-.4-.92-.59-1.43-.59-.52 0-1.04.2-1.43.59L10.3 9.45l-7.72 7.72c-.78.78-.78 2.05 0 2.83L4 21.41c.39.39.9.59 1.41.59.51 0 1.02-.2 1.41-.59l7.78-7.78 2.81-2.81c.8-.78.8-2.07 0-2.86zM5.41 20L4 18.59l7.72-7.72 1.47 1.35L5.41 20z\"/>\n",
              "  </svg>\n",
              "      </button>\n",
              "      \n",
              "  <style>\n",
              "    .colab-df-container {\n",
              "      display:flex;\n",
              "      flex-wrap:wrap;\n",
              "      gap: 12px;\n",
              "    }\n",
              "\n",
              "    .colab-df-convert {\n",
              "      background-color: #E8F0FE;\n",
              "      border: none;\n",
              "      border-radius: 50%;\n",
              "      cursor: pointer;\n",
              "      display: none;\n",
              "      fill: #1967D2;\n",
              "      height: 32px;\n",
              "      padding: 0 0 0 0;\n",
              "      width: 32px;\n",
              "    }\n",
              "\n",
              "    .colab-df-convert:hover {\n",
              "      background-color: #E2EBFA;\n",
              "      box-shadow: 0px 1px 2px rgba(60, 64, 67, 0.3), 0px 1px 3px 1px rgba(60, 64, 67, 0.15);\n",
              "      fill: #174EA6;\n",
              "    }\n",
              "\n",
              "    [theme=dark] .colab-df-convert {\n",
              "      background-color: #3B4455;\n",
              "      fill: #D2E3FC;\n",
              "    }\n",
              "\n",
              "    [theme=dark] .colab-df-convert:hover {\n",
              "      background-color: #434B5C;\n",
              "      box-shadow: 0px 1px 3px 1px rgba(0, 0, 0, 0.15);\n",
              "      filter: drop-shadow(0px 1px 2px rgba(0, 0, 0, 0.3));\n",
              "      fill: #FFFFFF;\n",
              "    }\n",
              "  </style>\n",
              "\n",
              "      <script>\n",
              "        const buttonEl =\n",
              "          document.querySelector('#df-864efed8-637d-4511-8a8b-7ae21274678d button.colab-df-convert');\n",
              "        buttonEl.style.display =\n",
              "          google.colab.kernel.accessAllowed ? 'block' : 'none';\n",
              "\n",
              "        async function convertToInteractive(key) {\n",
              "          const element = document.querySelector('#df-864efed8-637d-4511-8a8b-7ae21274678d');\n",
              "          const dataTable =\n",
              "            await google.colab.kernel.invokeFunction('convertToInteractive',\n",
              "                                                     [key], {});\n",
              "          if (!dataTable) return;\n",
              "\n",
              "          const docLinkHtml = 'Like what you see? Visit the ' +\n",
              "            '<a target=\"_blank\" href=https://colab.research.google.com/notebooks/data_table.ipynb>data table notebook</a>'\n",
              "            + ' to learn more about interactive tables.';\n",
              "          element.innerHTML = '';\n",
              "          dataTable['output_type'] = 'display_data';\n",
              "          await google.colab.output.renderOutput(dataTable, element);\n",
              "          const docLink = document.createElement('div');\n",
              "          docLink.innerHTML = docLinkHtml;\n",
              "          element.appendChild(docLink);\n",
              "        }\n",
              "      </script>\n",
              "    </div>\n",
              "  </div>\n",
              "  "
            ]
          },
          "metadata": {},
          "execution_count": 46
        }
      ],
      "source": [
        "df1"
      ]
    },
    {
      "cell_type": "markdown",
      "metadata": {
        "id": "aeKtZEcYXD7c"
      },
      "source": [
        "### Adding the Target variable to the dataframe"
      ]
    },
    {
      "cell_type": "code",
      "execution_count": 47,
      "metadata": {
        "id": "1SOXXc9UXD7c"
      },
      "outputs": [],
      "source": [
        "df1.insert(loc=89, column='Order Item Quantity', value=MonthlyItemQuantity)"
      ]
    },
    {
      "cell_type": "code",
      "execution_count": 48,
      "metadata": {
        "id": "UdX1Sv5CXD7d",
        "colab": {
          "base_uri": "https://localhost:8080/",
          "height": 1000
        },
        "outputId": "2af228cb-707c-40b1-bd2a-0b85e7256eb8"
      },
      "outputs": [
        {
          "output_type": "execute_result",
          "data": {
            "text/plain": [
              "    Day0  Day1  Day2  Day3  Day4  Day5  Day6  Day7  Day8  Day9  ...  Day80  \\\n",
              "0     62    54    47    58    79    63    41    39    57    54  ...     63   \n",
              "1     24    56    95    58    67    58    58    36    79    53  ...     48   \n",
              "2     59    59    67    81    65    56    40    43    82    40  ...     49   \n",
              "3     73    34    70    35    53    51    65    50    69    56  ...     42   \n",
              "4     40    79    53    74    65    44    53    82    50    45  ...     85   \n",
              "5     76    46    48    62    74    51    42    35    55    37  ...     21   \n",
              "6     51    76    64    59    43    69    56    68    51    54  ...     79   \n",
              "7     67    55    52    63    53    44    45    57    70    32  ...     68   \n",
              "8     56    68    45    64    53    51    43    65    49    62  ...     56   \n",
              "9     72    68    72    23    68    41    50    74    33    78  ...     73   \n",
              "10    86    66    53    38    69    48    56    70    76    81  ...     60   \n",
              "11    53    40    35    50    62    52    53    54    60    55  ...     54   \n",
              "12    51    30    56    46    64    77    39    70    72    59  ...     68   \n",
              "13    72    59    57    84    57    77    57    68    64    86  ...     60   \n",
              "14    50    79    61    51    51    49    41    76    68    56  ...     61   \n",
              "15    51    37    62    40    53    51    40    64    71    78  ...     32   \n",
              "16    47    59    54    61    72    76    35    57    44    38  ...     58   \n",
              "17    96    39    60    51    26    49    55    53    48    64  ...     44   \n",
              "18    37    85    45    43    46    57    65    49    66    50  ...     53   \n",
              "19    53    64    58    68    38    37    43    57    53    43  ...     62   \n",
              "20    58    50    61    54    54    56    63    23    38    75  ...     56   \n",
              "21    84    50    61    59    60    44    73    82    58    79  ...     74   \n",
              "22    57    50    38    48    44    66    48    34    90    65  ...     65   \n",
              "23    55    53    52    67    54    64    66    64    51    77  ...     60   \n",
              "24    31    68    42    57    46    56    72    45    54    69  ...     77   \n",
              "25    72    59    70    65    59    88    60    57    43    59  ...     58   \n",
              "26    31    48    81    50    43    51    70    67    73    26  ...     59   \n",
              "27    83    72    86    32    59    31    59    47    92    66  ...     66   \n",
              "28    67    60    56    78    58    61    55    47    36    55  ...     72   \n",
              "29    56    38    58    42    60    34    51    82    74    51  ...     71   \n",
              "\n",
              "    Day81  Day82  Day83  Day84  Day85  Day86  Day87  Day88  \\\n",
              "0      65     74     86     66     54     43     82     63   \n",
              "1      35     67     84     78     48     55     65     56   \n",
              "2      29     44     46     45     65     57     42     81   \n",
              "3      54     21     46     56     61     46     89     68   \n",
              "4      40     65     67     79     67     36     54     45   \n",
              "5      26     79     79     43     22     64     60     56   \n",
              "6      49     39     45     58     50     54     26     70   \n",
              "7      69     61     49     71     62     38     48     57   \n",
              "8      80     47     54     72     66     55     41     31   \n",
              "9      88     95     44     58     77     54     78     45   \n",
              "10     60     77     75     62     56     59     70     59   \n",
              "11     59     61     67     44     84     46     37     47   \n",
              "12     52     45     49     56     40     56     47     70   \n",
              "13     72     51     47     63     34     51     36     57   \n",
              "14     77     34     49     61     66     71     45     46   \n",
              "15     63     54     43     42     75     53     51     49   \n",
              "16     45     49     43     67     59     58     62     47   \n",
              "17     32     62     47     49     34     43     44     55   \n",
              "18     31     51     62     54     61     63     68     65   \n",
              "19     69     49     40     80     61     63     69     50   \n",
              "20     53     57     77     56     77     33     67     49   \n",
              "21     65     62     49     69     81     60     63     59   \n",
              "22     68     43     62     87     68     59     56     68   \n",
              "23     69     64     94     68     59     56     42     57   \n",
              "24     43     44     26     37     68     74     77     57   \n",
              "25     64     56     84     58     57     54     79     78   \n",
              "26     65     71     29     52     28     55     85     49   \n",
              "27     54     47     52     54     43     34     72     40   \n",
              "28     46     46     41     62     61     52     56     47   \n",
              "29     59     40     81     39     56     63     68     49   \n",
              "\n",
              "    Order Item Quantity  \n",
              "0                  1765  \n",
              "1                  1712  \n",
              "2                  1701  \n",
              "3                  1835  \n",
              "4                  1566  \n",
              "5                  1793  \n",
              "6                  1803  \n",
              "7                  1789  \n",
              "8                  1856  \n",
              "9                  1830  \n",
              "10                 1780  \n",
              "11                 1669  \n",
              "12                 1648  \n",
              "13                 1770  \n",
              "14                 1585  \n",
              "15                 1805  \n",
              "16                 1605  \n",
              "17                 1741  \n",
              "18                 1995  \n",
              "19                 1759  \n",
              "20                 1860  \n",
              "21                 1771  \n",
              "22                 1764  \n",
              "23                 1720  \n",
              "24                 1836  \n",
              "25                 1775  \n",
              "26                 1552  \n",
              "27                 1736  \n",
              "28                 1699  \n",
              "29                 1609  \n",
              "\n",
              "[30 rows x 90 columns]"
            ],
            "text/html": [
              "\n",
              "  <div id=\"df-3d33b99c-bebd-4605-9e8d-117aa4676906\">\n",
              "    <div class=\"colab-df-container\">\n",
              "      <div>\n",
              "<style scoped>\n",
              "    .dataframe tbody tr th:only-of-type {\n",
              "        vertical-align: middle;\n",
              "    }\n",
              "\n",
              "    .dataframe tbody tr th {\n",
              "        vertical-align: top;\n",
              "    }\n",
              "\n",
              "    .dataframe thead th {\n",
              "        text-align: right;\n",
              "    }\n",
              "</style>\n",
              "<table border=\"1\" class=\"dataframe\">\n",
              "  <thead>\n",
              "    <tr style=\"text-align: right;\">\n",
              "      <th></th>\n",
              "      <th>Day0</th>\n",
              "      <th>Day1</th>\n",
              "      <th>Day2</th>\n",
              "      <th>Day3</th>\n",
              "      <th>Day4</th>\n",
              "      <th>Day5</th>\n",
              "      <th>Day6</th>\n",
              "      <th>Day7</th>\n",
              "      <th>Day8</th>\n",
              "      <th>Day9</th>\n",
              "      <th>...</th>\n",
              "      <th>Day80</th>\n",
              "      <th>Day81</th>\n",
              "      <th>Day82</th>\n",
              "      <th>Day83</th>\n",
              "      <th>Day84</th>\n",
              "      <th>Day85</th>\n",
              "      <th>Day86</th>\n",
              "      <th>Day87</th>\n",
              "      <th>Day88</th>\n",
              "      <th>Order Item Quantity</th>\n",
              "    </tr>\n",
              "  </thead>\n",
              "  <tbody>\n",
              "    <tr>\n",
              "      <th>0</th>\n",
              "      <td>62</td>\n",
              "      <td>54</td>\n",
              "      <td>47</td>\n",
              "      <td>58</td>\n",
              "      <td>79</td>\n",
              "      <td>63</td>\n",
              "      <td>41</td>\n",
              "      <td>39</td>\n",
              "      <td>57</td>\n",
              "      <td>54</td>\n",
              "      <td>...</td>\n",
              "      <td>63</td>\n",
              "      <td>65</td>\n",
              "      <td>74</td>\n",
              "      <td>86</td>\n",
              "      <td>66</td>\n",
              "      <td>54</td>\n",
              "      <td>43</td>\n",
              "      <td>82</td>\n",
              "      <td>63</td>\n",
              "      <td>1765</td>\n",
              "    </tr>\n",
              "    <tr>\n",
              "      <th>1</th>\n",
              "      <td>24</td>\n",
              "      <td>56</td>\n",
              "      <td>95</td>\n",
              "      <td>58</td>\n",
              "      <td>67</td>\n",
              "      <td>58</td>\n",
              "      <td>58</td>\n",
              "      <td>36</td>\n",
              "      <td>79</td>\n",
              "      <td>53</td>\n",
              "      <td>...</td>\n",
              "      <td>48</td>\n",
              "      <td>35</td>\n",
              "      <td>67</td>\n",
              "      <td>84</td>\n",
              "      <td>78</td>\n",
              "      <td>48</td>\n",
              "      <td>55</td>\n",
              "      <td>65</td>\n",
              "      <td>56</td>\n",
              "      <td>1712</td>\n",
              "    </tr>\n",
              "    <tr>\n",
              "      <th>2</th>\n",
              "      <td>59</td>\n",
              "      <td>59</td>\n",
              "      <td>67</td>\n",
              "      <td>81</td>\n",
              "      <td>65</td>\n",
              "      <td>56</td>\n",
              "      <td>40</td>\n",
              "      <td>43</td>\n",
              "      <td>82</td>\n",
              "      <td>40</td>\n",
              "      <td>...</td>\n",
              "      <td>49</td>\n",
              "      <td>29</td>\n",
              "      <td>44</td>\n",
              "      <td>46</td>\n",
              "      <td>45</td>\n",
              "      <td>65</td>\n",
              "      <td>57</td>\n",
              "      <td>42</td>\n",
              "      <td>81</td>\n",
              "      <td>1701</td>\n",
              "    </tr>\n",
              "    <tr>\n",
              "      <th>3</th>\n",
              "      <td>73</td>\n",
              "      <td>34</td>\n",
              "      <td>70</td>\n",
              "      <td>35</td>\n",
              "      <td>53</td>\n",
              "      <td>51</td>\n",
              "      <td>65</td>\n",
              "      <td>50</td>\n",
              "      <td>69</td>\n",
              "      <td>56</td>\n",
              "      <td>...</td>\n",
              "      <td>42</td>\n",
              "      <td>54</td>\n",
              "      <td>21</td>\n",
              "      <td>46</td>\n",
              "      <td>56</td>\n",
              "      <td>61</td>\n",
              "      <td>46</td>\n",
              "      <td>89</td>\n",
              "      <td>68</td>\n",
              "      <td>1835</td>\n",
              "    </tr>\n",
              "    <tr>\n",
              "      <th>4</th>\n",
              "      <td>40</td>\n",
              "      <td>79</td>\n",
              "      <td>53</td>\n",
              "      <td>74</td>\n",
              "      <td>65</td>\n",
              "      <td>44</td>\n",
              "      <td>53</td>\n",
              "      <td>82</td>\n",
              "      <td>50</td>\n",
              "      <td>45</td>\n",
              "      <td>...</td>\n",
              "      <td>85</td>\n",
              "      <td>40</td>\n",
              "      <td>65</td>\n",
              "      <td>67</td>\n",
              "      <td>79</td>\n",
              "      <td>67</td>\n",
              "      <td>36</td>\n",
              "      <td>54</td>\n",
              "      <td>45</td>\n",
              "      <td>1566</td>\n",
              "    </tr>\n",
              "    <tr>\n",
              "      <th>5</th>\n",
              "      <td>76</td>\n",
              "      <td>46</td>\n",
              "      <td>48</td>\n",
              "      <td>62</td>\n",
              "      <td>74</td>\n",
              "      <td>51</td>\n",
              "      <td>42</td>\n",
              "      <td>35</td>\n",
              "      <td>55</td>\n",
              "      <td>37</td>\n",
              "      <td>...</td>\n",
              "      <td>21</td>\n",
              "      <td>26</td>\n",
              "      <td>79</td>\n",
              "      <td>79</td>\n",
              "      <td>43</td>\n",
              "      <td>22</td>\n",
              "      <td>64</td>\n",
              "      <td>60</td>\n",
              "      <td>56</td>\n",
              "      <td>1793</td>\n",
              "    </tr>\n",
              "    <tr>\n",
              "      <th>6</th>\n",
              "      <td>51</td>\n",
              "      <td>76</td>\n",
              "      <td>64</td>\n",
              "      <td>59</td>\n",
              "      <td>43</td>\n",
              "      <td>69</td>\n",
              "      <td>56</td>\n",
              "      <td>68</td>\n",
              "      <td>51</td>\n",
              "      <td>54</td>\n",
              "      <td>...</td>\n",
              "      <td>79</td>\n",
              "      <td>49</td>\n",
              "      <td>39</td>\n",
              "      <td>45</td>\n",
              "      <td>58</td>\n",
              "      <td>50</td>\n",
              "      <td>54</td>\n",
              "      <td>26</td>\n",
              "      <td>70</td>\n",
              "      <td>1803</td>\n",
              "    </tr>\n",
              "    <tr>\n",
              "      <th>7</th>\n",
              "      <td>67</td>\n",
              "      <td>55</td>\n",
              "      <td>52</td>\n",
              "      <td>63</td>\n",
              "      <td>53</td>\n",
              "      <td>44</td>\n",
              "      <td>45</td>\n",
              "      <td>57</td>\n",
              "      <td>70</td>\n",
              "      <td>32</td>\n",
              "      <td>...</td>\n",
              "      <td>68</td>\n",
              "      <td>69</td>\n",
              "      <td>61</td>\n",
              "      <td>49</td>\n",
              "      <td>71</td>\n",
              "      <td>62</td>\n",
              "      <td>38</td>\n",
              "      <td>48</td>\n",
              "      <td>57</td>\n",
              "      <td>1789</td>\n",
              "    </tr>\n",
              "    <tr>\n",
              "      <th>8</th>\n",
              "      <td>56</td>\n",
              "      <td>68</td>\n",
              "      <td>45</td>\n",
              "      <td>64</td>\n",
              "      <td>53</td>\n",
              "      <td>51</td>\n",
              "      <td>43</td>\n",
              "      <td>65</td>\n",
              "      <td>49</td>\n",
              "      <td>62</td>\n",
              "      <td>...</td>\n",
              "      <td>56</td>\n",
              "      <td>80</td>\n",
              "      <td>47</td>\n",
              "      <td>54</td>\n",
              "      <td>72</td>\n",
              "      <td>66</td>\n",
              "      <td>55</td>\n",
              "      <td>41</td>\n",
              "      <td>31</td>\n",
              "      <td>1856</td>\n",
              "    </tr>\n",
              "    <tr>\n",
              "      <th>9</th>\n",
              "      <td>72</td>\n",
              "      <td>68</td>\n",
              "      <td>72</td>\n",
              "      <td>23</td>\n",
              "      <td>68</td>\n",
              "      <td>41</td>\n",
              "      <td>50</td>\n",
              "      <td>74</td>\n",
              "      <td>33</td>\n",
              "      <td>78</td>\n",
              "      <td>...</td>\n",
              "      <td>73</td>\n",
              "      <td>88</td>\n",
              "      <td>95</td>\n",
              "      <td>44</td>\n",
              "      <td>58</td>\n",
              "      <td>77</td>\n",
              "      <td>54</td>\n",
              "      <td>78</td>\n",
              "      <td>45</td>\n",
              "      <td>1830</td>\n",
              "    </tr>\n",
              "    <tr>\n",
              "      <th>10</th>\n",
              "      <td>86</td>\n",
              "      <td>66</td>\n",
              "      <td>53</td>\n",
              "      <td>38</td>\n",
              "      <td>69</td>\n",
              "      <td>48</td>\n",
              "      <td>56</td>\n",
              "      <td>70</td>\n",
              "      <td>76</td>\n",
              "      <td>81</td>\n",
              "      <td>...</td>\n",
              "      <td>60</td>\n",
              "      <td>60</td>\n",
              "      <td>77</td>\n",
              "      <td>75</td>\n",
              "      <td>62</td>\n",
              "      <td>56</td>\n",
              "      <td>59</td>\n",
              "      <td>70</td>\n",
              "      <td>59</td>\n",
              "      <td>1780</td>\n",
              "    </tr>\n",
              "    <tr>\n",
              "      <th>11</th>\n",
              "      <td>53</td>\n",
              "      <td>40</td>\n",
              "      <td>35</td>\n",
              "      <td>50</td>\n",
              "      <td>62</td>\n",
              "      <td>52</td>\n",
              "      <td>53</td>\n",
              "      <td>54</td>\n",
              "      <td>60</td>\n",
              "      <td>55</td>\n",
              "      <td>...</td>\n",
              "      <td>54</td>\n",
              "      <td>59</td>\n",
              "      <td>61</td>\n",
              "      <td>67</td>\n",
              "      <td>44</td>\n",
              "      <td>84</td>\n",
              "      <td>46</td>\n",
              "      <td>37</td>\n",
              "      <td>47</td>\n",
              "      <td>1669</td>\n",
              "    </tr>\n",
              "    <tr>\n",
              "      <th>12</th>\n",
              "      <td>51</td>\n",
              "      <td>30</td>\n",
              "      <td>56</td>\n",
              "      <td>46</td>\n",
              "      <td>64</td>\n",
              "      <td>77</td>\n",
              "      <td>39</td>\n",
              "      <td>70</td>\n",
              "      <td>72</td>\n",
              "      <td>59</td>\n",
              "      <td>...</td>\n",
              "      <td>68</td>\n",
              "      <td>52</td>\n",
              "      <td>45</td>\n",
              "      <td>49</td>\n",
              "      <td>56</td>\n",
              "      <td>40</td>\n",
              "      <td>56</td>\n",
              "      <td>47</td>\n",
              "      <td>70</td>\n",
              "      <td>1648</td>\n",
              "    </tr>\n",
              "    <tr>\n",
              "      <th>13</th>\n",
              "      <td>72</td>\n",
              "      <td>59</td>\n",
              "      <td>57</td>\n",
              "      <td>84</td>\n",
              "      <td>57</td>\n",
              "      <td>77</td>\n",
              "      <td>57</td>\n",
              "      <td>68</td>\n",
              "      <td>64</td>\n",
              "      <td>86</td>\n",
              "      <td>...</td>\n",
              "      <td>60</td>\n",
              "      <td>72</td>\n",
              "      <td>51</td>\n",
              "      <td>47</td>\n",
              "      <td>63</td>\n",
              "      <td>34</td>\n",
              "      <td>51</td>\n",
              "      <td>36</td>\n",
              "      <td>57</td>\n",
              "      <td>1770</td>\n",
              "    </tr>\n",
              "    <tr>\n",
              "      <th>14</th>\n",
              "      <td>50</td>\n",
              "      <td>79</td>\n",
              "      <td>61</td>\n",
              "      <td>51</td>\n",
              "      <td>51</td>\n",
              "      <td>49</td>\n",
              "      <td>41</td>\n",
              "      <td>76</td>\n",
              "      <td>68</td>\n",
              "      <td>56</td>\n",
              "      <td>...</td>\n",
              "      <td>61</td>\n",
              "      <td>77</td>\n",
              "      <td>34</td>\n",
              "      <td>49</td>\n",
              "      <td>61</td>\n",
              "      <td>66</td>\n",
              "      <td>71</td>\n",
              "      <td>45</td>\n",
              "      <td>46</td>\n",
              "      <td>1585</td>\n",
              "    </tr>\n",
              "    <tr>\n",
              "      <th>15</th>\n",
              "      <td>51</td>\n",
              "      <td>37</td>\n",
              "      <td>62</td>\n",
              "      <td>40</td>\n",
              "      <td>53</td>\n",
              "      <td>51</td>\n",
              "      <td>40</td>\n",
              "      <td>64</td>\n",
              "      <td>71</td>\n",
              "      <td>78</td>\n",
              "      <td>...</td>\n",
              "      <td>32</td>\n",
              "      <td>63</td>\n",
              "      <td>54</td>\n",
              "      <td>43</td>\n",
              "      <td>42</td>\n",
              "      <td>75</td>\n",
              "      <td>53</td>\n",
              "      <td>51</td>\n",
              "      <td>49</td>\n",
              "      <td>1805</td>\n",
              "    </tr>\n",
              "    <tr>\n",
              "      <th>16</th>\n",
              "      <td>47</td>\n",
              "      <td>59</td>\n",
              "      <td>54</td>\n",
              "      <td>61</td>\n",
              "      <td>72</td>\n",
              "      <td>76</td>\n",
              "      <td>35</td>\n",
              "      <td>57</td>\n",
              "      <td>44</td>\n",
              "      <td>38</td>\n",
              "      <td>...</td>\n",
              "      <td>58</td>\n",
              "      <td>45</td>\n",
              "      <td>49</td>\n",
              "      <td>43</td>\n",
              "      <td>67</td>\n",
              "      <td>59</td>\n",
              "      <td>58</td>\n",
              "      <td>62</td>\n",
              "      <td>47</td>\n",
              "      <td>1605</td>\n",
              "    </tr>\n",
              "    <tr>\n",
              "      <th>17</th>\n",
              "      <td>96</td>\n",
              "      <td>39</td>\n",
              "      <td>60</td>\n",
              "      <td>51</td>\n",
              "      <td>26</td>\n",
              "      <td>49</td>\n",
              "      <td>55</td>\n",
              "      <td>53</td>\n",
              "      <td>48</td>\n",
              "      <td>64</td>\n",
              "      <td>...</td>\n",
              "      <td>44</td>\n",
              "      <td>32</td>\n",
              "      <td>62</td>\n",
              "      <td>47</td>\n",
              "      <td>49</td>\n",
              "      <td>34</td>\n",
              "      <td>43</td>\n",
              "      <td>44</td>\n",
              "      <td>55</td>\n",
              "      <td>1741</td>\n",
              "    </tr>\n",
              "    <tr>\n",
              "      <th>18</th>\n",
              "      <td>37</td>\n",
              "      <td>85</td>\n",
              "      <td>45</td>\n",
              "      <td>43</td>\n",
              "      <td>46</td>\n",
              "      <td>57</td>\n",
              "      <td>65</td>\n",
              "      <td>49</td>\n",
              "      <td>66</td>\n",
              "      <td>50</td>\n",
              "      <td>...</td>\n",
              "      <td>53</td>\n",
              "      <td>31</td>\n",
              "      <td>51</td>\n",
              "      <td>62</td>\n",
              "      <td>54</td>\n",
              "      <td>61</td>\n",
              "      <td>63</td>\n",
              "      <td>68</td>\n",
              "      <td>65</td>\n",
              "      <td>1995</td>\n",
              "    </tr>\n",
              "    <tr>\n",
              "      <th>19</th>\n",
              "      <td>53</td>\n",
              "      <td>64</td>\n",
              "      <td>58</td>\n",
              "      <td>68</td>\n",
              "      <td>38</td>\n",
              "      <td>37</td>\n",
              "      <td>43</td>\n",
              "      <td>57</td>\n",
              "      <td>53</td>\n",
              "      <td>43</td>\n",
              "      <td>...</td>\n",
              "      <td>62</td>\n",
              "      <td>69</td>\n",
              "      <td>49</td>\n",
              "      <td>40</td>\n",
              "      <td>80</td>\n",
              "      <td>61</td>\n",
              "      <td>63</td>\n",
              "      <td>69</td>\n",
              "      <td>50</td>\n",
              "      <td>1759</td>\n",
              "    </tr>\n",
              "    <tr>\n",
              "      <th>20</th>\n",
              "      <td>58</td>\n",
              "      <td>50</td>\n",
              "      <td>61</td>\n",
              "      <td>54</td>\n",
              "      <td>54</td>\n",
              "      <td>56</td>\n",
              "      <td>63</td>\n",
              "      <td>23</td>\n",
              "      <td>38</td>\n",
              "      <td>75</td>\n",
              "      <td>...</td>\n",
              "      <td>56</td>\n",
              "      <td>53</td>\n",
              "      <td>57</td>\n",
              "      <td>77</td>\n",
              "      <td>56</td>\n",
              "      <td>77</td>\n",
              "      <td>33</td>\n",
              "      <td>67</td>\n",
              "      <td>49</td>\n",
              "      <td>1860</td>\n",
              "    </tr>\n",
              "    <tr>\n",
              "      <th>21</th>\n",
              "      <td>84</td>\n",
              "      <td>50</td>\n",
              "      <td>61</td>\n",
              "      <td>59</td>\n",
              "      <td>60</td>\n",
              "      <td>44</td>\n",
              "      <td>73</td>\n",
              "      <td>82</td>\n",
              "      <td>58</td>\n",
              "      <td>79</td>\n",
              "      <td>...</td>\n",
              "      <td>74</td>\n",
              "      <td>65</td>\n",
              "      <td>62</td>\n",
              "      <td>49</td>\n",
              "      <td>69</td>\n",
              "      <td>81</td>\n",
              "      <td>60</td>\n",
              "      <td>63</td>\n",
              "      <td>59</td>\n",
              "      <td>1771</td>\n",
              "    </tr>\n",
              "    <tr>\n",
              "      <th>22</th>\n",
              "      <td>57</td>\n",
              "      <td>50</td>\n",
              "      <td>38</td>\n",
              "      <td>48</td>\n",
              "      <td>44</td>\n",
              "      <td>66</td>\n",
              "      <td>48</td>\n",
              "      <td>34</td>\n",
              "      <td>90</td>\n",
              "      <td>65</td>\n",
              "      <td>...</td>\n",
              "      <td>65</td>\n",
              "      <td>68</td>\n",
              "      <td>43</td>\n",
              "      <td>62</td>\n",
              "      <td>87</td>\n",
              "      <td>68</td>\n",
              "      <td>59</td>\n",
              "      <td>56</td>\n",
              "      <td>68</td>\n",
              "      <td>1764</td>\n",
              "    </tr>\n",
              "    <tr>\n",
              "      <th>23</th>\n",
              "      <td>55</td>\n",
              "      <td>53</td>\n",
              "      <td>52</td>\n",
              "      <td>67</td>\n",
              "      <td>54</td>\n",
              "      <td>64</td>\n",
              "      <td>66</td>\n",
              "      <td>64</td>\n",
              "      <td>51</td>\n",
              "      <td>77</td>\n",
              "      <td>...</td>\n",
              "      <td>60</td>\n",
              "      <td>69</td>\n",
              "      <td>64</td>\n",
              "      <td>94</td>\n",
              "      <td>68</td>\n",
              "      <td>59</td>\n",
              "      <td>56</td>\n",
              "      <td>42</td>\n",
              "      <td>57</td>\n",
              "      <td>1720</td>\n",
              "    </tr>\n",
              "    <tr>\n",
              "      <th>24</th>\n",
              "      <td>31</td>\n",
              "      <td>68</td>\n",
              "      <td>42</td>\n",
              "      <td>57</td>\n",
              "      <td>46</td>\n",
              "      <td>56</td>\n",
              "      <td>72</td>\n",
              "      <td>45</td>\n",
              "      <td>54</td>\n",
              "      <td>69</td>\n",
              "      <td>...</td>\n",
              "      <td>77</td>\n",
              "      <td>43</td>\n",
              "      <td>44</td>\n",
              "      <td>26</td>\n",
              "      <td>37</td>\n",
              "      <td>68</td>\n",
              "      <td>74</td>\n",
              "      <td>77</td>\n",
              "      <td>57</td>\n",
              "      <td>1836</td>\n",
              "    </tr>\n",
              "    <tr>\n",
              "      <th>25</th>\n",
              "      <td>72</td>\n",
              "      <td>59</td>\n",
              "      <td>70</td>\n",
              "      <td>65</td>\n",
              "      <td>59</td>\n",
              "      <td>88</td>\n",
              "      <td>60</td>\n",
              "      <td>57</td>\n",
              "      <td>43</td>\n",
              "      <td>59</td>\n",
              "      <td>...</td>\n",
              "      <td>58</td>\n",
              "      <td>64</td>\n",
              "      <td>56</td>\n",
              "      <td>84</td>\n",
              "      <td>58</td>\n",
              "      <td>57</td>\n",
              "      <td>54</td>\n",
              "      <td>79</td>\n",
              "      <td>78</td>\n",
              "      <td>1775</td>\n",
              "    </tr>\n",
              "    <tr>\n",
              "      <th>26</th>\n",
              "      <td>31</td>\n",
              "      <td>48</td>\n",
              "      <td>81</td>\n",
              "      <td>50</td>\n",
              "      <td>43</td>\n",
              "      <td>51</td>\n",
              "      <td>70</td>\n",
              "      <td>67</td>\n",
              "      <td>73</td>\n",
              "      <td>26</td>\n",
              "      <td>...</td>\n",
              "      <td>59</td>\n",
              "      <td>65</td>\n",
              "      <td>71</td>\n",
              "      <td>29</td>\n",
              "      <td>52</td>\n",
              "      <td>28</td>\n",
              "      <td>55</td>\n",
              "      <td>85</td>\n",
              "      <td>49</td>\n",
              "      <td>1552</td>\n",
              "    </tr>\n",
              "    <tr>\n",
              "      <th>27</th>\n",
              "      <td>83</td>\n",
              "      <td>72</td>\n",
              "      <td>86</td>\n",
              "      <td>32</td>\n",
              "      <td>59</td>\n",
              "      <td>31</td>\n",
              "      <td>59</td>\n",
              "      <td>47</td>\n",
              "      <td>92</td>\n",
              "      <td>66</td>\n",
              "      <td>...</td>\n",
              "      <td>66</td>\n",
              "      <td>54</td>\n",
              "      <td>47</td>\n",
              "      <td>52</td>\n",
              "      <td>54</td>\n",
              "      <td>43</td>\n",
              "      <td>34</td>\n",
              "      <td>72</td>\n",
              "      <td>40</td>\n",
              "      <td>1736</td>\n",
              "    </tr>\n",
              "    <tr>\n",
              "      <th>28</th>\n",
              "      <td>67</td>\n",
              "      <td>60</td>\n",
              "      <td>56</td>\n",
              "      <td>78</td>\n",
              "      <td>58</td>\n",
              "      <td>61</td>\n",
              "      <td>55</td>\n",
              "      <td>47</td>\n",
              "      <td>36</td>\n",
              "      <td>55</td>\n",
              "      <td>...</td>\n",
              "      <td>72</td>\n",
              "      <td>46</td>\n",
              "      <td>46</td>\n",
              "      <td>41</td>\n",
              "      <td>62</td>\n",
              "      <td>61</td>\n",
              "      <td>52</td>\n",
              "      <td>56</td>\n",
              "      <td>47</td>\n",
              "      <td>1699</td>\n",
              "    </tr>\n",
              "    <tr>\n",
              "      <th>29</th>\n",
              "      <td>56</td>\n",
              "      <td>38</td>\n",
              "      <td>58</td>\n",
              "      <td>42</td>\n",
              "      <td>60</td>\n",
              "      <td>34</td>\n",
              "      <td>51</td>\n",
              "      <td>82</td>\n",
              "      <td>74</td>\n",
              "      <td>51</td>\n",
              "      <td>...</td>\n",
              "      <td>71</td>\n",
              "      <td>59</td>\n",
              "      <td>40</td>\n",
              "      <td>81</td>\n",
              "      <td>39</td>\n",
              "      <td>56</td>\n",
              "      <td>63</td>\n",
              "      <td>68</td>\n",
              "      <td>49</td>\n",
              "      <td>1609</td>\n",
              "    </tr>\n",
              "  </tbody>\n",
              "</table>\n",
              "<p>30 rows × 90 columns</p>\n",
              "</div>\n",
              "      <button class=\"colab-df-convert\" onclick=\"convertToInteractive('df-3d33b99c-bebd-4605-9e8d-117aa4676906')\"\n",
              "              title=\"Convert this dataframe to an interactive table.\"\n",
              "              style=\"display:none;\">\n",
              "        \n",
              "  <svg xmlns=\"http://www.w3.org/2000/svg\" height=\"24px\"viewBox=\"0 0 24 24\"\n",
              "       width=\"24px\">\n",
              "    <path d=\"M0 0h24v24H0V0z\" fill=\"none\"/>\n",
              "    <path d=\"M18.56 5.44l.94 2.06.94-2.06 2.06-.94-2.06-.94-.94-2.06-.94 2.06-2.06.94zm-11 1L8.5 8.5l.94-2.06 2.06-.94-2.06-.94L8.5 2.5l-.94 2.06-2.06.94zm10 10l.94 2.06.94-2.06 2.06-.94-2.06-.94-.94-2.06-.94 2.06-2.06.94z\"/><path d=\"M17.41 7.96l-1.37-1.37c-.4-.4-.92-.59-1.43-.59-.52 0-1.04.2-1.43.59L10.3 9.45l-7.72 7.72c-.78.78-.78 2.05 0 2.83L4 21.41c.39.39.9.59 1.41.59.51 0 1.02-.2 1.41-.59l7.78-7.78 2.81-2.81c.8-.78.8-2.07 0-2.86zM5.41 20L4 18.59l7.72-7.72 1.47 1.35L5.41 20z\"/>\n",
              "  </svg>\n",
              "      </button>\n",
              "      \n",
              "  <style>\n",
              "    .colab-df-container {\n",
              "      display:flex;\n",
              "      flex-wrap:wrap;\n",
              "      gap: 12px;\n",
              "    }\n",
              "\n",
              "    .colab-df-convert {\n",
              "      background-color: #E8F0FE;\n",
              "      border: none;\n",
              "      border-radius: 50%;\n",
              "      cursor: pointer;\n",
              "      display: none;\n",
              "      fill: #1967D2;\n",
              "      height: 32px;\n",
              "      padding: 0 0 0 0;\n",
              "      width: 32px;\n",
              "    }\n",
              "\n",
              "    .colab-df-convert:hover {\n",
              "      background-color: #E2EBFA;\n",
              "      box-shadow: 0px 1px 2px rgba(60, 64, 67, 0.3), 0px 1px 3px 1px rgba(60, 64, 67, 0.15);\n",
              "      fill: #174EA6;\n",
              "    }\n",
              "\n",
              "    [theme=dark] .colab-df-convert {\n",
              "      background-color: #3B4455;\n",
              "      fill: #D2E3FC;\n",
              "    }\n",
              "\n",
              "    [theme=dark] .colab-df-convert:hover {\n",
              "      background-color: #434B5C;\n",
              "      box-shadow: 0px 1px 3px 1px rgba(0, 0, 0, 0.15);\n",
              "      filter: drop-shadow(0px 1px 2px rgba(0, 0, 0, 0.3));\n",
              "      fill: #FFFFFF;\n",
              "    }\n",
              "  </style>\n",
              "\n",
              "      <script>\n",
              "        const buttonEl =\n",
              "          document.querySelector('#df-3d33b99c-bebd-4605-9e8d-117aa4676906 button.colab-df-convert');\n",
              "        buttonEl.style.display =\n",
              "          google.colab.kernel.accessAllowed ? 'block' : 'none';\n",
              "\n",
              "        async function convertToInteractive(key) {\n",
              "          const element = document.querySelector('#df-3d33b99c-bebd-4605-9e8d-117aa4676906');\n",
              "          const dataTable =\n",
              "            await google.colab.kernel.invokeFunction('convertToInteractive',\n",
              "                                                     [key], {});\n",
              "          if (!dataTable) return;\n",
              "\n",
              "          const docLinkHtml = 'Like what you see? Visit the ' +\n",
              "            '<a target=\"_blank\" href=https://colab.research.google.com/notebooks/data_table.ipynb>data table notebook</a>'\n",
              "            + ' to learn more about interactive tables.';\n",
              "          element.innerHTML = '';\n",
              "          dataTable['output_type'] = 'display_data';\n",
              "          await google.colab.output.renderOutput(dataTable, element);\n",
              "          const docLink = document.createElement('div');\n",
              "          docLink.innerHTML = docLinkHtml;\n",
              "          element.appendChild(docLink);\n",
              "        }\n",
              "      </script>\n",
              "    </div>\n",
              "  </div>\n",
              "  "
            ]
          },
          "metadata": {},
          "execution_count": 48
        }
      ],
      "source": [
        "df1"
      ]
    },
    {
      "cell_type": "markdown",
      "source": [
        "### Segregating Features and Target Variable"
      ],
      "metadata": {
        "id": "2kTwDD09V_Ik"
      }
    },
    {
      "cell_type": "code",
      "source": [
        "Y = df1[\"Order Item Quantity\"]\n",
        "X = df1.drop(columns=[\"Order Item Quantity\"])"
      ],
      "metadata": {
        "id": "kczd8EGtV-_n"
      },
      "execution_count": 49,
      "outputs": []
    },
    {
      "cell_type": "markdown",
      "metadata": {
        "id": "worRIxI9XD7d"
      },
      "source": [
        "# Fitting the Model"
      ]
    },
    {
      "cell_type": "markdown",
      "metadata": {
        "id": "K3-xGHQnXD7e"
      },
      "source": [
        "## XgBoost Regressor\n",
        "    VARIATION-I [FEATURES : Previous 90 Days Sales]"
      ]
    },
    {
      "cell_type": "markdown",
      "metadata": {
        "id": "5iITRMarXD7e"
      },
      "source": [
        "Previous 89 days Items Sold data is used as features to predict the Items Sold in the next month."
      ]
    },
    {
      "cell_type": "markdown",
      "metadata": {
        "id": "g0olUpVkXD7f"
      },
      "source": [
        "### Train Test Split"
      ]
    },
    {
      "cell_type": "code",
      "execution_count": 50,
      "metadata": {
        "id": "6XNX_wDFXD7f",
        "colab": {
          "base_uri": "https://localhost:8080/"
        },
        "outputId": "984d32db-27c8-4b3a-d7b7-447320a78d3e"
      },
      "outputs": [
        {
          "output_type": "stream",
          "name": "stdout",
          "text": [
            "No. of training examples: 24\n",
            "No. of testing examples: 6\n"
          ]
        }
      ],
      "source": [
        "from sklearn.model_selection import train_test_split\n",
        "training_data, testing_data = train_test_split(df1, test_size=0.2, shuffle=True, random_state=0)\n",
        "print(f\"No. of training examples: {training_data.shape[0]}\")\n",
        "print(f\"No. of testing examples: {testing_data.shape[0]}\")"
      ]
    },
    {
      "cell_type": "code",
      "execution_count": 51,
      "metadata": {
        "id": "dsC9turYXD7g"
      },
      "outputs": [],
      "source": [
        "x_train, y_train = training_data.drop(\"Order Item Quantity\", axis=1), training_data['Order Item Quantity']\n",
        "x_test, y_test   = testing_data.drop(\"Order Item Quantity\", axis=1) , testing_data['Order Item Quantity']"
      ]
    },
    {
      "cell_type": "code",
      "execution_count": 52,
      "metadata": {
        "id": "UFUf0Im0XD7g",
        "colab": {
          "base_uri": "https://localhost:8080/"
        },
        "outputId": "b4b99a1c-f69a-4621-e34a-5dda45ec7bc7"
      },
      "outputs": [
        {
          "output_type": "stream",
          "name": "stdout",
          "text": [
            "[21:32:49] WARNING: /workspace/src/objective/regression_obj.cu:152: reg:linear is now deprecated in favor of reg:squarederror.\n"
          ]
        },
        {
          "output_type": "execute_result",
          "data": {
            "text/plain": [
              "XGBRegressor(n_estimators=1000)"
            ]
          },
          "metadata": {},
          "execution_count": 52
        }
      ],
      "source": [
        "import xgboost as xgb\n",
        "from sklearn.metrics import mean_absolute_error\n",
        "model = xgb.XGBRegressor(n_estimators=1000)\n",
        "model.fit(x_train, y_train)"
      ]
    },
    {
      "cell_type": "code",
      "execution_count": 53,
      "metadata": {
        "id": "rRQ1wyNuXD7h"
      },
      "outputs": [],
      "source": [
        "preds = pd.DataFrame(model.predict(x_test))"
      ]
    },
    {
      "cell_type": "markdown",
      "metadata": {
        "id": "ajZfjJJMXD7h"
      },
      "source": [
        "### Evaluation Metric"
      ]
    },
    {
      "cell_type": "code",
      "execution_count": 54,
      "metadata": {
        "id": "7NiH7J2JXD7i"
      },
      "outputs": [],
      "source": [
        "from sklearn.metrics import mean_absolute_error, mean_squared_error"
      ]
    },
    {
      "cell_type": "code",
      "execution_count": 55,
      "metadata": {
        "id": "Kg_X2gXVXD7i",
        "colab": {
          "base_uri": "https://localhost:8080/"
        },
        "outputId": "be988057-1839-4b0d-e951-be3cb4d68f62"
      },
      "outputs": [
        {
          "output_type": "stream",
          "name": "stdout",
          "text": [
            "\tMean absolute error (MAE): 91.25669352213542\n",
            "\tRoot Mean squared error (RMSE): 117.40493620737624\n"
          ]
        }
      ],
      "source": [
        "print(\"\\tMean absolute error (MAE):\", mean_absolute_error(y_test, preds))\n",
        "print(\"\\tRoot Mean squared error (RMSE):\",  np.sqrt(mean_squared_error(y_test, preds)))"
      ]
    },
    {
      "cell_type": "code",
      "execution_count": 56,
      "metadata": {
        "id": "Rck0YrDfXD7j",
        "colab": {
          "base_uri": "https://localhost:8080/"
        },
        "outputId": "7d89e7a3-eb56-4abf-8004-190a8ceaa048"
      },
      "outputs": [
        {
          "output_type": "execute_result",
          "data": {
            "text/plain": [
              "5.451243844706678"
            ]
          },
          "metadata": {},
          "execution_count": 56
        }
      ],
      "source": [
        "from sklearn.metrics import mean_absolute_percentage_error\n",
        "mean_absolute_percentage_error(y_test, preds)*100"
      ]
    },
    {
      "cell_type": "code",
      "execution_count": 57,
      "metadata": {
        "id": "AnBCeNRJXD7j",
        "colab": {
          "base_uri": "https://localhost:8080/"
        },
        "outputId": "a6a76faa-8d8a-4511-df48-980dccc867c9"
      },
      "outputs": [
        {
          "output_type": "stream",
          "name": "stdout",
          "text": [
            "2     1701\n",
            "28    1699\n",
            "13    1770\n",
            "10    1780\n",
            "26    1552\n",
            "24    1836\n",
            "Name: Order Item Quantity, dtype: int64\n",
            "             0\n",
            "0  1731.802979\n",
            "1  1747.930176\n",
            "2  1661.601196\n",
            "3  1770.732422\n",
            "4  1782.860596\n",
            "5  1716.719971\n"
          ]
        }
      ],
      "source": [
        "print(y_test)\n",
        "\n",
        "print(preds)"
      ]
    },
    {
      "cell_type": "markdown",
      "metadata": {
        "id": "wsZe2SHXXD7j"
      },
      "source": [
        "## K-fold Cross Validation"
      ]
    },
    {
      "cell_type": "code",
      "execution_count": 58,
      "metadata": {
        "id": "7ezlQ6i9XD7k"
      },
      "outputs": [],
      "source": [
        "#import necessary libraries\n",
        "\n",
        "from sklearn.model_selection import KFold\n",
        "from sklearn.model_selection import cross_val_score\n",
        "from sklearn.model_selection import cross_val_predict\n",
        "from numpy import mean\n",
        "from numpy import absolute\n",
        "from numpy import sqrt"
      ]
    },
    {
      "cell_type": "markdown",
      "metadata": {
        "id": "s8B_fErlXD7k"
      },
      "source": [
        "We’ll fit a XGBOOST model to the dataset and perform k-fold cross validation to evaluate the model performance."
      ]
    },
    {
      "cell_type": "code",
      "execution_count": 59,
      "metadata": {
        "id": "C9NlKYNfXD7l"
      },
      "outputs": [],
      "source": [
        "#define cross-validation method to use\n",
        "\n",
        "cv = KFold(n_splits=10, random_state=1, shuffle=True)\n",
        "\n",
        "#build xtreme gradient boosting model\n",
        "xgboost = xgb.XGBRegressor() \n"
      ]
    },
    {
      "cell_type": "markdown",
      "metadata": {
        "id": "CNoMSh33XD7l"
      },
      "source": [
        "### Model Evaluation"
      ]
    },
    {
      "cell_type": "code",
      "execution_count": 60,
      "metadata": {
        "id": "1mmUCczaXD7m",
        "colab": {
          "base_uri": "https://localhost:8080/"
        },
        "outputId": "b47394bc-3334-4003-da9c-f6611303e37e"
      },
      "outputs": [
        {
          "output_type": "execute_result",
          "data": {
            "text/plain": [
              "array([ -65.90087891, -127.37438965, -163.19047038,  -71.63427734,\n",
              "        -85.86901855, -159.79097493, -122.15852865,  -97.38566081,\n",
              "       -126.68815104,  -79.12768555])"
            ]
          },
          "metadata": {},
          "execution_count": 60
        }
      ],
      "source": [
        "#use k-fold CV to evaluate model\n",
        "score1 = cross_val_score(xgboost, X, Y, scoring='neg_mean_absolute_error',\n",
        "                         cv=cv, n_jobs=-1)\n",
        "#view mean absolute errors\n",
        "score1\n"
      ]
    },
    {
      "cell_type": "code",
      "execution_count": 61,
      "metadata": {
        "id": "sO4WjSFkXD7m",
        "colab": {
          "base_uri": "https://localhost:8080/"
        },
        "outputId": "910f8ba1-0d11-4d3f-ee2b-2af1569d592c"
      },
      "outputs": [
        {
          "output_type": "stream",
          "name": "stdout",
          "text": [
            "\tMean absolute error (MAE): 109.91200358072915\n"
          ]
        }
      ],
      "source": [
        "print(\"\\tMean absolute error (MAE):\", mean(absolute(score1)))"
      ]
    },
    {
      "cell_type": "code",
      "execution_count": 62,
      "metadata": {
        "id": "GoYD0ik7XD7m",
        "colab": {
          "base_uri": "https://localhost:8080/"
        },
        "outputId": "4dd9d6e2-3a1b-435c-892b-028d01fd43df"
      },
      "outputs": [
        {
          "output_type": "stream",
          "name": "stdout",
          "text": [
            "\tRoot Mean squared error (RMSE): 132.92481989358149\n"
          ]
        }
      ],
      "source": [
        "score2 = cross_val_score(xgboost, X, Y, scoring='neg_mean_squared_error',\n",
        "                         cv=cv, n_jobs=-1)\n",
        "print(\"\\tRoot Mean squared error (RMSE):\", sqrt(mean(absolute(score2))))"
      ]
    },
    {
      "cell_type": "markdown",
      "metadata": {
        "id": "NoMvNkpsXD7n"
      },
      "source": [
        "#### Calculating Mean Absolute Percentage Error with custom function¶"
      ]
    },
    {
      "cell_type": "code",
      "execution_count": 63,
      "metadata": {
        "id": "tiQmX89-XD7n",
        "colab": {
          "base_uri": "https://localhost:8080/"
        },
        "outputId": "80c8c253-55e2-498e-88ef-e55a9bdc7773"
      },
      "outputs": [
        {
          "output_type": "stream",
          "name": "stdout",
          "text": [
            "[21:32:51] WARNING: /workspace/src/objective/regression_obj.cu:152: reg:linear is now deprecated in favor of reg:squarederror.\n",
            "[21:32:51] WARNING: /workspace/src/objective/regression_obj.cu:152: reg:linear is now deprecated in favor of reg:squarederror.\n",
            "[21:32:51] WARNING: /workspace/src/objective/regression_obj.cu:152: reg:linear is now deprecated in favor of reg:squarederror.\n",
            "[21:32:51] WARNING: /workspace/src/objective/regression_obj.cu:152: reg:linear is now deprecated in favor of reg:squarederror.\n",
            "[21:32:51] WARNING: /workspace/src/objective/regression_obj.cu:152: reg:linear is now deprecated in favor of reg:squarederror.\n",
            "[21:32:51] WARNING: /workspace/src/objective/regression_obj.cu:152: reg:linear is now deprecated in favor of reg:squarederror.\n",
            "[21:32:52] WARNING: /workspace/src/objective/regression_obj.cu:152: reg:linear is now deprecated in favor of reg:squarederror.\n",
            "[21:32:52] WARNING: /workspace/src/objective/regression_obj.cu:152: reg:linear is now deprecated in favor of reg:squarederror.\n",
            "[21:32:52] WARNING: /workspace/src/objective/regression_obj.cu:152: reg:linear is now deprecated in favor of reg:squarederror.\n",
            "[21:32:52] WARNING: /workspace/src/objective/regression_obj.cu:152: reg:linear is now deprecated in favor of reg:squarederror.\n"
          ]
        },
        {
          "output_type": "execute_result",
          "data": {
            "text/plain": [
              "array([-2.72911504, -6.56193229, -8.64221802, -3.54106207, -3.84592145,\n",
              "       -7.26880549, -6.34398733, -4.74229325, -5.99577472, -3.71675503])"
            ]
          },
          "metadata": {},
          "execution_count": 63
        }
      ],
      "source": [
        "from sklearn.metrics import make_scorer\n",
        "\n",
        "#define custom function which returns single output as metric score\n",
        "def MAPE(y_true, y_pred): \n",
        "    return 1 - np.mean(np.abs((y_true - y_pred) / y_true)) * 100\n",
        "\n",
        "#make scorer from custome function\n",
        "mape_scorer = make_scorer(MAPE)\n",
        "\n",
        "#cross validation score on model\n",
        "\n",
        "score3 = cross_val_score(xgboost, X, Y, scoring=mape_scorer, cv=cv)\n",
        "score3"
      ]
    },
    {
      "cell_type": "code",
      "execution_count": 64,
      "metadata": {
        "id": "vyu3HTSKXD7n",
        "colab": {
          "base_uri": "https://localhost:8080/"
        },
        "outputId": "0930ed5b-3171-4866-f0db-23c8c37e5c52"
      },
      "outputs": [
        {
          "output_type": "stream",
          "name": "stdout",
          "text": [
            "\t Mean Absolute Percentage error (MAPE): 5.338786466654123\n"
          ]
        }
      ],
      "source": [
        "print(\"\\t Mean Absolute Percentage error (MAPE):\", mean(absolute(score3)))"
      ]
    },
    {
      "cell_type": "markdown",
      "source": [
        "### Predicted Values"
      ],
      "metadata": {
        "id": "gcrm1cLJavuY"
      }
    },
    {
      "cell_type": "code",
      "source": [
        "predictions = cross_val_predict(xgboost, X,Y, cv=cv)\n",
        "print(predictions)"
      ],
      "metadata": {
        "colab": {
          "base_uri": "https://localhost:8080/"
        },
        "id": "7jcaF9GKavkk",
        "outputId": "bf4b7dcd-1f88-4fab-e3ba-3770a7590cac"
      },
      "execution_count": 65,
      "outputs": [
        {
          "output_type": "stream",
          "name": "stdout",
          "text": [
            "[21:32:52] WARNING: /workspace/src/objective/regression_obj.cu:152: reg:linear is now deprecated in favor of reg:squarederror.\n",
            "[21:32:52] WARNING: /workspace/src/objective/regression_obj.cu:152: reg:linear is now deprecated in favor of reg:squarederror.\n",
            "[21:32:52] WARNING: /workspace/src/objective/regression_obj.cu:152: reg:linear is now deprecated in favor of reg:squarederror.\n",
            "[21:32:52] WARNING: /workspace/src/objective/regression_obj.cu:152: reg:linear is now deprecated in favor of reg:squarederror.\n",
            "[21:32:52] WARNING: /workspace/src/objective/regression_obj.cu:152: reg:linear is now deprecated in favor of reg:squarederror.\n",
            "[21:32:52] WARNING: /workspace/src/objective/regression_obj.cu:152: reg:linear is now deprecated in favor of reg:squarederror.\n",
            "[21:32:52] WARNING: /workspace/src/objective/regression_obj.cu:152: reg:linear is now deprecated in favor of reg:squarederror.\n",
            "[21:32:52] WARNING: /workspace/src/objective/regression_obj.cu:152: reg:linear is now deprecated in favor of reg:squarederror.\n",
            "[21:32:52] WARNING: /workspace/src/objective/regression_obj.cu:152: reg:linear is now deprecated in favor of reg:squarederror.\n",
            "[21:32:52] WARNING: /workspace/src/objective/regression_obj.cu:152: reg:linear is now deprecated in favor of reg:squarederror.\n",
            "[1713.1702 1656.6439 1739.3213 1731.7775 1764.1566 1753.3564 1723.8701\n",
            " 1663.3467 1679.1263 1710.8687 1744.2449 1746.9432 1767.7963 1778.2312\n",
            " 1796.5925 1709.266  1791.5139 1776.1699 1649.5116 1704.6449 1743.8245\n",
            " 1644.2224 1761.1658 1706.088  1676.2524 1634.8441 1778.6013 1611.3944\n",
            " 1783.0594 1753.5931]\n"
          ]
        }
      ]
    },
    {
      "cell_type": "markdown",
      "metadata": {
        "id": "AW8YZ41mXD7o"
      },
      "source": [
        "## XgBoost Regressor\n",
        "    VARIATION-II [FEATURES : Previous 90 Days Sales + Monthly Item Discount]"
      ]
    },
    {
      "cell_type": "code",
      "execution_count": 66,
      "metadata": {
        "id": "fI6JLUnsXD7o"
      },
      "outputs": [],
      "source": [
        "df2 = df1.copy()"
      ]
    },
    {
      "cell_type": "code",
      "execution_count": 67,
      "metadata": {
        "id": "LX2J9YX3XD7o",
        "colab": {
          "base_uri": "https://localhost:8080/",
          "height": 235
        },
        "outputId": "7d228fd9-2719-42c7-8f7c-f2dc5007d6bb"
      },
      "outputs": [
        {
          "output_type": "execute_result",
          "data": {
            "text/plain": [
              "   Day0  Day1  Day2  Day3  Day4  Day5  Day6  Day7  Day8  Day9  ...  Day80  \\\n",
              "0    62    54    47    58    79    63    41    39    57    54  ...     63   \n",
              "1    24    56    95    58    67    58    58    36    79    53  ...     48   \n",
              "2    59    59    67    81    65    56    40    43    82    40  ...     49   \n",
              "3    73    34    70    35    53    51    65    50    69    56  ...     42   \n",
              "4    40    79    53    74    65    44    53    82    50    45  ...     85   \n",
              "\n",
              "   Day81  Day82  Day83  Day84  Day85  Day86  Day87  Day88  Order Item Quantity  \n",
              "0     65     74     86     66     54     43     82     63                 1765  \n",
              "1     35     67     84     78     48     55     65     56                 1712  \n",
              "2     29     44     46     45     65     57     42     81                 1701  \n",
              "3     54     21     46     56     61     46     89     68                 1835  \n",
              "4     40     65     67     79     67     36     54     45                 1566  \n",
              "\n",
              "[5 rows x 90 columns]"
            ],
            "text/html": [
              "\n",
              "  <div id=\"df-2fd4f524-40b3-4cdd-94aa-9f683f41e48e\">\n",
              "    <div class=\"colab-df-container\">\n",
              "      <div>\n",
              "<style scoped>\n",
              "    .dataframe tbody tr th:only-of-type {\n",
              "        vertical-align: middle;\n",
              "    }\n",
              "\n",
              "    .dataframe tbody tr th {\n",
              "        vertical-align: top;\n",
              "    }\n",
              "\n",
              "    .dataframe thead th {\n",
              "        text-align: right;\n",
              "    }\n",
              "</style>\n",
              "<table border=\"1\" class=\"dataframe\">\n",
              "  <thead>\n",
              "    <tr style=\"text-align: right;\">\n",
              "      <th></th>\n",
              "      <th>Day0</th>\n",
              "      <th>Day1</th>\n",
              "      <th>Day2</th>\n",
              "      <th>Day3</th>\n",
              "      <th>Day4</th>\n",
              "      <th>Day5</th>\n",
              "      <th>Day6</th>\n",
              "      <th>Day7</th>\n",
              "      <th>Day8</th>\n",
              "      <th>Day9</th>\n",
              "      <th>...</th>\n",
              "      <th>Day80</th>\n",
              "      <th>Day81</th>\n",
              "      <th>Day82</th>\n",
              "      <th>Day83</th>\n",
              "      <th>Day84</th>\n",
              "      <th>Day85</th>\n",
              "      <th>Day86</th>\n",
              "      <th>Day87</th>\n",
              "      <th>Day88</th>\n",
              "      <th>Order Item Quantity</th>\n",
              "    </tr>\n",
              "  </thead>\n",
              "  <tbody>\n",
              "    <tr>\n",
              "      <th>0</th>\n",
              "      <td>62</td>\n",
              "      <td>54</td>\n",
              "      <td>47</td>\n",
              "      <td>58</td>\n",
              "      <td>79</td>\n",
              "      <td>63</td>\n",
              "      <td>41</td>\n",
              "      <td>39</td>\n",
              "      <td>57</td>\n",
              "      <td>54</td>\n",
              "      <td>...</td>\n",
              "      <td>63</td>\n",
              "      <td>65</td>\n",
              "      <td>74</td>\n",
              "      <td>86</td>\n",
              "      <td>66</td>\n",
              "      <td>54</td>\n",
              "      <td>43</td>\n",
              "      <td>82</td>\n",
              "      <td>63</td>\n",
              "      <td>1765</td>\n",
              "    </tr>\n",
              "    <tr>\n",
              "      <th>1</th>\n",
              "      <td>24</td>\n",
              "      <td>56</td>\n",
              "      <td>95</td>\n",
              "      <td>58</td>\n",
              "      <td>67</td>\n",
              "      <td>58</td>\n",
              "      <td>58</td>\n",
              "      <td>36</td>\n",
              "      <td>79</td>\n",
              "      <td>53</td>\n",
              "      <td>...</td>\n",
              "      <td>48</td>\n",
              "      <td>35</td>\n",
              "      <td>67</td>\n",
              "      <td>84</td>\n",
              "      <td>78</td>\n",
              "      <td>48</td>\n",
              "      <td>55</td>\n",
              "      <td>65</td>\n",
              "      <td>56</td>\n",
              "      <td>1712</td>\n",
              "    </tr>\n",
              "    <tr>\n",
              "      <th>2</th>\n",
              "      <td>59</td>\n",
              "      <td>59</td>\n",
              "      <td>67</td>\n",
              "      <td>81</td>\n",
              "      <td>65</td>\n",
              "      <td>56</td>\n",
              "      <td>40</td>\n",
              "      <td>43</td>\n",
              "      <td>82</td>\n",
              "      <td>40</td>\n",
              "      <td>...</td>\n",
              "      <td>49</td>\n",
              "      <td>29</td>\n",
              "      <td>44</td>\n",
              "      <td>46</td>\n",
              "      <td>45</td>\n",
              "      <td>65</td>\n",
              "      <td>57</td>\n",
              "      <td>42</td>\n",
              "      <td>81</td>\n",
              "      <td>1701</td>\n",
              "    </tr>\n",
              "    <tr>\n",
              "      <th>3</th>\n",
              "      <td>73</td>\n",
              "      <td>34</td>\n",
              "      <td>70</td>\n",
              "      <td>35</td>\n",
              "      <td>53</td>\n",
              "      <td>51</td>\n",
              "      <td>65</td>\n",
              "      <td>50</td>\n",
              "      <td>69</td>\n",
              "      <td>56</td>\n",
              "      <td>...</td>\n",
              "      <td>42</td>\n",
              "      <td>54</td>\n",
              "      <td>21</td>\n",
              "      <td>46</td>\n",
              "      <td>56</td>\n",
              "      <td>61</td>\n",
              "      <td>46</td>\n",
              "      <td>89</td>\n",
              "      <td>68</td>\n",
              "      <td>1835</td>\n",
              "    </tr>\n",
              "    <tr>\n",
              "      <th>4</th>\n",
              "      <td>40</td>\n",
              "      <td>79</td>\n",
              "      <td>53</td>\n",
              "      <td>74</td>\n",
              "      <td>65</td>\n",
              "      <td>44</td>\n",
              "      <td>53</td>\n",
              "      <td>82</td>\n",
              "      <td>50</td>\n",
              "      <td>45</td>\n",
              "      <td>...</td>\n",
              "      <td>85</td>\n",
              "      <td>40</td>\n",
              "      <td>65</td>\n",
              "      <td>67</td>\n",
              "      <td>79</td>\n",
              "      <td>67</td>\n",
              "      <td>36</td>\n",
              "      <td>54</td>\n",
              "      <td>45</td>\n",
              "      <td>1566</td>\n",
              "    </tr>\n",
              "  </tbody>\n",
              "</table>\n",
              "<p>5 rows × 90 columns</p>\n",
              "</div>\n",
              "      <button class=\"colab-df-convert\" onclick=\"convertToInteractive('df-2fd4f524-40b3-4cdd-94aa-9f683f41e48e')\"\n",
              "              title=\"Convert this dataframe to an interactive table.\"\n",
              "              style=\"display:none;\">\n",
              "        \n",
              "  <svg xmlns=\"http://www.w3.org/2000/svg\" height=\"24px\"viewBox=\"0 0 24 24\"\n",
              "       width=\"24px\">\n",
              "    <path d=\"M0 0h24v24H0V0z\" fill=\"none\"/>\n",
              "    <path d=\"M18.56 5.44l.94 2.06.94-2.06 2.06-.94-2.06-.94-.94-2.06-.94 2.06-2.06.94zm-11 1L8.5 8.5l.94-2.06 2.06-.94-2.06-.94L8.5 2.5l-.94 2.06-2.06.94zm10 10l.94 2.06.94-2.06 2.06-.94-2.06-.94-.94-2.06-.94 2.06-2.06.94z\"/><path d=\"M17.41 7.96l-1.37-1.37c-.4-.4-.92-.59-1.43-.59-.52 0-1.04.2-1.43.59L10.3 9.45l-7.72 7.72c-.78.78-.78 2.05 0 2.83L4 21.41c.39.39.9.59 1.41.59.51 0 1.02-.2 1.41-.59l7.78-7.78 2.81-2.81c.8-.78.8-2.07 0-2.86zM5.41 20L4 18.59l7.72-7.72 1.47 1.35L5.41 20z\"/>\n",
              "  </svg>\n",
              "      </button>\n",
              "      \n",
              "  <style>\n",
              "    .colab-df-container {\n",
              "      display:flex;\n",
              "      flex-wrap:wrap;\n",
              "      gap: 12px;\n",
              "    }\n",
              "\n",
              "    .colab-df-convert {\n",
              "      background-color: #E8F0FE;\n",
              "      border: none;\n",
              "      border-radius: 50%;\n",
              "      cursor: pointer;\n",
              "      display: none;\n",
              "      fill: #1967D2;\n",
              "      height: 32px;\n",
              "      padding: 0 0 0 0;\n",
              "      width: 32px;\n",
              "    }\n",
              "\n",
              "    .colab-df-convert:hover {\n",
              "      background-color: #E2EBFA;\n",
              "      box-shadow: 0px 1px 2px rgba(60, 64, 67, 0.3), 0px 1px 3px 1px rgba(60, 64, 67, 0.15);\n",
              "      fill: #174EA6;\n",
              "    }\n",
              "\n",
              "    [theme=dark] .colab-df-convert {\n",
              "      background-color: #3B4455;\n",
              "      fill: #D2E3FC;\n",
              "    }\n",
              "\n",
              "    [theme=dark] .colab-df-convert:hover {\n",
              "      background-color: #434B5C;\n",
              "      box-shadow: 0px 1px 3px 1px rgba(0, 0, 0, 0.15);\n",
              "      filter: drop-shadow(0px 1px 2px rgba(0, 0, 0, 0.3));\n",
              "      fill: #FFFFFF;\n",
              "    }\n",
              "  </style>\n",
              "\n",
              "      <script>\n",
              "        const buttonEl =\n",
              "          document.querySelector('#df-2fd4f524-40b3-4cdd-94aa-9f683f41e48e button.colab-df-convert');\n",
              "        buttonEl.style.display =\n",
              "          google.colab.kernel.accessAllowed ? 'block' : 'none';\n",
              "\n",
              "        async function convertToInteractive(key) {\n",
              "          const element = document.querySelector('#df-2fd4f524-40b3-4cdd-94aa-9f683f41e48e');\n",
              "          const dataTable =\n",
              "            await google.colab.kernel.invokeFunction('convertToInteractive',\n",
              "                                                     [key], {});\n",
              "          if (!dataTable) return;\n",
              "\n",
              "          const docLinkHtml = 'Like what you see? Visit the ' +\n",
              "            '<a target=\"_blank\" href=https://colab.research.google.com/notebooks/data_table.ipynb>data table notebook</a>'\n",
              "            + ' to learn more about interactive tables.';\n",
              "          element.innerHTML = '';\n",
              "          dataTable['output_type'] = 'display_data';\n",
              "          await google.colab.output.renderOutput(dataTable, element);\n",
              "          const docLink = document.createElement('div');\n",
              "          docLink.innerHTML = docLinkHtml;\n",
              "          element.appendChild(docLink);\n",
              "        }\n",
              "      </script>\n",
              "    </div>\n",
              "  </div>\n",
              "  "
            ]
          },
          "metadata": {},
          "execution_count": 67
        }
      ],
      "source": [
        "df2.head()"
      ]
    },
    {
      "cell_type": "markdown",
      "metadata": {
        "id": "MdjQ5X6bXD7p"
      },
      "source": [
        "### Adding a Regressor variable to the dataframe"
      ]
    },
    {
      "cell_type": "code",
      "execution_count": 68,
      "metadata": {
        "id": "hfPD4RrEXD7p"
      },
      "outputs": [],
      "source": [
        "df2.insert(loc=90, column='Order Item Discount', value=MonthlyItemDiscount)"
      ]
    },
    {
      "cell_type": "code",
      "source": [
        "Y1 = df2[\"Order Item Quantity\"]\n",
        "X1 = df2.drop(columns=[\"Order Item Quantity\"])"
      ],
      "metadata": {
        "id": "uHCc3tHxZgi2"
      },
      "execution_count": 69,
      "outputs": []
    },
    {
      "cell_type": "code",
      "execution_count": 70,
      "metadata": {
        "id": "QHbZeQLcXD7p",
        "colab": {
          "base_uri": "https://localhost:8080/",
          "height": 235
        },
        "outputId": "31d69537-fe29-457a-98e3-0bac6c81d11f"
      },
      "outputs": [
        {
          "output_type": "execute_result",
          "data": {
            "text/plain": [
              "   Day0  Day1  Day2  Day3  Day4  Day5  Day6  Day7  Day8  Day9  ...  Day81  \\\n",
              "0    62    54    47    58    79    63    41    39    57    54  ...     65   \n",
              "1    24    56    95    58    67    58    58    36    79    53  ...     35   \n",
              "2    59    59    67    81    65    56    40    43    82    40  ...     29   \n",
              "3    73    34    70    35    53    51    65    50    69    56  ...     54   \n",
              "4    40    79    53    74    65    44    53    82    50    45  ...     40   \n",
              "\n",
              "   Day82  Day83  Day84  Day85  Day86  Day87  Day88  Order Item Quantity  \\\n",
              "0     74     86     66     54     43     82     63                 1765   \n",
              "1     67     84     78     48     55     65     56                 1712   \n",
              "2     44     46     45     65     57     42     81                 1701   \n",
              "3     21     46     56     61     46     89     68                 1835   \n",
              "4     65     67     79     67     36     54     45                 1566   \n",
              "\n",
              "   Order Item Discount  \n",
              "0                 8827  \n",
              "1                 8682  \n",
              "2                 8561  \n",
              "3                 9383  \n",
              "4                 7876  \n",
              "\n",
              "[5 rows x 91 columns]"
            ],
            "text/html": [
              "\n",
              "  <div id=\"df-75f56bae-b304-4189-b8d6-c0b83fb23087\">\n",
              "    <div class=\"colab-df-container\">\n",
              "      <div>\n",
              "<style scoped>\n",
              "    .dataframe tbody tr th:only-of-type {\n",
              "        vertical-align: middle;\n",
              "    }\n",
              "\n",
              "    .dataframe tbody tr th {\n",
              "        vertical-align: top;\n",
              "    }\n",
              "\n",
              "    .dataframe thead th {\n",
              "        text-align: right;\n",
              "    }\n",
              "</style>\n",
              "<table border=\"1\" class=\"dataframe\">\n",
              "  <thead>\n",
              "    <tr style=\"text-align: right;\">\n",
              "      <th></th>\n",
              "      <th>Day0</th>\n",
              "      <th>Day1</th>\n",
              "      <th>Day2</th>\n",
              "      <th>Day3</th>\n",
              "      <th>Day4</th>\n",
              "      <th>Day5</th>\n",
              "      <th>Day6</th>\n",
              "      <th>Day7</th>\n",
              "      <th>Day8</th>\n",
              "      <th>Day9</th>\n",
              "      <th>...</th>\n",
              "      <th>Day81</th>\n",
              "      <th>Day82</th>\n",
              "      <th>Day83</th>\n",
              "      <th>Day84</th>\n",
              "      <th>Day85</th>\n",
              "      <th>Day86</th>\n",
              "      <th>Day87</th>\n",
              "      <th>Day88</th>\n",
              "      <th>Order Item Quantity</th>\n",
              "      <th>Order Item Discount</th>\n",
              "    </tr>\n",
              "  </thead>\n",
              "  <tbody>\n",
              "    <tr>\n",
              "      <th>0</th>\n",
              "      <td>62</td>\n",
              "      <td>54</td>\n",
              "      <td>47</td>\n",
              "      <td>58</td>\n",
              "      <td>79</td>\n",
              "      <td>63</td>\n",
              "      <td>41</td>\n",
              "      <td>39</td>\n",
              "      <td>57</td>\n",
              "      <td>54</td>\n",
              "      <td>...</td>\n",
              "      <td>65</td>\n",
              "      <td>74</td>\n",
              "      <td>86</td>\n",
              "      <td>66</td>\n",
              "      <td>54</td>\n",
              "      <td>43</td>\n",
              "      <td>82</td>\n",
              "      <td>63</td>\n",
              "      <td>1765</td>\n",
              "      <td>8827</td>\n",
              "    </tr>\n",
              "    <tr>\n",
              "      <th>1</th>\n",
              "      <td>24</td>\n",
              "      <td>56</td>\n",
              "      <td>95</td>\n",
              "      <td>58</td>\n",
              "      <td>67</td>\n",
              "      <td>58</td>\n",
              "      <td>58</td>\n",
              "      <td>36</td>\n",
              "      <td>79</td>\n",
              "      <td>53</td>\n",
              "      <td>...</td>\n",
              "      <td>35</td>\n",
              "      <td>67</td>\n",
              "      <td>84</td>\n",
              "      <td>78</td>\n",
              "      <td>48</td>\n",
              "      <td>55</td>\n",
              "      <td>65</td>\n",
              "      <td>56</td>\n",
              "      <td>1712</td>\n",
              "      <td>8682</td>\n",
              "    </tr>\n",
              "    <tr>\n",
              "      <th>2</th>\n",
              "      <td>59</td>\n",
              "      <td>59</td>\n",
              "      <td>67</td>\n",
              "      <td>81</td>\n",
              "      <td>65</td>\n",
              "      <td>56</td>\n",
              "      <td>40</td>\n",
              "      <td>43</td>\n",
              "      <td>82</td>\n",
              "      <td>40</td>\n",
              "      <td>...</td>\n",
              "      <td>29</td>\n",
              "      <td>44</td>\n",
              "      <td>46</td>\n",
              "      <td>45</td>\n",
              "      <td>65</td>\n",
              "      <td>57</td>\n",
              "      <td>42</td>\n",
              "      <td>81</td>\n",
              "      <td>1701</td>\n",
              "      <td>8561</td>\n",
              "    </tr>\n",
              "    <tr>\n",
              "      <th>3</th>\n",
              "      <td>73</td>\n",
              "      <td>34</td>\n",
              "      <td>70</td>\n",
              "      <td>35</td>\n",
              "      <td>53</td>\n",
              "      <td>51</td>\n",
              "      <td>65</td>\n",
              "      <td>50</td>\n",
              "      <td>69</td>\n",
              "      <td>56</td>\n",
              "      <td>...</td>\n",
              "      <td>54</td>\n",
              "      <td>21</td>\n",
              "      <td>46</td>\n",
              "      <td>56</td>\n",
              "      <td>61</td>\n",
              "      <td>46</td>\n",
              "      <td>89</td>\n",
              "      <td>68</td>\n",
              "      <td>1835</td>\n",
              "      <td>9383</td>\n",
              "    </tr>\n",
              "    <tr>\n",
              "      <th>4</th>\n",
              "      <td>40</td>\n",
              "      <td>79</td>\n",
              "      <td>53</td>\n",
              "      <td>74</td>\n",
              "      <td>65</td>\n",
              "      <td>44</td>\n",
              "      <td>53</td>\n",
              "      <td>82</td>\n",
              "      <td>50</td>\n",
              "      <td>45</td>\n",
              "      <td>...</td>\n",
              "      <td>40</td>\n",
              "      <td>65</td>\n",
              "      <td>67</td>\n",
              "      <td>79</td>\n",
              "      <td>67</td>\n",
              "      <td>36</td>\n",
              "      <td>54</td>\n",
              "      <td>45</td>\n",
              "      <td>1566</td>\n",
              "      <td>7876</td>\n",
              "    </tr>\n",
              "  </tbody>\n",
              "</table>\n",
              "<p>5 rows × 91 columns</p>\n",
              "</div>\n",
              "      <button class=\"colab-df-convert\" onclick=\"convertToInteractive('df-75f56bae-b304-4189-b8d6-c0b83fb23087')\"\n",
              "              title=\"Convert this dataframe to an interactive table.\"\n",
              "              style=\"display:none;\">\n",
              "        \n",
              "  <svg xmlns=\"http://www.w3.org/2000/svg\" height=\"24px\"viewBox=\"0 0 24 24\"\n",
              "       width=\"24px\">\n",
              "    <path d=\"M0 0h24v24H0V0z\" fill=\"none\"/>\n",
              "    <path d=\"M18.56 5.44l.94 2.06.94-2.06 2.06-.94-2.06-.94-.94-2.06-.94 2.06-2.06.94zm-11 1L8.5 8.5l.94-2.06 2.06-.94-2.06-.94L8.5 2.5l-.94 2.06-2.06.94zm10 10l.94 2.06.94-2.06 2.06-.94-2.06-.94-.94-2.06-.94 2.06-2.06.94z\"/><path d=\"M17.41 7.96l-1.37-1.37c-.4-.4-.92-.59-1.43-.59-.52 0-1.04.2-1.43.59L10.3 9.45l-7.72 7.72c-.78.78-.78 2.05 0 2.83L4 21.41c.39.39.9.59 1.41.59.51 0 1.02-.2 1.41-.59l7.78-7.78 2.81-2.81c.8-.78.8-2.07 0-2.86zM5.41 20L4 18.59l7.72-7.72 1.47 1.35L5.41 20z\"/>\n",
              "  </svg>\n",
              "      </button>\n",
              "      \n",
              "  <style>\n",
              "    .colab-df-container {\n",
              "      display:flex;\n",
              "      flex-wrap:wrap;\n",
              "      gap: 12px;\n",
              "    }\n",
              "\n",
              "    .colab-df-convert {\n",
              "      background-color: #E8F0FE;\n",
              "      border: none;\n",
              "      border-radius: 50%;\n",
              "      cursor: pointer;\n",
              "      display: none;\n",
              "      fill: #1967D2;\n",
              "      height: 32px;\n",
              "      padding: 0 0 0 0;\n",
              "      width: 32px;\n",
              "    }\n",
              "\n",
              "    .colab-df-convert:hover {\n",
              "      background-color: #E2EBFA;\n",
              "      box-shadow: 0px 1px 2px rgba(60, 64, 67, 0.3), 0px 1px 3px 1px rgba(60, 64, 67, 0.15);\n",
              "      fill: #174EA6;\n",
              "    }\n",
              "\n",
              "    [theme=dark] .colab-df-convert {\n",
              "      background-color: #3B4455;\n",
              "      fill: #D2E3FC;\n",
              "    }\n",
              "\n",
              "    [theme=dark] .colab-df-convert:hover {\n",
              "      background-color: #434B5C;\n",
              "      box-shadow: 0px 1px 3px 1px rgba(0, 0, 0, 0.15);\n",
              "      filter: drop-shadow(0px 1px 2px rgba(0, 0, 0, 0.3));\n",
              "      fill: #FFFFFF;\n",
              "    }\n",
              "  </style>\n",
              "\n",
              "      <script>\n",
              "        const buttonEl =\n",
              "          document.querySelector('#df-75f56bae-b304-4189-b8d6-c0b83fb23087 button.colab-df-convert');\n",
              "        buttonEl.style.display =\n",
              "          google.colab.kernel.accessAllowed ? 'block' : 'none';\n",
              "\n",
              "        async function convertToInteractive(key) {\n",
              "          const element = document.querySelector('#df-75f56bae-b304-4189-b8d6-c0b83fb23087');\n",
              "          const dataTable =\n",
              "            await google.colab.kernel.invokeFunction('convertToInteractive',\n",
              "                                                     [key], {});\n",
              "          if (!dataTable) return;\n",
              "\n",
              "          const docLinkHtml = 'Like what you see? Visit the ' +\n",
              "            '<a target=\"_blank\" href=https://colab.research.google.com/notebooks/data_table.ipynb>data table notebook</a>'\n",
              "            + ' to learn more about interactive tables.';\n",
              "          element.innerHTML = '';\n",
              "          dataTable['output_type'] = 'display_data';\n",
              "          await google.colab.output.renderOutput(dataTable, element);\n",
              "          const docLink = document.createElement('div');\n",
              "          docLink.innerHTML = docLinkHtml;\n",
              "          element.appendChild(docLink);\n",
              "        }\n",
              "      </script>\n",
              "    </div>\n",
              "  </div>\n",
              "  "
            ]
          },
          "metadata": {},
          "execution_count": 70
        }
      ],
      "source": [
        "df2.head()"
      ]
    },
    {
      "cell_type": "code",
      "source": [
        "training_data, testing_data = train_test_split(df2, test_size=0.2, shuffle=False, random_state=1)\n",
        "print(f\"No. of training examples: {training_data.shape[0]}\")\n",
        "print(f\"No. of testing examples: {testing_data.shape[0]}\")"
      ],
      "metadata": {
        "colab": {
          "base_uri": "https://localhost:8080/"
        },
        "id": "-9XpIcWokukQ",
        "outputId": "b3d6ad7e-f233-47e2-eebe-68a3d6285c81"
      },
      "execution_count": 71,
      "outputs": [
        {
          "output_type": "stream",
          "name": "stdout",
          "text": [
            "No. of training examples: 24\n",
            "No. of testing examples: 6\n"
          ]
        }
      ]
    },
    {
      "cell_type": "code",
      "source": [
        "\n",
        "x_train, y_train = training_data.drop(\"Order Item Quantity\", axis=1), training_data['Order Item Quantity']\n",
        "x_test, y_test   = testing_data.drop(\"Order Item Quantity\", axis=1) , testing_data['Order Item Quantity']"
      ],
      "metadata": {
        "id": "nQAWRHnEkugJ"
      },
      "execution_count": 72,
      "outputs": []
    },
    {
      "cell_type": "markdown",
      "source": [
        "# XGBOOST PREDICTION"
      ],
      "metadata": {
        "id": "XMB7sQG_kwZy"
      }
    },
    {
      "cell_type": "code",
      "source": [
        "xgboost.fit(x_train, y_train)"
      ],
      "metadata": {
        "colab": {
          "base_uri": "https://localhost:8080/"
        },
        "id": "zewv9oTfkucR",
        "outputId": "ded3654d-79ca-4d80-93ed-4fc9c3962388"
      },
      "execution_count": 73,
      "outputs": [
        {
          "output_type": "stream",
          "name": "stdout",
          "text": [
            "[21:32:52] WARNING: /workspace/src/objective/regression_obj.cu:152: reg:linear is now deprecated in favor of reg:squarederror.\n"
          ]
        },
        {
          "output_type": "execute_result",
          "data": {
            "text/plain": [
              "XGBRegressor()"
            ]
          },
          "metadata": {},
          "execution_count": 73
        }
      ]
    },
    {
      "cell_type": "code",
      "source": [
        "Row25 = x_test.head(1)\n",
        "Actual_value2 = y_test.head(1)"
      ],
      "metadata": {
        "id": "iif_vwPZkuYl"
      },
      "execution_count": 74,
      "outputs": []
    },
    {
      "cell_type": "code",
      "source": [
        "\n",
        "xgboost_prediction2 = pd.DataFrame(xgboost.predict(Row25))\n",
        "print(xgboost_prediction2)\n",
        "print(Actual_value2)"
      ],
      "metadata": {
        "colab": {
          "base_uri": "https://localhost:8080/"
        },
        "id": "yHsiwTklkuVW",
        "outputId": "6d1e0388-78c1-49ec-d94e-65df9fa1babf"
      },
      "execution_count": 75,
      "outputs": [
        {
          "output_type": "stream",
          "name": "stdout",
          "text": [
            "             0\n",
            "0  1842.439331\n",
            "24    1836\n",
            "Name: Order Item Quantity, dtype: int64\n"
          ]
        }
      ]
    },
    {
      "cell_type": "code",
      "source": [
        "print(\"\\tMean absolute error (MAE):\", mean_absolute_error(Actual_value2, xgboost_prediction2))"
      ],
      "metadata": {
        "colab": {
          "base_uri": "https://localhost:8080/"
        },
        "id": "3QV5zralkuQH",
        "outputId": "b951eedb-d210-4ce5-8e66-02c844809748"
      },
      "execution_count": 76,
      "outputs": [
        {
          "output_type": "stream",
          "name": "stdout",
          "text": [
            "\tMean absolute error (MAE): 6.4393310546875\n"
          ]
        }
      ]
    },
    {
      "cell_type": "code",
      "source": [],
      "metadata": {
        "id": "EewOP3F8kuM2"
      },
      "execution_count": 76,
      "outputs": []
    },
    {
      "cell_type": "markdown",
      "metadata": {
        "id": "2ZMxdd4NXD7p"
      },
      "source": [
        "###Model Fitting and Model Evaluation\n"
      ]
    },
    {
      "cell_type": "code",
      "execution_count": 77,
      "metadata": {
        "id": "DmmuSwIPXD7r"
      },
      "outputs": [],
      "source": [
        "#build xtreme gradient boosting model\n",
        "xgboost = xgb.XGBRegressor() "
      ]
    },
    {
      "cell_type": "code",
      "execution_count": 78,
      "metadata": {
        "id": "SY0-O57OXD7r",
        "colab": {
          "base_uri": "https://localhost:8080/"
        },
        "outputId": "ac2490ab-0e1d-436a-aed3-559788856bf9"
      },
      "outputs": [
        {
          "output_type": "stream",
          "name": "stdout",
          "text": [
            "\tMean absolute error (MAE): 28.69781494140625\n"
          ]
        }
      ],
      "source": [
        "#use k-fold CV to evaluate model\n",
        "score1 = cross_val_score(xgboost, X1, Y1, scoring='neg_mean_absolute_error',\n",
        "                         cv=cv, n_jobs=-1)\n",
        "\n",
        "#view mean absolute error\n",
        "print(\"\\tMean absolute error (MAE):\", mean(absolute(score1)))\n"
      ]
    },
    {
      "cell_type": "code",
      "execution_count": 79,
      "metadata": {
        "id": "HtDVWn81XD7r",
        "colab": {
          "base_uri": "https://localhost:8080/"
        },
        "outputId": "f3ae2578-c2c9-403e-d0e5-f80cadaa07c8"
      },
      "outputs": [
        {
          "output_type": "stream",
          "name": "stdout",
          "text": [
            "\tRoot Mean squared error (RMSE): 40.10728374070712\n"
          ]
        }
      ],
      "source": [
        "score2 = cross_val_score(xgboost, X1, Y1, scoring='neg_mean_squared_error',\n",
        "                         cv=cv, n_jobs=-1)\n",
        "print(\"\\tRoot Mean squared error (RMSE):\", sqrt(mean(absolute(score2))))"
      ]
    },
    {
      "cell_type": "code",
      "execution_count": 80,
      "metadata": {
        "id": "4FoFt5ZMXD7r",
        "colab": {
          "base_uri": "https://localhost:8080/"
        },
        "outputId": "78e99c50-eb0f-4655-a35d-b62442bdc328"
      },
      "outputs": [
        {
          "output_type": "stream",
          "name": "stdout",
          "text": [
            "[21:32:53] WARNING: /workspace/src/objective/regression_obj.cu:152: reg:linear is now deprecated in favor of reg:squarederror.\n",
            "[21:32:53] WARNING: /workspace/src/objective/regression_obj.cu:152: reg:linear is now deprecated in favor of reg:squarederror.\n",
            "[21:32:53] WARNING: /workspace/src/objective/regression_obj.cu:152: reg:linear is now deprecated in favor of reg:squarederror.\n",
            "[21:32:53] WARNING: /workspace/src/objective/regression_obj.cu:152: reg:linear is now deprecated in favor of reg:squarederror.\n",
            "[21:32:53] WARNING: /workspace/src/objective/regression_obj.cu:152: reg:linear is now deprecated in favor of reg:squarederror.\n",
            "[21:32:53] WARNING: /workspace/src/objective/regression_obj.cu:152: reg:linear is now deprecated in favor of reg:squarederror.\n",
            "[21:32:53] WARNING: /workspace/src/objective/regression_obj.cu:152: reg:linear is now deprecated in favor of reg:squarederror.\n",
            "[21:32:53] WARNING: /workspace/src/objective/regression_obj.cu:152: reg:linear is now deprecated in favor of reg:squarederror.\n",
            "[21:32:53] WARNING: /workspace/src/objective/regression_obj.cu:152: reg:linear is now deprecated in favor of reg:squarederror.\n",
            "[21:32:53] WARNING: /workspace/src/objective/regression_obj.cu:152: reg:linear is now deprecated in favor of reg:squarederror.\n",
            "\t Mean Absolute Percentage error (MAPE): 0.6271805846720249\n"
          ]
        }
      ],
      "source": [
        "from sklearn.metrics import make_scorer\n",
        "\n",
        "#define custom function which returns single output as metric score\n",
        "def MAPE(y_true, y_pred): \n",
        "    return 1 - np.mean(np.abs((y_true - y_pred) / y_true)) * 100\n",
        "\n",
        "#make scorer from custome function\n",
        "mape_scorer = make_scorer(MAPE)\n",
        "\n",
        "#cross validation score on model\n",
        "\n",
        "score3 = cross_val_score(xgboost, X1, Y1, scoring=mape_scorer, cv=cv)\n",
        "print(\"\\t Mean Absolute Percentage error (MAPE):\", mean(absolute(score3)))\n"
      ]
    },
    {
      "cell_type": "markdown",
      "source": [
        "### Predicted Values"
      ],
      "metadata": {
        "id": "ikxtD6hrbjD8"
      }
    },
    {
      "cell_type": "code",
      "source": [
        "predictions = cross_val_predict(xgboost, X1,Y1, cv=cv)\n",
        "print(predictions)"
      ],
      "metadata": {
        "colab": {
          "base_uri": "https://localhost:8080/"
        },
        "id": "V5ILKEC8bi48",
        "outputId": "1b5b8836-2dd9-46cc-bb44-71b55da85244"
      },
      "execution_count": 81,
      "outputs": [
        {
          "output_type": "stream",
          "name": "stdout",
          "text": [
            "[21:32:53] WARNING: /workspace/src/objective/regression_obj.cu:152: reg:linear is now deprecated in favor of reg:squarederror.\n",
            "[21:32:53] WARNING: /workspace/src/objective/regression_obj.cu:152: reg:linear is now deprecated in favor of reg:squarederror.\n",
            "[21:32:53] WARNING: /workspace/src/objective/regression_obj.cu:152: reg:linear is now deprecated in favor of reg:squarederror.\n",
            "[21:32:53] WARNING: /workspace/src/objective/regression_obj.cu:152: reg:linear is now deprecated in favor of reg:squarederror.\n",
            "[21:32:53] WARNING: /workspace/src/objective/regression_obj.cu:152: reg:linear is now deprecated in favor of reg:squarederror.\n",
            "[21:32:53] WARNING: /workspace/src/objective/regression_obj.cu:152: reg:linear is now deprecated in favor of reg:squarederror.\n",
            "[21:32:53] WARNING: /workspace/src/objective/regression_obj.cu:152: reg:linear is now deprecated in favor of reg:squarederror.\n",
            "[21:32:53] WARNING: /workspace/src/objective/regression_obj.cu:152: reg:linear is now deprecated in favor of reg:squarederror.\n",
            "[21:32:53] WARNING: /workspace/src/objective/regression_obj.cu:152: reg:linear is now deprecated in favor of reg:squarederror.\n",
            "[21:32:53] WARNING: /workspace/src/objective/regression_obj.cu:152: reg:linear is now deprecated in favor of reg:squarederror.\n",
            "[1743.016  1680.8469 1715.6636 1851.9193 1600.1558 1809.241  1774.7778\n",
            " 1779.0999 1800.3146 1793.6473 1803.437  1701.9912 1701.6007 1766.941\n",
            " 1611.825  1785.0356 1592.2499 1712.4852 1833.8853 1769.0112 1827.2698\n",
            " 1784.0155 1773.413  1699.6774 1846.1829 1754.6221 1610.6903 1759.7174\n",
            " 1714.9414 1590.002 ]\n"
          ]
        }
      ]
    },
    {
      "cell_type": "markdown",
      "metadata": {
        "id": "VvoB_NITXD7s"
      },
      "source": [
        "## Linear Regression\n",
        "    Variation-I [FEATURES : Previous 90 Days Sales]"
      ]
    },
    {
      "cell_type": "code",
      "execution_count": 82,
      "metadata": {
        "id": "LzJelhaMXD7s"
      },
      "outputs": [],
      "source": [
        "from sklearn.linear_model import LinearRegression"
      ]
    },
    {
      "cell_type": "code",
      "execution_count": 83,
      "metadata": {
        "id": "NyG8SzTTXD7t"
      },
      "outputs": [],
      "source": [
        "#build linear regression model\n",
        "linear = LinearRegression()"
      ]
    },
    {
      "cell_type": "code",
      "execution_count": 84,
      "metadata": {
        "id": "pEzWZzffXD7t",
        "colab": {
          "base_uri": "https://localhost:8080/"
        },
        "outputId": "970d2705-4256-4d4f-b175-070c6aca9b8b"
      },
      "outputs": [
        {
          "output_type": "stream",
          "name": "stdout",
          "text": [
            "\tMean absolute error (MAE): 101.51696507239112\n"
          ]
        }
      ],
      "source": [
        "#use k-fold CV to evaluate model\n",
        "score1 = cross_val_score(linear, X, Y, scoring='neg_mean_absolute_error',\n",
        "                         cv=cv, n_jobs=-1)\n",
        "\n",
        "#view mean absolute error\n",
        "print(\"\\tMean absolute error (MAE):\", mean(absolute(score1)))"
      ]
    },
    {
      "cell_type": "code",
      "execution_count": 85,
      "metadata": {
        "id": "YqGwz8QfXD7t",
        "colab": {
          "base_uri": "https://localhost:8080/"
        },
        "outputId": "2e423c4f-13e4-43a1-8286-a0436f540d95"
      },
      "outputs": [
        {
          "output_type": "stream",
          "name": "stdout",
          "text": [
            "\tRoot Mean squared error (RMSE): 128.71076053722905\n"
          ]
        }
      ],
      "source": [
        "score2 = cross_val_score(linear, X, Y, scoring='neg_mean_squared_error',\n",
        "                         cv=cv, n_jobs=-1)\n",
        "print(\"\\tRoot Mean squared error (RMSE):\", sqrt(mean(absolute(score2))))"
      ]
    },
    {
      "cell_type": "code",
      "execution_count": 86,
      "metadata": {
        "id": "XFX94WnuXD7t",
        "colab": {
          "base_uri": "https://localhost:8080/"
        },
        "outputId": "b8162adb-8370-46b5-b405-576539b4a318"
      },
      "outputs": [
        {
          "output_type": "stream",
          "name": "stdout",
          "text": [
            "\t Mean Absolute Percentage error (MAPE): 4.866652946658631\n"
          ]
        }
      ],
      "source": [
        "score3 = cross_val_score(linear, X, Y, scoring=mape_scorer, cv=cv)\n",
        "print(\"\\t Mean Absolute Percentage error (MAPE):\", mean(absolute(score3)))"
      ]
    },
    {
      "cell_type": "markdown",
      "source": [
        "### Predicted Values"
      ],
      "metadata": {
        "id": "w6Hz8Nttb4qV"
      }
    },
    {
      "cell_type": "code",
      "source": [
        "predictions = cross_val_predict(linear, X,Y, cv=cv)\n",
        "print(predictions)\n"
      ],
      "metadata": {
        "colab": {
          "base_uri": "https://localhost:8080/"
        },
        "id": "NhWelypob4gb",
        "outputId": "7a35b04c-7d61-4d64-f0f3-2589b4f81f84"
      },
      "execution_count": 87,
      "outputs": [
        {
          "output_type": "stream",
          "name": "stdout",
          "text": [
            "[1734.66311335 1745.72712121 1718.80971404 1829.33768597 1740.94027306\n",
            " 1709.4285397  1709.68926053 1632.31174773 1705.00526949 1729.92256199\n",
            " 1778.7699156  1919.43333408 1750.07810772 1798.54234695 1766.96616792\n",
            " 1657.38072952 1837.44710079 1851.83923225 1708.53403256 1744.31952173\n",
            " 1731.72370862 1650.90591461 1831.37745345 1724.22692105 1705.78768963\n",
            " 1768.27412297 1769.47102639 1655.37408273 1784.090786   1610.98726397]\n"
          ]
        }
      ]
    },
    {
      "cell_type": "markdown",
      "metadata": {
        "id": "WKw3XB0fXD7u"
      },
      "source": [
        "## Linear Regression\n",
        "    Variation-II [[FEATURES : Previous 90 Days Sales + Monthly Item Discount]"
      ]
    },
    {
      "cell_type": "code",
      "execution_count": 88,
      "metadata": {
        "id": "dg1D9Q5FXD7u"
      },
      "outputs": [],
      "source": [
        "#build xtreme gradient boosting model\n",
        "linear = LinearRegression()"
      ]
    },
    {
      "cell_type": "code",
      "execution_count": 89,
      "metadata": {
        "id": "5mQ3OFmmXD7v",
        "colab": {
          "base_uri": "https://localhost:8080/"
        },
        "outputId": "01ebc949-3d44-403e-d4f4-d055d31c3e1c"
      },
      "outputs": [
        {
          "output_type": "stream",
          "name": "stdout",
          "text": [
            "\tMean absolute error (MAE): 14.709304411792491\n"
          ]
        }
      ],
      "source": [
        "#use k-fold CV to evaluate model\n",
        "score1 = cross_val_score(linear, X1, Y1, scoring='neg_mean_absolute_error',\n",
        "                         cv=cv, n_jobs=-1)\n",
        "\n",
        "#view mean absolute error\n",
        "print(\"\\tMean absolute error (MAE):\", mean(absolute(score1)))"
      ]
    },
    {
      "cell_type": "code",
      "execution_count": 90,
      "metadata": {
        "id": "CgeFQVQ3XD7v",
        "colab": {
          "base_uri": "https://localhost:8080/"
        },
        "outputId": "be0715f0-cfb5-4fc8-f074-3d6a0e181053"
      },
      "outputs": [
        {
          "output_type": "stream",
          "name": "stdout",
          "text": [
            "\tRoot Mean squared error (RMSE): 17.693164615620812\n"
          ]
        }
      ],
      "source": [
        "score2 = cross_val_score(linear, X1, Y1, scoring='neg_mean_squared_error',\n",
        "                         cv=cv, n_jobs=-1)\n",
        "print(\"\\tRoot Mean squared error (RMSE):\", sqrt(mean(absolute(score2))))"
      ]
    },
    {
      "cell_type": "code",
      "execution_count": 91,
      "metadata": {
        "id": "em8ism7mXD7v",
        "colab": {
          "base_uri": "https://localhost:8080/"
        },
        "outputId": "c37ed444-4acc-4d8f-de4b-6144a45dff4d"
      },
      "outputs": [
        {
          "output_type": "stream",
          "name": "stdout",
          "text": [
            "\t Mean Absolute Percentage error (MAPE): 0.34691909491211614\n"
          ]
        }
      ],
      "source": [
        "score3 = cross_val_score(linear, X1, Y1, scoring=mape_scorer, cv=cv)\n",
        "print(\"\\t Mean Absolute Percentage error (MAPE):\", mean(absolute(score3)))"
      ]
    },
    {
      "cell_type": "markdown",
      "source": [
        "### Predicted Values"
      ],
      "metadata": {
        "id": "L3Z5oVc2ff1W"
      }
    },
    {
      "cell_type": "code",
      "source": [
        "predictions = cross_val_predict(linear, X1,Y1, cv=cv)\n",
        "print(predictions)"
      ],
      "metadata": {
        "colab": {
          "base_uri": "https://localhost:8080/"
        },
        "id": "XXTMQftUffqD",
        "outputId": "d40b84fa-1f3b-4c4e-a71f-f14a9afaf713"
      },
      "execution_count": 92,
      "outputs": [
        {
          "output_type": "stream",
          "name": "stdout",
          "text": [
            "[1748.8253188  1714.73238451 1675.87280134 1859.54982332 1575.4927999\n",
            " 1825.98382087 1784.65253911 1790.95525654 1831.00209303 1821.25979838\n",
            " 1786.00624743 1663.20025056 1671.71037077 1766.98297919 1612.49941641\n",
            " 1824.82913523 1597.44670541 1717.81600664 1988.27151943 1749.88471432\n",
            " 1842.7416074  1773.97663857 1770.8796867  1718.73778385 1840.22887957\n",
            " 1749.2282096  1575.1183108  1728.83699074 1729.28078792 1584.20510838]\n"
          ]
        }
      ]
    },
    {
      "cell_type": "markdown",
      "source": [
        "# LINEAR REGESSION PREDICTION"
      ],
      "metadata": {
        "id": "UCvu2hs2lPeo"
      }
    },
    {
      "cell_type": "code",
      "source": [
        "linear.fit(x_train, y_train)"
      ],
      "metadata": {
        "colab": {
          "base_uri": "https://localhost:8080/"
        },
        "id": "B8tlWBEjlOY1",
        "outputId": "d07372e2-44a9-4302-e2fc-9ca8b49a0801"
      },
      "execution_count": 93,
      "outputs": [
        {
          "output_type": "execute_result",
          "data": {
            "text/plain": [
              "LinearRegression()"
            ]
          },
          "metadata": {},
          "execution_count": 93
        }
      ]
    },
    {
      "cell_type": "code",
      "source": [
        "linear_prediction2 = pd.DataFrame(linear.predict(Row25))\n",
        "print(linear_prediction2)\n",
        "print(Actual_value2)"
      ],
      "metadata": {
        "colab": {
          "base_uri": "https://localhost:8080/"
        },
        "id": "ddRc5lvjlOWG",
        "outputId": "fc80db2d-ac5a-4065-ee0c-851a1d1b3abe"
      },
      "execution_count": 94,
      "outputs": [
        {
          "output_type": "stream",
          "name": "stdout",
          "text": [
            "             0\n",
            "0  1842.959416\n",
            "24    1836\n",
            "Name: Order Item Quantity, dtype: int64\n"
          ]
        }
      ]
    },
    {
      "cell_type": "code",
      "source": [
        "print(\"\\tMean absolute error (MAE):\", mean_absolute_error(Actual_value2, linear_prediction2))"
      ],
      "metadata": {
        "colab": {
          "base_uri": "https://localhost:8080/"
        },
        "id": "2G4SJSrvlOTC",
        "outputId": "4cba1e2f-a724-48b2-b069-7d83564a2bbd"
      },
      "execution_count": 95,
      "outputs": [
        {
          "output_type": "stream",
          "name": "stdout",
          "text": [
            "\tMean absolute error (MAE): 6.959415841619375\n"
          ]
        }
      ]
    },
    {
      "cell_type": "code",
      "source": [],
      "metadata": {
        "id": "-RfZbhMblOB4"
      },
      "execution_count": 95,
      "outputs": []
    },
    {
      "cell_type": "markdown",
      "metadata": {
        "id": "jY9Qp0YQXD7w"
      },
      "source": [
        "## Random Forest Regressor\n",
        "    Variation-I [FEATURES : Previous 90 Days Sales]"
      ]
    },
    {
      "cell_type": "code",
      "execution_count": 96,
      "metadata": {
        "id": "KKombJ5fXD7w"
      },
      "outputs": [],
      "source": [
        "from sklearn.ensemble import RandomForestRegressor"
      ]
    },
    {
      "cell_type": "code",
      "execution_count": 97,
      "metadata": {
        "id": "7F7uru7jXD7w"
      },
      "outputs": [],
      "source": [
        "# create regressor object\n",
        "regressor = RandomForestRegressor(n_estimators = 100, random_state = 0)"
      ]
    },
    {
      "cell_type": "code",
      "execution_count": 98,
      "metadata": {
        "id": "--ERmS-UXD7x",
        "colab": {
          "base_uri": "https://localhost:8080/"
        },
        "outputId": "b95acf42-42db-4ae6-efee-28064a0881eb"
      },
      "outputs": [
        {
          "output_type": "stream",
          "name": "stdout",
          "text": [
            "\tMean absolute error (MAE): 87.987\n"
          ]
        }
      ],
      "source": [
        "#use k-fold CV to evaluate model\n",
        "score1 = cross_val_score(regressor, X, Y, scoring='neg_mean_absolute_error',\n",
        "                         cv=cv, n_jobs=-1)\n",
        "\n",
        "#view mean absolute error\n",
        "print(\"\\tMean absolute error (MAE):\", mean(absolute(score1)))"
      ]
    },
    {
      "cell_type": "code",
      "execution_count": 99,
      "metadata": {
        "id": "lqTVZo9OXD72",
        "colab": {
          "base_uri": "https://localhost:8080/"
        },
        "outputId": "b23c146a-dcfc-47a5-b214-f7763c8d4f3d"
      },
      "outputs": [
        {
          "output_type": "stream",
          "name": "stdout",
          "text": [
            "\tRoot Mean squared error (RMSE): 108.43156433130223\n"
          ]
        }
      ],
      "source": [
        "score2 = cross_val_score(regressor, X, Y, scoring='neg_mean_squared_error',\n",
        "                         cv=cv, n_jobs=-1)\n",
        "print(\"\\tRoot Mean squared error (RMSE):\", sqrt(mean(absolute(score2))))"
      ]
    },
    {
      "cell_type": "code",
      "execution_count": 100,
      "metadata": {
        "id": "4LeyW6pbXD73",
        "colab": {
          "base_uri": "https://localhost:8080/"
        },
        "outputId": "50c34681-df6e-4227-f141-c16eb8b6ef92"
      },
      "outputs": [
        {
          "output_type": "stream",
          "name": "stdout",
          "text": [
            "\t Mean Absolute Percentage error (MAPE): 4.087195656838638\n"
          ]
        }
      ],
      "source": [
        "score3 = cross_val_score(regressor, X, Y, scoring=mape_scorer, cv=cv)\n",
        "print(\"\\t Mean Absolute Percentage error (MAPE):\", mean(absolute(score3)))"
      ]
    },
    {
      "cell_type": "markdown",
      "source": [
        "### Predicted values"
      ],
      "metadata": {
        "id": "terCvlM-fwyA"
      }
    },
    {
      "cell_type": "code",
      "source": [
        "predictions = cross_val_predict(regressor, X,Y, cv=cv)\n",
        "print(predictions)"
      ],
      "metadata": {
        "colab": {
          "base_uri": "https://localhost:8080/"
        },
        "id": "gZJ_fPi7fwl9",
        "outputId": "6ef693cf-43c5-4239-c1e8-d4003d6a5369"
      },
      "execution_count": 101,
      "outputs": [
        {
          "output_type": "stream",
          "name": "stdout",
          "text": [
            "[1738.39 1790.22 1743.01 1773.37 1718.09 1717.42 1724.46 1716.98 1688.33\n",
            " 1727.85 1727.83 1740.78 1751.21 1720.79 1744.48 1728.14 1779.51 1759.9\n",
            " 1711.28 1746.68 1740.39 1701.32 1775.57 1736.96 1752.   1742.98 1766.25\n",
            " 1695.49 1749.71 1750.62]\n"
          ]
        }
      ]
    },
    {
      "cell_type": "markdown",
      "metadata": {
        "id": "1C0naRcgXD73"
      },
      "source": [
        "## Random Forest Regressor\n",
        "        Variation-II [FEATURES : Previous 90 Days Sales + Monthly Item Discount ]"
      ]
    },
    {
      "cell_type": "code",
      "execution_count": 102,
      "metadata": {
        "id": "vMDhyhvNXD74",
        "colab": {
          "base_uri": "https://localhost:8080/"
        },
        "outputId": "7bae6bbb-08fb-4bbc-c35c-678d8969719c"
      },
      "outputs": [
        {
          "output_type": "stream",
          "name": "stdout",
          "text": [
            "\tMean absolute error (MAE): 34.613333333333344\n"
          ]
        }
      ],
      "source": [
        "#use k-fold CV to evaluate model\n",
        "score1 = cross_val_score(regressor, X1, Y1, scoring='neg_mean_absolute_error',\n",
        "                         cv=cv, n_jobs=-1)\n",
        "\n",
        "#view mean absolute error\n",
        "print(\"\\tMean absolute error (MAE):\", mean(absolute(score1)))"
      ]
    },
    {
      "cell_type": "code",
      "execution_count": 103,
      "metadata": {
        "id": "nKqpA4YdXD74",
        "colab": {
          "base_uri": "https://localhost:8080/"
        },
        "outputId": "0450da93-2473-497c-f693-3f0e37626d6b"
      },
      "outputs": [
        {
          "output_type": "stream",
          "name": "stdout",
          "text": [
            "\tRoot Mean squared error (RMSE): 48.14563760092912\n"
          ]
        }
      ],
      "source": [
        "score2 = cross_val_score(regressor, X1, Y1, scoring='neg_mean_squared_error',\n",
        "                         cv=cv, n_jobs=-1)\n",
        "print(\"\\tRoot Mean squared error (RMSE):\", sqrt(mean(absolute(score2))))"
      ]
    },
    {
      "cell_type": "code",
      "execution_count": 104,
      "metadata": {
        "id": "y3S8Y6NdXD75",
        "colab": {
          "base_uri": "https://localhost:8080/"
        },
        "outputId": "634e5e2b-e27f-4bac-8dba-e3ee55da855f"
      },
      "outputs": [
        {
          "output_type": "stream",
          "name": "stdout",
          "text": [
            "\t Mean Absolute Percentage error (MAPE): 1.111443061757368\n"
          ]
        }
      ],
      "source": [
        "score3 = cross_val_score(regressor, X1, Y1, scoring=mape_scorer, cv=cv)\n",
        "print(\"\\t Mean Absolute Percentage error (MAPE):\", mean(absolute(score3)))"
      ]
    },
    {
      "cell_type": "markdown",
      "source": [
        "### Predicted Values"
      ],
      "metadata": {
        "id": "Ombpc4rmf-T5"
      }
    },
    {
      "cell_type": "code",
      "execution_count": 105,
      "metadata": {
        "id": "l7IqaI-xXD75",
        "colab": {
          "base_uri": "https://localhost:8080/"
        },
        "outputId": "64b0fbcc-2eb2-4420-8b1d-91725b9198b4"
      },
      "outputs": [
        {
          "output_type": "stream",
          "name": "stdout",
          "text": [
            "[1758.91 1686.66 1696.31 1826.56 1633.7  1834.13 1782.52 1795.49 1798.28\n",
            " 1803.6  1794.66 1677.84 1705.65 1771.71 1627.59 1818.71 1617.9  1690.16\n",
            " 1820.95 1791.62 1816.34 1797.43 1794.7  1668.09 1825.12 1766.44 1639.77\n",
            " 1779.07 1743.78 1625.59]\n"
          ]
        }
      ],
      "source": [
        "predictions = cross_val_predict(regressor, X1,Y1, cv=cv)\n",
        "print(predictions)"
      ]
    },
    {
      "cell_type": "markdown",
      "source": [
        "# RANDOM FOREST PREDICTION"
      ],
      "metadata": {
        "id": "6sGZK9XYgEXu"
      }
    },
    {
      "cell_type": "code",
      "source": [
        "regressor.fit(x_train, y_train)"
      ],
      "metadata": {
        "id": "uocD4XmlgEMH",
        "colab": {
          "base_uri": "https://localhost:8080/"
        },
        "outputId": "deded6b4-6e67-411c-b2e7-f8cf5044f08a"
      },
      "execution_count": 106,
      "outputs": [
        {
          "output_type": "execute_result",
          "data": {
            "text/plain": [
              "RandomForestRegressor(random_state=0)"
            ]
          },
          "metadata": {},
          "execution_count": 106
        }
      ]
    },
    {
      "cell_type": "code",
      "source": [
        "Forest_prediction2 = pd.DataFrame(regressor.predict(Row25))\n",
        "print(Forest_prediction2)\n",
        "print(Actual_value2)"
      ],
      "metadata": {
        "colab": {
          "base_uri": "https://localhost:8080/"
        },
        "id": "Ac82daPRldCm",
        "outputId": "d6904b52-0fde-4d8b-c326-a8f1f562a114"
      },
      "execution_count": 107,
      "outputs": [
        {
          "output_type": "stream",
          "name": "stdout",
          "text": [
            "         0\n",
            "0  1824.53\n",
            "24    1836\n",
            "Name: Order Item Quantity, dtype: int64\n"
          ]
        }
      ]
    },
    {
      "cell_type": "code",
      "source": [
        "\n",
        "print(\"\\tMean absolute error (MAE):\", mean_absolute_error(Actual_value2, Forest_prediction2))"
      ],
      "metadata": {
        "id": "mk7wXgC1gD0d",
        "colab": {
          "base_uri": "https://localhost:8080/"
        },
        "outputId": "5c4f7db6-ce8f-4ca8-c869-935296951119"
      },
      "execution_count": 108,
      "outputs": [
        {
          "output_type": "stream",
          "name": "stdout",
          "text": [
            "\tMean absolute error (MAE): 11.470000000000027\n"
          ]
        }
      ]
    },
    {
      "cell_type": "markdown",
      "source": [
        "# ARIMA IMPLEMENTATION"
      ],
      "metadata": {
        "id": "tSPrW9yyVkbe"
      }
    },
    {
      "cell_type": "code",
      "execution_count": 109,
      "metadata": {
        "id": "qEzl22cAXD75"
      },
      "outputs": [],
      "source": [
        "Monthly_Quantity.drop(Monthly_Quantity.tail(1).index,inplace=True)"
      ]
    },
    {
      "cell_type": "code",
      "execution_count": 110,
      "metadata": {
        "id": "Qa42TOdzXD75",
        "colab": {
          "base_uri": "https://localhost:8080/"
        },
        "outputId": "5d12067c-b18d-4143-cf01-909d8d930c78"
      },
      "outputs": [
        {
          "output_type": "execute_result",
          "data": {
            "text/plain": [
              "(33, 1)"
            ]
          },
          "metadata": {},
          "execution_count": 110
        }
      ],
      "source": [
        "Monthly_Quantity.shape"
      ]
    },
    {
      "cell_type": "markdown",
      "source": [
        "Plotting the Rolling Mean and STD of the data to see if it is stationary"
      ],
      "metadata": {
        "id": "uqcH1DqEVsfi"
      }
    },
    {
      "cell_type": "code",
      "source": [
        "plt.figure(figsize=(15,7))\n",
        "plt.plot(Monthly_Quantity[\"Order Item Quantity\"], label='Original')\n",
        "plt.plot(Monthly_Quantity[\"Order Item Quantity\"].rolling(window=3).mean(), color='red', label='Rolling mean')\n",
        "plt.plot(Monthly_Quantity[\"Order Item Quantity\"].rolling(window=3).std(), color='green', label='Rolling std')\n",
        "plt.xlabel('Date', fontsize=12)\n",
        "plt.ylabel('Order Item Quantity', fontsize=12)\n",
        "plt.legend(loc='best')\n",
        "plt.title('Rolling Mean & Standard Deviation')"
      ],
      "metadata": {
        "colab": {
          "base_uri": "https://localhost:8080/",
          "height": 478
        },
        "id": "Kl0IgUmIVw3N",
        "outputId": "026320b3-6238-4e84-8e0d-077c017e7705"
      },
      "execution_count": 111,
      "outputs": [
        {
          "output_type": "execute_result",
          "data": {
            "text/plain": [
              "Text(0.5, 1.0, 'Rolling Mean & Standard Deviation')"
            ]
          },
          "metadata": {},
          "execution_count": 111
        },
        {
          "output_type": "display_data",
          "data": {
            "text/plain": [
              "<Figure size 1080x504 with 1 Axes>"
            ],
            "image/png": "[encoded data removed]"
          },
          "metadata": {
            "needs_background": "light"
          }
        }
      ]
    },
    {
      "cell_type": "code",
      "execution_count": 112,
      "metadata": {
        "id": "0f9orZYQXD76"
      },
      "outputs": [],
      "source": [
        "import statsmodels.api as sm\n",
        "from statsmodels.tsa.stattools import adfuller\n",
        "from statsmodels.graphics.tsaplots import plot_acf, plot_pacf, plot_predict\n",
        "from statsmodels.tsa.arima.model import ARIMA\n",
        "%matplotlib inline"
      ]
    },
    {
      "cell_type": "markdown",
      "source": [
        "### TEST for checking the stationarity of Data"
      ],
      "metadata": {
        "id": "gh0rR4lDV5o2"
      }
    },
    {
      "cell_type": "code",
      "execution_count": 113,
      "metadata": {
        "id": "5h0E7KhdXD76",
        "colab": {
          "base_uri": "https://localhost:8080/"
        },
        "outputId": "7a20bae6-f35e-403b-e774-782598db23b9"
      },
      "outputs": [
        {
          "output_type": "stream",
          "name": "stdout",
          "text": [
            "p-value: 0.011869758676549954\n"
          ]
        }
      ],
      "source": [
        "adf_test = adfuller(Monthly_Quantity)\n",
        "print(f'p-value: {adf_test[1]}')"
      ]
    },
    {
      "cell_type": "markdown",
      "source": [
        "Since the p-value is less than 0.05, it means data is stationary"
      ],
      "metadata": {
        "id": "g-S4swIpWBED"
      }
    },
    {
      "cell_type": "code",
      "execution_count": 114,
      "metadata": {
        "id": "lgctCpLfXD76",
        "colab": {
          "base_uri": "https://localhost:8080/",
          "height": 482
        },
        "outputId": "ac87b3a0-c48d-4067-9c8b-32163dd9dd13"
      },
      "outputs": [
        {
          "output_type": "display_data",
          "data": {
            "text/plain": [
              "<Figure size 1008x504 with 4 Axes>"
            ],
            "image/png": "[encoded data removed]"
          },
          "metadata": {
            "needs_background": "light"
          }
        }
      ],
      "source": [
        "def seasonal_decompose (Monthly_Quantity):\n",
        "    decomposition = sm.tsa.seasonal_decompose(Monthly_Quantity, model='additive', extrapolate_trend=12)\n",
        "    \n",
        "    trend = decomposition.trend\n",
        "    seasonal = decomposition.seasonal\n",
        "    residual = decomposition.resid\n",
        "    \n",
        "    fig = decomposition.plot()\n",
        "    fig.set_size_inches(14, 7)\n",
        "    plt.show()\n",
        "    \n",
        "    return trend, seasonal, residual\n",
        " \n",
        "trend, seasonal, residual = seasonal_decompose(Monthly_Quantity)"
      ]
    },
    {
      "cell_type": "code",
      "source": [
        "\n",
        "sales_agg_monthly = Indoor_Outdoor_Games_Sold.resample(\"M\")[[\"Order Item Quantity\"]].mean()\n",
        "sales_agg_monthly.plot()\n",
        "plt.title('Mean Monthly Sales')\n",
        "\n",
        "sales_agg_yearly = Indoor_Outdoor_Games_Sold.resample(\"Y\")[[\"Order Item Quantity\"]].mean()\n",
        "sales_agg_yearly.plot()\n",
        "plt.title('Mean Yearly Sales')\n",
        "\n",
        "sales_agg_weekly = Indoor_Outdoor_Games_Sold.resample(\"W\")[[\"Order Item Quantity\"]].mean()\n",
        "sales_agg_weekly.plot()\n",
        "plt.title('Mean weekly Sales')\n",
        "\n",
        "sales_agg_daily = Indoor_Outdoor_Games_Sold.resample(\"D\")[[\"Order Item Quantity\"]].mean()\n",
        "sales_agg_daily.plot()\n",
        "plt.title('Daily_Sales')"
      ],
      "metadata": {
        "colab": {
          "base_uri": "https://localhost:8080/",
          "height": 1000
        },
        "id": "Ng2VrpCMWWeN",
        "outputId": "b3715b42-6086-4e75-d587-0dd1452ecedf"
      },
      "execution_count": 115,
      "outputs": [
        {
          "output_type": "execute_result",
          "data": {
            "text/plain": [
              "Text(0.5, 1.0, 'Daily_Sales')"
            ]
          },
          "metadata": {},
          "execution_count": 115
        },
        {
          "output_type": "display_data",
          "data": {
            "text/plain": [
              "<Figure size 432x288 with 1 Axes>"
            ],
            "image/png": "[encoded data removed]"
          },
          "metadata": {
            "needs_background": "light"
          }
        },
        {
          "output_type": "display_data",
          "data": {
            "text/plain": [
              "<Figure size 432x288 with 1 Axes>"
            ],
            "image/png": "[encoded data removed]"
          },
          "metadata": {
            "needs_background": "light"
          }
        },
        {
          "output_type": "display_data",
          "data": {
            "text/plain": [
              "<Figure size 432x288 with 1 Axes>"
            ],
            "image/png": "[encoded data removed]"
          },
          "metadata": {
            "needs_background": "light"
          }
        },
        {
          "output_type": "display_data",
          "data": {
            "text/plain": [
              "<Figure size 432x288 with 1 Axes>"
            ],
            "image/png": "[encoded data removed]"
          },
          "metadata": {
            "needs_background": "light"
          }
        }
      ]
    },
    {
      "cell_type": "code",
      "execution_count": 116,
      "metadata": {
        "id": "ReSU3yDYXD77",
        "colab": {
          "base_uri": "https://localhost:8080/",
          "height": 590
        },
        "outputId": "199bbc0e-cfc1-49fe-dd7d-1fcb0085a84e"
      },
      "outputs": [
        {
          "output_type": "stream",
          "name": "stdout",
          "text": [
            "Looking in indexes: https://pypi.org/simple, https://us-python.pkg.dev/colab-wheels/public/simple/\n",
            "Collecting pmdarima\n",
            "  Downloading pmdarima-2.0.2-cp38-cp38-manylinux_2_17_x86_64.manylinux2014_x86_64.manylinux_2_28_x86_64.whl (1.9 MB)\n",
            "\u001b[2K     \u001b[90m━━━━━━━━━━━━━━━━━━━━━━━━━━━━━━━━━━━━━━━━\u001b[0m \u001b[32m1.9/1.9 MB\u001b[0m \u001b[31m65.1 MB/s\u001b[0m eta \u001b[36m0:00:00\u001b[0m\n",
            "\u001b[?25hCollecting statsmodels>=0.13.2\n",
            "  Downloading statsmodels-0.13.5-cp38-cp38-manylinux_2_17_x86_64.manylinux2014_x86_64.whl (9.9 MB)\n",
            "\u001b[2K     \u001b[90m━━━━━━━━━━━━━━━━━━━━━━━━━━━━━━━━━━━━━━━━\u001b[0m \u001b[32m9.9/9.9 MB\u001b[0m \u001b[31m92.7 MB/s\u001b[0m eta \u001b[36m0:00:00\u001b[0m\n",
            "\u001b[?25hRequirement already satisfied: numpy>=1.21.2 in /usr/local/lib/python3.8/dist-packages (from pmdarima) (1.21.6)\n",
            "Requirement already satisfied: urllib3 in /usr/local/lib/python3.8/dist-packages (from pmdarima) (1.24.3)\n",
            "Requirement already satisfied: Cython!=0.29.18,!=0.29.31,>=0.29 in /usr/local/lib/python3.8/dist-packages (from pmdarima) (0.29.32)\n",
            "Requirement already satisfied: scipy>=1.3.2 in /usr/local/lib/python3.8/dist-packages (from pmdarima) (1.7.3)\n",
            "Requirement already satisfied: joblib>=0.11 in /usr/local/lib/python3.8/dist-packages (from pmdarima) (1.2.0)\n",
            "Requirement already satisfied: pandas>=0.19 in /usr/local/lib/python3.8/dist-packages (from pmdarima) (1.3.5)\n",
            "Requirement already satisfied: scikit-learn>=0.22 in /usr/local/lib/python3.8/dist-packages (from pmdarima) (1.0.2)\n",
            "Requirement already satisfied: setuptools!=50.0.0,>=38.6.0 in /usr/local/lib/python3.8/dist-packages (from pmdarima) (57.4.0)\n",
            "Requirement already satisfied: pytz>=2017.3 in /usr/local/lib/python3.8/dist-packages (from pandas>=0.19->pmdarima) (2022.7)\n",
            "Requirement already satisfied: python-dateutil>=2.7.3 in /usr/local/lib/python3.8/dist-packages (from pandas>=0.19->pmdarima) (2.8.2)\n",
            "Requirement already satisfied: threadpoolctl>=2.0.0 in /usr/local/lib/python3.8/dist-packages (from scikit-learn>=0.22->pmdarima) (3.1.0)\n",
            "Requirement already satisfied: packaging>=21.3 in /usr/local/lib/python3.8/dist-packages (from statsmodels>=0.13.2->pmdarima) (21.3)\n",
            "Requirement already satisfied: patsy>=0.5.2 in /usr/local/lib/python3.8/dist-packages (from statsmodels>=0.13.2->pmdarima) (0.5.3)\n",
            "Requirement already satisfied: pyparsing!=3.0.5,>=2.0.2 in /usr/local/lib/python3.8/dist-packages (from packaging>=21.3->statsmodels>=0.13.2->pmdarima) (3.0.9)\n",
            "Requirement already satisfied: six in /usr/local/lib/python3.8/dist-packages (from patsy>=0.5.2->statsmodels>=0.13.2->pmdarima) (1.15.0)\n",
            "Installing collected packages: statsmodels, pmdarima\n",
            "  Attempting uninstall: statsmodels\n",
            "    Found existing installation: statsmodels 0.12.2\n",
            "    Uninstalling statsmodels-0.12.2:\n",
            "      Successfully uninstalled statsmodels-0.12.2\n",
            "Successfully installed pmdarima-2.0.2 statsmodels-0.13.5\n"
          ]
        },
        {
          "output_type": "display_data",
          "data": {
            "application/vnd.colab-display-data+json": {
              "pip_warning": {
                "packages": [
                  "statsmodels"
                ]
              }
            }
          },
          "metadata": {}
        }
      ],
      "source": [
        "pip install pmdarima"
      ]
    },
    {
      "cell_type": "code",
      "source": [
        "from pmdarima import auto_arima"
      ],
      "metadata": {
        "id": "ZN5GHtTCXDzR"
      },
      "execution_count": 117,
      "outputs": []
    },
    {
      "cell_type": "markdown",
      "metadata": {
        "id": "b-rfldnNXD77"
      },
      "source": [
        "Adding Exogenous Variable\n"
      ]
    },
    {
      "cell_type": "code",
      "source": [
        "Monthly_Discount.drop(Monthly_Discount.tail(1).index,inplace=True)\n",
        "Monthly_Discount.shape\n"
      ],
      "metadata": {
        "colab": {
          "base_uri": "https://localhost:8080/"
        },
        "id": "TXUcclu1XMSQ",
        "outputId": "fcf2f7b4-f4a6-42a5-835d-7838664318c7"
      },
      "execution_count": 118,
      "outputs": [
        {
          "output_type": "execute_result",
          "data": {
            "text/plain": [
              "(33, 1)"
            ]
          },
          "metadata": {},
          "execution_count": 118
        }
      ]
    },
    {
      "cell_type": "code",
      "source": [
        "Exog = Monthly_Discount[['Order Item Discount']].to_numpy()"
      ],
      "metadata": {
        "id": "waQbq71EXM4b"
      },
      "execution_count": 119,
      "outputs": []
    },
    {
      "cell_type": "code",
      "source": [
        "\n",
        "\n",
        "# Split the data into training and test sets\n",
        "train_data = Monthly_Quantity[:int(0.8*len(Monthly_Quantity))]\n",
        "test_data = Monthly_Quantity[int(0.8*len(Monthly_Quantity)):]\n",
        "\n",
        "# Create an auto_arima model\n",
        "model = auto_arima(train_data, exogenous=Exog, start_p=1, start_q=1,\n",
        "                   max_p=5, max_q=5, m=1, d=None, \n",
        "                    trace=True,\n",
        "                   error_action='ignore',  # don't want to know if an order does not work\n",
        "                   suppress_warnings=True,  # don't want convergence warnings\n",
        "                   stepwise=True)  # set to stepwise"
      ],
      "metadata": {
        "colab": {
          "base_uri": "https://localhost:8080/"
        },
        "id": "EVZx32HwXPwv",
        "outputId": "d51e49b9-c036-42a5-a803-c3df6100611a"
      },
      "execution_count": 120,
      "outputs": [
        {
          "output_type": "stream",
          "name": "stdout",
          "text": [
            "Performing stepwise search to minimize aic\n",
            " ARIMA(1,0,1)(0,0,0)[0] intercept   : AIC=322.573, Time=0.09 sec\n",
            " ARIMA(0,0,0)(0,0,0)[0] intercept   : AIC=319.594, Time=0.01 sec\n",
            " ARIMA(1,0,0)(0,0,0)[0] intercept   : AIC=319.983, Time=0.02 sec\n",
            " ARIMA(0,0,1)(0,0,0)[0] intercept   : AIC=320.382, Time=0.04 sec\n",
            " ARIMA(0,0,0)(0,0,0)[0]             : AIC=464.530, Time=0.01 sec\n",
            "\n",
            "Best model:  ARIMA(0,0,0)(0,0,0)[0] intercept\n",
            "Total fit time: 0.185 seconds\n"
          ]
        }
      ]
    },
    {
      "cell_type": "code",
      "source": [
        "\n",
        "# Fit the model to the training data\n",
        "model.fit(train_data)\n",
        "\n",
        "# Make predictions on the test data\n",
        "predictions = model.predict(n_periods=len(test_data))"
      ],
      "metadata": {
        "id": "nGaxMUhbXRA0"
      },
      "execution_count": 121,
      "outputs": []
    },
    {
      "cell_type": "code",
      "source": [
        "predictions"
      ],
      "metadata": {
        "colab": {
          "base_uri": "https://localhost:8080/"
        },
        "id": "shzUzStdXf7U",
        "outputId": "36f93b48-9c5f-497a-b340-bba468c3850b"
      },
      "execution_count": 122,
      "outputs": [
        {
          "output_type": "execute_result",
          "data": {
            "text/plain": [
              "2017-03-01    1761.846154\n",
              "2017-04-01    1761.846154\n",
              "2017-05-01    1761.846154\n",
              "2017-06-01    1761.846154\n",
              "2017-07-01    1761.846154\n",
              "2017-08-01    1761.846154\n",
              "2017-09-01    1761.846154\n",
              "Freq: MS, dtype: float64"
            ]
          },
          "metadata": {},
          "execution_count": 122
        }
      ]
    },
    {
      "cell_type": "markdown",
      "source": [
        "Evaluate the model's performance"
      ],
      "metadata": {
        "id": "1b6m5CD4Xmlm"
      }
    },
    {
      "cell_type": "code",
      "source": [
        "MAE = (mean_absolute_error(predictions,test_data))\n",
        "print(MAE)"
      ],
      "metadata": {
        "colab": {
          "base_uri": "https://localhost:8080/"
        },
        "id": "VXyj-DVvXhz5",
        "outputId": "105f8c38-51a1-4937-f7b8-53319dda73b3"
      },
      "execution_count": 123,
      "outputs": [
        {
          "output_type": "stream",
          "name": "stdout",
          "text": [
            "82.93406593406563\n"
          ]
        }
      ]
    },
    {
      "cell_type": "code",
      "source": [
        "rmse = sqrt(mean_squared_error(test_data, predictions))\n",
        "print(f' Root Mean Squared Error: {rmse:.3f}')"
      ],
      "metadata": {
        "colab": {
          "base_uri": "https://localhost:8080/"
        },
        "id": "oT3-ZaEVXogl",
        "outputId": "db8719d4-a793-4eaa-f635-7d19bb46c7b7"
      },
      "execution_count": 124,
      "outputs": [
        {
          "output_type": "stream",
          "name": "stdout",
          "text": [
            " Root Mean Squared Error: 106.528\n"
          ]
        }
      ]
    },
    {
      "cell_type": "code",
      "source": [
        "MAPE = (mean_absolute_percentage_error(test_data, predictions))*100\n",
        "print(\"MAPE:\", MAPE)"
      ],
      "metadata": {
        "colab": {
          "base_uri": "https://localhost:8080/"
        },
        "id": "VEy6Y9goXp1n",
        "outputId": "ca08a855-b984-4e49-d05e-a1d9267c94dd"
      },
      "execution_count": 125,
      "outputs": [
        {
          "output_type": "stream",
          "name": "stdout",
          "text": [
            "MAPE: 5.060166524955935\n"
          ]
        }
      ]
    },
    {
      "cell_type": "markdown",
      "source": [
        "# ARIMA PREDICTION"
      ],
      "metadata": {
        "id": "6_7goTRNllHw"
      }
    },
    {
      "cell_type": "code",
      "source": [
        "Arima_prediction2 = predictions.iloc[1:2]\n",
        "Arima_prediction2 = Arima_prediction2.tolist()\n",
        "print(Arima_prediction2)\n",
        "print(Actual_value2)"
      ],
      "metadata": {
        "colab": {
          "base_uri": "https://localhost:8080/"
        },
        "id": "WsTRtumglktu",
        "outputId": "e403b4b0-70c2-4904-db55-9008b41fd538"
      },
      "execution_count": 143,
      "outputs": [
        {
          "output_type": "stream",
          "name": "stdout",
          "text": [
            "[1761.8461538461531]\n",
            "24    1836\n",
            "Name: Order Item Quantity, dtype: int64\n"
          ]
        }
      ]
    },
    {
      "cell_type": "code",
      "source": [
        "print(\"\\tMean absolute error (MAE):\", mean_absolute_error(Actual_value2, Arima_prediction2))"
      ],
      "metadata": {
        "colab": {
          "base_uri": "https://localhost:8080/"
        },
        "id": "jj2lIzHwlkq7",
        "outputId": "d08add90-daa3-4b95-d773-8b98f6d7efbe"
      },
      "execution_count": 144,
      "outputs": [
        {
          "output_type": "stream",
          "name": "stdout",
          "text": [
            "\tMean absolute error (MAE): 74.15384615384687\n"
          ]
        }
      ]
    },
    {
      "cell_type": "markdown",
      "source": [
        "#Exponential Smoothing"
      ],
      "metadata": {
        "id": "gmz1m-7oXtSg"
      }
    },
    {
      "cell_type": "code",
      "source": [
        "from statsmodels.tsa.holtwinters import SimpleExpSmoothing\n",
        "from statsmodels.tsa.api import ExponentialSmoothing, SimpleExpSmoothing, Holt"
      ],
      "metadata": {
        "id": "bdY1ig2LXrHV"
      },
      "execution_count": 127,
      "outputs": []
    },
    {
      "cell_type": "code",
      "source": [
        "def simple_exponential_smoothing(MonthlyItemQuantity, alpha):\n",
        "    \"\"\"\n",
        "    Perform simple exponential smoothing.\n",
        "    Args:\n",
        "        series: input series\n",
        "        alpha: smoothing factor (between 0 and 1)\n",
        "    Returns:\n",
        "        smoothed series\n",
        "    \"\"\"\n",
        "    # Initialize the smoothed series with the first value of the input series\n",
        "    smoothed_series = [MonthlyItemQuantity[0]]\n",
        "    # Loop through the rest of the series\n",
        "    for t in range(1, len(MonthlyItemQuantity)):\n",
        "        # Calculate the smoothed value for time t\n",
        "        smoothed_series.append(alpha * MonthlyItemQuantity[t] + (1 - alpha) * smoothed_series[t-1])\n",
        "    return smoothed_series"
      ],
      "metadata": {
        "id": "Ixb0NNb_Xvo3"
      },
      "execution_count": 128,
      "outputs": []
    },
    {
      "cell_type": "code",
      "source": [
        "alpha = 0.7\n",
        "\n",
        "smoothed_series = simple_exponential_smoothing(MonthlyItemQuantity, alpha)\n",
        "print(smoothed_series)"
      ],
      "metadata": {
        "colab": {
          "base_uri": "https://localhost:8080/"
        },
        "id": "--zbTIv6Xw2f",
        "outputId": "1c89adf8-f5d9-4f53-f949-f29decf87ea8"
      },
      "execution_count": 129,
      "outputs": [
        {
          "output_type": "stream",
          "name": "stdout",
          "text": [
            "[1765, 1727.9, 1709.07, 1797.221, 1635.3663, 1745.70989, 1785.8129669999998, 1788.0438901, 1835.6131670299999, 1831.683950109, 1795.5051850327, 1706.95155550981, 1665.685466652943, 1738.7056399958828, 1631.1116919987649, 1752.8335075996295, 1649.350052279889, 1713.5050156839666, 1910.55150470519, 1804.465451411557, 1843.3396354234674, 1792.70189062704, 1772.610567188112, 1735.7831701564337, 1805.93495104693, 1784.2804853140792, 1621.6841455942235, 1701.705243678267, 1699.81157310348, 1636.243471931044]\n"
          ]
        }
      ]
    },
    {
      "cell_type": "code",
      "source": [
        "errors = []\n",
        "for a, f in zip(MonthlyItemQuantity, smoothed_series):\n",
        "    errors.append(a - f)\n",
        "\n",
        "# Calculate the MSE\n",
        "mse = np.sum(np.square(errors)) / len(errors)\n",
        "\n",
        "# Calculate the RMSE\n",
        "rmse = np.sqrt(mse)\n",
        "\n",
        "print(\"Errors:\", errors)\n",
        "print(\"RMSE:\", rmse)\n",
        "\n",
        "MAE = (mean_absolute_error(smoothed_series,MonthlyItemQuantity))\n",
        "print(\"MAE:\", MAE)\n",
        "\n",
        "MAPE = (mean_absolute_percentage_error(smoothed_series, MonthlyItemQuantity))*100\n",
        "print(\"MAPE:\", MAPE)\n"
      ],
      "metadata": {
        "colab": {
          "base_uri": "https://localhost:8080/"
        },
        "id": "QFDnaxyMXx_n",
        "outputId": "06b5a55f-127e-42ea-ff82-cd89ff634572"
      },
      "execution_count": 130,
      "outputs": [
        {
          "output_type": "stream",
          "name": "stdout",
          "text": [
            "Errors: [0, -15.900000000000091, -8.069999999999936, 37.778999999999996, -69.36629999999991, 47.29010999999991, 17.187033000000156, 0.9561099000000013, 20.386832970000114, -1.6839501090000795, -15.505185032699956, -37.95155550981008, -17.685466652942978, 31.294360004117152, -46.111691998764854, 52.166492400370544, -44.35005227988904, 27.494984316033424, 84.44849529481007, -45.46545141155707, 16.66036457653263, -21.70189062704003, -8.6105671881121, -15.783170156433698, 30.06504895306989, -9.280485314079215, -69.68414559422354, 34.294756321733075, -0.8115731034799865, -27.24347193104404]\n",
            "RMSE: 35.6308505474219\n",
            "MAE: 28.50761815485812\n",
            "MAPE: 1.6455944049280409\n"
          ]
        }
      ]
    },
    {
      "cell_type": "markdown",
      "source": [
        "# Exponential Smoothing PREDICTION"
      ],
      "metadata": {
        "id": "rT1tyJ_uluzP"
      }
    },
    {
      "cell_type": "code",
      "source": [
        "Monthly_Quantity.shape\n"
      ],
      "metadata": {
        "id": "S5SEiyXpXzZt",
        "colab": {
          "base_uri": "https://localhost:8080/"
        },
        "outputId": "5809ec5c-408d-493d-c330-9adb730e1e77"
      },
      "execution_count": 131,
      "outputs": [
        {
          "output_type": "execute_result",
          "data": {
            "text/plain": [
              "(33, 1)"
            ]
          },
          "metadata": {},
          "execution_count": 131
        }
      ]
    },
    {
      "cell_type": "code",
      "source": [
        "train_data = Monthly_Quantity[:int(0.8*len(Monthly_Quantity))]\n",
        "test_data = Monthly_Quantity[int(0.8*len(Monthly_Quantity)):]"
      ],
      "metadata": {
        "id": "vp9lMah4lr9P"
      },
      "execution_count": 132,
      "outputs": []
    },
    {
      "cell_type": "code",
      "source": [
        "alpha = 0.7"
      ],
      "metadata": {
        "id": "5ckRRsJqlr3U"
      },
      "execution_count": 133,
      "outputs": []
    },
    {
      "cell_type": "code",
      "source": [
        "model = SimpleExpSmoothing(train_data['Order Item Quantity'])\n",
        "fit = model.fit(smoothing_level=alpha)"
      ],
      "metadata": {
        "colab": {
          "base_uri": "https://localhost:8080/"
        },
        "id": "YJQOrQwclrxS",
        "outputId": "94b93731-d82a-4ef6-f036-70b8b11525dd"
      },
      "execution_count": 134,
      "outputs": [
        {
          "output_type": "stream",
          "name": "stderr",
          "text": [
            "/usr/local/lib/python3.8/dist-packages/statsmodels/tsa/base/tsa_model.py:524: ValueWarning: No frequency information was provided, so inferred frequency MS will be used.\n",
            "  # If an index is available, see if it is a date-based index or if it\n"
          ]
        }
      ]
    },
    {
      "cell_type": "code",
      "source": [
        "ES_predictions2 = fit.predict(start=test_data.index[0], end=test_data.index[-1])"
      ],
      "metadata": {
        "id": "GSavw-mjl1w2"
      },
      "execution_count": 135,
      "outputs": []
    },
    {
      "cell_type": "code",
      "source": [
        "ES_prediction2 = ES_predictions2.iloc[1:2]\n",
        "ES_prediction2 = ES_prediction2.tolist()\n",
        "ES_prediction2"
      ],
      "metadata": {
        "colab": {
          "base_uri": "https://localhost:8080/"
        },
        "id": "qYsDk0WBl1tJ",
        "outputId": "c2d130f1-87b9-49bd-9443-faa2934612e4"
      },
      "execution_count": 136,
      "outputs": [
        {
          "output_type": "execute_result",
          "data": {
            "text/plain": [
              "[1772.610567188192]"
            ]
          },
          "metadata": {},
          "execution_count": 136
        }
      ]
    },
    {
      "cell_type": "code",
      "source": [
        "print(\"\\tMean absolute error (MAE):\", mean_absolute_error(Actual_value2, ES_prediction2))"
      ],
      "metadata": {
        "id": "4_67N9GENtRh",
        "colab": {
          "base_uri": "https://localhost:8080/"
        },
        "outputId": "8214aa5d-7653-4d70-f631-ed96df3caf68"
      },
      "execution_count": 137,
      "outputs": [
        {
          "output_type": "stream",
          "name": "stdout",
          "text": [
            "\tMean absolute error (MAE): 63.38943281180809\n"
          ]
        }
      ]
    },
    {
      "cell_type": "code",
      "source": [],
      "metadata": {
        "id": "kyzMaNi_l-Tt"
      },
      "execution_count": 137,
      "outputs": []
    },
    {
      "cell_type": "markdown",
      "source": [
        "# COMBINING PREDICTION OF THE 5 MODELS"
      ],
      "metadata": {
        "id": "jFWVgYjxmA3_"
      }
    },
    {
      "cell_type": "code",
      "source": [
        "df_vertical = pd.concat([xgboost_prediction2, linear_prediction2, Forest_prediction2])"
      ],
      "metadata": {
        "id": "oECmvrlGl-Q0"
      },
      "execution_count": 138,
      "outputs": []
    },
    {
      "cell_type": "code",
      "source": [
        "array = df_vertical.values\n",
        "array"
      ],
      "metadata": {
        "colab": {
          "base_uri": "https://localhost:8080/"
        },
        "id": "TxAtIb1Gl-N3",
        "outputId": "f9932475-68ae-41cb-80fc-de2a6cec1765"
      },
      "execution_count": 139,
      "outputs": [
        {
          "output_type": "execute_result",
          "data": {
            "text/plain": [
              "array([[1842.43933105],\n",
              "       [1842.95941584],\n",
              "       [1824.53      ]])"
            ]
          },
          "metadata": {},
          "execution_count": 139
        }
      ]
    },
    {
      "cell_type": "code",
      "source": [
        "array = np.append(array, Arima_prediction2)\n",
        "print(array)"
      ],
      "metadata": {
        "colab": {
          "base_uri": "https://localhost:8080/"
        },
        "id": "VAXVxKsll-LA",
        "outputId": "bfcea2d8-c93e-4029-ee2e-6d174a5085a1"
      },
      "execution_count": 140,
      "outputs": [
        {
          "output_type": "stream",
          "name": "stdout",
          "text": [
            "[1842.43933105 1842.95941584 1824.53       1761.84615385]\n"
          ]
        }
      ]
    },
    {
      "cell_type": "markdown",
      "source": [
        "# INPUT FOR Multilayer perceptron"
      ],
      "metadata": {
        "id": "wY-2ZQTcmJQR"
      }
    },
    {
      "cell_type": "code",
      "source": [
        "input_array = np.append(array, ES_prediction2)\n",
        "print(input_array)"
      ],
      "metadata": {
        "colab": {
          "base_uri": "https://localhost:8080/"
        },
        "id": "uVTac16bl-IJ",
        "outputId": "9130facc-74e9-490d-c634-7a6e298332d9"
      },
      "execution_count": 141,
      "outputs": [
        {
          "output_type": "stream",
          "name": "stdout",
          "text": [
            "[1842.43933105 1842.95941584 1824.53       1761.84615385 1772.61056719]\n"
          ]
        }
      ]
    },
    {
      "cell_type": "code",
      "source": [
        "Actual_value2"
      ],
      "metadata": {
        "colab": {
          "base_uri": "https://localhost:8080/"
        },
        "id": "TXS4b5LKl-FT",
        "outputId": "a92165a1-ee6d-4eca-fbcb-26b49651983e"
      },
      "execution_count": 177,
      "outputs": [
        {
          "output_type": "execute_result",
          "data": {
            "text/plain": [
              "24    1836\n",
              "Name: Order Item Quantity, dtype: int64"
            ]
          },
          "metadata": {},
          "execution_count": 177
        }
      ]
    },
    {
      "cell_type": "code",
      "source": [],
      "metadata": {
        "id": "wlEim51dl-CC"
      },
      "execution_count": 142,
      "outputs": []
    },
    {
      "cell_type": "markdown",
      "source": [
        "# FINAL OUTPUT"
      ],
      "metadata": {
        "id": "ga9TXQenuSRK"
      }
    },
    {
      "cell_type": "markdown",
      "source": [
        "Implement multilayer perceptron to get the final forecast for Indoor Outdoor Games Category"
      ],
      "metadata": {
        "id": "NwA_K0zRuSKi"
      }
    },
    {
      "cell_type": "code",
      "source": [
        "input = input_array"
      ],
      "metadata": {
        "id": "EL9Nn9LPl8FS"
      },
      "execution_count": 156,
      "outputs": []
    },
    {
      "cell_type": "code",
      "source": [
        "input\n"
      ],
      "metadata": {
        "colab": {
          "base_uri": "https://localhost:8080/"
        },
        "id": "8y6KQxFpw1NQ",
        "outputId": "3ca98f68-2304-4849-9df7-e2efe2e6a2be"
      },
      "execution_count": 157,
      "outputs": [
        {
          "output_type": "execute_result",
          "data": {
            "text/plain": [
              "array([1842.43933105, 1842.95941584, 1824.53      , 1761.84615385,\n",
              "       1772.61056719])"
            ]
          },
          "metadata": {},
          "execution_count": 157
        }
      ]
    },
    {
      "cell_type": "code",
      "source": [
        "import numpy as np\n",
        "\n",
        "class MLP:\n",
        "    def __init__(self, input_size, hidden_size_1, hidden_size_2, output_size):\n",
        "        self.input_size = input_size\n",
        "        self.hidden_size_1 = hidden_size_1\n",
        "        self.hidden_size_2 = hidden_size_2\n",
        "        self.output_size = output_size\n",
        "\n",
        "        # Initialize weights and biases\n",
        "        self.weights_input_hidden_1 = np.random.randn(self.input_size, self.hidden_size_1)\n",
        "        self.biases_input_hidden_1 = np.zeros(self.hidden_size_1)\n",
        "        self.weights_hidden_1_hidden_2 = np.random.randn(self.hidden_size_1, self.hidden_size_2)\n",
        "        self.biases_hidden_1_hidden_2 = np.zeros(self.hidden_size_2)\n",
        "        self.weights_hidden_2_output = np.random.randn(self.hidden_size_2, self.output_size)\n",
        "        self.biases_hidden_2_output = np.zeros(self.output_size)\n",
        "\n",
        "    def forward(self, input):\n",
        "        # Propagate input through the network\n",
        "        self.hidden_1 = np.dot(input, self.weights_input_hidden_1) + self.biases_input_hidden_1\n",
        "        self.hidden_2 = np.dot(self.hidden_1, self.weights_hidden_1_hidden_2) + self.biases_hidden_1_hidden_2\n",
        "        self.output = np.dot(self.hidden_2, self.weights_hidden_2_output) + self.biases_hidden_2_output\n",
        "        return self.output\n",
        "\n",
        "# Create an MLP with 5 inputs,\n",
        "\n",
        "\n",
        "# Create an MLP with 5 inputs, 2 hidden layers, and 1 output\n",
        "mlp = MLP(5, 4, 3, 1)\n",
        "\n",
        "# Propagate some input through the network and print the output\n",
        "input = input_array\n",
        "output = mlp.forward(input)\n",
        "print(output)\n",
        "\n",
        "\n"
      ],
      "metadata": {
        "colab": {
          "base_uri": "https://localhost:8080/"
        },
        "id": "bGZPm2-Qw2dl",
        "outputId": "413a8e65-458f-4fe5-be07-b10112e2a06d"
      },
      "execution_count": 671,
      "outputs": [
        {
          "output_type": "stream",
          "name": "stdout",
          "text": [
            "[1815.12273728]\n"
          ]
        }
      ]
    },
    {
      "cell_type": "markdown",
      "source": [
        "# Calculate Error for final Output"
      ],
      "metadata": {
        "id": "D72oDmzOGXVA"
      }
    },
    {
      "cell_type": "code",
      "source": [
        "print(\"\\tMean absolute error (MAE):\", mean_absolute_error(Actual_value2, output))"
      ],
      "metadata": {
        "colab": {
          "base_uri": "https://localhost:8080/"
        },
        "id": "Ox7s8c9ZxZYH",
        "outputId": "6a27c22d-b22e-4920-f6f0-c92f9f7caceb"
      },
      "execution_count": 672,
      "outputs": [
        {
          "output_type": "stream",
          "name": "stdout",
          "text": [
            "\tMean absolute error (MAE): 20.877262718590373\n"
          ]
        }
      ]
    },
    {
      "cell_type": "code",
      "source": [],
      "metadata": {
        "id": "bqbQ9Qk0FL5Q"
      },
      "execution_count": null,
      "outputs": []
    }
  ],
  "metadata": {
    "kernelspec": {
      "display_name": "Python 3",
      "language": "python",
      "name": "python3"
    },
    "language_info": {
      "codemirror_mode": {
        "name": "ipython",
        "version": 3
      },
      "file_extension": ".py",
      "mimetype": "text/x-python",
      "name": "python",
      "nbconvert_exporter": "python",
      "pygments_lexer": "ipython3",
      "version": "3.8.3"
    },
    "colab": {
      "provenance": []
    }
  },
  "nbformat": 4,
  "nbformat_minor": 0
}